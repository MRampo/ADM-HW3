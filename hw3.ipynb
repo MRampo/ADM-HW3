{
 "cells": [
  {
   "cell_type": "code",
   "execution_count": 30,
   "metadata": {},
   "outputs": [],
   "source": [
    "from bs4 import BeautifulSoup as bs\n",
    "import requests\n",
    "from tqdm import tqdm \n",
    "import json\n",
    "import os\n",
    "import datetime\n",
    "import re\n",
    "import csv\n"
   ]
  },
  {
   "cell_type": "markdown",
   "metadata": {},
   "source": [
    "### 1. Data collection\n",
    "## 1.1. Get the list of places"
   ]
  },
  {
   "cell_type": "code",
   "execution_count": 2,
   "metadata": {},
   "outputs": [
    {
     "name": "stderr",
     "output_type": "stream",
     "text": [
      "100%|██████████| 400/400 [16:59<00:00,  2.55s/it]\n"
     ]
    }
   ],
   "source": [
    "total_link = []\n",
    "s = requests.Session()\n",
    "for n in tqdm(range(1,401)):\n",
    "    url = f'https://www.atlasobscura.com/places?page={n}&sort=likes_count'\n",
    "    result = s.get(url)\n",
    "    soup = bs(result.text)\n",
    "    puf = soup.find_all(\"a\", {'class': 'content-card content-card-place'})\n",
    "    for x in puf:\n",
    "        total_link.append(x['href'])\n"
   ]
  },
  {
   "cell_type": "code",
   "execution_count": 13,
   "metadata": {},
   "outputs": [
    {
     "name": "stdout",
     "output_type": "stream",
     "text": [
      "7200\n"
     ]
    }
   ],
   "source": [
    "print(len(total_link))"
   ]
  },
  {
   "cell_type": "markdown",
   "metadata": {},
   "source": [
    "## 1.2. Crawl places"
   ]
  },
  {
   "cell_type": "code",
   "execution_count": 5,
   "metadata": {},
   "outputs": [],
   "source": [
    "def downloadPage(start,end, array):\n",
    "    count_link = ((start-1)*18)+1\n",
    "    count_page = start\n",
    "    \n",
    "    parent_dir = f'C:/Users/auror/Desktop/data_science/ADM/HM/3/html-20221104T081036Z-001/html/'\n",
    "    s = requests.Session()\n",
    "\n",
    "    for x in tqdm(range(start, end)):\n",
    "        if count_link%30 == 0:\n",
    "            s = requests.Session()\n",
    "        if count_link%18 == 1:\n",
    "            #directory = f'folder_{count_page}'\n",
    "            path = os.path.join(parent_dir, f\"folder_{count_page}\")\n",
    "            os.mkdir(path)\n",
    "        for y in range(18):\n",
    "            url = f'https://www.atlasobscura.com{array[count_link-1]}'\n",
    "            name_file = f'location_{count_link}'\n",
    "            name_folder = f'folder_{count_page}'\n",
    "            with open(f'./{name_folder}/{name_file}.html', 'w', encoding='utf8') as fp:\n",
    "                fp.write(s.get(url).text)\n",
    "            if count_link%18 == 0:\n",
    "                count_page += 1\n",
    "            count_link += 1\n",
    "           \n",
    "        "
   ]
  },
  {
   "cell_type": "code",
   "execution_count": 4,
   "metadata": {},
   "outputs": [
    {
     "name": "stderr",
     "output_type": "stream",
     "text": [
      "100%|██████████| 35/35 [32:16<00:00, 55.32s/it]\n"
     ]
    }
   ],
   "source": [
    "downloadPage(133, 168, total_link)"
   ]
  },
  {
   "cell_type": "markdown",
   "metadata": {},
   "source": [
    "## 1.3 Parse downloaded pages"
   ]
  },
  {
   "cell_type": "code",
   "execution_count": 11,
   "metadata": {},
   "outputs": [
    {
     "ename": "IndexError",
     "evalue": "list index out of range",
     "output_type": "error",
     "traceback": [
      "\u001b[1;31m---------------------------------------------------------------------------\u001b[0m",
      "\u001b[1;31mIndexError\u001b[0m                                Traceback (most recent call last)",
      "\u001b[1;32mc:\\Users\\auror\\Desktop\\data_science\\ADM\\HM\\3\\html-20221104T081036Z-001\\html\\hw3.ipynb Cella 9\u001b[0m in \u001b[0;36m<cell line: 2>\u001b[1;34m()\u001b[0m\n\u001b[0;32m     <a href='vscode-notebook-cell:/c%3A/Users/auror/Desktop/data_science/ADM/HM/3/html-20221104T081036Z-001/html/hw3.ipynb#X11sZmlsZQ%3D%3D?line=17'>18</a>\u001b[0m placePubDate \u001b[39m=\u001b[39m findPublishingDate(soup)\n\u001b[0;32m     <a href='vscode-notebook-cell:/c%3A/Users/auror/Desktop/data_science/ADM/HM/3/html-20221104T081036Z-001/html/hw3.ipynb#X11sZmlsZQ%3D%3D?line=18'>19</a>\u001b[0m placeRelatedList \u001b[39m=\u001b[39m findPlaceRelatedList(soup)\n\u001b[1;32m---> <a href='vscode-notebook-cell:/c%3A/Users/auror/Desktop/data_science/ADM/HM/3/html-20221104T081036Z-001/html/hw3.ipynb#X11sZmlsZQ%3D%3D?line=19'>20</a>\u001b[0m placeRelatedPlaces \u001b[39m=\u001b[39m findRelatedPlaces(soup)\n\u001b[0;32m     <a href='vscode-notebook-cell:/c%3A/Users/auror/Desktop/data_science/ADM/HM/3/html-20221104T081036Z-001/html/hw3.ipynb#X11sZmlsZQ%3D%3D?line=20'>21</a>\u001b[0m placeURL \u001b[39m=\u001b[39m findPageURL(soup)\n\u001b[0;32m     <a href='vscode-notebook-cell:/c%3A/Users/auror/Desktop/data_science/ADM/HM/3/html-20221104T081036Z-001/html/hw3.ipynb#X11sZmlsZQ%3D%3D?line=21'>22</a>\u001b[0m \u001b[39mwith\u001b[39;00m \u001b[39mopen\u001b[39m(\u001b[39mf\u001b[39m\u001b[39m'\u001b[39m\u001b[39m./TSV Files/\u001b[39m\u001b[39m{\u001b[39;00my[:\u001b[39m-\u001b[39m\u001b[39m5\u001b[39m]\u001b[39m}\u001b[39;00m\u001b[39m.tvs\u001b[39m\u001b[39m'\u001b[39m, \u001b[39m'\u001b[39m\u001b[39mwt\u001b[39m\u001b[39m'\u001b[39m, encoding\u001b[39m=\u001b[39m\u001b[39m'\u001b[39m\u001b[39mutf8\u001b[39m\u001b[39m'\u001b[39m) \u001b[39mas\u001b[39;00m fp:\n",
      "\u001b[1;32mc:\\Users\\auror\\Desktop\\data_science\\ADM\\HM\\3\\html-20221104T081036Z-001\\html\\hw3.ipynb Cella 9\u001b[0m in \u001b[0;36mfindRelatedPlaces\u001b[1;34m(soup)\u001b[0m\n\u001b[0;32m     <a href='vscode-notebook-cell:/c%3A/Users/auror/Desktop/data_science/ADM/HM/3/html-20221104T081036Z-001/html/hw3.ipynb#X11sZmlsZQ%3D%3D?line=90'>91</a>\u001b[0m \u001b[39mdef\u001b[39;00m \u001b[39mfindRelatedPlaces\u001b[39m(soup):\n\u001b[0;32m     <a href='vscode-notebook-cell:/c%3A/Users/auror/Desktop/data_science/ADM/HM/3/html-20221104T081036Z-001/html/hw3.ipynb#X11sZmlsZQ%3D%3D?line=91'>92</a>\u001b[0m     relatedPlaces \u001b[39m=\u001b[39m []\n\u001b[1;32m---> <a href='vscode-notebook-cell:/c%3A/Users/auror/Desktop/data_science/ADM/HM/3/html-20221104T081036Z-001/html/hw3.ipynb#X11sZmlsZQ%3D%3D?line=92'>93</a>\u001b[0m     \u001b[39mif\u001b[39;00m soup\u001b[39m.\u001b[39;49mfind_all(\u001b[39m\"\u001b[39;49m\u001b[39mdiv\u001b[39;49m\u001b[39m\"\u001b[39;49m, {\u001b[39m\"\u001b[39;49m\u001b[39mclass\u001b[39;49m\u001b[39m\"\u001b[39;49m:\u001b[39m\"\u001b[39;49m\u001b[39mcard-grid CardRecircSection__card-grid js-inject-gtm-data-in-child-links\u001b[39;49m\u001b[39m\"\u001b[39;49m})[\u001b[39m1\u001b[39;49m]\u001b[39m!=\u001b[39m\u001b[39mNone\u001b[39;00m:\n\u001b[0;32m     <a href='vscode-notebook-cell:/c%3A/Users/auror/Desktop/data_science/ADM/HM/3/html-20221104T081036Z-001/html/hw3.ipynb#X11sZmlsZQ%3D%3D?line=93'>94</a>\u001b[0m         places \u001b[39m=\u001b[39m soup\u001b[39m.\u001b[39mfind_all(\u001b[39m\"\u001b[39m\u001b[39mdiv\u001b[39m\u001b[39m\"\u001b[39m, {\u001b[39m\"\u001b[39m\u001b[39mclass\u001b[39m\u001b[39m\"\u001b[39m:\u001b[39m\"\u001b[39m\u001b[39mcard-grid CardRecircSection__card-grid js-inject-gtm-data-in-child-links\u001b[39m\u001b[39m\"\u001b[39m})[\u001b[39m1\u001b[39m]\u001b[39m.\u001b[39mfind_all(\u001b[39m\"\u001b[39m\u001b[39mh3\u001b[39m\u001b[39m\"\u001b[39m, {\u001b[39m\"\u001b[39m\u001b[39mclass\u001b[39m\u001b[39m\"\u001b[39m:\u001b[39m\"\u001b[39m\u001b[39mCard__heading --content-card-v2-title js-title-content\u001b[39m\u001b[39m\"\u001b[39m})\n\u001b[0;32m     <a href='vscode-notebook-cell:/c%3A/Users/auror/Desktop/data_science/ADM/HM/3/html-20221104T081036Z-001/html/hw3.ipynb#X11sZmlsZQ%3D%3D?line=94'>95</a>\u001b[0m         \u001b[39mfor\u001b[39;00m relatedPlace \u001b[39min\u001b[39;00m places:\n",
      "\u001b[1;31mIndexError\u001b[0m: list index out of range"
     ]
    }
   ],
   "source": [
    "os.mkdir(\"TSV Files\")\n",
    "for x in os.listdir():\n",
    "    for y in os.listdir(x):\n",
    "        with open(f'{x}/{y}', encoding='utf8') as f:\n",
    "            p = f.read()\n",
    "            soup =  bs(p)\n",
    "            pageAttribute = []\n",
    "            placeName = findPlaceName(soup)\n",
    "            placeTags = findPlaceTags(soup)\n",
    "            numPeopleVisited = findNumPeopleVisited(soup)\n",
    "            numPeopleWant = findNumPeopleWant(soup)\n",
    "            placeDesc = findDescription(soup)\n",
    "            placeShortDesc = findShortDescription(soup)\n",
    "            placeNearby = findNearbyPlaces(soup)\n",
    "            placeAddress = findAddress(soup)\n",
    "            placeAlt, placeLong = findCordinates(soup)\n",
    "            placeEditors = findPostEditors(soup)\n",
    "            placePubDate = findPublishingDate(soup)\n",
    "            placeRelatedList = findPlaceRelatedList(soup)\n",
    "            placeRelatedPlaces = findRelatedPlaces(soup)\n",
    "            placeURL = findPageURL(soup)\n",
    "            with open(f'./TSV Files/{y[:-5]}.tvs', 'wt', encoding='utf8') as fp:\n",
    "                tsv_writer = csv.writer(fp, delimiter='\\t')\n",
    "                tsv_writer.writerow([placeName, placeTags, numPeopleVisited, numPeopleWant, placeDesc, placeShortDesc, placeNearby, placeAddress, placeAlt, placeLong, placeEditors, placePubDate, placeRelatedList, placeRelatedPlaces, placeURL])"
   ]
  },
  {
   "cell_type": "code",
   "execution_count": 29,
   "metadata": {},
   "outputs": [],
   "source": [
    "def findPlaceName(soup):\n",
    "    placeName = soup.find(\"h1\", {\"class\": \"DDPage__header-title\"}).text\n",
    "    #placeName = re.sub('[A-Za-z0-9_.,! \"]*' ,'',placeName)\n",
    "    return placeName\n",
    "\n",
    "def findPlaceTags(soup):\n",
    "    tags = []\n",
    "    placeTags = soup.find_all(\"a\", {\"class\": \"itemTags__link js-item-tags-link\"})\n",
    "    for tag in placeTags:\n",
    "        t = tag.text.replace(\"\\n\", \"\")\n",
    "        #t = re.sub('[A-Za-z0-9 _.,!\"]*','',t)\n",
    "        tags.append(t)\n",
    "    return tags\n",
    "\n",
    "def findNumPeopleVisited(soup):\n",
    "    return int(soup.find_all(\"div\", {\"class\": \"title-md item-action-count\"})[0].text)\n",
    "\n",
    "def findNumPeopleWant(soup):\n",
    "    return int(soup.find_all(\"div\", {\"class\": \"title-md item-action-count\"})[1].text)\n",
    "\n",
    "def findDescription(soup):\n",
    "    all_description = []\n",
    "    descriptions = soup.find_all(\"div\", {\"class\": \"DDP__body-copy\"})\n",
    "    for description in descriptions:\n",
    "        d = description.text.replace(\"\\n\",\"\")\n",
    "        #d = re.sub('[A-Za-z0-9 _.,!\"]*','',d)\n",
    "        all_description.append(d)\n",
    "    return all_description\n",
    "\n",
    "def findShortDescription(soup):\n",
    "    shortDescription = soup.find(\"h3\", {\"class\": \"DDPage__header-dek\"}).text.replace(\"\\n\", \"\")\n",
    "    #shortDescription = re.sub('[A-Za-z0-9 _.,!\"]*','',shortDescription)\n",
    "    return shortDescription\n",
    "\n",
    "def findNearbyPlaces(soup):\n",
    "    nearPlaces = []\n",
    "    nearbyPlaces = soup.find_all(\"div\", {\"class\": \"DDPageSiderailRecirc__item-title\"})\n",
    "    for place in nearbyPlaces:\n",
    "        p = place.text.replace(\"\\n\",\"\")\n",
    "        #p = re.sub('[A-Za-z0-9 _.,!\"]*','',p)\n",
    "        nearPlaces.append(p)\n",
    "    #Convert the list to set, and then back again to list to remove repetition\n",
    "    return list(set(nearPlaces))\n",
    "\n",
    "def findAddress(soup):\n",
    "    strings = []\n",
    "    adress_strings = soup.find(\"div\", {\"class\":\"DDPageSiderail__column grid-col-lg-4 grid-col-md-5\"}).find(\"aside\", {\"class\": \"DDPageSiderail__details\"}).find(\"address\", {\"class\": \"DDPageSiderail__address\"}).find(\"div\")\n",
    "    for info in adress_strings:\n",
    "        s = info.text.replace(\"\\n\", \"\")\n",
    "        if s != \"\":\n",
    "            strings.append(s)\n",
    "    return \" \".join(strings[:3])\n",
    "\n",
    "def findCordinates(soup):\n",
    "    cordinates = soup.find(\"div\", {\"class\":\"DDPageSiderail__coordinates js-copy-coordinates\"})\n",
    "    placeAlt, placeLong = cordinates.text.replace(\"\\n\", \"\").replace(\" \",\"\").split(\",\")\n",
    "    return placeAlt, placeLong\n",
    "\n",
    "def findPostEditors(soup):\n",
    "    all_editors =[]\n",
    "    editors = soup.find_all(\"a\", {\"class\":\"DDPContributorsList__contributor\"})         \n",
    "    for person in editors:\n",
    "        s = person.text.replace(\"\\n\", \"\")\n",
    "        all_editors.append(s)\n",
    "    return all_editors\n",
    "\n",
    "def findPublishingDate(soup):\n",
    "    #Pick the right info\n",
    "    dateString = soup.find(\"div\", {\"class\":\"DDPContributor__name\"}) \n",
    "    #Let's clean the string\n",
    "    s = dateString.text.replace(\"\\n\", \"\")\n",
    "    #Let's modify it for the right format of datetime\n",
    "    split = s.split()\n",
    "    #Let's convert the string Month into the corrispondent number by using \"strptime()\" \n",
    "    split[0] = str(datetime.datetime.strptime(split[0], '%B').month)\n",
    "    #My format\n",
    "    format = \"%m %d, %Y\"\n",
    "    #Convert from String to datetime\n",
    "    date = datetime.datetime.strptime(\" \".join(split), format)\n",
    "    return date\n",
    "\n",
    "def findPlaceNear(soup):\n",
    "    lists =[]\n",
    "    relatedLists = soup.find(\"div\", {\"data-gtm-template\":\"DDP Footer Recirc Nearby\"}).find_all(\"h3\", {\"class\":\"Card__heading --content-card-v2-title js-title-content\"})\n",
    "    for list in relatedLists:\n",
    "        s = list.text.replace(\"\\n\", \"\")\n",
    "        #s = re.sub('[A-Za-z0-9 _.,!\"]*','',s)\n",
    "        lists.append(s)\n",
    "    return lists\n",
    "\n",
    "def findRelatedPlaces(soup):\n",
    "    lists =[]\n",
    "    relatedLists = soup.find(\"div\", {\"data-gtm-template\":\"DDP Footer Recirc Related\"}).find_all(\"h3\", {\"class\":\"Card__heading --content-card-v2-title js-title-content\"})\n",
    "    for list in relatedLists:\n",
    "        s = list.text.replace(\"\\n\", \"\")\n",
    "        #s = re.sub('[A-Za-z0-9 _.,!\"]*','',s)\n",
    "        lists.append(s)\n",
    "    return lists\n",
    "\n",
    "# def findRelatedPlaces(soup):\n",
    "#     relatedPlaces = []\n",
    "#     if soup.find_all(\"div\", {\"class\":\"card-grid CardRecircSection__card-grid js-inject-gtm-data-in-child-links\"})[1]!=None:\n",
    "#         places = soup.find_all(\"div\", {\"class\":\"card-grid CardRecircSection__card-grid js-inject-gtm-data-in-child-links\"})[1].find_all(\"h3\", {\"class\":\"Card__heading --content-card-v2-title js-title-content\"})\n",
    "#         for relatedPlace in places:\n",
    "#             s = relatedPlace.text.replace(\"\\n\", \"\")\n",
    "#             #s = re.sub('[A-Za-z0-9 _.,!\"]*','',s)\n",
    "#             relatedPlaces.append(s)\n",
    "#     return relatedPlaces\n",
    "\n",
    "def findPageURL(soup):\n",
    "    numVisitedPeople = soup.find(\"link\", {\"rel\":\"canonical\"})\n",
    "    return numVisitedPeople['href']\n",
    "\n"
   ]
  },
  {
   "cell_type": "code",
   "execution_count": 36,
   "metadata": {},
   "outputs": [
    {
     "name": "stdout",
     "output_type": "stream",
     "text": [
      "['Crystal Palace Subway', 'Moscow Metro Stations', 'Rove Tunnel', 'Klafthmonos Square Parking Structure Fortification Walls']\n"
     ]
    }
   ],
   "source": [
    "for x in os.listdir():\n",
    "    for y in os.listdir(x):\n",
    "        with open(f'{x}/{y}', encoding='utf8') as f:\n",
    "                    p = f.read()\n",
    "                    soup =  bs(p)\n",
    "                    near = findPlaceNear(soup)\n",
    "                    related = findRelatedPlaces(soup)\n",
    "                    print(related)\n",
    "\n",
    "\n",
    "        break\n",
    "    break\n"
   ]
  },
  {
   "cell_type": "code",
   "execution_count": null,
   "metadata": {},
   "outputs": [],
   "source": []
  }
 ],
 "metadata": {
  "kernelspec": {
   "display_name": "Python 3.9.12 ('base')",
   "language": "python",
   "name": "python3"
  },
  "language_info": {
   "codemirror_mode": {
    "name": "ipython",
    "version": 3
   },
   "file_extension": ".py",
   "mimetype": "text/x-python",
   "name": "python",
   "nbconvert_exporter": "python",
   "pygments_lexer": "ipython3",
   "version": "3.9.12"
  },
  "vscode": {
   "interpreter": {
    "hash": "cd94c265d0cd8d4c5ed894c320907f0fc1771c221568605f48fbe0110aecbb76"
   }
  }
 },
 "nbformat": 4,
 "nbformat_minor": 2
}
