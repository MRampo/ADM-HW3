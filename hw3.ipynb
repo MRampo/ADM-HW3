{
 "cells": [
  {
   "cell_type": "code",
   "execution_count": 2,
   "metadata": {},
   "outputs": [
    {
     "name": "stderr",
     "output_type": "stream",
     "text": [
      "[nltk_data] Downloading package stopwords to\n",
      "[nltk_data]     C:\\Users\\Matteo\\AppData\\Roaming\\nltk_data...\n",
      "[nltk_data]   Package stopwords is already up-to-date!\n",
      "[nltk_data] Downloading package stopwords to\n",
      "[nltk_data]     C:\\Users\\Matteo\\AppData\\Roaming\\nltk_data...\n",
      "[nltk_data]   Package stopwords is already up-to-date!\n"
     ]
    }
   ],
   "source": [
    "from bs4 import BeautifulSoup as bs\n",
    "import requests\n",
    "from tqdm import tqdm \n",
    "import json\n",
    "import os\n",
    "import datetime\n",
    "import re\n",
    "import glob\n",
    "import csv\n",
    "import time\n",
    "import pandas as pd\n",
    "from nltk.stem import *\n",
    "from collections import Counter\n",
    "from functools import reduce\n",
    "import numpy as np\n",
    "\n",
    "#Used to clean the data\n",
    "import nltk\n",
    "from nltk.corpus import stopwords\n",
    "nltk.download('stopwords')\n",
    "from nltk.tokenize import RegexpTokenizer\n",
    "from nltk.stem import PorterStemmer\n",
    "from nltk import tokenize\n",
    "\n",
    "#Modules used to plot the graph\n",
    "import seaborn as sns\n",
    "import matplotlib.pyplot as plt\n",
    "\n",
    "#import datatable as dt   \n",
    "import csv\n",
    "import numpy as np\n",
    "from sklearn.feature_extraction.text import TfidfVectorizer\n",
    "\n",
    "#To read and store dictionary\n",
    "import pickle\n",
    "\n",
    "#our functions used in the files\n",
    "from functions import *\n",
    "\n",
    "#Modules used to plot the graph in ex 4\n",
    "import geopy\n",
    "from geopy.geocoders import Nominatim\n",
    "\n"
   ]
  },
  {
   "cell_type": "markdown",
   "metadata": {},
   "source": [
    "# 1. Data collection"
   ]
  },
  {
   "cell_type": "markdown",
   "metadata": {},
   "source": [
    "## 1.1. Get the list of places"
   ]
  },
  {
   "cell_type": "markdown",
   "metadata": {},
   "source": [
    "The \"getLinks\" function can be seen in the \"functions.py\" file with its source code along with line-by-line comments. Below is a brief explanation of how it works <br>\n",
    "\n",
    "The \"getLinks\" function works in this way. We noticed the fact that the link on the page atlasobscura.com is indexed in such a way that it is possible to extract the various links with an incremental variable. We take this variable and iterate over a range decided by us. For each iteration we join the variable along with the standard string describing the site path.  In this way we get the path we were looking for. We save it to us in a list named \"total_link\" and at the end we return the list.\n",
    "\n",
    "This is just one of the possible methods for extracting the various links, in fact another possibility was to fetch us the link to the next page by going there and extracting the link directly from the buttons on the previous page\n",
    "\n",
    "The reason why we use \"requests.Session()\" instead of the normal \"request\" will be explained later"
   ]
  },
  {
   "cell_type": "code",
   "execution_count": null,
   "metadata": {},
   "outputs": [],
   "source": [
    "#Ex with range going from 1 to 9\n",
    "total_link = getLinks(1,10)"
   ]
  },
  {
   "cell_type": "markdown",
   "metadata": {},
   "source": [
    "We decided to save the list for ourselves in order to access its contents without avoiding having to perform link extraction each time"
   ]
  },
  {
   "cell_type": "code",
   "execution_count": null,
   "metadata": {},
   "outputs": [],
   "source": [
    "f = open('total_link.txt',\"r\")\n",
    "total_link = f.read().split(\"\\n\")"
   ]
  },
  {
   "cell_type": "markdown",
   "metadata": {},
   "source": [
    "## 1.2. Crawl places"
   ]
  },
  {
   "cell_type": "markdown",
   "metadata": {},
   "source": [
    "The \"downloadPage()\" function can be seen in the functions.py file, with its comments line by line. Below is a brief explanation of its operation.\n",
    "\n",
    "The function takes as input a starting point, an end point, and the array containing the paths to the pages to be downloaded in .html format.\n",
    "It first establishes a session. then for each page in the range given via \"start\" and \"finish,\" it takes the relevant url path and makes a request to the site to download the whole page. The .html file will be downloaded into the appropriate folder.\n",
    "\n",
    "#### Regarding the efficiency of the function, some techniques were applied to try to make the process more optimized.\n",
    "\n",
    "First of all, by using only the \"requests.get()\" method to make requests to the site, a session is established each time, which is later dropped after sending the packet containing our request. To prevent the session from being closed each time, we decided to create it ourselves and keep it active by refreshing it every 10 pages (=180 links). <br>\n",
    "Another possible action that could have increased the efficiency of this function is through the application of the concept of paralelization. Currently, requests to the site occur sequentially, this means that only one request at a time is sent to the atlasobscura site. It would also have been possible to make multiple requests simultaneously to reduce the execution time\n",
    "\n",
    "Translated with www.DeepL.com/Translator (free version)"
   ]
  },
  {
   "cell_type": "code",
   "execution_count": null,
   "metadata": {},
   "outputs": [],
   "source": [
    "downloadPage(0, 400, total_link)"
   ]
  },
  {
   "cell_type": "markdown",
   "metadata": {},
   "source": [
    "## 1.3 Parse downloaded pages"
   ]
  },
  {
   "cell_type": "markdown",
   "metadata": {},
   "source": [
    "The \"downloadTSV\" function is visible in the functions.py file. Below is a brief explanation of its operation.\n",
    "\n",
    "The function groups many small subfunctions that each perform the task of extracting an attribute from the html page.\n",
    "\n",
    "The function is structured like this.\n",
    "\n",
    "DownloadTSV:\n",
    "- FindPLaceName()\n",
    "- findPlaceTags()\n",
    "- findNumPeopleVisited()\n",
    "- findNumPeopleWant()\n",
    "- findDescription()\n",
    "- findShortDescription()\n",
    "- findNearbyPlaces()\n",
    "- findAddress()\n",
    "- findCordinates()\n",
    "- findPostEditors()\n",
    "- findPublishingDate()\n",
    "- findPlaceNear()\n",
    "- findRelatedPlaces()\n",
    "- findPageURL()\n",
    "\n",
    "For every files in the directory \"all_pages/*\" the function will extract the information metioned above and will save the file as a tabular file (tab separated)."
   ]
  },
  {
   "cell_type": "markdown",
   "metadata": {},
   "source": [
    "## Load all the tsv file into one pandas dataframe"
   ]
  },
  {
   "cell_type": "markdown",
   "metadata": {},
   "source": [
    "We decided to save all the .tsv file as one joined .csv where every file rappresents one row of the .csv file, so that we can work and access the data without having to read 7200 tsv file each time. The data are stored in the \"tsv_dataframe.csv\"\n",
    "\n",
    "This mean that the function load_tsv() has only been executed once. The other iteration we just read the .csv file"
   ]
  },
  {
   "cell_type": "code",
   "execution_count": null,
   "metadata": {},
   "outputs": [],
   "source": [
    "#This cell has only been executed once, just to make the first merged dataframe of .tsv files\n",
    "#From this point onwards we will read the file directly from the directly\n",
    "tsv_dataframe = load_tsv()"
   ]
  },
  {
   "cell_type": "code",
   "execution_count": 2,
   "metadata": {},
   "outputs": [],
   "source": [
    "# data = load_tsv()\n",
    "data = pd.read_csv(\"tsv_dataframe.csv\",index_col=0)\n",
    "\n",
    "#Reset Index\n",
    "data.reset_index(inplace = True, drop=True)"
   ]
  },
  {
   "cell_type": "code",
   "execution_count": 3,
   "metadata": {},
   "outputs": [
    {
     "name": "stdout",
     "output_type": "stream",
     "text": [
      "<class 'pandas.core.frame.DataFrame'>\n",
      "RangeIndex: 7200 entries, 0 to 7199\n",
      "Data columns (total 15 columns):\n",
      " #   Column             Non-Null Count  Dtype  \n",
      "---  ------             --------------  -----  \n",
      " 0   placeName          7200 non-null   object \n",
      " 1   placeTags          7166 non-null   object \n",
      " 2   numPeopleVisited   7200 non-null   int64  \n",
      " 3   numPeopleWant      7200 non-null   int64  \n",
      " 4   placeDesc          7200 non-null   object \n",
      " 5   placeShortDesc     7200 non-null   object \n",
      " 6   placeNearby        7200 non-null   object \n",
      " 7   placeAdress        7166 non-null   object \n",
      " 8   placeAlt           7200 non-null   float64\n",
      " 9   placeLong          7200 non-null   float64\n",
      " 10  placeEditors       7194 non-null   object \n",
      " 11  placePubDate       7199 non-null   object \n",
      " 12  placeRelatedList   7199 non-null   object \n",
      " 13  placeRelatedPlace  7166 non-null   object \n",
      " 14  placeURL           7200 non-null   object \n",
      "dtypes: float64(2), int64(2), object(11)\n",
      "memory usage: 843.9+ KB\n"
     ]
    }
   ],
   "source": [
    "data.info()"
   ]
  },
  {
   "cell_type": "code",
   "execution_count": 4,
   "metadata": {},
   "outputs": [
    {
     "data": {
      "text/html": [
       "<div>\n",
       "<style scoped>\n",
       "    .dataframe tbody tr th:only-of-type {\n",
       "        vertical-align: middle;\n",
       "    }\n",
       "\n",
       "    .dataframe tbody tr th {\n",
       "        vertical-align: top;\n",
       "    }\n",
       "\n",
       "    .dataframe thead th {\n",
       "        text-align: right;\n",
       "    }\n",
       "</style>\n",
       "<table border=\"1\" class=\"dataframe\">\n",
       "  <thead>\n",
       "    <tr style=\"text-align: right;\">\n",
       "      <th></th>\n",
       "      <th>placeName</th>\n",
       "      <th>placeTags</th>\n",
       "      <th>numPeopleVisited</th>\n",
       "      <th>numPeopleWant</th>\n",
       "      <th>placeDesc</th>\n",
       "      <th>placeShortDesc</th>\n",
       "      <th>placeNearby</th>\n",
       "      <th>placeAdress</th>\n",
       "      <th>placeAlt</th>\n",
       "      <th>placeLong</th>\n",
       "      <th>placeEditors</th>\n",
       "      <th>placePubDate</th>\n",
       "      <th>placeRelatedList</th>\n",
       "      <th>placeRelatedPlace</th>\n",
       "      <th>placeURL</th>\n",
       "    </tr>\n",
       "  </thead>\n",
       "  <tbody>\n",
       "    <tr>\n",
       "      <th>0</th>\n",
       "      <td>City Hall Station</td>\n",
       "      <td>subways,subterranean,infrastructure,subterrane...</td>\n",
       "      <td>1834</td>\n",
       "      <td>8603</td>\n",
       "      <td>The first New York City subway was built and o...</td>\n",
       "      <td>A beautiful and abandoned New York subway stat...</td>\n",
       "      <td>The Sugar House Prison Window,Tunnel Number 3,...</td>\n",
       "      <td>31 Centre St New York, New York, 10007 United ...</td>\n",
       "      <td>40.7134</td>\n",
       "      <td>-74.0046</td>\n",
       "      <td>Rebekah Otto,Annetta Black,Allan,charding407,w...</td>\n",
       "      <td>2010-05-08 00:00:00</td>\n",
       "      <td>African Burial Ground National Monument,Tunnel...</td>\n",
       "      <td>Crystal Palace Subway,Moscow Metro Stations,Ro...</td>\n",
       "      <td>https://www.atlasobscura.com/places/city-hall-...</td>\n",
       "    </tr>\n",
       "    <tr>\n",
       "      <th>1</th>\n",
       "      <td>The Winchester Mystery House</td>\n",
       "      <td>follies and grottoes,outsider architecture,ecc...</td>\n",
       "      <td>3723</td>\n",
       "      <td>5209</td>\n",
       "      <td>In 1886 an eccentric woman named Sarah Winches...</td>\n",
       "      <td>A peculiar mansion built by the troubled heir ...</td>\n",
       "      <td>Rosicrucian Park,Rosicrucian Egyptian Museum,S...</td>\n",
       "      <td>525 South Winchester Boulevard San Jose, Calif...</td>\n",
       "      <td>37.3189</td>\n",
       "      <td>-121.9506</td>\n",
       "      <td>mbison,Avoiding Regret,PrestonW,Collin,Destina...</td>\n",
       "      <td>2008-11-21 00:00:00</td>\n",
       "      <td>Santana Row Chess Plaza,Rosicrucian Park,Rosic...</td>\n",
       "      <td>Casa de Piedra (Stone House),Portmeirion Villa...</td>\n",
       "      <td>https://www.atlasobscura.com/places/winchester...</td>\n",
       "    </tr>\n",
       "    <tr>\n",
       "      <th>2</th>\n",
       "      <td>Center for Puppetry Arts</td>\n",
       "      <td>sesame street,puppets,museums</td>\n",
       "      <td>705</td>\n",
       "      <td>1027</td>\n",
       "      <td>If you know your Gonzo from your Gelflings, yo...</td>\n",
       "      <td>The largest puppetry museum in the USA houses ...</td>\n",
       "      <td>Breman Museum,The Consulate,Atlanta Monetary M...</td>\n",
       "      <td>1404 Spring St Atlanta, Georgia United States</td>\n",
       "      <td>33.7927</td>\n",
       "      <td>-84.3896</td>\n",
       "      <td>kendallmbailey,Martin,andydoesit,We All Pod Do...</td>\n",
       "      <td>2018-11-12 00:00:00</td>\n",
       "      <td>Breman Museum,Atlanta Monetary Museum,The Cons...</td>\n",
       "      <td>Portland Puppet Museum,Museu da Marioneta (Mus...</td>\n",
       "      <td>https://www.atlasobscura.com/places/center-for...</td>\n",
       "    </tr>\n",
       "    <tr>\n",
       "      <th>3</th>\n",
       "      <td>Amityville Horror House</td>\n",
       "      <td>hoaxes and pseudoscience,haunted,film location...</td>\n",
       "      <td>367</td>\n",
       "      <td>831</td>\n",
       "      <td>On a cold November night in 1974, Amityville, ...</td>\n",
       "      <td>The site of a tragic massacre that spawned a m...</td>\n",
       "      <td>The Long Island Puppet Theater,Pilgrim Psychia...</td>\n",
       "      <td>112 Ocean Avenue Amityville, New York, 11701 U...</td>\n",
       "      <td>40.6665</td>\n",
       "      <td>-73.4143</td>\n",
       "      <td>EricGrundhauser,MandrewPatinkin,lendog666,Mart...</td>\n",
       "      <td>2013-10-17 00:00:00</td>\n",
       "      <td>The Long Island Puppet Theater,Fire Island Lig...</td>\n",
       "      <td>Conanicut Island Lighthouse,Lovell Health Hous...</td>\n",
       "      <td>https://www.atlasobscura.com/places/amityville...</td>\n",
       "    </tr>\n",
       "    <tr>\n",
       "      <th>4</th>\n",
       "      <td>Yuma Territorial Prison</td>\n",
       "      <td>prisons,crime and punishment</td>\n",
       "      <td>422</td>\n",
       "      <td>833</td>\n",
       "      <td>On July 1, 1876, the first seven inmates enter...</td>\n",
       "      <td>Walk through the actual strap iron cells and s...</td>\n",
       "      <td>Valley of the Names,Felicity, California: Cent...</td>\n",
       "      <td>1 Prison Hill Rd Yuma, Arizona, 85364 United S...</td>\n",
       "      <td>32.7266</td>\n",
       "      <td>-114.6144</td>\n",
       "      <td>desertfairy,mbison,CorpseLady84,Avoiding Regre...</td>\n",
       "      <td>2010-04-01 00:00:00</td>\n",
       "      <td>Felicity, California: Center of the World,Vall...</td>\n",
       "      <td>Buckley's Cave,Palazzo d'Avalos,Oxford Castle ...</td>\n",
       "      <td>https://www.atlasobscura.com/places/yuma-terri...</td>\n",
       "    </tr>\n",
       "  </tbody>\n",
       "</table>\n",
       "</div>"
      ],
      "text/plain": [
       "                      placeName  \\\n",
       "0             City Hall Station   \n",
       "1  The Winchester Mystery House   \n",
       "2      Center for Puppetry Arts   \n",
       "3       Amityville Horror House   \n",
       "4       Yuma Territorial Prison   \n",
       "\n",
       "                                           placeTags  numPeopleVisited  \\\n",
       "0  subways,subterranean,infrastructure,subterrane...              1834   \n",
       "1  follies and grottoes,outsider architecture,ecc...              3723   \n",
       "2                      sesame street,puppets,museums               705   \n",
       "3  hoaxes and pseudoscience,haunted,film location...               367   \n",
       "4                       prisons,crime and punishment               422   \n",
       "\n",
       "   numPeopleWant                                          placeDesc  \\\n",
       "0           8603  The first New York City subway was built and o...   \n",
       "1           5209  In 1886 an eccentric woman named Sarah Winches...   \n",
       "2           1027  If you know your Gonzo from your Gelflings, yo...   \n",
       "3            831  On a cold November night in 1974, Amityville, ...   \n",
       "4            833  On July 1, 1876, the first seven inmates enter...   \n",
       "\n",
       "                                      placeShortDesc  \\\n",
       "0  A beautiful and abandoned New York subway stat...   \n",
       "1  A peculiar mansion built by the troubled heir ...   \n",
       "2  The largest puppetry museum in the USA houses ...   \n",
       "3  The site of a tragic massacre that spawned a m...   \n",
       "4  Walk through the actual strap iron cells and s...   \n",
       "\n",
       "                                         placeNearby  \\\n",
       "0  The Sugar House Prison Window,Tunnel Number 3,...   \n",
       "1  Rosicrucian Park,Rosicrucian Egyptian Museum,S...   \n",
       "2  Breman Museum,The Consulate,Atlanta Monetary M...   \n",
       "3  The Long Island Puppet Theater,Pilgrim Psychia...   \n",
       "4  Valley of the Names,Felicity, California: Cent...   \n",
       "\n",
       "                                         placeAdress  placeAlt  placeLong  \\\n",
       "0  31 Centre St New York, New York, 10007 United ...   40.7134   -74.0046   \n",
       "1  525 South Winchester Boulevard San Jose, Calif...   37.3189  -121.9506   \n",
       "2      1404 Spring St Atlanta, Georgia United States   33.7927   -84.3896   \n",
       "3  112 Ocean Avenue Amityville, New York, 11701 U...   40.6665   -73.4143   \n",
       "4  1 Prison Hill Rd Yuma, Arizona, 85364 United S...   32.7266  -114.6144   \n",
       "\n",
       "                                        placeEditors         placePubDate  \\\n",
       "0  Rebekah Otto,Annetta Black,Allan,charding407,w...  2010-05-08 00:00:00   \n",
       "1  mbison,Avoiding Regret,PrestonW,Collin,Destina...  2008-11-21 00:00:00   \n",
       "2  kendallmbailey,Martin,andydoesit,We All Pod Do...  2018-11-12 00:00:00   \n",
       "3  EricGrundhauser,MandrewPatinkin,lendog666,Mart...  2013-10-17 00:00:00   \n",
       "4  desertfairy,mbison,CorpseLady84,Avoiding Regre...  2010-04-01 00:00:00   \n",
       "\n",
       "                                    placeRelatedList  \\\n",
       "0  African Burial Ground National Monument,Tunnel...   \n",
       "1  Santana Row Chess Plaza,Rosicrucian Park,Rosic...   \n",
       "2  Breman Museum,Atlanta Monetary Museum,The Cons...   \n",
       "3  The Long Island Puppet Theater,Fire Island Lig...   \n",
       "4  Felicity, California: Center of the World,Vall...   \n",
       "\n",
       "                                   placeRelatedPlace  \\\n",
       "0  Crystal Palace Subway,Moscow Metro Stations,Ro...   \n",
       "1  Casa de Piedra (Stone House),Portmeirion Villa...   \n",
       "2  Portland Puppet Museum,Museu da Marioneta (Mus...   \n",
       "3  Conanicut Island Lighthouse,Lovell Health Hous...   \n",
       "4  Buckley's Cave,Palazzo d'Avalos,Oxford Castle ...   \n",
       "\n",
       "                                            placeURL  \n",
       "0  https://www.atlasobscura.com/places/city-hall-...  \n",
       "1  https://www.atlasobscura.com/places/winchester...  \n",
       "2  https://www.atlasobscura.com/places/center-for...  \n",
       "3  https://www.atlasobscura.com/places/amityville...  \n",
       "4  https://www.atlasobscura.com/places/yuma-terri...  "
      ]
     },
     "execution_count": 4,
     "metadata": {},
     "output_type": "execute_result"
    }
   ],
   "source": [
    "data.head()"
   ]
  },
  {
   "cell_type": "code",
   "execution_count": 6,
   "metadata": {},
   "outputs": [
    {
     "name": "stdout",
     "output_type": "stream",
     "text": [
      "<class 'pandas.core.frame.DataFrame'>\n",
      "RangeIndex: 7200 entries, 0 to 7199\n",
      "Data columns (total 15 columns):\n",
      " #   Column             Non-Null Count  Dtype  \n",
      "---  ------             --------------  -----  \n",
      " 0   placeName          7200 non-null   object \n",
      " 1   placeTags          7200 non-null   object \n",
      " 2   numPeopleVisited   7200 non-null   int64  \n",
      " 3   numPeopleWant      7200 non-null   int64  \n",
      " 4   placeDesc          7200 non-null   object \n",
      " 5   placeShortDesc     7200 non-null   object \n",
      " 6   placeNearby        7200 non-null   object \n",
      " 7   placeAdress        7200 non-null   object \n",
      " 8   placeAlt           7200 non-null   float64\n",
      " 9   placeLong          7200 non-null   float64\n",
      " 10  placeEditors       7200 non-null   object \n",
      " 11  placePubDate       7200 non-null   object \n",
      " 12  placeRelatedList   7200 non-null   object \n",
      " 13  placeRelatedPlace  7200 non-null   object \n",
      " 14  placeURL           7200 non-null   object \n",
      "dtypes: float64(2), int64(2), object(11)\n",
      "memory usage: 843.9+ KB\n"
     ]
    }
   ],
   "source": [
    "#data2 will be used for the EDA\n",
    "data2 = data.dropna(subset = [\"placePubDate\"])\n",
    "data2 = data2.dropna(subset = [\"placeEditors\"])\n",
    "\n",
    "#Let's clean the dataframe from the na values\n",
    "data = data.fillna(\"\")\n",
    "data.info()\n"
   ]
  },
  {
   "cell_type": "markdown",
   "metadata": {},
   "source": [
    "Our dataframe contains some NA values, in particulary in the informations \"Place Tags\", \"Place Adress\", \"Place Related Place\" (34 NA values each), anyway for our analysis we care about the place editors (6 NA) and the Place Pubblice Date (1 NA) replacing this values to make our analysis possibile."
   ]
  },
  {
   "cell_type": "markdown",
   "metadata": {},
   "source": [
    "# 1.5 EDA"
   ]
  },
  {
   "cell_type": "markdown",
   "metadata": {},
   "source": [
    "The following work carries forward a study of data from the \"Atlas Obscura\" website, an American online magazine and travel firm, catalogues unusual and obscure tourist locations. We considered 7200 touristic attractions around the world (rows of the dataframe) for a total of 15 informations (the columns). The goals of the project are to create two search engine, define a new score, visualize in a map the most relevant places etc. but first of all let's have a look with an exploratory data analysis (EDA) in our data."
   ]
  },
  {
   "cell_type": "code",
   "execution_count": 8,
   "metadata": {},
   "outputs": [
    {
     "data": {
      "image/png": "[encoded data removed]",
      "text/plain": [
       "<Figure size 432x288 with 1 Axes>"
      ]
     },
     "metadata": {},
     "output_type": "display_data"
    },
    {
     "name": "stdout",
     "output_type": "stream",
     "text": [
      "The year with more pubblications: 2013\n",
      "Total number of pubblications in that year: 927\n"
     ]
    }
   ],
   "source": [
    "data2.placePubDate\n",
    "data2.placePubDate2 = pd.to_datetime(data2.placePubDate)\n",
    "data2['year'] = data2.placePubDate2.dt.year\n",
    "conteggio = data2['year'].astype(int)\n",
    "conteggio = conteggio.value_counts(dropna=True)\n",
    "\n",
    "sns.set_theme()\n",
    "grafico1 = sns.lineplot(data=conteggio, palette = \"plasma\")\n",
    "grafico1.set(xlabel = \"Year\", ylabel = \"Number of pubblications\", title = \"Number of pubblications per year\")\n",
    "plt.show()\n",
    "print(\"The year with more pubblications:\", data2['year'].value_counts().idxmax())\n",
    "print(\"Total number of pubblications in that year:\", data2['year'].value_counts()[2013])"
   ]
  },
  {
   "cell_type": "markdown",
   "metadata": {},
   "source": [
    "Atlas Obscura was born in 2009, with the firsts pubblications goes up to the previous years. The data we have considered tell us that the peak of publications can be identified in 2013 when 887 places have been registred. In the last years, instead, the number of pubblications decresed. Perhaps the covid-19 pandemic affected not only travels but also travel-related publications."
   ]
  },
  {
   "cell_type": "code",
   "execution_count": 7,
   "metadata": {},
   "outputs": [
    {
     "data": {
      "text/html": [
       "<div>\n",
       "<style scoped>\n",
       "    .dataframe tbody tr th:only-of-type {\n",
       "        vertical-align: middle;\n",
       "    }\n",
       "\n",
       "    .dataframe tbody tr th {\n",
       "        vertical-align: top;\n",
       "    }\n",
       "\n",
       "    .dataframe thead th {\n",
       "        text-align: right;\n",
       "    }\n",
       "</style>\n",
       "<table border=\"1\" class=\"dataframe\">\n",
       "  <thead>\n",
       "    <tr style=\"text-align: right;\">\n",
       "      <th></th>\n",
       "      <th>numPeopleVisited</th>\n",
       "      <th>numPeopleWant</th>\n",
       "      <th>placeAlt</th>\n",
       "      <th>placeLong</th>\n",
       "    </tr>\n",
       "  </thead>\n",
       "  <tbody>\n",
       "    <tr>\n",
       "      <th>count</th>\n",
       "      <td>7,193.00</td>\n",
       "      <td>7,193.00</td>\n",
       "      <td>7,193.00</td>\n",
       "      <td>7,193.00</td>\n",
       "    </tr>\n",
       "    <tr>\n",
       "      <th>mean</th>\n",
       "      <td>418.87</td>\n",
       "      <td>913.72</td>\n",
       "      <td>40.19</td>\n",
       "      <td>-55.61</td>\n",
       "    </tr>\n",
       "    <tr>\n",
       "      <th>std</th>\n",
       "      <td>530.32</td>\n",
       "      <td>666.85</td>\n",
       "      <td>12.47</td>\n",
       "      <td>62.71</td>\n",
       "    </tr>\n",
       "    <tr>\n",
       "      <th>min</th>\n",
       "      <td>12.00</td>\n",
       "      <td>406.00</td>\n",
       "      <td>-77.72</td>\n",
       "      <td>-168.06</td>\n",
       "    </tr>\n",
       "    <tr>\n",
       "      <th>25%</th>\n",
       "      <td>133.00</td>\n",
       "      <td>522.00</td>\n",
       "      <td>35.99</td>\n",
       "      <td>-97.74</td>\n",
       "    </tr>\n",
       "    <tr>\n",
       "      <th>50%</th>\n",
       "      <td>247.00</td>\n",
       "      <td>691.00</td>\n",
       "      <td>40.73</td>\n",
       "      <td>-77.04</td>\n",
       "    </tr>\n",
       "    <tr>\n",
       "      <th>75%</th>\n",
       "      <td>479.00</td>\n",
       "      <td>1,038.00</td>\n",
       "      <td>46.07</td>\n",
       "      <td>-1.16</td>\n",
       "    </tr>\n",
       "    <tr>\n",
       "      <th>max</th>\n",
       "      <td>6,639.00</td>\n",
       "      <td>8,603.00</td>\n",
       "      <td>78.24</td>\n",
       "      <td>176.39</td>\n",
       "    </tr>\n",
       "  </tbody>\n",
       "</table>\n",
       "</div>"
      ],
      "text/plain": [
       "      numPeopleVisited numPeopleWant  placeAlt placeLong\n",
       "count         7,193.00      7,193.00  7,193.00  7,193.00\n",
       "mean            418.87        913.72     40.19    -55.61\n",
       "std             530.32        666.85     12.47     62.71\n",
       "min              12.00        406.00    -77.72   -168.06\n",
       "25%             133.00        522.00     35.99    -97.74\n",
       "50%             247.00        691.00     40.73    -77.04\n",
       "75%             479.00      1,038.00     46.07     -1.16\n",
       "max           6,639.00      8,603.00     78.24    176.39"
      ]
     },
     "execution_count": 7,
     "metadata": {},
     "output_type": "execute_result"
    }
   ],
   "source": [
    "data2.describe().applymap('{:,.2f}'.format)"
   ]
  },
  {
   "cell_type": "markdown",
   "metadata": {},
   "source": [
    "The average of people (that belong to the Atlas Obscura community) that visited a site is 418.87, instead the average of people that would like to visit a precise site is 913.72. Interesting is the information about the minimum (12 for \"numPeopleVisited\" and 406 for \"numPeopleWant\"): infact the value in the variable \"number of people want\" is much bigger than \"number of people visited\". What can be deduced is that even a touristic location that is very unknown and rarely visited create a lof of curiosity in the travelers. "
   ]
  },
  {
   "cell_type": "code",
   "execution_count": 13,
   "metadata": {},
   "outputs": [
    {
     "data": {
      "image/png": "[encoded data removed]",
      "text/plain": [
       "<Figure size 720x360 with 1 Axes>"
      ]
     },
     "metadata": {},
     "output_type": "display_data"
    }
   ],
   "source": [
    "top_meta = data2.sort_values([\"numPeopleVisited\"], ascending = False).head(10)\n",
    "plt.figure(figsize=(10,5))\n",
    "grafico3 = sns.barplot(x = top_meta.numPeopleVisited,y = top_meta.placeName, palette=\"plasma\")\n",
    "grafico3.set(xlabel = \"Number of people that visited the place\", ylabel = \"Place name \", title = \"Most visited places\")\n",
    "plt.show()"
   ]
  },
  {
   "cell_type": "markdown",
   "metadata": {},
   "source": [
    "Different it's the situation for the Most desidered places. In fact, they don't match with the most visited places. At the first place there is the City Hall Station in New York with 8603 people that want to go there, at the second place there is the Highgate Cemetery in London which is in the favourite places of 8206 people. At the third place there is the Leadenhall Market in London with 7593 units."
   ]
  },
  {
   "cell_type": "markdown",
   "metadata": {},
   "source": [
    "The mismatch between the most visited and most desired places leads us to study the correlation between these two variables."
   ]
  },
  {
   "cell_type": "code",
   "execution_count": 14,
   "metadata": {},
   "outputs": [
    {
     "name": "stdout",
     "output_type": "stream",
     "text": [
      "Pearson correlation:  0.4638404488887379\n"
     ]
    },
    {
     "data": {
      "image/png": "[encoded data removed]",
      "text/plain": [
       "<Figure size 432x288 with 1 Axes>"
      ]
     },
     "metadata": {},
     "output_type": "display_data"
    }
   ],
   "source": [
    "var1 = data2.numPeopleVisited\n",
    "var2 = data2.numPeopleWant\n",
    "print(\"Pearson correlation: \", var1.corr(var2, method = \"pearson\"))\n",
    "grafico4 = sns.scatterplot(x=\"numPeopleVisited\", y=\"numPeopleWant\", data=data2, palette = \"plasma\");\n",
    "plt.show()"
   ]
  },
  {
   "cell_type": "markdown",
   "metadata": {},
   "source": [
    "Pearson's correlation index is low  (0.46), so there is not a strong liner correlation on average between the two variables and a weak linear dependence."
   ]
  },
  {
   "cell_type": "code",
   "execution_count": 15,
   "metadata": {},
   "outputs": [],
   "source": [
    "keys, values = findTop(data2, \"placeEditors\")"
   ]
  },
  {
   "cell_type": "code",
   "execution_count": 17,
   "metadata": {},
   "outputs": [
    {
     "data": {
      "image/png": "[encoded data removed]",
      "text/plain": [
       "<Figure size 1296x576 with 1 Axes>"
      ]
     },
     "metadata": {},
     "output_type": "display_data"
    }
   ],
   "source": [
    "\n",
    "\n",
    "plt.figure(figsize=(18,8))\n",
    "grafico5 = sns.barplot(x = keys,y = values, palette=\"plasma\")\n",
    "grafico5.set(xlabel = \"Top 10 editors more active\", ylabel = \"Number of pubblication for editor\", title = \"Top 10 Editors\")\n",
    "plt.show()"
   ]
  },
  {
   "cell_type": "markdown",
   "metadata": {},
   "source": [
    "This barplot represent the top 10 editors (the people that writed more publications in the website). The first place belong to \"of\" (1041), the second to \"McBride\" (713) and the third to \"Black\" 269. The first two editors can be considered outliers because they have a very high number of publications compared to other editors."
   ]
  },
  {
   "cell_type": "code",
   "execution_count": 18,
   "metadata": {},
   "outputs": [],
   "source": [
    "keys, values = findTop(data2, \"placeTags\")"
   ]
  },
  {
   "cell_type": "code",
   "execution_count": 19,
   "metadata": {},
   "outputs": [
    {
     "data": {
      "image/png": "[encoded data removed]",
      "text/plain": [
       "<Figure size 1296x576 with 1 Axes>"
      ]
     },
     "metadata": {},
     "output_type": "display_data"
    }
   ],
   "source": [
    "\n",
    "plt.figure(figsize=(18,8))\n",
    "grafico6 = sns.barplot(x = keys,y =  values, palette=\"plasma\")\n",
    "grafico6.set(xlabel = \"Tags most used\", ylabel = \"Total number of each tag in the website\", title = \"Top 10 tags\")\n",
    "plt.show()"
   ]
  },
  {
   "cell_type": "markdown",
   "metadata": {},
   "source": [
    "In the end of this analysis, collecting all the tags on the site, is viewable that architecture is the topic with more places in the website (942), after, more in particular, there are architectural oddities (720), and later museums (692)."
   ]
  },
  {
   "cell_type": "markdown",
   "metadata": {},
   "source": [
    "# 2. Search Engine"
   ]
  },
  {
   "cell_type": "markdown",
   "metadata": {},
   "source": [
    "Before starting the search engines, since we'll look for words in the descriptions of each place, we clean the collected placeDesc for every place in the dataset.  \n",
    "In order to have later a more readable output we'll not sobsitute the column placeDesc with the one with all the cleaned descriptions but we'll add another column to our dataset 'data'.   \n",
    "In particular the function *cleaning*, that we apply in the next cell at every description, will:\n",
    "- convert all the upper characters in lower ones;\n",
    "- remove all the punctuations;\n",
    "- remove all the stopwords;\n",
    "- remove all numbers;\n",
    "- stem the string."
   ]
  },
  {
   "cell_type": "markdown",
   "metadata": {},
   "source": [
    "Let's create a new column with the clean descriptions:"
   ]
  },
  {
   "cell_type": "code",
   "execution_count": null,
   "metadata": {},
   "outputs": [],
   "source": [
    "#The function cleaning takes as input a string (a description) and returns the cleaned description as a list of strings\n",
    "data['cleanDesc'] = data.placeDesc.apply(lambda row: \" \".join(cleaning(row)))"
   ]
  },
  {
   "cell_type": "markdown",
   "metadata": {},
   "source": [
    "Now we save the data as a .csv file for future uses so that we don't need to run again the previous cell."
   ]
  },
  {
   "cell_type": "code",
   "execution_count": null,
   "metadata": {},
   "outputs": [],
   "source": [
    "data.to_csv(\"dataframe_clean.csv\")"
   ]
  },
  {
   "cell_type": "markdown",
   "metadata": {},
   "source": [
    "Run the following cell if you want the original dataframe with a column 'cleanDesc' with the cleaned description."
   ]
  },
  {
   "cell_type": "code",
   "execution_count": 3,
   "metadata": {},
   "outputs": [],
   "source": [
    "data = pd.read_csv(\"dataframe_clean.csv\")\n",
    "data.fillna('', inplace=True)"
   ]
  },
  {
   "cell_type": "markdown",
   "metadata": {},
   "source": [
    "## 2.1 Conjunctive query"
   ]
  },
  {
   "cell_type": "markdown",
   "metadata": {},
   "source": [
    "### 2.1.1 Create your index!"
   ]
  },
  {
   "cell_type": "markdown",
   "metadata": {},
   "source": [
    "The next function *createFirstDic*, given the dataset 'data', will return the dictionary *vocabulary* .     \n",
    "Vocabulary will be such that every key is a unique word contained in the descriptions and its corresponing value is an integer that identifies that word."
   ]
  },
  {
   "cell_type": "code",
   "execution_count": 79,
   "metadata": {},
   "outputs": [],
   "source": [
    "def createFirstDic(data: pd.DataFrame, nameCol: str) -> dict:\n",
    "    # first we create an empty dictionary\n",
    "    dic = {}\n",
    "    value = 1\n",
    "    for description in tqdm(data[nameCol]):\n",
    "        for word in description.split():\n",
    "            # if the word is already in the dictionary keys this mean that it has already even a corresponding number and\n",
    "            # so we can skip to the next word in the fixed description\n",
    "            if word in dic.keys():\n",
    "                continue\n",
    "            # otherwise we create a new key named 'word' with value = value and then we upgrade value\n",
    "            else:\n",
    "                dic[word] = value\n",
    "                value += 1\n",
    "    return dic"
   ]
  },
  {
   "cell_type": "markdown",
   "metadata": {},
   "source": [
    "We can now call the function createFirstDic and store its output as *vocabulary*:"
   ]
  },
  {
   "cell_type": "code",
   "execution_count": null,
   "metadata": {},
   "outputs": [],
   "source": [
    "vocabulary = createFirstDic(data, \"cleanDesc\")"
   ]
  },
  {
   "cell_type": "markdown",
   "metadata": {},
   "source": [
    "The second dictionary that we'll need for the first search engine is *inverted index* that is such that every key is an integer that identifies a word and its corresponding value is a set of all the document_id that contain that word.    \n",
    "The following function *createSecondDic*, given as input the dataset 'data' and the dictionary 'vocabulary', will return the *inverted index* dictionary.  "
   ]
  },
  {
   "cell_type": "code",
   "execution_count": 80,
   "metadata": {},
   "outputs": [],
   "source": [
    "def createSecondDic(data: pd.DataFrame, vocabulary: dict, nameCol: str) -> dict:\n",
    "    dic = {}\n",
    "    # a will keep track of the row index of the data\n",
    "    a = 0\n",
    "    # we take one description at a time from the column 'cleanDesc'\n",
    "    for description in tqdm(data[nameCol]):\n",
    "        # for every word in the fixed description \n",
    "        for word in description.split():\n",
    "            # if the corresponding integer of the word is already in the keys of the inverted_index then we need to\n",
    "            # add the document_id of the fixed description to the already existing set\n",
    "            if vocabulary[word] in dic.keys():\n",
    "                dic[vocabulary[word]].add(data.placeName[a])\n",
    "            # otherwise we create a new key named as the corresponding integer of the word with value equal to a set that \n",
    "            # contains the document_id of the fixed description\n",
    "            else:\n",
    "                dic[vocabulary[word]] = set([data.placeName[a]])\n",
    "        a += 1\n",
    "    return dic"
   ]
  },
  {
   "cell_type": "markdown",
   "metadata": {},
   "source": [
    "We can now call the function createSecondDic and store its output as *inverted_index*:"
   ]
  },
  {
   "cell_type": "code",
   "execution_count": null,
   "metadata": {},
   "outputs": [],
   "source": [
    "inverted_index = createSecondDic(data,vocabulary, \"cleanDesc\")"
   ]
  },
  {
   "cell_type": "markdown",
   "metadata": {},
   "source": [
    "Even in this case we can store the two dictionary in a separate file so that we don't need to run the codes everytime we need them."
   ]
  },
  {
   "cell_type": "code",
   "execution_count": null,
   "metadata": {},
   "outputs": [],
   "source": [
    "save_dic(vocabulary, \"vocabulary\")\n",
    "save_dic(inverted_index,\"inverted_index\")"
   ]
  },
  {
   "cell_type": "markdown",
   "metadata": {},
   "source": [
    "Run the following cell if you want the dictionaries *vocabulary* and *inverted_index*."
   ]
  },
  {
   "cell_type": "code",
   "execution_count": 21,
   "metadata": {},
   "outputs": [],
   "source": [
    "vocabulary = read_dic(\"vocabulary\")\n",
    "inverted_index = read_dic(\"inverted_index\")"
   ]
  },
  {
   "cell_type": "markdown",
   "metadata": {},
   "source": [
    "### 2.1.2 Execute the query"
   ]
  },
  {
   "cell_type": "markdown",
   "metadata": {},
   "source": [
    "First of all we ask the user which query do we have to look for in the places descriptions and we store it as a string named *q*:"
   ]
  },
  {
   "cell_type": "code",
   "execution_count": 22,
   "metadata": {},
   "outputs": [],
   "source": [
    "q = input('Insert the query that you want to find in the places descriptions: ')"
   ]
  },
  {
   "cell_type": "markdown",
   "metadata": {},
   "source": [
    "Before starting the first search engine with the query *q* we need to clean q too."
   ]
  },
  {
   "cell_type": "code",
   "execution_count": 23,
   "metadata": {},
   "outputs": [
    {
     "name": "stdout",
     "output_type": "stream",
     "text": [
      "['american', 'museum']\n"
     ]
    }
   ],
   "source": [
    "q = cleaning(q) \n",
    "# now q is a list that contains the cleaned word of the input query\n",
    "print(q)"
   ]
  },
  {
   "cell_type": "markdown",
   "metadata": {},
   "source": [
    "The next function *query* is our first search engine that, given as input a list of words (the query), it will return as output a list of all the documents_id that contain all the words in the list."
   ]
  },
  {
   "cell_type": "code",
   "execution_count": 24,
   "metadata": {},
   "outputs": [],
   "source": [
    "def query(list, vocabulary, inverted_index):\n",
    "    # s is the set of the documents_id that contain the first word in the query\n",
    "    s = inverted_index[vocabulary[list[0]]]\n",
    "    # starting from the second word in the query till the last we'll intersect the set s with the set of all the documents_id \n",
    "    # that contain the fixed word \n",
    "    for x in range(1, len(list)):\n",
    "        s.intersection(inverted_index[vocabulary[list[x]]])\n",
    "    return s"
   ]
  },
  {
   "cell_type": "markdown",
   "metadata": {},
   "source": [
    "We can now execute the previous function with our query q:"
   ]
  },
  {
   "cell_type": "code",
   "execution_count": 25,
   "metadata": {},
   "outputs": [],
   "source": [
    "s = query(q,vocabulary,inverted_index)\n",
    "# s is the set with all the documents_id of all the descriptions that contain all the words in the query"
   ]
  },
  {
   "cell_type": "markdown",
   "metadata": {},
   "source": [
    "We can now create a new dataset *res_query* with just the places we're interested in:"
   ]
  },
  {
   "cell_type": "code",
   "execution_count": 26,
   "metadata": {},
   "outputs": [],
   "source": [
    "res_query = data[data['placeName'].isin(list(s))]"
   ]
  },
  {
   "cell_type": "markdown",
   "metadata": {},
   "source": [
    "With the following code we'll show the result of the first search engine.    \n",
    "In particular we'll show just the places names, their description and their URL."
   ]
  },
  {
   "cell_type": "code",
   "execution_count": 29,
   "metadata": {},
   "outputs": [
    {
     "data": {
      "text/html": [
       "<div>\n",
       "<style scoped>\n",
       "    .dataframe tbody tr th:only-of-type {\n",
       "        vertical-align: middle;\n",
       "    }\n",
       "\n",
       "    .dataframe tbody tr th {\n",
       "        vertical-align: top;\n",
       "    }\n",
       "\n",
       "    .dataframe thead th {\n",
       "        text-align: right;\n",
       "    }\n",
       "</style>\n",
       "<table border=\"1\" class=\"dataframe\">\n",
       "  <thead>\n",
       "    <tr style=\"text-align: right;\">\n",
       "      <th></th>\n",
       "      <th>placeName</th>\n",
       "      <th>placeDesc</th>\n",
       "      <th>placeURL</th>\n",
       "    </tr>\n",
       "  </thead>\n",
       "  <tbody>\n",
       "    <tr>\n",
       "      <th>3</th>\n",
       "      <td>Amityville Horror House</td>\n",
       "      <td>On a cold November night in 1974, Amityville, ...</td>\n",
       "      <td>https://www.atlasobscura.com/places/amityville...</td>\n",
       "    </tr>\n",
       "    <tr>\n",
       "      <th>6</th>\n",
       "      <td>American Prohibition Museum</td>\n",
       "      <td>When the 18th Amendment to the U.S. Constituti...</td>\n",
       "      <td>https://www.atlasobscura.com/places/american-p...</td>\n",
       "    </tr>\n",
       "    <tr>\n",
       "      <th>13</th>\n",
       "      <td>Wild Blueberry Land</td>\n",
       "      <td>There is no shortage of bizarre American highw...</td>\n",
       "      <td>https://www.atlasobscura.com/places/wild-blueb...</td>\n",
       "    </tr>\n",
       "    <tr>\n",
       "      <th>39</th>\n",
       "      <td>The Avrocar</td>\n",
       "      <td>The year was 1952 and the Cold War was in full...</td>\n",
       "      <td>https://www.atlasobscura.com/places/avrocar</td>\n",
       "    </tr>\n",
       "    <tr>\n",
       "      <th>59</th>\n",
       "      <td>Laurel Dinosaur Park</td>\n",
       "      <td>During the 18th and 19th centuries, clay forma...</td>\n",
       "      <td>https://www.atlasobscura.com/places/laurel-din...</td>\n",
       "    </tr>\n",
       "  </tbody>\n",
       "</table>\n",
       "</div>"
      ],
      "text/plain": [
       "                      placeName  \\\n",
       "3       Amityville Horror House   \n",
       "6   American Prohibition Museum   \n",
       "13          Wild Blueberry Land   \n",
       "39                 The Avrocar    \n",
       "59         Laurel Dinosaur Park   \n",
       "\n",
       "                                            placeDesc  \\\n",
       "3   On a cold November night in 1974, Amityville, ...   \n",
       "6   When the 18th Amendment to the U.S. Constituti...   \n",
       "13  There is no shortage of bizarre American highw...   \n",
       "39  The year was 1952 and the Cold War was in full...   \n",
       "59  During the 18th and 19th centuries, clay forma...   \n",
       "\n",
       "                                             placeURL  \n",
       "3   https://www.atlasobscura.com/places/amityville...  \n",
       "6   https://www.atlasobscura.com/places/american-p...  \n",
       "13  https://www.atlasobscura.com/places/wild-blueb...  \n",
       "39        https://www.atlasobscura.com/places/avrocar  \n",
       "59  https://www.atlasobscura.com/places/laurel-din...  "
      ]
     },
     "execution_count": 29,
     "metadata": {},
     "output_type": "execute_result"
    }
   ],
   "source": [
    "res_query[['placeName','placeDesc','placeURL']].head(5)"
   ]
  },
  {
   "cell_type": "markdown",
   "metadata": {},
   "source": [
    "## 2.2 Conjunctive query & Ranking score"
   ]
  },
  {
   "cell_type": "markdown",
   "metadata": {},
   "source": [
    "### 2.2.1 Inverted index"
   ]
  },
  {
   "cell_type": "markdown",
   "metadata": {},
   "source": [
    "Now we have to create another dictionary *inverted_index_2* in which we store also the *tfidf* values of the words.   \n",
    "As suggested, since the tfidf are invariant for the query we can precalculate them before and store them in a dataframe *df*.    \n",
    "In order to do this we use the module *TfidfVectorizer* that is able to compute the tfidf values of all the unique words in the places descriptions."
   ]
  },
  {
   "cell_type": "code",
   "execution_count": null,
   "metadata": {
    "scrolled": true
   },
   "outputs": [],
   "source": [
    "vectorizer = TfidfVectorizer(use_idf=True, analyzer='word',sublinear_tf=True)\n",
    "x =vectorizer.fit_transform(data[\"cleanDesc\"]).todense()\n",
    "df = pd.DataFrame(x, columns = vectorizer.get_feature_names_out())"
   ]
  },
  {
   "cell_type": "markdown",
   "metadata": {},
   "source": [
    "*df* now is a dataframe such that every row corresponds to a place's description and every column corresponds to a word found in the descriptions.    \n",
    "Using now *df* and the two dictionary previously created, we can now create *inverted_index_2* that will be such that every key is an integer that corresponds to a word and its value is a list of touples (document_id, tfidf{word,document_id})."
   ]
  },
  {
   "cell_type": "code",
   "execution_count": null,
   "metadata": {},
   "outputs": [],
   "source": [
    "def createInvertedIndex(data, vocabulary, nameCol, matrix):\n",
    "    inverted_index2 = {}\n",
    "    # for every word in columns name of df\n",
    "    a = 0\n",
    "    for word in tqdm(matrix.columns):\n",
    "        # we fix a row in df that correspond to a place's description\n",
    "        for place in matrix.index:\n",
    "            # if in the keys of our dictionary there already is the integer that corresponds to our word then we just have to \n",
    "            # add a tuple to our existing set with the placeName and the tfidf score of that word in the fixed description\n",
    "            if vocabulary[word] in inverted_index2.keys() and matrix[word][place] != 0:\n",
    "                inverted_index2[vocabulary[word]].add((data[nameCol][place], matrix[word][place]))\n",
    "            # otherwise we can add a new key with value a set that contains a tuple (placeName,tfidf{word,placeName})\n",
    "            else:\n",
    "                inverted_index2[vocabulary[word]] = set((data[nameCol][place], matrix[word][place]))           \n",
    "    return inverted_index2"
   ]
  },
  {
   "cell_type": "markdown",
   "metadata": {},
   "source": [
    "We can now execute the previous function with as input our *data*, *vocabulary* and *df*:"
   ]
  },
  {
   "cell_type": "code",
   "execution_count": null,
   "metadata": {},
   "outputs": [],
   "source": [
    "inverted_index_2 = createInvertedIndex(data, vocabulary, \"cleanDesc\", df)"
   ]
  },
  {
   "cell_type": "markdown",
   "metadata": {},
   "source": [
    "As previously done with the other two dictionary, we store *inverted_index_2* in a separate file so that we don't have to compute it again."
   ]
  },
  {
   "cell_type": "code",
   "execution_count": null,
   "metadata": {},
   "outputs": [],
   "source": [
    "save_dic(inverted_index_2, \"inverted_index_2\")"
   ]
  },
  {
   "cell_type": "markdown",
   "metadata": {},
   "source": [
    "Run the following cell if you want the dictionariy *inverted_index_2*."
   ]
  },
  {
   "cell_type": "code",
   "execution_count": 30,
   "metadata": {},
   "outputs": [],
   "source": [
    "inverted_index_2 = read_dic(\"inverted_index_2\")"
   ]
  },
  {
   "cell_type": "markdown",
   "metadata": {},
   "source": [
    "### 2.2.2) Execute the query"
   ]
  },
  {
   "cell_type": "markdown",
   "metadata": {},
   "source": [
    "Since later we'll need again to compute cosine similarity between a query given by the user and a column of our dataframe *data* we've decided to create a generic function that is able to:\n",
    "- find the matrix of *tfidf* scores of  the query and the words in a given column of *data* (*nameCol*);\n",
    "- create the dictionary *vocabulary* and *inverted_index* with words in *nameCol*;\n",
    "- look for all the places that contain the words in the query in *nameCol*;\n",
    "- compute the cosine similarity;\n",
    "- sort the dataframe by the cosine similarity."
   ]
  },
  {
   "cell_type": "markdown",
   "metadata": {},
   "source": [
    "The functions ***\"query_tfidf()\"*** and ***\"cosine_score\"*** can be seen in the file function.py\n",
    "\n",
    "The function \"query_tfidf()\" is the function responsible for executing exercise 2.2 in full. First, via TfidfVectorizer we create our matrix for the tfidf score of each column, i.e., word, for each row, i.e., document.<br>\n",
    "Next we call the query function on the string you selected, filter all the results useful for our search, and then calculate the cosine similarity. That will be used to sort the result of our query"
   ]
  },
  {
   "cell_type": "markdown",
   "metadata": {},
   "source": [
    "The function ***cosine_score*** given *res_query*, *df* and *qv* is able to compute the cosine similarity of the places descriptions with respect to the query.    \n",
    "Let's remark what is the cosine similarity of a description to a query:\n",
    "$$cosine similarity = \\frac{sentence\\cdot query}{\\Vert sentence\\Vert  \\Vert query\\Vert}$$\n",
    "where *sentence* is the tfidf vector of the given sentence and *query* is the tfidf of the query."
   ]
  },
  {
   "cell_type": "markdown",
   "metadata": {},
   "source": [
    "Finally we can ask the user the query he wants to find in the places descriptions and execute the function *query_tfidf*:"
   ]
  },
  {
   "cell_type": "code",
   "execution_count": 32,
   "metadata": {},
   "outputs": [
    {
     "data": {
      "text/html": [
       "<div>\n",
       "<style scoped>\n",
       "    .dataframe tbody tr th:only-of-type {\n",
       "        vertical-align: middle;\n",
       "    }\n",
       "\n",
       "    .dataframe tbody tr th {\n",
       "        vertical-align: top;\n",
       "    }\n",
       "\n",
       "    .dataframe thead th {\n",
       "        text-align: right;\n",
       "    }\n",
       "</style>\n",
       "<table border=\"1\" class=\"dataframe\">\n",
       "  <thead>\n",
       "    <tr style=\"text-align: right;\">\n",
       "      <th></th>\n",
       "      <th>placeName</th>\n",
       "      <th>placeDesc</th>\n",
       "      <th>placeURL</th>\n",
       "      <th>CS_cleanDesc</th>\n",
       "    </tr>\n",
       "  </thead>\n",
       "  <tbody>\n",
       "    <tr>\n",
       "      <th>4563</th>\n",
       "      <td>Self-Taught Genius Gallery</td>\n",
       "      <td>In 2017, the American Folk Art Museum in Manha...</td>\n",
       "      <td>https://www.atlasobscura.com/places/self-taugh...</td>\n",
       "      <td>0.181039</td>\n",
       "    </tr>\n",
       "    <tr>\n",
       "      <th>605</th>\n",
       "      <td>Renwick Gallery</td>\n",
       "      <td>The Renwick Gallery building has the distincti...</td>\n",
       "      <td>https://www.atlasobscura.com/places/renwick-ga...</td>\n",
       "      <td>0.180539</td>\n",
       "    </tr>\n",
       "    <tr>\n",
       "      <th>2216</th>\n",
       "      <td>American Writers Museum</td>\n",
       "      <td>The American Writers Museum—tucked away on the...</td>\n",
       "      <td>https://www.atlasobscura.com/places/american-w...</td>\n",
       "      <td>0.176558</td>\n",
       "    </tr>\n",
       "    <tr>\n",
       "      <th>2585</th>\n",
       "      <td>Mount Angel Abbey Museum</td>\n",
       "      <td>The Mount Angel Abbey Museum is a very eclecti...</td>\n",
       "      <td>https://www.atlasobscura.com/places/mount-ange...</td>\n",
       "      <td>0.168144</td>\n",
       "    </tr>\n",
       "    <tr>\n",
       "      <th>4413</th>\n",
       "      <td>The American Pigeon Museum</td>\n",
       "      <td>Many people, especially in big cities, view pi...</td>\n",
       "      <td>https://www.atlasobscura.com/places/the-americ...</td>\n",
       "      <td>0.167326</td>\n",
       "    </tr>\n",
       "  </tbody>\n",
       "</table>\n",
       "</div>"
      ],
      "text/plain": [
       "                        placeName  \\\n",
       "4563   Self-Taught Genius Gallery   \n",
       "605               Renwick Gallery   \n",
       "2216      American Writers Museum   \n",
       "2585     Mount Angel Abbey Museum   \n",
       "4413  The American Pigeon Museum    \n",
       "\n",
       "                                              placeDesc  \\\n",
       "4563  In 2017, the American Folk Art Museum in Manha...   \n",
       "605   The Renwick Gallery building has the distincti...   \n",
       "2216  The American Writers Museum—tucked away on the...   \n",
       "2585  The Mount Angel Abbey Museum is a very eclecti...   \n",
       "4413  Many people, especially in big cities, view pi...   \n",
       "\n",
       "                                               placeURL  CS_cleanDesc  \n",
       "4563  https://www.atlasobscura.com/places/self-taugh...      0.181039  \n",
       "605   https://www.atlasobscura.com/places/renwick-ga...      0.180539  \n",
       "2216  https://www.atlasobscura.com/places/american-w...      0.176558  \n",
       "2585  https://www.atlasobscura.com/places/mount-ange...      0.168144  \n",
       "4413  https://www.atlasobscura.com/places/the-americ...      0.167326  "
      ]
     },
     "execution_count": 32,
     "metadata": {},
     "output_type": "execute_result"
    }
   ],
   "source": [
    "q = input('Insert the query that you want to find in the places descriptions: ')\n",
    "final_query = query_tfidf(data, \"cleanDesc\", q, vocabulary, inverted_index)\n",
    "final_query[['placeName','placeDesc','placeURL','CS_cleanDesc']].head(5)"
   ]
  },
  {
   "cell_type": "markdown",
   "metadata": {},
   "source": [
    "# 3. Define a new score!"
   ]
  },
  {
   "cell_type": "markdown",
   "metadata": {},
   "source": [
    "Our idea is to create a new score based on the number of people who have already been in a place or on the number of people who want to see that place. \n",
    "First we let the user insert the query that he want to search in the places descriptions.   \n",
    "Then we let the user choose the number of places he wants to see in the final output and if he wants to sort the places by the scores of *numPeopleVisited* or of *numPeopleWant*.  \n",
    "As last input we ask the user if he wants to see the most popular ones or the least."
   ]
  },
  {
   "cell_type": "code",
   "execution_count": 66,
   "metadata": {},
   "outputs": [],
   "source": [
    "q = input(\"Insert the words that you want to be found in the description's places: \")"
   ]
  },
  {
   "cell_type": "markdown",
   "metadata": {},
   "source": [
    "As before, the first thing that we do is to clean the query:"
   ]
  },
  {
   "cell_type": "code",
   "execution_count": 67,
   "metadata": {},
   "outputs": [
    {
     "name": "stdout",
     "output_type": "stream",
     "text": [
      "['church']\n"
     ]
    }
   ],
   "source": [
    "q = cleaning(q) \n",
    "# now q is a list that contains the cleaned word of the input query\n",
    "print(q)"
   ]
  },
  {
   "cell_type": "markdown",
   "metadata": {},
   "source": [
    "Then we execute the first search engine as in 2.1 with the query given by the user:"
   ]
  },
  {
   "cell_type": "code",
   "execution_count": 68,
   "metadata": {},
   "outputs": [],
   "source": [
    "s = query(q,vocabulary,inverted_index)\n",
    "res_query = data[data['placeName'].isin(list(s))]\n",
    "res_query.reset_index(inplace = True, drop=True) "
   ]
  },
  {
   "cell_type": "markdown",
   "metadata": {},
   "source": [
    "Now we can ask the user which type of score he wants and store the choice in a variable *n*"
   ]
  },
  {
   "cell_type": "code",
   "execution_count": 69,
   "metadata": {},
   "outputs": [],
   "source": [
    "n = int(input('What is the top rank visualization that you want to have? \\nInsert \"1\" if you prefer that is by number of tourists. \\nInsert \"2\" if you prefer that is by number of people that want to visit the site.\\n'))"
   ]
  },
  {
   "cell_type": "markdown",
   "metadata": {},
   "source": [
    "Then we can ask to insert the number of places he wants to see (*k*) and if he wants to see the most popular or the least (*m*):"
   ]
  },
  {
   "cell_type": "code",
   "execution_count": 70,
   "metadata": {},
   "outputs": [],
   "source": [
    "k = int(input('Insert k the number of places that you want to visualize:')) \n",
    "m = int(input('Insert \"1\" if you want to see the k most popular places or insert \"2\" if you want to see the less famous places:'))"
   ]
  },
  {
   "cell_type": "markdown",
   "metadata": {},
   "source": [
    "The function new_score will return the result of the query. The function itself can be visible in the \"functions.py\" files. Following is a brief explaination of the function execution.\n",
    "Given the places that contains all the words in the query and the choices made by the user (*n*, *k*, *m*) this function will compute the proper new score. The new score will be calculated as the *numPeopleVisited* or *numPeopleWant* divided by the max value in the same column in the dataframe *res_query*. At the end of the function we sort by this new score (in ascending or descending order depending on the user's choice) and return the ordered res_query."
   ]
  },
  {
   "cell_type": "markdown",
   "metadata": {},
   "source": [
    "We can now execute the *new_score* function and print the first *k* element of the final dataframe:"
   ]
  },
  {
   "cell_type": "code",
   "execution_count": 71,
   "metadata": {},
   "outputs": [
    {
     "data": {
      "text/html": [
       "<div>\n",
       "<style scoped>\n",
       "    .dataframe tbody tr th:only-of-type {\n",
       "        vertical-align: middle;\n",
       "    }\n",
       "\n",
       "    .dataframe tbody tr th {\n",
       "        vertical-align: top;\n",
       "    }\n",
       "\n",
       "    .dataframe thead th {\n",
       "        text-align: right;\n",
       "    }\n",
       "</style>\n",
       "<table border=\"1\" class=\"dataframe\">\n",
       "  <thead>\n",
       "    <tr style=\"text-align: right;\">\n",
       "      <th></th>\n",
       "      <th>placeName</th>\n",
       "      <th>placeDesc</th>\n",
       "      <th>placeURL</th>\n",
       "      <th>scores</th>\n",
       "    </tr>\n",
       "  </thead>\n",
       "  <tbody>\n",
       "    <tr>\n",
       "      <th>15</th>\n",
       "      <td>Sagrada Família</td>\n",
       "      <td>When the foundation stone of the Basílica i Te...</td>\n",
       "      <td>https://www.atlasobscura.com/places/sagrada-fa...</td>\n",
       "      <td>1.0000</td>\n",
       "    </tr>\n",
       "    <tr>\n",
       "      <th>401</th>\n",
       "      <td>Hallgrimskirkja</td>\n",
       "      <td>Rising 244 feet above the streets of Reykjavik...</td>\n",
       "      <td>https://www.atlasobscura.com/places/hallgrimsk...</td>\n",
       "      <td>0.6073</td>\n",
       "    </tr>\n",
       "    <tr>\n",
       "      <th>467</th>\n",
       "      <td>Boston's Old Burying Grounds</td>\n",
       "      <td>“Stay! thou this tomb that passeth by, And thi...</td>\n",
       "      <td>https://www.atlasobscura.com/places/boston-s-o...</td>\n",
       "      <td>0.5504</td>\n",
       "    </tr>\n",
       "    <tr>\n",
       "      <th>154</th>\n",
       "      <td>Old North Church</td>\n",
       "      <td>The Old North Church is a national historic la...</td>\n",
       "      <td>https://www.atlasobscura.com/places/old-north-...</td>\n",
       "      <td>0.5269</td>\n",
       "    </tr>\n",
       "    <tr>\n",
       "      <th>60</th>\n",
       "      <td>One Times Square</td>\n",
       "      <td>Marooned on a triangular intersection at the h...</td>\n",
       "      <td>https://www.atlasobscura.com/places/one-times-...</td>\n",
       "      <td>0.4388</td>\n",
       "    </tr>\n",
       "    <tr>\n",
       "      <th>382</th>\n",
       "      <td>Whispering Gallery at St Paul’s Cathedral</td>\n",
       "      <td>In the walkway that circles the inside of Chri...</td>\n",
       "      <td>https://www.atlasobscura.com/places/whispering...</td>\n",
       "      <td>0.4208</td>\n",
       "    </tr>\n",
       "    <tr>\n",
       "      <th>95</th>\n",
       "      <td>Trinity Churchyard</td>\n",
       "      <td>Now dwarfed by the surrounding Wall Street sky...</td>\n",
       "      <td>https://www.atlasobscura.com/places/trinity-ch...</td>\n",
       "      <td>0.3995</td>\n",
       "    </tr>\n",
       "    <tr>\n",
       "      <th>538</th>\n",
       "      <td>Speakers' Corner</td>\n",
       "      <td>Free speech laws in the United Kingdom include...</td>\n",
       "      <td>https://www.atlasobscura.com/places/speakers-c...</td>\n",
       "      <td>0.3726</td>\n",
       "    </tr>\n",
       "    <tr>\n",
       "      <th>481</th>\n",
       "      <td>Santa Maria della Concezione Crypts</td>\n",
       "      <td>In 1775, the Marquis de Sade wrote of it, “I h...</td>\n",
       "      <td>https://www.atlasobscura.com/places/santa-mari...</td>\n",
       "      <td>0.3498</td>\n",
       "    </tr>\n",
       "    <tr>\n",
       "      <th>556</th>\n",
       "      <td>Notre Dame Basilica</td>\n",
       "      <td>The Notre Dame Basilica is anything but ordina...</td>\n",
       "      <td>https://www.atlasobscura.com/places/notre-dame...</td>\n",
       "      <td>0.3440</td>\n",
       "    </tr>\n",
       "    <tr>\n",
       "      <th>541</th>\n",
       "      <td>The Ruins of St. Dunstan-in-the-East</td>\n",
       "      <td>The church of St.Dunstan-in-the-East has survi...</td>\n",
       "      <td>https://www.atlasobscura.com/places/the-ruins-...</td>\n",
       "      <td>0.3184</td>\n",
       "    </tr>\n",
       "    <tr>\n",
       "      <th>36</th>\n",
       "      <td>Campo de Fiori</td>\n",
       "      <td>Flower stalls, cafes, and throngs of tourists ...</td>\n",
       "      <td>https://www.atlasobscura.com/places/campo-de-f...</td>\n",
       "      <td>0.3042</td>\n",
       "    </tr>\n",
       "    <tr>\n",
       "      <th>92</th>\n",
       "      <td>Roosevelt Island Smallpox Hospital Ruins</td>\n",
       "      <td>Few diseases have had a greater impact on the ...</td>\n",
       "      <td>https://www.atlasobscura.com/places/roosevelt-...</td>\n",
       "      <td>0.2888</td>\n",
       "    </tr>\n",
       "    <tr>\n",
       "      <th>123</th>\n",
       "      <td>Temple Church</td>\n",
       "      <td>Whether or not you’ve read The Da Vinci Code a...</td>\n",
       "      <td>https://www.atlasobscura.com/places/temple-church</td>\n",
       "      <td>0.2798</td>\n",
       "    </tr>\n",
       "    <tr>\n",
       "      <th>16</th>\n",
       "      <td>Sedlec Ossuary \"Bone Church\"</td>\n",
       "      <td>The 40,000 to 70,000 skeletons within Sedlec O...</td>\n",
       "      <td>https://www.atlasobscura.com/places/sedlec-oss...</td>\n",
       "      <td>0.2797</td>\n",
       "    </tr>\n",
       "    <tr>\n",
       "      <th>41</th>\n",
       "      <td>The Athenian Agora</td>\n",
       "      <td>Lying right beneath the northern slope of the ...</td>\n",
       "      <td>https://www.atlasobscura.com/places/the-atheni...</td>\n",
       "      <td>0.2656</td>\n",
       "    </tr>\n",
       "    <tr>\n",
       "      <th>136</th>\n",
       "      <td>The Dome Illusion</td>\n",
       "      <td>The Jesuit church of Saint Ignazio was suppose...</td>\n",
       "      <td>https://www.atlasobscura.com/places/dome-illusion</td>\n",
       "      <td>0.2619</td>\n",
       "    </tr>\n",
       "    <tr>\n",
       "      <th>445</th>\n",
       "      <td>Foucault's Pendulum</td>\n",
       "      <td>In 1851, physicist Léon Foucault demonstrated ...</td>\n",
       "      <td>https://www.atlasobscura.com/places/pantheon-p...</td>\n",
       "      <td>0.2504</td>\n",
       "    </tr>\n",
       "    <tr>\n",
       "      <th>17</th>\n",
       "      <td>Holyrood Abbey Ruins</td>\n",
       "      <td>Since it was completed in the early 13th centu...</td>\n",
       "      <td>https://www.atlasobscura.com/places/holyrood-a...</td>\n",
       "      <td>0.2464</td>\n",
       "    </tr>\n",
       "    <tr>\n",
       "      <th>568</th>\n",
       "      <td>Oudekerksplein</td>\n",
       "      <td>Amsterdam is one of the oldest and most beauti...</td>\n",
       "      <td>https://www.atlasobscura.com/places/oudekerksp...</td>\n",
       "      <td>0.2366</td>\n",
       "    </tr>\n",
       "    <tr>\n",
       "      <th>147</th>\n",
       "      <td>Greyfriars Cemetery Mortsafes</td>\n",
       "      <td>The history of Edinburgh and the history of bo...</td>\n",
       "      <td>https://www.atlasobscura.com/places/greyfriars...</td>\n",
       "      <td>0.2342</td>\n",
       "    </tr>\n",
       "    <tr>\n",
       "      <th>33</th>\n",
       "      <td>Jerónimos Monastery</td>\n",
       "      <td>Though it’s one of the most important building...</td>\n",
       "      <td>https://www.atlasobscura.com/places/jeronimos-...</td>\n",
       "      <td>0.2318</td>\n",
       "    </tr>\n",
       "    <tr>\n",
       "      <th>473</th>\n",
       "      <td>San Diego Museum of Us</td>\n",
       "      <td>The inauguration of the Panama Canal was a ver...</td>\n",
       "      <td>https://www.atlasobscura.com/places/san-diego-...</td>\n",
       "      <td>0.2290</td>\n",
       "    </tr>\n",
       "    <tr>\n",
       "      <th>39</th>\n",
       "      <td>Two Princes Staircase</td>\n",
       "      <td>In the White Tower, the old keep at the Tower ...</td>\n",
       "      <td>https://www.atlasobscura.com/places/two-prince...</td>\n",
       "      <td>0.2217</td>\n",
       "    </tr>\n",
       "    <tr>\n",
       "      <th>264</th>\n",
       "      <td>The Glasgow Necropolis</td>\n",
       "      <td>Fifty thousand bodies are buried in the 37 acr...</td>\n",
       "      <td>https://www.atlasobscura.com/places/glasgow-ne...</td>\n",
       "      <td>0.2209</td>\n",
       "    </tr>\n",
       "    <tr>\n",
       "      <th>256</th>\n",
       "      <td>Mission San Juan Capistrano</td>\n",
       "      <td>Mission San Juan Capistrano was originally con...</td>\n",
       "      <td>https://www.atlasobscura.com/places/mission-sa...</td>\n",
       "      <td>0.2136</td>\n",
       "    </tr>\n",
       "    <tr>\n",
       "      <th>450</th>\n",
       "      <td>Mission San Jose</td>\n",
       "      <td>Mission San Jose was established in 1720 by Fr...</td>\n",
       "      <td>https://www.atlasobscura.com/places/mission-sa...</td>\n",
       "      <td>0.2126</td>\n",
       "    </tr>\n",
       "    <tr>\n",
       "      <th>153</th>\n",
       "      <td>The Aventine Keyhole</td>\n",
       "      <td>A nondescript green door at the end of a cul-d...</td>\n",
       "      <td>https://www.atlasobscura.com/places/the-aventi...</td>\n",
       "      <td>0.2114</td>\n",
       "    </tr>\n",
       "    <tr>\n",
       "      <th>385</th>\n",
       "      <td>Spreckels Temple of Music</td>\n",
       "      <td>Erected in 1900 at the music concourse establi...</td>\n",
       "      <td>https://www.atlasobscura.com/places/spreckels-...</td>\n",
       "      <td>0.2058</td>\n",
       "    </tr>\n",
       "    <tr>\n",
       "      <th>183</th>\n",
       "      <td>Cadet Chapel</td>\n",
       "      <td>Stretching 150 feet into the chilly air outsid...</td>\n",
       "      <td>https://www.atlasobscura.com/places/air-force-...</td>\n",
       "      <td>0.2040</td>\n",
       "    </tr>\n",
       "  </tbody>\n",
       "</table>\n",
       "</div>"
      ],
      "text/plain": [
       "                                     placeName  \\\n",
       "15                             Sagrada Família   \n",
       "401                            Hallgrimskirkja   \n",
       "467               Boston's Old Burying Grounds   \n",
       "154                           Old North Church   \n",
       "60                            One Times Square   \n",
       "382  Whispering Gallery at St Paul’s Cathedral   \n",
       "95                          Trinity Churchyard   \n",
       "538                           Speakers' Corner   \n",
       "481        Santa Maria della Concezione Crypts   \n",
       "556                        Notre Dame Basilica   \n",
       "541       The Ruins of St. Dunstan-in-the-East   \n",
       "36                              Campo de Fiori   \n",
       "92    Roosevelt Island Smallpox Hospital Ruins   \n",
       "123                              Temple Church   \n",
       "16                Sedlec Ossuary \"Bone Church\"   \n",
       "41                          The Athenian Agora   \n",
       "136                          The Dome Illusion   \n",
       "445                        Foucault's Pendulum   \n",
       "17                        Holyrood Abbey Ruins   \n",
       "568                             Oudekerksplein   \n",
       "147             Greyfriars Cemetery Mortsafes    \n",
       "33                         Jerónimos Monastery   \n",
       "473                     San Diego Museum of Us   \n",
       "39                       Two Princes Staircase   \n",
       "264                     The Glasgow Necropolis   \n",
       "256                Mission San Juan Capistrano   \n",
       "450                           Mission San Jose   \n",
       "153                       The Aventine Keyhole   \n",
       "385                 Spreckels Temple of Music    \n",
       "183                               Cadet Chapel   \n",
       "\n",
       "                                             placeDesc  \\\n",
       "15   When the foundation stone of the Basílica i Te...   \n",
       "401  Rising 244 feet above the streets of Reykjavik...   \n",
       "467  “Stay! thou this tomb that passeth by, And thi...   \n",
       "154  The Old North Church is a national historic la...   \n",
       "60   Marooned on a triangular intersection at the h...   \n",
       "382  In the walkway that circles the inside of Chri...   \n",
       "95   Now dwarfed by the surrounding Wall Street sky...   \n",
       "538  Free speech laws in the United Kingdom include...   \n",
       "481  In 1775, the Marquis de Sade wrote of it, “I h...   \n",
       "556  The Notre Dame Basilica is anything but ordina...   \n",
       "541  The church of St.Dunstan-in-the-East has survi...   \n",
       "36   Flower stalls, cafes, and throngs of tourists ...   \n",
       "92   Few diseases have had a greater impact on the ...   \n",
       "123  Whether or not you’ve read The Da Vinci Code a...   \n",
       "16   The 40,000 to 70,000 skeletons within Sedlec O...   \n",
       "41   Lying right beneath the northern slope of the ...   \n",
       "136  The Jesuit church of Saint Ignazio was suppose...   \n",
       "445  In 1851, physicist Léon Foucault demonstrated ...   \n",
       "17   Since it was completed in the early 13th centu...   \n",
       "568  Amsterdam is one of the oldest and most beauti...   \n",
       "147  The history of Edinburgh and the history of bo...   \n",
       "33   Though it’s one of the most important building...   \n",
       "473  The inauguration of the Panama Canal was a ver...   \n",
       "39   In the White Tower, the old keep at the Tower ...   \n",
       "264  Fifty thousand bodies are buried in the 37 acr...   \n",
       "256  Mission San Juan Capistrano was originally con...   \n",
       "450  Mission San Jose was established in 1720 by Fr...   \n",
       "153  A nondescript green door at the end of a cul-d...   \n",
       "385  Erected in 1900 at the music concourse establi...   \n",
       "183  Stretching 150 feet into the chilly air outsid...   \n",
       "\n",
       "                                              placeURL  scores  \n",
       "15   https://www.atlasobscura.com/places/sagrada-fa...  1.0000  \n",
       "401  https://www.atlasobscura.com/places/hallgrimsk...  0.6073  \n",
       "467  https://www.atlasobscura.com/places/boston-s-o...  0.5504  \n",
       "154  https://www.atlasobscura.com/places/old-north-...  0.5269  \n",
       "60   https://www.atlasobscura.com/places/one-times-...  0.4388  \n",
       "382  https://www.atlasobscura.com/places/whispering...  0.4208  \n",
       "95   https://www.atlasobscura.com/places/trinity-ch...  0.3995  \n",
       "538  https://www.atlasobscura.com/places/speakers-c...  0.3726  \n",
       "481  https://www.atlasobscura.com/places/santa-mari...  0.3498  \n",
       "556  https://www.atlasobscura.com/places/notre-dame...  0.3440  \n",
       "541  https://www.atlasobscura.com/places/the-ruins-...  0.3184  \n",
       "36   https://www.atlasobscura.com/places/campo-de-f...  0.3042  \n",
       "92   https://www.atlasobscura.com/places/roosevelt-...  0.2888  \n",
       "123  https://www.atlasobscura.com/places/temple-church  0.2798  \n",
       "16   https://www.atlasobscura.com/places/sedlec-oss...  0.2797  \n",
       "41   https://www.atlasobscura.com/places/the-atheni...  0.2656  \n",
       "136  https://www.atlasobscura.com/places/dome-illusion  0.2619  \n",
       "445  https://www.atlasobscura.com/places/pantheon-p...  0.2504  \n",
       "17   https://www.atlasobscura.com/places/holyrood-a...  0.2464  \n",
       "568  https://www.atlasobscura.com/places/oudekerksp...  0.2366  \n",
       "147  https://www.atlasobscura.com/places/greyfriars...  0.2342  \n",
       "33   https://www.atlasobscura.com/places/jeronimos-...  0.2318  \n",
       "473  https://www.atlasobscura.com/places/san-diego-...  0.2290  \n",
       "39   https://www.atlasobscura.com/places/two-prince...  0.2217  \n",
       "264  https://www.atlasobscura.com/places/glasgow-ne...  0.2209  \n",
       "256  https://www.atlasobscura.com/places/mission-sa...  0.2136  \n",
       "450  https://www.atlasobscura.com/places/mission-sa...  0.2126  \n",
       "153  https://www.atlasobscura.com/places/the-aventi...  0.2114  \n",
       "385  https://www.atlasobscura.com/places/spreckels-...  0.2058  \n",
       "183  https://www.atlasobscura.com/places/air-force-...  0.2040  "
      ]
     },
     "execution_count": 71,
     "metadata": {},
     "output_type": "execute_result"
    }
   ],
   "source": [
    "resquery = new_score(res_query,n,k,m).head(k)\n",
    "resquery[['placeName','placeDesc','placeURL','scores']]"
   ]
  },
  {
   "cell_type": "markdown",
   "metadata": {},
   "source": [
    "# 4 - Visualizing the most relevant places"
   ]
  },
  {
   "cell_type": "markdown",
   "metadata": {},
   "source": [
    "The idea is to create a map to visualize better all the places selected by the query in exercise 3. In the map all the placed will be represented by points with different colors by continent.\n",
    "\n",
    "Hovering the pointer over each place will display the name, city, address, country and the number of people that visited that place."
   ]
  },
  {
   "cell_type": "code",
   "execution_count": 72,
   "metadata": {},
   "outputs": [],
   "source": [
    "geolocator = Nominatim(user_agent=\"geoapiExercises\")"
   ]
  },
  {
   "cell_type": "code",
   "execution_count": 73,
   "metadata": {},
   "outputs": [],
   "source": [
    "#To begin we reset the index for the k places and we create two lists (city, country)\n",
    "resquery.reset_index(inplace = True, drop=True)\n",
    "city=[]\n",
    "country=[]\n",
    "\n",
    "for i in range(resquery.shape[0]):\n",
    "    # this for cicle will iterate all the places saving in lat and long the latitude and longitude\n",
    "    lat = resquery.placeAlt[i]\n",
    "    lon = resquery.placeLong[i]\n",
    "    # geolocator is a library that is able to take the address, city and country giving the latitude and logitude.\n",
    "    location = geolocator.reverse(str(lat)+\",\"+str(lon))\n",
    "    address = location.raw['address']\n",
    "    city.append(address.get('state', ''))\n",
    "    country.append(address.get('country', ''))\n",
    "    \n",
    "    \n",
    "# reach this point we create two columns with the city/state and country\n",
    "resquery.insert(resquery.shape[1], \"city/state\", city)\n",
    "resquery.insert(resquery.shape[1], \"country\", country)\n"
   ]
  },
  {
   "cell_type": "code",
   "execution_count": 74,
   "metadata": {},
   "outputs": [
    {
     "data": {
      "application/vnd.plotly.v1+json": {
       "config": {
        "plotlyServerURL": "https://plot.ly"
       },
       "data": [
        {
         "customdata": [
          [
           "401 Carrer de la Marina Barcelona, 08013 Spain",
           "Catalunya"
          ]
         ],
         "geo": "geo",
         "hovertemplate": "<b>%{hovertext}</b><br><br>country=España<br>number of people who visited this place=%{marker.size}<br>latitude=%{lat}<br>longitude=%{lon}<br>adress=%{customdata[0]}<br>city/state=%{customdata[1]}<extra></extra>",
         "hovertext": [
          "Sagrada Família"
         ],
         "lat": [
          41.4036
         ],
         "legendgroup": "España",
         "lon": [
          2.1744
         ],
         "marker": {
          "color": "#636efa",
          "size": [
           5918
          ],
          "sizemode": "area",
          "sizeref": 14.795,
          "symbol": "circle"
         },
         "mode": "markers",
         "name": "España",
         "showlegend": true,
         "type": "scattergeo"
        },
        {
         "customdata": [
          [
           "4 Eiríksgata Reykjavik, 101 Iceland",
           ""
          ]
         ],
         "geo": "geo",
         "hovertemplate": "<b>%{hovertext}</b><br><br>country=Ísland<br>number of people who visited this place=%{marker.size}<br>latitude=%{lat}<br>longitude=%{lon}<br>adress=%{customdata[0]}<br>city/state=%{customdata[1]}<extra></extra>",
         "hovertext": [
          "Hallgrimskirkja"
         ],
         "lat": [
          64.1417
         ],
         "legendgroup": "Ísland",
         "lon": [
          -21.9266
         ],
         "marker": {
          "color": "#EF553B",
          "size": [
           3594
          ],
          "sizemode": "area",
          "sizeref": 14.795,
          "symbol": "circle"
         },
         "mode": "markers",
         "name": "Ísland",
         "showlegend": true,
         "type": "scattergeo"
        },
        {
         "customdata": [
          [
           "Tremont Street Boston, Massachusetts, 02108 United States",
           "Massachusetts"
          ],
          [
           "Boston, Massachusetts, 02113 United States 42.3663, -71.0543Book a hotel on Kayak Visit Website NearbyBell Ringing Chamber at Old North Church0.01 milesGruchy's Angels0.02 milesSite of the Bernardine Wiget Boys School0.04 miles",
           "Massachusetts"
          ],
          [
           "One Times Square New York, New York, 10036 United States",
           "New York"
          ],
          [
           "75 Broadway New York, New York, 10006 United States",
           "New York"
          ],
          [
           "Roosevelt Island New York, New York, 10044 United States",
           "New York"
          ],
          [
           "1350 El Prado San Diego, California, 92101 United States",
           "California"
          ],
          [
           "Historic Mission San Juan Capistrano  26801 Ortega Hwy San Juan Capistrano, California, 92675",
           "California"
          ],
          [
           "6701 San Jose Dr. San Antonio, Texas, 78214 United States",
           "Texas"
          ],
          [
           "Spreckels Temple of Music  Music Concourse, Golden Gate Park San Francisco, California, 94118",
           "California"
          ],
          [
           "U.S. Air Force Academy, Colorado, 80840 United States 39.0080, -104.8903NearbyTuberculosis Huts4.25 milesGarden of the Gods9.02 milesRainbow Falls 9.84 miles",
           "Colorado"
          ]
         ],
         "geo": "geo",
         "hovertemplate": "<b>%{hovertext}</b><br><br>country=United States<br>number of people who visited this place=%{marker.size}<br>latitude=%{lat}<br>longitude=%{lon}<br>adress=%{customdata[0]}<br>city/state=%{customdata[1]}<extra></extra>",
         "hovertext": [
          "Boston's Old Burying Grounds",
          "Old North Church",
          "One Times Square",
          "Trinity Churchyard",
          "Roosevelt Island Smallpox Hospital Ruins",
          "San Diego Museum of Us",
          "Mission San Juan Capistrano",
          "Mission San Jose",
          "Spreckels Temple of Music ",
          "Cadet Chapel"
         ],
         "lat": [
          42.3573,
          42.3663,
          40.7563,
          40.7083,
          40.7515,
          32.7314,
          33.5019,
          29.3614,
          37.7699,
          39.008
         ],
         "legendgroup": "United States",
         "lon": [
          -71.0613,
          -71.0543,
          -73.9864,
          -74.0128,
          -73.9596,
          -117.1517,
          -117.6628,
          -98.4783,
          -122.4685,
          -104.8903
         ],
         "marker": {
          "color": "#00cc96",
          "size": [
           3257,
           3118,
           2597,
           2364,
           1709,
           1355,
           1264,
           1258,
           1218,
           1207
          ],
          "sizemode": "area",
          "sizeref": 14.795,
          "symbol": "circle"
         },
         "mode": "markers",
         "name": "United States",
         "showlegend": true,
         "type": "scattergeo"
        },
        {
         "customdata": [
          [
           "St Paul's Churchyard  London, England, EC4M 8SH United Kingdom",
           "England"
          ],
          [
           "Hyde Park London, England United Kingdom",
           "England"
          ],
          [
           "St. Dunstan-in-the-East St. Dunstan's Hill London, England, EC3R 8PP",
           "England"
          ],
          [
           "Inner Temple Lane London, England, EC4Y 7AB United Kingdom",
           "England"
          ],
          [
           "Holyrood Abbey Edinburgh, Scotland, EH8 8ED United Kingdom",
           "Alba / Scotland"
          ],
          [
           "Greyfriars Cemetery  Edinburgh, Scotland, EH1 2QE United Kingdom",
           "Alba / Scotland"
          ],
          [
           "HM Tower Of London St Katharine's & Wapping London, England",
           "England"
          ],
          [
           "Wishart Street Glasgow, Scotland United Kingdom",
           "Alba / Scotland"
          ]
         ],
         "geo": "geo",
         "hovertemplate": "<b>%{hovertext}</b><br><br>country=United Kingdom<br>number of people who visited this place=%{marker.size}<br>latitude=%{lat}<br>longitude=%{lon}<br>adress=%{customdata[0]}<br>city/state=%{customdata[1]}<extra></extra>",
         "hovertext": [
          "Whispering Gallery at St Paul’s Cathedral",
          "Speakers' Corner",
          "The Ruins of St. Dunstan-in-the-East",
          "Temple Church",
          "Holyrood Abbey Ruins",
          "Greyfriars Cemetery Mortsafes ",
          "Two Princes Staircase",
          "The Glasgow Necropolis"
         ],
         "lat": [
          51.5138,
          51.512,
          51.5097,
          51.5131,
          55.9531,
          55.9469,
          51.5081,
          55.8627
         ],
         "legendgroup": "United Kingdom",
         "lon": [
          -0.1004,
          -0.1592,
          -0.0827,
          -0.1103,
          -3.1716,
          -3.1928,
          -0.0781,
          -4.2335
         ],
         "marker": {
          "color": "#ab63fa",
          "size": [
           2490,
           2205,
           1884,
           1656,
           1458,
           1386,
           1312,
           1307
          ],
          "sizemode": "area",
          "sizeref": 14.795,
          "symbol": "circle"
         },
         "mode": "markers",
         "name": "United Kingdom",
         "showlegend": true,
         "type": "scattergeo"
        },
        {
         "customdata": [
          [
           "Via Vittorio Veneto, 27 Rome, 00187 Italy",
           "Lazio"
          ],
          [
           "Campo de Fiori Rome, 00186 Italy",
           "Lazio"
          ],
          [
           "Via del Caravita, 8 Rome, 00186 Italy",
           "Lazio"
          ],
          [
           "Piazza dei Cavalieri di Malta 3 Rome, 00153 Italy",
           "Lazio"
          ]
         ],
         "geo": "geo",
         "hovertemplate": "<b>%{hovertext}</b><br><br>country=Italia<br>number of people who visited this place=%{marker.size}<br>latitude=%{lat}<br>longitude=%{lon}<br>adress=%{customdata[0]}<br>city/state=%{customdata[1]}<extra></extra>",
         "hovertext": [
          "Santa Maria della Concezione Crypts",
          "Campo de Fiori",
          "The Dome Illusion",
          "The Aventine Keyhole"
         ],
         "lat": [
          41.9047,
          41.8956,
          41.899,
          41.883
         ],
         "legendgroup": "Italia",
         "lon": [
          12.4882,
          12.4722,
          12.4798,
          12.4786
         ],
         "marker": {
          "color": "#FFA15A",
          "size": [
           2070,
           1800,
           1550,
           1251
          ],
          "sizemode": "area",
          "sizeref": 14.795,
          "symbol": "circle"
         },
         "mode": "markers",
         "name": "Italia",
         "showlegend": true,
         "type": "scattergeo"
        },
        {
         "customdata": [
          [
           "110 Notre-Dame Street West Montreal, Québec, H2Y 1C6 Canada",
           "Québec"
          ]
         ],
         "geo": "geo",
         "hovertemplate": "<b>%{hovertext}</b><br><br>country=Canada<br>number of people who visited this place=%{marker.size}<br>latitude=%{lat}<br>longitude=%{lon}<br>adress=%{customdata[0]}<br>city/state=%{customdata[1]}<extra></extra>",
         "hovertext": [
          "Notre Dame Basilica"
         ],
         "lat": [
          45.5087
         ],
         "legendgroup": "Canada",
         "lon": [
          -73.554
         ],
         "marker": {
          "color": "#19d3f3",
          "size": [
           2036
          ],
          "sizemode": "area",
          "sizeref": 14.795,
          "symbol": "circle"
         },
         "mode": "markers",
         "name": "Canada",
         "showlegend": true,
         "type": "scattergeo"
        },
        {
         "customdata": [
          [
           "1,2 Havlíčkovo náměstí Kutna Hora Czechia",
           "Střední Čechy"
          ]
         ],
         "geo": "geo",
         "hovertemplate": "<b>%{hovertext}</b><br><br>country=Česko<br>number of people who visited this place=%{marker.size}<br>latitude=%{lat}<br>longitude=%{lon}<br>adress=%{customdata[0]}<br>city/state=%{customdata[1]}<extra></extra>",
         "hovertext": [
          "Sedlec Ossuary \"Bone Church\""
         ],
         "lat": [
          49.9482
         ],
         "legendgroup": "Česko",
         "lon": [
          15.2676
         ],
         "marker": {
          "color": "#FF6692",
          "size": [
           1655
          ],
          "sizemode": "area",
          "sizeref": 14.795,
          "symbol": "circle"
         },
         "mode": "markers",
         "name": "Česko",
         "showlegend": true,
         "type": "scattergeo"
        },
        {
         "customdata": [
          [
           "46 Adrianou Athens, 105 55 Greece",
           "Αποκεντρωμένη Διοίκηση Αττικής"
          ]
         ],
         "geo": "geo",
         "hovertemplate": "<b>%{hovertext}</b><br><br>country=Ελλάς<br>number of people who visited this place=%{marker.size}<br>latitude=%{lat}<br>longitude=%{lon}<br>adress=%{customdata[0]}<br>city/state=%{customdata[1]}<extra></extra>",
         "hovertext": [
          "The Athenian Agora"
         ],
         "lat": [
          37.9758
         ],
         "legendgroup": "Ελλάς",
         "lon": [
          23.7247
         ],
         "marker": {
          "color": "#B6E880",
          "size": [
           1572
          ],
          "sizemode": "area",
          "sizeref": 14.795,
          "symbol": "circle"
         },
         "mode": "markers",
         "name": "Ελλάς",
         "showlegend": true,
         "type": "scattergeo"
        },
        {
         "customdata": [
          [
           "Place du Panthéon 75005 Paris  Paris, 75005 France",
           "Île-de-France"
          ]
         ],
         "geo": "geo",
         "hovertemplate": "<b>%{hovertext}</b><br><br>country=France<br>number of people who visited this place=%{marker.size}<br>latitude=%{lat}<br>longitude=%{lon}<br>adress=%{customdata[0]}<br>city/state=%{customdata[1]}<extra></extra>",
         "hovertext": [
          "Foucault's Pendulum"
         ],
         "lat": [
          48.8468
         ],
         "legendgroup": "France",
         "lon": [
          2.3459
         ],
         "marker": {
          "color": "#FF97FF",
          "size": [
           1482
          ],
          "sizemode": "area",
          "sizeref": 14.795,
          "symbol": "circle"
         },
         "mode": "markers",
         "name": "France",
         "showlegend": true,
         "type": "scattergeo"
        },
        {
         "customdata": [
          [
           "Oude Kerk  Amsterdam, 1012 GX Netherlands",
           "Noord-Holland"
          ]
         ],
         "geo": "geo",
         "hovertemplate": "<b>%{hovertext}</b><br><br>country=Nederland<br>number of people who visited this place=%{marker.size}<br>latitude=%{lat}<br>longitude=%{lon}<br>adress=%{customdata[0]}<br>city/state=%{customdata[1]}<extra></extra>",
         "hovertext": [
          "Oudekerksplein"
         ],
         "lat": [
          52.3744
         ],
         "legendgroup": "Nederland",
         "lon": [
          4.898
         ],
         "marker": {
          "color": "#FECB52",
          "size": [
           1400
          ],
          "sizemode": "area",
          "sizeref": 14.795,
          "symbol": "circle"
         },
         "mode": "markers",
         "name": "Nederland",
         "showlegend": true,
         "type": "scattergeo"
        },
        {
         "customdata": [
          [
           "Praça do Império Lisbon Portugal",
           ""
          ]
         ],
         "geo": "geo",
         "hovertemplate": "<b>%{hovertext}</b><br><br>country=Portugal<br>number of people who visited this place=%{marker.size}<br>latitude=%{lat}<br>longitude=%{lon}<br>adress=%{customdata[0]}<br>city/state=%{customdata[1]}<extra></extra>",
         "hovertext": [
          "Jerónimos Monastery"
         ],
         "lat": [
          38.697
         ],
         "legendgroup": "Portugal",
         "lon": [
          -9.2069
         ],
         "marker": {
          "color": "#636efa",
          "size": [
           1372
          ],
          "sizemode": "area",
          "sizeref": 14.795,
          "symbol": "circle"
         },
         "mode": "markers",
         "name": "Portugal",
         "showlegend": true,
         "type": "scattergeo"
        }
       ],
       "layout": {
        "geo": {
         "center": {},
         "domain": {
          "x": [
           0,
           1
          ],
          "y": [
           0,
           1
          ]
         },
         "projection": {
          "type": "natural earth"
         }
        },
        "legend": {
         "itemsizing": "constant",
         "title": {
          "text": "country"
         },
         "tracegroupgap": 0
        },
        "margin": {
         "t": 60
        },
        "template": {
         "data": {
          "bar": [
           {
            "error_x": {
             "color": "#2a3f5f"
            },
            "error_y": {
             "color": "#2a3f5f"
            },
            "marker": {
             "line": {
              "color": "#E5ECF6",
              "width": 0.5
             },
             "pattern": {
              "fillmode": "overlay",
              "size": 10,
              "solidity": 0.2
             }
            },
            "type": "bar"
           }
          ],
          "barpolar": [
           {
            "marker": {
             "line": {
              "color": "#E5ECF6",
              "width": 0.5
             },
             "pattern": {
              "fillmode": "overlay",
              "size": 10,
              "solidity": 0.2
             }
            },
            "type": "barpolar"
           }
          ],
          "carpet": [
           {
            "aaxis": {
             "endlinecolor": "#2a3f5f",
             "gridcolor": "white",
             "linecolor": "white",
             "minorgridcolor": "white",
             "startlinecolor": "#2a3f5f"
            },
            "baxis": {
             "endlinecolor": "#2a3f5f",
             "gridcolor": "white",
             "linecolor": "white",
             "minorgridcolor": "white",
             "startlinecolor": "#2a3f5f"
            },
            "type": "carpet"
           }
          ],
          "choropleth": [
           {
            "colorbar": {
             "outlinewidth": 0,
             "ticks": ""
            },
            "type": "choropleth"
           }
          ],
          "contour": [
           {
            "colorbar": {
             "outlinewidth": 0,
             "ticks": ""
            },
            "colorscale": [
             [
              0,
              "#0d0887"
             ],
             [
              0.1111111111111111,
              "#46039f"
             ],
             [
              0.2222222222222222,
              "#7201a8"
             ],
             [
              0.3333333333333333,
              "#9c179e"
             ],
             [
              0.4444444444444444,
              "#bd3786"
             ],
             [
              0.5555555555555556,
              "#d8576b"
             ],
             [
              0.6666666666666666,
              "#ed7953"
             ],
             [
              0.7777777777777778,
              "#fb9f3a"
             ],
             [
              0.8888888888888888,
              "#fdca26"
             ],
             [
              1,
              "#f0f921"
             ]
            ],
            "type": "contour"
           }
          ],
          "contourcarpet": [
           {
            "colorbar": {
             "outlinewidth": 0,
             "ticks": ""
            },
            "type": "contourcarpet"
           }
          ],
          "heatmap": [
           {
            "colorbar": {
             "outlinewidth": 0,
             "ticks": ""
            },
            "colorscale": [
             [
              0,
              "#0d0887"
             ],
             [
              0.1111111111111111,
              "#46039f"
             ],
             [
              0.2222222222222222,
              "#7201a8"
             ],
             [
              0.3333333333333333,
              "#9c179e"
             ],
             [
              0.4444444444444444,
              "#bd3786"
             ],
             [
              0.5555555555555556,
              "#d8576b"
             ],
             [
              0.6666666666666666,
              "#ed7953"
             ],
             [
              0.7777777777777778,
              "#fb9f3a"
             ],
             [
              0.8888888888888888,
              "#fdca26"
             ],
             [
              1,
              "#f0f921"
             ]
            ],
            "type": "heatmap"
           }
          ],
          "heatmapgl": [
           {
            "colorbar": {
             "outlinewidth": 0,
             "ticks": ""
            },
            "colorscale": [
             [
              0,
              "#0d0887"
             ],
             [
              0.1111111111111111,
              "#46039f"
             ],
             [
              0.2222222222222222,
              "#7201a8"
             ],
             [
              0.3333333333333333,
              "#9c179e"
             ],
             [
              0.4444444444444444,
              "#bd3786"
             ],
             [
              0.5555555555555556,
              "#d8576b"
             ],
             [
              0.6666666666666666,
              "#ed7953"
             ],
             [
              0.7777777777777778,
              "#fb9f3a"
             ],
             [
              0.8888888888888888,
              "#fdca26"
             ],
             [
              1,
              "#f0f921"
             ]
            ],
            "type": "heatmapgl"
           }
          ],
          "histogram": [
           {
            "marker": {
             "pattern": {
              "fillmode": "overlay",
              "size": 10,
              "solidity": 0.2
             }
            },
            "type": "histogram"
           }
          ],
          "histogram2d": [
           {
            "colorbar": {
             "outlinewidth": 0,
             "ticks": ""
            },
            "colorscale": [
             [
              0,
              "#0d0887"
             ],
             [
              0.1111111111111111,
              "#46039f"
             ],
             [
              0.2222222222222222,
              "#7201a8"
             ],
             [
              0.3333333333333333,
              "#9c179e"
             ],
             [
              0.4444444444444444,
              "#bd3786"
             ],
             [
              0.5555555555555556,
              "#d8576b"
             ],
             [
              0.6666666666666666,
              "#ed7953"
             ],
             [
              0.7777777777777778,
              "#fb9f3a"
             ],
             [
              0.8888888888888888,
              "#fdca26"
             ],
             [
              1,
              "#f0f921"
             ]
            ],
            "type": "histogram2d"
           }
          ],
          "histogram2dcontour": [
           {
            "colorbar": {
             "outlinewidth": 0,
             "ticks": ""
            },
            "colorscale": [
             [
              0,
              "#0d0887"
             ],
             [
              0.1111111111111111,
              "#46039f"
             ],
             [
              0.2222222222222222,
              "#7201a8"
             ],
             [
              0.3333333333333333,
              "#9c179e"
             ],
             [
              0.4444444444444444,
              "#bd3786"
             ],
             [
              0.5555555555555556,
              "#d8576b"
             ],
             [
              0.6666666666666666,
              "#ed7953"
             ],
             [
              0.7777777777777778,
              "#fb9f3a"
             ],
             [
              0.8888888888888888,
              "#fdca26"
             ],
             [
              1,
              "#f0f921"
             ]
            ],
            "type": "histogram2dcontour"
           }
          ],
          "mesh3d": [
           {
            "colorbar": {
             "outlinewidth": 0,
             "ticks": ""
            },
            "type": "mesh3d"
           }
          ],
          "parcoords": [
           {
            "line": {
             "colorbar": {
              "outlinewidth": 0,
              "ticks": ""
             }
            },
            "type": "parcoords"
           }
          ],
          "pie": [
           {
            "automargin": true,
            "type": "pie"
           }
          ],
          "scatter": [
           {
            "marker": {
             "colorbar": {
              "outlinewidth": 0,
              "ticks": ""
             }
            },
            "type": "scatter"
           }
          ],
          "scatter3d": [
           {
            "line": {
             "colorbar": {
              "outlinewidth": 0,
              "ticks": ""
             }
            },
            "marker": {
             "colorbar": {
              "outlinewidth": 0,
              "ticks": ""
             }
            },
            "type": "scatter3d"
           }
          ],
          "scattercarpet": [
           {
            "marker": {
             "colorbar": {
              "outlinewidth": 0,
              "ticks": ""
             }
            },
            "type": "scattercarpet"
           }
          ],
          "scattergeo": [
           {
            "marker": {
             "colorbar": {
              "outlinewidth": 0,
              "ticks": ""
             }
            },
            "type": "scattergeo"
           }
          ],
          "scattergl": [
           {
            "marker": {
             "colorbar": {
              "outlinewidth": 0,
              "ticks": ""
             }
            },
            "type": "scattergl"
           }
          ],
          "scattermapbox": [
           {
            "marker": {
             "colorbar": {
              "outlinewidth": 0,
              "ticks": ""
             }
            },
            "type": "scattermapbox"
           }
          ],
          "scatterpolar": [
           {
            "marker": {
             "colorbar": {
              "outlinewidth": 0,
              "ticks": ""
             }
            },
            "type": "scatterpolar"
           }
          ],
          "scatterpolargl": [
           {
            "marker": {
             "colorbar": {
              "outlinewidth": 0,
              "ticks": ""
             }
            },
            "type": "scatterpolargl"
           }
          ],
          "scatterternary": [
           {
            "marker": {
             "colorbar": {
              "outlinewidth": 0,
              "ticks": ""
             }
            },
            "type": "scatterternary"
           }
          ],
          "surface": [
           {
            "colorbar": {
             "outlinewidth": 0,
             "ticks": ""
            },
            "colorscale": [
             [
              0,
              "#0d0887"
             ],
             [
              0.1111111111111111,
              "#46039f"
             ],
             [
              0.2222222222222222,
              "#7201a8"
             ],
             [
              0.3333333333333333,
              "#9c179e"
             ],
             [
              0.4444444444444444,
              "#bd3786"
             ],
             [
              0.5555555555555556,
              "#d8576b"
             ],
             [
              0.6666666666666666,
              "#ed7953"
             ],
             [
              0.7777777777777778,
              "#fb9f3a"
             ],
             [
              0.8888888888888888,
              "#fdca26"
             ],
             [
              1,
              "#f0f921"
             ]
            ],
            "type": "surface"
           }
          ],
          "table": [
           {
            "cells": {
             "fill": {
              "color": "#EBF0F8"
             },
             "line": {
              "color": "white"
             }
            },
            "header": {
             "fill": {
              "color": "#C8D4E3"
             },
             "line": {
              "color": "white"
             }
            },
            "type": "table"
           }
          ]
         },
         "layout": {
          "annotationdefaults": {
           "arrowcolor": "#2a3f5f",
           "arrowhead": 0,
           "arrowwidth": 1
          },
          "autotypenumbers": "strict",
          "coloraxis": {
           "colorbar": {
            "outlinewidth": 0,
            "ticks": ""
           }
          },
          "colorscale": {
           "diverging": [
            [
             0,
             "#8e0152"
            ],
            [
             0.1,
             "#c51b7d"
            ],
            [
             0.2,
             "#de77ae"
            ],
            [
             0.3,
             "#f1b6da"
            ],
            [
             0.4,
             "#fde0ef"
            ],
            [
             0.5,
             "#f7f7f7"
            ],
            [
             0.6,
             "#e6f5d0"
            ],
            [
             0.7,
             "#b8e186"
            ],
            [
             0.8,
             "#7fbc41"
            ],
            [
             0.9,
             "#4d9221"
            ],
            [
             1,
             "#276419"
            ]
           ],
           "sequential": [
            [
             0,
             "#0d0887"
            ],
            [
             0.1111111111111111,
             "#46039f"
            ],
            [
             0.2222222222222222,
             "#7201a8"
            ],
            [
             0.3333333333333333,
             "#9c179e"
            ],
            [
             0.4444444444444444,
             "#bd3786"
            ],
            [
             0.5555555555555556,
             "#d8576b"
            ],
            [
             0.6666666666666666,
             "#ed7953"
            ],
            [
             0.7777777777777778,
             "#fb9f3a"
            ],
            [
             0.8888888888888888,
             "#fdca26"
            ],
            [
             1,
             "#f0f921"
            ]
           ],
           "sequentialminus": [
            [
             0,
             "#0d0887"
            ],
            [
             0.1111111111111111,
             "#46039f"
            ],
            [
             0.2222222222222222,
             "#7201a8"
            ],
            [
             0.3333333333333333,
             "#9c179e"
            ],
            [
             0.4444444444444444,
             "#bd3786"
            ],
            [
             0.5555555555555556,
             "#d8576b"
            ],
            [
             0.6666666666666666,
             "#ed7953"
            ],
            [
             0.7777777777777778,
             "#fb9f3a"
            ],
            [
             0.8888888888888888,
             "#fdca26"
            ],
            [
             1,
             "#f0f921"
            ]
           ]
          },
          "colorway": [
           "#636efa",
           "#EF553B",
           "#00cc96",
           "#ab63fa",
           "#FFA15A",
           "#19d3f3",
           "#FF6692",
           "#B6E880",
           "#FF97FF",
           "#FECB52"
          ],
          "font": {
           "color": "#2a3f5f"
          },
          "geo": {
           "bgcolor": "white",
           "lakecolor": "white",
           "landcolor": "#E5ECF6",
           "showlakes": true,
           "showland": true,
           "subunitcolor": "white"
          },
          "hoverlabel": {
           "align": "left"
          },
          "hovermode": "closest",
          "mapbox": {
           "style": "light"
          },
          "paper_bgcolor": "white",
          "plot_bgcolor": "#E5ECF6",
          "polar": {
           "angularaxis": {
            "gridcolor": "white",
            "linecolor": "white",
            "ticks": ""
           },
           "bgcolor": "#E5ECF6",
           "radialaxis": {
            "gridcolor": "white",
            "linecolor": "white",
            "ticks": ""
           }
          },
          "scene": {
           "xaxis": {
            "backgroundcolor": "#E5ECF6",
            "gridcolor": "white",
            "gridwidth": 2,
            "linecolor": "white",
            "showbackground": true,
            "ticks": "",
            "zerolinecolor": "white"
           },
           "yaxis": {
            "backgroundcolor": "#E5ECF6",
            "gridcolor": "white",
            "gridwidth": 2,
            "linecolor": "white",
            "showbackground": true,
            "ticks": "",
            "zerolinecolor": "white"
           },
           "zaxis": {
            "backgroundcolor": "#E5ECF6",
            "gridcolor": "white",
            "gridwidth": 2,
            "linecolor": "white",
            "showbackground": true,
            "ticks": "",
            "zerolinecolor": "white"
           }
          },
          "shapedefaults": {
           "line": {
            "color": "#2a3f5f"
           }
          },
          "ternary": {
           "aaxis": {
            "gridcolor": "white",
            "linecolor": "white",
            "ticks": ""
           },
           "baxis": {
            "gridcolor": "white",
            "linecolor": "white",
            "ticks": ""
           },
           "bgcolor": "#E5ECF6",
           "caxis": {
            "gridcolor": "white",
            "linecolor": "white",
            "ticks": ""
           }
          },
          "title": {
           "x": 0.05
          },
          "xaxis": {
           "automargin": true,
           "gridcolor": "white",
           "linecolor": "white",
           "ticks": "",
           "title": {
            "standoff": 15
           },
           "zerolinecolor": "white",
           "zerolinewidth": 2
          },
          "yaxis": {
           "automargin": true,
           "gridcolor": "white",
           "linecolor": "white",
           "ticks": "",
           "title": {
            "standoff": 15
           },
           "zerolinecolor": "white",
           "zerolinewidth": 2
          }
         }
        }
       }
      }
     },
     "metadata": {},
     "output_type": "display_data"
    }
   ],
   "source": [
    "# it's time now to create the map. Scatter_geo will do this after we insert all the informations require.\n",
    "\n",
    "import plotly.express as px\n",
    "import plotly.graph_objs as go\n",
    "\n",
    "fig = px.scatter_geo(resquery,lat=\"placeAlt\", lon=\"placeLong\",\n",
    "                     size=\"numPeopleVisited\", color=\"country\",\n",
    "                     projection=\"natural earth\",\n",
    "                     labels={'placeAlt':'latitude','placeLong':'longitude','placeAdress':'adress','numPeopleVisited':'number of people who visited this place'},\n",
    "                     hover_data=[\"placeAdress\",\"city/state\"],hover_name=\"placeName\")\n",
    "fig.show()"
   ]
  },
  {
   "cell_type": "markdown",
   "metadata": {},
   "source": [
    "# 5 Bonus Question"
   ]
  },
  {
   "cell_type": "code",
   "execution_count": null,
   "metadata": {},
   "outputs": [],
   "source": [
    "from sklearn.feature_extraction.text import TfidfVectorizer"
   ]
  },
  {
   "cell_type": "code",
   "execution_count": null,
   "metadata": {},
   "outputs": [],
   "source": [
    "#TODO\n",
    "#Gestisci il caso in cui non siano tutti e tre, come caloli il final score?\n",
    "#gestisci il caso inc ui una parola non sia nel documento (=print(parola non presente in nessun documento))\n",
    "#Ottimizzazione: carica i dizionari al posto di prenderli sempre"
   ]
  },
  {
   "cell_type": "markdown",
   "metadata": {},
   "source": [
    "If you want to try it yourself, run from this cell onwards"
   ]
  },
  {
   "cell_type": "code",
   "execution_count": 3,
   "metadata": {},
   "outputs": [],
   "source": [
    "# if you want to try it yourself, run from this cell onwards\n",
    "data = pd.read_csv(\"dataframe_clean.csv\")\n",
    "data.fillna('', inplace=True)"
   ]
  },
  {
   "cell_type": "code",
   "execution_count": 4,
   "metadata": {},
   "outputs": [],
   "source": [
    "#The function cleaning takes as input a string (a description) and returns the cleaned description as a list of strings\n",
    "data['cleanName'] = data.placeName.apply(lambda row: \" \".join(cleaning(row)))"
   ]
  },
  {
   "cell_type": "code",
   "execution_count": 5,
   "metadata": {},
   "outputs": [],
   "source": [
    "#The function cleaning takes as input a string (a description) and returns the cleaned description as a list of strings\n",
    "data['cleanAdress'] = data.placeAdress.apply(lambda row: \" \".join(cleaning(row)))"
   ]
  },
  {
   "cell_type": "markdown",
   "metadata": {},
   "source": [
    "List of functions used in this part: (ALL VISIBLE IN THE \"functions.py\" Files)\n",
    "<br>\n",
    "- ***query_function(data,nameCol, q)***: It't the function responsible for creating the vocabulary and reverse index for the given column. It returns a panda Dataframe containing the result of the query\n",
    "- ***complex_query(data)*** : It's the function responsible for managing different query from the 3 different columns. <br>\n",
    "It returns set_list: a list containing the names of the matched places for each query. The position 1, will contain the result for the first query, the position 2 for the second query and so on...<br>\n",
    "bool_arr: is a booolean array, containing True in the position i, if the query number i has been given to us\n",
    "- ***find_df_qv()*** : It's the function responsible for creating the pandas dataframe correspondant to matrix of the tfidf score. And it also returns the qv\n",
    "- ***query_tfidf_bonus(data)***: is the function that will return to us the pandas dataframe with all the cosine_score of each columns (if given to us)\n",
    "\n"
   ]
  },
  {
   "cell_type": "markdown",
   "metadata": {},
   "source": [
    "## Filtering"
   ]
  },
  {
   "cell_type": "markdown",
   "metadata": {},
   "source": [
    "### List of username"
   ]
  },
  {
   "cell_type": "code",
   "execution_count": null,
   "metadata": {},
   "outputs": [],
   "source": [
    "#This function return a pd.DataFrame with the filtering applied to the placeEditors\n",
    "#To filter this right i create a regex string with all the names in the list\n",
    "#The regex string will be equivalent to: (nameInTheList1 AND nameInTheList2 AND ... AND nameInTheListN)\n",
    "#The regex for this operation is (?=.*Name1)(?=.*Name2)...(?=-*NameN)\n",
    "def filterUsername(list: list, data: pd.DataFrame) -> pd.DataFrame:\n",
    "    if list:\n",
    "        return data\n",
    "    else:\n",
    "        filtered_data = data[data[\"placeEditors\"].str.contains(\"(?=.*\" + \")(?=.*\".join(list) + \")\")]\n",
    "        return filtered_data"
   ]
  },
  {
   "cell_type": "markdown",
   "metadata": {},
   "source": [
    "## Tags"
   ]
  },
  {
   "cell_type": "code",
   "execution_count": null,
   "metadata": {},
   "outputs": [],
   "source": [
    "def filterTags(list: list, data: pd.DataFrame) -> pd.DataFrame:\n",
    "    if list:\n",
    "        return data\n",
    "    else:\n",
    "        filtered_data = data[data[\"placeTags\"].str.contains(\"(?=.*\" + \")(?=.*\".join(list) + \")\")]\n",
    "        return filtered_data"
   ]
  },
  {
   "cell_type": "markdown",
   "metadata": {},
   "source": [
    "## Upper and lower bound"
   ]
  },
  {
   "cell_type": "code",
   "execution_count": null,
   "metadata": {},
   "outputs": [],
   "source": [
    "\n",
    "def filterNumPeople(upperbound = data[\"numPeopleVisited\"].max(), lowerbound = 0) -> pd.DataFrame:\n",
    "    filtered_data =  data.query(f'{lowerbound} < numPeopleVisited < {upperbound}')\n",
    "    return filtered_data"
   ]
  },
  {
   "cell_type": "markdown",
   "metadata": {},
   "source": [
    "## Final function for execution"
   ]
  },
  {
   "cell_type": "markdown",
   "metadata": {},
   "source": [
    "The following output of the cell below, are obtained from this specific:\n",
    "- Query number 1 (Description): \"american museum\"\n",
    "- Query number 2 (Name): \"american\"\n",
    "- Query number 3 (Adress): None\n",
    "\n",
    "Filtering:\n",
    "- Username: None\n",
    "- Tags: museums and collections\n",
    "- upper and lower bounds: 500 and 20"
   ]
  },
  {
   "cell_type": "code",
   "execution_count": 8,
   "metadata": {},
   "outputs": [
    {
     "name": "stderr",
     "output_type": "stream",
     "text": [
      "100%|██████████| 7200/7200 [00:00<00:00, 37540.25it/s]\n",
      "100%|██████████| 7200/7200 [00:07<00:00, 961.54it/s] \n",
      "100%|██████████| 7200/7200 [00:00<00:00, 894811.37it/s]\n",
      "100%|██████████| 7200/7200 [00:00<00:00, 47019.66it/s]\n"
     ]
    }
   ],
   "source": [
    "#Try it out!!!\n",
    "ex = filterFinalQuery(data)"
   ]
  },
  {
   "cell_type": "code",
   "execution_count": 10,
   "metadata": {},
   "outputs": [
    {
     "data": {
      "text/html": [
       "<div>\n",
       "<style scoped>\n",
       "    .dataframe tbody tr th:only-of-type {\n",
       "        vertical-align: middle;\n",
       "    }\n",
       "\n",
       "    .dataframe tbody tr th {\n",
       "        vertical-align: top;\n",
       "    }\n",
       "\n",
       "    .dataframe thead th {\n",
       "        text-align: right;\n",
       "    }\n",
       "</style>\n",
       "<table border=\"1\" class=\"dataframe\">\n",
       "  <thead>\n",
       "    <tr style=\"text-align: right;\">\n",
       "      <th></th>\n",
       "      <th>Unnamed: 0</th>\n",
       "      <th>placeName</th>\n",
       "      <th>placeTags</th>\n",
       "      <th>numPeopleVisited</th>\n",
       "      <th>numPeopleWant</th>\n",
       "      <th>placeDesc</th>\n",
       "      <th>placeShortDesc</th>\n",
       "      <th>placeNearby</th>\n",
       "      <th>placeAdress</th>\n",
       "      <th>placeAlt</th>\n",
       "      <th>...</th>\n",
       "      <th>placePubDate</th>\n",
       "      <th>placeRelatedList</th>\n",
       "      <th>placeRelatedPlace</th>\n",
       "      <th>placeURL</th>\n",
       "      <th>cleanDesc</th>\n",
       "      <th>cleanName</th>\n",
       "      <th>cleanAdress</th>\n",
       "      <th>CS_cleanDesc</th>\n",
       "      <th>CS_cleanName</th>\n",
       "      <th>final_score</th>\n",
       "    </tr>\n",
       "  </thead>\n",
       "  <tbody>\n",
       "    <tr>\n",
       "      <th>146</th>\n",
       "      <td>146</td>\n",
       "      <td>American Classic Arcade Museum</td>\n",
       "      <td>pinball,arcades,video games,games,museums and ...</td>\n",
       "      <td>468</td>\n",
       "      <td>1022</td>\n",
       "      <td>Housed inside New Hampshire’s Funspot, which h...</td>\n",
       "      <td>The largest arcade museum in the world chronic...</td>\n",
       "      <td>Endicott Rock,Archie Andrews Statue,Claude Rai...</td>\n",
       "      <td>579 Endicott Street North Laconia, New Hampshi...</td>\n",
       "      <td>43.6130</td>\n",
       "      <td>...</td>\n",
       "      <td>2014-04-04 00:00:00</td>\n",
       "      <td>Endicott Rock,Archie Andrews Statue,Claude Rai...</td>\n",
       "      <td>Asheville Pinball Museum,Pinball Hall of Fame,...</td>\n",
       "      <td>https://www.atlasobscura.com/places/american-c...</td>\n",
       "      <td>hous insid new hampshir funspot hold guin worl...</td>\n",
       "      <td>american classic arcad museum</td>\n",
       "      <td>endicott street north laconia new hampshir  u...</td>\n",
       "      <td>0.097970</td>\n",
       "      <td>0.483281</td>\n",
       "      <td>0.290626</td>\n",
       "    </tr>\n",
       "    <tr>\n",
       "      <th>385</th>\n",
       "      <td>385</td>\n",
       "      <td>American Gothic House</td>\n",
       "      <td>eccentric homes,shops,homes,architectural oddi...</td>\n",
       "      <td>380</td>\n",
       "      <td>784</td>\n",
       "      <td>Made famous in the 1930 painting by Grant Wood...</td>\n",
       "      <td>Home with Gothic windows featured in a famous ...</td>\n",
       "      <td>What Cheer,Maharishi Vedic City,Richard Proenn...</td>\n",
       "      <td>300 Gothic St. Eldon, Iowa, 52554 United States</td>\n",
       "      <td>40.9211</td>\n",
       "      <td>...</td>\n",
       "      <td>2011-06-29 00:00:00</td>\n",
       "      <td>Maharishi Vedic City,What Cheer,Richard Proenn...</td>\n",
       "      <td>Krämerbrücke,Castello di Amorosa,Margalef,Hist...</td>\n",
       "      <td>https://www.atlasobscura.com/places/american-g...</td>\n",
       "      <td>made famou  paint grant wood american gothic o...</td>\n",
       "      <td>american gothic hous</td>\n",
       "      <td>gothic st eldon iowa  unit state</td>\n",
       "      <td>0.040367</td>\n",
       "      <td>0.571079</td>\n",
       "      <td>0.305723</td>\n",
       "    </tr>\n",
       "    <tr>\n",
       "      <th>6</th>\n",
       "      <td>6</td>\n",
       "      <td>American Prohibition Museum</td>\n",
       "      <td>speakeasies,prohibition,law,food museums,alcoh...</td>\n",
       "      <td>368</td>\n",
       "      <td>832</td>\n",
       "      <td>When the 18th Amendment to the U.S. Constituti...</td>\n",
       "      <td>Performers, intricate sets, and a real speakea...</td>\n",
       "      <td>The Paris Market,Riverside Plant Hotel,The Mar...</td>\n",
       "      <td>209 W. St. Julian Street Savannah, Georgia Uni...</td>\n",
       "      <td>32.0806</td>\n",
       "      <td>...</td>\n",
       "      <td>2018-11-26 00:00:00</td>\n",
       "      <td>The Paris Market,Riverside Plant Hotel,The Mar...</td>\n",
       "      <td>Booze History Museum,Linos tou Charilaou (Omod...</td>\n",
       "      <td>https://www.atlasobscura.com/places/american-p...</td>\n",
       "      <td>th amend u constitut outlaw alcohol deleteri d...</td>\n",
       "      <td>american prohibit museum</td>\n",
       "      <td>w st julian street savannah georgia unit state</td>\n",
       "      <td>0.081833</td>\n",
       "      <td>0.565670</td>\n",
       "      <td>0.323751</td>\n",
       "    </tr>\n",
       "    <tr>\n",
       "      <th>197</th>\n",
       "      <td>197</td>\n",
       "      <td>American Museum of Western Art</td>\n",
       "      <td>brothels,americana,hotels,museums and collecti...</td>\n",
       "      <td>323</td>\n",
       "      <td>806</td>\n",
       "      <td>Housed in the old Navarre building across from...</td>\n",
       "      <td>The huge collection of paintings of the Americ...</td>\n",
       "      <td>Mile-High Steps at the Colorado State Capitol,...</td>\n",
       "      <td>1727 Tremont Place Denver, Colorado United States</td>\n",
       "      <td>39.7447</td>\n",
       "      <td>...</td>\n",
       "      <td>2017-11-27 00:00:00</td>\n",
       "      <td>Denver Omelet Plaque,Big Blue Bear,Mile-High S...</td>\n",
       "      <td>Null Stern Hotel Museum,French Shore Interpret...</td>\n",
       "      <td>https://www.atlasobscura.com/places/american-m...</td>\n",
       "      <td>hous old navarr build across brown palac hotel...</td>\n",
       "      <td>american museum western art</td>\n",
       "      <td>tremont place denver colorado unit state</td>\n",
       "      <td>0.145389</td>\n",
       "      <td>0.525209</td>\n",
       "      <td>0.335299</td>\n",
       "    </tr>\n",
       "    <tr>\n",
       "      <th>2411</th>\n",
       "      <td>2411</td>\n",
       "      <td>American Space Museum</td>\n",
       "      <td>space,museums and collections,museums</td>\n",
       "      <td>317</td>\n",
       "      <td>583</td>\n",
       "      <td>This small space museum, located not far from ...</td>\n",
       "      <td>The unique collection includes bronze cast han...</td>\n",
       "      <td>NASA Vehicle Assembly Building,Launch Complex ...</td>\n",
       "      <td>308 Pine Street Titusville, Florida United States</td>\n",
       "      <td>28.6105</td>\n",
       "      <td>...</td>\n",
       "      <td>2018-01-12 00:00:00</td>\n",
       "      <td>Windover Archeological Site,NASA Vehicle Assem...</td>\n",
       "      <td>Museo de Geología (Museum of the Institute of ...</td>\n",
       "      <td>https://www.atlasobscura.com/places/american-s...</td>\n",
       "      <td>small space museum locat far better known kenn...</td>\n",
       "      <td>american space museum</td>\n",
       "      <td>pine street titusvil florida unit state</td>\n",
       "      <td>0.144750</td>\n",
       "      <td>0.621237</td>\n",
       "      <td>0.382993</td>\n",
       "    </tr>\n",
       "  </tbody>\n",
       "</table>\n",
       "<p>5 rows × 22 columns</p>\n",
       "</div>"
      ],
      "text/plain": [
       "      Unnamed: 0                       placeName  \\\n",
       "146          146  American Classic Arcade Museum   \n",
       "385          385           American Gothic House   \n",
       "6              6     American Prohibition Museum   \n",
       "197          197  American Museum of Western Art   \n",
       "2411        2411           American Space Museum   \n",
       "\n",
       "                                              placeTags  numPeopleVisited  \\\n",
       "146   pinball,arcades,video games,games,museums and ...               468   \n",
       "385   eccentric homes,shops,homes,architectural oddi...               380   \n",
       "6     speakeasies,prohibition,law,food museums,alcoh...               368   \n",
       "197   brothels,americana,hotels,museums and collecti...               323   \n",
       "2411              space,museums and collections,museums               317   \n",
       "\n",
       "      numPeopleWant                                          placeDesc  \\\n",
       "146            1022  Housed inside New Hampshire’s Funspot, which h...   \n",
       "385             784  Made famous in the 1930 painting by Grant Wood...   \n",
       "6               832  When the 18th Amendment to the U.S. Constituti...   \n",
       "197             806  Housed in the old Navarre building across from...   \n",
       "2411            583  This small space museum, located not far from ...   \n",
       "\n",
       "                                         placeShortDesc  \\\n",
       "146   The largest arcade museum in the world chronic...   \n",
       "385   Home with Gothic windows featured in a famous ...   \n",
       "6     Performers, intricate sets, and a real speakea...   \n",
       "197   The huge collection of paintings of the Americ...   \n",
       "2411  The unique collection includes bronze cast han...   \n",
       "\n",
       "                                            placeNearby  \\\n",
       "146   Endicott Rock,Archie Andrews Statue,Claude Rai...   \n",
       "385   What Cheer,Maharishi Vedic City,Richard Proenn...   \n",
       "6     The Paris Market,Riverside Plant Hotel,The Mar...   \n",
       "197   Mile-High Steps at the Colorado State Capitol,...   \n",
       "2411  NASA Vehicle Assembly Building,Launch Complex ...   \n",
       "\n",
       "                                            placeAdress  placeAlt  ...  \\\n",
       "146   579 Endicott Street North Laconia, New Hampshi...   43.6130  ...   \n",
       "385     300 Gothic St. Eldon, Iowa, 52554 United States   40.9211  ...   \n",
       "6     209 W. St. Julian Street Savannah, Georgia Uni...   32.0806  ...   \n",
       "197   1727 Tremont Place Denver, Colorado United States   39.7447  ...   \n",
       "2411  308 Pine Street Titusville, Florida United States   28.6105  ...   \n",
       "\n",
       "             placePubDate                                   placeRelatedList  \\\n",
       "146   2014-04-04 00:00:00  Endicott Rock,Archie Andrews Statue,Claude Rai...   \n",
       "385   2011-06-29 00:00:00  Maharishi Vedic City,What Cheer,Richard Proenn...   \n",
       "6     2018-11-26 00:00:00  The Paris Market,Riverside Plant Hotel,The Mar...   \n",
       "197   2017-11-27 00:00:00  Denver Omelet Plaque,Big Blue Bear,Mile-High S...   \n",
       "2411  2018-01-12 00:00:00  Windover Archeological Site,NASA Vehicle Assem...   \n",
       "\n",
       "                                      placeRelatedPlace  \\\n",
       "146   Asheville Pinball Museum,Pinball Hall of Fame,...   \n",
       "385   Krämerbrücke,Castello di Amorosa,Margalef,Hist...   \n",
       "6     Booze History Museum,Linos tou Charilaou (Omod...   \n",
       "197   Null Stern Hotel Museum,French Shore Interpret...   \n",
       "2411  Museo de Geología (Museum of the Institute of ...   \n",
       "\n",
       "                                               placeURL  \\\n",
       "146   https://www.atlasobscura.com/places/american-c...   \n",
       "385   https://www.atlasobscura.com/places/american-g...   \n",
       "6     https://www.atlasobscura.com/places/american-p...   \n",
       "197   https://www.atlasobscura.com/places/american-m...   \n",
       "2411  https://www.atlasobscura.com/places/american-s...   \n",
       "\n",
       "                                              cleanDesc  \\\n",
       "146   hous insid new hampshir funspot hold guin worl...   \n",
       "385   made famou  paint grant wood american gothic o...   \n",
       "6     th amend u constitut outlaw alcohol deleteri d...   \n",
       "197   hous old navarr build across brown palac hotel...   \n",
       "2411  small space museum locat far better known kenn...   \n",
       "\n",
       "                          cleanName  \\\n",
       "146   american classic arcad museum   \n",
       "385            american gothic hous   \n",
       "6          american prohibit museum   \n",
       "197     american museum western art   \n",
       "2411          american space museum   \n",
       "\n",
       "                                            cleanAdress CS_cleanDesc  \\\n",
       "146    endicott street north laconia new hampshir  u...     0.097970   \n",
       "385                    gothic st eldon iowa  unit state     0.040367   \n",
       "6        w st julian street savannah georgia unit state     0.081833   \n",
       "197            tremont place denver colorado unit state     0.145389   \n",
       "2411            pine street titusvil florida unit state     0.144750   \n",
       "\n",
       "     CS_cleanName  final_score  \n",
       "146      0.483281     0.290626  \n",
       "385      0.571079     0.305723  \n",
       "6        0.565670     0.323751  \n",
       "197      0.525209     0.335299  \n",
       "2411     0.621237     0.382993  \n",
       "\n",
       "[5 rows x 22 columns]"
      ]
     },
     "execution_count": 10,
     "metadata": {},
     "output_type": "execute_result"
    }
   ],
   "source": [
    "ex.sort_values(\"numPeopleVisited\", ascending = False).head(5)"
   ]
  },
  {
   "cell_type": "markdown",
   "metadata": {},
   "source": [
    "# 6. Command line"
   ]
  },
  {
   "cell_type": "code",
   "execution_count": 5,
   "metadata": {},
   "outputs": [
    {
     "name": "stdout",
     "output_type": "stream",
     "text": [
      "Total number of places in Italy: 182\n",
      "The average of visitors in Italy: 68791\n",
      "Who wants to visit England (in total): 152906\n",
      "\n",
      "Total number of places in Spain: 82\n",
      "The average of visitors in Spain: 212\n",
      "Who wants to visit England (in total): 64587\n",
      "\n",
      "Total number of places in France: 188\n",
      "The average of visitors in France: 446\n",
      "Who wants to visit France (in total): 189973\n",
      "\n",
      "Total number of places in England: 367\n",
      "The average of visitors in England: 476\n",
      "Who wants to visit England (in total): 389820\n",
      "\n",
      "Total number of places in the United States: 4234\n",
      "The average of visitors in United States: 431\n",
      "Who wants to visit United States (in total): 3966022\n",
      "\n"
     ]
    }
   ],
   "source": [
    "#Command Line question\n",
    "forCommandLine = data[data[\"placeAdress\"].str.contains(\"Italy\")]\n",
    "print(\"Total number of places in Italy:\", len(forCommandLine))\n",
    "print(\"The average of visitors in Italy:\", int((forCommandLine[\"numPeopleVisited\"].sum())))\n",
    "print(\"Who wants to visit England (in total):\", forCommandLine[\"numPeopleWant\"].sum())\n",
    "print()\n",
    "\n",
    "forCommandLine2 = data[data[\"placeAdress\"].str.contains(\"Spain\")]\n",
    "print(\"Total number of places in Spain:\", len(forCommandLine2))\n",
    "print(\"The average of visitors in Spain:\", int((forCommandLine2[\"numPeopleVisited\"].sum())/len(forCommandLine)))\n",
    "print(\"Who wants to visit England (in total):\", forCommandLine2[\"numPeopleWant\"].sum())\n",
    "print()\n",
    "\n",
    "\n",
    "forCommandLine3 = data[data[\"placeAdress\"].str.contains(\"France\")]\n",
    "print(\"Total number of places in France:\", len(forCommandLine3))\n",
    "print(\"The average of visitors in France:\", int((forCommandLine3[\"numPeopleVisited\"].sum())/len(forCommandLine)))\n",
    "print(\"Who wants to visit France (in total):\", forCommandLine3[\"numPeopleWant\"].sum())\n",
    "print()\n",
    "\n",
    "\n",
    "forCommandLine4 = data[data[\"placeAdress\"].str.contains(\"England\")]\n",
    "print(\"Total number of places in England:\", len(forCommandLine4))\n",
    "print(\"The average of visitors in England:\", int((forCommandLine4[\"numPeopleVisited\"].sum())/len(forCommandLine4)))\n",
    "print(\"Who wants to visit England (in total):\", forCommandLine4[\"numPeopleWant\"].sum())\n",
    "print()\n",
    "\n",
    "\n",
    "\n",
    "forCommandLine5 = data[data[\"placeAdress\"].str.contains(\"United States\")]\n",
    "print(\"Total number of places in the United States:\", len(forCommandLine5))\n",
    "print(\"The average of visitors in United States:\", int((forCommandLine5[\"numPeopleVisited\"].sum())/len(forCommandLine5)))\n",
    "print(\"Who wants to visit United States (in total):\", forCommandLine5[\"numPeopleWant\"].sum())\n",
    "print()"
   ]
  },
  {
   "cell_type": "markdown",
   "metadata": {},
   "source": [
    "# 7. Theoretical question"
   ]
  },
  {
   "cell_type": "markdown",
   "metadata": {},
   "source": [
    "#### 1. Try solving the problem mentioned above using three different sorting algorithms (do not use any MapReduce algorithm). (Note: Built-in Python functions (like .mean, .sort, etc.) are not allowed to be used. You must implement the algorithms from scratch)."
   ]
  },
  {
   "cell_type": "code",
   "execution_count": 11,
   "metadata": {},
   "outputs": [],
   "source": [
    "#let's import the only library we'll need that is time and we'll use it to evaluate the time taken by the algorithm\n",
    "import time"
   ]
  },
  {
   "cell_type": "markdown",
   "metadata": {},
   "source": [
    "In the next blocks there are some useful functions that we'll use for answering question 7.1:\n",
    "- **my_mean** : it is a function that given a row of the file ApplicantsInfo.txt returns the average of the m scores in that row;\n",
    "- **sort_by_name** : it is a function that, given two words (name2, name1), if name2 in alphabetical order is before name1 it returns 1, otherwise 0;\n",
    "- **read_file** : it is a function that reads the file ApplicantsInfo.txt and return a list with all the informations we need;\n",
    "- **print_file** : it is a function that contains the code to write a .text file with the sorted list."
   ]
  },
  {
   "cell_type": "code",
   "execution_count": 12,
   "metadata": {},
   "outputs": [],
   "source": [
    "def my_mean(l,m): \n",
    "    mean=0\n",
    "    for i in range(2,len(l)):\n",
    "        mean += int(l[i])\n",
    "    mean = mean/m\n",
    "    return mean"
   ]
  },
  {
   "cell_type": "code",
   "execution_count": 13,
   "metadata": {},
   "outputs": [],
   "source": [
    "def sort_by_name(name2,name1):\n",
    "    for i in range(min(len(name1),len(name2))):\n",
    "        # for loop stops as soon as the first word finishes the characters\n",
    "        if name2[i]<name1[i]:\n",
    "            return 1\n",
    "        elif name2[i]>name1[i]:\n",
    "            return 0\n",
    "\n",
    "    # at this point if the for loop ended without returning any value this mean that the shortest word is equal to the first part of \n",
    "    # the other word and so we'll return 0 or 1 depending on the lengths of the words \n",
    "    if len(name1)<len(name2):\n",
    "        return 0\n",
    "    else:\n",
    "        return 1"
   ]
  },
  {
   "cell_type": "code",
   "execution_count": 21,
   "metadata": {},
   "outputs": [],
   "source": [
    "def read_file():\n",
    "    f = open(\"ApplicantsInfo.txt\",\"r\")\n",
    "    dati=[]\n",
    "\n",
    "    # first we read the first row and we store in n the number of students and in m the number of scores for each student\n",
    "    n, m = map(int,f.readline().split()) \n",
    "\n",
    "    #starting from the second row, with the while loop we read 1 row at time and the while loop ends when there isn't anymore rows to be read \n",
    "    j = 1\n",
    "    while True:\n",
    "        # dati_temp will be a list s.t. in the first two positions there are 'name' and 'surname' of a student and starting from position 3 till\n",
    "        # the last we have all of his/her scores (m in total)\n",
    "        dati_temp = f.readline().split()\n",
    "        if not dati_temp:\n",
    "            break\n",
    "        # then we call the function my_mean in order to compute the mean of the scores of a given student  and then we'll append to the list 'dati'\n",
    "        # a list done like this [name,surname,mean of the scores]\n",
    "        mean = my_mean(dati_temp,m)\n",
    "        dati.append([dati_temp[0],dati_temp[1],round(mean,2)])\n",
    "    f.close()\n",
    "    return dati, n, m"
   ]
  },
  {
   "cell_type": "code",
   "execution_count": 16,
   "metadata": {},
   "outputs": [],
   "source": [
    "def print_file(dati):\n",
    "    f= open(\"RankingList.txt\",\"w\")\n",
    "    # for each 3-elements list i in dati we print in a row i[0] (name), i[1] (surname) and i[2] (avarage)\n",
    "    for i in dati:\n",
    "        f.write(i[0]+\" \"+i[1]+\" \"+str(i[2]))\n",
    "        f.write(\"\\n\")\n",
    "    f.close()\n",
    "    return"
   ]
  },
  {
   "cell_type": "markdown",
   "metadata": {},
   "source": [
    "The next 3 blocks contains the code to compute each of the sorting algorithm.  "
   ]
  },
  {
   "cell_type": "markdown",
   "metadata": {},
   "source": [
    "#### Insertion sort"
   ]
  },
  {
   "cell_type": "code",
   "execution_count": 26,
   "metadata": {},
   "outputs": [
    {
     "name": "stdout",
     "output_type": "stream",
     "text": [
      "The time taken for computing insertion_sort is:  5.0 minutes and 12.51 seconds\n"
     ]
    }
   ],
   "source": [
    "#run this cell to compute insertion sort algorithm\n",
    "d,n,m = read_file()\n",
    "start_time = time.time()\n",
    "insertion_sort(d,n)\n",
    "end_time = time.time()\n",
    "minuti = (end_time-start_time)//60\n",
    "secondi = (end_time-start_time)%60\n",
    "print_file(d)\n",
    "print('The time taken for computing insertion_sort is: ',minuti,'minutes and',round(secondi,2),'seconds')"
   ]
  },
  {
   "cell_type": "markdown",
   "metadata": {},
   "source": [
    "#### Merge sort"
   ]
  },
  {
   "cell_type": "code",
   "execution_count": 27,
   "metadata": {},
   "outputs": [
    {
     "name": "stdout",
     "output_type": "stream",
     "text": [
      "The time taken for computing merge sort is:  0.0 minutes and 0.67 seconds\n"
     ]
    }
   ],
   "source": [
    "##run this cell tu compute merge sort algorithm\n",
    "d,n,m = read_file()\n",
    "start_time = time.time()\n",
    "merge_sort(d,1,n)\n",
    "end_time = time.time()\n",
    "minuti = (end_time-start_time)//60\n",
    "secondi = (end_time-start_time)%60\n",
    "print_file(d)\n",
    "print('The time taken for computing merge sort is: ',minuti,'minutes and',round(secondi,2),'seconds')"
   ]
  },
  {
   "cell_type": "markdown",
   "metadata": {},
   "source": [
    "#### Quick sort"
   ]
  },
  {
   "cell_type": "code",
   "execution_count": 28,
   "metadata": {},
   "outputs": [
    {
     "name": "stdout",
     "output_type": "stream",
     "text": [
      "The time taken for computing quick sort is:  0.0 minutes and 35.89 seconds\n"
     ]
    }
   ],
   "source": [
    "##run this cell tu compute quick sort algorithm\n",
    "d,n,m = read_file()\n",
    "start_time = time.time()\n",
    "quicksort(d,0,n-1)\n",
    "end_time = time.time()\n",
    "minuti = (end_time-start_time)//60\n",
    "secondi = (end_time-start_time)%60\n",
    "print_file(d)\n",
    "print('The time taken for computing quick sort is: ',minuti,'minutes and',round(secondi,2),'seconds')"
   ]
  },
  {
   "cell_type": "markdown",
   "metadata": {},
   "source": [
    "The next block contains the function insertion_sort"
   ]
  },
  {
   "cell_type": "code",
   "execution_count": 23,
   "metadata": {},
   "outputs": [],
   "source": [
    "#insertion sort\n",
    "def insertion_sort(dati,n):\n",
    "    # the for loop starts from the second element of the list dati since we suppose that the first element is already in the right position\n",
    "    for i in range(1,int(n)):\n",
    "        # starting from the element i-1 we go backwords in the list as soon as we found an element j such that dati[j][2]<dati[i][2] or \n",
    "        # dati[j][2]=dati[i][2] but in alphabetical order the name and surname of the element j have to be before the element i \n",
    "        while ((dati[i][2]>=dati[i-1][2]) & (i>0)):\n",
    "            # everytime if dati[i][2]>dati[i-1][2] we exchange the two lists (dati[i] and dati[i-1])\n",
    "            if dati[i][2]>dati[i-1][2]:\n",
    "                temp=dati[i-1]\n",
    "                dati[i-1]=dati[i]\n",
    "                dati[i]=temp\n",
    "                # after exchanging element i and element i-1 we point to the element before i and skip the rest of the while since we know that \n",
    "                # the avarages were not equal\n",
    "                i -= 1\n",
    "                continue\n",
    "            # if dati[i][2]=dati[i-1][2] then we check the alphabetical order of the two lists\n",
    "            elif dati[i][2]==dati[i-1][2]:\n",
    "                # if the names of element i and element i-1 are equal we call the function sort_by_name with their surnames\n",
    "                if dati[i][0]==dati[i-1][0]:\n",
    "                    y_n = sort_by_name(dati[i][1],dati[i-1][1])\n",
    "                #instead if the names are not equal we call the function sort_by_name with the names of element i and i-1\n",
    "                elif dati[i][0]!=dati[i-1][0]:\n",
    "                    y_n = sort_by_name(dati[i][0],dati[i-1][0])\n",
    "                # if y_n=1 this mean that name and surname of dati[i] in alphabetical order have to be before dati[i-1] and so we exchange the \n",
    "                # two lists \n",
    "                if y_n:\n",
    "                    temp=dati[i-1]\n",
    "                    dati[i-1]=dati[i]\n",
    "                    dati[i]=temp\n",
    "                    i -= 1\n",
    "                # otherwise, if element i and i-1 were already in alphabetical order this mean that the element i was already in the right\n",
    "                # position and so we break the while \n",
    "                else:\n",
    "                    break\n",
    "    return"
   ]
  },
  {
   "cell_type": "markdown",
   "metadata": {},
   "source": [
    "The next two blocks contains the merge_sort function and the merge function used in the first one."
   ]
  },
  {
   "cell_type": "code",
   "execution_count": 17,
   "metadata": {},
   "outputs": [],
   "source": [
    "def merge_sort(dati,start,end):\n",
    "    # the recursion stops when start=end\n",
    "    if start<end:\n",
    "        # in this case we call recoursively the function merge_sort itself in the two sublists with indixes [start:medium] and\n",
    "        # [medium+1:end]\n",
    "        medium = (start+end)//2\n",
    "        merge_sort(dati,start,medium)\n",
    "        merge_sort(dati,medium+1,end)\n",
    "        # then we call the function merge that, given the fact that the two sublists [start:medium] and [medium+1:end] are \n",
    "        # sorted, will sort the whole list [start:end] comparing the elements of the two sublists \n",
    "        merge(dati,start,medium,end)\n",
    "    return"
   ]
  },
  {
   "cell_type": "code",
   "execution_count": 18,
   "metadata": {},
   "outputs": [],
   "source": [
    "def merge(dati,start,medium,end):\n",
    "    # we need to create a local list in which we can store the sorted elements of the two sublists\n",
    "    B = []\n",
    "    # since when we call the function merge_sort for the first time we give to it start=1 and end=n, we now need to fix indexes\n",
    "    # since, as we know, in python the start index of a list is 0 and the last index is len(list)-1 (=n-1) \n",
    "    i = start-1\n",
    "    j = medium\n",
    "    \n",
    "    # i will be the index that point to elements of the left sublist and j the one that point to elements of the right sublist\n",
    "    while ((i<medium) and (j<end)):\n",
    "        # now we compare the average of the elements i and j and we'll append to our local list B the one that is greater\n",
    "        # or, if they're equal, we'll append the one that has a name/surname that should be before the other in alphabetical order\n",
    "        # Depending on which elements we've added we can after point to the next element of the first or the second sublist\n",
    "        if dati[i][2]<dati[j][2]:\n",
    "            B.append(dati[j])\n",
    "            j+=1\n",
    "        elif dati[i][2]>dati[j][2]:\n",
    "            B.append(dati[i])\n",
    "            i+=1\n",
    "        elif dati[i][2]==dati[j][2]:\n",
    "            if dati[i][0]==dati[j][0]:\n",
    "                y_n = sort_by_name(dati[i][1],dati[j][1])\n",
    "            elif dati[i][0]!=dati[j][0]:\n",
    "                y_n = sort_by_name(dati[i][0],dati[j][0])\n",
    "            if y_n==1:\n",
    "                B.append(dati[i])\n",
    "                i+=1\n",
    "            elif y_n==0:\n",
    "                B.append(dati[j])\n",
    "                j+=1\n",
    "    # after the previous while we'll have a sublist such that all its elements have been copied in the list B and the other one\n",
    "    # such that we have still some elements of it that have to be copied\n",
    "    \n",
    "    while i<medium:\n",
    "        B.append(dati[i])\n",
    "        i+=1\n",
    "    while j<end:\n",
    "        B.append(dati[j])\n",
    "        j+=1\n",
    "    \n",
    "    # at this point in the list B we have all the elements [start:end] of the original list sorted and so we can substitute\n",
    "    # dati[start:end] with B\n",
    "    if B !=[]:\n",
    "        for k in range(0,end-start+1):\n",
    "            dati[start-1+k]=B[k]\n",
    "    return"
   ]
  },
  {
   "cell_type": "markdown",
   "metadata": {},
   "source": [
    "The next two blocks contains the quicksort function and the partition function used in the first one."
   ]
  },
  {
   "cell_type": "code",
   "execution_count": 24,
   "metadata": {},
   "outputs": [],
   "source": [
    "def quicksort(dati,start,end):\n",
    "    # the recursion stops when start=end\n",
    "    if start < end:\n",
    "        # we call the function partition that returns the pivot and move all the minor elements to the left of the pivot and\n",
    "        # the major elements to the right.\n",
    "        pivot = partition(dati,start,end)\n",
    "        # in this case we call recoursively the function quicksort itself in the two sublists with indixes [start:piovt] and\n",
    "        # [pivot+1:end]\n",
    "        quicksort(dati,start,pivot)\n",
    "        quicksort(dati,pivot+1,end)\n",
    "    return"
   ]
  },
  {
   "cell_type": "code",
   "execution_count": 25,
   "metadata": {},
   "outputs": [],
   "source": [
    "def partition(dati,start,end):\n",
    "    # p will be the average of mark for the first student since start is the first element of the list conteining the name,\n",
    "    # surname and mark for every student. i is the inizial position, j is the last position.\n",
    "    p = dati[start][2]\n",
    "    i = start\n",
    "    j = end\n",
    "    while True:\n",
    "        # we iterate all the students with their marks untile the while cicle is true.\n",
    "        while dati[j][2] < p :\n",
    "            # we enter in this while cicle if the student's mark is less than the p mark.\n",
    "            # if this happen j became the position j -1 (so we move by one position to the left)\n",
    "            j -=1 \n",
    "        while dati[i][2] > p :\n",
    "            # we enter in this while cicle if the student's mark is more than the p mark.\n",
    "            # if this happen i became the position i + 1 (so we move by one position to the right)\n",
    "            i +=1\n",
    "        # arrived to this point the students in position i and j will be in the wrong position because the one in position j\n",
    "        # need to be to the left because has the mark bigger than the pivot and viceversa.\n",
    "        if i<j:\n",
    "            if dati[i][2]!=dati[j][2]:\n",
    "                # if i is smaller than j and the student's mark at position i is different from the student's mark at position\n",
    "                # j we exchange the position of this two students in dati.\n",
    "                app = dati[i]\n",
    "                dati[i] = dati[j]\n",
    "                dati[j] = app\n",
    "            elif dati[i][2]==dati[j][2]:\n",
    "                # elif, if the two marks are the same we look to the name and surname of the students.\n",
    "                if dati[i][0]==dati[j][0]:\n",
    "                    # if they have the same name we sort looking to the surname.\n",
    "                    y_n = sort_by_name(dati[i][1],dati[j][1])\n",
    "                elif dati[i][0]!=dati[j][0]:\n",
    "                    # if their name is different we sort for the name.\n",
    "                    y_n = sort_by_name(dati[i][0],dati[j][0])\n",
    "                if y_n==1:\n",
    "                    # if the first person with is name and surname in alphabetic order comes before the second we don't change\n",
    "                    # thei order in dati and j became j-1 (so we move by one position to the left).\n",
    "                    j -= 1\n",
    "                elif y_n==0:\n",
    "                    # else if the second person with is name and surname in alphabetic order comes before the first we exchange\n",
    "                    # them.\n",
    "                    app = dati[i]\n",
    "                    dati[i] = dati[j]\n",
    "                    dati[j] = app\n",
    "        else:\n",
    "            # if i >= j we break the while cicle and we return j because this partion is completed.\n",
    "            break\n",
    "    return j"
   ]
  },
  {
   "cell_type": "markdown",
   "metadata": {},
   "source": [
    "#### 2. What is the time complexity of each algorithm you have used?"
   ]
  },
  {
   "cell_type": "markdown",
   "metadata": {},
   "source": [
    "Let's start saying that there exists a theorem which asserts that every sorting algorithm, that works comparing the elements that should be sorted, has at least a computational cost of $n\\dot log(n)$, where $n$ is the size of the list.   \n",
    "For this question we've decided to use insertion that is probably one of the simplest sorting algorithm but isn't known for being the most optimal one. In fact since for every element of the list we should at most compare it with all the other previous element in the list, we can even have, in the worst case, a computational cost of $n^2$.   \n",
    "Then we've used merge sort algorithm that it's known to have a time complexity of $nlog(n)$ even in the worst case.  \n",
    "The last one is the quicksort that on average works with a computational cost of $nlog(n)$ but there are some cases in which it could have a cost of $n^2$."
   ]
  },
  {
   "cell_type": "code",
   "execution_count": 30,
   "metadata": {},
   "outputs": [
    {
     "data": {
      "image/png": "[encoded data removed]",
      "text/plain": [
       "<Figure size 576x432 with 1 Axes>"
      ]
     },
     "metadata": {
      "needs_background": "light"
     },
     "output_type": "display_data"
    }
   ],
   "source": [
    "import matplotlib.pyplot as plt\n",
    "import numpy as np\n",
    "import math\n",
    "\n",
    "X = np.arange(1,100)\n",
    "y = np.log(X)*X\n",
    "z = X*X\n",
    "plt.figure(figsize=(8, 6))\n",
    "plt.plot(X, y, color='m', label='n*log(n)', linewidth=4.0)\n",
    "plt.plot(X, z, color='c', label='n*n',linewidth=4.0)\n",
    "plt.xlabel(\"number of students\")\n",
    "plt.ylabel(\"time complexity\")\n",
    "plt.legend()\n",
    "plt.show()"
   ]
  },
  {
   "cell_type": "markdown",
   "metadata": {},
   "source": [
    "In the previous plot there are the functions $nlog(n)$ and $n^2$ where n is the number of students.    \n",
    "We've decided to show this plot in order to let you visualize the great gap that we have between the two functions when $n$ is large. In particular we can notice that the more n grows the more the gap increases.    \n",
    "We can assert that if we have to sort a lot of elements is always better to use an algorithm that has a computational time of $nlog(n)$."
   ]
  },
  {
   "cell_type": "markdown",
   "metadata": {},
   "source": [
    "#### 3. Evaluate the time taken for each of your implementations to answer the query stored in the ApplicantsInfo.txt file and visualize them."
   ]
  },
  {
   "cell_type": "markdown",
   "metadata": {},
   "source": [
    "As we've seen before the times taken by the different algorithm are:\n",
    "- **insertion sort**: 5.0 minutes and 12.51 seconds\n",
    "- **merge sort**: 0.0 minutes and 0.67 seconds\n",
    "- **quick sort**: 0.0 minutes and 35.89 seconds\n",
    "\n",
    "Now we are going to study how the computational cost for these 3 sorting algorithms varias as the number of operations, and thus the number of data to be analyzed: obviously the algorithm will require more time if the data are more, but the increase will be different for the tree considered functions.\n",
    "\n",
    "we repeat insertion sort, mergesort, and quicksort repeatedly on sublists of our original list of 50000 data, and each time we save our execution time. for the first try we use 5 sublists.\n",
    "\n",
    "I will then eventually have a list of n (in the first case 5) times where in position 1 i have the time considered for 50000/n data, in second position (50000/n)x2 data, until i have in last position all 50000 data."
   ]
  },
  {
   "cell_type": "code",
   "execution_count": 31,
   "metadata": {},
   "outputs": [],
   "source": [
    "d,n,m = read_file()"
   ]
  },
  {
   "cell_type": "code",
   "execution_count": 40,
   "metadata": {},
   "outputs": [],
   "source": [
    "def times_insertion(d):\n",
    "    times_insertion = []\n",
    "    for t in range(10000,len(d)+1,10000):\n",
    "        dati_time = d[0:t]\n",
    "        start_time = time.time()\n",
    "        insertion_sort(dati_time,t)\n",
    "        end_time = time.time()\n",
    "        times_insertion.append(end_time-start_time)\n",
    "    return times_insertion"
   ]
  },
  {
   "cell_type": "code",
   "execution_count": 41,
   "metadata": {},
   "outputs": [],
   "source": [
    "times_i = times_insertion(d)"
   ]
  },
  {
   "cell_type": "code",
   "execution_count": 33,
   "metadata": {},
   "outputs": [],
   "source": [
    "def times_merge(d):\n",
    "    times_merge = []\n",
    "    for t in range(10000,len(d)+1,10000):\n",
    "        dati_time = d[0:t]\n",
    "        start_time = time.time()\n",
    "        merge_sort(dati_time,1,t)\n",
    "        end_time = time.time()\n",
    "        times_merge.append(end_time-start_time)\n",
    "    return times_merge"
   ]
  },
  {
   "cell_type": "code",
   "execution_count": 34,
   "metadata": {},
   "outputs": [],
   "source": [
    "times_m = times_merge(d)"
   ]
  },
  {
   "cell_type": "code",
   "execution_count": 36,
   "metadata": {},
   "outputs": [],
   "source": [
    "def timesQuick(d):\n",
    "    times_quick = []\n",
    "    for t in range(10000,len(d)+1,10000):\n",
    "        dati_time = d[0:t]\n",
    "        start_time = time.time()\n",
    "        quicksort(dati_time,0,t-1)\n",
    "        end_time = time.time()\n",
    "        times_quick.append(end_time-start_time)\n",
    "    return times_quick"
   ]
  },
  {
   "cell_type": "code",
   "execution_count": 37,
   "metadata": {},
   "outputs": [],
   "source": [
    "times_q = timesQuick(d)"
   ]
  },
  {
   "cell_type": "code",
   "execution_count": 42,
   "metadata": {},
   "outputs": [
    {
     "data": {
      "image/png": "[encoded data removed]",
      "text/plain": [
       "<Figure size 576x432 with 1 Axes>"
      ]
     },
     "metadata": {
      "needs_background": "light"
     },
     "output_type": "display_data"
    }
   ],
   "source": [
    "import matplotlib.pyplot as plt\n",
    "import numpy as np\n",
    "import math\n",
    "\n",
    "X = np.arange(10000,50000+1,10000)\n",
    "ins = np.array(times_i)\n",
    "mer = np.array(times_m)\n",
    "qui = np.array(times_q)\n",
    "plt.figure(figsize=(8, 6))\n",
    "plt.plot(X, ins, color='m',label='insertion',linewidth=4.0)\n",
    "plt.plot(X, mer, color='g',label='merge',linewidth=4.0)\n",
    "plt.plot(X, qui, color='c',label='quick',linewidth=4.0)\n",
    "plt.legend()\n",
    "plt.show()"
   ]
  },
  {
   "cell_type": "markdown",
   "metadata": {},
   "source": [
    "in the graph there are the 3 sorting algorithm (insertion, merge and quick) and their time trend with the increase of number of students to be analyzed."
   ]
  },
  {
   "cell_type": "markdown",
   "metadata": {},
   "source": [
    "#### 4. What is the most optimal algorithm, in your opinion, and why?"
   ]
  },
  {
   "cell_type": "markdown",
   "metadata": {},
   "source": [
    "If we have to take a decision considering only the execution time of the algorithm we may say that the merge sort is the best one since it's the faster one.  \n",
    "But even quick sort when we are not in particular case is a good one because it has a plus over merge sort.   \n",
    "In fact even if merge sort is very fast we can notice that in the function merge we can't reorder the list without creating a new list in which store temporarily the new sorted elements and so we use more memory. Instead in the quick sort we can sort all the elements in loco.   \n",
    "For this reason if we are in the cases in which quick sort takes a time complexity of $nlog(n)$ it's the best one to use."
   ]
  },
  {
   "cell_type": "markdown",
   "metadata": {},
   "source": [
    "#### 5. Implement a sorting algorithm using MapReduce and compare it against the three algorithms previously implemented using the ApplicantsInfo.txt file."
   ]
  },
  {
   "cell_type": "code",
   "execution_count": 48,
   "metadata": {},
   "outputs": [],
   "source": [
    "global dati\n",
    "dati,n,m = read_file()\n",
    "\n",
    "l = [1,n]\n",
    "\n",
    "def mapR(list):\n",
    "    start = list[0]\n",
    "    end = list[1]\n",
    "    if start<end:\n",
    "        medium = (start+end)//2\n",
    "        map(mapR, [[start, medium], [medium+1,end]])\n",
    "        reduce(start,medium,end)\n",
    "    return\n",
    "\n",
    "def reduce(start,medium,end):\n",
    "    B = []\n",
    "    # since when we call the function mapR for the first time we give to it start=1 and end=n, we now need to fix indexes\n",
    "    i = start-1\n",
    "    j = medium\n",
    "    while ((i<medium) and (j<end)):\n",
    "        if dati[i][2]<dati[j][2]:\n",
    "            B.append(dati[j])\n",
    "            j+=1\n",
    "        elif dati[i][2]>dati[j][2]:\n",
    "            B.append(dati[i])\n",
    "            i+=1\n",
    "        elif dati[i][2]==dati[j][2]:\n",
    "            if dati[i][0]==dati[j][0]:\n",
    "                y_n = sort_by_name(dati[i][1],dati[j][1])\n",
    "            elif dati[i][0]!=dati[j][0]:\n",
    "                y_n = sort_by_name(dati[i][0],dati[j][0])\n",
    "            if y_n==1:\n",
    "                B.append(dati[i])\n",
    "                i+=1\n",
    "            elif y_n==0:\n",
    "                B.append(dati[j])\n",
    "                j+=1\n",
    "    \n",
    "    while i<medium:\n",
    "        B.append(dati[i])\n",
    "        i+=1\n",
    "    while j<end:\n",
    "        B.append(dati[j])\n",
    "        j+=1\n",
    "    if B !=[]:\n",
    "        for k in range(0,end-start+1):\n",
    "            dati[start-1+k]=B[k]\n",
    "    return"
   ]
  },
  {
   "cell_type": "code",
   "execution_count": 49,
   "metadata": {},
   "outputs": [],
   "source": [
    "mapR(l)"
   ]
  }
 ],
 "metadata": {
  "kernelspec": {
   "display_name": "Python 3.9.12 ('base')",
   "language": "python",
   "name": "python3"
  },
  "language_info": {
   "codemirror_mode": {
    "name": "ipython",
    "version": 3
   },
   "file_extension": ".py",
   "mimetype": "text/x-python",
   "name": "python",
   "nbconvert_exporter": "python",
   "pygments_lexer": "ipython3",
   "version": "3.9.12"
  },
  "vscode": {
   "interpreter": {
    "hash": "cd94c265d0cd8d4c5ed894c320907f0fc1771c221568605f48fbe0110aecbb76"
   }
  }
 },
 "nbformat": 4,
 "nbformat_minor": 2
}
