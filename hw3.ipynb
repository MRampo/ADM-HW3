{
 "cells": [
  {
   "cell_type": "code",
   "execution_count": 2,
   "metadata": {},
   "outputs": [
    {
     "name": "stderr",
     "output_type": "stream",
     "text": [
      "[nltk_data] Downloading package stopwords to\n",
      "[nltk_data]     C:\\Users\\Matteo\\AppData\\Roaming\\nltk_data...\n",
      "[nltk_data]   Package stopwords is already up-to-date!\n"
     ]
    }
   ],
   "source": [
    "from bs4 import BeautifulSoup as bs\n",
    "import requests\n",
    "from tqdm import tqdm \n",
    "import json\n",
    "import os\n",
    "import datetime\n",
    "import re\n",
    "import glob\n",
    "import csv\n",
    "import time\n",
    "import pandas as pd\n",
    "from nltk.stem import *\n",
    "from collections import Counter\n",
    "from functools import reduce\n",
    "import numpy as np\n",
    "import nltk\n",
    "from nltk.corpus import stopwords\n",
    "nltk.download('stopwords')\n",
    "from nltk.tokenize import RegexpTokenizer\n",
    "from nltk.stem import PorterStemmer\n",
    "from nltk import tokenize\n",
    "#import datatable as dt   \n",
    "import csv\n",
    "import numpy as np\n",
    "from sklearn.feature_extraction.text import TfidfVectorizer\n",
    "\n",
    "#To read and store dictionary\n",
    "import pickle"
   ]
  },
  {
   "cell_type": "code",
   "execution_count": 99,
   "metadata": {},
   "outputs": [],
   "source": [
    "#TODO\n",
    "#EDA\n",
    "#do Lemmatization in the Data Cleaning \n",
    "#Create all the missing tsv\n",
    "#Clean and comment the code\n",
    "#CHECK EFFICIENCY 1.2 and 1.3\n",
    "#Parse list before saving into\n",
    "# finire di aggiungere labels al punto 4 (placeAdress,city)"
   ]
  },
  {
   "cell_type": "markdown",
   "metadata": {},
   "source": [
    "### 1. Data collection\n",
    "## 1.1. Get the list of places"
   ]
  },
  {
   "cell_type": "code",
   "execution_count": null,
   "metadata": {},
   "outputs": [],
   "source": [
    "total_link = []\n",
    "s = requests.Session()\n",
    "for n in tqdm(range(1,401)):\n",
    "    url = f'https://www.atlasobscura.com/places?page={n}&sort=likes_count'\n",
    "    result = s.get(url)\n",
    "    soup = bs(result.text)\n",
    "    puf = soup.find_all(\"a\", {'class': 'content-card content-card-place'})\n",
    "    for x in puf:\n",
    "        total_link.append(x['href'])\n"
   ]
  },
  {
   "cell_type": "code",
   "execution_count": null,
   "metadata": {},
   "outputs": [],
   "source": [
    "f = open('total_link.txt',\"r\")\n",
    "total_link = f.read().split(\"\\n\")"
   ]
  },
  {
   "cell_type": "markdown",
   "metadata": {},
   "source": [
    "## 1.2. Crawl places"
   ]
  },
  {
   "cell_type": "code",
   "execution_count": null,
   "metadata": {},
   "outputs": [],
   "source": [
    "def downloadPage(start,end, array):\n",
    "    count_link = ((start-1)*18)+1\n",
    "    count_page = start\n",
    "    \n",
    "    parent_dir = f'./all_Pages'\n",
    "    s = requests.Session()\n",
    "    header = {'User-Agent': 'Mozilla/5.0 (Macintosh; Intel Mac OS X 10_10_1) AppleWebKit/537.36 (KHTML, like Gecko) Chrome/39.0.2171.95 Safari/537.36'}\n",
    "    for x in tqdm(range(start, end)):\n",
    "        if count_link%10 == 0:\n",
    "            s = requests.Session()\n",
    "        if count_link%18 == 1:\n",
    "            path = os.path.join(parent_dir, f\"folder_{count_page}\")\n",
    "            os.mkdir(path)\n",
    "        for y in range(18):\n",
    "            url = f'https://www.atlasobscura.com{array[count_link-1]}'\n",
    "            name_file = f'location_{count_link}'\n",
    "            name_folder = f'folder_{count_page}'\n",
    "            with open(f'./all_Pages/{name_folder}/{name_file}.html', 'w', encoding='utf8') as fp:\n",
    "                req = s.get(url, headers = header)\n",
    "                fp.write(req.text)\n",
    "                if req.status_code != 200:\n",
    "                     time.sleep(120)\n",
    "                     req = s.get(url, headers = header)\n",
    "                fp.write(s.get(url).text)\n",
    "            if count_link%18 == 0:\n",
    "                count_page += 1\n",
    "            count_link += 1\n",
    "           \n",
    "        "
   ]
  },
  {
   "cell_type": "markdown",
   "metadata": {},
   "source": [
    "## 1.3 Parse downloaded pages"
   ]
  },
  {
   "cell_type": "code",
   "execution_count": null,
   "metadata": {},
   "outputs": [],
   "source": [
    "\n",
    "def save_TSV():\n",
    "    os.mkdir(\"TSV Files\")\n",
    "    for x in os.listdir(\"all_Pages\"):\n",
    "        for y in os.listdir(f'all_Pages/{x}'):\n",
    "            with open(f'./all_Pages/{x}/{y}', encoding='utf8') as f:\n",
    "                p = f.read()\n",
    "                soup =  bs(p)\n",
    "                pageAttribute = []\n",
    "                placeName = findPlaceName(soup)\n",
    "                placeTags = findPlaceTags(soup)\n",
    "                numPeopleVisited = findNumPeopleVisited(soup)\n",
    "                numPeopleWant = findNumPeopleWant(soup)\n",
    "                placeDesc = findDescription(soup)\n",
    "                placeShortDesc = findShortDescription(soup)\n",
    "                placeNearby = findNearbyPlaces(soup)\n",
    "                placeAddress = findAddress(soup)\n",
    "                placeAlt, placeLong = findCordinates(soup)\n",
    "                placeEditors = findPostEditors(soup)\n",
    "                placePubDate = findPublishingDate(soup)\n",
    "                placeRelatedList = findPlaceNear(soup)\n",
    "                placeRelatedPlaces = findRelatedPlaces(soup)\n",
    "                placeURL = findPageURL(soup)\n",
    "                with open(f'./TSV Files/{y[:-5]}.tvs', 'wt', encoding='utf8') as fp:\n",
    "                    csv.writer(fp, delimiter='\\t').writerow([placeName, placeTags, numPeopleVisited, numPeopleWant, placeDesc, placeShortDesc, placeNearby, placeAddress, placeAlt, placeLong, placeEditors, placePubDate, placeRelatedList, placeRelatedPlaces, placeURL])\n",
    "            "
   ]
  },
  {
   "cell_type": "code",
   "execution_count": null,
   "metadata": {},
   "outputs": [],
   "source": [
    "\n",
    "def download_TSV():\n",
    "    os.mkdir(\"TSV Files\")\n",
    "    a = 0\n",
    "    for path in tqdm(glob.glob(r\"all_Pages/*/*\")):\n",
    "        with open(path, encoding='utf8') as f:\n",
    "                    a += 1\n",
    "                    p = f.read()\n",
    "                    soup =  bs(p)\n",
    "                    pageAttribute = []\n",
    "                    placeName = findPlaceName(soup)\n",
    "                    placeTags = findPlaceTags(soup)\n",
    "                    placeTags = \",\".join(placeTags)\n",
    "                    numPeopleVisited = findNumPeopleVisited(soup)\n",
    "                    numPeopleWant = findNumPeopleWant(soup)\n",
    "                    placeDesc = findDescription(soup)\n",
    "                    placeDesc = \" \".join(placeDesc)\n",
    "                    placeShortDesc = findShortDescription(soup)\n",
    "                    placeNearby = findNearbyPlaces(soup)\n",
    "                    placeNearby = \",\".join(placeNearby)\n",
    "                    placeAddress = findAddress(soup)\n",
    "                    placeAlt, placeLong = findCordinates(soup)\n",
    "                    placeEditors = findPostEditors(soup)\n",
    "                    placeEditors = \",\".join(placeEditors)\n",
    "                    placePubDate = findPublishingDate(soup)\n",
    "                    placeRelatedList = findPlaceNear(soup)\n",
    "                    placeRelatedList = \",\".join(placeRelatedList)\n",
    "                    placeRelatedPlaces = findRelatedPlaces(soup)\n",
    "                    placeRelatedPlaces = \",\".join(placeRelatedPlaces)\n",
    "                    placeURL = findPageURL(soup)\n",
    "                    with open(f'./TSV Files/{a}.tvs', 'wt', encoding='utf8') as fp:\n",
    "                        csv.writer(fp, delimiter='\\t').writerow([placeName, placeTags, numPeopleVisited, numPeopleWant, placeDesc, placeShortDesc, placeNearby, placeAddress, placeAlt, placeLong, placeEditors, placePubDate, placeRelatedList, placeRelatedPlaces, placeURL])\n",
    "        \n",
    "        "
   ]
  },
  {
   "cell_type": "code",
   "execution_count": null,
   "metadata": {},
   "outputs": [],
   "source": [
    "download_TSV()"
   ]
  },
  {
   "cell_type": "code",
   "execution_count": null,
   "metadata": {},
   "outputs": [],
   "source": [
    "def findPlaceName(soup):\n",
    "    placeName = soup.find(\"h1\", {\"class\": \"DDPage__header-title\"})\n",
    "    if placeName != None:\n",
    "        placeName = placeName.text\n",
    "    #placeName = re.sub('[A-Za-z0-9_.,! \"]*' ,'',placeName)\n",
    "    return placeName\n",
    "\n",
    "def findPlaceTags(soup):\n",
    "    tags = []\n",
    "    placeTags = soup.find_all(\"a\", {\"class\": \"itemTags__link js-item-tags-link\"})\n",
    "    for tag in placeTags:\n",
    "        t = tag.text.replace(\"\\n\", \"\")\n",
    "        #t = re.sub('[A-Za-z0-9 _.,!\"]*','',t)\n",
    "        tags.append(t)\n",
    "    return tags\n",
    "\n",
    "def findNumPeopleVisited(soup):\n",
    "    peopleVisited = soup.find_all(\"div\", {\"class\": \"title-md item-action-count\"})\n",
    "    if len(peopleVisited) > 0:\n",
    "        peopleVisited = int(peopleVisited[0].text)\n",
    "    return peopleVisited\n",
    "\n",
    "def findNumPeopleWant(soup):\n",
    "    peopleVisited = soup.find_all(\"div\", {\"class\": \"title-md item-action-count\"})\n",
    "    if len(peopleVisited) > 0:\n",
    "        peopleVisited = int(peopleVisited[1].text)\n",
    "    return peopleVisited\n",
    "\n",
    "def findDescription(soup):\n",
    "    all_description = []\n",
    "    descriptions = soup.find_all(\"div\", {\"class\": \"DDP__body-copy\"})\n",
    "    for description in descriptions:\n",
    "        d = description.text.replace(\"\\n\",\"\")\n",
    "        all_description.append(d)\n",
    "    return all_description\n",
    "\n",
    "def findShortDescription(soup):\n",
    "    shortDescription = soup.find(\"h3\", {\"class\": \"DDPage__header-dek\"})\n",
    "    if shortDescription != None:\n",
    "        shortDescription = shortDescription.text.replace(\"\\n\", \"\")\n",
    "    return shortDescription\n",
    "\n",
    "def findNearbyPlaces(soup):\n",
    "    nearPlaces = []\n",
    "    nearbyPlaces = soup.find_all(\"div\", {\"class\": \"DDPageSiderailRecirc__item-title\"})\n",
    "    if nearbyPlaces != None:\n",
    "        for place in nearbyPlaces:\n",
    "            p = place.text.replace(\"\\n\",\"\")\n",
    "            nearPlaces.append(p)\n",
    "        #Convert the list to set, and then back again to list to remove repetition\n",
    "    return set(nearPlaces)\n",
    "\n",
    "def findAddress(soup):\n",
    "    strings = []\n",
    "    adress_strings = soup.find(\"address\", {\"class\": \"DDPageSiderail__address\"})\n",
    "    if adress_strings != None:\n",
    "        adress_strings = adress_strings.find(\"div\")\n",
    "        for info in adress_strings:\n",
    "            s = info.text.replace(\"\\n\", \"\")\n",
    "            if s != \"\":\n",
    "                strings.append(s)\n",
    "        if len(strings) > 3:\n",
    "            return \" \".join(strings[:3])\n",
    "    else:\n",
    "        return \" \"\n",
    "\n",
    "def findCordinates(soup):\n",
    "\n",
    "    cordinates = soup.find(\"div\", {\"class\":\"DDPageSiderail__coordinates js-copy-coordinates\"})\n",
    "    if cordinates != None:\n",
    "        return cordinates.text.replace(\"\\n\", \"\").replace(\" \",\"\").split(\",\")\n",
    "    return \" \", \" \"\n",
    "\n",
    "def findPostEditors(soup):\n",
    "    all_editors =[]\n",
    "    editors = soup.find_all(\"a\", {\"class\":\"DDPContributorsList__contributor\"})         \n",
    "    for person in editors:\n",
    "        s = person.text.replace(\"\\n\", \"\")\n",
    "        all_editors.append(s)\n",
    "    return all_editors\n",
    "\n",
    "def findPublishingDate(soup):\n",
    "    #Pick the right info\n",
    "    dateString = soup.find(\"div\", {\"class\":\"DDPContributor__name\"}) \n",
    "    #Let's clean the string\n",
    "    if dateString != None:\n",
    "        s = dateString.text.replace(\"\\n\", \"\")\n",
    "        #Let's modify it for the right format of datetime\n",
    "        split = s.split()\n",
    "        #Let's convert the string Month into the corrispondent number by using \"strptime()\" \n",
    "        split[0] = str(datetime.datetime.strptime(split[0], '%B').month)\n",
    "        #My format\n",
    "        format = \"%m %d, %Y\"\n",
    "        #Convert from String to datetime\n",
    "        date = datetime.datetime.strptime(\" \".join(split), format)\n",
    "        return date\n",
    "    else:\n",
    "        return \"\"\n",
    "\n",
    "def findPlaceNear(soup):\n",
    "    lists =[]\n",
    "    relatedLists = soup.find(\"div\", {\"data-gtm-template\":\"DDP Footer Recirc Nearby\"})\n",
    "    if relatedLists != None:\n",
    "        relatedLists = relatedLists.find_all(\"h3\", {\"class\":\"Card__heading --content-card-v2-title js-title-content\"})\n",
    "        for list in relatedLists:\n",
    "            s = list.text.replace(\"\\n\", \"\")\n",
    "            #s = re.sub('[A-Za-z0-9 _.,!\"]*','',s)\n",
    "            lists.append(s)\n",
    "    return lists\n",
    "\n",
    "def findRelatedPlaces(soup):\n",
    "    lists =[]\n",
    "    relatedLists = soup.find(\"div\", {\"data-gtm-template\":\"DDP Footer Recirc Related\"})\n",
    "    if relatedLists != None:\n",
    "        relatedLists = relatedLists.find_all(\"h3\", {\"class\":\"Card__heading --content-card-v2-title js-title-content\"})\n",
    "        for list in relatedLists:\n",
    "            s = list.text.replace(\"\\n\", \"\")\n",
    "            #s = re.sub('[A-Za-z0-9 _.,!\"]*','',s)\n",
    "            lists.append(s)\n",
    "    return lists\n",
    "\n",
    "def findPageURL(soup):\n",
    "    numVisitedPeople = soup.find(\"link\", {\"rel\":\"canonical\"})\n",
    "    return numVisitedPeople['href']\n",
    "\n"
   ]
  },
  {
   "cell_type": "markdown",
   "metadata": {},
   "source": [
    "## Load all the tsv file into one pandas dataframe"
   ]
  },
  {
   "cell_type": "markdown",
   "metadata": {},
   "source": [
    "We decided to save all the .tsv file as one joined .csv where every file rappresents one row of the .csv file, so that we can work and access the data without having to read 7200 tsv file each time. The data are stored in the \"tsv_dataframe\"\n",
    "\n",
    "This mean that the function load_tsv() has only been executed once. The other iteration we just read the .csv file"
   ]
  },
  {
   "cell_type": "code",
   "execution_count": null,
   "metadata": {},
   "outputs": [],
   "source": [
    "\n",
    "def load_tsv() -> pd.DataFrame:\n",
    "    tsv = []\n",
    "    dtypes = {}\n",
    "    for x in tqdm(os.listdir(\"TSV Files\")):\n",
    "        df = pd.read_csv(f'TSV Files/{x}',\n",
    "            sep=\"\\t\",\n",
    "            header=None,\n",
    "            names=[\"placeName\", \"placeTags\", \"numPeopleVisited\", \"numPeopleWant\", \"placeDesc\", \"placeShortDesc\", \"placeNearby\",\"placeAdress\", \"placeAlt\", \"placeLong\", \"placeEditors\",\"placePubDate\", \"placeRelatedList\", \"placeRelatedPlace\", \"placeURL\"])\n",
    "        tsv.append(df)\n",
    "\n",
    "    return pd.concat(tsv)"
   ]
  },
  {
   "cell_type": "code",
   "execution_count": 2,
   "metadata": {},
   "outputs": [],
   "source": [
    "# data = load_tsv()\n",
    "data = pd.read_csv(\"tsv_dataframe.csv\",index_col=0)\n",
    "\n",
    "#Reset Index\n",
    "data.reset_index(inplace = True, drop=True)"
   ]
  },
  {
   "cell_type": "code",
   "execution_count": 4,
   "metadata": {},
   "outputs": [
    {
     "name": "stdout",
     "output_type": "stream",
     "text": [
      "<class 'pandas.core.frame.DataFrame'>\n",
      "RangeIndex: 7200 entries, 0 to 7199\n",
      "Data columns (total 15 columns):\n",
      " #   Column             Non-Null Count  Dtype  \n",
      "---  ------             --------------  -----  \n",
      " 0   placeName          7200 non-null   object \n",
      " 1   placeTags          7166 non-null   object \n",
      " 2   numPeopleVisited   7200 non-null   int64  \n",
      " 3   numPeopleWant      7200 non-null   int64  \n",
      " 4   placeDesc          7200 non-null   object \n",
      " 5   placeShortDesc     7200 non-null   object \n",
      " 6   placeNearby        7200 non-null   object \n",
      " 7   placeAdress        7166 non-null   object \n",
      " 8   placeAlt           7200 non-null   float64\n",
      " 9   placeLong          7200 non-null   float64\n",
      " 10  placeEditors       7194 non-null   object \n",
      " 11  placePubDate       7199 non-null   object \n",
      " 12  placeRelatedList   7199 non-null   object \n",
      " 13  placeRelatedPlace  7166 non-null   object \n",
      " 14  placeURL           7200 non-null   object \n",
      "dtypes: float64(2), int64(2), object(11)\n",
      "memory usage: 843.9+ KB\n"
     ]
    }
   ],
   "source": [
    "data.info()"
   ]
  },
  {
   "cell_type": "code",
   "execution_count": 28,
   "metadata": {},
   "outputs": [
    {
     "data": {
      "text/html": [
       "<div>\n",
       "<style scoped>\n",
       "    .dataframe tbody tr th:only-of-type {\n",
       "        vertical-align: middle;\n",
       "    }\n",
       "\n",
       "    .dataframe tbody tr th {\n",
       "        vertical-align: top;\n",
       "    }\n",
       "\n",
       "    .dataframe thead th {\n",
       "        text-align: right;\n",
       "    }\n",
       "</style>\n",
       "<table border=\"1\" class=\"dataframe\">\n",
       "  <thead>\n",
       "    <tr style=\"text-align: right;\">\n",
       "      <th></th>\n",
       "      <th>placeName</th>\n",
       "      <th>placeTags</th>\n",
       "      <th>numPeopleVisited</th>\n",
       "      <th>numPeopleWant</th>\n",
       "      <th>placeDesc</th>\n",
       "      <th>placeShortDesc</th>\n",
       "      <th>placeNearby</th>\n",
       "      <th>placeAdress</th>\n",
       "      <th>placeAlt</th>\n",
       "      <th>placeLong</th>\n",
       "      <th>placeEditors</th>\n",
       "      <th>placePubDate</th>\n",
       "      <th>placeRelatedList</th>\n",
       "      <th>placeRelatedPlace</th>\n",
       "      <th>placeURL</th>\n",
       "    </tr>\n",
       "  </thead>\n",
       "  <tbody>\n",
       "    <tr>\n",
       "      <th>0</th>\n",
       "      <td>City Hall Station</td>\n",
       "      <td>subways,subterranean,infrastructure,subterrane...</td>\n",
       "      <td>1834</td>\n",
       "      <td>8603</td>\n",
       "      <td>The first New York City subway was built and o...</td>\n",
       "      <td>A beautiful and abandoned New York subway stat...</td>\n",
       "      <td>The Sugar House Prison Window,Tunnel Number 3,...</td>\n",
       "      <td>31 Centre St New York, New York, 10007 United ...</td>\n",
       "      <td>40.7134</td>\n",
       "      <td>-74.0046</td>\n",
       "      <td>Rebekah Otto,Annetta Black,Allan,charding407,w...</td>\n",
       "      <td>2010-05-08 00:00:00</td>\n",
       "      <td>African Burial Ground National Monument,Tunnel...</td>\n",
       "      <td>Crystal Palace Subway,Moscow Metro Stations,Ro...</td>\n",
       "      <td>https://www.atlasobscura.com/places/city-hall-...</td>\n",
       "    </tr>\n",
       "    <tr>\n",
       "      <th>1</th>\n",
       "      <td>The Winchester Mystery House</td>\n",
       "      <td>follies and grottoes,outsider architecture,ecc...</td>\n",
       "      <td>3723</td>\n",
       "      <td>5209</td>\n",
       "      <td>In 1886 an eccentric woman named Sarah Winches...</td>\n",
       "      <td>A peculiar mansion built by the troubled heir ...</td>\n",
       "      <td>Rosicrucian Park,Rosicrucian Egyptian Museum,S...</td>\n",
       "      <td>525 South Winchester Boulevard San Jose, Calif...</td>\n",
       "      <td>37.3189</td>\n",
       "      <td>-121.9506</td>\n",
       "      <td>mbison,Avoiding Regret,PrestonW,Collin,Destina...</td>\n",
       "      <td>2008-11-21 00:00:00</td>\n",
       "      <td>Santana Row Chess Plaza,Rosicrucian Park,Rosic...</td>\n",
       "      <td>Casa de Piedra (Stone House),Portmeirion Villa...</td>\n",
       "      <td>https://www.atlasobscura.com/places/winchester...</td>\n",
       "    </tr>\n",
       "    <tr>\n",
       "      <th>2</th>\n",
       "      <td>Center for Puppetry Arts</td>\n",
       "      <td>sesame street,puppets,museums</td>\n",
       "      <td>705</td>\n",
       "      <td>1027</td>\n",
       "      <td>If you know your Gonzo from your Gelflings, yo...</td>\n",
       "      <td>The largest puppetry museum in the USA houses ...</td>\n",
       "      <td>Breman Museum,The Consulate,Atlanta Monetary M...</td>\n",
       "      <td>1404 Spring St Atlanta, Georgia United States</td>\n",
       "      <td>33.7927</td>\n",
       "      <td>-84.3896</td>\n",
       "      <td>kendallmbailey,Martin,andydoesit,We All Pod Do...</td>\n",
       "      <td>2018-11-12 00:00:00</td>\n",
       "      <td>Breman Museum,Atlanta Monetary Museum,The Cons...</td>\n",
       "      <td>Portland Puppet Museum,Museu da Marioneta (Mus...</td>\n",
       "      <td>https://www.atlasobscura.com/places/center-for...</td>\n",
       "    </tr>\n",
       "    <tr>\n",
       "      <th>3</th>\n",
       "      <td>Amityville Horror House</td>\n",
       "      <td>hoaxes and pseudoscience,haunted,film location...</td>\n",
       "      <td>367</td>\n",
       "      <td>831</td>\n",
       "      <td>On a cold November night in 1974, Amityville, ...</td>\n",
       "      <td>The site of a tragic massacre that spawned a m...</td>\n",
       "      <td>The Long Island Puppet Theater,Pilgrim Psychia...</td>\n",
       "      <td>112 Ocean Avenue Amityville, New York, 11701 U...</td>\n",
       "      <td>40.6665</td>\n",
       "      <td>-73.4143</td>\n",
       "      <td>EricGrundhauser,MandrewPatinkin,lendog666,Mart...</td>\n",
       "      <td>2013-10-17 00:00:00</td>\n",
       "      <td>The Long Island Puppet Theater,Fire Island Lig...</td>\n",
       "      <td>Conanicut Island Lighthouse,Lovell Health Hous...</td>\n",
       "      <td>https://www.atlasobscura.com/places/amityville...</td>\n",
       "    </tr>\n",
       "    <tr>\n",
       "      <th>4</th>\n",
       "      <td>Yuma Territorial Prison</td>\n",
       "      <td>prisons,crime and punishment</td>\n",
       "      <td>422</td>\n",
       "      <td>833</td>\n",
       "      <td>On July 1, 1876, the first seven inmates enter...</td>\n",
       "      <td>Walk through the actual strap iron cells and s...</td>\n",
       "      <td>Valley of the Names,Felicity, California: Cent...</td>\n",
       "      <td>1 Prison Hill Rd Yuma, Arizona, 85364 United S...</td>\n",
       "      <td>32.7266</td>\n",
       "      <td>-114.6144</td>\n",
       "      <td>desertfairy,mbison,CorpseLady84,Avoiding Regre...</td>\n",
       "      <td>2010-04-01 00:00:00</td>\n",
       "      <td>Felicity, California: Center of the World,Vall...</td>\n",
       "      <td>Buckley's Cave,Palazzo d'Avalos,Oxford Castle ...</td>\n",
       "      <td>https://www.atlasobscura.com/places/yuma-terri...</td>\n",
       "    </tr>\n",
       "  </tbody>\n",
       "</table>\n",
       "</div>"
      ],
      "text/plain": [
       "                      placeName  \\\n",
       "0             City Hall Station   \n",
       "1  The Winchester Mystery House   \n",
       "2      Center for Puppetry Arts   \n",
       "3       Amityville Horror House   \n",
       "4       Yuma Territorial Prison   \n",
       "\n",
       "                                           placeTags  numPeopleVisited  \\\n",
       "0  subways,subterranean,infrastructure,subterrane...              1834   \n",
       "1  follies and grottoes,outsider architecture,ecc...              3723   \n",
       "2                      sesame street,puppets,museums               705   \n",
       "3  hoaxes and pseudoscience,haunted,film location...               367   \n",
       "4                       prisons,crime and punishment               422   \n",
       "\n",
       "   numPeopleWant                                          placeDesc  \\\n",
       "0           8603  The first New York City subway was built and o...   \n",
       "1           5209  In 1886 an eccentric woman named Sarah Winches...   \n",
       "2           1027  If you know your Gonzo from your Gelflings, yo...   \n",
       "3            831  On a cold November night in 1974, Amityville, ...   \n",
       "4            833  On July 1, 1876, the first seven inmates enter...   \n",
       "\n",
       "                                      placeShortDesc  \\\n",
       "0  A beautiful and abandoned New York subway stat...   \n",
       "1  A peculiar mansion built by the troubled heir ...   \n",
       "2  The largest puppetry museum in the USA houses ...   \n",
       "3  The site of a tragic massacre that spawned a m...   \n",
       "4  Walk through the actual strap iron cells and s...   \n",
       "\n",
       "                                         placeNearby  \\\n",
       "0  The Sugar House Prison Window,Tunnel Number 3,...   \n",
       "1  Rosicrucian Park,Rosicrucian Egyptian Museum,S...   \n",
       "2  Breman Museum,The Consulate,Atlanta Monetary M...   \n",
       "3  The Long Island Puppet Theater,Pilgrim Psychia...   \n",
       "4  Valley of the Names,Felicity, California: Cent...   \n",
       "\n",
       "                                         placeAdress  placeAlt  placeLong  \\\n",
       "0  31 Centre St New York, New York, 10007 United ...   40.7134   -74.0046   \n",
       "1  525 South Winchester Boulevard San Jose, Calif...   37.3189  -121.9506   \n",
       "2      1404 Spring St Atlanta, Georgia United States   33.7927   -84.3896   \n",
       "3  112 Ocean Avenue Amityville, New York, 11701 U...   40.6665   -73.4143   \n",
       "4  1 Prison Hill Rd Yuma, Arizona, 85364 United S...   32.7266  -114.6144   \n",
       "\n",
       "                                        placeEditors         placePubDate  \\\n",
       "0  Rebekah Otto,Annetta Black,Allan,charding407,w...  2010-05-08 00:00:00   \n",
       "1  mbison,Avoiding Regret,PrestonW,Collin,Destina...  2008-11-21 00:00:00   \n",
       "2  kendallmbailey,Martin,andydoesit,We All Pod Do...  2018-11-12 00:00:00   \n",
       "3  EricGrundhauser,MandrewPatinkin,lendog666,Mart...  2013-10-17 00:00:00   \n",
       "4  desertfairy,mbison,CorpseLady84,Avoiding Regre...  2010-04-01 00:00:00   \n",
       "\n",
       "                                    placeRelatedList  \\\n",
       "0  African Burial Ground National Monument,Tunnel...   \n",
       "1  Santana Row Chess Plaza,Rosicrucian Park,Rosic...   \n",
       "2  Breman Museum,Atlanta Monetary Museum,The Cons...   \n",
       "3  The Long Island Puppet Theater,Fire Island Lig...   \n",
       "4  Felicity, California: Center of the World,Vall...   \n",
       "\n",
       "                                   placeRelatedPlace  \\\n",
       "0  Crystal Palace Subway,Moscow Metro Stations,Ro...   \n",
       "1  Casa de Piedra (Stone House),Portmeirion Villa...   \n",
       "2  Portland Puppet Museum,Museu da Marioneta (Mus...   \n",
       "3  Conanicut Island Lighthouse,Lovell Health Hous...   \n",
       "4  Buckley's Cave,Palazzo d'Avalos,Oxford Castle ...   \n",
       "\n",
       "                                            placeURL  \n",
       "0  https://www.atlasobscura.com/places/city-hall-...  \n",
       "1  https://www.atlasobscura.com/places/winchester...  \n",
       "2  https://www.atlasobscura.com/places/center-for...  \n",
       "3  https://www.atlasobscura.com/places/amityville...  \n",
       "4  https://www.atlasobscura.com/places/yuma-terri...  "
      ]
     },
     "execution_count": 28,
     "metadata": {},
     "output_type": "execute_result"
    }
   ],
   "source": [
    "data.head()"
   ]
  },
  {
   "cell_type": "code",
   "execution_count": 3,
   "metadata": {},
   "outputs": [
    {
     "name": "stdout",
     "output_type": "stream",
     "text": [
      "<class 'pandas.core.frame.DataFrame'>\n",
      "RangeIndex: 7200 entries, 0 to 7199\n",
      "Data columns (total 15 columns):\n",
      " #   Column             Non-Null Count  Dtype  \n",
      "---  ------             --------------  -----  \n",
      " 0   placeName          7200 non-null   object \n",
      " 1   placeTags          7200 non-null   object \n",
      " 2   numPeopleVisited   7200 non-null   int64  \n",
      " 3   numPeopleWant      7200 non-null   int64  \n",
      " 4   placeDesc          7200 non-null   object \n",
      " 5   placeShortDesc     7200 non-null   object \n",
      " 6   placeNearby        7200 non-null   object \n",
      " 7   placeAdress        7200 non-null   object \n",
      " 8   placeAlt           7200 non-null   float64\n",
      " 9   placeLong          7200 non-null   float64\n",
      " 10  placeEditors       7200 non-null   object \n",
      " 11  placePubDate       7200 non-null   object \n",
      " 12  placeRelatedList   7200 non-null   object \n",
      " 13  placeRelatedPlace  7200 non-null   object \n",
      " 14  placeURL           7200 non-null   object \n",
      "dtypes: float64(2), int64(2), object(11)\n",
      "memory usage: 843.9+ KB\n"
     ]
    }
   ],
   "source": [
    "data = data.fillna(\"\")\n",
    "data.info()"
   ]
  },
  {
   "cell_type": "markdown",
   "metadata": {},
   "source": [
    "# 2. Search Engine"
   ]
  },
  {
   "cell_type": "code",
   "execution_count": 19,
   "metadata": {},
   "outputs": [],
   "source": [
    "#TODO\n",
    "#1. cambiare 'dic1' con 'vocabulary'\n",
    "#2. cambiare 'dic2' con 'inverted_index'\n",
    "#3. cambiare 'dic3' con 'inverted_index_2'\n",
    "#4. calcolare nuovo dizionario 3"
   ]
  },
  {
   "cell_type": "markdown",
   "metadata": {},
   "source": [
    "### funzioni poi da togliere dal file principale"
   ]
  },
  {
   "cell_type": "code",
   "execution_count": 6,
   "metadata": {},
   "outputs": [],
   "source": [
    "\n",
    "\n",
    "def remove_punctuations(string) -> list:\n",
    "    # first we remove the punctuations\n",
    "    # in order to do it we need to tekenize the string with the function tokenize and then applying the function RegexpTokenizer\n",
    "    return RegexpTokenizer(r'\\w+').tokenize(string)\n",
    "\n",
    "\n",
    "def stemming(string) -> list:\n",
    "    # now we move forward with the stemming\n",
    "    porter = PorterStemmer()\n",
    "    string_stem=[porter.stem(word) for word in string]\n",
    "    # we can now return the cleaned string \n",
    "    return string_stem\n",
    "\n",
    "def remove_stopwords(string) -> list:\n",
    "    # after this we can now remove all the stopwords in each word in string_t\n",
    "    return  [word for word in string if not word.lower() in set(stopwords.words(\"english\"))]\n",
    "    # now we move forward with the stemming\n",
    "\n",
    "def remove_numbers(string) -> list:\n",
    "    for num in range(len(string)):\n",
    "        if any(chr.isdigit() for chr in string[num]):\n",
    "            string[num] = ''.join((x for x in string[num] if not x.isdigit()))\n",
    "    return string\n",
    "\n",
    "\n",
    "\n",
    "def cleaning(string) -> list:\n",
    "    #I apply all the function for cleaning the string\n",
    "    string = string.lower()\n",
    "    string = remove_punctuations(string)\n",
    "    string = remove_stopwords(string)\n",
    "    string = remove_numbers(string)\n",
    "    string = stemming(string)\n",
    "\n",
    "    #return a list containing all the words of the original string after the cleaning\n",
    "    return string"
   ]
  },
  {
   "cell_type": "code",
   "execution_count": 181,
   "metadata": {},
   "outputs": [],
   "source": [
    "def save_dic(dic, name):\n",
    "    with open(f'./Dictionary/{name}.pkl', 'wb') as f:\n",
    "        pickle.dump(dic, f)"
   ]
  },
  {
   "cell_type": "code",
   "execution_count": 182,
   "metadata": {},
   "outputs": [],
   "source": [
    "def read_dic(name):\n",
    "    with open(f'./Dictionary/{name}.pkl', 'rb') as f:\n",
    "        loaded_dict = pickle.load(f)\n",
    "        return loaded_dict"
   ]
  },
  {
   "cell_type": "markdown",
   "metadata": {},
   "source": [
    "Before starting the search engines, since we'll look for words in the descriptions of each place, we clean the collected placeDesc for every place in the dataset.  \n",
    "In order to have later a more readable output we'll not sobsitute the column placeDesc with the one with all the cleaned descriptions but we'll add another column to our dataset 'data'.   \n",
    "In particular the function *cleaning*, that we apply in the next cell at every description, will:\n",
    "- convert all the upper characters in lower ones;\n",
    "- remove all the punctuations;\n",
    "- remove all the stopwords;\n",
    "- remove all numbers;\n",
    "- stem the string."
   ]
  },
  {
   "cell_type": "markdown",
   "metadata": {},
   "source": [
    "Let's create a new column with the clean descriptions:"
   ]
  },
  {
   "cell_type": "code",
   "execution_count": null,
   "metadata": {},
   "outputs": [],
   "source": [
    "#The function cleaning takes as input a string (a description) and returns the cleaned description as a list of strings\n",
    "data['cleanDesc'] = data.placeDesc.apply(lambda row: \" \".join(cleaning(row)))"
   ]
  },
  {
   "cell_type": "markdown",
   "metadata": {},
   "source": [
    "Now we save the data as a .csv file for future uses so that we don't need to run again the previous cell."
   ]
  },
  {
   "cell_type": "code",
   "execution_count": 11,
   "metadata": {},
   "outputs": [],
   "source": [
    "data.to_csv(\"dataframe_clean.csv\")"
   ]
  },
  {
   "cell_type": "markdown",
   "metadata": {},
   "source": [
    "Run the following cell if you want the original dataframe with a column 'cleanDesc' with the cleaned description."
   ]
  },
  {
   "cell_type": "code",
   "execution_count": 45,
   "metadata": {},
   "outputs": [],
   "source": [
    "data = pd.read_csv(\"dataframe_clean.csv\")\n",
    "data.fillna('', inplace=True)"
   ]
  },
  {
   "cell_type": "markdown",
   "metadata": {},
   "source": [
    "## 2.1 Conjunctive query"
   ]
  },
  {
   "cell_type": "markdown",
   "metadata": {},
   "source": [
    "### 2.1.1) Create your index!"
   ]
  },
  {
   "cell_type": "markdown",
   "metadata": {},
   "source": [
    "The next function *createFirstDic*, given the dataset 'data', will return the dictionary *vocabulary* .     \n",
    "Vocabulary will be such that every key is a unique word contained in the descriptions and its corresponing value is an integer that identifies that word."
   ]
  },
  {
   "cell_type": "code",
   "execution_count": 4,
   "metadata": {},
   "outputs": [],
   "source": [
    "def createFirstDic(data: pd.DataFrame, nameCol: str) -> dict:\n",
    "    # first we create an empty dictionary\n",
    "    dic = {}\n",
    "    value = 1\n",
    "    for description in tqdm(data[nameCol]):\n",
    "        for word in description.split():\n",
    "            # if the word is already in the dictionary keys this mean that it has already even a corresponding number and\n",
    "            # so we can skip to the next word in the fixed description\n",
    "            if word in dic.keys():\n",
    "                continue\n",
    "            # otherwise we create a new key named 'word' with value = value and then we upgrade value\n",
    "            else:\n",
    "                dic[word] = value\n",
    "                value += 1\n",
    "    return dic"
   ]
  },
  {
   "cell_type": "markdown",
   "metadata": {},
   "source": [
    "We can now call the function createFirstDic and store its output as *vocabulary*:"
   ]
  },
  {
   "cell_type": "code",
   "execution_count": 42,
   "metadata": {},
   "outputs": [
    {
     "name": "stderr",
     "output_type": "stream",
     "text": [
      "100%|██████████| 7200/7200 [00:00<00:00, 19220.42it/s]\n"
     ]
    }
   ],
   "source": [
    "dic1 = createFirstDic(data, \"placeDesc\")"
   ]
  },
  {
   "cell_type": "markdown",
   "metadata": {},
   "source": [
    "The second dictionary that we'll need for the first search engine is *inverted index* that is such that every key is an integer that identifies a word and its corresponding value is a set of all the document_id that contain that word.    \n",
    "The following function *createSecondDic*, given as input the dataset 'data' and the dictionary 'vocabulary', will return the *inverted index* dictionary.  "
   ]
  },
  {
   "cell_type": "code",
   "execution_count": 5,
   "metadata": {},
   "outputs": [],
   "source": [
    "def createSecondDic(data: pd.DataFrame, dic1: dict, nameCol: str) -> dict:\n",
    "    dic2 = {}\n",
    "    # a will keep track of the row index of the data\n",
    "    a = 0\n",
    "    # we take one description at a time from the column 'cleanDesc'\n",
    "    for description in tqdm(data[nameCol]):\n",
    "        # for every word in the fixed description \n",
    "        for word in description.split():\n",
    "            # if the corresponding integer of the word is already in the keys of the inverted_index then we need to\n",
    "            # add the document_id of the fixed description to the already existing set\n",
    "            if dic1[word] in dic2.keys():\n",
    "                dic2[dic1[word]].add(data.placeName[a])\n",
    "            # otherwise we create a new key named as the corresponding integer of the word with value equal to a set that \n",
    "            # contains the document_id of the fixed description\n",
    "            else:\n",
    "                dic2[dic1[word]] = set([data.placeName[a]])\n",
    "        a += 1\n",
    "    return dic2\n",
    "\n",
    "    "
   ]
  },
  {
   "cell_type": "markdown",
   "metadata": {},
   "source": [
    "We can now call the function createSecondDic and store its output as *inverted_index*:"
   ]
  },
  {
   "cell_type": "code",
   "execution_count": 46,
   "metadata": {},
   "outputs": [
    {
     "name": "stderr",
     "output_type": "stream",
     "text": [
      "100%|██████████| 7200/7200 [00:14<00:00, 495.63it/s]\n"
     ]
    }
   ],
   "source": [
    "dic2 = createSecondDic(data,dic1, \"placeDesc\")"
   ]
  },
  {
   "cell_type": "markdown",
   "metadata": {},
   "source": [
    "Even in this case we can store the two dictionary in a separate file so that we don't need to run the codes everytime we need them."
   ]
  },
  {
   "cell_type": "code",
   "execution_count": null,
   "metadata": {},
   "outputs": [],
   "source": [
    "save_dic(dic1, dic1)\n",
    "save_dic(dic2,dic2)"
   ]
  },
  {
   "cell_type": "markdown",
   "metadata": {},
   "source": [
    "Run the following cell if you want the dictionaries *vocabulary* and *inverted_index*."
   ]
  },
  {
   "cell_type": "code",
   "execution_count": 7,
   "metadata": {},
   "outputs": [],
   "source": [
    "dic1 = read_dic(\"dic1\")\n",
    "dic2 = read_dic(\"dic2\")"
   ]
  },
  {
   "cell_type": "markdown",
   "metadata": {},
   "source": [
    "### 2.1.2) Execute the query"
   ]
  },
  {
   "cell_type": "markdown",
   "metadata": {},
   "source": [
    "First of all we ask the user which query do we have to look for in the places descriptions and we store it as a string named *q*:"
   ]
  },
  {
   "cell_type": "code",
   "execution_count": 8,
   "metadata": {},
   "outputs": [
    {
     "name": "stdout",
     "output_type": "stream",
     "text": [
      "Insert the query that you want to find in the places descriptions: American Museum\n"
     ]
    }
   ],
   "source": [
    "q = input('Insert the query that you want to find in the places descriptions: ')"
   ]
  },
  {
   "cell_type": "markdown",
   "metadata": {},
   "source": [
    "Before starting the first search engine with the query *q* we need to clean q too."
   ]
  },
  {
   "cell_type": "code",
   "execution_count": 9,
   "metadata": {},
   "outputs": [
    {
     "name": "stdout",
     "output_type": "stream",
     "text": [
      "['american', 'museum']\n"
     ]
    }
   ],
   "source": [
    "q = cleaning(q) \n",
    "# now q is a list that contains the cleaned word of the input query\n",
    "print(q)"
   ]
  },
  {
   "cell_type": "markdown",
   "metadata": {},
   "source": [
    "The next function *query* is our first search engine that, given as input a list of words (the query), it will return as output a list of all the documents_id that contain all the words in the list."
   ]
  },
  {
   "cell_type": "code",
   "execution_count": 7,
   "metadata": {},
   "outputs": [],
   "source": [
    "def query(list, dic1, dic2):\n",
    "    # s is the set of the documents_id that contain the first word in the query\n",
    "    s = dic2[dic1[list[0]]]\n",
    "    # starting from the second word in the query till the last we'll intersect the set s with the set of all the documents_id \n",
    "    # that contain the fixed word \n",
    "    for x in range(1, len(list)):\n",
    "        s.intersection(dic2[dic1[list[x]]])\n",
    "    return s"
   ]
  },
  {
   "cell_type": "markdown",
   "metadata": {},
   "source": [
    "We can now execute the previous function with our query q:"
   ]
  },
  {
   "cell_type": "code",
   "execution_count": 11,
   "metadata": {},
   "outputs": [],
   "source": [
    "s = query(q)\n",
    "# s is the set with all the documents_id of all the descriptions that contain all the words in the query"
   ]
  },
  {
   "cell_type": "markdown",
   "metadata": {},
   "source": [
    "We can now create a new dataset *res_query* with just the places we're interested in:"
   ]
  },
  {
   "cell_type": "code",
   "execution_count": 12,
   "metadata": {},
   "outputs": [],
   "source": [
    "res_query = data[data['placeName'].isin(list(s))]"
   ]
  },
  {
   "cell_type": "markdown",
   "metadata": {},
   "source": [
    "With the following code we'll show the result of the first search engine.    \n",
    "In particular we'll show just the places names, their description and their URL."
   ]
  },
  {
   "cell_type": "code",
   "execution_count": 13,
   "metadata": {},
   "outputs": [
    {
     "data": {
      "text/html": [
       "<div>\n",
       "<style scoped>\n",
       "    .dataframe tbody tr th:only-of-type {\n",
       "        vertical-align: middle;\n",
       "    }\n",
       "\n",
       "    .dataframe tbody tr th {\n",
       "        vertical-align: top;\n",
       "    }\n",
       "\n",
       "    .dataframe thead th {\n",
       "        text-align: right;\n",
       "    }\n",
       "</style>\n",
       "<table border=\"1\" class=\"dataframe\">\n",
       "  <thead>\n",
       "    <tr style=\"text-align: right;\">\n",
       "      <th></th>\n",
       "      <th>placeName</th>\n",
       "      <th>placeDesc</th>\n",
       "      <th>placeURL</th>\n",
       "    </tr>\n",
       "  </thead>\n",
       "  <tbody>\n",
       "    <tr>\n",
       "      <th>3</th>\n",
       "      <td>Amityville Horror House</td>\n",
       "      <td>On a cold November night in 1974, Amityville, ...</td>\n",
       "      <td>https://www.atlasobscura.com/places/amityville...</td>\n",
       "    </tr>\n",
       "    <tr>\n",
       "      <th>6</th>\n",
       "      <td>American Prohibition Museum</td>\n",
       "      <td>When the 18th Amendment to the U.S. Constituti...</td>\n",
       "      <td>https://www.atlasobscura.com/places/american-p...</td>\n",
       "    </tr>\n",
       "    <tr>\n",
       "      <th>13</th>\n",
       "      <td>Wild Blueberry Land</td>\n",
       "      <td>There is no shortage of bizarre American highw...</td>\n",
       "      <td>https://www.atlasobscura.com/places/wild-blueb...</td>\n",
       "    </tr>\n",
       "    <tr>\n",
       "      <th>39</th>\n",
       "      <td>The Avrocar</td>\n",
       "      <td>The year was 1952 and the Cold War was in full...</td>\n",
       "      <td>https://www.atlasobscura.com/places/avrocar</td>\n",
       "    </tr>\n",
       "    <tr>\n",
       "      <th>59</th>\n",
       "      <td>Laurel Dinosaur Park</td>\n",
       "      <td>During the 18th and 19th centuries, clay forma...</td>\n",
       "      <td>https://www.atlasobscura.com/places/laurel-din...</td>\n",
       "    </tr>\n",
       "    <tr>\n",
       "      <th>...</th>\n",
       "      <td>...</td>\n",
       "      <td>...</td>\n",
       "      <td>...</td>\n",
       "    </tr>\n",
       "    <tr>\n",
       "      <th>7155</th>\n",
       "      <td>Garden of Eden Trail</td>\n",
       "      <td>In the 1950s retired lawyer and Republican can...</td>\n",
       "      <td>https://www.atlasobscura.com/places/garden-of-...</td>\n",
       "    </tr>\n",
       "    <tr>\n",
       "      <th>7183</th>\n",
       "      <td>Theodore Roosevelt Birthplace Museum</td>\n",
       "      <td>Behind an otherwise innocuous (if immaculately...</td>\n",
       "      <td>https://www.atlasobscura.com/places/theodore-r...</td>\n",
       "    </tr>\n",
       "    <tr>\n",
       "      <th>7184</th>\n",
       "      <td>Cabaret Mechanical Theatre</td>\n",
       "      <td>It’s not a theater and it’s not a cabaret, so ...</td>\n",
       "      <td>https://www.atlasobscura.com/places/cabaret-me...</td>\n",
       "    </tr>\n",
       "    <tr>\n",
       "      <th>7186</th>\n",
       "      <td>Timothy Demonbreun's Cave</td>\n",
       "      <td>Seemingly little more than a wide crack in the...</td>\n",
       "      <td>https://www.atlasobscura.com/places/timothy-de...</td>\n",
       "    </tr>\n",
       "    <tr>\n",
       "      <th>7188</th>\n",
       "      <td>Milwaukee Art Museum</td>\n",
       "      <td>Like the Guggenheim in New York and the Oaklan...</td>\n",
       "      <td>https://www.atlasobscura.com/places/milwaukee-...</td>\n",
       "    </tr>\n",
       "  </tbody>\n",
       "</table>\n",
       "<p>896 rows × 3 columns</p>\n",
       "</div>"
      ],
      "text/plain": [
       "                                 placeName  \\\n",
       "3                  Amityville Horror House   \n",
       "6              American Prohibition Museum   \n",
       "13                     Wild Blueberry Land   \n",
       "39                            The Avrocar    \n",
       "59                    Laurel Dinosaur Park   \n",
       "...                                    ...   \n",
       "7155                  Garden of Eden Trail   \n",
       "7183  Theodore Roosevelt Birthplace Museum   \n",
       "7184            Cabaret Mechanical Theatre   \n",
       "7186             Timothy Demonbreun's Cave   \n",
       "7188                  Milwaukee Art Museum   \n",
       "\n",
       "                                              placeDesc  \\\n",
       "3     On a cold November night in 1974, Amityville, ...   \n",
       "6     When the 18th Amendment to the U.S. Constituti...   \n",
       "13    There is no shortage of bizarre American highw...   \n",
       "39    The year was 1952 and the Cold War was in full...   \n",
       "59    During the 18th and 19th centuries, clay forma...   \n",
       "...                                                 ...   \n",
       "7155  In the 1950s retired lawyer and Republican can...   \n",
       "7183  Behind an otherwise innocuous (if immaculately...   \n",
       "7184  It’s not a theater and it’s not a cabaret, so ...   \n",
       "7186  Seemingly little more than a wide crack in the...   \n",
       "7188  Like the Guggenheim in New York and the Oaklan...   \n",
       "\n",
       "                                               placeURL  \n",
       "3     https://www.atlasobscura.com/places/amityville...  \n",
       "6     https://www.atlasobscura.com/places/american-p...  \n",
       "13    https://www.atlasobscura.com/places/wild-blueb...  \n",
       "39          https://www.atlasobscura.com/places/avrocar  \n",
       "59    https://www.atlasobscura.com/places/laurel-din...  \n",
       "...                                                 ...  \n",
       "7155  https://www.atlasobscura.com/places/garden-of-...  \n",
       "7183  https://www.atlasobscura.com/places/theodore-r...  \n",
       "7184  https://www.atlasobscura.com/places/cabaret-me...  \n",
       "7186  https://www.atlasobscura.com/places/timothy-de...  \n",
       "7188  https://www.atlasobscura.com/places/milwaukee-...  \n",
       "\n",
       "[896 rows x 3 columns]"
      ]
     },
     "execution_count": 13,
     "metadata": {},
     "output_type": "execute_result"
    }
   ],
   "source": [
    "res_query[['placeName','placeDesc','placeURL']]"
   ]
  },
  {
   "cell_type": "markdown",
   "metadata": {},
   "source": [
    "## 2.2) Conjunctive query & Ranking score"
   ]
  },
  {
   "cell_type": "markdown",
   "metadata": {},
   "source": [
    "### 2.2.1) Inverted index"
   ]
  },
  {
   "cell_type": "markdown",
   "metadata": {},
   "source": [
    "Now we have to create another dictionary *inverted_index_2* in which we store also the *tfidf* values of the words.   \n",
    "As suggested, since the tfidf are invariant for the query we can precalculate them before and store them in a dataframe *df*.    \n",
    "In order to do this we use the module *TfidfVectorizer* that is able to compute the tfidf values of all the unique words in the places descriptions."
   ]
  },
  {
   "cell_type": "code",
   "execution_count": 14,
   "metadata": {
    "scrolled": true
   },
   "outputs": [],
   "source": [
    "vectorizer = TfidfVectorizer(use_idf=True, analyzer='word',sublinear_tf=True)\n",
    "x =vectorizer.fit_transform(data[\"cleanDesc\"]).todense()\n",
    "df = pd.DataFrame(x, columns = vectorizer.get_feature_names_out())"
   ]
  },
  {
   "cell_type": "markdown",
   "metadata": {},
   "source": [
    "*df* now is a dataframe such that every row corresponds to a place's description and every column corresponds to a word found in the descriptions.    \n",
    "Using now *df* and the two dictionary previously created, we can now create *inverted_index_2* that will be such that every key is an integer that corresponds to a word and its value is a list of touples (document_id, tfidf{word,document_id})."
   ]
  },
  {
   "cell_type": "code",
   "execution_count": 8,
   "metadata": {},
   "outputs": [],
   "source": [
    "def createInvertedIndex(data, dic1, nameCol, matrix):\n",
    "    inverted_index2 = {}\n",
    "    # for every word in columns name of df\n",
    "    a = 0\n",
    "    for word in tqdm(matrix.columns):\n",
    "        # we fix a row in df that correspond to a place's description\n",
    "        for place in matrix.index:\n",
    "            # if in the keys of our dictionary there already is the integer that corresponds to our word then we just have to \n",
    "            # add a tuple to our existing set with the placeName and the tfidf score of that word in the fixed description\n",
    "            if dic1[word] in inverted_index2.keys() and matrix[word][place] != 0:\n",
    "                inverted_index2[dic1[word]].add((data[nameCol][place], matrix[word][place]))\n",
    "            # otherwise we can add a new key with value a set that contains a tuple (placeName,tfidf{word,placeName})\n",
    "            else:\n",
    "                inverted_index2[dic1[word]] = set((data[nameCol][place], matrix[word][place]))           \n",
    "    return inverted_index2"
   ]
  },
  {
   "cell_type": "markdown",
   "metadata": {},
   "source": [
    "We can now execute the previous function with as input our *data*, *vocabulary* and *df*:"
   ]
  },
  {
   "cell_type": "code",
   "execution_count": 17,
   "metadata": {},
   "outputs": [
    {
     "name": "stderr",
     "output_type": "stream",
     "text": [
      "100%|██████████████████████████████████████████████████████████████████████████████| 7200/7200 [12:30<00:00,  9.59it/s]\n"
     ]
    }
   ],
   "source": [
    "dic3 = createInvertedIndex(data, dic1, df)"
   ]
  },
  {
   "cell_type": "markdown",
   "metadata": {},
   "source": [
    "As previously done with the other two dictionary, we store *inverted_index_2* in a separate file so that we don't have to compute it again."
   ]
  },
  {
   "cell_type": "code",
   "execution_count": 20,
   "metadata": {},
   "outputs": [],
   "source": [
    "save_dic(dic3, \"dic3\")"
   ]
  },
  {
   "cell_type": "markdown",
   "metadata": {},
   "source": [
    "Run the following cell if you want the dictionariy *inverted_index_2*."
   ]
  },
  {
   "cell_type": "code",
   "execution_count": 8,
   "metadata": {},
   "outputs": [],
   "source": [
    "dic3 = read_dic(\"dic3\")"
   ]
  },
  {
   "cell_type": "markdown",
   "metadata": {},
   "source": [
    "Have a look at our dictionary:"
   ]
  },
  {
   "cell_type": "markdown",
   "metadata": {},
   "source": [
    "### 2.2.2) Execute the query"
   ]
  },
  {
   "cell_type": "code",
   "execution_count": 33,
   "metadata": {},
   "outputs": [],
   "source": [
    "def query_tfidf(data: pd.DataFrame, nameCol: str, q: str) -> pd.DataFrame:\n",
    "    #We need to clean the query\n",
    "    q = cleaning(q) \n",
    "\n",
    "    # now q is a list that contains the cleaned word of the input query\n",
    "    vectorizer = TfidfVectorizer(use_idf=True, analyzer='word',sublinear_tf=True)\n",
    "    x =vectorizer.fit_transform(data[\"cleanDesc\"]).todense()\n",
    "    df = pd.DataFrame(x, columns = vectorizer.get_feature_names_out())\n",
    "    qv = vectorizer.transform([\" \".join(q)]).todense()\n",
    "    \n",
    "    # since later we'll need to compute the norm of this vector, we create an np array with the tfidf of the query\n",
    "    qv = np.array(qv[0,:])\n",
    "\n",
    "    dic1 = createFirstDic(data, nameCol)\n",
    "    dic2 = createSecondDic(data, dic1, nameCol)\n",
    "    s = query(q,dic1,dic2)\n",
    "    \n",
    "    # res_query will be our new dataframe such that contains only the places with description that \n",
    "    # contains all the words in the query\n",
    "    res_query = data[data['placeName'].isin(list(s))]\n",
    "\n",
    "    scores = cosine_score(res_query,df,qv)\n",
    "    res_query.insert(res_query.shape[1], f\"CS_{nameCol}\",scores )   \n",
    "\n",
    "    res_query = res_query.sort_values(by=[f\"CS_{nameCol}\"],ascending=False)\n",
    "\n",
    "    return res_query\n"
   ]
  },
  {
   "cell_type": "code",
   "execution_count": 34,
   "metadata": {},
   "outputs": [
    {
     "name": "stderr",
     "output_type": "stream",
     "text": [
      "100%|██████████| 7200/7200 [00:00<00:00, 11253.88it/s]\n",
      "100%|██████████| 7200/7200 [00:23<00:00, 312.16it/s]\n"
     ]
    },
    {
     "data": {
      "text/html": [
       "<div>\n",
       "<style scoped>\n",
       "    .dataframe tbody tr th:only-of-type {\n",
       "        vertical-align: middle;\n",
       "    }\n",
       "\n",
       "    .dataframe tbody tr th {\n",
       "        vertical-align: top;\n",
       "    }\n",
       "\n",
       "    .dataframe thead th {\n",
       "        text-align: right;\n",
       "    }\n",
       "</style>\n",
       "<table border=\"1\" class=\"dataframe\">\n",
       "  <thead>\n",
       "    <tr style=\"text-align: right;\">\n",
       "      <th></th>\n",
       "      <th>Unnamed: 0</th>\n",
       "      <th>placeName</th>\n",
       "      <th>placeTags</th>\n",
       "      <th>numPeopleVisited</th>\n",
       "      <th>numPeopleWant</th>\n",
       "      <th>placeDesc</th>\n",
       "      <th>placeShortDesc</th>\n",
       "      <th>placeNearby</th>\n",
       "      <th>placeAdress</th>\n",
       "      <th>placeAlt</th>\n",
       "      <th>placeLong</th>\n",
       "      <th>placeEditors</th>\n",
       "      <th>placePubDate</th>\n",
       "      <th>placeRelatedList</th>\n",
       "      <th>placeRelatedPlace</th>\n",
       "      <th>placeURL</th>\n",
       "      <th>cleanDesc</th>\n",
       "      <th>CS_cleanDesc</th>\n",
       "    </tr>\n",
       "  </thead>\n",
       "  <tbody>\n",
       "    <tr>\n",
       "      <th>4563</th>\n",
       "      <td>4563</td>\n",
       "      <td>Self-Taught Genius Gallery</td>\n",
       "      <td>art museum,outsider art,art</td>\n",
       "      <td>51</td>\n",
       "      <td>457</td>\n",
       "      <td>In 2017, the American Folk Art Museum in Manha...</td>\n",
       "      <td>An exhibition space dedicated to American outs...</td>\n",
       "      <td>Surreal Elevator ,Smiling Hogshead Ranch,Kings...</td>\n",
       "      <td>32-23 48th Ave Queens, New York, 11101 United ...</td>\n",
       "      <td>40.7409</td>\n",
       "      <td>-73.9334</td>\n",
       "      <td>Rachel Gould,Anna Minster,reneesoto</td>\n",
       "      <td>2019-08-21 00:00:00</td>\n",
       "      <td>Surreal Elevator ,Smiling Hogshead Ranch,Kings...</td>\n",
       "      <td>Ilana Goor Museum ,St Catherine's Passage,Bob ...</td>\n",
       "      <td>https://www.atlasobscura.com/places/self-taugh...</td>\n",
       "      <td>american folk art museum manhattan open offsh...</td>\n",
       "      <td>0.181039</td>\n",
       "    </tr>\n",
       "    <tr>\n",
       "      <th>605</th>\n",
       "      <td>605</td>\n",
       "      <td>Renwick Gallery</td>\n",
       "      <td>art,museums,architecture</td>\n",
       "      <td>1272</td>\n",
       "      <td>754</td>\n",
       "      <td>The Renwick Gallery building has the distincti...</td>\n",
       "      <td>The first purpose-built art gallery in the Uni...</td>\n",
       "      <td>D.C.'s Underground Bald Cypress Fossils,FDR's ...</td>\n",
       "      <td>Washington, District of Columbia, 20506 United...</td>\n",
       "      <td>38.8990</td>\n",
       "      <td>-77.0391</td>\n",
       "      <td>lionsinwanderland,hrnick,paulypaul,gowens,vcoll82</td>\n",
       "      <td>2015-12-15 00:00:00</td>\n",
       "      <td>D.C.'s Underground Bald Cypress Fossils,FDR's ...</td>\n",
       "      <td>Blanco Renaissance Museum ,Espai Xavier Corber...</td>\n",
       "      <td>https://www.atlasobscura.com/places/renwick-ga...</td>\n",
       "      <td>renwick galleri build distinct first art museu...</td>\n",
       "      <td>0.180539</td>\n",
       "    </tr>\n",
       "    <tr>\n",
       "      <th>2216</th>\n",
       "      <td>2216</td>\n",
       "      <td>American Writers Museum</td>\n",
       "      <td>writers</td>\n",
       "      <td>182</td>\n",
       "      <td>599</td>\n",
       "      <td>The American Writers Museum—tucked away on the...</td>\n",
       "      <td>Small and slightly hidden, the American Writer...</td>\n",
       "      <td>Tiffany Dome,Heald Square Monument's Statue of...</td>\n",
       "      <td>180 N Michigan Ave Chicago, Illinois, 60601 Un...</td>\n",
       "      <td>41.8856</td>\n",
       "      <td>-87.6249</td>\n",
       "      <td>clairers</td>\n",
       "      <td>2019-06-28 00:00:00</td>\n",
       "      <td>Tiffany Dome,Heald Square Monument's Statue of...</td>\n",
       "      <td>The Writers Chair,Casa Fernando Pessoa,Grave o...</td>\n",
       "      <td>https://www.atlasobscura.com/places/american-w...</td>\n",
       "      <td>american writer museum tuck away second floor ...</td>\n",
       "      <td>0.176558</td>\n",
       "    </tr>\n",
       "    <tr>\n",
       "      <th>2585</th>\n",
       "      <td>2585</td>\n",
       "      <td>Mount Angel Abbey Museum</td>\n",
       "      <td>wunderkammers,natural history museums,reposito...</td>\n",
       "      <td>268</td>\n",
       "      <td>572</td>\n",
       "      <td>The Mount Angel Abbey Museum is a very eclecti...</td>\n",
       "      <td>World's largest porcine hairball sits in a col...</td>\n",
       "      <td>The Gordon House ,Wooden Shoe Tulip Farm,TMK C...</td>\n",
       "      <td>One Abbey Drive Mount Angel, Oregon, 97373 Uni...</td>\n",
       "      <td>45.0553</td>\n",
       "      <td>-122.7710</td>\n",
       "      <td>fatpirate,darkdaybreak,Nicholas Jackson</td>\n",
       "      <td>2011-02-09 00:00:00</td>\n",
       "      <td>The Gordon House ,Wooden Shoe Tulip Farm,TMK C...</td>\n",
       "      <td>Tullaherin Folk Museum and Round Tower,Palais ...</td>\n",
       "      <td>https://www.atlasobscura.com/places/mount-ange...</td>\n",
       "      <td>mount angel abbey museum eclect collect put to...</td>\n",
       "      <td>0.168144</td>\n",
       "    </tr>\n",
       "    <tr>\n",
       "      <th>4413</th>\n",
       "      <td>4413</td>\n",
       "      <td>The American Pigeon Museum</td>\n",
       "      <td>pigeons,birds,animals</td>\n",
       "      <td>137</td>\n",
       "      <td>464</td>\n",
       "      <td>Many people, especially in big cities, view pi...</td>\n",
       "      <td>Celebrate the history of the rich and truly mi...</td>\n",
       "      <td>Oklahoma State Firefighters Museum ,Rodeo Anim...</td>\n",
       "      <td>2300 NE 63rd St Oklahoma City, Oklahoma, 73111...</td>\n",
       "      <td>35.5361</td>\n",
       "      <td>-97.4703</td>\n",
       "      <td>EricGrundhauser,cait7911,Collector of Experiences</td>\n",
       "      <td>2015-06-30 00:00:00</td>\n",
       "      <td>Rodeo Animal Cemetery,National Cowboy and West...</td>\n",
       "      <td>Warrior Birds Memorial,Paddy the Pigeon Plaque...</td>\n",
       "      <td>https://www.atlasobscura.com/places/the-americ...</td>\n",
       "      <td>mani peopl especi big citi view pigeon fli rat...</td>\n",
       "      <td>0.167326</td>\n",
       "    </tr>\n",
       "    <tr>\n",
       "      <th>102</th>\n",
       "      <td>102</td>\n",
       "      <td>Museum of Mourning Art</td>\n",
       "      <td>funeral cars,funeral art,cultures and civiliza...</td>\n",
       "      <td>53</td>\n",
       "      <td>820</td>\n",
       "      <td>Mourning and personal response to death are un...</td>\n",
       "      <td>Arlington Cemetery exhibit dedicated to death ...</td>\n",
       "      <td>The Lower Swedish Cabin,Mount Moriah Cemetery,...</td>\n",
       "      <td>2900 State Road Upper Darby, Pennsylvania, 190...</td>\n",
       "      <td>39.9559</td>\n",
       "      <td>-75.2971</td>\n",
       "      <td>atimian,MontyPySpock</td>\n",
       "      <td>2011-12-27 00:00:00</td>\n",
       "      <td>The Lower Swedish Cabin,Unmarked Grave of H.H....</td>\n",
       "      <td>Museu de Carrosses Fúnebres de Barcelona,Museu...</td>\n",
       "      <td>https://www.atlasobscura.com/places/museum-of-...</td>\n",
       "      <td>mourn person respons death uniqu everi person ...</td>\n",
       "      <td>0.166433</td>\n",
       "    </tr>\n",
       "    <tr>\n",
       "      <th>5208</th>\n",
       "      <td>5208</td>\n",
       "      <td>Indian Steps Museum</td>\n",
       "      <td></td>\n",
       "      <td>120</td>\n",
       "      <td>424</td>\n",
       "      <td>Constructed by a local lawyer from 1908-1912, ...</td>\n",
       "      <td>A small museum along the Susquehanna River is ...</td>\n",
       "      <td>'Newspaper Reader',Lancaster Crematorium,Peach...</td>\n",
       "      <td>205 Indian Steps Rd Airville, Pennsylvania Uni...</td>\n",
       "      <td>39.8634</td>\n",
       "      <td>-76.3755</td>\n",
       "      <td>SpookyLittl3Girl,lemieuxruibal</td>\n",
       "      <td>2018-10-05 00:00:00</td>\n",
       "      <td>Peach Bottom Slate,Lancaster Crematorium,'News...</td>\n",
       "      <td></td>\n",
       "      <td>https://www.atlasobscura.com/places/indian-ste...</td>\n",
       "      <td>construct local lawyer   indian step uniqu one...</td>\n",
       "      <td>0.161671</td>\n",
       "    </tr>\n",
       "    <tr>\n",
       "      <th>3196</th>\n",
       "      <td>3196</td>\n",
       "      <td>The American Kennel Club Museum of the Dog</td>\n",
       "      <td>dogs,museums and collections,animals,art,museums</td>\n",
       "      <td>146</td>\n",
       "      <td>532</td>\n",
       "      <td>At the intersection of the Venn diagram where ...</td>\n",
       "      <td>An extensive collection of fine art devoted to...</td>\n",
       "      <td>Campbell Apartment,Vanderbilt Tennis Club,Gran...</td>\n",
       "      <td>101 Park Ave Viaduct New York, New York, 10016...</td>\n",
       "      <td>40.7507</td>\n",
       "      <td>-73.9779</td>\n",
       "      <td>Trippnmama,carissapffffft,hmcr0213,rachellyon,...</td>\n",
       "      <td>2017-01-03 00:00:00</td>\n",
       "      <td>Campbell Apartment,Vanderbilt Tennis Club,Gran...</td>\n",
       "      <td>National Bird Dog Museum,David Roche House Mus...</td>\n",
       "      <td>https://www.atlasobscura.com/places/the-americ...</td>\n",
       "      <td>intersect venn diagram dog lover meet art love...</td>\n",
       "      <td>0.161211</td>\n",
       "    </tr>\n",
       "    <tr>\n",
       "      <th>515</th>\n",
       "      <td>515</td>\n",
       "      <td>Museum of Russian Culture</td>\n",
       "      <td>collections</td>\n",
       "      <td>108</td>\n",
       "      <td>769</td>\n",
       "      <td>When you think San Francisco, you probably don...</td>\n",
       "      <td>Russian history in San Francisco.</td>\n",
       "      <td>The 'Full House' House,Swedenborgian Church,Cr...</td>\n",
       "      <td>2450 Sutter St Third Floor San Francisco, Cali...</td>\n",
       "      <td>37.7878</td>\n",
       "      <td>-122.4382</td>\n",
       "      <td>Rebekah Otto,Annetta Black</td>\n",
       "      <td>2010-04-13 00:00:00</td>\n",
       "      <td>The 'Full House' House,Crown &amp; Crumpet,Swedenb...</td>\n",
       "      <td>The Disney Collection,Best Video Film &amp; Cultur...</td>\n",
       "      <td>https://www.atlasobscura.com/places/museum-of-...</td>\n",
       "      <td>think san francisco probabl think babushka mus...</td>\n",
       "      <td>0.160452</td>\n",
       "    </tr>\n",
       "    <tr>\n",
       "      <th>6185</th>\n",
       "      <td>6185</td>\n",
       "      <td>Harvard Museum of Natural History</td>\n",
       "      <td>museums and collections,museums</td>\n",
       "      <td>1008</td>\n",
       "      <td>1267</td>\n",
       "      <td>Collecting three different institutions into o...</td>\n",
       "      <td>Three prestigious academic collections come to...</td>\n",
       "      <td>Collection of Historical Scientific Instrument...</td>\n",
       "      <td>26 Oxford Street Cambridge, Massachusetts, 021...</td>\n",
       "      <td>42.3789</td>\n",
       "      <td>-71.1152</td>\n",
       "      <td>KHotspur,Rachel,MuseumGoer,cjklever</td>\n",
       "      <td>2013-12-05 00:00:00</td>\n",
       "      <td>Blaschka Glass Flowers,Harvard Divinity School...</td>\n",
       "      <td>War Museum Askifou,Virginia Musical Museum,Han...</td>\n",
       "      <td>https://www.atlasobscura.com/places/harvard-mu...</td>\n",
       "      <td>collect three differ institut one massiv museu...</td>\n",
       "      <td>0.159486</td>\n",
       "    </tr>\n",
       "  </tbody>\n",
       "</table>\n",
       "</div>"
      ],
      "text/plain": [
       "      Unnamed: 0                                   placeName  \\\n",
       "4563        4563                  Self-Taught Genius Gallery   \n",
       "605          605                             Renwick Gallery   \n",
       "2216        2216                     American Writers Museum   \n",
       "2585        2585                    Mount Angel Abbey Museum   \n",
       "4413        4413                 The American Pigeon Museum    \n",
       "102          102                      Museum of Mourning Art   \n",
       "5208        5208                         Indian Steps Museum   \n",
       "3196        3196  The American Kennel Club Museum of the Dog   \n",
       "515          515                   Museum of Russian Culture   \n",
       "6185        6185           Harvard Museum of Natural History   \n",
       "\n",
       "                                              placeTags  numPeopleVisited  \\\n",
       "4563                        art museum,outsider art,art                51   \n",
       "605                            art,museums,architecture              1272   \n",
       "2216                                            writers               182   \n",
       "2585  wunderkammers,natural history museums,reposito...               268   \n",
       "4413                              pigeons,birds,animals               137   \n",
       "102   funeral cars,funeral art,cultures and civiliza...                53   \n",
       "5208                                                                  120   \n",
       "3196   dogs,museums and collections,animals,art,museums               146   \n",
       "515                                         collections               108   \n",
       "6185                    museums and collections,museums              1008   \n",
       "\n",
       "      numPeopleWant                                          placeDesc  \\\n",
       "4563            457  In 2017, the American Folk Art Museum in Manha...   \n",
       "605             754  The Renwick Gallery building has the distincti...   \n",
       "2216            599  The American Writers Museum—tucked away on the...   \n",
       "2585            572  The Mount Angel Abbey Museum is a very eclecti...   \n",
       "4413            464  Many people, especially in big cities, view pi...   \n",
       "102             820  Mourning and personal response to death are un...   \n",
       "5208            424  Constructed by a local lawyer from 1908-1912, ...   \n",
       "3196            532  At the intersection of the Venn diagram where ...   \n",
       "515             769  When you think San Francisco, you probably don...   \n",
       "6185           1267  Collecting three different institutions into o...   \n",
       "\n",
       "                                         placeShortDesc  \\\n",
       "4563  An exhibition space dedicated to American outs...   \n",
       "605   The first purpose-built art gallery in the Uni...   \n",
       "2216  Small and slightly hidden, the American Writer...   \n",
       "2585  World's largest porcine hairball sits in a col...   \n",
       "4413  Celebrate the history of the rich and truly mi...   \n",
       "102   Arlington Cemetery exhibit dedicated to death ...   \n",
       "5208  A small museum along the Susquehanna River is ...   \n",
       "3196  An extensive collection of fine art devoted to...   \n",
       "515                  Russian history in San Francisco.    \n",
       "6185  Three prestigious academic collections come to...   \n",
       "\n",
       "                                            placeNearby  \\\n",
       "4563  Surreal Elevator ,Smiling Hogshead Ranch,Kings...   \n",
       "605   D.C.'s Underground Bald Cypress Fossils,FDR's ...   \n",
       "2216  Tiffany Dome,Heald Square Monument's Statue of...   \n",
       "2585  The Gordon House ,Wooden Shoe Tulip Farm,TMK C...   \n",
       "4413  Oklahoma State Firefighters Museum ,Rodeo Anim...   \n",
       "102   The Lower Swedish Cabin,Mount Moriah Cemetery,...   \n",
       "5208  'Newspaper Reader',Lancaster Crematorium,Peach...   \n",
       "3196  Campbell Apartment,Vanderbilt Tennis Club,Gran...   \n",
       "515   The 'Full House' House,Swedenborgian Church,Cr...   \n",
       "6185  Collection of Historical Scientific Instrument...   \n",
       "\n",
       "                                            placeAdress  placeAlt  placeLong  \\\n",
       "4563  32-23 48th Ave Queens, New York, 11101 United ...   40.7409   -73.9334   \n",
       "605   Washington, District of Columbia, 20506 United...   38.8990   -77.0391   \n",
       "2216  180 N Michigan Ave Chicago, Illinois, 60601 Un...   41.8856   -87.6249   \n",
       "2585  One Abbey Drive Mount Angel, Oregon, 97373 Uni...   45.0553  -122.7710   \n",
       "4413  2300 NE 63rd St Oklahoma City, Oklahoma, 73111...   35.5361   -97.4703   \n",
       "102   2900 State Road Upper Darby, Pennsylvania, 190...   39.9559   -75.2971   \n",
       "5208  205 Indian Steps Rd Airville, Pennsylvania Uni...   39.8634   -76.3755   \n",
       "3196  101 Park Ave Viaduct New York, New York, 10016...   40.7507   -73.9779   \n",
       "515   2450 Sutter St Third Floor San Francisco, Cali...   37.7878  -122.4382   \n",
       "6185  26 Oxford Street Cambridge, Massachusetts, 021...   42.3789   -71.1152   \n",
       "\n",
       "                                           placeEditors         placePubDate  \\\n",
       "4563                Rachel Gould,Anna Minster,reneesoto  2019-08-21 00:00:00   \n",
       "605   lionsinwanderland,hrnick,paulypaul,gowens,vcoll82  2015-12-15 00:00:00   \n",
       "2216                                           clairers  2019-06-28 00:00:00   \n",
       "2585            fatpirate,darkdaybreak,Nicholas Jackson  2011-02-09 00:00:00   \n",
       "4413  EricGrundhauser,cait7911,Collector of Experiences  2015-06-30 00:00:00   \n",
       "102                                atimian,MontyPySpock  2011-12-27 00:00:00   \n",
       "5208                     SpookyLittl3Girl,lemieuxruibal  2018-10-05 00:00:00   \n",
       "3196  Trippnmama,carissapffffft,hmcr0213,rachellyon,...  2017-01-03 00:00:00   \n",
       "515                          Rebekah Otto,Annetta Black  2010-04-13 00:00:00   \n",
       "6185                KHotspur,Rachel,MuseumGoer,cjklever  2013-12-05 00:00:00   \n",
       "\n",
       "                                       placeRelatedList  \\\n",
       "4563  Surreal Elevator ,Smiling Hogshead Ranch,Kings...   \n",
       "605   D.C.'s Underground Bald Cypress Fossils,FDR's ...   \n",
       "2216  Tiffany Dome,Heald Square Monument's Statue of...   \n",
       "2585  The Gordon House ,Wooden Shoe Tulip Farm,TMK C...   \n",
       "4413  Rodeo Animal Cemetery,National Cowboy and West...   \n",
       "102   The Lower Swedish Cabin,Unmarked Grave of H.H....   \n",
       "5208  Peach Bottom Slate,Lancaster Crematorium,'News...   \n",
       "3196  Campbell Apartment,Vanderbilt Tennis Club,Gran...   \n",
       "515   The 'Full House' House,Crown & Crumpet,Swedenb...   \n",
       "6185  Blaschka Glass Flowers,Harvard Divinity School...   \n",
       "\n",
       "                                      placeRelatedPlace  \\\n",
       "4563  Ilana Goor Museum ,St Catherine's Passage,Bob ...   \n",
       "605   Blanco Renaissance Museum ,Espai Xavier Corber...   \n",
       "2216  The Writers Chair,Casa Fernando Pessoa,Grave o...   \n",
       "2585  Tullaherin Folk Museum and Round Tower,Palais ...   \n",
       "4413  Warrior Birds Memorial,Paddy the Pigeon Plaque...   \n",
       "102   Museu de Carrosses Fúnebres de Barcelona,Museu...   \n",
       "5208                                                      \n",
       "3196  National Bird Dog Museum,David Roche House Mus...   \n",
       "515   The Disney Collection,Best Video Film & Cultur...   \n",
       "6185  War Museum Askifou,Virginia Musical Museum,Han...   \n",
       "\n",
       "                                               placeURL  \\\n",
       "4563  https://www.atlasobscura.com/places/self-taugh...   \n",
       "605   https://www.atlasobscura.com/places/renwick-ga...   \n",
       "2216  https://www.atlasobscura.com/places/american-w...   \n",
       "2585  https://www.atlasobscura.com/places/mount-ange...   \n",
       "4413  https://www.atlasobscura.com/places/the-americ...   \n",
       "102   https://www.atlasobscura.com/places/museum-of-...   \n",
       "5208  https://www.atlasobscura.com/places/indian-ste...   \n",
       "3196  https://www.atlasobscura.com/places/the-americ...   \n",
       "515   https://www.atlasobscura.com/places/museum-of-...   \n",
       "6185  https://www.atlasobscura.com/places/harvard-mu...   \n",
       "\n",
       "                                              cleanDesc  CS_cleanDesc  \n",
       "4563   american folk art museum manhattan open offsh...      0.181039  \n",
       "605   renwick galleri build distinct first art museu...      0.180539  \n",
       "2216  american writer museum tuck away second floor ...      0.176558  \n",
       "2585  mount angel abbey museum eclect collect put to...      0.168144  \n",
       "4413  mani peopl especi big citi view pigeon fli rat...      0.167326  \n",
       "102   mourn person respons death uniqu everi person ...      0.166433  \n",
       "5208  construct local lawyer   indian step uniqu one...      0.161671  \n",
       "3196  intersect venn diagram dog lover meet art love...      0.161211  \n",
       "515   think san francisco probabl think babushka mus...      0.160452  \n",
       "6185  collect three differ institut one massiv museu...      0.159486  "
      ]
     },
     "execution_count": 34,
     "metadata": {},
     "output_type": "execute_result"
    }
   ],
   "source": [
    "q = input('Insert the query that you want to find in the places descriptions: ')\n",
    "query_tfidf(data, \"cleanDesc\", q).head(10)"
   ]
  },
  {
   "cell_type": "markdown",
   "metadata": {},
   "source": [
    "First of all we ask the user which query do we have to look for in the places descriptions and we store it as a string named *q*:"
   ]
  },
  {
   "cell_type": "code",
   "execution_count": 15,
   "metadata": {},
   "outputs": [
    {
     "name": "stdout",
     "output_type": "stream",
     "text": [
      "Insert the query that you want to find in the places descriptions: American Museum\n"
     ]
    }
   ],
   "source": [
    "q = input('Insert the query that you want to find in the places descriptions: ')"
   ]
  },
  {
   "cell_type": "markdown",
   "metadata": {},
   "source": [
    "Before starting the first search engine with the query *q* we need to clean q too."
   ]
  },
  {
   "cell_type": "code",
   "execution_count": 16,
   "metadata": {},
   "outputs": [
    {
     "name": "stdout",
     "output_type": "stream",
     "text": [
      "['american', 'museum']\n"
     ]
    }
   ],
   "source": [
    "q = cleaning(q) \n",
    "# now q is a list that contains the cleaned word of the input query\n",
    "print(q)"
   ]
  },
  {
   "cell_type": "markdown",
   "metadata": {},
   "source": [
    "In order to compute the *cosine similarity* between the query and the descriptions we need to compute the *tfidf* of the words in the query too and we'll store them the in the variable *qv*:"
   ]
  },
  {
   "cell_type": "code",
   "execution_count": 17,
   "metadata": {},
   "outputs": [],
   "source": [
    "qv = vectorizer.transform([\" \".join(q)]).todense()\n",
    "# since later we'll need to compute the norm of this vector, we create an np array with the tfidf of the query\n",
    "qv = np.array(qv[0,:])"
   ]
  },
  {
   "cell_type": "markdown",
   "metadata": {},
   "source": [
    "Before to compute the cosine similarity we have to slect all the places descriptions that contain all the words in the query.  \n",
    "In order to do this we execute the function of the point 2.1.2 with as input our query *q*."
   ]
  },
  {
   "cell_type": "code",
   "execution_count": 18,
   "metadata": {},
   "outputs": [],
   "source": [
    "s = query(q)\n",
    "# res_query will be our new dataframe such that contains only the places with description that \n",
    "# contains all the words in the query\n",
    "res_query = data[data['placeName'].isin(list(s))]"
   ]
  },
  {
   "cell_type": "markdown",
   "metadata": {},
   "source": [
    "The next function *cosine_score* given *res_query*, *df* and *qv* is able to compute the cosine similarity of the places descriptions with respect to the query.    \n",
    "Let's remark what is the cosine similarity of a description to a query:\n",
    "$$cosine similarity = \\frac{sentence\\cdot query}{norm(sentence)*norm(query)}$$\n",
    "where *sentence* is the tfidf vector of the given sentence and *query* is the tfidf of the query."
   ]
  },
  {
   "cell_type": "code",
   "execution_count": 10,
   "metadata": {},
   "outputs": [],
   "source": [
    "def cosine_score(res_query,df,qv):\n",
    "    # first we create an empty list in which store all the cosine similarity scores\n",
    "    scores = []\n",
    "    # for every place in res_query we compute the cosine similarity as shown before and append that value in the list scores\n",
    "    for place in res_query.index:\n",
    "        scores.append(np.dot(np.array(df.iloc[place]).reshape(1,df.shape[1])[0],qv[0]) / (np.linalg.norm(np.array(df.iloc[place]).reshape(1,df.shape[1])[0])*np.linalg.norm(qv[0]) ))\n",
    "    return scores"
   ]
  },
  {
   "cell_type": "markdown",
   "metadata": {},
   "source": [
    "We can compute the cosine similarity calling the previous function and store the list in a variable called *scores*.    \n",
    "Then we add this list in a new column called 'cosine similarity'."
   ]
  },
  {
   "cell_type": "code",
   "execution_count": 20,
   "metadata": {},
   "outputs": [],
   "source": [
    "scores = cosine_score(res_query,df,qv)\n",
    "res_query.insert(res_query.shape[1], \"cosine similarity\",scores )"
   ]
  },
  {
   "cell_type": "markdown",
   "metadata": {},
   "source": [
    "Now we can sort the dataframe *res_query* by the column cosine similarity:"
   ]
  },
  {
   "cell_type": "code",
   "execution_count": 21,
   "metadata": {},
   "outputs": [],
   "source": [
    "res_query = res_query.sort_values(by=['cosine similarity'],ascending=False)"
   ]
  },
  {
   "cell_type": "markdown",
   "metadata": {},
   "source": [
    "We can now have a look at the final output:"
   ]
  },
  {
   "cell_type": "code",
   "execution_count": 25,
   "metadata": {},
   "outputs": [
    {
     "data": {
      "text/html": [
       "<div>\n",
       "<style scoped>\n",
       "    .dataframe tbody tr th:only-of-type {\n",
       "        vertical-align: middle;\n",
       "    }\n",
       "\n",
       "    .dataframe tbody tr th {\n",
       "        vertical-align: top;\n",
       "    }\n",
       "\n",
       "    .dataframe thead th {\n",
       "        text-align: right;\n",
       "    }\n",
       "</style>\n",
       "<table border=\"1\" class=\"dataframe\">\n",
       "  <thead>\n",
       "    <tr style=\"text-align: right;\">\n",
       "      <th></th>\n",
       "      <th>placeName</th>\n",
       "      <th>placeDesc</th>\n",
       "      <th>placeURL</th>\n",
       "      <th>cosine similarity</th>\n",
       "    </tr>\n",
       "  </thead>\n",
       "  <tbody>\n",
       "    <tr>\n",
       "      <th>4563</th>\n",
       "      <td>Self-Taught Genius Gallery</td>\n",
       "      <td>In 2017, the American Folk Art Museum in Manha...</td>\n",
       "      <td>https://www.atlasobscura.com/places/self-taugh...</td>\n",
       "      <td>0.181039</td>\n",
       "    </tr>\n",
       "    <tr>\n",
       "      <th>605</th>\n",
       "      <td>Renwick Gallery</td>\n",
       "      <td>The Renwick Gallery building has the distincti...</td>\n",
       "      <td>https://www.atlasobscura.com/places/renwick-ga...</td>\n",
       "      <td>0.180539</td>\n",
       "    </tr>\n",
       "    <tr>\n",
       "      <th>2216</th>\n",
       "      <td>American Writers Museum</td>\n",
       "      <td>The American Writers Museum—tucked away on the...</td>\n",
       "      <td>https://www.atlasobscura.com/places/american-w...</td>\n",
       "      <td>0.176558</td>\n",
       "    </tr>\n",
       "    <tr>\n",
       "      <th>2585</th>\n",
       "      <td>Mount Angel Abbey Museum</td>\n",
       "      <td>The Mount Angel Abbey Museum is a very eclecti...</td>\n",
       "      <td>https://www.atlasobscura.com/places/mount-ange...</td>\n",
       "      <td>0.168144</td>\n",
       "    </tr>\n",
       "    <tr>\n",
       "      <th>4413</th>\n",
       "      <td>The American Pigeon Museum</td>\n",
       "      <td>Many people, especially in big cities, view pi...</td>\n",
       "      <td>https://www.atlasobscura.com/places/the-americ...</td>\n",
       "      <td>0.167326</td>\n",
       "    </tr>\n",
       "    <tr>\n",
       "      <th>102</th>\n",
       "      <td>Museum of Mourning Art</td>\n",
       "      <td>Mourning and personal response to death are un...</td>\n",
       "      <td>https://www.atlasobscura.com/places/museum-of-...</td>\n",
       "      <td>0.166433</td>\n",
       "    </tr>\n",
       "    <tr>\n",
       "      <th>5208</th>\n",
       "      <td>Indian Steps Museum</td>\n",
       "      <td>Constructed by a local lawyer from 1908-1912, ...</td>\n",
       "      <td>https://www.atlasobscura.com/places/indian-ste...</td>\n",
       "      <td>0.161671</td>\n",
       "    </tr>\n",
       "    <tr>\n",
       "      <th>3196</th>\n",
       "      <td>The American Kennel Club Museum of the Dog</td>\n",
       "      <td>At the intersection of the Venn diagram where ...</td>\n",
       "      <td>https://www.atlasobscura.com/places/the-americ...</td>\n",
       "      <td>0.161211</td>\n",
       "    </tr>\n",
       "    <tr>\n",
       "      <th>515</th>\n",
       "      <td>Museum of Russian Culture</td>\n",
       "      <td>When you think San Francisco, you probably don...</td>\n",
       "      <td>https://www.atlasobscura.com/places/museum-of-...</td>\n",
       "      <td>0.160452</td>\n",
       "    </tr>\n",
       "    <tr>\n",
       "      <th>6185</th>\n",
       "      <td>Harvard Museum of Natural History</td>\n",
       "      <td>Collecting three different institutions into o...</td>\n",
       "      <td>https://www.atlasobscura.com/places/harvard-mu...</td>\n",
       "      <td>0.159486</td>\n",
       "    </tr>\n",
       "  </tbody>\n",
       "</table>\n",
       "</div>"
      ],
      "text/plain": [
       "                                       placeName  \\\n",
       "4563                  Self-Taught Genius Gallery   \n",
       "605                              Renwick Gallery   \n",
       "2216                     American Writers Museum   \n",
       "2585                    Mount Angel Abbey Museum   \n",
       "4413                 The American Pigeon Museum    \n",
       "102                       Museum of Mourning Art   \n",
       "5208                         Indian Steps Museum   \n",
       "3196  The American Kennel Club Museum of the Dog   \n",
       "515                    Museum of Russian Culture   \n",
       "6185           Harvard Museum of Natural History   \n",
       "\n",
       "                                              placeDesc  \\\n",
       "4563  In 2017, the American Folk Art Museum in Manha...   \n",
       "605   The Renwick Gallery building has the distincti...   \n",
       "2216  The American Writers Museum—tucked away on the...   \n",
       "2585  The Mount Angel Abbey Museum is a very eclecti...   \n",
       "4413  Many people, especially in big cities, view pi...   \n",
       "102   Mourning and personal response to death are un...   \n",
       "5208  Constructed by a local lawyer from 1908-1912, ...   \n",
       "3196  At the intersection of the Venn diagram where ...   \n",
       "515   When you think San Francisco, you probably don...   \n",
       "6185  Collecting three different institutions into o...   \n",
       "\n",
       "                                               placeURL  cosine similarity  \n",
       "4563  https://www.atlasobscura.com/places/self-taugh...           0.181039  \n",
       "605   https://www.atlasobscura.com/places/renwick-ga...           0.180539  \n",
       "2216  https://www.atlasobscura.com/places/american-w...           0.176558  \n",
       "2585  https://www.atlasobscura.com/places/mount-ange...           0.168144  \n",
       "4413  https://www.atlasobscura.com/places/the-americ...           0.167326  \n",
       "102   https://www.atlasobscura.com/places/museum-of-...           0.166433  \n",
       "5208  https://www.atlasobscura.com/places/indian-ste...           0.161671  \n",
       "3196  https://www.atlasobscura.com/places/the-americ...           0.161211  \n",
       "515   https://www.atlasobscura.com/places/museum-of-...           0.160452  \n",
       "6185  https://www.atlasobscura.com/places/harvard-mu...           0.159486  "
      ]
     },
     "execution_count": 25,
     "metadata": {},
     "output_type": "execute_result"
    }
   ],
   "source": [
    "res_query[['placeName','placeDesc','placeURL','cosine similarity']].head(10)"
   ]
  },
  {
   "cell_type": "markdown",
   "metadata": {},
   "source": [
    "## 3. Define a new score!"
   ]
  },
  {
   "cell_type": "markdown",
   "metadata": {},
   "source": [
    "Our idea is to create a new score based on the number of people who have already been in a place or on the number of people who want to see that place. \n",
    "First we let the user insert the query that he want to search in the places descriptions.   \n",
    "Then we let the user choose the number of places he wants to see in the final output and if he wants to sort the places by the scores of *numPeopleVisited* or of *numPeopleWant*.  \n",
    "As last input we ask the user if he wants to see the most popular ones or the least."
   ]
  },
  {
   "cell_type": "markdown",
   "metadata": {},
   "source": [
    "## FINO A QUI"
   ]
  },
  {
   "cell_type": "code",
   "execution_count": 8,
   "metadata": {},
   "outputs": [
    {
     "name": "stdout",
     "output_type": "stream",
     "text": [
      "Insert the words that you want to be found in the description's places: church mountain\n"
     ]
    }
   ],
   "source": [
    "query_user = list(input(\"Insert the words that you want to be found in the description's places: \").split())"
   ]
  },
  {
   "cell_type": "code",
   "execution_count": 9,
   "metadata": {},
   "outputs": [],
   "source": [
    "#first of all we execute the search engine as in 2.1 with the query given by the user\n",
    "dic1 = read_dic(\"dic1\")\n",
    "dic2 = read_dic(\"dic2\")\n",
    "s = query(query_user)\n",
    "res_query = data[data['placeName'].isin(list(s))]\n",
    "res_query.reset_index(inplace = True, drop=True) "
   ]
  },
  {
   "cell_type": "code",
   "execution_count": 10,
   "metadata": {},
   "outputs": [
    {
     "name": "stdout",
     "output_type": "stream",
     "text": [
      "What is the top rank visualization that you want to have? \n",
      "Insert \"1\" if you prefer that is by number of tourists. \n",
      "Insert \"2\" if you prefer that is by number of people that want to visit the site.\n",
      "2\n"
     ]
    }
   ],
   "source": [
    "n = int(input('What is the top rank visualization that you want to have? \\nInsert \"1\" if you prefer that is by number of tourists. \\nInsert \"2\" if you prefer that is by number of people that want to visit the site.\\n'))"
   ]
  },
  {
   "cell_type": "code",
   "execution_count": 11,
   "metadata": {},
   "outputs": [
    {
     "name": "stdout",
     "output_type": "stream",
     "text": [
      "Insert k the number of places that you want to visualize:10\n",
      "Insert \"1\" if you want to see the k most popular places or insert \"2\" if you want to see the less famous places:1\n"
     ]
    }
   ],
   "source": [
    "k = int(input('Insert k the number of places that you want to visualize:')) \n",
    "m = int(input('Insert \"1\" if you want to see the k most popular places or insert \"2\" if you want to see the less famous places:'))"
   ]
  },
  {
   "cell_type": "code",
   "execution_count": 12,
   "metadata": {},
   "outputs": [],
   "source": [
    "def new_score(res_query,n,k,m):\n",
    "    scores = []\n",
    "    if n == 1:\n",
    "        by = res_query['numPeopleVisited']\n",
    "    else:\n",
    "        by = res_query['numPeopleWant']\n",
    "    max_value = by.max()\n",
    "    for i in range(res_query.shape[0]):\n",
    "        scores.append(round(by[i]/max_value,4))\n",
    "    res_query.insert(res_query.shape[1], \"scores\", scores)\n",
    "    if m == 1:\n",
    "        res_query = res_query.sort_values(by=['scores'],ascending=False)\n",
    "    else:\n",
    "        res_query = res_query.sort_values(by=['scores'],ascending=True)\n",
    "        \n",
    "    return res_query.head(k)"
   ]
  },
  {
   "cell_type": "code",
   "execution_count": 13,
   "metadata": {},
   "outputs": [
    {
     "data": {
      "text/html": [
       "<div>\n",
       "<style scoped>\n",
       "    .dataframe tbody tr th:only-of-type {\n",
       "        vertical-align: middle;\n",
       "    }\n",
       "\n",
       "    .dataframe tbody tr th {\n",
       "        vertical-align: top;\n",
       "    }\n",
       "\n",
       "    .dataframe thead th {\n",
       "        text-align: right;\n",
       "    }\n",
       "</style>\n",
       "<table border=\"1\" class=\"dataframe\">\n",
       "  <thead>\n",
       "    <tr style=\"text-align: right;\">\n",
       "      <th></th>\n",
       "      <th>placeName</th>\n",
       "      <th>placeTags</th>\n",
       "      <th>numPeopleVisited</th>\n",
       "      <th>numPeopleWant</th>\n",
       "      <th>placeDesc</th>\n",
       "      <th>placeShortDesc</th>\n",
       "      <th>placeNearby</th>\n",
       "      <th>placeAdress</th>\n",
       "      <th>placeAlt</th>\n",
       "      <th>placeLong</th>\n",
       "      <th>placeEditors</th>\n",
       "      <th>placePubDate</th>\n",
       "      <th>placeRelatedList</th>\n",
       "      <th>placeRelatedPlace</th>\n",
       "      <th>placeURL</th>\n",
       "      <th>scores</th>\n",
       "    </tr>\n",
       "  </thead>\n",
       "  <tbody>\n",
       "    <tr>\n",
       "      <th>93</th>\n",
       "      <td>Dream House</td>\n",
       "      <td>optical oddities,eccentric homes,music,outside...</td>\n",
       "      <td>765</td>\n",
       "      <td>6007</td>\n",
       "      <td>When walking down Church Street in Tribeca, ke...</td>\n",
       "      <td>La Monte Young and Marian Zazeela's \"Dream Hou...</td>\n",
       "      <td>Aretha Franklin Subway Tributes,Farm.One,The '...</td>\n",
       "      <td>275 Church St New York, New York, 10013 United...</td>\n",
       "      <td>40.7185</td>\n",
       "      <td>-74.0048</td>\n",
       "      <td>seanmattison,mbison,Gray,Sofy,erosika,Blindcol...</td>\n",
       "      <td>2009-09-22 00:00:00</td>\n",
       "      <td>Aretha Franklin Subway Tributes,Farm.One,The '...</td>\n",
       "      <td>Callejon de Hamel,Casa Neverlandia,Casa de Azu...</td>\n",
       "      <td>https://www.atlasobscura.com/places/dream-house</td>\n",
       "      <td>1.0000</td>\n",
       "    </tr>\n",
       "    <tr>\n",
       "      <th>541</th>\n",
       "      <td>The Ruins of St. Dunstan-in-the-East</td>\n",
       "      <td>gardens,world war ii,churches,plants,military,...</td>\n",
       "      <td>1884</td>\n",
       "      <td>5754</td>\n",
       "      <td>The church of St.Dunstan-in-the-East has survi...</td>\n",
       "      <td>One of the few remaining casualties of the Lon...</td>\n",
       "      <td>Billingsgate Roman House and Baths,Pudding Lan...</td>\n",
       "      <td>St. Dunstan-in-the-East St. Dunstan's Hill Lon...</td>\n",
       "      <td>51.5097</td>\n",
       "      <td>-0.0827</td>\n",
       "      <td>Luke J Spencer,Goksu,Kas,adamjerodandrews,Mons...</td>\n",
       "      <td>2015-03-12 00:00:00</td>\n",
       "      <td>Billingsgate Roman House and Baths,Philpot Lan...</td>\n",
       "      <td>Kaiser Wilhelm Memorial Church,Ruins of Holyro...</td>\n",
       "      <td>https://www.atlasobscura.com/places/the-ruins-...</td>\n",
       "      <td>0.9579</td>\n",
       "    </tr>\n",
       "    <tr>\n",
       "      <th>92</th>\n",
       "      <td>Roosevelt Island Smallpox Hospital Ruins</td>\n",
       "      <td>smallpox,quarantine,abandoned hospitals,abando...</td>\n",
       "      <td>1709</td>\n",
       "      <td>5153</td>\n",
       "      <td>Few diseases have had a greater impact on the ...</td>\n",
       "      <td>A crumbling hospital from the 1850s on Rooseve...</td>\n",
       "      <td>United Nations Delegates Lounge,Roosevelt Isla...</td>\n",
       "      <td>Roosevelt Island New York, New York, 10044 Uni...</td>\n",
       "      <td>40.7515</td>\n",
       "      <td>-73.9596</td>\n",
       "      <td>Rebekah Otto,Sharon Blackstone,spavalice,mbiso...</td>\n",
       "      <td>2010-01-13 00:00:00</td>\n",
       "      <td>Roosevelt Island Cat Sanctuary,Strecker Memori...</td>\n",
       "      <td>Ruins of Lazaretto de Isla de Cabras,Glenn Dal...</td>\n",
       "      <td>https://www.atlasobscura.com/places/roosevelt-...</td>\n",
       "      <td>0.8578</td>\n",
       "    </tr>\n",
       "    <tr>\n",
       "      <th>262</th>\n",
       "      <td>The Hardy Tree</td>\n",
       "      <td>ao loves halloween 2022,gravestones,trees,chur...</td>\n",
       "      <td>859</td>\n",
       "      <td>4042</td>\n",
       "      <td>Inside an ancient London churchyard, an ash tr...</td>\n",
       "      <td>This churchyard arbor is surrounded by hundred...</td>\n",
       "      <td>Platform 9 3/4,Word on the Water,British Libra...</td>\n",
       "      <td>Pancras Road London, England, NW1 1UL United K...</td>\n",
       "      <td>51.5349</td>\n",
       "      <td>-0.1309</td>\n",
       "      <td>sarahvjanet,Pengwn,SEANETTA,giloscope,Stevren,...</td>\n",
       "      <td>2015-07-03 00:00:00</td>\n",
       "      <td>Word on the Water,Platform 9 3/4,British Libra...</td>\n",
       "      <td>Convento de la Santa Cruz (Convent of Santa Cr...</td>\n",
       "      <td>https://www.atlasobscura.com/places/the-hardy-...</td>\n",
       "      <td>0.6729</td>\n",
       "    </tr>\n",
       "    <tr>\n",
       "      <th>481</th>\n",
       "      <td>Santa Maria della Concezione Crypts</td>\n",
       "      <td>capuchins,marquis de sade,mark twain,ossuaries...</td>\n",
       "      <td>2070</td>\n",
       "      <td>3529</td>\n",
       "      <td>In 1775, the Marquis de Sade wrote of it, “I h...</td>\n",
       "      <td>The crypts of Capuchin friars decorated with t...</td>\n",
       "      <td>Saint Victoria's Incorruptible Body,Keats-Shel...</td>\n",
       "      <td>Via Vittorio Veneto, 27 Rome, 00187 Italy</td>\n",
       "      <td>41.9047</td>\n",
       "      <td>12.4882</td>\n",
       "      <td>Dylan,mshkrvn,Annetta Black,The Dubious Hausfr...</td>\n",
       "      <td>2009-08-09 00:00:00</td>\n",
       "      <td>Keats-Shelley Memorial House,Zuccari Palace,Sa...</td>\n",
       "      <td>The Czech's Capuchin Crypt,Santa Maria dell'Or...</td>\n",
       "      <td>https://www.atlasobscura.com/places/santa-mari...</td>\n",
       "      <td>0.5875</td>\n",
       "    </tr>\n",
       "    <tr>\n",
       "      <th>501</th>\n",
       "      <td>International Church of Cannabis</td>\n",
       "      <td>cannabis,marijuana,drugs,religion,churches,sac...</td>\n",
       "      <td>607</td>\n",
       "      <td>3206</td>\n",
       "      <td>A Lutheran church has stood at 400 S Logan Str...</td>\n",
       "      <td>A technicolor place of worship for Elevationis...</td>\n",
       "      <td>Fifty-Two 80's,Cheesman Park,History Colorado ...</td>\n",
       "      <td>400 S Logan St Denver, Colorado United States</td>\n",
       "      <td>39.7091</td>\n",
       "      <td>-104.9823</td>\n",
       "      <td>lewblank,Simon Jones,HighPriest,AngieSmangie,c...</td>\n",
       "      <td>2017-07-20 00:00:00</td>\n",
       "      <td>Cheesman Park,Fifty-Two 80's,History Colorado ...</td>\n",
       "      <td>Blackfriars Friary,Santuario de Atotonilco,Her...</td>\n",
       "      <td>https://www.atlasobscura.com/places/internatio...</td>\n",
       "      <td>0.5337</td>\n",
       "    </tr>\n",
       "    <tr>\n",
       "      <th>523</th>\n",
       "      <td>House of Nicolas Flamel</td>\n",
       "      <td>alchemy,occult,magic,restaurants,houses,homes</td>\n",
       "      <td>646</td>\n",
       "      <td>3042</td>\n",
       "      <td>Strange symbols adorn the architecture at 51 r...</td>\n",
       "      <td>The oldest stone house in Paris was built by i...</td>\n",
       "      <td>Dans le Noir?,The Relic Crypt of St. Helena at...</td>\n",
       "      <td>51 rue de Montmorency Paris, 75003 France</td>\n",
       "      <td>48.8635</td>\n",
       "      <td>2.3531</td>\n",
       "      <td>Allison,kez7585,Peccable,Traveling Maven,Scott...</td>\n",
       "      <td>2014-01-26 00:00:00</td>\n",
       "      <td>The Relic Crypt of St. Helena at Église Saint-...</td>\n",
       "      <td>Boleskine House,Porta Alchemica,Faustův Dům (F...</td>\n",
       "      <td>https://www.atlasobscura.com/places/house-of-n...</td>\n",
       "      <td>0.5064</td>\n",
       "    </tr>\n",
       "    <tr>\n",
       "      <th>108</th>\n",
       "      <td>Kensal Green Cemetery and Catacombs</td>\n",
       "      <td>memento mori,catacombs and crypts,cemeteries</td>\n",
       "      <td>516</td>\n",
       "      <td>2828</td>\n",
       "      <td>Kensal Green is the one of the oldest public b...</td>\n",
       "      <td>Winding paths and ramshackle mausoleums in the...</td>\n",
       "      <td>'Potteries and Piggeries' Bottle Kiln,Trellick...</td>\n",
       "      <td>Harrow Road London, England, W10 4RA United Ki...</td>\n",
       "      <td>51.5277</td>\n",
       "      <td>-0.2176</td>\n",
       "      <td>Annetta Black,Moriarty,Alberto,fokgc@signefied...</td>\n",
       "      <td>2009-10-26 00:00:00</td>\n",
       "      <td>Trellick Tower,Museum of Brands,'Potteries and...</td>\n",
       "      <td>Chauchilla Cemetery,Putim Ossuary,Most Holy Tr...</td>\n",
       "      <td>https://www.atlasobscura.com/places/kensal-gre...</td>\n",
       "      <td>0.4708</td>\n",
       "    </tr>\n",
       "    <tr>\n",
       "      <th>277</th>\n",
       "      <td>Strahov Monastery</td>\n",
       "      <td>wonder cabinets,repositories of knowledge,sacr...</td>\n",
       "      <td>929</td>\n",
       "      <td>2647</td>\n",
       "      <td>Tucked away on the top of a hill in Prague is ...</td>\n",
       "      <td>Two stunning 17th-century libraries and a cabi...</td>\n",
       "      <td>Museum of Miniatures,Statue of St. Wilgefortis...</td>\n",
       "      <td>1 Strahovské nádvoří Prague, 118 00 Czechia</td>\n",
       "      <td>50.0861</td>\n",
       "      <td>14.3893</td>\n",
       "      <td>michelle,Jaszmina Szendrey,wurzeltod,Sebastian...</td>\n",
       "      <td>2009-09-10 00:00:00</td>\n",
       "      <td>Museum of Miniatures,Statue of St. Wilgefortis...</td>\n",
       "      <td>Namgyal Monastery,The Adventurers' Club of Los...</td>\n",
       "      <td>https://www.atlasobscura.com/places/strahov-mo...</td>\n",
       "      <td>0.4407</td>\n",
       "    </tr>\n",
       "    <tr>\n",
       "      <th>478</th>\n",
       "      <td>Cathedral of Our Lady of the Angels</td>\n",
       "      <td>relics,catacombs and crypts,churches,sacred sp...</td>\n",
       "      <td>966</td>\n",
       "      <td>2569</td>\n",
       "      <td>The Cathedral of Our Lady of the Angels is a 5...</td>\n",
       "      <td>Crypt mausoleum in cathedral's basement contai...</td>\n",
       "      <td>Bradbury Building,'América Tropical',Triforium</td>\n",
       "      <td>555 West Temple Street Los Angeles, California...</td>\n",
       "      <td>34.0577</td>\n",
       "      <td>-118.2449</td>\n",
       "      <td>anhie,Jaszmina Szendrey,Avoiding Regret,jDream...</td>\n",
       "      <td>2009-10-25 00:00:00</td>\n",
       "      <td>Triforium,'América Tropical',Bradbury Building...</td>\n",
       "      <td>San Thome Basilica,Santa Maria dell'Orazione e...</td>\n",
       "      <td>https://www.atlasobscura.com/places/cathedral-...</td>\n",
       "      <td>0.4277</td>\n",
       "    </tr>\n",
       "  </tbody>\n",
       "</table>\n",
       "</div>"
      ],
      "text/plain": [
       "                                    placeName  \\\n",
       "93                                Dream House   \n",
       "541      The Ruins of St. Dunstan-in-the-East   \n",
       "92   Roosevelt Island Smallpox Hospital Ruins   \n",
       "262                            The Hardy Tree   \n",
       "481       Santa Maria della Concezione Crypts   \n",
       "501          International Church of Cannabis   \n",
       "523                   House of Nicolas Flamel   \n",
       "108       Kensal Green Cemetery and Catacombs   \n",
       "277                        Strahov Monastery    \n",
       "478       Cathedral of Our Lady of the Angels   \n",
       "\n",
       "                                             placeTags  numPeopleVisited  \\\n",
       "93   optical oddities,eccentric homes,music,outside...               765   \n",
       "541  gardens,world war ii,churches,plants,military,...              1884   \n",
       "92   smallpox,quarantine,abandoned hospitals,abando...              1709   \n",
       "262  ao loves halloween 2022,gravestones,trees,chur...               859   \n",
       "481  capuchins,marquis de sade,mark twain,ossuaries...              2070   \n",
       "501  cannabis,marijuana,drugs,religion,churches,sac...               607   \n",
       "523      alchemy,occult,magic,restaurants,houses,homes               646   \n",
       "108       memento mori,catacombs and crypts,cemeteries               516   \n",
       "277  wonder cabinets,repositories of knowledge,sacr...               929   \n",
       "478  relics,catacombs and crypts,churches,sacred sp...               966   \n",
       "\n",
       "     numPeopleWant                                          placeDesc  \\\n",
       "93            6007  When walking down Church Street in Tribeca, ke...   \n",
       "541           5754  The church of St.Dunstan-in-the-East has survi...   \n",
       "92            5153  Few diseases have had a greater impact on the ...   \n",
       "262           4042  Inside an ancient London churchyard, an ash tr...   \n",
       "481           3529  In 1775, the Marquis de Sade wrote of it, “I h...   \n",
       "501           3206  A Lutheran church has stood at 400 S Logan Str...   \n",
       "523           3042  Strange symbols adorn the architecture at 51 r...   \n",
       "108           2828  Kensal Green is the one of the oldest public b...   \n",
       "277           2647  Tucked away on the top of a hill in Prague is ...   \n",
       "478           2569  The Cathedral of Our Lady of the Angels is a 5...   \n",
       "\n",
       "                                        placeShortDesc  \\\n",
       "93   La Monte Young and Marian Zazeela's \"Dream Hou...   \n",
       "541  One of the few remaining casualties of the Lon...   \n",
       "92   A crumbling hospital from the 1850s on Rooseve...   \n",
       "262  This churchyard arbor is surrounded by hundred...   \n",
       "481  The crypts of Capuchin friars decorated with t...   \n",
       "501  A technicolor place of worship for Elevationis...   \n",
       "523  The oldest stone house in Paris was built by i...   \n",
       "108  Winding paths and ramshackle mausoleums in the...   \n",
       "277  Two stunning 17th-century libraries and a cabi...   \n",
       "478  Crypt mausoleum in cathedral's basement contai...   \n",
       "\n",
       "                                           placeNearby  \\\n",
       "93   Aretha Franklin Subway Tributes,Farm.One,The '...   \n",
       "541  Billingsgate Roman House and Baths,Pudding Lan...   \n",
       "92   United Nations Delegates Lounge,Roosevelt Isla...   \n",
       "262  Platform 9 3/4,Word on the Water,British Libra...   \n",
       "481  Saint Victoria's Incorruptible Body,Keats-Shel...   \n",
       "501  Fifty-Two 80's,Cheesman Park,History Colorado ...   \n",
       "523  Dans le Noir?,The Relic Crypt of St. Helena at...   \n",
       "108  'Potteries and Piggeries' Bottle Kiln,Trellick...   \n",
       "277  Museum of Miniatures,Statue of St. Wilgefortis...   \n",
       "478     Bradbury Building,'América Tropical',Triforium   \n",
       "\n",
       "                                           placeAdress  placeAlt  placeLong  \\\n",
       "93   275 Church St New York, New York, 10013 United...   40.7185   -74.0048   \n",
       "541  St. Dunstan-in-the-East St. Dunstan's Hill Lon...   51.5097    -0.0827   \n",
       "92   Roosevelt Island New York, New York, 10044 Uni...   40.7515   -73.9596   \n",
       "262  Pancras Road London, England, NW1 1UL United K...   51.5349    -0.1309   \n",
       "481          Via Vittorio Veneto, 27 Rome, 00187 Italy   41.9047    12.4882   \n",
       "501      400 S Logan St Denver, Colorado United States   39.7091  -104.9823   \n",
       "523          51 rue de Montmorency Paris, 75003 France   48.8635     2.3531   \n",
       "108  Harrow Road London, England, W10 4RA United Ki...   51.5277    -0.2176   \n",
       "277        1 Strahovské nádvoří Prague, 118 00 Czechia   50.0861    14.3893   \n",
       "478  555 West Temple Street Los Angeles, California...   34.0577  -118.2449   \n",
       "\n",
       "                                          placeEditors         placePubDate  \\\n",
       "93   seanmattison,mbison,Gray,Sofy,erosika,Blindcol...  2009-09-22 00:00:00   \n",
       "541  Luke J Spencer,Goksu,Kas,adamjerodandrews,Mons...  2015-03-12 00:00:00   \n",
       "92   Rebekah Otto,Sharon Blackstone,spavalice,mbiso...  2010-01-13 00:00:00   \n",
       "262  sarahvjanet,Pengwn,SEANETTA,giloscope,Stevren,...  2015-07-03 00:00:00   \n",
       "481  Dylan,mshkrvn,Annetta Black,The Dubious Hausfr...  2009-08-09 00:00:00   \n",
       "501  lewblank,Simon Jones,HighPriest,AngieSmangie,c...  2017-07-20 00:00:00   \n",
       "523  Allison,kez7585,Peccable,Traveling Maven,Scott...  2014-01-26 00:00:00   \n",
       "108  Annetta Black,Moriarty,Alberto,fokgc@signefied...  2009-10-26 00:00:00   \n",
       "277  michelle,Jaszmina Szendrey,wurzeltod,Sebastian...  2009-09-10 00:00:00   \n",
       "478  anhie,Jaszmina Szendrey,Avoiding Regret,jDream...  2009-10-25 00:00:00   \n",
       "\n",
       "                                      placeRelatedList  \\\n",
       "93   Aretha Franklin Subway Tributes,Farm.One,The '...   \n",
       "541  Billingsgate Roman House and Baths,Philpot Lan...   \n",
       "92   Roosevelt Island Cat Sanctuary,Strecker Memori...   \n",
       "262  Word on the Water,Platform 9 3/4,British Libra...   \n",
       "481  Keats-Shelley Memorial House,Zuccari Palace,Sa...   \n",
       "501  Cheesman Park,Fifty-Two 80's,History Colorado ...   \n",
       "523  The Relic Crypt of St. Helena at Église Saint-...   \n",
       "108  Trellick Tower,Museum of Brands,'Potteries and...   \n",
       "277  Museum of Miniatures,Statue of St. Wilgefortis...   \n",
       "478  Triforium,'América Tropical',Bradbury Building...   \n",
       "\n",
       "                                     placeRelatedPlace  \\\n",
       "93   Callejon de Hamel,Casa Neverlandia,Casa de Azu...   \n",
       "541  Kaiser Wilhelm Memorial Church,Ruins of Holyro...   \n",
       "92   Ruins of Lazaretto de Isla de Cabras,Glenn Dal...   \n",
       "262  Convento de la Santa Cruz (Convent of Santa Cr...   \n",
       "481  The Czech's Capuchin Crypt,Santa Maria dell'Or...   \n",
       "501  Blackfriars Friary,Santuario de Atotonilco,Her...   \n",
       "523  Boleskine House,Porta Alchemica,Faustův Dům (F...   \n",
       "108  Chauchilla Cemetery,Putim Ossuary,Most Holy Tr...   \n",
       "277  Namgyal Monastery,The Adventurers' Club of Los...   \n",
       "478  San Thome Basilica,Santa Maria dell'Orazione e...   \n",
       "\n",
       "                                              placeURL  scores  \n",
       "93     https://www.atlasobscura.com/places/dream-house  1.0000  \n",
       "541  https://www.atlasobscura.com/places/the-ruins-...  0.9579  \n",
       "92   https://www.atlasobscura.com/places/roosevelt-...  0.8578  \n",
       "262  https://www.atlasobscura.com/places/the-hardy-...  0.6729  \n",
       "481  https://www.atlasobscura.com/places/santa-mari...  0.5875  \n",
       "501  https://www.atlasobscura.com/places/internatio...  0.5337  \n",
       "523  https://www.atlasobscura.com/places/house-of-n...  0.5064  \n",
       "108  https://www.atlasobscura.com/places/kensal-gre...  0.4708  \n",
       "277  https://www.atlasobscura.com/places/strahov-mo...  0.4407  \n",
       "478  https://www.atlasobscura.com/places/cathedral-...  0.4277  "
      ]
     },
     "execution_count": 13,
     "metadata": {},
     "output_type": "execute_result"
    }
   ],
   "source": [
    "resquery = new_score(res_query,n,k,m)"
   ]
  },
  {
   "cell_type": "markdown",
   "metadata": {},
   "source": [
    "## 4 "
   ]
  },
  {
   "cell_type": "code",
   "execution_count": 15,
   "metadata": {},
   "outputs": [],
   "source": [
    "from geopy.geocoders import Nominatim\n",
    "geolocator = Nominatim(user_agent=\"geoapiExercises\")"
   ]
  },
  {
   "cell_type": "code",
   "execution_count": 16,
   "metadata": {},
   "outputs": [
    {
     "data": {
      "text/html": [
       "<div>\n",
       "<style scoped>\n",
       "    .dataframe tbody tr th:only-of-type {\n",
       "        vertical-align: middle;\n",
       "    }\n",
       "\n",
       "    .dataframe tbody tr th {\n",
       "        vertical-align: top;\n",
       "    }\n",
       "\n",
       "    .dataframe thead th {\n",
       "        text-align: right;\n",
       "    }\n",
       "</style>\n",
       "<table border=\"1\" class=\"dataframe\">\n",
       "  <thead>\n",
       "    <tr style=\"text-align: right;\">\n",
       "      <th></th>\n",
       "      <th>placeName</th>\n",
       "      <th>placeTags</th>\n",
       "      <th>numPeopleVisited</th>\n",
       "      <th>numPeopleWant</th>\n",
       "      <th>placeDesc</th>\n",
       "      <th>placeShortDesc</th>\n",
       "      <th>placeNearby</th>\n",
       "      <th>placeAdress</th>\n",
       "      <th>placeAlt</th>\n",
       "      <th>placeLong</th>\n",
       "      <th>placeEditors</th>\n",
       "      <th>placePubDate</th>\n",
       "      <th>placeRelatedList</th>\n",
       "      <th>placeRelatedPlace</th>\n",
       "      <th>placeURL</th>\n",
       "      <th>scores</th>\n",
       "      <th>city/state</th>\n",
       "      <th>country</th>\n",
       "    </tr>\n",
       "  </thead>\n",
       "  <tbody>\n",
       "    <tr>\n",
       "      <th>0</th>\n",
       "      <td>Dream House</td>\n",
       "      <td>optical oddities,eccentric homes,music,outside...</td>\n",
       "      <td>765</td>\n",
       "      <td>6007</td>\n",
       "      <td>When walking down Church Street in Tribeca, ke...</td>\n",
       "      <td>La Monte Young and Marian Zazeela's \"Dream Hou...</td>\n",
       "      <td>Aretha Franklin Subway Tributes,Farm.One,The '...</td>\n",
       "      <td>275 Church St New York, New York, 10013 United...</td>\n",
       "      <td>40.7185</td>\n",
       "      <td>-74.0048</td>\n",
       "      <td>seanmattison,mbison,Gray,Sofy,erosika,Blindcol...</td>\n",
       "      <td>2009-09-22 00:00:00</td>\n",
       "      <td>Aretha Franklin Subway Tributes,Farm.One,The '...</td>\n",
       "      <td>Callejon de Hamel,Casa Neverlandia,Casa de Azu...</td>\n",
       "      <td>https://www.atlasobscura.com/places/dream-house</td>\n",
       "      <td>1.0000</td>\n",
       "      <td>New York</td>\n",
       "      <td>United States</td>\n",
       "    </tr>\n",
       "    <tr>\n",
       "      <th>1</th>\n",
       "      <td>The Ruins of St. Dunstan-in-the-East</td>\n",
       "      <td>gardens,world war ii,churches,plants,military,...</td>\n",
       "      <td>1884</td>\n",
       "      <td>5754</td>\n",
       "      <td>The church of St.Dunstan-in-the-East has survi...</td>\n",
       "      <td>One of the few remaining casualties of the Lon...</td>\n",
       "      <td>Billingsgate Roman House and Baths,Pudding Lan...</td>\n",
       "      <td>St. Dunstan-in-the-East St. Dunstan's Hill Lon...</td>\n",
       "      <td>51.5097</td>\n",
       "      <td>-0.0827</td>\n",
       "      <td>Luke J Spencer,Goksu,Kas,adamjerodandrews,Mons...</td>\n",
       "      <td>2015-03-12 00:00:00</td>\n",
       "      <td>Billingsgate Roman House and Baths,Philpot Lan...</td>\n",
       "      <td>Kaiser Wilhelm Memorial Church,Ruins of Holyro...</td>\n",
       "      <td>https://www.atlasobscura.com/places/the-ruins-...</td>\n",
       "      <td>0.9579</td>\n",
       "      <td>England</td>\n",
       "      <td>United Kingdom</td>\n",
       "    </tr>\n",
       "    <tr>\n",
       "      <th>2</th>\n",
       "      <td>Roosevelt Island Smallpox Hospital Ruins</td>\n",
       "      <td>smallpox,quarantine,abandoned hospitals,abando...</td>\n",
       "      <td>1709</td>\n",
       "      <td>5153</td>\n",
       "      <td>Few diseases have had a greater impact on the ...</td>\n",
       "      <td>A crumbling hospital from the 1850s on Rooseve...</td>\n",
       "      <td>United Nations Delegates Lounge,Roosevelt Isla...</td>\n",
       "      <td>Roosevelt Island New York, New York, 10044 Uni...</td>\n",
       "      <td>40.7515</td>\n",
       "      <td>-73.9596</td>\n",
       "      <td>Rebekah Otto,Sharon Blackstone,spavalice,mbiso...</td>\n",
       "      <td>2010-01-13 00:00:00</td>\n",
       "      <td>Roosevelt Island Cat Sanctuary,Strecker Memori...</td>\n",
       "      <td>Ruins of Lazaretto de Isla de Cabras,Glenn Dal...</td>\n",
       "      <td>https://www.atlasobscura.com/places/roosevelt-...</td>\n",
       "      <td>0.8578</td>\n",
       "      <td>New York</td>\n",
       "      <td>United States</td>\n",
       "    </tr>\n",
       "    <tr>\n",
       "      <th>3</th>\n",
       "      <td>The Hardy Tree</td>\n",
       "      <td>ao loves halloween 2022,gravestones,trees,chur...</td>\n",
       "      <td>859</td>\n",
       "      <td>4042</td>\n",
       "      <td>Inside an ancient London churchyard, an ash tr...</td>\n",
       "      <td>This churchyard arbor is surrounded by hundred...</td>\n",
       "      <td>Platform 9 3/4,Word on the Water,British Libra...</td>\n",
       "      <td>Pancras Road London, England, NW1 1UL United K...</td>\n",
       "      <td>51.5349</td>\n",
       "      <td>-0.1309</td>\n",
       "      <td>sarahvjanet,Pengwn,SEANETTA,giloscope,Stevren,...</td>\n",
       "      <td>2015-07-03 00:00:00</td>\n",
       "      <td>Word on the Water,Platform 9 3/4,British Libra...</td>\n",
       "      <td>Convento de la Santa Cruz (Convent of Santa Cr...</td>\n",
       "      <td>https://www.atlasobscura.com/places/the-hardy-...</td>\n",
       "      <td>0.6729</td>\n",
       "      <td>England</td>\n",
       "      <td>United Kingdom</td>\n",
       "    </tr>\n",
       "    <tr>\n",
       "      <th>4</th>\n",
       "      <td>Santa Maria della Concezione Crypts</td>\n",
       "      <td>capuchins,marquis de sade,mark twain,ossuaries...</td>\n",
       "      <td>2070</td>\n",
       "      <td>3529</td>\n",
       "      <td>In 1775, the Marquis de Sade wrote of it, “I h...</td>\n",
       "      <td>The crypts of Capuchin friars decorated with t...</td>\n",
       "      <td>Saint Victoria's Incorruptible Body,Keats-Shel...</td>\n",
       "      <td>Via Vittorio Veneto, 27 Rome, 00187 Italy</td>\n",
       "      <td>41.9047</td>\n",
       "      <td>12.4882</td>\n",
       "      <td>Dylan,mshkrvn,Annetta Black,The Dubious Hausfr...</td>\n",
       "      <td>2009-08-09 00:00:00</td>\n",
       "      <td>Keats-Shelley Memorial House,Zuccari Palace,Sa...</td>\n",
       "      <td>The Czech's Capuchin Crypt,Santa Maria dell'Or...</td>\n",
       "      <td>https://www.atlasobscura.com/places/santa-mari...</td>\n",
       "      <td>0.5875</td>\n",
       "      <td>Lazio</td>\n",
       "      <td>Italia</td>\n",
       "    </tr>\n",
       "    <tr>\n",
       "      <th>5</th>\n",
       "      <td>International Church of Cannabis</td>\n",
       "      <td>cannabis,marijuana,drugs,religion,churches,sac...</td>\n",
       "      <td>607</td>\n",
       "      <td>3206</td>\n",
       "      <td>A Lutheran church has stood at 400 S Logan Str...</td>\n",
       "      <td>A technicolor place of worship for Elevationis...</td>\n",
       "      <td>Fifty-Two 80's,Cheesman Park,History Colorado ...</td>\n",
       "      <td>400 S Logan St Denver, Colorado United States</td>\n",
       "      <td>39.7091</td>\n",
       "      <td>-104.9823</td>\n",
       "      <td>lewblank,Simon Jones,HighPriest,AngieSmangie,c...</td>\n",
       "      <td>2017-07-20 00:00:00</td>\n",
       "      <td>Cheesman Park,Fifty-Two 80's,History Colorado ...</td>\n",
       "      <td>Blackfriars Friary,Santuario de Atotonilco,Her...</td>\n",
       "      <td>https://www.atlasobscura.com/places/internatio...</td>\n",
       "      <td>0.5337</td>\n",
       "      <td>Colorado</td>\n",
       "      <td>United States</td>\n",
       "    </tr>\n",
       "    <tr>\n",
       "      <th>6</th>\n",
       "      <td>House of Nicolas Flamel</td>\n",
       "      <td>alchemy,occult,magic,restaurants,houses,homes</td>\n",
       "      <td>646</td>\n",
       "      <td>3042</td>\n",
       "      <td>Strange symbols adorn the architecture at 51 r...</td>\n",
       "      <td>The oldest stone house in Paris was built by i...</td>\n",
       "      <td>Dans le Noir?,The Relic Crypt of St. Helena at...</td>\n",
       "      <td>51 rue de Montmorency Paris, 75003 France</td>\n",
       "      <td>48.8635</td>\n",
       "      <td>2.3531</td>\n",
       "      <td>Allison,kez7585,Peccable,Traveling Maven,Scott...</td>\n",
       "      <td>2014-01-26 00:00:00</td>\n",
       "      <td>The Relic Crypt of St. Helena at Église Saint-...</td>\n",
       "      <td>Boleskine House,Porta Alchemica,Faustův Dům (F...</td>\n",
       "      <td>https://www.atlasobscura.com/places/house-of-n...</td>\n",
       "      <td>0.5064</td>\n",
       "      <td>Île-de-France</td>\n",
       "      <td>France</td>\n",
       "    </tr>\n",
       "    <tr>\n",
       "      <th>7</th>\n",
       "      <td>Kensal Green Cemetery and Catacombs</td>\n",
       "      <td>memento mori,catacombs and crypts,cemeteries</td>\n",
       "      <td>516</td>\n",
       "      <td>2828</td>\n",
       "      <td>Kensal Green is the one of the oldest public b...</td>\n",
       "      <td>Winding paths and ramshackle mausoleums in the...</td>\n",
       "      <td>'Potteries and Piggeries' Bottle Kiln,Trellick...</td>\n",
       "      <td>Harrow Road London, England, W10 4RA United Ki...</td>\n",
       "      <td>51.5277</td>\n",
       "      <td>-0.2176</td>\n",
       "      <td>Annetta Black,Moriarty,Alberto,fokgc@signefied...</td>\n",
       "      <td>2009-10-26 00:00:00</td>\n",
       "      <td>Trellick Tower,Museum of Brands,'Potteries and...</td>\n",
       "      <td>Chauchilla Cemetery,Putim Ossuary,Most Holy Tr...</td>\n",
       "      <td>https://www.atlasobscura.com/places/kensal-gre...</td>\n",
       "      <td>0.4708</td>\n",
       "      <td>England</td>\n",
       "      <td>United Kingdom</td>\n",
       "    </tr>\n",
       "    <tr>\n",
       "      <th>8</th>\n",
       "      <td>Strahov Monastery</td>\n",
       "      <td>wonder cabinets,repositories of knowledge,sacr...</td>\n",
       "      <td>929</td>\n",
       "      <td>2647</td>\n",
       "      <td>Tucked away on the top of a hill in Prague is ...</td>\n",
       "      <td>Two stunning 17th-century libraries and a cabi...</td>\n",
       "      <td>Museum of Miniatures,Statue of St. Wilgefortis...</td>\n",
       "      <td>1 Strahovské nádvoří Prague, 118 00 Czechia</td>\n",
       "      <td>50.0861</td>\n",
       "      <td>14.3893</td>\n",
       "      <td>michelle,Jaszmina Szendrey,wurzeltod,Sebastian...</td>\n",
       "      <td>2009-09-10 00:00:00</td>\n",
       "      <td>Museum of Miniatures,Statue of St. Wilgefortis...</td>\n",
       "      <td>Namgyal Monastery,The Adventurers' Club of Los...</td>\n",
       "      <td>https://www.atlasobscura.com/places/strahov-mo...</td>\n",
       "      <td>0.4407</td>\n",
       "      <td>Praha</td>\n",
       "      <td>Česko</td>\n",
       "    </tr>\n",
       "    <tr>\n",
       "      <th>9</th>\n",
       "      <td>Cathedral of Our Lady of the Angels</td>\n",
       "      <td>relics,catacombs and crypts,churches,sacred sp...</td>\n",
       "      <td>966</td>\n",
       "      <td>2569</td>\n",
       "      <td>The Cathedral of Our Lady of the Angels is a 5...</td>\n",
       "      <td>Crypt mausoleum in cathedral's basement contai...</td>\n",
       "      <td>Bradbury Building,'América Tropical',Triforium</td>\n",
       "      <td>555 West Temple Street Los Angeles, California...</td>\n",
       "      <td>34.0577</td>\n",
       "      <td>-118.2449</td>\n",
       "      <td>anhie,Jaszmina Szendrey,Avoiding Regret,jDream...</td>\n",
       "      <td>2009-10-25 00:00:00</td>\n",
       "      <td>Triforium,'América Tropical',Bradbury Building...</td>\n",
       "      <td>San Thome Basilica,Santa Maria dell'Orazione e...</td>\n",
       "      <td>https://www.atlasobscura.com/places/cathedral-...</td>\n",
       "      <td>0.4277</td>\n",
       "      <td>California</td>\n",
       "      <td>United States</td>\n",
       "    </tr>\n",
       "  </tbody>\n",
       "</table>\n",
       "</div>"
      ],
      "text/plain": [
       "                                  placeName  \\\n",
       "0                               Dream House   \n",
       "1      The Ruins of St. Dunstan-in-the-East   \n",
       "2  Roosevelt Island Smallpox Hospital Ruins   \n",
       "3                            The Hardy Tree   \n",
       "4       Santa Maria della Concezione Crypts   \n",
       "5          International Church of Cannabis   \n",
       "6                   House of Nicolas Flamel   \n",
       "7       Kensal Green Cemetery and Catacombs   \n",
       "8                        Strahov Monastery    \n",
       "9       Cathedral of Our Lady of the Angels   \n",
       "\n",
       "                                           placeTags  numPeopleVisited  \\\n",
       "0  optical oddities,eccentric homes,music,outside...               765   \n",
       "1  gardens,world war ii,churches,plants,military,...              1884   \n",
       "2  smallpox,quarantine,abandoned hospitals,abando...              1709   \n",
       "3  ao loves halloween 2022,gravestones,trees,chur...               859   \n",
       "4  capuchins,marquis de sade,mark twain,ossuaries...              2070   \n",
       "5  cannabis,marijuana,drugs,religion,churches,sac...               607   \n",
       "6      alchemy,occult,magic,restaurants,houses,homes               646   \n",
       "7       memento mori,catacombs and crypts,cemeteries               516   \n",
       "8  wonder cabinets,repositories of knowledge,sacr...               929   \n",
       "9  relics,catacombs and crypts,churches,sacred sp...               966   \n",
       "\n",
       "   numPeopleWant                                          placeDesc  \\\n",
       "0           6007  When walking down Church Street in Tribeca, ke...   \n",
       "1           5754  The church of St.Dunstan-in-the-East has survi...   \n",
       "2           5153  Few diseases have had a greater impact on the ...   \n",
       "3           4042  Inside an ancient London churchyard, an ash tr...   \n",
       "4           3529  In 1775, the Marquis de Sade wrote of it, “I h...   \n",
       "5           3206  A Lutheran church has stood at 400 S Logan Str...   \n",
       "6           3042  Strange symbols adorn the architecture at 51 r...   \n",
       "7           2828  Kensal Green is the one of the oldest public b...   \n",
       "8           2647  Tucked away on the top of a hill in Prague is ...   \n",
       "9           2569  The Cathedral of Our Lady of the Angels is a 5...   \n",
       "\n",
       "                                      placeShortDesc  \\\n",
       "0  La Monte Young and Marian Zazeela's \"Dream Hou...   \n",
       "1  One of the few remaining casualties of the Lon...   \n",
       "2  A crumbling hospital from the 1850s on Rooseve...   \n",
       "3  This churchyard arbor is surrounded by hundred...   \n",
       "4  The crypts of Capuchin friars decorated with t...   \n",
       "5  A technicolor place of worship for Elevationis...   \n",
       "6  The oldest stone house in Paris was built by i...   \n",
       "7  Winding paths and ramshackle mausoleums in the...   \n",
       "8  Two stunning 17th-century libraries and a cabi...   \n",
       "9  Crypt mausoleum in cathedral's basement contai...   \n",
       "\n",
       "                                         placeNearby  \\\n",
       "0  Aretha Franklin Subway Tributes,Farm.One,The '...   \n",
       "1  Billingsgate Roman House and Baths,Pudding Lan...   \n",
       "2  United Nations Delegates Lounge,Roosevelt Isla...   \n",
       "3  Platform 9 3/4,Word on the Water,British Libra...   \n",
       "4  Saint Victoria's Incorruptible Body,Keats-Shel...   \n",
       "5  Fifty-Two 80's,Cheesman Park,History Colorado ...   \n",
       "6  Dans le Noir?,The Relic Crypt of St. Helena at...   \n",
       "7  'Potteries and Piggeries' Bottle Kiln,Trellick...   \n",
       "8  Museum of Miniatures,Statue of St. Wilgefortis...   \n",
       "9     Bradbury Building,'América Tropical',Triforium   \n",
       "\n",
       "                                         placeAdress  placeAlt  placeLong  \\\n",
       "0  275 Church St New York, New York, 10013 United...   40.7185   -74.0048   \n",
       "1  St. Dunstan-in-the-East St. Dunstan's Hill Lon...   51.5097    -0.0827   \n",
       "2  Roosevelt Island New York, New York, 10044 Uni...   40.7515   -73.9596   \n",
       "3  Pancras Road London, England, NW1 1UL United K...   51.5349    -0.1309   \n",
       "4          Via Vittorio Veneto, 27 Rome, 00187 Italy   41.9047    12.4882   \n",
       "5      400 S Logan St Denver, Colorado United States   39.7091  -104.9823   \n",
       "6          51 rue de Montmorency Paris, 75003 France   48.8635     2.3531   \n",
       "7  Harrow Road London, England, W10 4RA United Ki...   51.5277    -0.2176   \n",
       "8        1 Strahovské nádvoří Prague, 118 00 Czechia   50.0861    14.3893   \n",
       "9  555 West Temple Street Los Angeles, California...   34.0577  -118.2449   \n",
       "\n",
       "                                        placeEditors         placePubDate  \\\n",
       "0  seanmattison,mbison,Gray,Sofy,erosika,Blindcol...  2009-09-22 00:00:00   \n",
       "1  Luke J Spencer,Goksu,Kas,adamjerodandrews,Mons...  2015-03-12 00:00:00   \n",
       "2  Rebekah Otto,Sharon Blackstone,spavalice,mbiso...  2010-01-13 00:00:00   \n",
       "3  sarahvjanet,Pengwn,SEANETTA,giloscope,Stevren,...  2015-07-03 00:00:00   \n",
       "4  Dylan,mshkrvn,Annetta Black,The Dubious Hausfr...  2009-08-09 00:00:00   \n",
       "5  lewblank,Simon Jones,HighPriest,AngieSmangie,c...  2017-07-20 00:00:00   \n",
       "6  Allison,kez7585,Peccable,Traveling Maven,Scott...  2014-01-26 00:00:00   \n",
       "7  Annetta Black,Moriarty,Alberto,fokgc@signefied...  2009-10-26 00:00:00   \n",
       "8  michelle,Jaszmina Szendrey,wurzeltod,Sebastian...  2009-09-10 00:00:00   \n",
       "9  anhie,Jaszmina Szendrey,Avoiding Regret,jDream...  2009-10-25 00:00:00   \n",
       "\n",
       "                                    placeRelatedList  \\\n",
       "0  Aretha Franklin Subway Tributes,Farm.One,The '...   \n",
       "1  Billingsgate Roman House and Baths,Philpot Lan...   \n",
       "2  Roosevelt Island Cat Sanctuary,Strecker Memori...   \n",
       "3  Word on the Water,Platform 9 3/4,British Libra...   \n",
       "4  Keats-Shelley Memorial House,Zuccari Palace,Sa...   \n",
       "5  Cheesman Park,Fifty-Two 80's,History Colorado ...   \n",
       "6  The Relic Crypt of St. Helena at Église Saint-...   \n",
       "7  Trellick Tower,Museum of Brands,'Potteries and...   \n",
       "8  Museum of Miniatures,Statue of St. Wilgefortis...   \n",
       "9  Triforium,'América Tropical',Bradbury Building...   \n",
       "\n",
       "                                   placeRelatedPlace  \\\n",
       "0  Callejon de Hamel,Casa Neverlandia,Casa de Azu...   \n",
       "1  Kaiser Wilhelm Memorial Church,Ruins of Holyro...   \n",
       "2  Ruins of Lazaretto de Isla de Cabras,Glenn Dal...   \n",
       "3  Convento de la Santa Cruz (Convent of Santa Cr...   \n",
       "4  The Czech's Capuchin Crypt,Santa Maria dell'Or...   \n",
       "5  Blackfriars Friary,Santuario de Atotonilco,Her...   \n",
       "6  Boleskine House,Porta Alchemica,Faustův Dům (F...   \n",
       "7  Chauchilla Cemetery,Putim Ossuary,Most Holy Tr...   \n",
       "8  Namgyal Monastery,The Adventurers' Club of Los...   \n",
       "9  San Thome Basilica,Santa Maria dell'Orazione e...   \n",
       "\n",
       "                                            placeURL  scores     city/state  \\\n",
       "0    https://www.atlasobscura.com/places/dream-house  1.0000       New York   \n",
       "1  https://www.atlasobscura.com/places/the-ruins-...  0.9579        England   \n",
       "2  https://www.atlasobscura.com/places/roosevelt-...  0.8578       New York   \n",
       "3  https://www.atlasobscura.com/places/the-hardy-...  0.6729        England   \n",
       "4  https://www.atlasobscura.com/places/santa-mari...  0.5875          Lazio   \n",
       "5  https://www.atlasobscura.com/places/internatio...  0.5337       Colorado   \n",
       "6  https://www.atlasobscura.com/places/house-of-n...  0.5064  Île-de-France   \n",
       "7  https://www.atlasobscura.com/places/kensal-gre...  0.4708        England   \n",
       "8  https://www.atlasobscura.com/places/strahov-mo...  0.4407          Praha   \n",
       "9  https://www.atlasobscura.com/places/cathedral-...  0.4277     California   \n",
       "\n",
       "          country  \n",
       "0   United States  \n",
       "1  United Kingdom  \n",
       "2   United States  \n",
       "3  United Kingdom  \n",
       "4          Italia  \n",
       "5   United States  \n",
       "6          France  \n",
       "7  United Kingdom  \n",
       "8           Česko  \n",
       "9   United States  "
      ]
     },
     "execution_count": 16,
     "metadata": {},
     "output_type": "execute_result"
    }
   ],
   "source": [
    "resquery.reset_index(inplace = True, drop=True)\n",
    "city=[]\n",
    "country=[]\n",
    "for i in range(resquery.shape[0]):\n",
    "    lat = resquery.placeAlt[i]\n",
    "    lon = resquery.placeLong[i]\n",
    "    location = geolocator.reverse(str(lat)+\",\"+str(lon))\n",
    "    address = location.raw['address']\n",
    "    city.append(address.get('state', ''))\n",
    "    country.append(address.get('country', ''))\n",
    "    \n",
    "    \n",
    "#print(city,country)\n",
    "resquery.insert(resquery.shape[1], \"city/state\", city)\n",
    "resquery.insert(resquery.shape[1], \"country\", country)\n"
   ]
  },
  {
   "cell_type": "code",
   "execution_count": 17,
   "metadata": {},
   "outputs": [
    {
     "name": "stdout",
     "output_type": "stream",
     "text": [
      "(10, 18)\n"
     ]
    }
   ],
   "source": [
    "print(resquery.shape)"
   ]
  },
  {
   "cell_type": "code",
   "execution_count": 23,
   "metadata": {},
   "outputs": [
    {
     "data": {
      "application/vnd.plotly.v1+json": {
       "config": {
        "plotlyServerURL": "https://plot.ly"
       },
       "data": [
        {
         "customdata": [
          [
           "275 Church St New York, New York, 10013 United States",
           "New York"
          ],
          [
           "Roosevelt Island New York, New York, 10044 United States",
           "New York"
          ],
          [
           "400 S Logan St Denver, Colorado United States",
           "Colorado"
          ],
          [
           "555 West Temple Street Los Angeles, California, 90012 United States",
           "California"
          ]
         ],
         "geo": "geo",
         "hovertemplate": "<b>%{hovertext}</b><br><br>country=United States<br>number of people who visited this place=%{marker.size}<br>latitude=%{lat}<br>longitude=%{lon}<br>adress=%{customdata[0]}<br>city/state=%{customdata[1]}<extra></extra>",
         "hovertext": [
          "Dream House",
          "Roosevelt Island Smallpox Hospital Ruins",
          "International Church of Cannabis",
          "Cathedral of Our Lady of the Angels"
         ],
         "lat": [
          40.7185,
          40.7515,
          39.7091,
          34.0577
         ],
         "legendgroup": "United States",
         "lon": [
          -74.0048,
          -73.9596,
          -104.9823,
          -118.2449
         ],
         "marker": {
          "color": "#636efa",
          "size": [
           765,
           1709,
           607,
           966
          ],
          "sizemode": "area",
          "sizeref": 5.175,
          "symbol": "circle"
         },
         "mode": "markers",
         "name": "United States",
         "showlegend": true,
         "type": "scattergeo"
        },
        {
         "customdata": [
          [
           "St. Dunstan-in-the-East St. Dunstan's Hill London, England, EC3R 8PP",
           "England"
          ],
          [
           "Pancras Road London, England, NW1 1UL United Kingdom",
           "England"
          ],
          [
           "Harrow Road London, England, W10 4RA United Kingdom",
           "England"
          ]
         ],
         "geo": "geo",
         "hovertemplate": "<b>%{hovertext}</b><br><br>country=United Kingdom<br>number of people who visited this place=%{marker.size}<br>latitude=%{lat}<br>longitude=%{lon}<br>adress=%{customdata[0]}<br>city/state=%{customdata[1]}<extra></extra>",
         "hovertext": [
          "The Ruins of St. Dunstan-in-the-East",
          "The Hardy Tree",
          "Kensal Green Cemetery and Catacombs"
         ],
         "lat": [
          51.5097,
          51.5349,
          51.5277
         ],
         "legendgroup": "United Kingdom",
         "lon": [
          -0.0827,
          -0.1309,
          -0.2176
         ],
         "marker": {
          "color": "#EF553B",
          "size": [
           1884,
           859,
           516
          ],
          "sizemode": "area",
          "sizeref": 5.175,
          "symbol": "circle"
         },
         "mode": "markers",
         "name": "United Kingdom",
         "showlegend": true,
         "type": "scattergeo"
        },
        {
         "customdata": [
          [
           "Via Vittorio Veneto, 27 Rome, 00187 Italy",
           "Lazio"
          ]
         ],
         "geo": "geo",
         "hovertemplate": "<b>%{hovertext}</b><br><br>country=Italia<br>number of people who visited this place=%{marker.size}<br>latitude=%{lat}<br>longitude=%{lon}<br>adress=%{customdata[0]}<br>city/state=%{customdata[1]}<extra></extra>",
         "hovertext": [
          "Santa Maria della Concezione Crypts"
         ],
         "lat": [
          41.9047
         ],
         "legendgroup": "Italia",
         "lon": [
          12.4882
         ],
         "marker": {
          "color": "#00cc96",
          "size": [
           2070
          ],
          "sizemode": "area",
          "sizeref": 5.175,
          "symbol": "circle"
         },
         "mode": "markers",
         "name": "Italia",
         "showlegend": true,
         "type": "scattergeo"
        },
        {
         "customdata": [
          [
           " 51 rue de Montmorency Paris, 75003 France",
           "Île-de-France"
          ]
         ],
         "geo": "geo",
         "hovertemplate": "<b>%{hovertext}</b><br><br>country=France<br>number of people who visited this place=%{marker.size}<br>latitude=%{lat}<br>longitude=%{lon}<br>adress=%{customdata[0]}<br>city/state=%{customdata[1]}<extra></extra>",
         "hovertext": [
          "House of Nicolas Flamel"
         ],
         "lat": [
          48.8635
         ],
         "legendgroup": "France",
         "lon": [
          2.3531
         ],
         "marker": {
          "color": "#ab63fa",
          "size": [
           646
          ],
          "sizemode": "area",
          "sizeref": 5.175,
          "symbol": "circle"
         },
         "mode": "markers",
         "name": "France",
         "showlegend": true,
         "type": "scattergeo"
        },
        {
         "customdata": [
          [
           "1 Strahovské nádvoří Prague, 118 00 Czechia",
           "Praha"
          ]
         ],
         "geo": "geo",
         "hovertemplate": "<b>%{hovertext}</b><br><br>country=Česko<br>number of people who visited this place=%{marker.size}<br>latitude=%{lat}<br>longitude=%{lon}<br>adress=%{customdata[0]}<br>city/state=%{customdata[1]}<extra></extra>",
         "hovertext": [
          "Strahov Monastery "
         ],
         "lat": [
          50.0861
         ],
         "legendgroup": "Česko",
         "lon": [
          14.3893
         ],
         "marker": {
          "color": "#FFA15A",
          "size": [
           929
          ],
          "sizemode": "area",
          "sizeref": 5.175,
          "symbol": "circle"
         },
         "mode": "markers",
         "name": "Česko",
         "showlegend": true,
         "type": "scattergeo"
        }
       ],
       "layout": {
        "geo": {
         "center": {},
         "domain": {
          "x": [
           0,
           1
          ],
          "y": [
           0,
           1
          ]
         },
         "projection": {
          "type": "natural earth"
         }
        },
        "legend": {
         "itemsizing": "constant",
         "title": {
          "text": "country"
         },
         "tracegroupgap": 0
        },
        "margin": {
         "t": 60
        },
        "template": {
         "data": {
          "bar": [
           {
            "error_x": {
             "color": "#2a3f5f"
            },
            "error_y": {
             "color": "#2a3f5f"
            },
            "marker": {
             "line": {
              "color": "#E5ECF6",
              "width": 0.5
             },
             "pattern": {
              "fillmode": "overlay",
              "size": 10,
              "solidity": 0.2
             }
            },
            "type": "bar"
           }
          ],
          "barpolar": [
           {
            "marker": {
             "line": {
              "color": "#E5ECF6",
              "width": 0.5
             },
             "pattern": {
              "fillmode": "overlay",
              "size": 10,
              "solidity": 0.2
             }
            },
            "type": "barpolar"
           }
          ],
          "carpet": [
           {
            "aaxis": {
             "endlinecolor": "#2a3f5f",
             "gridcolor": "white",
             "linecolor": "white",
             "minorgridcolor": "white",
             "startlinecolor": "#2a3f5f"
            },
            "baxis": {
             "endlinecolor": "#2a3f5f",
             "gridcolor": "white",
             "linecolor": "white",
             "minorgridcolor": "white",
             "startlinecolor": "#2a3f5f"
            },
            "type": "carpet"
           }
          ],
          "choropleth": [
           {
            "colorbar": {
             "outlinewidth": 0,
             "ticks": ""
            },
            "type": "choropleth"
           }
          ],
          "contour": [
           {
            "colorbar": {
             "outlinewidth": 0,
             "ticks": ""
            },
            "colorscale": [
             [
              0,
              "#0d0887"
             ],
             [
              0.1111111111111111,
              "#46039f"
             ],
             [
              0.2222222222222222,
              "#7201a8"
             ],
             [
              0.3333333333333333,
              "#9c179e"
             ],
             [
              0.4444444444444444,
              "#bd3786"
             ],
             [
              0.5555555555555556,
              "#d8576b"
             ],
             [
              0.6666666666666666,
              "#ed7953"
             ],
             [
              0.7777777777777778,
              "#fb9f3a"
             ],
             [
              0.8888888888888888,
              "#fdca26"
             ],
             [
              1,
              "#f0f921"
             ]
            ],
            "type": "contour"
           }
          ],
          "contourcarpet": [
           {
            "colorbar": {
             "outlinewidth": 0,
             "ticks": ""
            },
            "type": "contourcarpet"
           }
          ],
          "heatmap": [
           {
            "colorbar": {
             "outlinewidth": 0,
             "ticks": ""
            },
            "colorscale": [
             [
              0,
              "#0d0887"
             ],
             [
              0.1111111111111111,
              "#46039f"
             ],
             [
              0.2222222222222222,
              "#7201a8"
             ],
             [
              0.3333333333333333,
              "#9c179e"
             ],
             [
              0.4444444444444444,
              "#bd3786"
             ],
             [
              0.5555555555555556,
              "#d8576b"
             ],
             [
              0.6666666666666666,
              "#ed7953"
             ],
             [
              0.7777777777777778,
              "#fb9f3a"
             ],
             [
              0.8888888888888888,
              "#fdca26"
             ],
             [
              1,
              "#f0f921"
             ]
            ],
            "type": "heatmap"
           }
          ],
          "heatmapgl": [
           {
            "colorbar": {
             "outlinewidth": 0,
             "ticks": ""
            },
            "colorscale": [
             [
              0,
              "#0d0887"
             ],
             [
              0.1111111111111111,
              "#46039f"
             ],
             [
              0.2222222222222222,
              "#7201a8"
             ],
             [
              0.3333333333333333,
              "#9c179e"
             ],
             [
              0.4444444444444444,
              "#bd3786"
             ],
             [
              0.5555555555555556,
              "#d8576b"
             ],
             [
              0.6666666666666666,
              "#ed7953"
             ],
             [
              0.7777777777777778,
              "#fb9f3a"
             ],
             [
              0.8888888888888888,
              "#fdca26"
             ],
             [
              1,
              "#f0f921"
             ]
            ],
            "type": "heatmapgl"
           }
          ],
          "histogram": [
           {
            "marker": {
             "pattern": {
              "fillmode": "overlay",
              "size": 10,
              "solidity": 0.2
             }
            },
            "type": "histogram"
           }
          ],
          "histogram2d": [
           {
            "colorbar": {
             "outlinewidth": 0,
             "ticks": ""
            },
            "colorscale": [
             [
              0,
              "#0d0887"
             ],
             [
              0.1111111111111111,
              "#46039f"
             ],
             [
              0.2222222222222222,
              "#7201a8"
             ],
             [
              0.3333333333333333,
              "#9c179e"
             ],
             [
              0.4444444444444444,
              "#bd3786"
             ],
             [
              0.5555555555555556,
              "#d8576b"
             ],
             [
              0.6666666666666666,
              "#ed7953"
             ],
             [
              0.7777777777777778,
              "#fb9f3a"
             ],
             [
              0.8888888888888888,
              "#fdca26"
             ],
             [
              1,
              "#f0f921"
             ]
            ],
            "type": "histogram2d"
           }
          ],
          "histogram2dcontour": [
           {
            "colorbar": {
             "outlinewidth": 0,
             "ticks": ""
            },
            "colorscale": [
             [
              0,
              "#0d0887"
             ],
             [
              0.1111111111111111,
              "#46039f"
             ],
             [
              0.2222222222222222,
              "#7201a8"
             ],
             [
              0.3333333333333333,
              "#9c179e"
             ],
             [
              0.4444444444444444,
              "#bd3786"
             ],
             [
              0.5555555555555556,
              "#d8576b"
             ],
             [
              0.6666666666666666,
              "#ed7953"
             ],
             [
              0.7777777777777778,
              "#fb9f3a"
             ],
             [
              0.8888888888888888,
              "#fdca26"
             ],
             [
              1,
              "#f0f921"
             ]
            ],
            "type": "histogram2dcontour"
           }
          ],
          "mesh3d": [
           {
            "colorbar": {
             "outlinewidth": 0,
             "ticks": ""
            },
            "type": "mesh3d"
           }
          ],
          "parcoords": [
           {
            "line": {
             "colorbar": {
              "outlinewidth": 0,
              "ticks": ""
             }
            },
            "type": "parcoords"
           }
          ],
          "pie": [
           {
            "automargin": true,
            "type": "pie"
           }
          ],
          "scatter": [
           {
            "marker": {
             "colorbar": {
              "outlinewidth": 0,
              "ticks": ""
             }
            },
            "type": "scatter"
           }
          ],
          "scatter3d": [
           {
            "line": {
             "colorbar": {
              "outlinewidth": 0,
              "ticks": ""
             }
            },
            "marker": {
             "colorbar": {
              "outlinewidth": 0,
              "ticks": ""
             }
            },
            "type": "scatter3d"
           }
          ],
          "scattercarpet": [
           {
            "marker": {
             "colorbar": {
              "outlinewidth": 0,
              "ticks": ""
             }
            },
            "type": "scattercarpet"
           }
          ],
          "scattergeo": [
           {
            "marker": {
             "colorbar": {
              "outlinewidth": 0,
              "ticks": ""
             }
            },
            "type": "scattergeo"
           }
          ],
          "scattergl": [
           {
            "marker": {
             "colorbar": {
              "outlinewidth": 0,
              "ticks": ""
             }
            },
            "type": "scattergl"
           }
          ],
          "scattermapbox": [
           {
            "marker": {
             "colorbar": {
              "outlinewidth": 0,
              "ticks": ""
             }
            },
            "type": "scattermapbox"
           }
          ],
          "scatterpolar": [
           {
            "marker": {
             "colorbar": {
              "outlinewidth": 0,
              "ticks": ""
             }
            },
            "type": "scatterpolar"
           }
          ],
          "scatterpolargl": [
           {
            "marker": {
             "colorbar": {
              "outlinewidth": 0,
              "ticks": ""
             }
            },
            "type": "scatterpolargl"
           }
          ],
          "scatterternary": [
           {
            "marker": {
             "colorbar": {
              "outlinewidth": 0,
              "ticks": ""
             }
            },
            "type": "scatterternary"
           }
          ],
          "surface": [
           {
            "colorbar": {
             "outlinewidth": 0,
             "ticks": ""
            },
            "colorscale": [
             [
              0,
              "#0d0887"
             ],
             [
              0.1111111111111111,
              "#46039f"
             ],
             [
              0.2222222222222222,
              "#7201a8"
             ],
             [
              0.3333333333333333,
              "#9c179e"
             ],
             [
              0.4444444444444444,
              "#bd3786"
             ],
             [
              0.5555555555555556,
              "#d8576b"
             ],
             [
              0.6666666666666666,
              "#ed7953"
             ],
             [
              0.7777777777777778,
              "#fb9f3a"
             ],
             [
              0.8888888888888888,
              "#fdca26"
             ],
             [
              1,
              "#f0f921"
             ]
            ],
            "type": "surface"
           }
          ],
          "table": [
           {
            "cells": {
             "fill": {
              "color": "#EBF0F8"
             },
             "line": {
              "color": "white"
             }
            },
            "header": {
             "fill": {
              "color": "#C8D4E3"
             },
             "line": {
              "color": "white"
             }
            },
            "type": "table"
           }
          ]
         },
         "layout": {
          "annotationdefaults": {
           "arrowcolor": "#2a3f5f",
           "arrowhead": 0,
           "arrowwidth": 1
          },
          "autotypenumbers": "strict",
          "coloraxis": {
           "colorbar": {
            "outlinewidth": 0,
            "ticks": ""
           }
          },
          "colorscale": {
           "diverging": [
            [
             0,
             "#8e0152"
            ],
            [
             0.1,
             "#c51b7d"
            ],
            [
             0.2,
             "#de77ae"
            ],
            [
             0.3,
             "#f1b6da"
            ],
            [
             0.4,
             "#fde0ef"
            ],
            [
             0.5,
             "#f7f7f7"
            ],
            [
             0.6,
             "#e6f5d0"
            ],
            [
             0.7,
             "#b8e186"
            ],
            [
             0.8,
             "#7fbc41"
            ],
            [
             0.9,
             "#4d9221"
            ],
            [
             1,
             "#276419"
            ]
           ],
           "sequential": [
            [
             0,
             "#0d0887"
            ],
            [
             0.1111111111111111,
             "#46039f"
            ],
            [
             0.2222222222222222,
             "#7201a8"
            ],
            [
             0.3333333333333333,
             "#9c179e"
            ],
            [
             0.4444444444444444,
             "#bd3786"
            ],
            [
             0.5555555555555556,
             "#d8576b"
            ],
            [
             0.6666666666666666,
             "#ed7953"
            ],
            [
             0.7777777777777778,
             "#fb9f3a"
            ],
            [
             0.8888888888888888,
             "#fdca26"
            ],
            [
             1,
             "#f0f921"
            ]
           ],
           "sequentialminus": [
            [
             0,
             "#0d0887"
            ],
            [
             0.1111111111111111,
             "#46039f"
            ],
            [
             0.2222222222222222,
             "#7201a8"
            ],
            [
             0.3333333333333333,
             "#9c179e"
            ],
            [
             0.4444444444444444,
             "#bd3786"
            ],
            [
             0.5555555555555556,
             "#d8576b"
            ],
            [
             0.6666666666666666,
             "#ed7953"
            ],
            [
             0.7777777777777778,
             "#fb9f3a"
            ],
            [
             0.8888888888888888,
             "#fdca26"
            ],
            [
             1,
             "#f0f921"
            ]
           ]
          },
          "colorway": [
           "#636efa",
           "#EF553B",
           "#00cc96",
           "#ab63fa",
           "#FFA15A",
           "#19d3f3",
           "#FF6692",
           "#B6E880",
           "#FF97FF",
           "#FECB52"
          ],
          "font": {
           "color": "#2a3f5f"
          },
          "geo": {
           "bgcolor": "white",
           "lakecolor": "white",
           "landcolor": "#E5ECF6",
           "showlakes": true,
           "showland": true,
           "subunitcolor": "white"
          },
          "hoverlabel": {
           "align": "left"
          },
          "hovermode": "closest",
          "mapbox": {
           "style": "light"
          },
          "paper_bgcolor": "white",
          "plot_bgcolor": "#E5ECF6",
          "polar": {
           "angularaxis": {
            "gridcolor": "white",
            "linecolor": "white",
            "ticks": ""
           },
           "bgcolor": "#E5ECF6",
           "radialaxis": {
            "gridcolor": "white",
            "linecolor": "white",
            "ticks": ""
           }
          },
          "scene": {
           "xaxis": {
            "backgroundcolor": "#E5ECF6",
            "gridcolor": "white",
            "gridwidth": 2,
            "linecolor": "white",
            "showbackground": true,
            "ticks": "",
            "zerolinecolor": "white"
           },
           "yaxis": {
            "backgroundcolor": "#E5ECF6",
            "gridcolor": "white",
            "gridwidth": 2,
            "linecolor": "white",
            "showbackground": true,
            "ticks": "",
            "zerolinecolor": "white"
           },
           "zaxis": {
            "backgroundcolor": "#E5ECF6",
            "gridcolor": "white",
            "gridwidth": 2,
            "linecolor": "white",
            "showbackground": true,
            "ticks": "",
            "zerolinecolor": "white"
           }
          },
          "shapedefaults": {
           "line": {
            "color": "#2a3f5f"
           }
          },
          "ternary": {
           "aaxis": {
            "gridcolor": "white",
            "linecolor": "white",
            "ticks": ""
           },
           "baxis": {
            "gridcolor": "white",
            "linecolor": "white",
            "ticks": ""
           },
           "bgcolor": "#E5ECF6",
           "caxis": {
            "gridcolor": "white",
            "linecolor": "white",
            "ticks": ""
           }
          },
          "title": {
           "x": 0.05
          },
          "xaxis": {
           "automargin": true,
           "gridcolor": "white",
           "linecolor": "white",
           "ticks": "",
           "title": {
            "standoff": 15
           },
           "zerolinecolor": "white",
           "zerolinewidth": 2
          },
          "yaxis": {
           "automargin": true,
           "gridcolor": "white",
           "linecolor": "white",
           "ticks": "",
           "title": {
            "standoff": 15
           },
           "zerolinecolor": "white",
           "zerolinewidth": 2
          }
         }
        }
       }
      },
      "text/html": [
       "<div>                            <div id=\"d00986d9-3c84-4377-9af8-831236776a25\" class=\"plotly-graph-div\" style=\"height:525px; width:100%;\"></div>            <script type=\"text/javascript\">                require([\"plotly\"], function(Plotly) {                    window.PLOTLYENV=window.PLOTLYENV || {};                                    if (document.getElementById(\"d00986d9-3c84-4377-9af8-831236776a25\")) {                    Plotly.newPlot(                        \"d00986d9-3c84-4377-9af8-831236776a25\",                        [{\"customdata\":[[\"275 Church St New York, New York, 10013 United States\",\"New York\"],[\"Roosevelt Island New York, New York, 10044 United States\",\"New York\"],[\"400 S Logan St Denver, Colorado United States\",\"Colorado\"],[\"555 West Temple Street Los Angeles, California, 90012 United States\",\"California\"]],\"geo\":\"geo\",\"hovertemplate\":\"<b>%{hovertext}</b><br><br>country=United States<br>number of people who visited this place=%{marker.size}<br>latitude=%{lat}<br>longitude=%{lon}<br>adress=%{customdata[0]}<br>city/state=%{customdata[1]}<extra></extra>\",\"hovertext\":[\"Dream House\",\"Roosevelt Island Smallpox Hospital Ruins\",\"International Church of Cannabis\",\"Cathedral of Our Lady of the Angels\"],\"lat\":[40.7185,40.7515,39.7091,34.0577],\"legendgroup\":\"United States\",\"lon\":[-74.0048,-73.9596,-104.9823,-118.2449],\"marker\":{\"color\":\"#636efa\",\"size\":[765,1709,607,966],\"sizemode\":\"area\",\"sizeref\":5.175,\"symbol\":\"circle\"},\"mode\":\"markers\",\"name\":\"United States\",\"showlegend\":true,\"type\":\"scattergeo\"},{\"customdata\":[[\"St. Dunstan-in-the-East St. Dunstan's Hill London, England, EC3R 8PP\",\"England\"],[\"Pancras Road London, England, NW1 1UL United Kingdom\",\"England\"],[\"Harrow Road London, England, W10 4RA United Kingdom\",\"England\"]],\"geo\":\"geo\",\"hovertemplate\":\"<b>%{hovertext}</b><br><br>country=United Kingdom<br>number of people who visited this place=%{marker.size}<br>latitude=%{lat}<br>longitude=%{lon}<br>adress=%{customdata[0]}<br>city/state=%{customdata[1]}<extra></extra>\",\"hovertext\":[\"The Ruins of St. Dunstan-in-the-East\",\"The Hardy Tree\",\"Kensal Green Cemetery and Catacombs\"],\"lat\":[51.5097,51.5349,51.5277],\"legendgroup\":\"United Kingdom\",\"lon\":[-0.0827,-0.1309,-0.2176],\"marker\":{\"color\":\"#EF553B\",\"size\":[1884,859,516],\"sizemode\":\"area\",\"sizeref\":5.175,\"symbol\":\"circle\"},\"mode\":\"markers\",\"name\":\"United Kingdom\",\"showlegend\":true,\"type\":\"scattergeo\"},{\"customdata\":[[\"Via Vittorio Veneto, 27 Rome, 00187 Italy\",\"Lazio\"]],\"geo\":\"geo\",\"hovertemplate\":\"<b>%{hovertext}</b><br><br>country=Italia<br>number of people who visited this place=%{marker.size}<br>latitude=%{lat}<br>longitude=%{lon}<br>adress=%{customdata[0]}<br>city/state=%{customdata[1]}<extra></extra>\",\"hovertext\":[\"Santa Maria della Concezione Crypts\"],\"lat\":[41.9047],\"legendgroup\":\"Italia\",\"lon\":[12.4882],\"marker\":{\"color\":\"#00cc96\",\"size\":[2070],\"sizemode\":\"area\",\"sizeref\":5.175,\"symbol\":\"circle\"},\"mode\":\"markers\",\"name\":\"Italia\",\"showlegend\":true,\"type\":\"scattergeo\"},{\"customdata\":[[\" 51 rue de Montmorency Paris, 75003 France\",\"\\u00cele-de-France\"]],\"geo\":\"geo\",\"hovertemplate\":\"<b>%{hovertext}</b><br><br>country=France<br>number of people who visited this place=%{marker.size}<br>latitude=%{lat}<br>longitude=%{lon}<br>adress=%{customdata[0]}<br>city/state=%{customdata[1]}<extra></extra>\",\"hovertext\":[\"House of Nicolas Flamel\"],\"lat\":[48.8635],\"legendgroup\":\"France\",\"lon\":[2.3531],\"marker\":{\"color\":\"#ab63fa\",\"size\":[646],\"sizemode\":\"area\",\"sizeref\":5.175,\"symbol\":\"circle\"},\"mode\":\"markers\",\"name\":\"France\",\"showlegend\":true,\"type\":\"scattergeo\"},{\"customdata\":[[\"1 Strahovsk\\u00e9 n\\u00e1dvo\\u0159\\u00ed Prague, 118 00 Czechia\",\"Praha\"]],\"geo\":\"geo\",\"hovertemplate\":\"<b>%{hovertext}</b><br><br>country=\\u010cesko<br>number of people who visited this place=%{marker.size}<br>latitude=%{lat}<br>longitude=%{lon}<br>adress=%{customdata[0]}<br>city/state=%{customdata[1]}<extra></extra>\",\"hovertext\":[\"Strahov Monastery \"],\"lat\":[50.0861],\"legendgroup\":\"\\u010cesko\",\"lon\":[14.3893],\"marker\":{\"color\":\"#FFA15A\",\"size\":[929],\"sizemode\":\"area\",\"sizeref\":5.175,\"symbol\":\"circle\"},\"mode\":\"markers\",\"name\":\"\\u010cesko\",\"showlegend\":true,\"type\":\"scattergeo\"}],                        {\"template\":{\"data\":{\"bar\":[{\"error_x\":{\"color\":\"#2a3f5f\"},\"error_y\":{\"color\":\"#2a3f5f\"},\"marker\":{\"line\":{\"color\":\"#E5ECF6\",\"width\":0.5},\"pattern\":{\"fillmode\":\"overlay\",\"size\":10,\"solidity\":0.2}},\"type\":\"bar\"}],\"barpolar\":[{\"marker\":{\"line\":{\"color\":\"#E5ECF6\",\"width\":0.5},\"pattern\":{\"fillmode\":\"overlay\",\"size\":10,\"solidity\":0.2}},\"type\":\"barpolar\"}],\"carpet\":[{\"aaxis\":{\"endlinecolor\":\"#2a3f5f\",\"gridcolor\":\"white\",\"linecolor\":\"white\",\"minorgridcolor\":\"white\",\"startlinecolor\":\"#2a3f5f\"},\"baxis\":{\"endlinecolor\":\"#2a3f5f\",\"gridcolor\":\"white\",\"linecolor\":\"white\",\"minorgridcolor\":\"white\",\"startlinecolor\":\"#2a3f5f\"},\"type\":\"carpet\"}],\"choropleth\":[{\"colorbar\":{\"outlinewidth\":0,\"ticks\":\"\"},\"type\":\"choropleth\"}],\"contour\":[{\"colorbar\":{\"outlinewidth\":0,\"ticks\":\"\"},\"colorscale\":[[0.0,\"#0d0887\"],[0.1111111111111111,\"#46039f\"],[0.2222222222222222,\"#7201a8\"],[0.3333333333333333,\"#9c179e\"],[0.4444444444444444,\"#bd3786\"],[0.5555555555555556,\"#d8576b\"],[0.6666666666666666,\"#ed7953\"],[0.7777777777777778,\"#fb9f3a\"],[0.8888888888888888,\"#fdca26\"],[1.0,\"#f0f921\"]],\"type\":\"contour\"}],\"contourcarpet\":[{\"colorbar\":{\"outlinewidth\":0,\"ticks\":\"\"},\"type\":\"contourcarpet\"}],\"heatmap\":[{\"colorbar\":{\"outlinewidth\":0,\"ticks\":\"\"},\"colorscale\":[[0.0,\"#0d0887\"],[0.1111111111111111,\"#46039f\"],[0.2222222222222222,\"#7201a8\"],[0.3333333333333333,\"#9c179e\"],[0.4444444444444444,\"#bd3786\"],[0.5555555555555556,\"#d8576b\"],[0.6666666666666666,\"#ed7953\"],[0.7777777777777778,\"#fb9f3a\"],[0.8888888888888888,\"#fdca26\"],[1.0,\"#f0f921\"]],\"type\":\"heatmap\"}],\"heatmapgl\":[{\"colorbar\":{\"outlinewidth\":0,\"ticks\":\"\"},\"colorscale\":[[0.0,\"#0d0887\"],[0.1111111111111111,\"#46039f\"],[0.2222222222222222,\"#7201a8\"],[0.3333333333333333,\"#9c179e\"],[0.4444444444444444,\"#bd3786\"],[0.5555555555555556,\"#d8576b\"],[0.6666666666666666,\"#ed7953\"],[0.7777777777777778,\"#fb9f3a\"],[0.8888888888888888,\"#fdca26\"],[1.0,\"#f0f921\"]],\"type\":\"heatmapgl\"}],\"histogram\":[{\"marker\":{\"pattern\":{\"fillmode\":\"overlay\",\"size\":10,\"solidity\":0.2}},\"type\":\"histogram\"}],\"histogram2d\":[{\"colorbar\":{\"outlinewidth\":0,\"ticks\":\"\"},\"colorscale\":[[0.0,\"#0d0887\"],[0.1111111111111111,\"#46039f\"],[0.2222222222222222,\"#7201a8\"],[0.3333333333333333,\"#9c179e\"],[0.4444444444444444,\"#bd3786\"],[0.5555555555555556,\"#d8576b\"],[0.6666666666666666,\"#ed7953\"],[0.7777777777777778,\"#fb9f3a\"],[0.8888888888888888,\"#fdca26\"],[1.0,\"#f0f921\"]],\"type\":\"histogram2d\"}],\"histogram2dcontour\":[{\"colorbar\":{\"outlinewidth\":0,\"ticks\":\"\"},\"colorscale\":[[0.0,\"#0d0887\"],[0.1111111111111111,\"#46039f\"],[0.2222222222222222,\"#7201a8\"],[0.3333333333333333,\"#9c179e\"],[0.4444444444444444,\"#bd3786\"],[0.5555555555555556,\"#d8576b\"],[0.6666666666666666,\"#ed7953\"],[0.7777777777777778,\"#fb9f3a\"],[0.8888888888888888,\"#fdca26\"],[1.0,\"#f0f921\"]],\"type\":\"histogram2dcontour\"}],\"mesh3d\":[{\"colorbar\":{\"outlinewidth\":0,\"ticks\":\"\"},\"type\":\"mesh3d\"}],\"parcoords\":[{\"line\":{\"colorbar\":{\"outlinewidth\":0,\"ticks\":\"\"}},\"type\":\"parcoords\"}],\"pie\":[{\"automargin\":true,\"type\":\"pie\"}],\"scatter\":[{\"marker\":{\"colorbar\":{\"outlinewidth\":0,\"ticks\":\"\"}},\"type\":\"scatter\"}],\"scatter3d\":[{\"line\":{\"colorbar\":{\"outlinewidth\":0,\"ticks\":\"\"}},\"marker\":{\"colorbar\":{\"outlinewidth\":0,\"ticks\":\"\"}},\"type\":\"scatter3d\"}],\"scattercarpet\":[{\"marker\":{\"colorbar\":{\"outlinewidth\":0,\"ticks\":\"\"}},\"type\":\"scattercarpet\"}],\"scattergeo\":[{\"marker\":{\"colorbar\":{\"outlinewidth\":0,\"ticks\":\"\"}},\"type\":\"scattergeo\"}],\"scattergl\":[{\"marker\":{\"colorbar\":{\"outlinewidth\":0,\"ticks\":\"\"}},\"type\":\"scattergl\"}],\"scattermapbox\":[{\"marker\":{\"colorbar\":{\"outlinewidth\":0,\"ticks\":\"\"}},\"type\":\"scattermapbox\"}],\"scatterpolar\":[{\"marker\":{\"colorbar\":{\"outlinewidth\":0,\"ticks\":\"\"}},\"type\":\"scatterpolar\"}],\"scatterpolargl\":[{\"marker\":{\"colorbar\":{\"outlinewidth\":0,\"ticks\":\"\"}},\"type\":\"scatterpolargl\"}],\"scatterternary\":[{\"marker\":{\"colorbar\":{\"outlinewidth\":0,\"ticks\":\"\"}},\"type\":\"scatterternary\"}],\"surface\":[{\"colorbar\":{\"outlinewidth\":0,\"ticks\":\"\"},\"colorscale\":[[0.0,\"#0d0887\"],[0.1111111111111111,\"#46039f\"],[0.2222222222222222,\"#7201a8\"],[0.3333333333333333,\"#9c179e\"],[0.4444444444444444,\"#bd3786\"],[0.5555555555555556,\"#d8576b\"],[0.6666666666666666,\"#ed7953\"],[0.7777777777777778,\"#fb9f3a\"],[0.8888888888888888,\"#fdca26\"],[1.0,\"#f0f921\"]],\"type\":\"surface\"}],\"table\":[{\"cells\":{\"fill\":{\"color\":\"#EBF0F8\"},\"line\":{\"color\":\"white\"}},\"header\":{\"fill\":{\"color\":\"#C8D4E3\"},\"line\":{\"color\":\"white\"}},\"type\":\"table\"}]},\"layout\":{\"annotationdefaults\":{\"arrowcolor\":\"#2a3f5f\",\"arrowhead\":0,\"arrowwidth\":1},\"autotypenumbers\":\"strict\",\"coloraxis\":{\"colorbar\":{\"outlinewidth\":0,\"ticks\":\"\"}},\"colorscale\":{\"diverging\":[[0,\"#8e0152\"],[0.1,\"#c51b7d\"],[0.2,\"#de77ae\"],[0.3,\"#f1b6da\"],[0.4,\"#fde0ef\"],[0.5,\"#f7f7f7\"],[0.6,\"#e6f5d0\"],[0.7,\"#b8e186\"],[0.8,\"#7fbc41\"],[0.9,\"#4d9221\"],[1,\"#276419\"]],\"sequential\":[[0.0,\"#0d0887\"],[0.1111111111111111,\"#46039f\"],[0.2222222222222222,\"#7201a8\"],[0.3333333333333333,\"#9c179e\"],[0.4444444444444444,\"#bd3786\"],[0.5555555555555556,\"#d8576b\"],[0.6666666666666666,\"#ed7953\"],[0.7777777777777778,\"#fb9f3a\"],[0.8888888888888888,\"#fdca26\"],[1.0,\"#f0f921\"]],\"sequentialminus\":[[0.0,\"#0d0887\"],[0.1111111111111111,\"#46039f\"],[0.2222222222222222,\"#7201a8\"],[0.3333333333333333,\"#9c179e\"],[0.4444444444444444,\"#bd3786\"],[0.5555555555555556,\"#d8576b\"],[0.6666666666666666,\"#ed7953\"],[0.7777777777777778,\"#fb9f3a\"],[0.8888888888888888,\"#fdca26\"],[1.0,\"#f0f921\"]]},\"colorway\":[\"#636efa\",\"#EF553B\",\"#00cc96\",\"#ab63fa\",\"#FFA15A\",\"#19d3f3\",\"#FF6692\",\"#B6E880\",\"#FF97FF\",\"#FECB52\"],\"font\":{\"color\":\"#2a3f5f\"},\"geo\":{\"bgcolor\":\"white\",\"lakecolor\":\"white\",\"landcolor\":\"#E5ECF6\",\"showlakes\":true,\"showland\":true,\"subunitcolor\":\"white\"},\"hoverlabel\":{\"align\":\"left\"},\"hovermode\":\"closest\",\"mapbox\":{\"style\":\"light\"},\"paper_bgcolor\":\"white\",\"plot_bgcolor\":\"#E5ECF6\",\"polar\":{\"angularaxis\":{\"gridcolor\":\"white\",\"linecolor\":\"white\",\"ticks\":\"\"},\"bgcolor\":\"#E5ECF6\",\"radialaxis\":{\"gridcolor\":\"white\",\"linecolor\":\"white\",\"ticks\":\"\"}},\"scene\":{\"xaxis\":{\"backgroundcolor\":\"#E5ECF6\",\"gridcolor\":\"white\",\"gridwidth\":2,\"linecolor\":\"white\",\"showbackground\":true,\"ticks\":\"\",\"zerolinecolor\":\"white\"},\"yaxis\":{\"backgroundcolor\":\"#E5ECF6\",\"gridcolor\":\"white\",\"gridwidth\":2,\"linecolor\":\"white\",\"showbackground\":true,\"ticks\":\"\",\"zerolinecolor\":\"white\"},\"zaxis\":{\"backgroundcolor\":\"#E5ECF6\",\"gridcolor\":\"white\",\"gridwidth\":2,\"linecolor\":\"white\",\"showbackground\":true,\"ticks\":\"\",\"zerolinecolor\":\"white\"}},\"shapedefaults\":{\"line\":{\"color\":\"#2a3f5f\"}},\"ternary\":{\"aaxis\":{\"gridcolor\":\"white\",\"linecolor\":\"white\",\"ticks\":\"\"},\"baxis\":{\"gridcolor\":\"white\",\"linecolor\":\"white\",\"ticks\":\"\"},\"bgcolor\":\"#E5ECF6\",\"caxis\":{\"gridcolor\":\"white\",\"linecolor\":\"white\",\"ticks\":\"\"}},\"title\":{\"x\":0.05},\"xaxis\":{\"automargin\":true,\"gridcolor\":\"white\",\"linecolor\":\"white\",\"ticks\":\"\",\"title\":{\"standoff\":15},\"zerolinecolor\":\"white\",\"zerolinewidth\":2},\"yaxis\":{\"automargin\":true,\"gridcolor\":\"white\",\"linecolor\":\"white\",\"ticks\":\"\",\"title\":{\"standoff\":15},\"zerolinecolor\":\"white\",\"zerolinewidth\":2}}},\"geo\":{\"domain\":{\"x\":[0.0,1.0],\"y\":[0.0,1.0]},\"projection\":{\"type\":\"natural earth\"},\"center\":{}},\"legend\":{\"title\":{\"text\":\"country\"},\"tracegroupgap\":0,\"itemsizing\":\"constant\"},\"margin\":{\"t\":60}},                        {\"responsive\": true}                    ).then(function(){\n",
       "                            \n",
       "var gd = document.getElementById('d00986d9-3c84-4377-9af8-831236776a25');\n",
       "var x = new MutationObserver(function (mutations, observer) {{\n",
       "        var display = window.getComputedStyle(gd).display;\n",
       "        if (!display || display === 'none') {{\n",
       "            console.log([gd, 'removed!']);\n",
       "            Plotly.purge(gd);\n",
       "            observer.disconnect();\n",
       "        }}\n",
       "}});\n",
       "\n",
       "// Listen for the removal of the full notebook cells\n",
       "var notebookContainer = gd.closest('#notebook-container');\n",
       "if (notebookContainer) {{\n",
       "    x.observe(notebookContainer, {childList: true});\n",
       "}}\n",
       "\n",
       "// Listen for the clearing of the current output cell\n",
       "var outputEl = gd.closest('.output');\n",
       "if (outputEl) {{\n",
       "    x.observe(outputEl, {childList: true});\n",
       "}}\n",
       "\n",
       "                        })                };                });            </script>        </div>"
      ]
     },
     "metadata": {},
     "output_type": "display_data"
    }
   ],
   "source": [
    "import plotly.express as px\n",
    "import plotly.graph_objs as go\n",
    "\n",
    "fig = px.scatter_geo(resquery,lat=\"placeAlt\", lon=\"placeLong\",\n",
    "                     size=\"numPeopleVisited\", color=\"country\",\n",
    "                     projection=\"natural earth\",\n",
    "                     labels={'placeAlt':'latitude','placeLong':'longitude','placeAdress':'adress','numPeopleVisited':'number of people who visited this place'},\n",
    "                     hover_data=[\"placeAdress\",\"city/state\"],hover_name=\"placeName\")\n",
    "fig.show()"
   ]
  },
  {
   "cell_type": "markdown",
   "metadata": {},
   "source": [
    "#### command line"
   ]
  },
  {
   "cell_type": "code",
   "execution_count": 102,
   "metadata": {},
   "outputs": [
    {
     "name": "stdout",
     "output_type": "stream",
     "text": [
      "Total number of places in Italy: 182\n",
      "The average of visitors in Italy: 68791\n",
      "Who wants to visit England (in total): 152906\n",
      "\n",
      "Total number of places in Spain: 82\n",
      "The average of visitors in Spain: 212\n",
      "Who wants to visit England (in total): 64587\n",
      "\n",
      "Total number of places in France: 188\n",
      "The average of visitors in France: 446\n",
      "Who wants to visit France (in total): 189973\n",
      "\n",
      "Total number of places in England: 367\n",
      "The average of visitors in England: 476\n",
      "Who wants to visit England (in total): 389820\n",
      "\n",
      "Total number of places in the United States: 4234\n",
      "The average of visitors in United States: 431\n",
      "Who wants to visit United States (in total): 3966022\n",
      "\n"
     ]
    }
   ],
   "source": [
    "#Command Line question\n",
    "forCommandLine = data[data[\"placeAdress\"].str.contains(\"Italy\")]\n",
    "print(\"Total number of places in Italy:\", len(forCommandLine))\n",
    "print(\"The average of visitors in Italy:\", int((forCommandLine[\"numPeopleVisited\"].sum())))\n",
    "print(\"Who wants to visit England (in total):\", forCommandLine[\"numPeopleWant\"].sum())\n",
    "print()\n",
    "\n",
    "forCommandLine2 = data[data[\"placeAdress\"].str.contains(\"Spain\")]\n",
    "print(\"Total number of places in Spain:\", len(forCommandLine2))\n",
    "print(\"The average of visitors in Spain:\", int((forCommandLine2[\"numPeopleVisited\"].sum())/len(forCommandLine)))\n",
    "print(\"Who wants to visit England (in total):\", forCommandLine2[\"numPeopleWant\"].sum())\n",
    "print()\n",
    "\n",
    "\n",
    "forCommandLine3 = data[data[\"placeAdress\"].str.contains(\"France\")]\n",
    "print(\"Total number of places in France:\", len(forCommandLine3))\n",
    "print(\"The average of visitors in France:\", int((forCommandLine3[\"numPeopleVisited\"].sum())/len(forCommandLine)))\n",
    "print(\"Who wants to visit France (in total):\", forCommandLine3[\"numPeopleWant\"].sum())\n",
    "print()\n",
    "\n",
    "\n",
    "forCommandLine4 = data[data[\"placeAdress\"].str.contains(\"England\")]\n",
    "print(\"Total number of places in England:\", len(forCommandLine4))\n",
    "print(\"The average of visitors in England:\", int((forCommandLine4[\"numPeopleVisited\"].sum())/len(forCommandLine4)))\n",
    "print(\"Who wants to visit England (in total):\", forCommandLine4[\"numPeopleWant\"].sum())\n",
    "print()\n",
    "\n",
    "\n",
    "\n",
    "forCommandLine5 = data[data[\"placeAdress\"].str.contains(\"United States\")]\n",
    "print(\"Total number of places in the United States:\", len(forCommandLine5))\n",
    "print(\"The average of visitors in United States:\", int((forCommandLine5[\"numPeopleVisited\"].sum())/len(forCommandLine5)))\n",
    "print(\"Who wants to visit United States (in total):\", forCommandLine5[\"numPeopleWant\"].sum())\n",
    "print()"
   ]
  },
  {
   "cell_type": "markdown",
   "metadata": {},
   "source": [
    "## 5 Bonus Question"
   ]
  },
  {
   "cell_type": "code",
   "execution_count": 3,
   "metadata": {},
   "outputs": [],
   "source": [
    "from sklearn.feature_extraction.text import TfidfVectorizer"
   ]
  },
  {
   "cell_type": "code",
   "execution_count": null,
   "metadata": {},
   "outputs": [],
   "source": [
    "#TODO\n",
    "#Gestisci il caso in cui non siano tutti e tre, come caloli il final score?\n",
    "#gestisci il caso inc ui una parola non sia nel documento (=print(parola non presente in nessun documento))\n",
    "#Ottimizzazione: carica i dizionari al posto di prenderli sempre"
   ]
  },
  {
   "cell_type": "code",
   "execution_count": 75,
   "metadata": {},
   "outputs": [],
   "source": [
    "#The function cleaning takes as input a string (a description) and returns the cleaned description as a list of strings\n",
    "data['cleanName'] = data.placeName.apply(lambda row: \" \".join(cleaning(row)))"
   ]
  },
  {
   "cell_type": "code",
   "execution_count": 78,
   "metadata": {},
   "outputs": [],
   "source": [
    "#The function cleaning takes as input a string (a description) and returns the cleaned description as a list of strings\n",
    "data['cleanAdress'] = data.placeAdress.apply(lambda row: \" \".join(cleaning(row)))"
   ]
  },
  {
   "cell_type": "code",
   "execution_count": 156,
   "metadata": {},
   "outputs": [],
   "source": [
    "def query_function(data, nameCol,q):\n",
    "    dic1 = createFirstDic(data, nameCol)\n",
    "    dic2 = createSecondDic(data, dic1, nameCol)\n",
    "    s = query(q,dic1,dic2)\n",
    "    return s"
   ]
  },
  {
   "cell_type": "code",
   "execution_count": 157,
   "metadata": {},
   "outputs": [],
   "source": [
    "def complex_query(data):\n",
    "    boolDesc = False\n",
    "    boolName = False\n",
    "    boolAdress = False\n",
    "\n",
    "    set_list = []\n",
    "    q_list = []\n",
    "    q1 = input('Insert the query that you want to find in the places descriptions: [if you dont want to search for anything just press Enter]')\n",
    "    if q1 != \"\":\n",
    "        boolDesc = True\n",
    "        q1_clean = cleaning(q1)\n",
    "        set_list.append(query_function(data, \"cleanDesc\", q1_clean))\n",
    "        q_list.append(q1_clean)\n",
    "    else:\n",
    "        q_list.append(\"\")\n",
    "\n",
    "    q2 = input('Insert the query that you want to find in the Names: [if you dont want to search for anything just press Enter]')\n",
    "    if q2 != \"\":\n",
    "        boolName = True\n",
    "        q2_clean = cleaning(q2)\n",
    "        set_list.append(query_function(data, \"cleanName\", q2_clean))\n",
    "        q_list.append(q2_clean)\n",
    "    else:\n",
    "        q_list.append(\"\")\n",
    "\n",
    "\n",
    "    q3 = input('Insert the query that you want to find in the Adress: [if you dont want to search for anything just press Enter]')\n",
    "    if q3 != \"\":\n",
    "        boolAdress = True\n",
    "        q3_clean = cleaning(q3)\n",
    "        set_list.append(query_function(data, \"cleanAdress\", q3_clean))\n",
    "        q_list.append(q3_clean)\n",
    "    else:\n",
    "        q_list.append(\"\")\n",
    "\n",
    "\n",
    "    bool_arr = [boolDesc, boolName, boolAdress]\n",
    "    return set_list, bool_arr, q_list"
   ]
  },
  {
   "cell_type": "code",
   "execution_count": 158,
   "metadata": {},
   "outputs": [],
   "source": [
    "def find_df_qv(data,q,colName):\n",
    "    vectorizer = TfidfVectorizer(use_idf=True, analyzer='word',sublinear_tf=True)\n",
    "    x =vectorizer.fit_transform(data[colName]).todense()\n",
    "    df = pd.DataFrame(x, columns = vectorizer.get_feature_names_out())\n",
    "    qv = vectorizer.transform([\" \".join(q)]).todense()\n",
    "    return df, qv\n"
   ]
  },
  {
   "cell_type": "code",
   "execution_count": 159,
   "metadata": {},
   "outputs": [],
   "source": [
    "def query_tfidf(data: pd.DataFrame) -> pd.DataFrame:\n",
    "    \n",
    "    set_list, bool_arr, q_list = complex_query(data)\n",
    "\n",
    "    dic = {0: \"cleanDesc\", 1: \"cleanName\", 2: \"cleanAdress\"}\n",
    "\n",
    "    #create an interesction of all the query\n",
    "    s = set()\n",
    "    if len(set_list) > 0:   \n",
    "        s = set_list[0]\n",
    "        for x in set_list:\n",
    "            s = s.intersection(x)\n",
    "\n",
    "    # res_query will be our new dataframe such that contains only the places with description that \n",
    "    # contains all the words in the query\n",
    "    res_query = data[data['placeName'].isin(s)]\n",
    "\n",
    "    for bool in range(len(bool_arr)):\n",
    "        if bool_arr[bool] == True:\n",
    "            df, qv = find_df_qv(data, q_list[bool], dic[bool])\n",
    "\n",
    "            # since later we'll need to compute the norm of this vector, we create an np array with the tfidf of the query\n",
    "            qv = np.array(qv[0,:])\n",
    "\n",
    "            scores = cosine_score(res_query,df,qv)    \n",
    "            res_query.insert(res_query.shape[1], f\"CS_{dic[bool]}\",scores ) \n",
    "\n",
    "    return res_query"
   ]
  },
  {
   "cell_type": "code",
   "execution_count": 168,
   "metadata": {},
   "outputs": [
    {
     "name": "stderr",
     "output_type": "stream",
     "text": [
      "100%|██████████| 7200/7200 [00:00<00:00, 39454.45it/s]\n",
      "100%|██████████| 7200/7200 [00:06<00:00, 1030.82it/s]\n",
      "100%|██████████| 7200/7200 [00:00<00:00, 828913.83it/s]\n",
      "100%|██████████| 7200/7200 [00:00<00:00, 52610.47it/s]\n"
     ]
    }
   ],
   "source": [
    "prova = query_tfidf(data)"
   ]
  },
  {
   "cell_type": "code",
   "execution_count": 169,
   "metadata": {},
   "outputs": [
    {
     "data": {
      "text/html": [
       "<div>\n",
       "<style scoped>\n",
       "    .dataframe tbody tr th:only-of-type {\n",
       "        vertical-align: middle;\n",
       "    }\n",
       "\n",
       "    .dataframe tbody tr th {\n",
       "        vertical-align: top;\n",
       "    }\n",
       "\n",
       "    .dataframe thead th {\n",
       "        text-align: right;\n",
       "    }\n",
       "</style>\n",
       "<table border=\"1\" class=\"dataframe\">\n",
       "  <thead>\n",
       "    <tr style=\"text-align: right;\">\n",
       "      <th></th>\n",
       "      <th>Unnamed: 0</th>\n",
       "      <th>placeName</th>\n",
       "      <th>placeTags</th>\n",
       "      <th>numPeopleVisited</th>\n",
       "      <th>numPeopleWant</th>\n",
       "      <th>placeDesc</th>\n",
       "      <th>placeShortDesc</th>\n",
       "      <th>placeNearby</th>\n",
       "      <th>placeAdress</th>\n",
       "      <th>placeAlt</th>\n",
       "      <th>...</th>\n",
       "      <th>placeEditors</th>\n",
       "      <th>placePubDate</th>\n",
       "      <th>placeRelatedList</th>\n",
       "      <th>placeRelatedPlace</th>\n",
       "      <th>placeURL</th>\n",
       "      <th>cleanDesc</th>\n",
       "      <th>cleanName</th>\n",
       "      <th>cleanAdress</th>\n",
       "      <th>CS_cleanDesc</th>\n",
       "      <th>CS_cleanName</th>\n",
       "    </tr>\n",
       "  </thead>\n",
       "  <tbody>\n",
       "    <tr>\n",
       "      <th>6</th>\n",
       "      <td>6</td>\n",
       "      <td>American Prohibition Museum</td>\n",
       "      <td>speakeasies,prohibition,law,food museums,alcoh...</td>\n",
       "      <td>368</td>\n",
       "      <td>832</td>\n",
       "      <td>When the 18th Amendment to the U.S. Constituti...</td>\n",
       "      <td>Performers, intricate sets, and a real speakea...</td>\n",
       "      <td>The Paris Market,Riverside Plant Hotel,The Mar...</td>\n",
       "      <td>209 W. St. Julian Street Savannah, Georgia Uni...</td>\n",
       "      <td>32.0806</td>\n",
       "      <td>...</td>\n",
       "      <td>Edward Denny,Collector of Experiences,theparan...</td>\n",
       "      <td>2018-11-26 00:00:00</td>\n",
       "      <td>The Paris Market,Riverside Plant Hotel,The Mar...</td>\n",
       "      <td>Booze History Museum,Linos tou Charilaou (Omod...</td>\n",
       "      <td>https://www.atlasobscura.com/places/american-p...</td>\n",
       "      <td>th amend u constitut outlaw alcohol deleteri d...</td>\n",
       "      <td>american prohibit museum</td>\n",
       "      <td>w st julian street savannah georgia unit state</td>\n",
       "      <td>0.081833</td>\n",
       "      <td>0.565670</td>\n",
       "    </tr>\n",
       "    <tr>\n",
       "      <th>146</th>\n",
       "      <td>146</td>\n",
       "      <td>American Classic Arcade Museum</td>\n",
       "      <td>pinball,arcades,video games,games,museums and ...</td>\n",
       "      <td>468</td>\n",
       "      <td>1022</td>\n",
       "      <td>Housed inside New Hampshire’s Funspot, which h...</td>\n",
       "      <td>The largest arcade museum in the world chronic...</td>\n",
       "      <td>Endicott Rock,Archie Andrews Statue,Claude Rai...</td>\n",
       "      <td>579 Endicott Street North Laconia, New Hampshi...</td>\n",
       "      <td>43.6130</td>\n",
       "      <td>...</td>\n",
       "      <td>thomasharper,tehutika,Mark Mones,e1savage</td>\n",
       "      <td>2014-04-04 00:00:00</td>\n",
       "      <td>Endicott Rock,Archie Andrews Statue,Claude Rai...</td>\n",
       "      <td>Asheville Pinball Museum,Pinball Hall of Fame,...</td>\n",
       "      <td>https://www.atlasobscura.com/places/american-c...</td>\n",
       "      <td>hous insid new hampshir funspot hold guin worl...</td>\n",
       "      <td>american classic arcad museum</td>\n",
       "      <td>endicott street north laconia new hampshir  u...</td>\n",
       "      <td>0.097970</td>\n",
       "      <td>0.483281</td>\n",
       "    </tr>\n",
       "    <tr>\n",
       "      <th>197</th>\n",
       "      <td>197</td>\n",
       "      <td>American Museum of Western Art</td>\n",
       "      <td>brothels,americana,hotels,museums and collecti...</td>\n",
       "      <td>323</td>\n",
       "      <td>806</td>\n",
       "      <td>Housed in the old Navarre building across from...</td>\n",
       "      <td>The huge collection of paintings of the Americ...</td>\n",
       "      <td>Mile-High Steps at the Colorado State Capitol,...</td>\n",
       "      <td>1727 Tremont Place Denver, Colorado United States</td>\n",
       "      <td>39.7447</td>\n",
       "      <td>...</td>\n",
       "      <td>randibrown,bribolio,cyccommute</td>\n",
       "      <td>2017-11-27 00:00:00</td>\n",
       "      <td>Denver Omelet Plaque,Big Blue Bear,Mile-High S...</td>\n",
       "      <td>Null Stern Hotel Museum,French Shore Interpret...</td>\n",
       "      <td>https://www.atlasobscura.com/places/american-m...</td>\n",
       "      <td>hous old navarr build across brown palac hotel...</td>\n",
       "      <td>american museum western art</td>\n",
       "      <td>tremont place denver colorado unit state</td>\n",
       "      <td>0.145389</td>\n",
       "      <td>0.525209</td>\n",
       "    </tr>\n",
       "    <tr>\n",
       "      <th>385</th>\n",
       "      <td>385</td>\n",
       "      <td>American Gothic House</td>\n",
       "      <td>eccentric homes,shops,homes,architectural oddi...</td>\n",
       "      <td>380</td>\n",
       "      <td>784</td>\n",
       "      <td>Made famous in the 1930 painting by Grant Wood...</td>\n",
       "      <td>Home with Gothic windows featured in a famous ...</td>\n",
       "      <td>What Cheer,Maharishi Vedic City,Richard Proenn...</td>\n",
       "      <td>300 Gothic St. Eldon, Iowa, 52554 United States</td>\n",
       "      <td>40.9211</td>\n",
       "      <td>...</td>\n",
       "      <td>Facebook550112500,renkessler,smcripps04,drvand...</td>\n",
       "      <td>2011-06-29 00:00:00</td>\n",
       "      <td>Maharishi Vedic City,What Cheer,Richard Proenn...</td>\n",
       "      <td>Krämerbrücke,Castello di Amorosa,Margalef,Hist...</td>\n",
       "      <td>https://www.atlasobscura.com/places/american-g...</td>\n",
       "      <td>made famou  paint grant wood american gothic o...</td>\n",
       "      <td>american gothic hous</td>\n",
       "      <td>gothic st eldon iowa  unit state</td>\n",
       "      <td>0.040367</td>\n",
       "      <td>0.571079</td>\n",
       "    </tr>\n",
       "    <tr>\n",
       "      <th>1750</th>\n",
       "      <td>1750</td>\n",
       "      <td>The American Geographical Society Library</td>\n",
       "      <td>globes,maps,libraries</td>\n",
       "      <td>174</td>\n",
       "      <td>635</td>\n",
       "      <td>Within the campus of the University of Wiscons...</td>\n",
       "      <td>Literally a million fascinating cartographic a...</td>\n",
       "      <td>Shorewood Ghost Train,North Point Water Tower,...</td>\n",
       "      <td>2311 E Hartford Ave Golda Meir Library, 3rd Fl...</td>\n",
       "      <td>43.0771</td>\n",
       "      <td>...</td>\n",
       "      <td>Luke J Spencer,hrnick</td>\n",
       "      <td>2016-03-13 00:00:00</td>\n",
       "      <td>Shorewood Ghost Train,North Point Water Tower,...</td>\n",
       "      <td>Royal Library of San Lorenzo de El Escorial,Ca...</td>\n",
       "      <td>https://www.atlasobscura.com/places/the-americ...</td>\n",
       "      <td>within campu univers wisconsin milwauke geogra...</td>\n",
       "      <td>american geograph societi librari</td>\n",
       "      <td>e hartford ave golda meir librari rd floor ea...</td>\n",
       "      <td>0.041972</td>\n",
       "      <td>0.450845</td>\n",
       "    </tr>\n",
       "    <tr>\n",
       "      <th>2042</th>\n",
       "      <td>2042</td>\n",
       "      <td>DANK Haus German American Cultural Center</td>\n",
       "      <td>gallery,schools,immigration,culture,cities,mus...</td>\n",
       "      <td>278</td>\n",
       "      <td>613</td>\n",
       "      <td>DANK Haus Chicago has served as the city’s Ger...</td>\n",
       "      <td>You can take a class, browse the library, or v...</td>\n",
       "      <td>Former Site of Selig Polyscope Film Studios,Me...</td>\n",
       "      <td>4740 N Western Ave Chicago, Illinois United St...</td>\n",
       "      <td>41.9680</td>\n",
       "      <td>...</td>\n",
       "      <td>Patti Swanson</td>\n",
       "      <td>2017-12-06 00:00:00</td>\n",
       "      <td>Merz Apothecary,Former Site of Selig Polyscope...</td>\n",
       "      <td>Carl Weege Immigrant House Museum ,Immigration...</td>\n",
       "      <td>https://www.atlasobscura.com/places/dank-haus-...</td>\n",
       "      <td>dank hau chicago serv citi german american cul...</td>\n",
       "      <td>dank hau german american cultur center</td>\n",
       "      <td>n western ave chicago illinoi unit state</td>\n",
       "      <td>0.057185</td>\n",
       "      <td>0.346859</td>\n",
       "    </tr>\n",
       "    <tr>\n",
       "      <th>2216</th>\n",
       "      <td>2216</td>\n",
       "      <td>American Writers Museum</td>\n",
       "      <td>writers</td>\n",
       "      <td>182</td>\n",
       "      <td>599</td>\n",
       "      <td>The American Writers Museum—tucked away on the...</td>\n",
       "      <td>Small and slightly hidden, the American Writer...</td>\n",
       "      <td>Tiffany Dome,Heald Square Monument's Statue of...</td>\n",
       "      <td>180 N Michigan Ave Chicago, Illinois, 60601 Un...</td>\n",
       "      <td>41.8856</td>\n",
       "      <td>...</td>\n",
       "      <td>clairers</td>\n",
       "      <td>2019-06-28 00:00:00</td>\n",
       "      <td>Tiffany Dome,Heald Square Monument's Statue of...</td>\n",
       "      <td>The Writers Chair,Casa Fernando Pessoa,Grave o...</td>\n",
       "      <td>https://www.atlasobscura.com/places/american-w...</td>\n",
       "      <td>american writer museum tuck away second floor ...</td>\n",
       "      <td>american writer museum</td>\n",
       "      <td>n michigan ave chicago illinoi  unit state</td>\n",
       "      <td>0.176558</td>\n",
       "      <td>0.565670</td>\n",
       "    </tr>\n",
       "    <tr>\n",
       "      <th>2411</th>\n",
       "      <td>2411</td>\n",
       "      <td>American Space Museum</td>\n",
       "      <td>space,museums and collections,museums</td>\n",
       "      <td>317</td>\n",
       "      <td>583</td>\n",
       "      <td>This small space museum, located not far from ...</td>\n",
       "      <td>The unique collection includes bronze cast han...</td>\n",
       "      <td>NASA Vehicle Assembly Building,Launch Complex ...</td>\n",
       "      <td>308 Pine Street Titusville, Florida United States</td>\n",
       "      <td>28.6105</td>\n",
       "      <td>...</td>\n",
       "      <td>jht69,PushingUpDaisies,kristingail</td>\n",
       "      <td>2018-01-12 00:00:00</td>\n",
       "      <td>Windover Archeological Site,NASA Vehicle Assem...</td>\n",
       "      <td>Museo de Geología (Museum of the Institute of ...</td>\n",
       "      <td>https://www.atlasobscura.com/places/american-s...</td>\n",
       "      <td>small space museum locat far better known kenn...</td>\n",
       "      <td>american space museum</td>\n",
       "      <td>pine street titusvil florida unit state</td>\n",
       "      <td>0.144750</td>\n",
       "      <td>0.621237</td>\n",
       "    </tr>\n",
       "    <tr>\n",
       "      <th>2652</th>\n",
       "      <td>2652</td>\n",
       "      <td>American Gothic Barn</td>\n",
       "      <td>paintings,farms,roadside attractions,art</td>\n",
       "      <td>247</td>\n",
       "      <td>569</td>\n",
       "      <td>Off the road on U.S. Route 30 in eastern Iowa,...</td>\n",
       "      <td>A hidden barn-sized rendition of Grant Wood's ...</td>\n",
       "      <td>Grant Wood Studio,Cedar Rapids Municipal Islan...</td>\n",
       "      <td>Highway 30 Mount Vernon, Iowa United States</td>\n",
       "      <td>41.9174</td>\n",
       "      <td>...</td>\n",
       "      <td>lewblank,slatonanthony,wisemand,dadacowgirl,an...</td>\n",
       "      <td>2017-04-25 00:00:00</td>\n",
       "      <td>Grant Wood Studio,Cedar Rapids Municipal Islan...</td>\n",
       "      <td>Pleasantville Curve,Johnston's J-Bar-B Stables...</td>\n",
       "      <td>https://www.atlasobscura.com/places/american-g...</td>\n",
       "      <td>road u rout  eastern iowa hidden tree complet ...</td>\n",
       "      <td>american gothic barn</td>\n",
       "      <td>highway  mount vernon iowa unit state</td>\n",
       "      <td>0.110766</td>\n",
       "      <td>0.504296</td>\n",
       "    </tr>\n",
       "    <tr>\n",
       "      <th>3196</th>\n",
       "      <td>3196</td>\n",
       "      <td>The American Kennel Club Museum of the Dog</td>\n",
       "      <td>dogs,museums and collections,animals,art,museums</td>\n",
       "      <td>146</td>\n",
       "      <td>532</td>\n",
       "      <td>At the intersection of the Venn diagram where ...</td>\n",
       "      <td>An extensive collection of fine art devoted to...</td>\n",
       "      <td>Campbell Apartment,Vanderbilt Tennis Club,Gran...</td>\n",
       "      <td>101 Park Ave Viaduct New York, New York, 10016...</td>\n",
       "      <td>40.7507</td>\n",
       "      <td>...</td>\n",
       "      <td>Trippnmama,carissapffffft,hmcr0213,rachellyon,...</td>\n",
       "      <td>2017-01-03 00:00:00</td>\n",
       "      <td>Campbell Apartment,Vanderbilt Tennis Club,Gran...</td>\n",
       "      <td>National Bird Dog Museum,David Roche House Mus...</td>\n",
       "      <td>https://www.atlasobscura.com/places/the-americ...</td>\n",
       "      <td>intersect venn diagram dog lover meet art love...</td>\n",
       "      <td>american kennel club museum dog</td>\n",
       "      <td>park ave viaduct new york new york  unit state</td>\n",
       "      <td>0.161211</td>\n",
       "      <td>0.424621</td>\n",
       "    </tr>\n",
       "    <tr>\n",
       "      <th>3449</th>\n",
       "      <td>3449</td>\n",
       "      <td>Japanese American Exclusion Memorial</td>\n",
       "      <td>racism,war history,world war ii,memorials,monu...</td>\n",
       "      <td>138</td>\n",
       "      <td>518</td>\n",
       "      <td>On March 24, 1942, 277 Bainbridge Island resid...</td>\n",
       "      <td>This monument remembers the first Japanese Ame...</td>\n",
       "      <td>The Labyrinth Mosaic and Halls Hill Lookout,Al...</td>\n",
       "      <td>4195 Eagle Harbor Drive NE Bainbridge Island, ...</td>\n",
       "      <td>47.6142</td>\n",
       "      <td>...</td>\n",
       "      <td>Jake Uitti,MikeInSanFrancisco</td>\n",
       "      <td>2018-05-10 00:00:00</td>\n",
       "      <td>The Labyrinth Mosaic and Halls Hill Lookout,Fo...</td>\n",
       "      <td>Free French Memorial Cross,S.O.E. Monument ,Le...</td>\n",
       "      <td>https://www.atlasobscura.com/places/bainbridge...</td>\n",
       "      <td>march    bainbridg island resid japanes descen...</td>\n",
       "      <td>japanes american exclus memori</td>\n",
       "      <td>eagl harbor drive ne bainbridg island washing...</td>\n",
       "      <td>0.077692</td>\n",
       "      <td>0.441834</td>\n",
       "    </tr>\n",
       "    <tr>\n",
       "      <th>3617</th>\n",
       "      <td>3617</td>\n",
       "      <td>Camera Collection at the American Society of C...</td>\n",
       "      <td>film,collections,history &amp; culture,history</td>\n",
       "      <td>82</td>\n",
       "      <td>508</td>\n",
       "      <td>Behind the tall hedges across the street from ...</td>\n",
       "      <td>Inside this clubhouse is a cinephile's paradise.</td>\n",
       "      <td>Janis Joplin’s Hotel Room ,The Babylon Court,T...</td>\n",
       "      <td>1782 N Orange Dr Los Angeles, California Unite...</td>\n",
       "      <td>34.1038</td>\n",
       "      <td>...</td>\n",
       "      <td>jessicahester1,Avoiding Regret</td>\n",
       "      <td>2018-10-26 00:00:00</td>\n",
       "      <td>The Magic Castle,Janis Joplin’s Hotel Room ,Th...</td>\n",
       "      <td>Alfred Hitchcock's London Flat,The Limelight D...</td>\n",
       "      <td>https://www.atlasobscura.com/places/american-s...</td>\n",
       "      <td>behind tall hedg across street famou magic cas...</td>\n",
       "      <td>camera collect american societi cinematograph</td>\n",
       "      <td>n orang dr lo angel california unit state</td>\n",
       "      <td>0.041123</td>\n",
       "      <td>0.381124</td>\n",
       "    </tr>\n",
       "    <tr>\n",
       "      <th>4413</th>\n",
       "      <td>4413</td>\n",
       "      <td>The American Pigeon Museum</td>\n",
       "      <td>pigeons,birds,animals</td>\n",
       "      <td>137</td>\n",
       "      <td>464</td>\n",
       "      <td>Many people, especially in big cities, view pi...</td>\n",
       "      <td>Celebrate the history of the rich and truly mi...</td>\n",
       "      <td>Oklahoma State Firefighters Museum ,Rodeo Anim...</td>\n",
       "      <td>2300 NE 63rd St Oklahoma City, Oklahoma, 73111...</td>\n",
       "      <td>35.5361</td>\n",
       "      <td>...</td>\n",
       "      <td>EricGrundhauser,cait7911,Collector of Experiences</td>\n",
       "      <td>2015-06-30 00:00:00</td>\n",
       "      <td>Rodeo Animal Cemetery,National Cowboy and West...</td>\n",
       "      <td>Warrior Birds Memorial,Paddy the Pigeon Plaque...</td>\n",
       "      <td>https://www.atlasobscura.com/places/the-americ...</td>\n",
       "      <td>mani peopl especi big citi view pigeon fli rat...</td>\n",
       "      <td>american pigeon museum</td>\n",
       "      <td>ne rd st oklahoma citi oklahoma  unit state</td>\n",
       "      <td>0.167326</td>\n",
       "      <td>0.576695</td>\n",
       "    </tr>\n",
       "    <tr>\n",
       "      <th>4415</th>\n",
       "      <td>4415</td>\n",
       "      <td>American Banjo Museum</td>\n",
       "      <td>music,museums and collections,museums</td>\n",
       "      <td>186</td>\n",
       "      <td>463</td>\n",
       "      <td>Containing more instruments on public display ...</td>\n",
       "      <td>Very likely the only museum in the world that ...</td>\n",
       "      <td>Factory Obscura Mix-Tape,Architectural DNA, Ok...</td>\n",
       "      <td>9 East Sheridan Avenue Oklahoma City, Oklahoma...</td>\n",
       "      <td>35.4668</td>\n",
       "      <td>...</td>\n",
       "      <td>madfishthepirate,Rachel,saenglish,Collector of...</td>\n",
       "      <td>2014-01-14 00:00:00</td>\n",
       "      <td>Oklahoma City Underground,Factory Obscura Mix...</td>\n",
       "      <td>Museu do Fado,Nisco Museum,Trap Music Museum,M...</td>\n",
       "      <td>https://www.atlasobscura.com/places/american-b...</td>\n",
       "      <td>contain instrument public display collect worl...</td>\n",
       "      <td>american banjo museum</td>\n",
       "      <td>east sheridan avenu oklahoma citi oklahoma  u...</td>\n",
       "      <td>0.156090</td>\n",
       "      <td>0.550593</td>\n",
       "    </tr>\n",
       "    <tr>\n",
       "      <th>4874</th>\n",
       "      <td>4874</td>\n",
       "      <td>American Flats</td>\n",
       "      <td>graffiti,abandoned,ruins</td>\n",
       "      <td>79</td>\n",
       "      <td>440</td>\n",
       "      <td>Unfortunately in the fall of 2014 the site was...</td>\n",
       "      <td>An abandoned cyanide mill is now a haunting ma...</td>\n",
       "      <td>Piper's Opera House,Ponderosa Saloon,Gold Hill...</td>\n",
       "      <td>Silver City, Nevada, 89428 United States 39.27...</td>\n",
       "      <td>39.2709</td>\n",
       "      <td>...</td>\n",
       "      <td>neonconflagrations,dgerbo,Mark Sommer,Howard G...</td>\n",
       "      <td>2014-08-27 00:00:00</td>\n",
       "      <td>Gold Hill Hotel,Ponderosa Saloon,Piper's Opera...</td>\n",
       "      <td>Abandoned Hotel at Cala d’en Serra,Aldridge Sa...</td>\n",
       "      <td>https://www.atlasobscura.com/places/american-f...</td>\n",
       "      <td>unfortun fall  site close subsequ demolish blm...</td>\n",
       "      <td>american flat</td>\n",
       "      <td>silver citi nevada  unit state    visit websit...</td>\n",
       "      <td>0.076355</td>\n",
       "      <td>0.644683</td>\n",
       "    </tr>\n",
       "    <tr>\n",
       "      <th>5223</th>\n",
       "      <td>5223</td>\n",
       "      <td>American Museum of Magic</td>\n",
       "      <td>houdini,wonder cabinets,magic,collections,muse...</td>\n",
       "      <td>174</td>\n",
       "      <td>910</td>\n",
       "      <td>Presto Change-o! Founded in 1978, the American...</td>\n",
       "      <td>Largest magic museum in the United States with...</td>\n",
       "      <td>Dr. J.H. Kellogg Discovery Center,Gilmore Car ...</td>\n",
       "      <td>107 E. Michigan Ave. Marshall, Michigan, 49068...</td>\n",
       "      <td>42.2721</td>\n",
       "      <td>...</td>\n",
       "      <td>Nicholas Jackson,Collector of Experiences,Mart...</td>\n",
       "      <td>2012-07-22 00:00:00</td>\n",
       "      <td>The Former Battle Creek Sanitarium,Dr. J.H. Ke...</td>\n",
       "      <td>Museum of the Bizarre ,Buckland Museum of Witc...</td>\n",
       "      <td>https://www.atlasobscura.com/places/american-m...</td>\n",
       "      <td>presto chang found  american museum magic arou...</td>\n",
       "      <td>american museum magic</td>\n",
       "      <td>e michigan ave marshal michigan  unit state</td>\n",
       "      <td>0.145815</td>\n",
       "      <td>0.630730</td>\n",
       "    </tr>\n",
       "    <tr>\n",
       "      <th>5224</th>\n",
       "      <td>5224</td>\n",
       "      <td>Hall of Fame for Great Americans</td>\n",
       "      <td>colleges,monuments,museums and collections</td>\n",
       "      <td>85</td>\n",
       "      <td>423</td>\n",
       "      <td>Update: The Hall of Fame for Great Americans i...</td>\n",
       "      <td>The first \"Hall of Fame\" in America was design...</td>\n",
       "      <td>Dyckman Farmhouse,Kool Herc's Block,Seaman-Dra...</td>\n",
       "      <td>2060 Sedgwick Ave The Bronx, New York, 10453 U...</td>\n",
       "      <td>40.8588</td>\n",
       "      <td>...</td>\n",
       "      <td>WaveMechanic,judie,bncrain,Rachel,irregularhex...</td>\n",
       "      <td>2012-06-25 00:00:00</td>\n",
       "      <td>Dyckman Farmhouse,Seaman-Drake Arch ,Kool Herc...</td>\n",
       "      <td>George Washington Turquoise Stone,John Harvard...</td>\n",
       "      <td>https://www.atlasobscura.com/places/hall-of-fa...</td>\n",
       "      <td>updat hall fame great american current close h...</td>\n",
       "      <td>hall fame great american</td>\n",
       "      <td>sedgwick ave bronx new york  unit state</td>\n",
       "      <td>0.087097</td>\n",
       "      <td>0.495787</td>\n",
       "    </tr>\n",
       "    <tr>\n",
       "      <th>5333</th>\n",
       "      <td>5333</td>\n",
       "      <td>American Museum of the House Cat</td>\n",
       "      <td>cats,museums and collections,animals,museums</td>\n",
       "      <td>142</td>\n",
       "      <td>1037</td>\n",
       "      <td>Cats have a regal bearing that seems to have f...</td>\n",
       "      <td>This vast kitty-themed collection illustrates ...</td>\n",
       "      <td>Judaculla Rock,The Fugitive Train Wreck,Caffé REL</td>\n",
       "      <td>Old School Antique Mall  4704 US-441 Sylva, No...</td>\n",
       "      <td>35.3190</td>\n",
       "      <td>...</td>\n",
       "      <td>e1savage,picturemebahb,wnccatmuseum,tahasic,zy...</td>\n",
       "      <td>2017-05-30 00:00:00</td>\n",
       "      <td>The Fugitive Train Wreck,Judaculla Rock,Caffé ...</td>\n",
       "      <td>Tower of London Barbary Lion Skulls,Cats Museu...</td>\n",
       "      <td>https://www.atlasobscura.com/places/american-m...</td>\n",
       "      <td>cat regal bear seem fascin human be throughout...</td>\n",
       "      <td>american museum hous cat</td>\n",
       "      <td>old school antiqu mall  us  sylva north carolina</td>\n",
       "      <td>0.117629</td>\n",
       "      <td>0.600856</td>\n",
       "    </tr>\n",
       "    <tr>\n",
       "      <th>5506</th>\n",
       "      <td>5506</td>\n",
       "      <td>American Computer Museum</td>\n",
       "      <td>computer museums,computers,electrical oddities...</td>\n",
       "      <td>124</td>\n",
       "      <td>410</td>\n",
       "      <td>“To collect, preserve, interpret, and display ...</td>\n",
       "      <td>See the computer’s history revealed over the c...</td>\n",
       "      <td>Bleu Horses,Madison Buffalo Jump State Park,Ch...</td>\n",
       "      <td>2023 Stadium Dr Suite 1A Bozeman, Montana, 59715</td>\n",
       "      <td>45.6590</td>\n",
       "      <td>...</td>\n",
       "      <td>Trevor,Edward Denny,mbison,lifenrichment</td>\n",
       "      <td>2010-01-30 00:00:00</td>\n",
       "      <td>Madison Buffalo Jump State Park,Chico Hot Spri...</td>\n",
       "      <td>Computer History Museum,Silverball Museum Arca...</td>\n",
       "      <td>https://www.atlasobscura.com/places/american-c...</td>\n",
       "      <td>collect preserv interpret display artifact his...</td>\n",
       "      <td>american comput museum</td>\n",
       "      <td>stadium dr suit a bozeman montana</td>\n",
       "      <td>0.114190</td>\n",
       "      <td>0.576695</td>\n",
       "    </tr>\n",
       "    <tr>\n",
       "      <th>5788</th>\n",
       "      <td>5788</td>\n",
       "      <td>American Science &amp; Surplus</td>\n",
       "      <td>strange science,purveyors of curiosities,shops</td>\n",
       "      <td>871</td>\n",
       "      <td>1466</td>\n",
       "      <td>As a rule, surplus stores are mildly disreputa...</td>\n",
       "      <td>A science teacher's dream.</td>\n",
       "      <td>Noble–Seymour–Crippen House,Leaning Tower of N...</td>\n",
       "      <td>27 N Northwest Highway Park Ridge, Illinois, 6...</td>\n",
       "      <td>42.0121</td>\n",
       "      <td>...</td>\n",
       "      <td>Rebekah Otto,newmansmallengine,mbison,Collecto...</td>\n",
       "      <td>2009-11-12 00:00:00</td>\n",
       "      <td>Pickwick Theatre,Leaning Tower of Niles,Noble–...</td>\n",
       "      <td>Bolivia's Witch Market,Diggerland USA,Wicker P...</td>\n",
       "      <td>https://www.atlasobscura.com/places/american-s...</td>\n",
       "      <td>rule surplu store mildli disreput take leftov ...</td>\n",
       "      <td>american scienc surplu</td>\n",
       "      <td>n northwest highway park ridg illinoi  unit s...</td>\n",
       "      <td>0.084605</td>\n",
       "      <td>0.504956</td>\n",
       "    </tr>\n",
       "    <tr>\n",
       "      <th>6080</th>\n",
       "      <td>6080</td>\n",
       "      <td>Museum of the American Cocktail</td>\n",
       "      <td>collections,museums and collections</td>\n",
       "      <td>297</td>\n",
       "      <td>1318</td>\n",
       "      <td>They say that New Orleans is the home of the f...</td>\n",
       "      <td>If New Orleans is the birthplace of the \"cockt...</td>\n",
       "      <td>The Eiffel Tower of New Orleans,Union Passeng...</td>\n",
       "      <td>1504 Oretha Castle Haley Blvd Suite 169 New Or...</td>\n",
       "      <td>29.9408</td>\n",
       "      <td>...</td>\n",
       "      <td>Oliver Hong,Martin,Taylarc,blathering,Anne Mar...</td>\n",
       "      <td>2013-02-03 00:00:00</td>\n",
       "      <td>Union Passenger Terminal Murals,Plaza Tower, T...</td>\n",
       "      <td>The Wallace Collection Armory,Booze History Mu...</td>\n",
       "      <td>https://www.atlasobscura.com/places/museum-ame...</td>\n",
       "      <td>say new orlean home first cocktail visit find ...</td>\n",
       "      <td>museum american cocktail</td>\n",
       "      <td>oretha castl haley blvd suit  new orlean loui...</td>\n",
       "      <td>0.126710</td>\n",
       "      <td>0.565670</td>\n",
       "    </tr>\n",
       "    <tr>\n",
       "      <th>6226</th>\n",
       "      <td>6226</td>\n",
       "      <td>The American Visionary Art Museum</td>\n",
       "      <td>obscura day locations,sculpture gardens,outsid...</td>\n",
       "      <td>1362</td>\n",
       "      <td>1254</td>\n",
       "      <td>The art of farmers, postmen, the mentally ill,...</td>\n",
       "      <td>A museum dedicated to exhibiting remarkable ou...</td>\n",
       "      <td>Fell Family Cemetery ,Mr. Trash Wheel,The Hors...</td>\n",
       "      <td>800 Key Highway Baltimore, Maryland, 21230 Uni...</td>\n",
       "      <td>39.2801</td>\n",
       "      <td>...</td>\n",
       "      <td>Seth Teicher,Annetta Black,Toriaroscuro,sharme...</td>\n",
       "      <td>2010-02-10 00:00:00</td>\n",
       "      <td>Mr. Trash Wheel,Fell Family Cemetery ,The Hors...</td>\n",
       "      <td>Rafael Coronel Museum,Hakone Open-Air Museum,M...</td>\n",
       "      <td>https://www.atlasobscura.com/places/the-americ...</td>\n",
       "      <td>art farmer postmen mental ill art done secretl...</td>\n",
       "      <td>american visionari art museum</td>\n",
       "      <td>key highway baltimor maryland  unit state</td>\n",
       "      <td>0.124901</td>\n",
       "      <td>0.499615</td>\n",
       "    </tr>\n",
       "    <tr>\n",
       "      <th>6282</th>\n",
       "      <td>6282</td>\n",
       "      <td>American Treasure Tour</td>\n",
       "      <td>roadside attractions,collections,museums and c...</td>\n",
       "      <td>146</td>\n",
       "      <td>1237</td>\n",
       "      <td>They say one man’s trash is another man’s trea...</td>\n",
       "      <td>Delicate Wurlitzers, creepy clowns, and The No...</td>\n",
       "      <td>Washington Memorial Chapel,World's Largest Sli...</td>\n",
       "      <td>422 Business Center  Norristown, Pennsylvania,...</td>\n",
       "      <td>40.1331</td>\n",
       "      <td>...</td>\n",
       "      <td>boomer1ny,Rachel,kirstin,travelsyte,rhbrakman</td>\n",
       "      <td>2014-01-05 00:00:00</td>\n",
       "      <td>World's Largest Slinky,Washington Memorial Cha...</td>\n",
       "      <td>World's Largest Small Electric Appliance Museu...</td>\n",
       "      <td>https://www.atlasobscura.com/places/american-t...</td>\n",
       "      <td>say one man trash anoth man treasur pennsylvan...</td>\n",
       "      <td>american treasur tour</td>\n",
       "      <td>busi center norristown pennsylvania  unit state</td>\n",
       "      <td>0.090897</td>\n",
       "      <td>0.495142</td>\n",
       "    </tr>\n",
       "    <tr>\n",
       "      <th>6314</th>\n",
       "      <td>6314</td>\n",
       "      <td>American Science &amp; Surplus</td>\n",
       "      <td>purveyors of curiosities</td>\n",
       "      <td>772</td>\n",
       "      <td>1232</td>\n",
       "      <td>American Science &amp; Surplus is both an institut...</td>\n",
       "      <td>Robots, lasers, and whoopee cushions, oh my!</td>\n",
       "      <td>Mitchell Park Domes,Holler House,Frank Lloyd W...</td>\n",
       "      <td>6901 W. Oklahoma Ave Milwaukee, Wisconsin, 532...</td>\n",
       "      <td>42.9877</td>\n",
       "      <td>...</td>\n",
       "      <td>Blindcolour,American Science Surplus Milwaukee...</td>\n",
       "      <td>2009-06-17 00:00:00</td>\n",
       "      <td>Frank Lloyd Wright's Burnham Block,Holler Hous...</td>\n",
       "      <td>Bolivia's Witch Market,Diggerland USA,Wicker P...</td>\n",
       "      <td>https://www.atlasobscura.com/places/american-s...</td>\n",
       "      <td>american scienc surplu institut geek persuas d...</td>\n",
       "      <td>american scienc surplu</td>\n",
       "      <td>w oklahoma ave milwauke wisconsin  unit state</td>\n",
       "      <td>0.070488</td>\n",
       "      <td>0.504956</td>\n",
       "    </tr>\n",
       "  </tbody>\n",
       "</table>\n",
       "<p>24 rows × 21 columns</p>\n",
       "</div>"
      ],
      "text/plain": [
       "      Unnamed: 0                                          placeName  \\\n",
       "6              6                        American Prohibition Museum   \n",
       "146          146                     American Classic Arcade Museum   \n",
       "197          197                     American Museum of Western Art   \n",
       "385          385                              American Gothic House   \n",
       "1750        1750         The American Geographical Society Library    \n",
       "2042        2042          DANK Haus German American Cultural Center   \n",
       "2216        2216                            American Writers Museum   \n",
       "2411        2411                              American Space Museum   \n",
       "2652        2652                               American Gothic Barn   \n",
       "3196        3196         The American Kennel Club Museum of the Dog   \n",
       "3449        3449               Japanese American Exclusion Memorial   \n",
       "3617        3617  Camera Collection at the American Society of C...   \n",
       "4413        4413                        The American Pigeon Museum    \n",
       "4415        4415                              American Banjo Museum   \n",
       "4874        4874                                     American Flats   \n",
       "5223        5223                           American Museum of Magic   \n",
       "5224        5224                   Hall of Fame for Great Americans   \n",
       "5333        5333                   American Museum of the House Cat   \n",
       "5506        5506                           American Computer Museum   \n",
       "5788        5788                         American Science & Surplus   \n",
       "6080        6080                    Museum of the American Cocktail   \n",
       "6226        6226                  The American Visionary Art Museum   \n",
       "6282        6282                             American Treasure Tour   \n",
       "6314        6314                         American Science & Surplus   \n",
       "\n",
       "                                              placeTags  numPeopleVisited  \\\n",
       "6     speakeasies,prohibition,law,food museums,alcoh...               368   \n",
       "146   pinball,arcades,video games,games,museums and ...               468   \n",
       "197   brothels,americana,hotels,museums and collecti...               323   \n",
       "385   eccentric homes,shops,homes,architectural oddi...               380   \n",
       "1750                              globes,maps,libraries               174   \n",
       "2042  gallery,schools,immigration,culture,cities,mus...               278   \n",
       "2216                                            writers               182   \n",
       "2411              space,museums and collections,museums               317   \n",
       "2652           paintings,farms,roadside attractions,art               247   \n",
       "3196   dogs,museums and collections,animals,art,museums               146   \n",
       "3449  racism,war history,world war ii,memorials,monu...               138   \n",
       "3617         film,collections,history & culture,history                82   \n",
       "4413                              pigeons,birds,animals               137   \n",
       "4415              music,museums and collections,museums               186   \n",
       "4874                           graffiti,abandoned,ruins                79   \n",
       "5223  houdini,wonder cabinets,magic,collections,muse...               174   \n",
       "5224         colleges,monuments,museums and collections                85   \n",
       "5333       cats,museums and collections,animals,museums               142   \n",
       "5506  computer museums,computers,electrical oddities...               124   \n",
       "5788     strange science,purveyors of curiosities,shops               871   \n",
       "6080                collections,museums and collections               297   \n",
       "6226  obscura day locations,sculpture gardens,outsid...              1362   \n",
       "6282  roadside attractions,collections,museums and c...               146   \n",
       "6314                           purveyors of curiosities               772   \n",
       "\n",
       "      numPeopleWant                                          placeDesc  \\\n",
       "6               832  When the 18th Amendment to the U.S. Constituti...   \n",
       "146            1022  Housed inside New Hampshire’s Funspot, which h...   \n",
       "197             806  Housed in the old Navarre building across from...   \n",
       "385             784  Made famous in the 1930 painting by Grant Wood...   \n",
       "1750            635  Within the campus of the University of Wiscons...   \n",
       "2042            613  DANK Haus Chicago has served as the city’s Ger...   \n",
       "2216            599  The American Writers Museum—tucked away on the...   \n",
       "2411            583  This small space museum, located not far from ...   \n",
       "2652            569  Off the road on U.S. Route 30 in eastern Iowa,...   \n",
       "3196            532  At the intersection of the Venn diagram where ...   \n",
       "3449            518  On March 24, 1942, 277 Bainbridge Island resid...   \n",
       "3617            508  Behind the tall hedges across the street from ...   \n",
       "4413            464  Many people, especially in big cities, view pi...   \n",
       "4415            463  Containing more instruments on public display ...   \n",
       "4874            440  Unfortunately in the fall of 2014 the site was...   \n",
       "5223            910  Presto Change-o! Founded in 1978, the American...   \n",
       "5224            423  Update: The Hall of Fame for Great Americans i...   \n",
       "5333           1037  Cats have a regal bearing that seems to have f...   \n",
       "5506            410  “To collect, preserve, interpret, and display ...   \n",
       "5788           1466  As a rule, surplus stores are mildly disreputa...   \n",
       "6080           1318  They say that New Orleans is the home of the f...   \n",
       "6226           1254  The art of farmers, postmen, the mentally ill,...   \n",
       "6282           1237  They say one man’s trash is another man’s trea...   \n",
       "6314           1232  American Science & Surplus is both an institut...   \n",
       "\n",
       "                                         placeShortDesc  \\\n",
       "6     Performers, intricate sets, and a real speakea...   \n",
       "146   The largest arcade museum in the world chronic...   \n",
       "197   The huge collection of paintings of the Americ...   \n",
       "385   Home with Gothic windows featured in a famous ...   \n",
       "1750  Literally a million fascinating cartographic a...   \n",
       "2042  You can take a class, browse the library, or v...   \n",
       "2216  Small and slightly hidden, the American Writer...   \n",
       "2411  The unique collection includes bronze cast han...   \n",
       "2652  A hidden barn-sized rendition of Grant Wood's ...   \n",
       "3196  An extensive collection of fine art devoted to...   \n",
       "3449  This monument remembers the first Japanese Ame...   \n",
       "3617  Inside this clubhouse is a cinephile's paradise.    \n",
       "4413  Celebrate the history of the rich and truly mi...   \n",
       "4415  Very likely the only museum in the world that ...   \n",
       "4874  An abandoned cyanide mill is now a haunting ma...   \n",
       "5223  Largest magic museum in the United States with...   \n",
       "5224  The first \"Hall of Fame\" in America was design...   \n",
       "5333  This vast kitty-themed collection illustrates ...   \n",
       "5506  See the computer’s history revealed over the c...   \n",
       "5788                        A science teacher's dream.    \n",
       "6080  If New Orleans is the birthplace of the \"cockt...   \n",
       "6226  A museum dedicated to exhibiting remarkable ou...   \n",
       "6282  Delicate Wurlitzers, creepy clowns, and The No...   \n",
       "6314      Robots, lasers, and whoopee cushions, oh my!    \n",
       "\n",
       "                                            placeNearby  \\\n",
       "6     The Paris Market,Riverside Plant Hotel,The Mar...   \n",
       "146   Endicott Rock,Archie Andrews Statue,Claude Rai...   \n",
       "197   Mile-High Steps at the Colorado State Capitol,...   \n",
       "385   What Cheer,Maharishi Vedic City,Richard Proenn...   \n",
       "1750  Shorewood Ghost Train,North Point Water Tower,...   \n",
       "2042  Former Site of Selig Polyscope Film Studios,Me...   \n",
       "2216  Tiffany Dome,Heald Square Monument's Statue of...   \n",
       "2411  NASA Vehicle Assembly Building,Launch Complex ...   \n",
       "2652  Grant Wood Studio,Cedar Rapids Municipal Islan...   \n",
       "3196  Campbell Apartment,Vanderbilt Tennis Club,Gran...   \n",
       "3449  The Labyrinth Mosaic and Halls Hill Lookout,Al...   \n",
       "3617  Janis Joplin’s Hotel Room ,The Babylon Court,T...   \n",
       "4413  Oklahoma State Firefighters Museum ,Rodeo Anim...   \n",
       "4415  Factory Obscura Mix-Tape,Architectural DNA, Ok...   \n",
       "4874  Piper's Opera House,Ponderosa Saloon,Gold Hill...   \n",
       "5223  Dr. J.H. Kellogg Discovery Center,Gilmore Car ...   \n",
       "5224  Dyckman Farmhouse,Kool Herc's Block,Seaman-Dra...   \n",
       "5333  Judaculla Rock,The Fugitive Train Wreck,Caffé REL   \n",
       "5506  Bleu Horses,Madison Buffalo Jump State Park,Ch...   \n",
       "5788  Noble–Seymour–Crippen House,Leaning Tower of N...   \n",
       "6080   The Eiffel Tower of New Orleans,Union Passeng...   \n",
       "6226  Fell Family Cemetery ,Mr. Trash Wheel,The Hors...   \n",
       "6282  Washington Memorial Chapel,World's Largest Sli...   \n",
       "6314  Mitchell Park Domes,Holler House,Frank Lloyd W...   \n",
       "\n",
       "                                            placeAdress  placeAlt  ...  \\\n",
       "6     209 W. St. Julian Street Savannah, Georgia Uni...   32.0806  ...   \n",
       "146   579 Endicott Street North Laconia, New Hampshi...   43.6130  ...   \n",
       "197   1727 Tremont Place Denver, Colorado United States   39.7447  ...   \n",
       "385     300 Gothic St. Eldon, Iowa, 52554 United States   40.9211  ...   \n",
       "1750  2311 E Hartford Ave Golda Meir Library, 3rd Fl...   43.0771  ...   \n",
       "2042  4740 N Western Ave Chicago, Illinois United St...   41.9680  ...   \n",
       "2216  180 N Michigan Ave Chicago, Illinois, 60601 Un...   41.8856  ...   \n",
       "2411  308 Pine Street Titusville, Florida United States   28.6105  ...   \n",
       "2652        Highway 30 Mount Vernon, Iowa United States   41.9174  ...   \n",
       "3196  101 Park Ave Viaduct New York, New York, 10016...   40.7507  ...   \n",
       "3449  4195 Eagle Harbor Drive NE Bainbridge Island, ...   47.6142  ...   \n",
       "3617  1782 N Orange Dr Los Angeles, California Unite...   34.1038  ...   \n",
       "4413  2300 NE 63rd St Oklahoma City, Oklahoma, 73111...   35.5361  ...   \n",
       "4415  9 East Sheridan Avenue Oklahoma City, Oklahoma...   35.4668  ...   \n",
       "4874  Silver City, Nevada, 89428 United States 39.27...   39.2709  ...   \n",
       "5223  107 E. Michigan Ave. Marshall, Michigan, 49068...   42.2721  ...   \n",
       "5224  2060 Sedgwick Ave The Bronx, New York, 10453 U...   40.8588  ...   \n",
       "5333  Old School Antique Mall  4704 US-441 Sylva, No...   35.3190  ...   \n",
       "5506   2023 Stadium Dr Suite 1A Bozeman, Montana, 59715   45.6590  ...   \n",
       "5788  27 N Northwest Highway Park Ridge, Illinois, 6...   42.0121  ...   \n",
       "6080  1504 Oretha Castle Haley Blvd Suite 169 New Or...   29.9408  ...   \n",
       "6226  800 Key Highway Baltimore, Maryland, 21230 Uni...   39.2801  ...   \n",
       "6282  422 Business Center  Norristown, Pennsylvania,...   40.1331  ...   \n",
       "6314  6901 W. Oklahoma Ave Milwaukee, Wisconsin, 532...   42.9877  ...   \n",
       "\n",
       "                                           placeEditors         placePubDate  \\\n",
       "6     Edward Denny,Collector of Experiences,theparan...  2018-11-26 00:00:00   \n",
       "146           thomasharper,tehutika,Mark Mones,e1savage  2014-04-04 00:00:00   \n",
       "197                      randibrown,bribolio,cyccommute  2017-11-27 00:00:00   \n",
       "385   Facebook550112500,renkessler,smcripps04,drvand...  2011-06-29 00:00:00   \n",
       "1750                              Luke J Spencer,hrnick  2016-03-13 00:00:00   \n",
       "2042                                      Patti Swanson  2017-12-06 00:00:00   \n",
       "2216                                           clairers  2019-06-28 00:00:00   \n",
       "2411                 jht69,PushingUpDaisies,kristingail  2018-01-12 00:00:00   \n",
       "2652  lewblank,slatonanthony,wisemand,dadacowgirl,an...  2017-04-25 00:00:00   \n",
       "3196  Trippnmama,carissapffffft,hmcr0213,rachellyon,...  2017-01-03 00:00:00   \n",
       "3449                      Jake Uitti,MikeInSanFrancisco  2018-05-10 00:00:00   \n",
       "3617                     jessicahester1,Avoiding Regret  2018-10-26 00:00:00   \n",
       "4413  EricGrundhauser,cait7911,Collector of Experiences  2015-06-30 00:00:00   \n",
       "4415  madfishthepirate,Rachel,saenglish,Collector of...  2014-01-14 00:00:00   \n",
       "4874  neonconflagrations,dgerbo,Mark Sommer,Howard G...  2014-08-27 00:00:00   \n",
       "5223  Nicholas Jackson,Collector of Experiences,Mart...  2012-07-22 00:00:00   \n",
       "5224  WaveMechanic,judie,bncrain,Rachel,irregularhex...  2012-06-25 00:00:00   \n",
       "5333  e1savage,picturemebahb,wnccatmuseum,tahasic,zy...  2017-05-30 00:00:00   \n",
       "5506           Trevor,Edward Denny,mbison,lifenrichment  2010-01-30 00:00:00   \n",
       "5788  Rebekah Otto,newmansmallengine,mbison,Collecto...  2009-11-12 00:00:00   \n",
       "6080  Oliver Hong,Martin,Taylarc,blathering,Anne Mar...  2013-02-03 00:00:00   \n",
       "6226  Seth Teicher,Annetta Black,Toriaroscuro,sharme...  2010-02-10 00:00:00   \n",
       "6282      boomer1ny,Rachel,kirstin,travelsyte,rhbrakman  2014-01-05 00:00:00   \n",
       "6314  Blindcolour,American Science Surplus Milwaukee...  2009-06-17 00:00:00   \n",
       "\n",
       "                                       placeRelatedList  \\\n",
       "6     The Paris Market,Riverside Plant Hotel,The Mar...   \n",
       "146   Endicott Rock,Archie Andrews Statue,Claude Rai...   \n",
       "197   Denver Omelet Plaque,Big Blue Bear,Mile-High S...   \n",
       "385   Maharishi Vedic City,What Cheer,Richard Proenn...   \n",
       "1750  Shorewood Ghost Train,North Point Water Tower,...   \n",
       "2042  Merz Apothecary,Former Site of Selig Polyscope...   \n",
       "2216  Tiffany Dome,Heald Square Monument's Statue of...   \n",
       "2411  Windover Archeological Site,NASA Vehicle Assem...   \n",
       "2652  Grant Wood Studio,Cedar Rapids Municipal Islan...   \n",
       "3196  Campbell Apartment,Vanderbilt Tennis Club,Gran...   \n",
       "3449  The Labyrinth Mosaic and Halls Hill Lookout,Fo...   \n",
       "3617  The Magic Castle,Janis Joplin’s Hotel Room ,Th...   \n",
       "4413  Rodeo Animal Cemetery,National Cowboy and West...   \n",
       "4415   Oklahoma City Underground,Factory Obscura Mix...   \n",
       "4874  Gold Hill Hotel,Ponderosa Saloon,Piper's Opera...   \n",
       "5223  The Former Battle Creek Sanitarium,Dr. J.H. Ke...   \n",
       "5224  Dyckman Farmhouse,Seaman-Drake Arch ,Kool Herc...   \n",
       "5333  The Fugitive Train Wreck,Judaculla Rock,Caffé ...   \n",
       "5506  Madison Buffalo Jump State Park,Chico Hot Spri...   \n",
       "5788  Pickwick Theatre,Leaning Tower of Niles,Noble–...   \n",
       "6080  Union Passenger Terminal Murals,Plaza Tower, T...   \n",
       "6226  Mr. Trash Wheel,Fell Family Cemetery ,The Hors...   \n",
       "6282  World's Largest Slinky,Washington Memorial Cha...   \n",
       "6314  Frank Lloyd Wright's Burnham Block,Holler Hous...   \n",
       "\n",
       "                                      placeRelatedPlace  \\\n",
       "6     Booze History Museum,Linos tou Charilaou (Omod...   \n",
       "146   Asheville Pinball Museum,Pinball Hall of Fame,...   \n",
       "197   Null Stern Hotel Museum,French Shore Interpret...   \n",
       "385   Krämerbrücke,Castello di Amorosa,Margalef,Hist...   \n",
       "1750  Royal Library of San Lorenzo de El Escorial,Ca...   \n",
       "2042  Carl Weege Immigrant House Museum ,Immigration...   \n",
       "2216  The Writers Chair,Casa Fernando Pessoa,Grave o...   \n",
       "2411  Museo de Geología (Museum of the Institute of ...   \n",
       "2652  Pleasantville Curve,Johnston's J-Bar-B Stables...   \n",
       "3196  National Bird Dog Museum,David Roche House Mus...   \n",
       "3449  Free French Memorial Cross,S.O.E. Monument ,Le...   \n",
       "3617  Alfred Hitchcock's London Flat,The Limelight D...   \n",
       "4413  Warrior Birds Memorial,Paddy the Pigeon Plaque...   \n",
       "4415  Museu do Fado,Nisco Museum,Trap Music Museum,M...   \n",
       "4874  Abandoned Hotel at Cala d’en Serra,Aldridge Sa...   \n",
       "5223  Museum of the Bizarre ,Buckland Museum of Witc...   \n",
       "5224  George Washington Turquoise Stone,John Harvard...   \n",
       "5333  Tower of London Barbary Lion Skulls,Cats Museu...   \n",
       "5506  Computer History Museum,Silverball Museum Arca...   \n",
       "5788  Bolivia's Witch Market,Diggerland USA,Wicker P...   \n",
       "6080  The Wallace Collection Armory,Booze History Mu...   \n",
       "6226  Rafael Coronel Museum,Hakone Open-Air Museum,M...   \n",
       "6282  World's Largest Small Electric Appliance Museu...   \n",
       "6314  Bolivia's Witch Market,Diggerland USA,Wicker P...   \n",
       "\n",
       "                                               placeURL  \\\n",
       "6     https://www.atlasobscura.com/places/american-p...   \n",
       "146   https://www.atlasobscura.com/places/american-c...   \n",
       "197   https://www.atlasobscura.com/places/american-m...   \n",
       "385   https://www.atlasobscura.com/places/american-g...   \n",
       "1750  https://www.atlasobscura.com/places/the-americ...   \n",
       "2042  https://www.atlasobscura.com/places/dank-haus-...   \n",
       "2216  https://www.atlasobscura.com/places/american-w...   \n",
       "2411  https://www.atlasobscura.com/places/american-s...   \n",
       "2652  https://www.atlasobscura.com/places/american-g...   \n",
       "3196  https://www.atlasobscura.com/places/the-americ...   \n",
       "3449  https://www.atlasobscura.com/places/bainbridge...   \n",
       "3617  https://www.atlasobscura.com/places/american-s...   \n",
       "4413  https://www.atlasobscura.com/places/the-americ...   \n",
       "4415  https://www.atlasobscura.com/places/american-b...   \n",
       "4874  https://www.atlasobscura.com/places/american-f...   \n",
       "5223  https://www.atlasobscura.com/places/american-m...   \n",
       "5224  https://www.atlasobscura.com/places/hall-of-fa...   \n",
       "5333  https://www.atlasobscura.com/places/american-m...   \n",
       "5506  https://www.atlasobscura.com/places/american-c...   \n",
       "5788  https://www.atlasobscura.com/places/american-s...   \n",
       "6080  https://www.atlasobscura.com/places/museum-ame...   \n",
       "6226  https://www.atlasobscura.com/places/the-americ...   \n",
       "6282  https://www.atlasobscura.com/places/american-t...   \n",
       "6314  https://www.atlasobscura.com/places/american-s...   \n",
       "\n",
       "                                              cleanDesc  \\\n",
       "6     th amend u constitut outlaw alcohol deleteri d...   \n",
       "146   hous insid new hampshir funspot hold guin worl...   \n",
       "197   hous old navarr build across brown palac hotel...   \n",
       "385   made famou  paint grant wood american gothic o...   \n",
       "1750  within campu univers wisconsin milwauke geogra...   \n",
       "2042  dank hau chicago serv citi german american cul...   \n",
       "2216  american writer museum tuck away second floor ...   \n",
       "2411  small space museum locat far better known kenn...   \n",
       "2652  road u rout  eastern iowa hidden tree complet ...   \n",
       "3196  intersect venn diagram dog lover meet art love...   \n",
       "3449  march    bainbridg island resid japanes descen...   \n",
       "3617  behind tall hedg across street famou magic cas...   \n",
       "4413  mani peopl especi big citi view pigeon fli rat...   \n",
       "4415  contain instrument public display collect worl...   \n",
       "4874  unfortun fall  site close subsequ demolish blm...   \n",
       "5223  presto chang found  american museum magic arou...   \n",
       "5224  updat hall fame great american current close h...   \n",
       "5333  cat regal bear seem fascin human be throughout...   \n",
       "5506  collect preserv interpret display artifact his...   \n",
       "5788  rule surplu store mildli disreput take leftov ...   \n",
       "6080  say new orlean home first cocktail visit find ...   \n",
       "6226  art farmer postmen mental ill art done secretl...   \n",
       "6282  say one man trash anoth man treasur pennsylvan...   \n",
       "6314  american scienc surplu institut geek persuas d...   \n",
       "\n",
       "                                          cleanName  \\\n",
       "6                          american prohibit museum   \n",
       "146                   american classic arcad museum   \n",
       "197                     american museum western art   \n",
       "385                            american gothic hous   \n",
       "1750              american geograph societi librari   \n",
       "2042         dank hau german american cultur center   \n",
       "2216                         american writer museum   \n",
       "2411                          american space museum   \n",
       "2652                           american gothic barn   \n",
       "3196                american kennel club museum dog   \n",
       "3449                 japanes american exclus memori   \n",
       "3617  camera collect american societi cinematograph   \n",
       "4413                         american pigeon museum   \n",
       "4415                          american banjo museum   \n",
       "4874                                  american flat   \n",
       "5223                          american museum magic   \n",
       "5224                       hall fame great american   \n",
       "5333                       american museum hous cat   \n",
       "5506                         american comput museum   \n",
       "5788                         american scienc surplu   \n",
       "6080                       museum american cocktail   \n",
       "6226                  american visionari art museum   \n",
       "6282                          american treasur tour   \n",
       "6314                         american scienc surplu   \n",
       "\n",
       "                                            cleanAdress CS_cleanDesc  \\\n",
       "6        w st julian street savannah georgia unit state     0.081833   \n",
       "146    endicott street north laconia new hampshir  u...     0.097970   \n",
       "197            tremont place denver colorado unit state     0.145389   \n",
       "385                    gothic st eldon iowa  unit state     0.040367   \n",
       "1750   e hartford ave golda meir librari rd floor ea...     0.041972   \n",
       "2042           n western ave chicago illinoi unit state     0.057185   \n",
       "2216         n michigan ave chicago illinoi  unit state     0.176558   \n",
       "2411            pine street titusvil florida unit state     0.144750   \n",
       "2652              highway  mount vernon iowa unit state     0.110766   \n",
       "3196     park ave viaduct new york new york  unit state     0.161211   \n",
       "3449   eagl harbor drive ne bainbridg island washing...     0.077692   \n",
       "3617          n orang dr lo angel california unit state     0.041123   \n",
       "4413        ne rd st oklahoma citi oklahoma  unit state     0.167326   \n",
       "4415   east sheridan avenu oklahoma citi oklahoma  u...     0.156090   \n",
       "4874  silver citi nevada  unit state    visit websit...     0.076355   \n",
       "5223        e michigan ave marshal michigan  unit state     0.145815   \n",
       "5224            sedgwick ave bronx new york  unit state     0.087097   \n",
       "5333   old school antiqu mall  us  sylva north carolina     0.117629   \n",
       "5506                 stadium dr suit a bozeman montana      0.114190   \n",
       "5788   n northwest highway park ridg illinoi  unit s...     0.084605   \n",
       "6080   oretha castl haley blvd suit  new orlean loui...     0.126710   \n",
       "6226          key highway baltimor maryland  unit state     0.124901   \n",
       "6282    busi center norristown pennsylvania  unit state     0.090897   \n",
       "6314      w oklahoma ave milwauke wisconsin  unit state     0.070488   \n",
       "\n",
       "      CS_cleanName  \n",
       "6         0.565670  \n",
       "146       0.483281  \n",
       "197       0.525209  \n",
       "385       0.571079  \n",
       "1750      0.450845  \n",
       "2042      0.346859  \n",
       "2216      0.565670  \n",
       "2411      0.621237  \n",
       "2652      0.504296  \n",
       "3196      0.424621  \n",
       "3449      0.441834  \n",
       "3617      0.381124  \n",
       "4413      0.576695  \n",
       "4415      0.550593  \n",
       "4874      0.644683  \n",
       "5223      0.630730  \n",
       "5224      0.495787  \n",
       "5333      0.600856  \n",
       "5506      0.576695  \n",
       "5788      0.504956  \n",
       "6080      0.565670  \n",
       "6226      0.499615  \n",
       "6282      0.495142  \n",
       "6314      0.504956  \n",
       "\n",
       "[24 rows x 21 columns]"
      ]
     },
     "execution_count": 169,
     "metadata": {},
     "output_type": "execute_result"
    }
   ],
   "source": [
    "prova"
   ]
  },
  {
   "cell_type": "code",
   "execution_count": 160,
   "metadata": {},
   "outputs": [],
   "source": [
    "def define_final_score(resComplexQuery):\n",
    "    resComplexQuery[\"final_score\"] = resComplexQuery.CS_cleanDesc* 0.15 + resComplexQuery.CS_cleanName * 0.50 + resComplexQuery.CS_cleanAdress* 0.35\n",
    "    return resComplexQuery"
   ]
  },
  {
   "cell_type": "markdown",
   "metadata": {},
   "source": [
    "## Filtering"
   ]
  },
  {
   "cell_type": "markdown",
   "metadata": {},
   "source": [
    "### List of username"
   ]
  },
  {
   "cell_type": "code",
   "execution_count": 162,
   "metadata": {},
   "outputs": [],
   "source": [
    "#This function return a pd.DataFrame with the filtering applied to the placeEditors\n",
    "#To filter this right i create a regex string with all the names in the list\n",
    "#The regex string will be equivalent to: (nameInTheList1 AND nameInTheList2 AND ... AND nameInTheListN)\n",
    "#The regex for this operation is (?=.*Name1)(?=.*Name2)...(?=-*NameN)\n",
    "def filterUsername(list: list, data: pd.DataFrame) -> pd.DataFrame:\n",
    "    if list:\n",
    "        return data\n",
    "    else:\n",
    "        filtered_data = data[data[\"placeEditors\"].str.contains(\"(?=.*\" + \")(?=.*\".join(list) + \")\")]\n",
    "        return filtered_data"
   ]
  },
  {
   "cell_type": "markdown",
   "metadata": {},
   "source": [
    "# Tags"
   ]
  },
  {
   "cell_type": "code",
   "execution_count": 164,
   "metadata": {},
   "outputs": [],
   "source": [
    "def filterTags(list: list, data: pd.DataFrame) -> pd.DataFrame:\n",
    "    if list:\n",
    "        return data\n",
    "    else:\n",
    "        filtered_data = data[data[\"placeTags\"].str.contains(\"(?=.*\" + \")(?=.*\".join(list) + \")\")]\n",
    "        return filtered_data"
   ]
  },
  {
   "cell_type": "markdown",
   "metadata": {},
   "source": [
    "## Upper and lower bound"
   ]
  },
  {
   "cell_type": "code",
   "execution_count": 165,
   "metadata": {},
   "outputs": [],
   "source": [
    "\n",
    "def filterNumPeople(upperbound = data[\"numPeopleVisited\"].max(), lowerbound = 0) -> pd.DataFrame:\n",
    "    filtered_data =  data.query(f'{lowerbound} < numPeopleVisited < {upperbound}')\n",
    "    return filtered_data"
   ]
  },
  {
   "cell_type": "markdown",
   "metadata": {},
   "source": [
    "## Final function"
   ]
  },
  {
   "cell_type": "code",
   "execution_count": 175,
   "metadata": {},
   "outputs": [],
   "source": [
    "def filterFinalQuery(data: pd.DataFrame) -> pd.DataFrame :\n",
    "    resComplexQuery = query_tfidf(data)\n",
    "    resComplexQuery_fs = define_final_score(resComplexQuery)\n",
    "    usernameList = input(\"Write the names of the users that worked on a page. [Separated by spaces]\").split()\n",
    "    tags = input(\"Write the names of the tags that you want to find in a page. [Separated by spaces]\").split()\n",
    "    upperBound = input(\"Write the maximum number of people that visited a certain location\")\n",
    "    lowerBound = input(\"Write the minimum number of people that visited a certain location\")\n",
    "    if not usernameList:\n",
    "        resComplexQuery_fs = filterUsername(usernameList, resComplexQuery)\n",
    "    if not tags:\n",
    "        resComplexQuery_fs = filterTags(tags, resComplexQuery_fs)\n",
    "    if upperBound and lowerBound:\n",
    "        resComplexQuery_fs = filterNumPeople(int(upperBound), int(lowerBound))\n",
    "    elif upperBound:\n",
    "        resComplexQuery_fs = filterNumPeople(int(upperBound))\n",
    "    elif (lowerBound):\n",
    "        resComplexQuery_fs = filterNumPeople(lowerbound = int(lowerBound))\n",
    "    return resComplexQuery_fs\n",
    "\n",
    "\n",
    "    \n",
    "\n",
    "    \n"
   ]
  },
  {
   "cell_type": "code",
   "execution_count": 176,
   "metadata": {},
   "outputs": [
    {
     "name": "stderr",
     "output_type": "stream",
     "text": [
      "100%|██████████| 7200/7200 [00:00<00:00, 42920.01it/s]\n",
      "100%|██████████| 7200/7200 [00:07<00:00, 1013.59it/s]\n",
      "100%|██████████| 7200/7200 [00:00<00:00, 1031844.36it/s]\n",
      "100%|██████████| 7200/7200 [00:00<00:00, 53089.28it/s]\n",
      "100%|██████████| 7200/7200 [00:00<00:00, 717298.61it/s]\n",
      "100%|██████████| 7200/7200 [00:00<00:00, 21346.75it/s]\n",
      "C:\\Users\\Matteo\\AppData\\Local\\Temp\\ipykernel_12572\\3891487302.py:2: SettingWithCopyWarning: \n",
      "A value is trying to be set on a copy of a slice from a DataFrame.\n",
      "Try using .loc[row_indexer,col_indexer] = value instead\n",
      "\n",
      "See the caveats in the documentation: https://pandas.pydata.org/pandas-docs/stable/user_guide/indexing.html#returning-a-view-versus-a-copy\n",
      "  resComplexQuery[\"final_score\"] = resComplexQuery.CS_cleanDesc* 0.15 + resComplexQuery.CS_cleanName * 0.50 + resComplexQuery.CS_cleanAdress* 0.35\n"
     ]
    }
   ],
   "source": [
    "#Try it out!!!\n",
    "ex = filterFinalQuery(data)"
   ]
  },
  {
   "cell_type": "code",
   "execution_count": 177,
   "metadata": {},
   "outputs": [
    {
     "data": {
      "text/html": [
       "<div>\n",
       "<style scoped>\n",
       "    .dataframe tbody tr th:only-of-type {\n",
       "        vertical-align: middle;\n",
       "    }\n",
       "\n",
       "    .dataframe tbody tr th {\n",
       "        vertical-align: top;\n",
       "    }\n",
       "\n",
       "    .dataframe thead th {\n",
       "        text-align: right;\n",
       "    }\n",
       "</style>\n",
       "<table border=\"1\" class=\"dataframe\">\n",
       "  <thead>\n",
       "    <tr style=\"text-align: right;\">\n",
       "      <th></th>\n",
       "      <th>Unnamed: 0</th>\n",
       "      <th>placeName</th>\n",
       "      <th>placeTags</th>\n",
       "      <th>numPeopleVisited</th>\n",
       "      <th>numPeopleWant</th>\n",
       "      <th>placeDesc</th>\n",
       "      <th>placeShortDesc</th>\n",
       "      <th>placeNearby</th>\n",
       "      <th>placeAdress</th>\n",
       "      <th>placeAlt</th>\n",
       "      <th>...</th>\n",
       "      <th>placeRelatedList</th>\n",
       "      <th>placeRelatedPlace</th>\n",
       "      <th>placeURL</th>\n",
       "      <th>cleanDesc</th>\n",
       "      <th>cleanName</th>\n",
       "      <th>cleanAdress</th>\n",
       "      <th>CS_cleanDesc</th>\n",
       "      <th>CS_cleanName</th>\n",
       "      <th>CS_cleanAdress</th>\n",
       "      <th>final_score</th>\n",
       "    </tr>\n",
       "  </thead>\n",
       "  <tbody>\n",
       "    <tr>\n",
       "      <th>197</th>\n",
       "      <td>197</td>\n",
       "      <td>American Museum of Western Art</td>\n",
       "      <td>brothels,americana,hotels,museums and collecti...</td>\n",
       "      <td>323</td>\n",
       "      <td>806</td>\n",
       "      <td>Housed in the old Navarre building across from...</td>\n",
       "      <td>The huge collection of paintings of the Americ...</td>\n",
       "      <td>Mile-High Steps at the Colorado State Capitol,...</td>\n",
       "      <td>1727 Tremont Place Denver, Colorado United States</td>\n",
       "      <td>39.7447</td>\n",
       "      <td>...</td>\n",
       "      <td>Denver Omelet Plaque,Big Blue Bear,Mile-High S...</td>\n",
       "      <td>Null Stern Hotel Museum,French Shore Interpret...</td>\n",
       "      <td>https://www.atlasobscura.com/places/american-m...</td>\n",
       "      <td>hous old navarr build across brown palac hotel...</td>\n",
       "      <td>american museum western art</td>\n",
       "      <td>tremont place denver colorado unit state</td>\n",
       "      <td>0.145389</td>\n",
       "      <td>0.525209</td>\n",
       "      <td>0.377556</td>\n",
       "      <td>0.416558</td>\n",
       "    </tr>\n",
       "  </tbody>\n",
       "</table>\n",
       "<p>1 rows × 23 columns</p>\n",
       "</div>"
      ],
      "text/plain": [
       "     Unnamed: 0                       placeName  \\\n",
       "197         197  American Museum of Western Art   \n",
       "\n",
       "                                             placeTags  numPeopleVisited  \\\n",
       "197  brothels,americana,hotels,museums and collecti...               323   \n",
       "\n",
       "     numPeopleWant                                          placeDesc  \\\n",
       "197            806  Housed in the old Navarre building across from...   \n",
       "\n",
       "                                        placeShortDesc  \\\n",
       "197  The huge collection of paintings of the Americ...   \n",
       "\n",
       "                                           placeNearby  \\\n",
       "197  Mile-High Steps at the Colorado State Capitol,...   \n",
       "\n",
       "                                           placeAdress  placeAlt  ...  \\\n",
       "197  1727 Tremont Place Denver, Colorado United States   39.7447  ...   \n",
       "\n",
       "                                      placeRelatedList  \\\n",
       "197  Denver Omelet Plaque,Big Blue Bear,Mile-High S...   \n",
       "\n",
       "                                     placeRelatedPlace  \\\n",
       "197  Null Stern Hotel Museum,French Shore Interpret...   \n",
       "\n",
       "                                              placeURL  \\\n",
       "197  https://www.atlasobscura.com/places/american-m...   \n",
       "\n",
       "                                             cleanDesc  \\\n",
       "197  hous old navarr build across brown palac hotel...   \n",
       "\n",
       "                       cleanName                                cleanAdress  \\\n",
       "197  american museum western art   tremont place denver colorado unit state   \n",
       "\n",
       "    CS_cleanDesc CS_cleanName CS_cleanAdress  final_score  \n",
       "197     0.145389     0.525209       0.377556     0.416558  \n",
       "\n",
       "[1 rows x 23 columns]"
      ]
     },
     "execution_count": 177,
     "metadata": {},
     "output_type": "execute_result"
    }
   ],
   "source": [
    "ex.head()"
   ]
  }
 ],
 "metadata": {
  "kernelspec": {
   "display_name": "Python 3.9.12 ('base')",
   "language": "python",
   "name": "python3"
  },
  "language_info": {
   "codemirror_mode": {
    "name": "ipython",
    "version": 3
   },
   "file_extension": ".py",
   "mimetype": "text/x-python",
   "name": "python",
   "nbconvert_exporter": "python",
   "pygments_lexer": "ipython3",
   "version": "3.9.12"
  },
  "vscode": {
   "interpreter": {
    "hash": "cd94c265d0cd8d4c5ed894c320907f0fc1771c221568605f48fbe0110aecbb76"
   }
  }
 },
 "nbformat": 4,
 "nbformat_minor": 2
}
