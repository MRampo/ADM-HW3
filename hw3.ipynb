{
 "cells": [
  {
   "cell_type": "code",
   "execution_count": 2,
   "metadata": {},
   "outputs": [
    {
     "name": "stderr",
     "output_type": "stream",
     "text": [
      "[nltk_data] Downloading package stopwords to\n",
      "[nltk_data]     C:\\Users\\auror\\AppData\\Roaming\\nltk_data...\n",
      "[nltk_data]   Package stopwords is already up-to-date!\n"
     ]
    }
   ],
   "source": [
    "from bs4 import BeautifulSoup as bs\n",
    "import requests\n",
    "from tqdm import tqdm \n",
    "import json\n",
    "import os\n",
    "import datetime\n",
    "import re\n",
    "import glob\n",
    "import csv\n",
    "import time\n",
    "import pandas as pd\n",
    "from nltk.stem import *\n",
    "from collections import Counter\n",
    "from functools import reduce\n",
    "import numpy as np\n",
    "import nltk\n",
    "from nltk.corpus import stopwords\n",
    "nltk.download('stopwords')\n",
    "from nltk.tokenize import RegexpTokenizer\n",
    "from nltk.stem import PorterStemmer\n",
    "from nltk import tokenize\n",
    "#import datatable as dt   \n",
    "import csv\n",
    "import numpy as np\n",
    "from sklearn.feature_extraction.text import TfidfVectorizer\n",
    "\n",
    "#To read and store dictionary\n",
    "import pickle"
   ]
  },
  {
   "cell_type": "code",
   "execution_count": 99,
   "metadata": {},
   "outputs": [],
   "source": [
    "#TODO\n",
    "#EDA\n",
    "#do Lemmatization in the Data Cleaning \n",
    "#Create all the missing tsv\n",
    "#Clean and comment the code\n",
    "#CHECK EFFICIENCY 1.2 and 1.3\n",
    "#Parse list before saving into\n",
    "# finire di aggiungere labels al punto 4 (placeAdress,city)"
   ]
  },
  {
   "cell_type": "markdown",
   "metadata": {},
   "source": [
    "### 1. Data collection\n",
    "## 1.1. Get the list of places"
   ]
  },
  {
   "cell_type": "code",
   "execution_count": null,
   "metadata": {},
   "outputs": [],
   "source": [
    "total_link = []\n",
    "s = requests.Session()\n",
    "for n in tqdm(range(1,401)):\n",
    "    url = f'https://www.atlasobscura.com/places?page={n}&sort=likes_count'\n",
    "    result = s.get(url)\n",
    "    soup = bs(result.text)\n",
    "    puf = soup.find_all(\"a\", {'class': 'content-card content-card-place'})\n",
    "    for x in puf:\n",
    "        total_link.append(x['href'])\n"
   ]
  },
  {
   "cell_type": "code",
   "execution_count": null,
   "metadata": {},
   "outputs": [],
   "source": [
    "f = open('total_link.txt',\"r\")\n",
    "total_link = f.read().split(\"\\n\")"
   ]
  },
  {
   "cell_type": "markdown",
   "metadata": {},
   "source": [
    "## 1.2. Crawl places"
   ]
  },
  {
   "cell_type": "code",
   "execution_count": null,
   "metadata": {},
   "outputs": [],
   "source": [
    "def downloadPage(start,end, array):\n",
    "    count_link = ((start-1)*18)+1\n",
    "    count_page = start\n",
    "    \n",
    "    parent_dir = f'./all_Pages'\n",
    "    s = requests.Session()\n",
    "    header = {'User-Agent': 'Mozilla/5.0 (Macintosh; Intel Mac OS X 10_10_1) AppleWebKit/537.36 (KHTML, like Gecko) Chrome/39.0.2171.95 Safari/537.36'}\n",
    "    for x in tqdm(range(start, end)):\n",
    "        if count_link%10 == 0:\n",
    "            s = requests.Session()\n",
    "        if count_link%18 == 1:\n",
    "            path = os.path.join(parent_dir, f\"folder_{count_page}\")\n",
    "            os.mkdir(path)\n",
    "        for y in range(18):\n",
    "            url = f'https://www.atlasobscura.com{array[count_link-1]}'\n",
    "            name_file = f'location_{count_link}'\n",
    "            name_folder = f'folder_{count_page}'\n",
    "            with open(f'./all_Pages/{name_folder}/{name_file}.html', 'w', encoding='utf8') as fp:\n",
    "                req = s.get(url, headers = header)\n",
    "                fp.write(req.text)\n",
    "                if req.status_code != 200:\n",
    "                     time.sleep(120)\n",
    "                     req = s.get(url, headers = header)\n",
    "                fp.write(s.get(url).text)\n",
    "            if count_link%18 == 0:\n",
    "                count_page += 1\n",
    "            count_link += 1\n",
    "           \n",
    "        "
   ]
  },
  {
   "cell_type": "markdown",
   "metadata": {},
   "source": [
    "## 1.3 Parse downloaded pages"
   ]
  },
  {
   "cell_type": "code",
   "execution_count": null,
   "metadata": {},
   "outputs": [],
   "source": [
    "\n",
    "def save_TSV():\n",
    "    os.mkdir(\"TSV Files\")\n",
    "    for x in os.listdir(\"all_Pages\"):\n",
    "        for y in os.listdir(f'all_Pages/{x}'):\n",
    "            with open(f'./all_Pages/{x}/{y}', encoding='utf8') as f:\n",
    "                p = f.read()\n",
    "                soup =  bs(p)\n",
    "                pageAttribute = []\n",
    "                placeName = findPlaceName(soup)\n",
    "                placeTags = findPlaceTags(soup)\n",
    "                numPeopleVisited = findNumPeopleVisited(soup)\n",
    "                numPeopleWant = findNumPeopleWant(soup)\n",
    "                placeDesc = findDescription(soup)\n",
    "                placeShortDesc = findShortDescription(soup)\n",
    "                placeNearby = findNearbyPlaces(soup)\n",
    "                placeAddress = findAddress(soup)\n",
    "                placeAlt, placeLong = findCordinates(soup)\n",
    "                placeEditors = findPostEditors(soup)\n",
    "                placePubDate = findPublishingDate(soup)\n",
    "                placeRelatedList = findPlaceNear(soup)\n",
    "                placeRelatedPlaces = findRelatedPlaces(soup)\n",
    "                placeURL = findPageURL(soup)\n",
    "                with open(f'./TSV Files/{y[:-5]}.tvs', 'wt', encoding='utf8') as fp:\n",
    "                    csv.writer(fp, delimiter='\\t').writerow([placeName, placeTags, numPeopleVisited, numPeopleWant, placeDesc, placeShortDesc, placeNearby, placeAddress, placeAlt, placeLong, placeEditors, placePubDate, placeRelatedList, placeRelatedPlaces, placeURL])\n",
    "            "
   ]
  },
  {
   "cell_type": "code",
   "execution_count": null,
   "metadata": {},
   "outputs": [],
   "source": [
    "\n",
    "def download_TSV():\n",
    "    os.mkdir(\"TSV Files\")\n",
    "    a = 0\n",
    "    for path in tqdm(glob.glob(r\"all_Pages/*/*\")):\n",
    "        with open(path, encoding='utf8') as f:\n",
    "                    a += 1\n",
    "                    p = f.read()\n",
    "                    soup =  bs(p)\n",
    "                    pageAttribute = []\n",
    "                    placeName = findPlaceName(soup)\n",
    "                    placeTags = findPlaceTags(soup)\n",
    "                    placeTags = \",\".join(placeTags)\n",
    "                    numPeopleVisited = findNumPeopleVisited(soup)\n",
    "                    numPeopleWant = findNumPeopleWant(soup)\n",
    "                    placeDesc = findDescription(soup)\n",
    "                    placeDesc = \" \".join(placeDesc)\n",
    "                    placeShortDesc = findShortDescription(soup)\n",
    "                    placeNearby = findNearbyPlaces(soup)\n",
    "                    placeNearby = \",\".join(placeNearby)\n",
    "                    placeAddress = findAddress(soup)\n",
    "                    placeAlt, placeLong = findCordinates(soup)\n",
    "                    placeEditors = findPostEditors(soup)\n",
    "                    placeEditors = \",\".join(placeEditors)\n",
    "                    placePubDate = findPublishingDate(soup)\n",
    "                    placeRelatedList = findPlaceNear(soup)\n",
    "                    placeRelatedList = \",\".join(placeRelatedList)\n",
    "                    placeRelatedPlaces = findRelatedPlaces(soup)\n",
    "                    placeRelatedPlaces = \",\".join(placeRelatedPlaces)\n",
    "                    placeURL = findPageURL(soup)\n",
    "                    with open(f'./TSV Files/{a}.tvs', 'wt', encoding='utf8') as fp:\n",
    "                        csv.writer(fp, delimiter='\\t').writerow([placeName, placeTags, numPeopleVisited, numPeopleWant, placeDesc, placeShortDesc, placeNearby, placeAddress, placeAlt, placeLong, placeEditors, placePubDate, placeRelatedList, placeRelatedPlaces, placeURL])\n",
    "        \n",
    "        "
   ]
  },
  {
   "cell_type": "code",
   "execution_count": null,
   "metadata": {},
   "outputs": [],
   "source": [
    "download_TSV()"
   ]
  },
  {
   "cell_type": "code",
   "execution_count": null,
   "metadata": {},
   "outputs": [],
   "source": [
    "def findPlaceName(soup):\n",
    "    placeName = soup.find(\"h1\", {\"class\": \"DDPage__header-title\"})\n",
    "    if placeName != None:\n",
    "        placeName = placeName.text\n",
    "    #placeName = re.sub('[A-Za-z0-9_.,! \"]*' ,'',placeName)\n",
    "    return placeName\n",
    "\n",
    "def findPlaceTags(soup):\n",
    "    tags = []\n",
    "    placeTags = soup.find_all(\"a\", {\"class\": \"itemTags__link js-item-tags-link\"})\n",
    "    for tag in placeTags:\n",
    "        t = tag.text.replace(\"\\n\", \"\")\n",
    "        #t = re.sub('[A-Za-z0-9 _.,!\"]*','',t)\n",
    "        tags.append(t)\n",
    "    return tags\n",
    "\n",
    "def findNumPeopleVisited(soup):\n",
    "    peopleVisited = soup.find_all(\"div\", {\"class\": \"title-md item-action-count\"})\n",
    "    if len(peopleVisited) > 0:\n",
    "        peopleVisited = int(peopleVisited[0].text)\n",
    "    return peopleVisited\n",
    "\n",
    "def findNumPeopleWant(soup):\n",
    "    peopleVisited = soup.find_all(\"div\", {\"class\": \"title-md item-action-count\"})\n",
    "    if len(peopleVisited) > 0:\n",
    "        peopleVisited = int(peopleVisited[1].text)\n",
    "    return peopleVisited\n",
    "\n",
    "def findDescription(soup):\n",
    "    all_description = []\n",
    "    descriptions = soup.find_all(\"div\", {\"class\": \"DDP__body-copy\"})\n",
    "    for description in descriptions:\n",
    "        d = description.text.replace(\"\\n\",\"\")\n",
    "        all_description.append(d)\n",
    "    return all_description\n",
    "\n",
    "def findShortDescription(soup):\n",
    "    shortDescription = soup.find(\"h3\", {\"class\": \"DDPage__header-dek\"})\n",
    "    if shortDescription != None:\n",
    "        shortDescription = shortDescription.text.replace(\"\\n\", \"\")\n",
    "    return shortDescription\n",
    "\n",
    "def findNearbyPlaces(soup):\n",
    "    nearPlaces = []\n",
    "    nearbyPlaces = soup.find_all(\"div\", {\"class\": \"DDPageSiderailRecirc__item-title\"})\n",
    "    if nearbyPlaces != None:\n",
    "        for place in nearbyPlaces:\n",
    "            p = place.text.replace(\"\\n\",\"\")\n",
    "            nearPlaces.append(p)\n",
    "        #Convert the list to set, and then back again to list to remove repetition\n",
    "    return set(nearPlaces)\n",
    "\n",
    "def findAddress(soup):\n",
    "    strings = []\n",
    "    adress_strings = soup.find(\"address\", {\"class\": \"DDPageSiderail__address\"})\n",
    "    if adress_strings != None:\n",
    "        adress_strings = adress_strings.find(\"div\")\n",
    "        for info in adress_strings:\n",
    "            s = info.text.replace(\"\\n\", \"\")\n",
    "            if s != \"\":\n",
    "                strings.append(s)\n",
    "        if len(strings) > 3:\n",
    "            return \" \".join(strings[:3])\n",
    "    else:\n",
    "        return \" \"\n",
    "\n",
    "def findCordinates(soup):\n",
    "\n",
    "    cordinates = soup.find(\"div\", {\"class\":\"DDPageSiderail__coordinates js-copy-coordinates\"})\n",
    "    if cordinates != None:\n",
    "        return cordinates.text.replace(\"\\n\", \"\").replace(\" \",\"\").split(\",\")\n",
    "    return \" \", \" \"\n",
    "\n",
    "def findPostEditors(soup):\n",
    "    all_editors =[]\n",
    "    editors = soup.find_all(\"a\", {\"class\":\"DDPContributorsList__contributor\"})         \n",
    "    for person in editors:\n",
    "        s = person.text.replace(\"\\n\", \"\")\n",
    "        all_editors.append(s)\n",
    "    return all_editors\n",
    "\n",
    "def findPublishingDate(soup):\n",
    "    #Pick the right info\n",
    "    dateString = soup.find(\"div\", {\"class\":\"DDPContributor__name\"}) \n",
    "    #Let's clean the string\n",
    "    if dateString != None:\n",
    "        s = dateString.text.replace(\"\\n\", \"\")\n",
    "        #Let's modify it for the right format of datetime\n",
    "        split = s.split()\n",
    "        #Let's convert the string Month into the corrispondent number by using \"strptime()\" \n",
    "        split[0] = str(datetime.datetime.strptime(split[0], '%B').month)\n",
    "        #My format\n",
    "        format = \"%m %d, %Y\"\n",
    "        #Convert from String to datetime\n",
    "        date = datetime.datetime.strptime(\" \".join(split), format)\n",
    "        return date\n",
    "    else:\n",
    "        return \"\"\n",
    "\n",
    "def findPlaceNear(soup):\n",
    "    lists =[]\n",
    "    relatedLists = soup.find(\"div\", {\"data-gtm-template\":\"DDP Footer Recirc Nearby\"})\n",
    "    if relatedLists != None:\n",
    "        relatedLists = relatedLists.find_all(\"h3\", {\"class\":\"Card__heading --content-card-v2-title js-title-content\"})\n",
    "        for list in relatedLists:\n",
    "            s = list.text.replace(\"\\n\", \"\")\n",
    "            #s = re.sub('[A-Za-z0-9 _.,!\"]*','',s)\n",
    "            lists.append(s)\n",
    "    return lists\n",
    "\n",
    "def findRelatedPlaces(soup):\n",
    "    lists =[]\n",
    "    relatedLists = soup.find(\"div\", {\"data-gtm-template\":\"DDP Footer Recirc Related\"})\n",
    "    if relatedLists != None:\n",
    "        relatedLists = relatedLists.find_all(\"h3\", {\"class\":\"Card__heading --content-card-v2-title js-title-content\"})\n",
    "        for list in relatedLists:\n",
    "            s = list.text.replace(\"\\n\", \"\")\n",
    "            #s = re.sub('[A-Za-z0-9 _.,!\"]*','',s)\n",
    "            lists.append(s)\n",
    "    return lists\n",
    "\n",
    "def findPageURL(soup):\n",
    "    numVisitedPeople = soup.find(\"link\", {\"rel\":\"canonical\"})\n",
    "    return numVisitedPeople['href']\n",
    "\n"
   ]
  },
  {
   "cell_type": "markdown",
   "metadata": {},
   "source": [
    "## Load all the tsv file into one pandas dataframe"
   ]
  },
  {
   "cell_type": "markdown",
   "metadata": {},
   "source": [
    "We decided to save all the .tsv file as one joined .csv where every file rappresents one row of the .csv file, so that we can work and access the data without having to read 7200 tsv file each time. The data are stored in the \"tsv_dataframe\"\n",
    "\n",
    "This mean that the function load_tsv() has only been executed once. The other iteration we just read the .csv file"
   ]
  },
  {
   "cell_type": "code",
   "execution_count": null,
   "metadata": {},
   "outputs": [],
   "source": [
    "\n",
    "def load_tsv() -> pd.DataFrame:\n",
    "    tsv = []\n",
    "    dtypes = {}\n",
    "    for x in tqdm(os.listdir(\"TSV Files\")):\n",
    "        df = pd.read_csv(f'TSV Files/{x}',\n",
    "            sep=\"\\t\",\n",
    "            header=None,\n",
    "            names=[\"placeName\", \"placeTags\", \"numPeopleVisited\", \"numPeopleWant\", \"placeDesc\", \"placeShortDesc\", \"placeNearby\",\"placeAdress\", \"placeAlt\", \"placeLong\", \"placeEditors\",\"placePubDate\", \"placeRelatedList\", \"placeRelatedPlace\", \"placeURL\"])\n",
    "        tsv.append(df)\n",
    "\n",
    "    return pd.concat(tsv)"
   ]
  },
  {
   "cell_type": "code",
   "execution_count": 35,
   "metadata": {},
   "outputs": [],
   "source": [
    "# data = load_tsv()\n",
    "data = pd.read_csv(\"tsv_dataframe.csv\",index_col=0)\n",
    "\n",
    "#Reset Index\n",
    "data.reset_index(inplace = True, drop=True)"
   ]
  },
  {
   "cell_type": "code",
   "execution_count": 4,
   "metadata": {},
   "outputs": [
    {
     "name": "stdout",
     "output_type": "stream",
     "text": [
      "<class 'pandas.core.frame.DataFrame'>\n",
      "RangeIndex: 7200 entries, 0 to 7199\n",
      "Data columns (total 15 columns):\n",
      " #   Column             Non-Null Count  Dtype  \n",
      "---  ------             --------------  -----  \n",
      " 0   placeName          7200 non-null   object \n",
      " 1   placeTags          7166 non-null   object \n",
      " 2   numPeopleVisited   7200 non-null   int64  \n",
      " 3   numPeopleWant      7200 non-null   int64  \n",
      " 4   placeDesc          7200 non-null   object \n",
      " 5   placeShortDesc     7200 non-null   object \n",
      " 6   placeNearby        7200 non-null   object \n",
      " 7   placeAdress        7166 non-null   object \n",
      " 8   placeAlt           7200 non-null   float64\n",
      " 9   placeLong          7200 non-null   float64\n",
      " 10  placeEditors       7194 non-null   object \n",
      " 11  placePubDate       7199 non-null   object \n",
      " 12  placeRelatedList   7199 non-null   object \n",
      " 13  placeRelatedPlace  7166 non-null   object \n",
      " 14  placeURL           7200 non-null   object \n",
      "dtypes: float64(2), int64(2), object(11)\n",
      "memory usage: 843.9+ KB\n"
     ]
    }
   ],
   "source": [
    "data.info()"
   ]
  },
  {
   "cell_type": "code",
   "execution_count": 28,
   "metadata": {},
   "outputs": [
    {
     "data": {
      "text/html": [
       "<div>\n",
       "<style scoped>\n",
       "    .dataframe tbody tr th:only-of-type {\n",
       "        vertical-align: middle;\n",
       "    }\n",
       "\n",
       "    .dataframe tbody tr th {\n",
       "        vertical-align: top;\n",
       "    }\n",
       "\n",
       "    .dataframe thead th {\n",
       "        text-align: right;\n",
       "    }\n",
       "</style>\n",
       "<table border=\"1\" class=\"dataframe\">\n",
       "  <thead>\n",
       "    <tr style=\"text-align: right;\">\n",
       "      <th></th>\n",
       "      <th>placeName</th>\n",
       "      <th>placeTags</th>\n",
       "      <th>numPeopleVisited</th>\n",
       "      <th>numPeopleWant</th>\n",
       "      <th>placeDesc</th>\n",
       "      <th>placeShortDesc</th>\n",
       "      <th>placeNearby</th>\n",
       "      <th>placeAdress</th>\n",
       "      <th>placeAlt</th>\n",
       "      <th>placeLong</th>\n",
       "      <th>placeEditors</th>\n",
       "      <th>placePubDate</th>\n",
       "      <th>placeRelatedList</th>\n",
       "      <th>placeRelatedPlace</th>\n",
       "      <th>placeURL</th>\n",
       "    </tr>\n",
       "  </thead>\n",
       "  <tbody>\n",
       "    <tr>\n",
       "      <th>0</th>\n",
       "      <td>City Hall Station</td>\n",
       "      <td>subways,subterranean,infrastructure,subterrane...</td>\n",
       "      <td>1834</td>\n",
       "      <td>8603</td>\n",
       "      <td>The first New York City subway was built and o...</td>\n",
       "      <td>A beautiful and abandoned New York subway stat...</td>\n",
       "      <td>The Sugar House Prison Window,Tunnel Number 3,...</td>\n",
       "      <td>31 Centre St New York, New York, 10007 United ...</td>\n",
       "      <td>40.7134</td>\n",
       "      <td>-74.0046</td>\n",
       "      <td>Rebekah Otto,Annetta Black,Allan,charding407,w...</td>\n",
       "      <td>2010-05-08 00:00:00</td>\n",
       "      <td>African Burial Ground National Monument,Tunnel...</td>\n",
       "      <td>Crystal Palace Subway,Moscow Metro Stations,Ro...</td>\n",
       "      <td>https://www.atlasobscura.com/places/city-hall-...</td>\n",
       "    </tr>\n",
       "    <tr>\n",
       "      <th>1</th>\n",
       "      <td>The Winchester Mystery House</td>\n",
       "      <td>follies and grottoes,outsider architecture,ecc...</td>\n",
       "      <td>3723</td>\n",
       "      <td>5209</td>\n",
       "      <td>In 1886 an eccentric woman named Sarah Winches...</td>\n",
       "      <td>A peculiar mansion built by the troubled heir ...</td>\n",
       "      <td>Rosicrucian Park,Rosicrucian Egyptian Museum,S...</td>\n",
       "      <td>525 South Winchester Boulevard San Jose, Calif...</td>\n",
       "      <td>37.3189</td>\n",
       "      <td>-121.9506</td>\n",
       "      <td>mbison,Avoiding Regret,PrestonW,Collin,Destina...</td>\n",
       "      <td>2008-11-21 00:00:00</td>\n",
       "      <td>Santana Row Chess Plaza,Rosicrucian Park,Rosic...</td>\n",
       "      <td>Casa de Piedra (Stone House),Portmeirion Villa...</td>\n",
       "      <td>https://www.atlasobscura.com/places/winchester...</td>\n",
       "    </tr>\n",
       "    <tr>\n",
       "      <th>2</th>\n",
       "      <td>Center for Puppetry Arts</td>\n",
       "      <td>sesame street,puppets,museums</td>\n",
       "      <td>705</td>\n",
       "      <td>1027</td>\n",
       "      <td>If you know your Gonzo from your Gelflings, yo...</td>\n",
       "      <td>The largest puppetry museum in the USA houses ...</td>\n",
       "      <td>Breman Museum,The Consulate,Atlanta Monetary M...</td>\n",
       "      <td>1404 Spring St Atlanta, Georgia United States</td>\n",
       "      <td>33.7927</td>\n",
       "      <td>-84.3896</td>\n",
       "      <td>kendallmbailey,Martin,andydoesit,We All Pod Do...</td>\n",
       "      <td>2018-11-12 00:00:00</td>\n",
       "      <td>Breman Museum,Atlanta Monetary Museum,The Cons...</td>\n",
       "      <td>Portland Puppet Museum,Museu da Marioneta (Mus...</td>\n",
       "      <td>https://www.atlasobscura.com/places/center-for...</td>\n",
       "    </tr>\n",
       "    <tr>\n",
       "      <th>3</th>\n",
       "      <td>Amityville Horror House</td>\n",
       "      <td>hoaxes and pseudoscience,haunted,film location...</td>\n",
       "      <td>367</td>\n",
       "      <td>831</td>\n",
       "      <td>On a cold November night in 1974, Amityville, ...</td>\n",
       "      <td>The site of a tragic massacre that spawned a m...</td>\n",
       "      <td>The Long Island Puppet Theater,Pilgrim Psychia...</td>\n",
       "      <td>112 Ocean Avenue Amityville, New York, 11701 U...</td>\n",
       "      <td>40.6665</td>\n",
       "      <td>-73.4143</td>\n",
       "      <td>EricGrundhauser,MandrewPatinkin,lendog666,Mart...</td>\n",
       "      <td>2013-10-17 00:00:00</td>\n",
       "      <td>The Long Island Puppet Theater,Fire Island Lig...</td>\n",
       "      <td>Conanicut Island Lighthouse,Lovell Health Hous...</td>\n",
       "      <td>https://www.atlasobscura.com/places/amityville...</td>\n",
       "    </tr>\n",
       "    <tr>\n",
       "      <th>4</th>\n",
       "      <td>Yuma Territorial Prison</td>\n",
       "      <td>prisons,crime and punishment</td>\n",
       "      <td>422</td>\n",
       "      <td>833</td>\n",
       "      <td>On July 1, 1876, the first seven inmates enter...</td>\n",
       "      <td>Walk through the actual strap iron cells and s...</td>\n",
       "      <td>Valley of the Names,Felicity, California: Cent...</td>\n",
       "      <td>1 Prison Hill Rd Yuma, Arizona, 85364 United S...</td>\n",
       "      <td>32.7266</td>\n",
       "      <td>-114.6144</td>\n",
       "      <td>desertfairy,mbison,CorpseLady84,Avoiding Regre...</td>\n",
       "      <td>2010-04-01 00:00:00</td>\n",
       "      <td>Felicity, California: Center of the World,Vall...</td>\n",
       "      <td>Buckley's Cave,Palazzo d'Avalos,Oxford Castle ...</td>\n",
       "      <td>https://www.atlasobscura.com/places/yuma-terri...</td>\n",
       "    </tr>\n",
       "  </tbody>\n",
       "</table>\n",
       "</div>"
      ],
      "text/plain": [
       "                      placeName  \\\n",
       "0             City Hall Station   \n",
       "1  The Winchester Mystery House   \n",
       "2      Center for Puppetry Arts   \n",
       "3       Amityville Horror House   \n",
       "4       Yuma Territorial Prison   \n",
       "\n",
       "                                           placeTags  numPeopleVisited  \\\n",
       "0  subways,subterranean,infrastructure,subterrane...              1834   \n",
       "1  follies and grottoes,outsider architecture,ecc...              3723   \n",
       "2                      sesame street,puppets,museums               705   \n",
       "3  hoaxes and pseudoscience,haunted,film location...               367   \n",
       "4                       prisons,crime and punishment               422   \n",
       "\n",
       "   numPeopleWant                                          placeDesc  \\\n",
       "0           8603  The first New York City subway was built and o...   \n",
       "1           5209  In 1886 an eccentric woman named Sarah Winches...   \n",
       "2           1027  If you know your Gonzo from your Gelflings, yo...   \n",
       "3            831  On a cold November night in 1974, Amityville, ...   \n",
       "4            833  On July 1, 1876, the first seven inmates enter...   \n",
       "\n",
       "                                      placeShortDesc  \\\n",
       "0  A beautiful and abandoned New York subway stat...   \n",
       "1  A peculiar mansion built by the troubled heir ...   \n",
       "2  The largest puppetry museum in the USA houses ...   \n",
       "3  The site of a tragic massacre that spawned a m...   \n",
       "4  Walk through the actual strap iron cells and s...   \n",
       "\n",
       "                                         placeNearby  \\\n",
       "0  The Sugar House Prison Window,Tunnel Number 3,...   \n",
       "1  Rosicrucian Park,Rosicrucian Egyptian Museum,S...   \n",
       "2  Breman Museum,The Consulate,Atlanta Monetary M...   \n",
       "3  The Long Island Puppet Theater,Pilgrim Psychia...   \n",
       "4  Valley of the Names,Felicity, California: Cent...   \n",
       "\n",
       "                                         placeAdress  placeAlt  placeLong  \\\n",
       "0  31 Centre St New York, New York, 10007 United ...   40.7134   -74.0046   \n",
       "1  525 South Winchester Boulevard San Jose, Calif...   37.3189  -121.9506   \n",
       "2      1404 Spring St Atlanta, Georgia United States   33.7927   -84.3896   \n",
       "3  112 Ocean Avenue Amityville, New York, 11701 U...   40.6665   -73.4143   \n",
       "4  1 Prison Hill Rd Yuma, Arizona, 85364 United S...   32.7266  -114.6144   \n",
       "\n",
       "                                        placeEditors         placePubDate  \\\n",
       "0  Rebekah Otto,Annetta Black,Allan,charding407,w...  2010-05-08 00:00:00   \n",
       "1  mbison,Avoiding Regret,PrestonW,Collin,Destina...  2008-11-21 00:00:00   \n",
       "2  kendallmbailey,Martin,andydoesit,We All Pod Do...  2018-11-12 00:00:00   \n",
       "3  EricGrundhauser,MandrewPatinkin,lendog666,Mart...  2013-10-17 00:00:00   \n",
       "4  desertfairy,mbison,CorpseLady84,Avoiding Regre...  2010-04-01 00:00:00   \n",
       "\n",
       "                                    placeRelatedList  \\\n",
       "0  African Burial Ground National Monument,Tunnel...   \n",
       "1  Santana Row Chess Plaza,Rosicrucian Park,Rosic...   \n",
       "2  Breman Museum,Atlanta Monetary Museum,The Cons...   \n",
       "3  The Long Island Puppet Theater,Fire Island Lig...   \n",
       "4  Felicity, California: Center of the World,Vall...   \n",
       "\n",
       "                                   placeRelatedPlace  \\\n",
       "0  Crystal Palace Subway,Moscow Metro Stations,Ro...   \n",
       "1  Casa de Piedra (Stone House),Portmeirion Villa...   \n",
       "2  Portland Puppet Museum,Museu da Marioneta (Mus...   \n",
       "3  Conanicut Island Lighthouse,Lovell Health Hous...   \n",
       "4  Buckley's Cave,Palazzo d'Avalos,Oxford Castle ...   \n",
       "\n",
       "                                            placeURL  \n",
       "0  https://www.atlasobscura.com/places/city-hall-...  \n",
       "1  https://www.atlasobscura.com/places/winchester...  \n",
       "2  https://www.atlasobscura.com/places/center-for...  \n",
       "3  https://www.atlasobscura.com/places/amityville...  \n",
       "4  https://www.atlasobscura.com/places/yuma-terri...  "
      ]
     },
     "execution_count": 28,
     "metadata": {},
     "output_type": "execute_result"
    }
   ],
   "source": [
    "data.head()"
   ]
  },
  {
   "cell_type": "code",
   "execution_count": 36,
   "metadata": {},
   "outputs": [
    {
     "name": "stdout",
     "output_type": "stream",
     "text": [
      "<class 'pandas.core.frame.DataFrame'>\n",
      "RangeIndex: 7200 entries, 0 to 7199\n",
      "Data columns (total 15 columns):\n",
      " #   Column             Non-Null Count  Dtype  \n",
      "---  ------             --------------  -----  \n",
      " 0   placeName          7200 non-null   object \n",
      " 1   placeTags          7200 non-null   object \n",
      " 2   numPeopleVisited   7200 non-null   int64  \n",
      " 3   numPeopleWant      7200 non-null   int64  \n",
      " 4   placeDesc          7200 non-null   object \n",
      " 5   placeShortDesc     7200 non-null   object \n",
      " 6   placeNearby        7200 non-null   object \n",
      " 7   placeAdress        7200 non-null   object \n",
      " 8   placeAlt           7200 non-null   float64\n",
      " 9   placeLong          7200 non-null   float64\n",
      " 10  placeEditors       7200 non-null   object \n",
      " 11  placePubDate       7200 non-null   object \n",
      " 12  placeRelatedList   7200 non-null   object \n",
      " 13  placeRelatedPlace  7200 non-null   object \n",
      " 14  placeURL           7200 non-null   object \n",
      "dtypes: float64(2), int64(2), object(11)\n",
      "memory usage: 843.9+ KB\n"
     ]
    }
   ],
   "source": [
    "data = data.fillna(\"\")\n",
    "data.info()"
   ]
  },
  {
   "cell_type": "markdown",
   "metadata": {},
   "source": [
    "# 2. Search Engine"
   ]
  },
  {
   "cell_type": "code",
   "execution_count": 19,
   "metadata": {},
   "outputs": [],
   "source": [
    "#TODO\n",
    "#1. cambiare 'dic1' con 'vocabulary'\n",
    "#2. cambiare 'dic2' con 'inverted_index'\n",
    "#3. cambiare 'dic3' con 'inverted_index_2'\n",
    "#4. calcolare nuovo dizionario 3"
   ]
  },
  {
   "cell_type": "markdown",
   "metadata": {},
   "source": [
    "### funzioni poi da togliere dal file principale"
   ]
  },
  {
   "cell_type": "code",
   "execution_count": 37,
   "metadata": {},
   "outputs": [],
   "source": [
    "\n",
    "\n",
    "def remove_punctuations(string) -> list:\n",
    "    # first we remove the punctuations\n",
    "    # in order to do it we need to tekenize the string with the function tokenize and then applying the function RegexpTokenizer\n",
    "    return RegexpTokenizer(r'\\w+').tokenize(string)\n",
    "\n",
    "\n",
    "def stemming(string) -> list:\n",
    "    # now we move forward with the stemming\n",
    "    porter = PorterStemmer()\n",
    "    string_stem=[porter.stem(word) for word in string]\n",
    "    # we can now return the cleaned string \n",
    "    return string_stem\n",
    "\n",
    "def remove_stopwords(string) -> list:\n",
    "    # after this we can now remove all the stopwords in each word in string_t\n",
    "    return  [word for word in string if not word.lower() in set(stopwords.words(\"english\"))]\n",
    "    # now we move forward with the stemming\n",
    "\n",
    "def remove_numbers(string) -> list:\n",
    "    for num in range(len(string)):\n",
    "        if any(chr.isdigit() for chr in string[num]):\n",
    "            string[num] = ''.join((x for x in string[num] if not x.isdigit()))\n",
    "    return string\n",
    "\n",
    "\n",
    "\n",
    "def cleaning(string) -> list:\n",
    "    #I apply all the function for cleaning the string\n",
    "    string = string.lower()\n",
    "    string = remove_punctuations(string)\n",
    "    string = remove_stopwords(string)\n",
    "    string = remove_numbers(string)\n",
    "    string = stemming(string)\n",
    "\n",
    "    #return a list containing all the words of the original string after the cleaning\n",
    "    return string"
   ]
  },
  {
   "cell_type": "code",
   "execution_count": 38,
   "metadata": {},
   "outputs": [],
   "source": [
    "def save_dic(dic, name):\n",
    "    with open(f'./Dictionary/{name}.pkl', 'wb') as f:\n",
    "        pickle.dump(dic, f)"
   ]
  },
  {
   "cell_type": "code",
   "execution_count": 39,
   "metadata": {},
   "outputs": [],
   "source": [
    "def read_dic(name):\n",
    "    with open(f'./Dictionary/{name}.pkl', 'rb') as f:\n",
    "        loaded_dict = pickle.load(f)\n",
    "        return loaded_dict"
   ]
  },
  {
   "cell_type": "markdown",
   "metadata": {},
   "source": [
    "Before starting the search engines, since we'll look for words in the descriptions of each place, we clean the collected placeDesc for every place in the dataset.  \n",
    "In order to have later a more readable output we'll not sobsitute the column placeDesc with the one with all the cleaned descriptions but we'll add another column to our dataset 'data'.   \n",
    "In particular the function *cleaning*, that we apply in the next cell at every description, will:\n",
    "- convert all the upper characters in lower ones;\n",
    "- remove all the punctuations;\n",
    "- remove all the stopwords;\n",
    "- remove all numbers;\n",
    "- stem the string."
   ]
  },
  {
   "cell_type": "markdown",
   "metadata": {},
   "source": [
    "Let's create a new column with the clean descriptions:"
   ]
  },
  {
   "cell_type": "code",
   "execution_count": null,
   "metadata": {},
   "outputs": [],
   "source": [
    "#The function cleaning takes as input a string (a description) and returns the cleaned description as a list of strings\n",
    "data['cleanDesc'] = data.placeDesc.apply(lambda row: \" \".join(cleaning(row)))"
   ]
  },
  {
   "cell_type": "markdown",
   "metadata": {},
   "source": [
    "Now we save the data as a .csv file for future uses so that we don't need to run again the previous cell."
   ]
  },
  {
   "cell_type": "code",
   "execution_count": 11,
   "metadata": {},
   "outputs": [],
   "source": [
    "data.to_csv(\"dataframe_clean.csv\")"
   ]
  },
  {
   "cell_type": "markdown",
   "metadata": {},
   "source": [
    "Run the following cell if you want the original dataframe with a column 'cleanDesc' with the cleaned description."
   ]
  },
  {
   "cell_type": "code",
   "execution_count": 103,
   "metadata": {},
   "outputs": [],
   "source": [
    "data = pd.read_csv(\"dataframe_clean.csv\")\n",
    "data.fillna('', inplace=True)"
   ]
  },
  {
   "cell_type": "markdown",
   "metadata": {},
   "source": [
    "## 2.1 Conjunctive query"
   ]
  },
  {
   "cell_type": "markdown",
   "metadata": {},
   "source": [
    "### 2.1.1) Create your index!"
   ]
  },
  {
   "cell_type": "markdown",
   "metadata": {},
   "source": [
    "The next function *createFirstDic*, given the dataset 'data', will return the dictionary *vocabulary* .     \n",
    "Vocabulary will be such that every key is a unique word contained in the descriptions and its corresponing value is an integer that identifies that word."
   ]
  },
  {
   "cell_type": "code",
   "execution_count": 41,
   "metadata": {},
   "outputs": [],
   "source": [
    "def createFirstDic(data: pd.DataFrame, nameCol: str) -> dict:\n",
    "    # first we create an empty dictionary\n",
    "    dic = {}\n",
    "    value = 1\n",
    "    for description in tqdm(data[nameCol]):\n",
    "        for word in description.split():\n",
    "            # if the word is already in the dictionary keys this mean that it has already even a corresponding number and\n",
    "            # so we can skip to the next word in the fixed description\n",
    "            if word in dic.keys():\n",
    "                continue\n",
    "            # otherwise we create a new key named 'word' with value = value and then we upgrade value\n",
    "            else:\n",
    "                dic[word] = value\n",
    "                value += 1\n",
    "    return dic"
   ]
  },
  {
   "cell_type": "markdown",
   "metadata": {},
   "source": [
    "We can now call the function createFirstDic and store its output as *vocabulary*:"
   ]
  },
  {
   "cell_type": "code",
   "execution_count": 50,
   "metadata": {},
   "outputs": [
    {
     "name": "stderr",
     "output_type": "stream",
     "text": [
      "100%|██████████| 7200/7200 [00:00<00:00, 24868.95it/s]\n"
     ]
    }
   ],
   "source": [
    "vocabulary = createFirstDic(data, \"cleanDesc\")"
   ]
  },
  {
   "cell_type": "markdown",
   "metadata": {},
   "source": [
    "The second dictionary that we'll need for the first search engine is *inverted index* that is such that every key is an integer that identifies a word and its corresponding value is a set of all the document_id that contain that word.    \n",
    "The following function *createSecondDic*, given as input the dataset 'data' and the dictionary 'vocabulary', will return the *inverted index* dictionary.  "
   ]
  },
  {
   "cell_type": "code",
   "execution_count": 52,
   "metadata": {},
   "outputs": [],
   "source": [
    "def createSecondDic(data: pd.DataFrame, vocabulary: dict, nameCol: str) -> dict:\n",
    "    dic = {}\n",
    "    # a will keep track of the row index of the data\n",
    "    a = 0\n",
    "    # we take one description at a time from the column 'cleanDesc'\n",
    "    for description in tqdm(data[nameCol]):\n",
    "        # for every word in the fixed description \n",
    "        for word in description.split():\n",
    "            # if the corresponding integer of the word is already in the keys of the inverted_index then we need to\n",
    "            # add the document_id of the fixed description to the already existing set\n",
    "            if vocabulary[word] in dic.keys():\n",
    "                dic[vocabulary[word]].add(data.placeName[a])\n",
    "            # otherwise we create a new key named as the corresponding integer of the word with value equal to a set that \n",
    "            # contains the document_id of the fixed description\n",
    "            else:\n",
    "                dic[vocabulary[word]] = set([data.placeName[a]])\n",
    "        a += 1\n",
    "    return dic\n",
    "\n",
    "    "
   ]
  },
  {
   "cell_type": "markdown",
   "metadata": {},
   "source": [
    "We can now call the function createSecondDic and store its output as *inverted_index*:"
   ]
  },
  {
   "cell_type": "code",
   "execution_count": 53,
   "metadata": {},
   "outputs": [
    {
     "name": "stderr",
     "output_type": "stream",
     "text": [
      "100%|██████████| 7200/7200 [00:09<00:00, 787.68it/s]\n"
     ]
    }
   ],
   "source": [
    "inverted_index = createSecondDic(data,vocabulary, \"cleanDesc\")"
   ]
  },
  {
   "cell_type": "markdown",
   "metadata": {},
   "source": [
    "Even in this case we can store the two dictionary in a separate file so that we don't need to run the codes everytime we need them."
   ]
  },
  {
   "cell_type": "code",
   "execution_count": 56,
   "metadata": {},
   "outputs": [],
   "source": [
    "save_dic(vocabulary, \"vocabulary\")\n",
    "save_dic(inverted_index,\"inverted_index\")"
   ]
  },
  {
   "cell_type": "markdown",
   "metadata": {},
   "source": [
    "Run the following cell if you want the dictionaries *vocabulary* and *inverted_index*."
   ]
  },
  {
   "cell_type": "code",
   "execution_count": 57,
   "metadata": {},
   "outputs": [],
   "source": [
    "vocabulary = read_dic(\"vocabulary\")\n",
    "inverted_index = read_dic(\"inverted_index\")"
   ]
  },
  {
   "cell_type": "markdown",
   "metadata": {},
   "source": [
    "### 2.1.2) Execute the query"
   ]
  },
  {
   "cell_type": "markdown",
   "metadata": {},
   "source": [
    "First of all we ask the user which query do we have to look for in the places descriptions and we store it as a string named *q*:"
   ]
  },
  {
   "cell_type": "code",
   "execution_count": 58,
   "metadata": {},
   "outputs": [],
   "source": [
    "q = input('Insert the query that you want to find in the places descriptions: ')"
   ]
  },
  {
   "cell_type": "markdown",
   "metadata": {},
   "source": [
    "Before starting the first search engine with the query *q* we need to clean q too."
   ]
  },
  {
   "cell_type": "code",
   "execution_count": 59,
   "metadata": {},
   "outputs": [
    {
     "name": "stdout",
     "output_type": "stream",
     "text": [
      "['american', 'museum']\n"
     ]
    }
   ],
   "source": [
    "q = cleaning(q) \n",
    "# now q is a list that contains the cleaned word of the input query\n",
    "print(q)"
   ]
  },
  {
   "cell_type": "markdown",
   "metadata": {},
   "source": [
    "The next function *query* is our first search engine that, given as input a list of words (the query), it will return as output a list of all the documents_id that contain all the words in the list."
   ]
  },
  {
   "cell_type": "code",
   "execution_count": 60,
   "metadata": {},
   "outputs": [],
   "source": [
    "def query(list, vocabulary, inverted_index):\n",
    "    # s is the set of the documents_id that contain the first word in the query\n",
    "    s = inverted_index[vocabulary[list[0]]]\n",
    "    # starting from the second word in the query till the last we'll intersect the set s with the set of all the documents_id \n",
    "    # that contain the fixed word \n",
    "    for x in range(1, len(list)):\n",
    "        s.intersection(inverted_index[vocabulary[list[x]]])\n",
    "    return s"
   ]
  },
  {
   "cell_type": "markdown",
   "metadata": {},
   "source": [
    "We can now execute the previous function with our query q:"
   ]
  },
  {
   "cell_type": "code",
   "execution_count": 62,
   "metadata": {},
   "outputs": [],
   "source": [
    "s = query(q,vocabulary,inverted_index)\n",
    "# s is the set with all the documents_id of all the descriptions that contain all the words in the query"
   ]
  },
  {
   "cell_type": "markdown",
   "metadata": {},
   "source": [
    "We can now create a new dataset *res_query* with just the places we're interested in:"
   ]
  },
  {
   "cell_type": "code",
   "execution_count": 63,
   "metadata": {},
   "outputs": [],
   "source": [
    "res_query = data[data['placeName'].isin(list(s))]"
   ]
  },
  {
   "cell_type": "markdown",
   "metadata": {},
   "source": [
    "With the following code we'll show the result of the first search engine.    \n",
    "In particular we'll show just the places names, their description and their URL."
   ]
  },
  {
   "cell_type": "code",
   "execution_count": 64,
   "metadata": {},
   "outputs": [
    {
     "data": {
      "text/html": [
       "<div>\n",
       "<style scoped>\n",
       "    .dataframe tbody tr th:only-of-type {\n",
       "        vertical-align: middle;\n",
       "    }\n",
       "\n",
       "    .dataframe tbody tr th {\n",
       "        vertical-align: top;\n",
       "    }\n",
       "\n",
       "    .dataframe thead th {\n",
       "        text-align: right;\n",
       "    }\n",
       "</style>\n",
       "<table border=\"1\" class=\"dataframe\">\n",
       "  <thead>\n",
       "    <tr style=\"text-align: right;\">\n",
       "      <th></th>\n",
       "      <th>placeName</th>\n",
       "      <th>placeDesc</th>\n",
       "      <th>placeURL</th>\n",
       "    </tr>\n",
       "  </thead>\n",
       "  <tbody>\n",
       "    <tr>\n",
       "      <th>3</th>\n",
       "      <td>Amityville Horror House</td>\n",
       "      <td>On a cold November night in 1974, Amityville, ...</td>\n",
       "      <td>https://www.atlasobscura.com/places/amityville...</td>\n",
       "    </tr>\n",
       "    <tr>\n",
       "      <th>6</th>\n",
       "      <td>American Prohibition Museum</td>\n",
       "      <td>When the 18th Amendment to the U.S. Constituti...</td>\n",
       "      <td>https://www.atlasobscura.com/places/american-p...</td>\n",
       "    </tr>\n",
       "    <tr>\n",
       "      <th>13</th>\n",
       "      <td>Wild Blueberry Land</td>\n",
       "      <td>There is no shortage of bizarre American highw...</td>\n",
       "      <td>https://www.atlasobscura.com/places/wild-blueb...</td>\n",
       "    </tr>\n",
       "    <tr>\n",
       "      <th>39</th>\n",
       "      <td>The Avrocar</td>\n",
       "      <td>The year was 1952 and the Cold War was in full...</td>\n",
       "      <td>https://www.atlasobscura.com/places/avrocar</td>\n",
       "    </tr>\n",
       "    <tr>\n",
       "      <th>59</th>\n",
       "      <td>Laurel Dinosaur Park</td>\n",
       "      <td>During the 18th and 19th centuries, clay forma...</td>\n",
       "      <td>https://www.atlasobscura.com/places/laurel-din...</td>\n",
       "    </tr>\n",
       "    <tr>\n",
       "      <th>...</th>\n",
       "      <td>...</td>\n",
       "      <td>...</td>\n",
       "      <td>...</td>\n",
       "    </tr>\n",
       "    <tr>\n",
       "      <th>7155</th>\n",
       "      <td>Garden of Eden Trail</td>\n",
       "      <td>In the 1950s retired lawyer and Republican can...</td>\n",
       "      <td>https://www.atlasobscura.com/places/garden-of-...</td>\n",
       "    </tr>\n",
       "    <tr>\n",
       "      <th>7183</th>\n",
       "      <td>Theodore Roosevelt Birthplace Museum</td>\n",
       "      <td>Behind an otherwise innocuous (if immaculately...</td>\n",
       "      <td>https://www.atlasobscura.com/places/theodore-r...</td>\n",
       "    </tr>\n",
       "    <tr>\n",
       "      <th>7184</th>\n",
       "      <td>Cabaret Mechanical Theatre</td>\n",
       "      <td>It’s not a theater and it’s not a cabaret, so ...</td>\n",
       "      <td>https://www.atlasobscura.com/places/cabaret-me...</td>\n",
       "    </tr>\n",
       "    <tr>\n",
       "      <th>7186</th>\n",
       "      <td>Timothy Demonbreun's Cave</td>\n",
       "      <td>Seemingly little more than a wide crack in the...</td>\n",
       "      <td>https://www.atlasobscura.com/places/timothy-de...</td>\n",
       "    </tr>\n",
       "    <tr>\n",
       "      <th>7188</th>\n",
       "      <td>Milwaukee Art Museum</td>\n",
       "      <td>Like the Guggenheim in New York and the Oaklan...</td>\n",
       "      <td>https://www.atlasobscura.com/places/milwaukee-...</td>\n",
       "    </tr>\n",
       "  </tbody>\n",
       "</table>\n",
       "<p>896 rows × 3 columns</p>\n",
       "</div>"
      ],
      "text/plain": [
       "                                 placeName  \\\n",
       "3                  Amityville Horror House   \n",
       "6              American Prohibition Museum   \n",
       "13                     Wild Blueberry Land   \n",
       "39                            The Avrocar    \n",
       "59                    Laurel Dinosaur Park   \n",
       "...                                    ...   \n",
       "7155                  Garden of Eden Trail   \n",
       "7183  Theodore Roosevelt Birthplace Museum   \n",
       "7184            Cabaret Mechanical Theatre   \n",
       "7186             Timothy Demonbreun's Cave   \n",
       "7188                  Milwaukee Art Museum   \n",
       "\n",
       "                                              placeDesc  \\\n",
       "3     On a cold November night in 1974, Amityville, ...   \n",
       "6     When the 18th Amendment to the U.S. Constituti...   \n",
       "13    There is no shortage of bizarre American highw...   \n",
       "39    The year was 1952 and the Cold War was in full...   \n",
       "59    During the 18th and 19th centuries, clay forma...   \n",
       "...                                                 ...   \n",
       "7155  In the 1950s retired lawyer and Republican can...   \n",
       "7183  Behind an otherwise innocuous (if immaculately...   \n",
       "7184  It’s not a theater and it’s not a cabaret, so ...   \n",
       "7186  Seemingly little more than a wide crack in the...   \n",
       "7188  Like the Guggenheim in New York and the Oaklan...   \n",
       "\n",
       "                                               placeURL  \n",
       "3     https://www.atlasobscura.com/places/amityville...  \n",
       "6     https://www.atlasobscura.com/places/american-p...  \n",
       "13    https://www.atlasobscura.com/places/wild-blueb...  \n",
       "39          https://www.atlasobscura.com/places/avrocar  \n",
       "59    https://www.atlasobscura.com/places/laurel-din...  \n",
       "...                                                 ...  \n",
       "7155  https://www.atlasobscura.com/places/garden-of-...  \n",
       "7183  https://www.atlasobscura.com/places/theodore-r...  \n",
       "7184  https://www.atlasobscura.com/places/cabaret-me...  \n",
       "7186  https://www.atlasobscura.com/places/timothy-de...  \n",
       "7188  https://www.atlasobscura.com/places/milwaukee-...  \n",
       "\n",
       "[896 rows x 3 columns]"
      ]
     },
     "execution_count": 64,
     "metadata": {},
     "output_type": "execute_result"
    }
   ],
   "source": [
    "res_query[['placeName','placeDesc','placeURL']]"
   ]
  },
  {
   "cell_type": "markdown",
   "metadata": {},
   "source": [
    "## 2.2) Conjunctive query & Ranking score"
   ]
  },
  {
   "cell_type": "markdown",
   "metadata": {},
   "source": [
    "### 2.2.1) Inverted index"
   ]
  },
  {
   "cell_type": "markdown",
   "metadata": {},
   "source": [
    "Now we have to create another dictionary *inverted_index_2* in which we store also the *tfidf* values of the words.   \n",
    "As suggested, since the tfidf are invariant for the query we can precalculate them before and store them in a dataframe *df*.    \n",
    "In order to do this we use the module *TfidfVectorizer* that is able to compute the tfidf values of all the unique words in the places descriptions."
   ]
  },
  {
   "cell_type": "code",
   "execution_count": 65,
   "metadata": {
    "scrolled": true
   },
   "outputs": [],
   "source": [
    "vectorizer = TfidfVectorizer(use_idf=True, analyzer='word',sublinear_tf=True)\n",
    "x =vectorizer.fit_transform(data[\"cleanDesc\"]).todense()\n",
    "df = pd.DataFrame(x, columns = vectorizer.get_feature_names_out())"
   ]
  },
  {
   "cell_type": "markdown",
   "metadata": {},
   "source": [
    "*df* now is a dataframe such that every row corresponds to a place's description and every column corresponds to a word found in the descriptions.    \n",
    "Using now *df* and the two dictionary previously created, we can now create *inverted_index_2* that will be such that every key is an integer that corresponds to a word and its value is a list of touples (document_id, tfidf{word,document_id})."
   ]
  },
  {
   "cell_type": "code",
   "execution_count": 66,
   "metadata": {},
   "outputs": [],
   "source": [
    "def createInvertedIndex(data, vocabulary, nameCol, matrix):\n",
    "    inverted_index2 = {}\n",
    "    # for every word in columns name of df\n",
    "    a = 0\n",
    "    for word in tqdm(matrix.columns):\n",
    "        # we fix a row in df that correspond to a place's description\n",
    "        for place in matrix.index:\n",
    "            # if in the keys of our dictionary there already is the integer that corresponds to our word then we just have to \n",
    "            # add a tuple to our existing set with the placeName and the tfidf score of that word in the fixed description\n",
    "            if vocabulary[word] in inverted_index2.keys() and matrix[word][place] != 0:\n",
    "                inverted_index2[vocabulary[word]].add((data[nameCol][place], matrix[word][place]))\n",
    "            # otherwise we can add a new key with value a set that contains a tuple (placeName,tfidf{word,placeName})\n",
    "            else:\n",
    "                inverted_index2[vocabulary[word]] = set((data[nameCol][place], matrix[word][place]))           \n",
    "    return inverted_index2"
   ]
  },
  {
   "cell_type": "markdown",
   "metadata": {},
   "source": [
    "We can now execute the previous function with as input our *data*, *vocabulary* and *df*:"
   ]
  },
  {
   "cell_type": "code",
   "execution_count": 67,
   "metadata": {},
   "outputs": [
    {
     "name": "stderr",
     "output_type": "stream",
     "text": [
      "  4%|▍         | 1708/38574 [03:00<1:05:05,  9.44it/s]\n"
     ]
    },
    {
     "ename": "KeyboardInterrupt",
     "evalue": "",
     "output_type": "error",
     "traceback": [
      "\u001b[1;31m---------------------------------------------------------------------------\u001b[0m",
      "\u001b[1;31mKeyboardInterrupt\u001b[0m                         Traceback (most recent call last)",
      "\u001b[1;32mc:\\Users\\auror\\Desktop\\data_science\\ADM\\HM\\3\\ADM-HW3\\hw3.ipynb Cella 67\u001b[0m in \u001b[0;36m<cell line: 1>\u001b[1;34m()\u001b[0m\n\u001b[1;32m----> <a href='vscode-notebook-cell:/c%3A/Users/auror/Desktop/data_science/ADM/HM/3/ADM-HW3/hw3.ipynb#Y123sZmlsZQ%3D%3D?line=0'>1</a>\u001b[0m inverted_index_2 \u001b[39m=\u001b[39m createInvertedIndex(data, vocabulary, \u001b[39m\"\u001b[39;49m\u001b[39mcleanDesc\u001b[39;49m\u001b[39m\"\u001b[39;49m, df)\n",
      "\u001b[1;32mc:\\Users\\auror\\Desktop\\data_science\\ADM\\HM\\3\\ADM-HW3\\hw3.ipynb Cella 67\u001b[0m in \u001b[0;36mcreateInvertedIndex\u001b[1;34m(data, vocabulary, nameCol, matrix)\u001b[0m\n\u001b[0;32m     <a href='vscode-notebook-cell:/c%3A/Users/auror/Desktop/data_science/ADM/HM/3/ADM-HW3/hw3.ipynb#Y123sZmlsZQ%3D%3D?line=10'>11</a>\u001b[0m             inverted_index2[vocabulary[word]]\u001b[39m.\u001b[39madd((data[nameCol][place], matrix[word][place]))\n\u001b[0;32m     <a href='vscode-notebook-cell:/c%3A/Users/auror/Desktop/data_science/ADM/HM/3/ADM-HW3/hw3.ipynb#Y123sZmlsZQ%3D%3D?line=11'>12</a>\u001b[0m         \u001b[39m# otherwise we can add a new key with value a set that contains a tuple (placeName,tfidf{word,placeName})\u001b[39;00m\n\u001b[0;32m     <a href='vscode-notebook-cell:/c%3A/Users/auror/Desktop/data_science/ADM/HM/3/ADM-HW3/hw3.ipynb#Y123sZmlsZQ%3D%3D?line=12'>13</a>\u001b[0m         \u001b[39melse\u001b[39;00m:\n\u001b[1;32m---> <a href='vscode-notebook-cell:/c%3A/Users/auror/Desktop/data_science/ADM/HM/3/ADM-HW3/hw3.ipynb#Y123sZmlsZQ%3D%3D?line=13'>14</a>\u001b[0m             inverted_index2[vocabulary[word]] \u001b[39m=\u001b[39m \u001b[39mset\u001b[39m((data[nameCol][place], matrix[word][place]))           \n\u001b[0;32m     <a href='vscode-notebook-cell:/c%3A/Users/auror/Desktop/data_science/ADM/HM/3/ADM-HW3/hw3.ipynb#Y123sZmlsZQ%3D%3D?line=14'>15</a>\u001b[0m \u001b[39mreturn\u001b[39;00m inverted_index2\n",
      "File \u001b[1;32mc:\\Users\\auror\\anaconda3\\lib\\site-packages\\pandas\\core\\series.py:958\u001b[0m, in \u001b[0;36mSeries.__getitem__\u001b[1;34m(self, key)\u001b[0m\n\u001b[0;32m    955\u001b[0m     \u001b[39mreturn\u001b[39;00m \u001b[39mself\u001b[39m\u001b[39m.\u001b[39m_values[key]\n\u001b[0;32m    957\u001b[0m \u001b[39melif\u001b[39;00m key_is_scalar:\n\u001b[1;32m--> 958\u001b[0m     \u001b[39mreturn\u001b[39;00m \u001b[39mself\u001b[39;49m\u001b[39m.\u001b[39;49m_get_value(key)\n\u001b[0;32m    960\u001b[0m \u001b[39mif\u001b[39;00m is_hashable(key):\n\u001b[0;32m    961\u001b[0m     \u001b[39m# Otherwise index.get_value will raise InvalidIndexError\u001b[39;00m\n\u001b[0;32m    962\u001b[0m     \u001b[39mtry\u001b[39;00m:\n\u001b[0;32m    963\u001b[0m         \u001b[39m# For labels that don't resolve as scalars like tuples and frozensets\u001b[39;00m\n",
      "File \u001b[1;32mc:\\Users\\auror\\anaconda3\\lib\\site-packages\\pandas\\core\\series.py:1069\u001b[0m, in \u001b[0;36mSeries._get_value\u001b[1;34m(self, label, takeable)\u001b[0m\n\u001b[0;32m   1066\u001b[0m     \u001b[39mreturn\u001b[39;00m \u001b[39mself\u001b[39m\u001b[39m.\u001b[39m_values[label]\n\u001b[0;32m   1068\u001b[0m \u001b[39m# Similar to Index.get_value, but we do not fall back to positional\u001b[39;00m\n\u001b[1;32m-> 1069\u001b[0m loc \u001b[39m=\u001b[39m \u001b[39mself\u001b[39;49m\u001b[39m.\u001b[39;49mindex\u001b[39m.\u001b[39;49mget_loc(label)\n\u001b[0;32m   1070\u001b[0m \u001b[39mreturn\u001b[39;00m \u001b[39mself\u001b[39m\u001b[39m.\u001b[39mindex\u001b[39m.\u001b[39m_get_values_for_loc(\u001b[39mself\u001b[39m, loc, label)\n",
      "File \u001b[1;32mc:\\Users\\auror\\anaconda3\\lib\\site-packages\\pandas\\core\\indexes\\range.py:385\u001b[0m, in \u001b[0;36mRangeIndex.get_loc\u001b[1;34m(self, key, method, tolerance)\u001b[0m\n\u001b[0;32m    383\u001b[0m new_key \u001b[39m=\u001b[39m \u001b[39mint\u001b[39m(key)\n\u001b[0;32m    384\u001b[0m \u001b[39mtry\u001b[39;00m:\n\u001b[1;32m--> 385\u001b[0m     \u001b[39mreturn\u001b[39;00m \u001b[39mself\u001b[39m\u001b[39m.\u001b[39m_range\u001b[39m.\u001b[39mindex(new_key)\n\u001b[0;32m    386\u001b[0m \u001b[39mexcept\u001b[39;00m \u001b[39mValueError\u001b[39;00m \u001b[39mas\u001b[39;00m err:\n\u001b[0;32m    387\u001b[0m     \u001b[39mraise\u001b[39;00m \u001b[39mKeyError\u001b[39;00m(key) \u001b[39mfrom\u001b[39;00m \u001b[39merr\u001b[39;00m\n",
      "\u001b[1;31mKeyboardInterrupt\u001b[0m: "
     ]
    }
   ],
   "source": [
    "inverted_index_2 = createInvertedIndex(data, vocabulary, \"cleanDesc\", df)"
   ]
  },
  {
   "cell_type": "markdown",
   "metadata": {},
   "source": [
    "As previously done with the other two dictionary, we store *inverted_index_2* in a separate file so that we don't have to compute it again."
   ]
  },
  {
   "cell_type": "code",
   "execution_count": 20,
   "metadata": {},
   "outputs": [],
   "source": [
    "save_dic(inverted_index_2, \"inverted_index_2\")"
   ]
  },
  {
   "cell_type": "markdown",
   "metadata": {},
   "source": [
    "Run the following cell if you want the dictionariy *inverted_index_2*."
   ]
  },
  {
   "cell_type": "code",
   "execution_count": 8,
   "metadata": {},
   "outputs": [],
   "source": [
    "inverted_index_2 = read_dic(\"inverted_index_2\")"
   ]
  },
  {
   "cell_type": "markdown",
   "metadata": {},
   "source": [
    "Have a look at our dictionary:"
   ]
  },
  {
   "cell_type": "code",
   "execution_count": null,
   "metadata": {},
   "outputs": [],
   "source": [
    "print(inverted_index_2)"
   ]
  },
  {
   "cell_type": "markdown",
   "metadata": {},
   "source": [
    "### 2.2.2) Execute the query"
   ]
  },
  {
   "cell_type": "markdown",
   "metadata": {},
   "source": [
    "Since later we'll need again to compute cosine similarity between a query given by the user and a column of our dataframe *data* we've decided to create a generic function that is able to:\n",
    "- find the matrix of *tfidf* scores of  the query and the words in a given column of *data* (*nameCol*);\n",
    "- create the dictionary *vocabulary* and *inverted_index* with words in *nameCol*;\n",
    "- look for all the places that contain the words in the query in *nameCol*;\n",
    "- compute the cosine similarity;\n",
    "- sort the dataframe by the cosine similarity."
   ]
  },
  {
   "cell_type": "code",
   "execution_count": 80,
   "metadata": {},
   "outputs": [],
   "source": [
    "def query_tfidf(data: pd.DataFrame, nameCol: str, q: str) -> pd.DataFrame:\n",
    "    #We need to clean the query\n",
    "    q = cleaning(q) \n",
    "\n",
    "    # now q is a list that contains the cleaned word of the input query\n",
    "    vectorizer = TfidfVectorizer(use_idf=True, analyzer='word',sublinear_tf=True)\n",
    "    x =vectorizer.fit_transform(data[\"cleanDesc\"]).todense()\n",
    "    df = pd.DataFrame(x, columns = vectorizer.get_feature_names_out())\n",
    "    qv = vectorizer.transform([\" \".join(q)]).todense()\n",
    "    \n",
    "    # since later we'll need to compute the norm of this vector, we create an np array with the tfidf of the query\n",
    "    qv = np.array(qv[0,:])\n",
    "\n",
    "    vocabulary = createFirstDic(data, nameCol)\n",
    "    inverted_index = createSecondDic(data, vocabulary, nameCol)\n",
    "    s = query(q,vocabulary,inverted_index)\n",
    "    \n",
    "    # res_query will be our new dataframe such that contains only the places with description that \n",
    "    # contains all the words in the query\n",
    "    res_query = data[data['placeName'].isin(list(s))]\n",
    "    \n",
    "    # scores will be a list with all the cosine similarityy score of a document in nameCol with respect to the query\n",
    "    scores = cosine_score(res_query,df,qv)\n",
    "    res_query.insert(res_query.shape[1], f\"CS_{nameCol}\",scores )   \n",
    "    \n",
    "    # sort res_query by the cosine similarity scores\n",
    "    res_query = res_query.sort_values(by=[f\"CS_{nameCol}\"],ascending=False)\n",
    "\n",
    "    return res_query\n"
   ]
  },
  {
   "cell_type": "markdown",
   "metadata": {},
   "source": [
    "The next function *cosine_score* given *res_query*, *df* and *qv* is able to compute the cosine similarity of the places descriptions with respect to the query.    \n",
    "Let's remark what is the cosine similarity of a description to a query:\n",
    "$$cosine similarity = \\frac{sentence\\cdot query}{\\Vert sentence\\Vert  \\Vert query\\Vert}$$\n",
    "where *sentence* is the tfidf vector of the given sentence and *query* is the tfidf of the query."
   ]
  },
  {
   "cell_type": "code",
   "execution_count": 81,
   "metadata": {},
   "outputs": [],
   "source": [
    "def cosine_score(res_query,df,qv):\n",
    "    # first we create an empty list in which store all the cosine similarity scores\n",
    "    scores = []\n",
    "    # for every place in res_query we compute the cosine similarity as shown before and append that value in the list scores\n",
    "    for place in res_query.index:\n",
    "        scores.append(np.dot(np.array(df.iloc[place]).reshape(1,df.shape[1])[0],qv[0]) / (np.linalg.norm(np.array(df.iloc[place]).reshape(1,df.shape[1])[0])*np.linalg.norm(qv[0]) ))\n",
    "    return scores"
   ]
  },
  {
   "cell_type": "markdown",
   "metadata": {},
   "source": [
    "Finally we can ask the user the query he wants to find in the places descriptions and execute the function *query_tfidf*:"
   ]
  },
  {
   "cell_type": "code",
   "execution_count": 82,
   "metadata": {},
   "outputs": [
    {
     "name": "stderr",
     "output_type": "stream",
     "text": [
      "100%|██████████| 7200/7200 [00:00<00:00, 27311.01it/s]\n",
      "100%|██████████| 7200/7200 [00:09<00:00, 798.20it/s]\n"
     ]
    },
    {
     "data": {
      "text/html": [
       "<div>\n",
       "<style scoped>\n",
       "    .dataframe tbody tr th:only-of-type {\n",
       "        vertical-align: middle;\n",
       "    }\n",
       "\n",
       "    .dataframe tbody tr th {\n",
       "        vertical-align: top;\n",
       "    }\n",
       "\n",
       "    .dataframe thead th {\n",
       "        text-align: right;\n",
       "    }\n",
       "</style>\n",
       "<table border=\"1\" class=\"dataframe\">\n",
       "  <thead>\n",
       "    <tr style=\"text-align: right;\">\n",
       "      <th></th>\n",
       "      <th>placeName</th>\n",
       "      <th>placeDesc</th>\n",
       "      <th>placeURL</th>\n",
       "      <th>CS_cleanDesc</th>\n",
       "    </tr>\n",
       "  </thead>\n",
       "  <tbody>\n",
       "    <tr>\n",
       "      <th>4563</th>\n",
       "      <td>Self-Taught Genius Gallery</td>\n",
       "      <td>In 2017, the American Folk Art Museum in Manha...</td>\n",
       "      <td>https://www.atlasobscura.com/places/self-taugh...</td>\n",
       "      <td>0.181039</td>\n",
       "    </tr>\n",
       "    <tr>\n",
       "      <th>605</th>\n",
       "      <td>Renwick Gallery</td>\n",
       "      <td>The Renwick Gallery building has the distincti...</td>\n",
       "      <td>https://www.atlasobscura.com/places/renwick-ga...</td>\n",
       "      <td>0.180539</td>\n",
       "    </tr>\n",
       "    <tr>\n",
       "      <th>2216</th>\n",
       "      <td>American Writers Museum</td>\n",
       "      <td>The American Writers Museum—tucked away on the...</td>\n",
       "      <td>https://www.atlasobscura.com/places/american-w...</td>\n",
       "      <td>0.176558</td>\n",
       "    </tr>\n",
       "    <tr>\n",
       "      <th>2585</th>\n",
       "      <td>Mount Angel Abbey Museum</td>\n",
       "      <td>The Mount Angel Abbey Museum is a very eclecti...</td>\n",
       "      <td>https://www.atlasobscura.com/places/mount-ange...</td>\n",
       "      <td>0.168144</td>\n",
       "    </tr>\n",
       "    <tr>\n",
       "      <th>4413</th>\n",
       "      <td>The American Pigeon Museum</td>\n",
       "      <td>Many people, especially in big cities, view pi...</td>\n",
       "      <td>https://www.atlasobscura.com/places/the-americ...</td>\n",
       "      <td>0.167326</td>\n",
       "    </tr>\n",
       "    <tr>\n",
       "      <th>102</th>\n",
       "      <td>Museum of Mourning Art</td>\n",
       "      <td>Mourning and personal response to death are un...</td>\n",
       "      <td>https://www.atlasobscura.com/places/museum-of-...</td>\n",
       "      <td>0.166433</td>\n",
       "    </tr>\n",
       "    <tr>\n",
       "      <th>5208</th>\n",
       "      <td>Indian Steps Museum</td>\n",
       "      <td>Constructed by a local lawyer from 1908-1912, ...</td>\n",
       "      <td>https://www.atlasobscura.com/places/indian-ste...</td>\n",
       "      <td>0.161671</td>\n",
       "    </tr>\n",
       "    <tr>\n",
       "      <th>3196</th>\n",
       "      <td>The American Kennel Club Museum of the Dog</td>\n",
       "      <td>At the intersection of the Venn diagram where ...</td>\n",
       "      <td>https://www.atlasobscura.com/places/the-americ...</td>\n",
       "      <td>0.161211</td>\n",
       "    </tr>\n",
       "    <tr>\n",
       "      <th>515</th>\n",
       "      <td>Museum of Russian Culture</td>\n",
       "      <td>When you think San Francisco, you probably don...</td>\n",
       "      <td>https://www.atlasobscura.com/places/museum-of-...</td>\n",
       "      <td>0.160452</td>\n",
       "    </tr>\n",
       "    <tr>\n",
       "      <th>6185</th>\n",
       "      <td>Harvard Museum of Natural History</td>\n",
       "      <td>Collecting three different institutions into o...</td>\n",
       "      <td>https://www.atlasobscura.com/places/harvard-mu...</td>\n",
       "      <td>0.159486</td>\n",
       "    </tr>\n",
       "  </tbody>\n",
       "</table>\n",
       "</div>"
      ],
      "text/plain": [
       "                                       placeName  \\\n",
       "4563                  Self-Taught Genius Gallery   \n",
       "605                              Renwick Gallery   \n",
       "2216                     American Writers Museum   \n",
       "2585                    Mount Angel Abbey Museum   \n",
       "4413                 The American Pigeon Museum    \n",
       "102                       Museum of Mourning Art   \n",
       "5208                         Indian Steps Museum   \n",
       "3196  The American Kennel Club Museum of the Dog   \n",
       "515                    Museum of Russian Culture   \n",
       "6185           Harvard Museum of Natural History   \n",
       "\n",
       "                                              placeDesc  \\\n",
       "4563  In 2017, the American Folk Art Museum in Manha...   \n",
       "605   The Renwick Gallery building has the distincti...   \n",
       "2216  The American Writers Museum—tucked away on the...   \n",
       "2585  The Mount Angel Abbey Museum is a very eclecti...   \n",
       "4413  Many people, especially in big cities, view pi...   \n",
       "102   Mourning and personal response to death are un...   \n",
       "5208  Constructed by a local lawyer from 1908-1912, ...   \n",
       "3196  At the intersection of the Venn diagram where ...   \n",
       "515   When you think San Francisco, you probably don...   \n",
       "6185  Collecting three different institutions into o...   \n",
       "\n",
       "                                               placeURL  CS_cleanDesc  \n",
       "4563  https://www.atlasobscura.com/places/self-taugh...      0.181039  \n",
       "605   https://www.atlasobscura.com/places/renwick-ga...      0.180539  \n",
       "2216  https://www.atlasobscura.com/places/american-w...      0.176558  \n",
       "2585  https://www.atlasobscura.com/places/mount-ange...      0.168144  \n",
       "4413  https://www.atlasobscura.com/places/the-americ...      0.167326  \n",
       "102   https://www.atlasobscura.com/places/museum-of-...      0.166433  \n",
       "5208  https://www.atlasobscura.com/places/indian-ste...      0.161671  \n",
       "3196  https://www.atlasobscura.com/places/the-americ...      0.161211  \n",
       "515   https://www.atlasobscura.com/places/museum-of-...      0.160452  \n",
       "6185  https://www.atlasobscura.com/places/harvard-mu...      0.159486  "
      ]
     },
     "execution_count": 82,
     "metadata": {},
     "output_type": "execute_result"
    }
   ],
   "source": [
    "q = input('Insert the query that you want to find in the places descriptions: ')\n",
    "final_query = query_tfidf(data, \"cleanDesc\", q)\n",
    "final_query[['placeName','placeDesc','placeURL','CS_cleanDesc']].head(10)"
   ]
  },
  {
   "cell_type": "markdown",
   "metadata": {},
   "source": [
    "## 3. Define a new score!"
   ]
  },
  {
   "cell_type": "markdown",
   "metadata": {},
   "source": [
    "Our idea is to create a new score based on the number of people who have already been in a place or on the number of people who want to see that place. \n",
    "First we let the user insert the query that he want to search in the places descriptions.   \n",
    "Then we let the user choose the number of places he wants to see in the final output and if he wants to sort the places by the scores of *numPeopleVisited* or of *numPeopleWant*.  \n",
    "As last input we ask the user if he wants to see the most popular ones or the least."
   ]
  },
  {
   "cell_type": "code",
   "execution_count": 104,
   "metadata": {},
   "outputs": [],
   "source": [
    "q = input(\"Insert the words that you want to be found in the description's places: \")"
   ]
  },
  {
   "cell_type": "markdown",
   "metadata": {},
   "source": [
    "As before, the first thing that we do is to clean the query:"
   ]
  },
  {
   "cell_type": "code",
   "execution_count": 105,
   "metadata": {},
   "outputs": [
    {
     "name": "stdout",
     "output_type": "stream",
     "text": [
      "['american', 'museum']\n"
     ]
    }
   ],
   "source": [
    "q = cleaning(q) \n",
    "# now q is a list that contains the cleaned word of the input query\n",
    "print(q)"
   ]
  },
  {
   "cell_type": "markdown",
   "metadata": {},
   "source": [
    "Then we execute the first search engine as in 2.1 with the query given by the user:"
   ]
  },
  {
   "cell_type": "code",
   "execution_count": 106,
   "metadata": {},
   "outputs": [],
   "source": [
    "s = query(q,vocabulary,inverted_index)\n",
    "res_query = data[data['placeName'].isin(list(s))]\n",
    "res_query.reset_index(inplace = True, drop=True) "
   ]
  },
  {
   "cell_type": "markdown",
   "metadata": {},
   "source": [
    "Now we can ask the user which type of score he wants and store the choice in a variable *n*"
   ]
  },
  {
   "cell_type": "code",
   "execution_count": 107,
   "metadata": {},
   "outputs": [],
   "source": [
    "n = int(input('What is the top rank visualization that you want to have? \\nInsert \"1\" if you prefer that is by number of tourists. \\nInsert \"2\" if you prefer that is by number of people that want to visit the site.\\n'))"
   ]
  },
  {
   "cell_type": "markdown",
   "metadata": {},
   "source": [
    "Then we can ask to insert the number of places he wants to see (*k*) and if he wants to see the most popular or the least (*m*):"
   ]
  },
  {
   "cell_type": "code",
   "execution_count": 108,
   "metadata": {},
   "outputs": [],
   "source": [
    "k = int(input('Insert k the number of places that you want to visualize:')) \n",
    "m = int(input('Insert \"1\" if you want to see the k most popular places or insert \"2\" if you want to see the less famous places:'))"
   ]
  },
  {
   "cell_type": "markdown",
   "metadata": {},
   "source": [
    "The next cell contains the function *new_score*. Given the places that contains all the words in the query and the choices made by the user (*n*, *k*, *m*) this function will compute the proper new score. The new score will be calculated as the *numPeopleVisited* or *numPeopleWant* divided by the max value in the same column in the dataframe *res_query*. At the end of the function we sort by this new score (in ascending or descending order depending on the user's choice) and return the ordered res_query."
   ]
  },
  {
   "cell_type": "code",
   "execution_count": 109,
   "metadata": {},
   "outputs": [],
   "source": [
    "def new_score(res_query,n,k,m):\n",
    "    scores = []\n",
    "    if n == 1:\n",
    "        by = res_query['numPeopleVisited']\n",
    "    else:\n",
    "        by = res_query['numPeopleWant']\n",
    "    max_value = by.max()\n",
    "    for i in range(res_query.shape[0]):\n",
    "        scores.append(round(by[i]/max_value,4))\n",
    "    res_query.insert(res_query.shape[1], \"scores\", scores)\n",
    "    if m == 1:\n",
    "        res_query = res_query.sort_values(by=['scores'],ascending=False)\n",
    "    else:\n",
    "        res_query = res_query.sort_values(by=['scores'],ascending=True)\n",
    "        \n",
    "    return res_query"
   ]
  },
  {
   "cell_type": "markdown",
   "metadata": {},
   "source": [
    "We can now execute the *new_score* function and print the first *k* element of the final dataframe:"
   ]
  },
  {
   "cell_type": "code",
   "execution_count": 110,
   "metadata": {},
   "outputs": [
    {
     "data": {
      "text/html": [
       "<div>\n",
       "<style scoped>\n",
       "    .dataframe tbody tr th:only-of-type {\n",
       "        vertical-align: middle;\n",
       "    }\n",
       "\n",
       "    .dataframe tbody tr th {\n",
       "        vertical-align: top;\n",
       "    }\n",
       "\n",
       "    .dataframe thead th {\n",
       "        text-align: right;\n",
       "    }\n",
       "</style>\n",
       "<table border=\"1\" class=\"dataframe\">\n",
       "  <thead>\n",
       "    <tr style=\"text-align: right;\">\n",
       "      <th></th>\n",
       "      <th>placeName</th>\n",
       "      <th>placeDesc</th>\n",
       "      <th>placeURL</th>\n",
       "      <th>scores</th>\n",
       "    </tr>\n",
       "  </thead>\n",
       "  <tbody>\n",
       "    <tr>\n",
       "      <th>673</th>\n",
       "      <td>Alcatraz Island</td>\n",
       "      <td>Alcatraz, also referred to as “The Rock,” is r...</td>\n",
       "      <td>https://www.atlasobscura.com/places/alcatraz-i...</td>\n",
       "      <td>1.0000</td>\n",
       "    </tr>\n",
       "    <tr>\n",
       "      <th>764</th>\n",
       "      <td>Shakespeare and Company</td>\n",
       "      <td>In 1951, an eccentric American named George Wh...</td>\n",
       "      <td>https://www.atlasobscura.com/places/shakespear...</td>\n",
       "      <td>0.6016</td>\n",
       "    </tr>\n",
       "    <tr>\n",
       "      <th>84</th>\n",
       "      <td>Garden of the Gods</td>\n",
       "      <td>Colorado is famous for its grand red rock form...</td>\n",
       "      <td>https://www.atlasobscura.com/places/garden-of-...</td>\n",
       "      <td>0.5859</td>\n",
       "    </tr>\n",
       "    <tr>\n",
       "      <th>729</th>\n",
       "      <td>Multnomah Falls</td>\n",
       "      <td>Only a 30-minute drive from Portland, Oregon, ...</td>\n",
       "      <td>https://www.atlasobscura.com/places/multnomah-...</td>\n",
       "      <td>0.5359</td>\n",
       "    </tr>\n",
       "    <tr>\n",
       "      <th>793</th>\n",
       "      <td>Blue Mustang</td>\n",
       "      <td>The “Blue Mustang” sculpture was created by th...</td>\n",
       "      <td>https://www.atlasobscura.com/places/blue-mustang</td>\n",
       "      <td>0.5272</td>\n",
       "    </tr>\n",
       "    <tr>\n",
       "      <th>273</th>\n",
       "      <td>Japanese Tea Garden</td>\n",
       "      <td>The Japanese Tea Garden in Golden Gate Park is...</td>\n",
       "      <td>https://www.atlasobscura.com/places/japanese-t...</td>\n",
       "      <td>0.4865</td>\n",
       "    </tr>\n",
       "    <tr>\n",
       "      <th>726</th>\n",
       "      <td>Marie Laveau's Tomb</td>\n",
       "      <td>Marie Laveau was a famous and powerful voodoo ...</td>\n",
       "      <td>https://www.atlasobscura.com/places/marie-lave...</td>\n",
       "      <td>0.4822</td>\n",
       "    </tr>\n",
       "    <tr>\n",
       "      <th>674</th>\n",
       "      <td>The Witch House of Salem</td>\n",
       "      <td>The Salem witchcraft trials took place between...</td>\n",
       "      <td>https://www.atlasobscura.com/places/witch-hous...</td>\n",
       "      <td>0.4785</td>\n",
       "    </tr>\n",
       "    <tr>\n",
       "      <th>16</th>\n",
       "      <td>Philadelphia City Hall</td>\n",
       "      <td>Given that Philadelphia is the birthplace of o...</td>\n",
       "      <td>https://www.atlasobscura.com/places/philadelph...</td>\n",
       "      <td>0.4721</td>\n",
       "    </tr>\n",
       "    <tr>\n",
       "      <th>224</th>\n",
       "      <td>Old North Church</td>\n",
       "      <td>The Old North Church is a national historic la...</td>\n",
       "      <td>https://www.atlasobscura.com/places/old-north-...</td>\n",
       "      <td>0.4696</td>\n",
       "    </tr>\n",
       "    <tr>\n",
       "      <th>223</th>\n",
       "      <td>Lafitte's Blacksmith Shop</td>\n",
       "      <td>Current owners claim it to be the oldest struc...</td>\n",
       "      <td>https://www.atlasobscura.com/places/lafittes-b...</td>\n",
       "      <td>0.4683</td>\n",
       "    </tr>\n",
       "    <tr>\n",
       "      <th>763</th>\n",
       "      <td>Jean Lafitte's Old Absinthe House</td>\n",
       "      <td>You’d imagine the gazes were steely, the voice...</td>\n",
       "      <td>https://www.atlasobscura.com/places/jean-lafit...</td>\n",
       "      <td>0.4632</td>\n",
       "    </tr>\n",
       "    <tr>\n",
       "      <th>686</th>\n",
       "      <td>Concrete Parthenon</td>\n",
       "      <td>Originally constructed for Tennessee’s 1897 Ce...</td>\n",
       "      <td>https://www.atlasobscura.com/places/concrete-p...</td>\n",
       "      <td>0.4538</td>\n",
       "    </tr>\n",
       "    <tr>\n",
       "      <th>728</th>\n",
       "      <td>Ye Olde Curiosity Shop</td>\n",
       "      <td>A lifelong passion for curiosities was inspire...</td>\n",
       "      <td>https://www.atlasobscura.com/places/ye-olde-cu...</td>\n",
       "      <td>0.4352</td>\n",
       "    </tr>\n",
       "    <tr>\n",
       "      <th>727</th>\n",
       "      <td>Mesa Verde National Park</td>\n",
       "      <td>Known for the dwellings of the people whom arc...</td>\n",
       "      <td>https://www.atlasobscura.com/places/mesa-verde...</td>\n",
       "      <td>0.4234</td>\n",
       "    </tr>\n",
       "    <tr>\n",
       "      <th>590</th>\n",
       "      <td>Gas Works Park</td>\n",
       "      <td>Gas Works Park rises above the north shore of ...</td>\n",
       "      <td>https://www.atlasobscura.com/places/gas-works-...</td>\n",
       "      <td>0.4041</td>\n",
       "    </tr>\n",
       "    <tr>\n",
       "      <th>710</th>\n",
       "      <td>Crazy Horse Memorial</td>\n",
       "      <td>When the carving of Mount Rushmore began in 19...</td>\n",
       "      <td>https://www.atlasobscura.com/places/crazy-hors...</td>\n",
       "      <td>0.3925</td>\n",
       "    </tr>\n",
       "    <tr>\n",
       "      <th>725</th>\n",
       "      <td>Hollywood Forever Cemetery</td>\n",
       "      <td>Hollywood Forever cemetery was founded in 1899...</td>\n",
       "      <td>https://www.atlasobscura.com/places/hollywood-...</td>\n",
       "      <td>0.3862</td>\n",
       "    </tr>\n",
       "    <tr>\n",
       "      <th>170</th>\n",
       "      <td>Bunker Hill Monument</td>\n",
       "      <td>Rising 221 feet above surrounding Charlestown,...</td>\n",
       "      <td>https://www.atlasobscura.com/places/bunker-hil...</td>\n",
       "      <td>0.3800</td>\n",
       "    </tr>\n",
       "    <tr>\n",
       "      <th>809</th>\n",
       "      <td>Tančící dům - Dancing House of Prague</td>\n",
       "      <td>When this seven-story building first went up i...</td>\n",
       "      <td>https://www.atlasobscura.com/places/tancici-du...</td>\n",
       "      <td>0.3687</td>\n",
       "    </tr>\n",
       "  </tbody>\n",
       "</table>\n",
       "</div>"
      ],
      "text/plain": [
       "                                 placeName  \\\n",
       "673                        Alcatraz Island   \n",
       "764                Shakespeare and Company   \n",
       "84                      Garden of the Gods   \n",
       "729                        Multnomah Falls   \n",
       "793                           Blue Mustang   \n",
       "273                   Japanese Tea Garden    \n",
       "726                    Marie Laveau's Tomb   \n",
       "674               The Witch House of Salem   \n",
       "16                  Philadelphia City Hall   \n",
       "224                       Old North Church   \n",
       "223              Lafitte's Blacksmith Shop   \n",
       "763      Jean Lafitte's Old Absinthe House   \n",
       "686                     Concrete Parthenon   \n",
       "728                 Ye Olde Curiosity Shop   \n",
       "727               Mesa Verde National Park   \n",
       "590                         Gas Works Park   \n",
       "710                   Crazy Horse Memorial   \n",
       "725             Hollywood Forever Cemetery   \n",
       "170                   Bunker Hill Monument   \n",
       "809  Tančící dům - Dancing House of Prague   \n",
       "\n",
       "                                             placeDesc  \\\n",
       "673  Alcatraz, also referred to as “The Rock,” is r...   \n",
       "764  In 1951, an eccentric American named George Wh...   \n",
       "84   Colorado is famous for its grand red rock form...   \n",
       "729  Only a 30-minute drive from Portland, Oregon, ...   \n",
       "793  The “Blue Mustang” sculpture was created by th...   \n",
       "273  The Japanese Tea Garden in Golden Gate Park is...   \n",
       "726  Marie Laveau was a famous and powerful voodoo ...   \n",
       "674  The Salem witchcraft trials took place between...   \n",
       "16   Given that Philadelphia is the birthplace of o...   \n",
       "224  The Old North Church is a national historic la...   \n",
       "223  Current owners claim it to be the oldest struc...   \n",
       "763  You’d imagine the gazes were steely, the voice...   \n",
       "686  Originally constructed for Tennessee’s 1897 Ce...   \n",
       "728  A lifelong passion for curiosities was inspire...   \n",
       "727  Known for the dwellings of the people whom arc...   \n",
       "590  Gas Works Park rises above the north shore of ...   \n",
       "710  When the carving of Mount Rushmore began in 19...   \n",
       "725  Hollywood Forever cemetery was founded in 1899...   \n",
       "170  Rising 221 feet above surrounding Charlestown,...   \n",
       "809  When this seven-story building first went up i...   \n",
       "\n",
       "                                              placeURL  scores  \n",
       "673  https://www.atlasobscura.com/places/alcatraz-i...  1.0000  \n",
       "764  https://www.atlasobscura.com/places/shakespear...  0.6016  \n",
       "84   https://www.atlasobscura.com/places/garden-of-...  0.5859  \n",
       "729  https://www.atlasobscura.com/places/multnomah-...  0.5359  \n",
       "793   https://www.atlasobscura.com/places/blue-mustang  0.5272  \n",
       "273  https://www.atlasobscura.com/places/japanese-t...  0.4865  \n",
       "726  https://www.atlasobscura.com/places/marie-lave...  0.4822  \n",
       "674  https://www.atlasobscura.com/places/witch-hous...  0.4785  \n",
       "16   https://www.atlasobscura.com/places/philadelph...  0.4721  \n",
       "224  https://www.atlasobscura.com/places/old-north-...  0.4696  \n",
       "223  https://www.atlasobscura.com/places/lafittes-b...  0.4683  \n",
       "763  https://www.atlasobscura.com/places/jean-lafit...  0.4632  \n",
       "686  https://www.atlasobscura.com/places/concrete-p...  0.4538  \n",
       "728  https://www.atlasobscura.com/places/ye-olde-cu...  0.4352  \n",
       "727  https://www.atlasobscura.com/places/mesa-verde...  0.4234  \n",
       "590  https://www.atlasobscura.com/places/gas-works-...  0.4041  \n",
       "710  https://www.atlasobscura.com/places/crazy-hors...  0.3925  \n",
       "725  https://www.atlasobscura.com/places/hollywood-...  0.3862  \n",
       "170  https://www.atlasobscura.com/places/bunker-hil...  0.3800  \n",
       "809  https://www.atlasobscura.com/places/tancici-du...  0.3687  "
      ]
     },
     "execution_count": 110,
     "metadata": {},
     "output_type": "execute_result"
    }
   ],
   "source": [
    "resquery = new_score(res_query,n,k,m).head(k)\n",
    "resquery[['placeName','placeDesc','placeURL','scores']]"
   ]
  },
  {
   "cell_type": "markdown",
   "metadata": {},
   "source": [
    "## 4 "
   ]
  },
  {
   "cell_type": "markdown",
   "metadata": {},
   "source": [
    "The idea is to create a map to visualize better all the places selected by the query in exercise 3. In the map all the placed will be represented by points with different colors by continent.\n",
    "\n",
    "Hovering the pointer over each place will display the name, city, address, country and the number of people that visited that place."
   ]
  },
  {
   "cell_type": "code",
   "execution_count": 111,
   "metadata": {},
   "outputs": [],
   "source": [
    "from geopy.geocoders import Nominatim\n",
    "geolocator = Nominatim(user_agent=\"geoapiExercises\")"
   ]
  },
  {
   "cell_type": "code",
   "execution_count": 112,
   "metadata": {},
   "outputs": [],
   "source": [
    "#To begin we reset the index for the k places and we create two lists (city, country)\n",
    "resquery.reset_index(inplace = True, drop=True)\n",
    "city=[]\n",
    "country=[]\n",
    "\n",
    "for i in range(resquery.shape[0]):\n",
    "    # this for cicle will iterate all the places saving in lat and long the latitude and longitude\n",
    "    lat = resquery.placeAlt[i]\n",
    "    lon = resquery.placeLong[i]\n",
    "    # geolocator is a library that is able to take the address, city and country giving the latitude and logitude.\n",
    "    location = geolocator.reverse(str(lat)+\",\"+str(lon))\n",
    "    address = location.raw['address']\n",
    "    city.append(address.get('state', ''))\n",
    "    country.append(address.get('country', ''))\n",
    "    \n",
    "    \n",
    "# reach this point we create two columns with the city/state and country\n",
    "resquery.insert(resquery.shape[1], \"city/state\", city)\n",
    "resquery.insert(resquery.shape[1], \"country\", country)\n"
   ]
  },
  {
   "cell_type": "code",
   "execution_count": 114,
   "metadata": {},
   "outputs": [
    {
     "data": {
      "application/vnd.plotly.v1+json": {
       "config": {
        "plotlyServerURL": "https://plot.ly"
       },
       "data": [
        {
         "customdata": [
          [
           "Alcatraz Island San Francisco, California, 94133 United States",
           "California"
          ],
          [
           "1805 N. 30th st. Colorado Springs, Colorado, 80904 United States",
           "Colorado"
          ],
          [
           "Multnomah Falls, Oregon 97014, USA Corbett, Oregon, 97019 United States",
           "Oregon"
          ],
          [
           "Peña Blvd Denver, Colorado, 80249 United States",
           "Colorado"
          ],
          [
           "75 Hagiwara Tea Garden Drive San Francisco, California, 94118 United States",
           "California"
          ],
          [
           "1201-1253 Conti St 425 Basin Street New Orleans, Louisiana, 70112",
           "Louisiana"
          ],
          [
           "310 1/2 Essex Street Salem, Massachusetts, 01970 United States",
           "Massachusetts"
          ],
          [
           "1401 John F. Kennedy Boulevard Philadelphia, Pennsylvania United States",
           "Pennsylvania"
          ],
          [
           "Boston, Massachusetts, 02113 United States 42.3663, -71.0543Book a hotel on Kayak Visit Website NearbyBell Ringing Chamber at Old North Church0.01 milesGruchy's Angels0.02 milesSite of the Bernardine Wiget Boys School0.04 miles",
           "Massachusetts"
          ],
          [
           "941 Bourbon St. New Orleans, Louisiana, 70116 United States",
           "Louisiana"
          ],
          [
           "240 Bourbon Street New Orleans, Louisiana, 70130 United States",
           "Louisiana"
          ],
          [
           "2500 West End Ave Nashville, Tennessee, 37232 United States",
           "Tennessee"
          ],
          [
           "1001 Alaskan Way Seattle, Washington, 98104 United States",
           "Washington"
          ],
          [
           "Mesa Verde National Park, Colorado, 81330 United States 37.1838, -108.4887Visit Website NearbyUte Mountain Tribal Park14.96 milesCanyons of the Ancients20.45 milesFour Corners Monument33.22 miles",
           "Colorado"
          ],
          [
           "2101 N Northlake Way Seattle, Washington United States",
           "Washington"
          ],
          [
           "12151 Avenue of the Chiefs Custer, South Dakota, 57730 United States",
           "South Dakota"
          ],
          [
           " 6000 Santa Monica Blvd Los Angeles, California, 90038 United States",
           "California"
          ],
          [
           "Monument Square Boston, Massachusetts, 02129 United States",
           "Massachusetts"
          ]
         ],
         "geo": "geo",
         "hovertemplate": "<b>%{hovertext}</b><br><br>country=United States<br>number of people who visited this place=%{marker.size}<br>latitude=%{lat}<br>longitude=%{lon}<br>adress=%{customdata[0]}<br>city/state=%{customdata[1]}<extra></extra>",
         "hovertext": [
          "Alcatraz Island",
          "Garden of the Gods",
          "Multnomah Falls",
          "Blue Mustang",
          "Japanese Tea Garden ",
          "Marie Laveau's Tomb",
          "The Witch House of Salem",
          "Philadelphia City Hall",
          "Old North Church",
          "Lafitte's Blacksmith Shop",
          "Jean Lafitte's Old Absinthe House",
          "Concrete Parthenon",
          "Ye Olde Curiosity Shop",
          "Mesa Verde National Park",
          "Gas Works Park",
          "Crazy Horse Memorial",
          "Hollywood Forever Cemetery",
          "Bunker Hill Monument"
         ],
         "lat": [
          37.8267,
          38.8784,
          45.5762,
          39.8342,
          37.7702,
          29.9591,
          42.5215,
          39.9541,
          42.3663,
          29.9606,
          29.9554,
          36.1497,
          47.6042,
          37.1838,
          47.6462,
          43.8368,
          34.0887,
          42.3761
         ],
         "legendgroup": "United States",
         "lon": [
          -122.423,
          -104.8698,
          -122.1158,
          -104.6759,
          -122.4702,
          -90.0714,
          -70.8989,
          -75.1644,
          -71.0543,
          -90.0639,
          -90.0684,
          -86.8132,
          -122.339,
          -108.4887,
          -122.3337,
          -103.6244,
          -118.319,
          -71.06
         ],
         "marker": {
          "color": "#636efa",
          "size": [
           6639,
           3890,
           3558,
           3500,
           3230,
           3201,
           3177,
           3134,
           3118,
           3109,
           3075,
           3013,
           2889,
           2811,
           2683,
           2606,
           2564,
           2523
          ],
          "sizemode": "area",
          "sizeref": 16.5975,
          "symbol": "circle"
         },
         "mode": "markers",
         "name": "United States",
         "showlegend": true,
         "type": "scattergeo"
        },
        {
         "customdata": [
          [
           "37 rue de la Bûcherie Paris, 75005 France",
           "Île-de-France"
          ]
         ],
         "geo": "geo",
         "hovertemplate": "<b>%{hovertext}</b><br><br>country=France<br>number of people who visited this place=%{marker.size}<br>latitude=%{lat}<br>longitude=%{lon}<br>adress=%{customdata[0]}<br>city/state=%{customdata[1]}<extra></extra>",
         "hovertext": [
          "Shakespeare and Company"
         ],
         "lat": [
          48.8526
         ],
         "legendgroup": "France",
         "lon": [
          2.3471
         ],
         "marker": {
          "color": "#EF553B",
          "size": [
           3994
          ],
          "sizemode": "area",
          "sizeref": 16.5975,
          "symbol": "circle"
         },
         "mode": "markers",
         "name": "France",
         "showlegend": true,
         "type": "scattergeo"
        },
        {
         "customdata": [
          [
           "Jiráskovo nám. 1981/6 Prague Czechia",
           "Praha"
          ]
         ],
         "geo": "geo",
         "hovertemplate": "<b>%{hovertext}</b><br><br>country=Česko<br>number of people who visited this place=%{marker.size}<br>latitude=%{lat}<br>longitude=%{lon}<br>adress=%{customdata[0]}<br>city/state=%{customdata[1]}<extra></extra>",
         "hovertext": [
          "Tančící dům - Dancing House of Prague"
         ],
         "lat": [
          50.0755
         ],
         "legendgroup": "Česko",
         "lon": [
          14.4141
         ],
         "marker": {
          "color": "#00cc96",
          "size": [
           2448
          ],
          "sizemode": "area",
          "sizeref": 16.5975,
          "symbol": "circle"
         },
         "mode": "markers",
         "name": "Česko",
         "showlegend": true,
         "type": "scattergeo"
        }
       ],
       "layout": {
        "geo": {
         "center": {},
         "domain": {
          "x": [
           0,
           1
          ],
          "y": [
           0,
           1
          ]
         },
         "projection": {
          "type": "natural earth"
         }
        },
        "legend": {
         "itemsizing": "constant",
         "title": {
          "text": "country"
         },
         "tracegroupgap": 0
        },
        "margin": {
         "t": 60
        },
        "template": {
         "data": {
          "bar": [
           {
            "error_x": {
             "color": "#2a3f5f"
            },
            "error_y": {
             "color": "#2a3f5f"
            },
            "marker": {
             "line": {
              "color": "#E5ECF6",
              "width": 0.5
             },
             "pattern": {
              "fillmode": "overlay",
              "size": 10,
              "solidity": 0.2
             }
            },
            "type": "bar"
           }
          ],
          "barpolar": [
           {
            "marker": {
             "line": {
              "color": "#E5ECF6",
              "width": 0.5
             },
             "pattern": {
              "fillmode": "overlay",
              "size": 10,
              "solidity": 0.2
             }
            },
            "type": "barpolar"
           }
          ],
          "carpet": [
           {
            "aaxis": {
             "endlinecolor": "#2a3f5f",
             "gridcolor": "white",
             "linecolor": "white",
             "minorgridcolor": "white",
             "startlinecolor": "#2a3f5f"
            },
            "baxis": {
             "endlinecolor": "#2a3f5f",
             "gridcolor": "white",
             "linecolor": "white",
             "minorgridcolor": "white",
             "startlinecolor": "#2a3f5f"
            },
            "type": "carpet"
           }
          ],
          "choropleth": [
           {
            "colorbar": {
             "outlinewidth": 0,
             "ticks": ""
            },
            "type": "choropleth"
           }
          ],
          "contour": [
           {
            "colorbar": {
             "outlinewidth": 0,
             "ticks": ""
            },
            "colorscale": [
             [
              0,
              "#0d0887"
             ],
             [
              0.1111111111111111,
              "#46039f"
             ],
             [
              0.2222222222222222,
              "#7201a8"
             ],
             [
              0.3333333333333333,
              "#9c179e"
             ],
             [
              0.4444444444444444,
              "#bd3786"
             ],
             [
              0.5555555555555556,
              "#d8576b"
             ],
             [
              0.6666666666666666,
              "#ed7953"
             ],
             [
              0.7777777777777778,
              "#fb9f3a"
             ],
             [
              0.8888888888888888,
              "#fdca26"
             ],
             [
              1,
              "#f0f921"
             ]
            ],
            "type": "contour"
           }
          ],
          "contourcarpet": [
           {
            "colorbar": {
             "outlinewidth": 0,
             "ticks": ""
            },
            "type": "contourcarpet"
           }
          ],
          "heatmap": [
           {
            "colorbar": {
             "outlinewidth": 0,
             "ticks": ""
            },
            "colorscale": [
             [
              0,
              "#0d0887"
             ],
             [
              0.1111111111111111,
              "#46039f"
             ],
             [
              0.2222222222222222,
              "#7201a8"
             ],
             [
              0.3333333333333333,
              "#9c179e"
             ],
             [
              0.4444444444444444,
              "#bd3786"
             ],
             [
              0.5555555555555556,
              "#d8576b"
             ],
             [
              0.6666666666666666,
              "#ed7953"
             ],
             [
              0.7777777777777778,
              "#fb9f3a"
             ],
             [
              0.8888888888888888,
              "#fdca26"
             ],
             [
              1,
              "#f0f921"
             ]
            ],
            "type": "heatmap"
           }
          ],
          "heatmapgl": [
           {
            "colorbar": {
             "outlinewidth": 0,
             "ticks": ""
            },
            "colorscale": [
             [
              0,
              "#0d0887"
             ],
             [
              0.1111111111111111,
              "#46039f"
             ],
             [
              0.2222222222222222,
              "#7201a8"
             ],
             [
              0.3333333333333333,
              "#9c179e"
             ],
             [
              0.4444444444444444,
              "#bd3786"
             ],
             [
              0.5555555555555556,
              "#d8576b"
             ],
             [
              0.6666666666666666,
              "#ed7953"
             ],
             [
              0.7777777777777778,
              "#fb9f3a"
             ],
             [
              0.8888888888888888,
              "#fdca26"
             ],
             [
              1,
              "#f0f921"
             ]
            ],
            "type": "heatmapgl"
           }
          ],
          "histogram": [
           {
            "marker": {
             "pattern": {
              "fillmode": "overlay",
              "size": 10,
              "solidity": 0.2
             }
            },
            "type": "histogram"
           }
          ],
          "histogram2d": [
           {
            "colorbar": {
             "outlinewidth": 0,
             "ticks": ""
            },
            "colorscale": [
             [
              0,
              "#0d0887"
             ],
             [
              0.1111111111111111,
              "#46039f"
             ],
             [
              0.2222222222222222,
              "#7201a8"
             ],
             [
              0.3333333333333333,
              "#9c179e"
             ],
             [
              0.4444444444444444,
              "#bd3786"
             ],
             [
              0.5555555555555556,
              "#d8576b"
             ],
             [
              0.6666666666666666,
              "#ed7953"
             ],
             [
              0.7777777777777778,
              "#fb9f3a"
             ],
             [
              0.8888888888888888,
              "#fdca26"
             ],
             [
              1,
              "#f0f921"
             ]
            ],
            "type": "histogram2d"
           }
          ],
          "histogram2dcontour": [
           {
            "colorbar": {
             "outlinewidth": 0,
             "ticks": ""
            },
            "colorscale": [
             [
              0,
              "#0d0887"
             ],
             [
              0.1111111111111111,
              "#46039f"
             ],
             [
              0.2222222222222222,
              "#7201a8"
             ],
             [
              0.3333333333333333,
              "#9c179e"
             ],
             [
              0.4444444444444444,
              "#bd3786"
             ],
             [
              0.5555555555555556,
              "#d8576b"
             ],
             [
              0.6666666666666666,
              "#ed7953"
             ],
             [
              0.7777777777777778,
              "#fb9f3a"
             ],
             [
              0.8888888888888888,
              "#fdca26"
             ],
             [
              1,
              "#f0f921"
             ]
            ],
            "type": "histogram2dcontour"
           }
          ],
          "mesh3d": [
           {
            "colorbar": {
             "outlinewidth": 0,
             "ticks": ""
            },
            "type": "mesh3d"
           }
          ],
          "parcoords": [
           {
            "line": {
             "colorbar": {
              "outlinewidth": 0,
              "ticks": ""
             }
            },
            "type": "parcoords"
           }
          ],
          "pie": [
           {
            "automargin": true,
            "type": "pie"
           }
          ],
          "scatter": [
           {
            "marker": {
             "colorbar": {
              "outlinewidth": 0,
              "ticks": ""
             }
            },
            "type": "scatter"
           }
          ],
          "scatter3d": [
           {
            "line": {
             "colorbar": {
              "outlinewidth": 0,
              "ticks": ""
             }
            },
            "marker": {
             "colorbar": {
              "outlinewidth": 0,
              "ticks": ""
             }
            },
            "type": "scatter3d"
           }
          ],
          "scattercarpet": [
           {
            "marker": {
             "colorbar": {
              "outlinewidth": 0,
              "ticks": ""
             }
            },
            "type": "scattercarpet"
           }
          ],
          "scattergeo": [
           {
            "marker": {
             "colorbar": {
              "outlinewidth": 0,
              "ticks": ""
             }
            },
            "type": "scattergeo"
           }
          ],
          "scattergl": [
           {
            "marker": {
             "colorbar": {
              "outlinewidth": 0,
              "ticks": ""
             }
            },
            "type": "scattergl"
           }
          ],
          "scattermapbox": [
           {
            "marker": {
             "colorbar": {
              "outlinewidth": 0,
              "ticks": ""
             }
            },
            "type": "scattermapbox"
           }
          ],
          "scatterpolar": [
           {
            "marker": {
             "colorbar": {
              "outlinewidth": 0,
              "ticks": ""
             }
            },
            "type": "scatterpolar"
           }
          ],
          "scatterpolargl": [
           {
            "marker": {
             "colorbar": {
              "outlinewidth": 0,
              "ticks": ""
             }
            },
            "type": "scatterpolargl"
           }
          ],
          "scatterternary": [
           {
            "marker": {
             "colorbar": {
              "outlinewidth": 0,
              "ticks": ""
             }
            },
            "type": "scatterternary"
           }
          ],
          "surface": [
           {
            "colorbar": {
             "outlinewidth": 0,
             "ticks": ""
            },
            "colorscale": [
             [
              0,
              "#0d0887"
             ],
             [
              0.1111111111111111,
              "#46039f"
             ],
             [
              0.2222222222222222,
              "#7201a8"
             ],
             [
              0.3333333333333333,
              "#9c179e"
             ],
             [
              0.4444444444444444,
              "#bd3786"
             ],
             [
              0.5555555555555556,
              "#d8576b"
             ],
             [
              0.6666666666666666,
              "#ed7953"
             ],
             [
              0.7777777777777778,
              "#fb9f3a"
             ],
             [
              0.8888888888888888,
              "#fdca26"
             ],
             [
              1,
              "#f0f921"
             ]
            ],
            "type": "surface"
           }
          ],
          "table": [
           {
            "cells": {
             "fill": {
              "color": "#EBF0F8"
             },
             "line": {
              "color": "white"
             }
            },
            "header": {
             "fill": {
              "color": "#C8D4E3"
             },
             "line": {
              "color": "white"
             }
            },
            "type": "table"
           }
          ]
         },
         "layout": {
          "annotationdefaults": {
           "arrowcolor": "#2a3f5f",
           "arrowhead": 0,
           "arrowwidth": 1
          },
          "autotypenumbers": "strict",
          "coloraxis": {
           "colorbar": {
            "outlinewidth": 0,
            "ticks": ""
           }
          },
          "colorscale": {
           "diverging": [
            [
             0,
             "#8e0152"
            ],
            [
             0.1,
             "#c51b7d"
            ],
            [
             0.2,
             "#de77ae"
            ],
            [
             0.3,
             "#f1b6da"
            ],
            [
             0.4,
             "#fde0ef"
            ],
            [
             0.5,
             "#f7f7f7"
            ],
            [
             0.6,
             "#e6f5d0"
            ],
            [
             0.7,
             "#b8e186"
            ],
            [
             0.8,
             "#7fbc41"
            ],
            [
             0.9,
             "#4d9221"
            ],
            [
             1,
             "#276419"
            ]
           ],
           "sequential": [
            [
             0,
             "#0d0887"
            ],
            [
             0.1111111111111111,
             "#46039f"
            ],
            [
             0.2222222222222222,
             "#7201a8"
            ],
            [
             0.3333333333333333,
             "#9c179e"
            ],
            [
             0.4444444444444444,
             "#bd3786"
            ],
            [
             0.5555555555555556,
             "#d8576b"
            ],
            [
             0.6666666666666666,
             "#ed7953"
            ],
            [
             0.7777777777777778,
             "#fb9f3a"
            ],
            [
             0.8888888888888888,
             "#fdca26"
            ],
            [
             1,
             "#f0f921"
            ]
           ],
           "sequentialminus": [
            [
             0,
             "#0d0887"
            ],
            [
             0.1111111111111111,
             "#46039f"
            ],
            [
             0.2222222222222222,
             "#7201a8"
            ],
            [
             0.3333333333333333,
             "#9c179e"
            ],
            [
             0.4444444444444444,
             "#bd3786"
            ],
            [
             0.5555555555555556,
             "#d8576b"
            ],
            [
             0.6666666666666666,
             "#ed7953"
            ],
            [
             0.7777777777777778,
             "#fb9f3a"
            ],
            [
             0.8888888888888888,
             "#fdca26"
            ],
            [
             1,
             "#f0f921"
            ]
           ]
          },
          "colorway": [
           "#636efa",
           "#EF553B",
           "#00cc96",
           "#ab63fa",
           "#FFA15A",
           "#19d3f3",
           "#FF6692",
           "#B6E880",
           "#FF97FF",
           "#FECB52"
          ],
          "font": {
           "color": "#2a3f5f"
          },
          "geo": {
           "bgcolor": "white",
           "lakecolor": "white",
           "landcolor": "#E5ECF6",
           "showlakes": true,
           "showland": true,
           "subunitcolor": "white"
          },
          "hoverlabel": {
           "align": "left"
          },
          "hovermode": "closest",
          "mapbox": {
           "style": "light"
          },
          "paper_bgcolor": "white",
          "plot_bgcolor": "#E5ECF6",
          "polar": {
           "angularaxis": {
            "gridcolor": "white",
            "linecolor": "white",
            "ticks": ""
           },
           "bgcolor": "#E5ECF6",
           "radialaxis": {
            "gridcolor": "white",
            "linecolor": "white",
            "ticks": ""
           }
          },
          "scene": {
           "xaxis": {
            "backgroundcolor": "#E5ECF6",
            "gridcolor": "white",
            "gridwidth": 2,
            "linecolor": "white",
            "showbackground": true,
            "ticks": "",
            "zerolinecolor": "white"
           },
           "yaxis": {
            "backgroundcolor": "#E5ECF6",
            "gridcolor": "white",
            "gridwidth": 2,
            "linecolor": "white",
            "showbackground": true,
            "ticks": "",
            "zerolinecolor": "white"
           },
           "zaxis": {
            "backgroundcolor": "#E5ECF6",
            "gridcolor": "white",
            "gridwidth": 2,
            "linecolor": "white",
            "showbackground": true,
            "ticks": "",
            "zerolinecolor": "white"
           }
          },
          "shapedefaults": {
           "line": {
            "color": "#2a3f5f"
           }
          },
          "ternary": {
           "aaxis": {
            "gridcolor": "white",
            "linecolor": "white",
            "ticks": ""
           },
           "baxis": {
            "gridcolor": "white",
            "linecolor": "white",
            "ticks": ""
           },
           "bgcolor": "#E5ECF6",
           "caxis": {
            "gridcolor": "white",
            "linecolor": "white",
            "ticks": ""
           }
          },
          "title": {
           "x": 0.05
          },
          "xaxis": {
           "automargin": true,
           "gridcolor": "white",
           "linecolor": "white",
           "ticks": "",
           "title": {
            "standoff": 15
           },
           "zerolinecolor": "white",
           "zerolinewidth": 2
          },
          "yaxis": {
           "automargin": true,
           "gridcolor": "white",
           "linecolor": "white",
           "ticks": "",
           "title": {
            "standoff": 15
           },
           "zerolinecolor": "white",
           "zerolinewidth": 2
          }
         }
        }
       }
      }
     },
     "metadata": {},
     "output_type": "display_data"
    }
   ],
   "source": [
    "# it's time now to create the map. Scatter_geo will do this after we insert all the informations require.\n",
    "\n",
    "import plotly.express as px\n",
    "import plotly.graph_objs as go\n",
    "\n",
    "fig = px.scatter_geo(resquery,lat=\"placeAlt\", lon=\"placeLong\",\n",
    "                     size=\"numPeopleVisited\", color=\"country\",\n",
    "                     projection=\"natural earth\",\n",
    "                     labels={'placeAlt':'latitude','placeLong':'longitude','placeAdress':'adress','numPeopleVisited':'number of people who visited this place'},\n",
    "                     hover_data=[\"placeAdress\",\"city/state\"],hover_name=\"placeName\")\n",
    "fig.show()"
   ]
  },
  {
   "cell_type": "markdown",
   "metadata": {},
   "source": [
    "#### command line"
   ]
  },
  {
   "cell_type": "code",
   "execution_count": 102,
   "metadata": {},
   "outputs": [
    {
     "name": "stdout",
     "output_type": "stream",
     "text": [
      "Total number of places in Italy: 182\n",
      "The average of visitors in Italy: 68791\n",
      "Who wants to visit England (in total): 152906\n",
      "\n",
      "Total number of places in Spain: 82\n",
      "The average of visitors in Spain: 212\n",
      "Who wants to visit England (in total): 64587\n",
      "\n",
      "Total number of places in France: 188\n",
      "The average of visitors in France: 446\n",
      "Who wants to visit France (in total): 189973\n",
      "\n",
      "Total number of places in England: 367\n",
      "The average of visitors in England: 476\n",
      "Who wants to visit England (in total): 389820\n",
      "\n",
      "Total number of places in the United States: 4234\n",
      "The average of visitors in United States: 431\n",
      "Who wants to visit United States (in total): 3966022\n",
      "\n"
     ]
    }
   ],
   "source": [
    "#Command Line question\n",
    "forCommandLine = data[data[\"placeAdress\"].str.contains(\"Italy\")]\n",
    "print(\"Total number of places in Italy:\", len(forCommandLine))\n",
    "print(\"The average of visitors in Italy:\", int((forCommandLine[\"numPeopleVisited\"].sum())))\n",
    "print(\"Who wants to visit England (in total):\", forCommandLine[\"numPeopleWant\"].sum())\n",
    "print()\n",
    "\n",
    "forCommandLine2 = data[data[\"placeAdress\"].str.contains(\"Spain\")]\n",
    "print(\"Total number of places in Spain:\", len(forCommandLine2))\n",
    "print(\"The average of visitors in Spain:\", int((forCommandLine2[\"numPeopleVisited\"].sum())/len(forCommandLine)))\n",
    "print(\"Who wants to visit England (in total):\", forCommandLine2[\"numPeopleWant\"].sum())\n",
    "print()\n",
    "\n",
    "\n",
    "forCommandLine3 = data[data[\"placeAdress\"].str.contains(\"France\")]\n",
    "print(\"Total number of places in France:\", len(forCommandLine3))\n",
    "print(\"The average of visitors in France:\", int((forCommandLine3[\"numPeopleVisited\"].sum())/len(forCommandLine)))\n",
    "print(\"Who wants to visit France (in total):\", forCommandLine3[\"numPeopleWant\"].sum())\n",
    "print()\n",
    "\n",
    "\n",
    "forCommandLine4 = data[data[\"placeAdress\"].str.contains(\"England\")]\n",
    "print(\"Total number of places in England:\", len(forCommandLine4))\n",
    "print(\"The average of visitors in England:\", int((forCommandLine4[\"numPeopleVisited\"].sum())/len(forCommandLine4)))\n",
    "print(\"Who wants to visit England (in total):\", forCommandLine4[\"numPeopleWant\"].sum())\n",
    "print()\n",
    "\n",
    "\n",
    "\n",
    "forCommandLine5 = data[data[\"placeAdress\"].str.contains(\"United States\")]\n",
    "print(\"Total number of places in the United States:\", len(forCommandLine5))\n",
    "print(\"The average of visitors in United States:\", int((forCommandLine5[\"numPeopleVisited\"].sum())/len(forCommandLine5)))\n",
    "print(\"Who wants to visit United States (in total):\", forCommandLine5[\"numPeopleWant\"].sum())\n",
    "print()"
   ]
  },
  {
   "cell_type": "markdown",
   "metadata": {},
   "source": [
    "## 5 Bonus Question"
   ]
  },
  {
   "cell_type": "code",
   "execution_count": 3,
   "metadata": {},
   "outputs": [],
   "source": [
    "from sklearn.feature_extraction.text import TfidfVectorizer"
   ]
  },
  {
   "cell_type": "code",
   "execution_count": null,
   "metadata": {},
   "outputs": [],
   "source": [
    "#TODO\n",
    "#Gestisci il caso in cui non siano tutti e tre, come caloli il final score?\n",
    "#gestisci il caso inc ui una parola non sia nel documento (=print(parola non presente in nessun documento))\n",
    "#Ottimizzazione: carica i dizionari al posto di prenderli sempre"
   ]
  },
  {
   "cell_type": "code",
   "execution_count": 75,
   "metadata": {},
   "outputs": [],
   "source": [
    "#The function cleaning takes as input a string (a description) and returns the cleaned description as a list of strings\n",
    "data['cleanName'] = data.placeName.apply(lambda row: \" \".join(cleaning(row)))"
   ]
  },
  {
   "cell_type": "code",
   "execution_count": 78,
   "metadata": {},
   "outputs": [],
   "source": [
    "#The function cleaning takes as input a string (a description) and returns the cleaned description as a list of strings\n",
    "data['cleanAdress'] = data.placeAdress.apply(lambda row: \" \".join(cleaning(row)))"
   ]
  },
  {
   "cell_type": "code",
   "execution_count": 156,
   "metadata": {},
   "outputs": [],
   "source": [
    "def query_function(data, nameCol,q):\n",
    "    dic1 = createFirstDic(data, nameCol)\n",
    "    dic2 = createSecondDic(data, dic1, nameCol)\n",
    "    s = query(q,dic1,dic2)\n",
    "    return s"
   ]
  },
  {
   "cell_type": "code",
   "execution_count": 157,
   "metadata": {},
   "outputs": [],
   "source": [
    "def complex_query(data):\n",
    "    boolDesc = False\n",
    "    boolName = False\n",
    "    boolAdress = False\n",
    "\n",
    "    set_list = []\n",
    "    q_list = []\n",
    "    q1 = input('Insert the query that you want to find in the places descriptions: [if you dont want to search for anything just press Enter]')\n",
    "    if q1 != \"\":\n",
    "        boolDesc = True\n",
    "        q1_clean = cleaning(q1)\n",
    "        set_list.append(query_function(data, \"cleanDesc\", q1_clean))\n",
    "        q_list.append(q1_clean)\n",
    "    else:\n",
    "        q_list.append(\"\")\n",
    "\n",
    "    q2 = input('Insert the query that you want to find in the Names: [if you dont want to search for anything just press Enter]')\n",
    "    if q2 != \"\":\n",
    "        boolName = True\n",
    "        q2_clean = cleaning(q2)\n",
    "        set_list.append(query_function(data, \"cleanName\", q2_clean))\n",
    "        q_list.append(q2_clean)\n",
    "    else:\n",
    "        q_list.append(\"\")\n",
    "\n",
    "\n",
    "    q3 = input('Insert the query that you want to find in the Adress: [if you dont want to search for anything just press Enter]')\n",
    "    if q3 != \"\":\n",
    "        boolAdress = True\n",
    "        q3_clean = cleaning(q3)\n",
    "        set_list.append(query_function(data, \"cleanAdress\", q3_clean))\n",
    "        q_list.append(q3_clean)\n",
    "    else:\n",
    "        q_list.append(\"\")\n",
    "\n",
    "\n",
    "    bool_arr = [boolDesc, boolName, boolAdress]\n",
    "    return set_list, bool_arr, q_list"
   ]
  },
  {
   "cell_type": "code",
   "execution_count": 158,
   "metadata": {},
   "outputs": [],
   "source": [
    "def find_df_qv(data,q,colName):\n",
    "    vectorizer = TfidfVectorizer(use_idf=True, analyzer='word',sublinear_tf=True)\n",
    "    x =vectorizer.fit_transform(data[colName]).todense()\n",
    "    df = pd.DataFrame(x, columns = vectorizer.get_feature_names_out())\n",
    "    qv = vectorizer.transform([\" \".join(q)]).todense()\n",
    "    return df, qv\n"
   ]
  },
  {
   "cell_type": "code",
   "execution_count": 159,
   "metadata": {},
   "outputs": [],
   "source": [
    "def query_tfidf(data: pd.DataFrame) -> pd.DataFrame:\n",
    "    \n",
    "    set_list, bool_arr, q_list = complex_query(data)\n",
    "\n",
    "    dic = {0: \"cleanDesc\", 1: \"cleanName\", 2: \"cleanAdress\"}\n",
    "\n",
    "    #create an interesction of all the query\n",
    "    s = set()\n",
    "    if len(set_list) > 0:   \n",
    "        s = set_list[0]\n",
    "        for x in set_list:\n",
    "            s = s.intersection(x)\n",
    "\n",
    "    # res_query will be our new dataframe such that contains only the places with description that \n",
    "    # contains all the words in the query\n",
    "    res_query = data[data['placeName'].isin(s)]\n",
    "\n",
    "    for bool in range(len(bool_arr)):\n",
    "        if bool_arr[bool] == True:\n",
    "            df, qv = find_df_qv(data, q_list[bool], dic[bool])\n",
    "\n",
    "            # since later we'll need to compute the norm of this vector, we create an np array with the tfidf of the query\n",
    "            qv = np.array(qv[0,:])\n",
    "\n",
    "            scores = cosine_score(res_query,df,qv)    \n",
    "            res_query.insert(res_query.shape[1], f\"CS_{dic[bool]}\",scores ) \n",
    "\n",
    "    return res_query"
   ]
  },
  {
   "cell_type": "code",
   "execution_count": 168,
   "metadata": {},
   "outputs": [
    {
     "name": "stderr",
     "output_type": "stream",
     "text": [
      "100%|██████████| 7200/7200 [00:00<00:00, 39454.45it/s]\n",
      "100%|██████████| 7200/7200 [00:06<00:00, 1030.82it/s]\n",
      "100%|██████████| 7200/7200 [00:00<00:00, 828913.83it/s]\n",
      "100%|██████████| 7200/7200 [00:00<00:00, 52610.47it/s]\n"
     ]
    }
   ],
   "source": [
    "prova = query_tfidf(data)"
   ]
  },
  {
   "cell_type": "code",
   "execution_count": 169,
   "metadata": {},
   "outputs": [
    {
     "data": {
      "text/html": [
       "<div>\n",
       "<style scoped>\n",
       "    .dataframe tbody tr th:only-of-type {\n",
       "        vertical-align: middle;\n",
       "    }\n",
       "\n",
       "    .dataframe tbody tr th {\n",
       "        vertical-align: top;\n",
       "    }\n",
       "\n",
       "    .dataframe thead th {\n",
       "        text-align: right;\n",
       "    }\n",
       "</style>\n",
       "<table border=\"1\" class=\"dataframe\">\n",
       "  <thead>\n",
       "    <tr style=\"text-align: right;\">\n",
       "      <th></th>\n",
       "      <th>Unnamed: 0</th>\n",
       "      <th>placeName</th>\n",
       "      <th>placeTags</th>\n",
       "      <th>numPeopleVisited</th>\n",
       "      <th>numPeopleWant</th>\n",
       "      <th>placeDesc</th>\n",
       "      <th>placeShortDesc</th>\n",
       "      <th>placeNearby</th>\n",
       "      <th>placeAdress</th>\n",
       "      <th>placeAlt</th>\n",
       "      <th>...</th>\n",
       "      <th>placeEditors</th>\n",
       "      <th>placePubDate</th>\n",
       "      <th>placeRelatedList</th>\n",
       "      <th>placeRelatedPlace</th>\n",
       "      <th>placeURL</th>\n",
       "      <th>cleanDesc</th>\n",
       "      <th>cleanName</th>\n",
       "      <th>cleanAdress</th>\n",
       "      <th>CS_cleanDesc</th>\n",
       "      <th>CS_cleanName</th>\n",
       "    </tr>\n",
       "  </thead>\n",
       "  <tbody>\n",
       "    <tr>\n",
       "      <th>6</th>\n",
       "      <td>6</td>\n",
       "      <td>American Prohibition Museum</td>\n",
       "      <td>speakeasies,prohibition,law,food museums,alcoh...</td>\n",
       "      <td>368</td>\n",
       "      <td>832</td>\n",
       "      <td>When the 18th Amendment to the U.S. Constituti...</td>\n",
       "      <td>Performers, intricate sets, and a real speakea...</td>\n",
       "      <td>The Paris Market,Riverside Plant Hotel,The Mar...</td>\n",
       "      <td>209 W. St. Julian Street Savannah, Georgia Uni...</td>\n",
       "      <td>32.0806</td>\n",
       "      <td>...</td>\n",
       "      <td>Edward Denny,Collector of Experiences,theparan...</td>\n",
       "      <td>2018-11-26 00:00:00</td>\n",
       "      <td>The Paris Market,Riverside Plant Hotel,The Mar...</td>\n",
       "      <td>Booze History Museum,Linos tou Charilaou (Omod...</td>\n",
       "      <td>https://www.atlasobscura.com/places/american-p...</td>\n",
       "      <td>th amend u constitut outlaw alcohol deleteri d...</td>\n",
       "      <td>american prohibit museum</td>\n",
       "      <td>w st julian street savannah georgia unit state</td>\n",
       "      <td>0.081833</td>\n",
       "      <td>0.565670</td>\n",
       "    </tr>\n",
       "    <tr>\n",
       "      <th>146</th>\n",
       "      <td>146</td>\n",
       "      <td>American Classic Arcade Museum</td>\n",
       "      <td>pinball,arcades,video games,games,museums and ...</td>\n",
       "      <td>468</td>\n",
       "      <td>1022</td>\n",
       "      <td>Housed inside New Hampshire’s Funspot, which h...</td>\n",
       "      <td>The largest arcade museum in the world chronic...</td>\n",
       "      <td>Endicott Rock,Archie Andrews Statue,Claude Rai...</td>\n",
       "      <td>579 Endicott Street North Laconia, New Hampshi...</td>\n",
       "      <td>43.6130</td>\n",
       "      <td>...</td>\n",
       "      <td>thomasharper,tehutika,Mark Mones,e1savage</td>\n",
       "      <td>2014-04-04 00:00:00</td>\n",
       "      <td>Endicott Rock,Archie Andrews Statue,Claude Rai...</td>\n",
       "      <td>Asheville Pinball Museum,Pinball Hall of Fame,...</td>\n",
       "      <td>https://www.atlasobscura.com/places/american-c...</td>\n",
       "      <td>hous insid new hampshir funspot hold guin worl...</td>\n",
       "      <td>american classic arcad museum</td>\n",
       "      <td>endicott street north laconia new hampshir  u...</td>\n",
       "      <td>0.097970</td>\n",
       "      <td>0.483281</td>\n",
       "    </tr>\n",
       "    <tr>\n",
       "      <th>197</th>\n",
       "      <td>197</td>\n",
       "      <td>American Museum of Western Art</td>\n",
       "      <td>brothels,americana,hotels,museums and collecti...</td>\n",
       "      <td>323</td>\n",
       "      <td>806</td>\n",
       "      <td>Housed in the old Navarre building across from...</td>\n",
       "      <td>The huge collection of paintings of the Americ...</td>\n",
       "      <td>Mile-High Steps at the Colorado State Capitol,...</td>\n",
       "      <td>1727 Tremont Place Denver, Colorado United States</td>\n",
       "      <td>39.7447</td>\n",
       "      <td>...</td>\n",
       "      <td>randibrown,bribolio,cyccommute</td>\n",
       "      <td>2017-11-27 00:00:00</td>\n",
       "      <td>Denver Omelet Plaque,Big Blue Bear,Mile-High S...</td>\n",
       "      <td>Null Stern Hotel Museum,French Shore Interpret...</td>\n",
       "      <td>https://www.atlasobscura.com/places/american-m...</td>\n",
       "      <td>hous old navarr build across brown palac hotel...</td>\n",
       "      <td>american museum western art</td>\n",
       "      <td>tremont place denver colorado unit state</td>\n",
       "      <td>0.145389</td>\n",
       "      <td>0.525209</td>\n",
       "    </tr>\n",
       "    <tr>\n",
       "      <th>385</th>\n",
       "      <td>385</td>\n",
       "      <td>American Gothic House</td>\n",
       "      <td>eccentric homes,shops,homes,architectural oddi...</td>\n",
       "      <td>380</td>\n",
       "      <td>784</td>\n",
       "      <td>Made famous in the 1930 painting by Grant Wood...</td>\n",
       "      <td>Home with Gothic windows featured in a famous ...</td>\n",
       "      <td>What Cheer,Maharishi Vedic City,Richard Proenn...</td>\n",
       "      <td>300 Gothic St. Eldon, Iowa, 52554 United States</td>\n",
       "      <td>40.9211</td>\n",
       "      <td>...</td>\n",
       "      <td>Facebook550112500,renkessler,smcripps04,drvand...</td>\n",
       "      <td>2011-06-29 00:00:00</td>\n",
       "      <td>Maharishi Vedic City,What Cheer,Richard Proenn...</td>\n",
       "      <td>Krämerbrücke,Castello di Amorosa,Margalef,Hist...</td>\n",
       "      <td>https://www.atlasobscura.com/places/american-g...</td>\n",
       "      <td>made famou  paint grant wood american gothic o...</td>\n",
       "      <td>american gothic hous</td>\n",
       "      <td>gothic st eldon iowa  unit state</td>\n",
       "      <td>0.040367</td>\n",
       "      <td>0.571079</td>\n",
       "    </tr>\n",
       "    <tr>\n",
       "      <th>1750</th>\n",
       "      <td>1750</td>\n",
       "      <td>The American Geographical Society Library</td>\n",
       "      <td>globes,maps,libraries</td>\n",
       "      <td>174</td>\n",
       "      <td>635</td>\n",
       "      <td>Within the campus of the University of Wiscons...</td>\n",
       "      <td>Literally a million fascinating cartographic a...</td>\n",
       "      <td>Shorewood Ghost Train,North Point Water Tower,...</td>\n",
       "      <td>2311 E Hartford Ave Golda Meir Library, 3rd Fl...</td>\n",
       "      <td>43.0771</td>\n",
       "      <td>...</td>\n",
       "      <td>Luke J Spencer,hrnick</td>\n",
       "      <td>2016-03-13 00:00:00</td>\n",
       "      <td>Shorewood Ghost Train,North Point Water Tower,...</td>\n",
       "      <td>Royal Library of San Lorenzo de El Escorial,Ca...</td>\n",
       "      <td>https://www.atlasobscura.com/places/the-americ...</td>\n",
       "      <td>within campu univers wisconsin milwauke geogra...</td>\n",
       "      <td>american geograph societi librari</td>\n",
       "      <td>e hartford ave golda meir librari rd floor ea...</td>\n",
       "      <td>0.041972</td>\n",
       "      <td>0.450845</td>\n",
       "    </tr>\n",
       "    <tr>\n",
       "      <th>2042</th>\n",
       "      <td>2042</td>\n",
       "      <td>DANK Haus German American Cultural Center</td>\n",
       "      <td>gallery,schools,immigration,culture,cities,mus...</td>\n",
       "      <td>278</td>\n",
       "      <td>613</td>\n",
       "      <td>DANK Haus Chicago has served as the city’s Ger...</td>\n",
       "      <td>You can take a class, browse the library, or v...</td>\n",
       "      <td>Former Site of Selig Polyscope Film Studios,Me...</td>\n",
       "      <td>4740 N Western Ave Chicago, Illinois United St...</td>\n",
       "      <td>41.9680</td>\n",
       "      <td>...</td>\n",
       "      <td>Patti Swanson</td>\n",
       "      <td>2017-12-06 00:00:00</td>\n",
       "      <td>Merz Apothecary,Former Site of Selig Polyscope...</td>\n",
       "      <td>Carl Weege Immigrant House Museum ,Immigration...</td>\n",
       "      <td>https://www.atlasobscura.com/places/dank-haus-...</td>\n",
       "      <td>dank hau chicago serv citi german american cul...</td>\n",
       "      <td>dank hau german american cultur center</td>\n",
       "      <td>n western ave chicago illinoi unit state</td>\n",
       "      <td>0.057185</td>\n",
       "      <td>0.346859</td>\n",
       "    </tr>\n",
       "    <tr>\n",
       "      <th>2216</th>\n",
       "      <td>2216</td>\n",
       "      <td>American Writers Museum</td>\n",
       "      <td>writers</td>\n",
       "      <td>182</td>\n",
       "      <td>599</td>\n",
       "      <td>The American Writers Museum—tucked away on the...</td>\n",
       "      <td>Small and slightly hidden, the American Writer...</td>\n",
       "      <td>Tiffany Dome,Heald Square Monument's Statue of...</td>\n",
       "      <td>180 N Michigan Ave Chicago, Illinois, 60601 Un...</td>\n",
       "      <td>41.8856</td>\n",
       "      <td>...</td>\n",
       "      <td>clairers</td>\n",
       "      <td>2019-06-28 00:00:00</td>\n",
       "      <td>Tiffany Dome,Heald Square Monument's Statue of...</td>\n",
       "      <td>The Writers Chair,Casa Fernando Pessoa,Grave o...</td>\n",
       "      <td>https://www.atlasobscura.com/places/american-w...</td>\n",
       "      <td>american writer museum tuck away second floor ...</td>\n",
       "      <td>american writer museum</td>\n",
       "      <td>n michigan ave chicago illinoi  unit state</td>\n",
       "      <td>0.176558</td>\n",
       "      <td>0.565670</td>\n",
       "    </tr>\n",
       "    <tr>\n",
       "      <th>2411</th>\n",
       "      <td>2411</td>\n",
       "      <td>American Space Museum</td>\n",
       "      <td>space,museums and collections,museums</td>\n",
       "      <td>317</td>\n",
       "      <td>583</td>\n",
       "      <td>This small space museum, located not far from ...</td>\n",
       "      <td>The unique collection includes bronze cast han...</td>\n",
       "      <td>NASA Vehicle Assembly Building,Launch Complex ...</td>\n",
       "      <td>308 Pine Street Titusville, Florida United States</td>\n",
       "      <td>28.6105</td>\n",
       "      <td>...</td>\n",
       "      <td>jht69,PushingUpDaisies,kristingail</td>\n",
       "      <td>2018-01-12 00:00:00</td>\n",
       "      <td>Windover Archeological Site,NASA Vehicle Assem...</td>\n",
       "      <td>Museo de Geología (Museum of the Institute of ...</td>\n",
       "      <td>https://www.atlasobscura.com/places/american-s...</td>\n",
       "      <td>small space museum locat far better known kenn...</td>\n",
       "      <td>american space museum</td>\n",
       "      <td>pine street titusvil florida unit state</td>\n",
       "      <td>0.144750</td>\n",
       "      <td>0.621237</td>\n",
       "    </tr>\n",
       "    <tr>\n",
       "      <th>2652</th>\n",
       "      <td>2652</td>\n",
       "      <td>American Gothic Barn</td>\n",
       "      <td>paintings,farms,roadside attractions,art</td>\n",
       "      <td>247</td>\n",
       "      <td>569</td>\n",
       "      <td>Off the road on U.S. Route 30 in eastern Iowa,...</td>\n",
       "      <td>A hidden barn-sized rendition of Grant Wood's ...</td>\n",
       "      <td>Grant Wood Studio,Cedar Rapids Municipal Islan...</td>\n",
       "      <td>Highway 30 Mount Vernon, Iowa United States</td>\n",
       "      <td>41.9174</td>\n",
       "      <td>...</td>\n",
       "      <td>lewblank,slatonanthony,wisemand,dadacowgirl,an...</td>\n",
       "      <td>2017-04-25 00:00:00</td>\n",
       "      <td>Grant Wood Studio,Cedar Rapids Municipal Islan...</td>\n",
       "      <td>Pleasantville Curve,Johnston's J-Bar-B Stables...</td>\n",
       "      <td>https://www.atlasobscura.com/places/american-g...</td>\n",
       "      <td>road u rout  eastern iowa hidden tree complet ...</td>\n",
       "      <td>american gothic barn</td>\n",
       "      <td>highway  mount vernon iowa unit state</td>\n",
       "      <td>0.110766</td>\n",
       "      <td>0.504296</td>\n",
       "    </tr>\n",
       "    <tr>\n",
       "      <th>3196</th>\n",
       "      <td>3196</td>\n",
       "      <td>The American Kennel Club Museum of the Dog</td>\n",
       "      <td>dogs,museums and collections,animals,art,museums</td>\n",
       "      <td>146</td>\n",
       "      <td>532</td>\n",
       "      <td>At the intersection of the Venn diagram where ...</td>\n",
       "      <td>An extensive collection of fine art devoted to...</td>\n",
       "      <td>Campbell Apartment,Vanderbilt Tennis Club,Gran...</td>\n",
       "      <td>101 Park Ave Viaduct New York, New York, 10016...</td>\n",
       "      <td>40.7507</td>\n",
       "      <td>...</td>\n",
       "      <td>Trippnmama,carissapffffft,hmcr0213,rachellyon,...</td>\n",
       "      <td>2017-01-03 00:00:00</td>\n",
       "      <td>Campbell Apartment,Vanderbilt Tennis Club,Gran...</td>\n",
       "      <td>National Bird Dog Museum,David Roche House Mus...</td>\n",
       "      <td>https://www.atlasobscura.com/places/the-americ...</td>\n",
       "      <td>intersect venn diagram dog lover meet art love...</td>\n",
       "      <td>american kennel club museum dog</td>\n",
       "      <td>park ave viaduct new york new york  unit state</td>\n",
       "      <td>0.161211</td>\n",
       "      <td>0.424621</td>\n",
       "    </tr>\n",
       "    <tr>\n",
       "      <th>3449</th>\n",
       "      <td>3449</td>\n",
       "      <td>Japanese American Exclusion Memorial</td>\n",
       "      <td>racism,war history,world war ii,memorials,monu...</td>\n",
       "      <td>138</td>\n",
       "      <td>518</td>\n",
       "      <td>On March 24, 1942, 277 Bainbridge Island resid...</td>\n",
       "      <td>This monument remembers the first Japanese Ame...</td>\n",
       "      <td>The Labyrinth Mosaic and Halls Hill Lookout,Al...</td>\n",
       "      <td>4195 Eagle Harbor Drive NE Bainbridge Island, ...</td>\n",
       "      <td>47.6142</td>\n",
       "      <td>...</td>\n",
       "      <td>Jake Uitti,MikeInSanFrancisco</td>\n",
       "      <td>2018-05-10 00:00:00</td>\n",
       "      <td>The Labyrinth Mosaic and Halls Hill Lookout,Fo...</td>\n",
       "      <td>Free French Memorial Cross,S.O.E. Monument ,Le...</td>\n",
       "      <td>https://www.atlasobscura.com/places/bainbridge...</td>\n",
       "      <td>march    bainbridg island resid japanes descen...</td>\n",
       "      <td>japanes american exclus memori</td>\n",
       "      <td>eagl harbor drive ne bainbridg island washing...</td>\n",
       "      <td>0.077692</td>\n",
       "      <td>0.441834</td>\n",
       "    </tr>\n",
       "    <tr>\n",
       "      <th>3617</th>\n",
       "      <td>3617</td>\n",
       "      <td>Camera Collection at the American Society of C...</td>\n",
       "      <td>film,collections,history &amp; culture,history</td>\n",
       "      <td>82</td>\n",
       "      <td>508</td>\n",
       "      <td>Behind the tall hedges across the street from ...</td>\n",
       "      <td>Inside this clubhouse is a cinephile's paradise.</td>\n",
       "      <td>Janis Joplin’s Hotel Room ,The Babylon Court,T...</td>\n",
       "      <td>1782 N Orange Dr Los Angeles, California Unite...</td>\n",
       "      <td>34.1038</td>\n",
       "      <td>...</td>\n",
       "      <td>jessicahester1,Avoiding Regret</td>\n",
       "      <td>2018-10-26 00:00:00</td>\n",
       "      <td>The Magic Castle,Janis Joplin’s Hotel Room ,Th...</td>\n",
       "      <td>Alfred Hitchcock's London Flat,The Limelight D...</td>\n",
       "      <td>https://www.atlasobscura.com/places/american-s...</td>\n",
       "      <td>behind tall hedg across street famou magic cas...</td>\n",
       "      <td>camera collect american societi cinematograph</td>\n",
       "      <td>n orang dr lo angel california unit state</td>\n",
       "      <td>0.041123</td>\n",
       "      <td>0.381124</td>\n",
       "    </tr>\n",
       "    <tr>\n",
       "      <th>4413</th>\n",
       "      <td>4413</td>\n",
       "      <td>The American Pigeon Museum</td>\n",
       "      <td>pigeons,birds,animals</td>\n",
       "      <td>137</td>\n",
       "      <td>464</td>\n",
       "      <td>Many people, especially in big cities, view pi...</td>\n",
       "      <td>Celebrate the history of the rich and truly mi...</td>\n",
       "      <td>Oklahoma State Firefighters Museum ,Rodeo Anim...</td>\n",
       "      <td>2300 NE 63rd St Oklahoma City, Oklahoma, 73111...</td>\n",
       "      <td>35.5361</td>\n",
       "      <td>...</td>\n",
       "      <td>EricGrundhauser,cait7911,Collector of Experiences</td>\n",
       "      <td>2015-06-30 00:00:00</td>\n",
       "      <td>Rodeo Animal Cemetery,National Cowboy and West...</td>\n",
       "      <td>Warrior Birds Memorial,Paddy the Pigeon Plaque...</td>\n",
       "      <td>https://www.atlasobscura.com/places/the-americ...</td>\n",
       "      <td>mani peopl especi big citi view pigeon fli rat...</td>\n",
       "      <td>american pigeon museum</td>\n",
       "      <td>ne rd st oklahoma citi oklahoma  unit state</td>\n",
       "      <td>0.167326</td>\n",
       "      <td>0.576695</td>\n",
       "    </tr>\n",
       "    <tr>\n",
       "      <th>4415</th>\n",
       "      <td>4415</td>\n",
       "      <td>American Banjo Museum</td>\n",
       "      <td>music,museums and collections,museums</td>\n",
       "      <td>186</td>\n",
       "      <td>463</td>\n",
       "      <td>Containing more instruments on public display ...</td>\n",
       "      <td>Very likely the only museum in the world that ...</td>\n",
       "      <td>Factory Obscura Mix-Tape,Architectural DNA, Ok...</td>\n",
       "      <td>9 East Sheridan Avenue Oklahoma City, Oklahoma...</td>\n",
       "      <td>35.4668</td>\n",
       "      <td>...</td>\n",
       "      <td>madfishthepirate,Rachel,saenglish,Collector of...</td>\n",
       "      <td>2014-01-14 00:00:00</td>\n",
       "      <td>Oklahoma City Underground,Factory Obscura Mix...</td>\n",
       "      <td>Museu do Fado,Nisco Museum,Trap Music Museum,M...</td>\n",
       "      <td>https://www.atlasobscura.com/places/american-b...</td>\n",
       "      <td>contain instrument public display collect worl...</td>\n",
       "      <td>american banjo museum</td>\n",
       "      <td>east sheridan avenu oklahoma citi oklahoma  u...</td>\n",
       "      <td>0.156090</td>\n",
       "      <td>0.550593</td>\n",
       "    </tr>\n",
       "    <tr>\n",
       "      <th>4874</th>\n",
       "      <td>4874</td>\n",
       "      <td>American Flats</td>\n",
       "      <td>graffiti,abandoned,ruins</td>\n",
       "      <td>79</td>\n",
       "      <td>440</td>\n",
       "      <td>Unfortunately in the fall of 2014 the site was...</td>\n",
       "      <td>An abandoned cyanide mill is now a haunting ma...</td>\n",
       "      <td>Piper's Opera House,Ponderosa Saloon,Gold Hill...</td>\n",
       "      <td>Silver City, Nevada, 89428 United States 39.27...</td>\n",
       "      <td>39.2709</td>\n",
       "      <td>...</td>\n",
       "      <td>neonconflagrations,dgerbo,Mark Sommer,Howard G...</td>\n",
       "      <td>2014-08-27 00:00:00</td>\n",
       "      <td>Gold Hill Hotel,Ponderosa Saloon,Piper's Opera...</td>\n",
       "      <td>Abandoned Hotel at Cala d’en Serra,Aldridge Sa...</td>\n",
       "      <td>https://www.atlasobscura.com/places/american-f...</td>\n",
       "      <td>unfortun fall  site close subsequ demolish blm...</td>\n",
       "      <td>american flat</td>\n",
       "      <td>silver citi nevada  unit state    visit websit...</td>\n",
       "      <td>0.076355</td>\n",
       "      <td>0.644683</td>\n",
       "    </tr>\n",
       "    <tr>\n",
       "      <th>5223</th>\n",
       "      <td>5223</td>\n",
       "      <td>American Museum of Magic</td>\n",
       "      <td>houdini,wonder cabinets,magic,collections,muse...</td>\n",
       "      <td>174</td>\n",
       "      <td>910</td>\n",
       "      <td>Presto Change-o! Founded in 1978, the American...</td>\n",
       "      <td>Largest magic museum in the United States with...</td>\n",
       "      <td>Dr. J.H. Kellogg Discovery Center,Gilmore Car ...</td>\n",
       "      <td>107 E. Michigan Ave. Marshall, Michigan, 49068...</td>\n",
       "      <td>42.2721</td>\n",
       "      <td>...</td>\n",
       "      <td>Nicholas Jackson,Collector of Experiences,Mart...</td>\n",
       "      <td>2012-07-22 00:00:00</td>\n",
       "      <td>The Former Battle Creek Sanitarium,Dr. J.H. Ke...</td>\n",
       "      <td>Museum of the Bizarre ,Buckland Museum of Witc...</td>\n",
       "      <td>https://www.atlasobscura.com/places/american-m...</td>\n",
       "      <td>presto chang found  american museum magic arou...</td>\n",
       "      <td>american museum magic</td>\n",
       "      <td>e michigan ave marshal michigan  unit state</td>\n",
       "      <td>0.145815</td>\n",
       "      <td>0.630730</td>\n",
       "    </tr>\n",
       "    <tr>\n",
       "      <th>5224</th>\n",
       "      <td>5224</td>\n",
       "      <td>Hall of Fame for Great Americans</td>\n",
       "      <td>colleges,monuments,museums and collections</td>\n",
       "      <td>85</td>\n",
       "      <td>423</td>\n",
       "      <td>Update: The Hall of Fame for Great Americans i...</td>\n",
       "      <td>The first \"Hall of Fame\" in America was design...</td>\n",
       "      <td>Dyckman Farmhouse,Kool Herc's Block,Seaman-Dra...</td>\n",
       "      <td>2060 Sedgwick Ave The Bronx, New York, 10453 U...</td>\n",
       "      <td>40.8588</td>\n",
       "      <td>...</td>\n",
       "      <td>WaveMechanic,judie,bncrain,Rachel,irregularhex...</td>\n",
       "      <td>2012-06-25 00:00:00</td>\n",
       "      <td>Dyckman Farmhouse,Seaman-Drake Arch ,Kool Herc...</td>\n",
       "      <td>George Washington Turquoise Stone,John Harvard...</td>\n",
       "      <td>https://www.atlasobscura.com/places/hall-of-fa...</td>\n",
       "      <td>updat hall fame great american current close h...</td>\n",
       "      <td>hall fame great american</td>\n",
       "      <td>sedgwick ave bronx new york  unit state</td>\n",
       "      <td>0.087097</td>\n",
       "      <td>0.495787</td>\n",
       "    </tr>\n",
       "    <tr>\n",
       "      <th>5333</th>\n",
       "      <td>5333</td>\n",
       "      <td>American Museum of the House Cat</td>\n",
       "      <td>cats,museums and collections,animals,museums</td>\n",
       "      <td>142</td>\n",
       "      <td>1037</td>\n",
       "      <td>Cats have a regal bearing that seems to have f...</td>\n",
       "      <td>This vast kitty-themed collection illustrates ...</td>\n",
       "      <td>Judaculla Rock,The Fugitive Train Wreck,Caffé REL</td>\n",
       "      <td>Old School Antique Mall  4704 US-441 Sylva, No...</td>\n",
       "      <td>35.3190</td>\n",
       "      <td>...</td>\n",
       "      <td>e1savage,picturemebahb,wnccatmuseum,tahasic,zy...</td>\n",
       "      <td>2017-05-30 00:00:00</td>\n",
       "      <td>The Fugitive Train Wreck,Judaculla Rock,Caffé ...</td>\n",
       "      <td>Tower of London Barbary Lion Skulls,Cats Museu...</td>\n",
       "      <td>https://www.atlasobscura.com/places/american-m...</td>\n",
       "      <td>cat regal bear seem fascin human be throughout...</td>\n",
       "      <td>american museum hous cat</td>\n",
       "      <td>old school antiqu mall  us  sylva north carolina</td>\n",
       "      <td>0.117629</td>\n",
       "      <td>0.600856</td>\n",
       "    </tr>\n",
       "    <tr>\n",
       "      <th>5506</th>\n",
       "      <td>5506</td>\n",
       "      <td>American Computer Museum</td>\n",
       "      <td>computer museums,computers,electrical oddities...</td>\n",
       "      <td>124</td>\n",
       "      <td>410</td>\n",
       "      <td>“To collect, preserve, interpret, and display ...</td>\n",
       "      <td>See the computer’s history revealed over the c...</td>\n",
       "      <td>Bleu Horses,Madison Buffalo Jump State Park,Ch...</td>\n",
       "      <td>2023 Stadium Dr Suite 1A Bozeman, Montana, 59715</td>\n",
       "      <td>45.6590</td>\n",
       "      <td>...</td>\n",
       "      <td>Trevor,Edward Denny,mbison,lifenrichment</td>\n",
       "      <td>2010-01-30 00:00:00</td>\n",
       "      <td>Madison Buffalo Jump State Park,Chico Hot Spri...</td>\n",
       "      <td>Computer History Museum,Silverball Museum Arca...</td>\n",
       "      <td>https://www.atlasobscura.com/places/american-c...</td>\n",
       "      <td>collect preserv interpret display artifact his...</td>\n",
       "      <td>american comput museum</td>\n",
       "      <td>stadium dr suit a bozeman montana</td>\n",
       "      <td>0.114190</td>\n",
       "      <td>0.576695</td>\n",
       "    </tr>\n",
       "    <tr>\n",
       "      <th>5788</th>\n",
       "      <td>5788</td>\n",
       "      <td>American Science &amp; Surplus</td>\n",
       "      <td>strange science,purveyors of curiosities,shops</td>\n",
       "      <td>871</td>\n",
       "      <td>1466</td>\n",
       "      <td>As a rule, surplus stores are mildly disreputa...</td>\n",
       "      <td>A science teacher's dream.</td>\n",
       "      <td>Noble–Seymour–Crippen House,Leaning Tower of N...</td>\n",
       "      <td>27 N Northwest Highway Park Ridge, Illinois, 6...</td>\n",
       "      <td>42.0121</td>\n",
       "      <td>...</td>\n",
       "      <td>Rebekah Otto,newmansmallengine,mbison,Collecto...</td>\n",
       "      <td>2009-11-12 00:00:00</td>\n",
       "      <td>Pickwick Theatre,Leaning Tower of Niles,Noble–...</td>\n",
       "      <td>Bolivia's Witch Market,Diggerland USA,Wicker P...</td>\n",
       "      <td>https://www.atlasobscura.com/places/american-s...</td>\n",
       "      <td>rule surplu store mildli disreput take leftov ...</td>\n",
       "      <td>american scienc surplu</td>\n",
       "      <td>n northwest highway park ridg illinoi  unit s...</td>\n",
       "      <td>0.084605</td>\n",
       "      <td>0.504956</td>\n",
       "    </tr>\n",
       "    <tr>\n",
       "      <th>6080</th>\n",
       "      <td>6080</td>\n",
       "      <td>Museum of the American Cocktail</td>\n",
       "      <td>collections,museums and collections</td>\n",
       "      <td>297</td>\n",
       "      <td>1318</td>\n",
       "      <td>They say that New Orleans is the home of the f...</td>\n",
       "      <td>If New Orleans is the birthplace of the \"cockt...</td>\n",
       "      <td>The Eiffel Tower of New Orleans,Union Passeng...</td>\n",
       "      <td>1504 Oretha Castle Haley Blvd Suite 169 New Or...</td>\n",
       "      <td>29.9408</td>\n",
       "      <td>...</td>\n",
       "      <td>Oliver Hong,Martin,Taylarc,blathering,Anne Mar...</td>\n",
       "      <td>2013-02-03 00:00:00</td>\n",
       "      <td>Union Passenger Terminal Murals,Plaza Tower, T...</td>\n",
       "      <td>The Wallace Collection Armory,Booze History Mu...</td>\n",
       "      <td>https://www.atlasobscura.com/places/museum-ame...</td>\n",
       "      <td>say new orlean home first cocktail visit find ...</td>\n",
       "      <td>museum american cocktail</td>\n",
       "      <td>oretha castl haley blvd suit  new orlean loui...</td>\n",
       "      <td>0.126710</td>\n",
       "      <td>0.565670</td>\n",
       "    </tr>\n",
       "    <tr>\n",
       "      <th>6226</th>\n",
       "      <td>6226</td>\n",
       "      <td>The American Visionary Art Museum</td>\n",
       "      <td>obscura day locations,sculpture gardens,outsid...</td>\n",
       "      <td>1362</td>\n",
       "      <td>1254</td>\n",
       "      <td>The art of farmers, postmen, the mentally ill,...</td>\n",
       "      <td>A museum dedicated to exhibiting remarkable ou...</td>\n",
       "      <td>Fell Family Cemetery ,Mr. Trash Wheel,The Hors...</td>\n",
       "      <td>800 Key Highway Baltimore, Maryland, 21230 Uni...</td>\n",
       "      <td>39.2801</td>\n",
       "      <td>...</td>\n",
       "      <td>Seth Teicher,Annetta Black,Toriaroscuro,sharme...</td>\n",
       "      <td>2010-02-10 00:00:00</td>\n",
       "      <td>Mr. Trash Wheel,Fell Family Cemetery ,The Hors...</td>\n",
       "      <td>Rafael Coronel Museum,Hakone Open-Air Museum,M...</td>\n",
       "      <td>https://www.atlasobscura.com/places/the-americ...</td>\n",
       "      <td>art farmer postmen mental ill art done secretl...</td>\n",
       "      <td>american visionari art museum</td>\n",
       "      <td>key highway baltimor maryland  unit state</td>\n",
       "      <td>0.124901</td>\n",
       "      <td>0.499615</td>\n",
       "    </tr>\n",
       "    <tr>\n",
       "      <th>6282</th>\n",
       "      <td>6282</td>\n",
       "      <td>American Treasure Tour</td>\n",
       "      <td>roadside attractions,collections,museums and c...</td>\n",
       "      <td>146</td>\n",
       "      <td>1237</td>\n",
       "      <td>They say one man’s trash is another man’s trea...</td>\n",
       "      <td>Delicate Wurlitzers, creepy clowns, and The No...</td>\n",
       "      <td>Washington Memorial Chapel,World's Largest Sli...</td>\n",
       "      <td>422 Business Center  Norristown, Pennsylvania,...</td>\n",
       "      <td>40.1331</td>\n",
       "      <td>...</td>\n",
       "      <td>boomer1ny,Rachel,kirstin,travelsyte,rhbrakman</td>\n",
       "      <td>2014-01-05 00:00:00</td>\n",
       "      <td>World's Largest Slinky,Washington Memorial Cha...</td>\n",
       "      <td>World's Largest Small Electric Appliance Museu...</td>\n",
       "      <td>https://www.atlasobscura.com/places/american-t...</td>\n",
       "      <td>say one man trash anoth man treasur pennsylvan...</td>\n",
       "      <td>american treasur tour</td>\n",
       "      <td>busi center norristown pennsylvania  unit state</td>\n",
       "      <td>0.090897</td>\n",
       "      <td>0.495142</td>\n",
       "    </tr>\n",
       "    <tr>\n",
       "      <th>6314</th>\n",
       "      <td>6314</td>\n",
       "      <td>American Science &amp; Surplus</td>\n",
       "      <td>purveyors of curiosities</td>\n",
       "      <td>772</td>\n",
       "      <td>1232</td>\n",
       "      <td>American Science &amp; Surplus is both an institut...</td>\n",
       "      <td>Robots, lasers, and whoopee cushions, oh my!</td>\n",
       "      <td>Mitchell Park Domes,Holler House,Frank Lloyd W...</td>\n",
       "      <td>6901 W. Oklahoma Ave Milwaukee, Wisconsin, 532...</td>\n",
       "      <td>42.9877</td>\n",
       "      <td>...</td>\n",
       "      <td>Blindcolour,American Science Surplus Milwaukee...</td>\n",
       "      <td>2009-06-17 00:00:00</td>\n",
       "      <td>Frank Lloyd Wright's Burnham Block,Holler Hous...</td>\n",
       "      <td>Bolivia's Witch Market,Diggerland USA,Wicker P...</td>\n",
       "      <td>https://www.atlasobscura.com/places/american-s...</td>\n",
       "      <td>american scienc surplu institut geek persuas d...</td>\n",
       "      <td>american scienc surplu</td>\n",
       "      <td>w oklahoma ave milwauke wisconsin  unit state</td>\n",
       "      <td>0.070488</td>\n",
       "      <td>0.504956</td>\n",
       "    </tr>\n",
       "  </tbody>\n",
       "</table>\n",
       "<p>24 rows × 21 columns</p>\n",
       "</div>"
      ],
      "text/plain": [
       "      Unnamed: 0                                          placeName  \\\n",
       "6              6                        American Prohibition Museum   \n",
       "146          146                     American Classic Arcade Museum   \n",
       "197          197                     American Museum of Western Art   \n",
       "385          385                              American Gothic House   \n",
       "1750        1750         The American Geographical Society Library    \n",
       "2042        2042          DANK Haus German American Cultural Center   \n",
       "2216        2216                            American Writers Museum   \n",
       "2411        2411                              American Space Museum   \n",
       "2652        2652                               American Gothic Barn   \n",
       "3196        3196         The American Kennel Club Museum of the Dog   \n",
       "3449        3449               Japanese American Exclusion Memorial   \n",
       "3617        3617  Camera Collection at the American Society of C...   \n",
       "4413        4413                        The American Pigeon Museum    \n",
       "4415        4415                              American Banjo Museum   \n",
       "4874        4874                                     American Flats   \n",
       "5223        5223                           American Museum of Magic   \n",
       "5224        5224                   Hall of Fame for Great Americans   \n",
       "5333        5333                   American Museum of the House Cat   \n",
       "5506        5506                           American Computer Museum   \n",
       "5788        5788                         American Science & Surplus   \n",
       "6080        6080                    Museum of the American Cocktail   \n",
       "6226        6226                  The American Visionary Art Museum   \n",
       "6282        6282                             American Treasure Tour   \n",
       "6314        6314                         American Science & Surplus   \n",
       "\n",
       "                                              placeTags  numPeopleVisited  \\\n",
       "6     speakeasies,prohibition,law,food museums,alcoh...               368   \n",
       "146   pinball,arcades,video games,games,museums and ...               468   \n",
       "197   brothels,americana,hotels,museums and collecti...               323   \n",
       "385   eccentric homes,shops,homes,architectural oddi...               380   \n",
       "1750                              globes,maps,libraries               174   \n",
       "2042  gallery,schools,immigration,culture,cities,mus...               278   \n",
       "2216                                            writers               182   \n",
       "2411              space,museums and collections,museums               317   \n",
       "2652           paintings,farms,roadside attractions,art               247   \n",
       "3196   dogs,museums and collections,animals,art,museums               146   \n",
       "3449  racism,war history,world war ii,memorials,monu...               138   \n",
       "3617         film,collections,history & culture,history                82   \n",
       "4413                              pigeons,birds,animals               137   \n",
       "4415              music,museums and collections,museums               186   \n",
       "4874                           graffiti,abandoned,ruins                79   \n",
       "5223  houdini,wonder cabinets,magic,collections,muse...               174   \n",
       "5224         colleges,monuments,museums and collections                85   \n",
       "5333       cats,museums and collections,animals,museums               142   \n",
       "5506  computer museums,computers,electrical oddities...               124   \n",
       "5788     strange science,purveyors of curiosities,shops               871   \n",
       "6080                collections,museums and collections               297   \n",
       "6226  obscura day locations,sculpture gardens,outsid...              1362   \n",
       "6282  roadside attractions,collections,museums and c...               146   \n",
       "6314                           purveyors of curiosities               772   \n",
       "\n",
       "      numPeopleWant                                          placeDesc  \\\n",
       "6               832  When the 18th Amendment to the U.S. Constituti...   \n",
       "146            1022  Housed inside New Hampshire’s Funspot, which h...   \n",
       "197             806  Housed in the old Navarre building across from...   \n",
       "385             784  Made famous in the 1930 painting by Grant Wood...   \n",
       "1750            635  Within the campus of the University of Wiscons...   \n",
       "2042            613  DANK Haus Chicago has served as the city’s Ger...   \n",
       "2216            599  The American Writers Museum—tucked away on the...   \n",
       "2411            583  This small space museum, located not far from ...   \n",
       "2652            569  Off the road on U.S. Route 30 in eastern Iowa,...   \n",
       "3196            532  At the intersection of the Venn diagram where ...   \n",
       "3449            518  On March 24, 1942, 277 Bainbridge Island resid...   \n",
       "3617            508  Behind the tall hedges across the street from ...   \n",
       "4413            464  Many people, especially in big cities, view pi...   \n",
       "4415            463  Containing more instruments on public display ...   \n",
       "4874            440  Unfortunately in the fall of 2014 the site was...   \n",
       "5223            910  Presto Change-o! Founded in 1978, the American...   \n",
       "5224            423  Update: The Hall of Fame for Great Americans i...   \n",
       "5333           1037  Cats have a regal bearing that seems to have f...   \n",
       "5506            410  “To collect, preserve, interpret, and display ...   \n",
       "5788           1466  As a rule, surplus stores are mildly disreputa...   \n",
       "6080           1318  They say that New Orleans is the home of the f...   \n",
       "6226           1254  The art of farmers, postmen, the mentally ill,...   \n",
       "6282           1237  They say one man’s trash is another man’s trea...   \n",
       "6314           1232  American Science & Surplus is both an institut...   \n",
       "\n",
       "                                         placeShortDesc  \\\n",
       "6     Performers, intricate sets, and a real speakea...   \n",
       "146   The largest arcade museum in the world chronic...   \n",
       "197   The huge collection of paintings of the Americ...   \n",
       "385   Home with Gothic windows featured in a famous ...   \n",
       "1750  Literally a million fascinating cartographic a...   \n",
       "2042  You can take a class, browse the library, or v...   \n",
       "2216  Small and slightly hidden, the American Writer...   \n",
       "2411  The unique collection includes bronze cast han...   \n",
       "2652  A hidden barn-sized rendition of Grant Wood's ...   \n",
       "3196  An extensive collection of fine art devoted to...   \n",
       "3449  This monument remembers the first Japanese Ame...   \n",
       "3617  Inside this clubhouse is a cinephile's paradise.    \n",
       "4413  Celebrate the history of the rich and truly mi...   \n",
       "4415  Very likely the only museum in the world that ...   \n",
       "4874  An abandoned cyanide mill is now a haunting ma...   \n",
       "5223  Largest magic museum in the United States with...   \n",
       "5224  The first \"Hall of Fame\" in America was design...   \n",
       "5333  This vast kitty-themed collection illustrates ...   \n",
       "5506  See the computer’s history revealed over the c...   \n",
       "5788                        A science teacher's dream.    \n",
       "6080  If New Orleans is the birthplace of the \"cockt...   \n",
       "6226  A museum dedicated to exhibiting remarkable ou...   \n",
       "6282  Delicate Wurlitzers, creepy clowns, and The No...   \n",
       "6314      Robots, lasers, and whoopee cushions, oh my!    \n",
       "\n",
       "                                            placeNearby  \\\n",
       "6     The Paris Market,Riverside Plant Hotel,The Mar...   \n",
       "146   Endicott Rock,Archie Andrews Statue,Claude Rai...   \n",
       "197   Mile-High Steps at the Colorado State Capitol,...   \n",
       "385   What Cheer,Maharishi Vedic City,Richard Proenn...   \n",
       "1750  Shorewood Ghost Train,North Point Water Tower,...   \n",
       "2042  Former Site of Selig Polyscope Film Studios,Me...   \n",
       "2216  Tiffany Dome,Heald Square Monument's Statue of...   \n",
       "2411  NASA Vehicle Assembly Building,Launch Complex ...   \n",
       "2652  Grant Wood Studio,Cedar Rapids Municipal Islan...   \n",
       "3196  Campbell Apartment,Vanderbilt Tennis Club,Gran...   \n",
       "3449  The Labyrinth Mosaic and Halls Hill Lookout,Al...   \n",
       "3617  Janis Joplin’s Hotel Room ,The Babylon Court,T...   \n",
       "4413  Oklahoma State Firefighters Museum ,Rodeo Anim...   \n",
       "4415  Factory Obscura Mix-Tape,Architectural DNA, Ok...   \n",
       "4874  Piper's Opera House,Ponderosa Saloon,Gold Hill...   \n",
       "5223  Dr. J.H. Kellogg Discovery Center,Gilmore Car ...   \n",
       "5224  Dyckman Farmhouse,Kool Herc's Block,Seaman-Dra...   \n",
       "5333  Judaculla Rock,The Fugitive Train Wreck,Caffé REL   \n",
       "5506  Bleu Horses,Madison Buffalo Jump State Park,Ch...   \n",
       "5788  Noble–Seymour–Crippen House,Leaning Tower of N...   \n",
       "6080   The Eiffel Tower of New Orleans,Union Passeng...   \n",
       "6226  Fell Family Cemetery ,Mr. Trash Wheel,The Hors...   \n",
       "6282  Washington Memorial Chapel,World's Largest Sli...   \n",
       "6314  Mitchell Park Domes,Holler House,Frank Lloyd W...   \n",
       "\n",
       "                                            placeAdress  placeAlt  ...  \\\n",
       "6     209 W. St. Julian Street Savannah, Georgia Uni...   32.0806  ...   \n",
       "146   579 Endicott Street North Laconia, New Hampshi...   43.6130  ...   \n",
       "197   1727 Tremont Place Denver, Colorado United States   39.7447  ...   \n",
       "385     300 Gothic St. Eldon, Iowa, 52554 United States   40.9211  ...   \n",
       "1750  2311 E Hartford Ave Golda Meir Library, 3rd Fl...   43.0771  ...   \n",
       "2042  4740 N Western Ave Chicago, Illinois United St...   41.9680  ...   \n",
       "2216  180 N Michigan Ave Chicago, Illinois, 60601 Un...   41.8856  ...   \n",
       "2411  308 Pine Street Titusville, Florida United States   28.6105  ...   \n",
       "2652        Highway 30 Mount Vernon, Iowa United States   41.9174  ...   \n",
       "3196  101 Park Ave Viaduct New York, New York, 10016...   40.7507  ...   \n",
       "3449  4195 Eagle Harbor Drive NE Bainbridge Island, ...   47.6142  ...   \n",
       "3617  1782 N Orange Dr Los Angeles, California Unite...   34.1038  ...   \n",
       "4413  2300 NE 63rd St Oklahoma City, Oklahoma, 73111...   35.5361  ...   \n",
       "4415  9 East Sheridan Avenue Oklahoma City, Oklahoma...   35.4668  ...   \n",
       "4874  Silver City, Nevada, 89428 United States 39.27...   39.2709  ...   \n",
       "5223  107 E. Michigan Ave. Marshall, Michigan, 49068...   42.2721  ...   \n",
       "5224  2060 Sedgwick Ave The Bronx, New York, 10453 U...   40.8588  ...   \n",
       "5333  Old School Antique Mall  4704 US-441 Sylva, No...   35.3190  ...   \n",
       "5506   2023 Stadium Dr Suite 1A Bozeman, Montana, 59715   45.6590  ...   \n",
       "5788  27 N Northwest Highway Park Ridge, Illinois, 6...   42.0121  ...   \n",
       "6080  1504 Oretha Castle Haley Blvd Suite 169 New Or...   29.9408  ...   \n",
       "6226  800 Key Highway Baltimore, Maryland, 21230 Uni...   39.2801  ...   \n",
       "6282  422 Business Center  Norristown, Pennsylvania,...   40.1331  ...   \n",
       "6314  6901 W. Oklahoma Ave Milwaukee, Wisconsin, 532...   42.9877  ...   \n",
       "\n",
       "                                           placeEditors         placePubDate  \\\n",
       "6     Edward Denny,Collector of Experiences,theparan...  2018-11-26 00:00:00   \n",
       "146           thomasharper,tehutika,Mark Mones,e1savage  2014-04-04 00:00:00   \n",
       "197                      randibrown,bribolio,cyccommute  2017-11-27 00:00:00   \n",
       "385   Facebook550112500,renkessler,smcripps04,drvand...  2011-06-29 00:00:00   \n",
       "1750                              Luke J Spencer,hrnick  2016-03-13 00:00:00   \n",
       "2042                                      Patti Swanson  2017-12-06 00:00:00   \n",
       "2216                                           clairers  2019-06-28 00:00:00   \n",
       "2411                 jht69,PushingUpDaisies,kristingail  2018-01-12 00:00:00   \n",
       "2652  lewblank,slatonanthony,wisemand,dadacowgirl,an...  2017-04-25 00:00:00   \n",
       "3196  Trippnmama,carissapffffft,hmcr0213,rachellyon,...  2017-01-03 00:00:00   \n",
       "3449                      Jake Uitti,MikeInSanFrancisco  2018-05-10 00:00:00   \n",
       "3617                     jessicahester1,Avoiding Regret  2018-10-26 00:00:00   \n",
       "4413  EricGrundhauser,cait7911,Collector of Experiences  2015-06-30 00:00:00   \n",
       "4415  madfishthepirate,Rachel,saenglish,Collector of...  2014-01-14 00:00:00   \n",
       "4874  neonconflagrations,dgerbo,Mark Sommer,Howard G...  2014-08-27 00:00:00   \n",
       "5223  Nicholas Jackson,Collector of Experiences,Mart...  2012-07-22 00:00:00   \n",
       "5224  WaveMechanic,judie,bncrain,Rachel,irregularhex...  2012-06-25 00:00:00   \n",
       "5333  e1savage,picturemebahb,wnccatmuseum,tahasic,zy...  2017-05-30 00:00:00   \n",
       "5506           Trevor,Edward Denny,mbison,lifenrichment  2010-01-30 00:00:00   \n",
       "5788  Rebekah Otto,newmansmallengine,mbison,Collecto...  2009-11-12 00:00:00   \n",
       "6080  Oliver Hong,Martin,Taylarc,blathering,Anne Mar...  2013-02-03 00:00:00   \n",
       "6226  Seth Teicher,Annetta Black,Toriaroscuro,sharme...  2010-02-10 00:00:00   \n",
       "6282      boomer1ny,Rachel,kirstin,travelsyte,rhbrakman  2014-01-05 00:00:00   \n",
       "6314  Blindcolour,American Science Surplus Milwaukee...  2009-06-17 00:00:00   \n",
       "\n",
       "                                       placeRelatedList  \\\n",
       "6     The Paris Market,Riverside Plant Hotel,The Mar...   \n",
       "146   Endicott Rock,Archie Andrews Statue,Claude Rai...   \n",
       "197   Denver Omelet Plaque,Big Blue Bear,Mile-High S...   \n",
       "385   Maharishi Vedic City,What Cheer,Richard Proenn...   \n",
       "1750  Shorewood Ghost Train,North Point Water Tower,...   \n",
       "2042  Merz Apothecary,Former Site of Selig Polyscope...   \n",
       "2216  Tiffany Dome,Heald Square Monument's Statue of...   \n",
       "2411  Windover Archeological Site,NASA Vehicle Assem...   \n",
       "2652  Grant Wood Studio,Cedar Rapids Municipal Islan...   \n",
       "3196  Campbell Apartment,Vanderbilt Tennis Club,Gran...   \n",
       "3449  The Labyrinth Mosaic and Halls Hill Lookout,Fo...   \n",
       "3617  The Magic Castle,Janis Joplin’s Hotel Room ,Th...   \n",
       "4413  Rodeo Animal Cemetery,National Cowboy and West...   \n",
       "4415   Oklahoma City Underground,Factory Obscura Mix...   \n",
       "4874  Gold Hill Hotel,Ponderosa Saloon,Piper's Opera...   \n",
       "5223  The Former Battle Creek Sanitarium,Dr. J.H. Ke...   \n",
       "5224  Dyckman Farmhouse,Seaman-Drake Arch ,Kool Herc...   \n",
       "5333  The Fugitive Train Wreck,Judaculla Rock,Caffé ...   \n",
       "5506  Madison Buffalo Jump State Park,Chico Hot Spri...   \n",
       "5788  Pickwick Theatre,Leaning Tower of Niles,Noble–...   \n",
       "6080  Union Passenger Terminal Murals,Plaza Tower, T...   \n",
       "6226  Mr. Trash Wheel,Fell Family Cemetery ,The Hors...   \n",
       "6282  World's Largest Slinky,Washington Memorial Cha...   \n",
       "6314  Frank Lloyd Wright's Burnham Block,Holler Hous...   \n",
       "\n",
       "                                      placeRelatedPlace  \\\n",
       "6     Booze History Museum,Linos tou Charilaou (Omod...   \n",
       "146   Asheville Pinball Museum,Pinball Hall of Fame,...   \n",
       "197   Null Stern Hotel Museum,French Shore Interpret...   \n",
       "385   Krämerbrücke,Castello di Amorosa,Margalef,Hist...   \n",
       "1750  Royal Library of San Lorenzo de El Escorial,Ca...   \n",
       "2042  Carl Weege Immigrant House Museum ,Immigration...   \n",
       "2216  The Writers Chair,Casa Fernando Pessoa,Grave o...   \n",
       "2411  Museo de Geología (Museum of the Institute of ...   \n",
       "2652  Pleasantville Curve,Johnston's J-Bar-B Stables...   \n",
       "3196  National Bird Dog Museum,David Roche House Mus...   \n",
       "3449  Free French Memorial Cross,S.O.E. Monument ,Le...   \n",
       "3617  Alfred Hitchcock's London Flat,The Limelight D...   \n",
       "4413  Warrior Birds Memorial,Paddy the Pigeon Plaque...   \n",
       "4415  Museu do Fado,Nisco Museum,Trap Music Museum,M...   \n",
       "4874  Abandoned Hotel at Cala d’en Serra,Aldridge Sa...   \n",
       "5223  Museum of the Bizarre ,Buckland Museum of Witc...   \n",
       "5224  George Washington Turquoise Stone,John Harvard...   \n",
       "5333  Tower of London Barbary Lion Skulls,Cats Museu...   \n",
       "5506  Computer History Museum,Silverball Museum Arca...   \n",
       "5788  Bolivia's Witch Market,Diggerland USA,Wicker P...   \n",
       "6080  The Wallace Collection Armory,Booze History Mu...   \n",
       "6226  Rafael Coronel Museum,Hakone Open-Air Museum,M...   \n",
       "6282  World's Largest Small Electric Appliance Museu...   \n",
       "6314  Bolivia's Witch Market,Diggerland USA,Wicker P...   \n",
       "\n",
       "                                               placeURL  \\\n",
       "6     https://www.atlasobscura.com/places/american-p...   \n",
       "146   https://www.atlasobscura.com/places/american-c...   \n",
       "197   https://www.atlasobscura.com/places/american-m...   \n",
       "385   https://www.atlasobscura.com/places/american-g...   \n",
       "1750  https://www.atlasobscura.com/places/the-americ...   \n",
       "2042  https://www.atlasobscura.com/places/dank-haus-...   \n",
       "2216  https://www.atlasobscura.com/places/american-w...   \n",
       "2411  https://www.atlasobscura.com/places/american-s...   \n",
       "2652  https://www.atlasobscura.com/places/american-g...   \n",
       "3196  https://www.atlasobscura.com/places/the-americ...   \n",
       "3449  https://www.atlasobscura.com/places/bainbridge...   \n",
       "3617  https://www.atlasobscura.com/places/american-s...   \n",
       "4413  https://www.atlasobscura.com/places/the-americ...   \n",
       "4415  https://www.atlasobscura.com/places/american-b...   \n",
       "4874  https://www.atlasobscura.com/places/american-f...   \n",
       "5223  https://www.atlasobscura.com/places/american-m...   \n",
       "5224  https://www.atlasobscura.com/places/hall-of-fa...   \n",
       "5333  https://www.atlasobscura.com/places/american-m...   \n",
       "5506  https://www.atlasobscura.com/places/american-c...   \n",
       "5788  https://www.atlasobscura.com/places/american-s...   \n",
       "6080  https://www.atlasobscura.com/places/museum-ame...   \n",
       "6226  https://www.atlasobscura.com/places/the-americ...   \n",
       "6282  https://www.atlasobscura.com/places/american-t...   \n",
       "6314  https://www.atlasobscura.com/places/american-s...   \n",
       "\n",
       "                                              cleanDesc  \\\n",
       "6     th amend u constitut outlaw alcohol deleteri d...   \n",
       "146   hous insid new hampshir funspot hold guin worl...   \n",
       "197   hous old navarr build across brown palac hotel...   \n",
       "385   made famou  paint grant wood american gothic o...   \n",
       "1750  within campu univers wisconsin milwauke geogra...   \n",
       "2042  dank hau chicago serv citi german american cul...   \n",
       "2216  american writer museum tuck away second floor ...   \n",
       "2411  small space museum locat far better known kenn...   \n",
       "2652  road u rout  eastern iowa hidden tree complet ...   \n",
       "3196  intersect venn diagram dog lover meet art love...   \n",
       "3449  march    bainbridg island resid japanes descen...   \n",
       "3617  behind tall hedg across street famou magic cas...   \n",
       "4413  mani peopl especi big citi view pigeon fli rat...   \n",
       "4415  contain instrument public display collect worl...   \n",
       "4874  unfortun fall  site close subsequ demolish blm...   \n",
       "5223  presto chang found  american museum magic arou...   \n",
       "5224  updat hall fame great american current close h...   \n",
       "5333  cat regal bear seem fascin human be throughout...   \n",
       "5506  collect preserv interpret display artifact his...   \n",
       "5788  rule surplu store mildli disreput take leftov ...   \n",
       "6080  say new orlean home first cocktail visit find ...   \n",
       "6226  art farmer postmen mental ill art done secretl...   \n",
       "6282  say one man trash anoth man treasur pennsylvan...   \n",
       "6314  american scienc surplu institut geek persuas d...   \n",
       "\n",
       "                                          cleanName  \\\n",
       "6                          american prohibit museum   \n",
       "146                   american classic arcad museum   \n",
       "197                     american museum western art   \n",
       "385                            american gothic hous   \n",
       "1750              american geograph societi librari   \n",
       "2042         dank hau german american cultur center   \n",
       "2216                         american writer museum   \n",
       "2411                          american space museum   \n",
       "2652                           american gothic barn   \n",
       "3196                american kennel club museum dog   \n",
       "3449                 japanes american exclus memori   \n",
       "3617  camera collect american societi cinematograph   \n",
       "4413                         american pigeon museum   \n",
       "4415                          american banjo museum   \n",
       "4874                                  american flat   \n",
       "5223                          american museum magic   \n",
       "5224                       hall fame great american   \n",
       "5333                       american museum hous cat   \n",
       "5506                         american comput museum   \n",
       "5788                         american scienc surplu   \n",
       "6080                       museum american cocktail   \n",
       "6226                  american visionari art museum   \n",
       "6282                          american treasur tour   \n",
       "6314                         american scienc surplu   \n",
       "\n",
       "                                            cleanAdress CS_cleanDesc  \\\n",
       "6        w st julian street savannah georgia unit state     0.081833   \n",
       "146    endicott street north laconia new hampshir  u...     0.097970   \n",
       "197            tremont place denver colorado unit state     0.145389   \n",
       "385                    gothic st eldon iowa  unit state     0.040367   \n",
       "1750   e hartford ave golda meir librari rd floor ea...     0.041972   \n",
       "2042           n western ave chicago illinoi unit state     0.057185   \n",
       "2216         n michigan ave chicago illinoi  unit state     0.176558   \n",
       "2411            pine street titusvil florida unit state     0.144750   \n",
       "2652              highway  mount vernon iowa unit state     0.110766   \n",
       "3196     park ave viaduct new york new york  unit state     0.161211   \n",
       "3449   eagl harbor drive ne bainbridg island washing...     0.077692   \n",
       "3617          n orang dr lo angel california unit state     0.041123   \n",
       "4413        ne rd st oklahoma citi oklahoma  unit state     0.167326   \n",
       "4415   east sheridan avenu oklahoma citi oklahoma  u...     0.156090   \n",
       "4874  silver citi nevada  unit state    visit websit...     0.076355   \n",
       "5223        e michigan ave marshal michigan  unit state     0.145815   \n",
       "5224            sedgwick ave bronx new york  unit state     0.087097   \n",
       "5333   old school antiqu mall  us  sylva north carolina     0.117629   \n",
       "5506                 stadium dr suit a bozeman montana      0.114190   \n",
       "5788   n northwest highway park ridg illinoi  unit s...     0.084605   \n",
       "6080   oretha castl haley blvd suit  new orlean loui...     0.126710   \n",
       "6226          key highway baltimor maryland  unit state     0.124901   \n",
       "6282    busi center norristown pennsylvania  unit state     0.090897   \n",
       "6314      w oklahoma ave milwauke wisconsin  unit state     0.070488   \n",
       "\n",
       "      CS_cleanName  \n",
       "6         0.565670  \n",
       "146       0.483281  \n",
       "197       0.525209  \n",
       "385       0.571079  \n",
       "1750      0.450845  \n",
       "2042      0.346859  \n",
       "2216      0.565670  \n",
       "2411      0.621237  \n",
       "2652      0.504296  \n",
       "3196      0.424621  \n",
       "3449      0.441834  \n",
       "3617      0.381124  \n",
       "4413      0.576695  \n",
       "4415      0.550593  \n",
       "4874      0.644683  \n",
       "5223      0.630730  \n",
       "5224      0.495787  \n",
       "5333      0.600856  \n",
       "5506      0.576695  \n",
       "5788      0.504956  \n",
       "6080      0.565670  \n",
       "6226      0.499615  \n",
       "6282      0.495142  \n",
       "6314      0.504956  \n",
       "\n",
       "[24 rows x 21 columns]"
      ]
     },
     "execution_count": 169,
     "metadata": {},
     "output_type": "execute_result"
    }
   ],
   "source": [
    "prova"
   ]
  },
  {
   "cell_type": "code",
   "execution_count": 160,
   "metadata": {},
   "outputs": [],
   "source": [
    "def define_final_score(resComplexQuery):\n",
    "    resComplexQuery[\"final_score\"] = resComplexQuery.CS_cleanDesc* 0.15 + resComplexQuery.CS_cleanName * 0.50 + resComplexQuery.CS_cleanAdress* 0.35\n",
    "    return resComplexQuery"
   ]
  },
  {
   "cell_type": "markdown",
   "metadata": {},
   "source": [
    "## Filtering"
   ]
  },
  {
   "cell_type": "markdown",
   "metadata": {},
   "source": [
    "### List of username"
   ]
  },
  {
   "cell_type": "code",
   "execution_count": 162,
   "metadata": {},
   "outputs": [],
   "source": [
    "#This function return a pd.DataFrame with the filtering applied to the placeEditors\n",
    "#To filter this right i create a regex string with all the names in the list\n",
    "#The regex string will be equivalent to: (nameInTheList1 AND nameInTheList2 AND ... AND nameInTheListN)\n",
    "#The regex for this operation is (?=.*Name1)(?=.*Name2)...(?=-*NameN)\n",
    "def filterUsername(list: list, data: pd.DataFrame) -> pd.DataFrame:\n",
    "    if list:\n",
    "        return data\n",
    "    else:\n",
    "        filtered_data = data[data[\"placeEditors\"].str.contains(\"(?=.*\" + \")(?=.*\".join(list) + \")\")]\n",
    "        return filtered_data"
   ]
  },
  {
   "cell_type": "markdown",
   "metadata": {},
   "source": [
    "# Tags"
   ]
  },
  {
   "cell_type": "code",
   "execution_count": 164,
   "metadata": {},
   "outputs": [],
   "source": [
    "def filterTags(list: list, data: pd.DataFrame) -> pd.DataFrame:\n",
    "    if list:\n",
    "        return data\n",
    "    else:\n",
    "        filtered_data = data[data[\"placeTags\"].str.contains(\"(?=.*\" + \")(?=.*\".join(list) + \")\")]\n",
    "        return filtered_data"
   ]
  },
  {
   "cell_type": "markdown",
   "metadata": {},
   "source": [
    "## Upper and lower bound"
   ]
  },
  {
   "cell_type": "code",
   "execution_count": 165,
   "metadata": {},
   "outputs": [],
   "source": [
    "\n",
    "def filterNumPeople(upperbound = data[\"numPeopleVisited\"].max(), lowerbound = 0) -> pd.DataFrame:\n",
    "    filtered_data =  data.query(f'{lowerbound} < numPeopleVisited < {upperbound}')\n",
    "    return filtered_data"
   ]
  },
  {
   "cell_type": "markdown",
   "metadata": {},
   "source": [
    "## Final function"
   ]
  },
  {
   "cell_type": "code",
   "execution_count": 175,
   "metadata": {},
   "outputs": [],
   "source": [
    "def filterFinalQuery(data: pd.DataFrame) -> pd.DataFrame :\n",
    "    resComplexQuery = query_tfidf(data)\n",
    "    resComplexQuery_fs = define_final_score(resComplexQuery)\n",
    "    usernameList = input(\"Write the names of the users that worked on a page. [Separated by spaces]\").split()\n",
    "    tags = input(\"Write the names of the tags that you want to find in a page. [Separated by spaces]\").split()\n",
    "    upperBound = input(\"Write the maximum number of people that visited a certain location\")\n",
    "    lowerBound = input(\"Write the minimum number of people that visited a certain location\")\n",
    "    if not usernameList:\n",
    "        resComplexQuery_fs = filterUsername(usernameList, resComplexQuery)\n",
    "    if not tags:\n",
    "        resComplexQuery_fs = filterTags(tags, resComplexQuery_fs)\n",
    "    if upperBound and lowerBound:\n",
    "        resComplexQuery_fs = filterNumPeople(int(upperBound), int(lowerBound))\n",
    "    elif upperBound:\n",
    "        resComplexQuery_fs = filterNumPeople(int(upperBound))\n",
    "    elif (lowerBound):\n",
    "        resComplexQuery_fs = filterNumPeople(lowerbound = int(lowerBound))\n",
    "    return resComplexQuery_fs\n",
    "\n",
    "\n",
    "    \n",
    "\n",
    "    \n"
   ]
  },
  {
   "cell_type": "code",
   "execution_count": 176,
   "metadata": {},
   "outputs": [
    {
     "name": "stderr",
     "output_type": "stream",
     "text": [
      "100%|██████████| 7200/7200 [00:00<00:00, 42920.01it/s]\n",
      "100%|██████████| 7200/7200 [00:07<00:00, 1013.59it/s]\n",
      "100%|██████████| 7200/7200 [00:00<00:00, 1031844.36it/s]\n",
      "100%|██████████| 7200/7200 [00:00<00:00, 53089.28it/s]\n",
      "100%|██████████| 7200/7200 [00:00<00:00, 717298.61it/s]\n",
      "100%|██████████| 7200/7200 [00:00<00:00, 21346.75it/s]\n",
      "C:\\Users\\Matteo\\AppData\\Local\\Temp\\ipykernel_12572\\3891487302.py:2: SettingWithCopyWarning: \n",
      "A value is trying to be set on a copy of a slice from a DataFrame.\n",
      "Try using .loc[row_indexer,col_indexer] = value instead\n",
      "\n",
      "See the caveats in the documentation: https://pandas.pydata.org/pandas-docs/stable/user_guide/indexing.html#returning-a-view-versus-a-copy\n",
      "  resComplexQuery[\"final_score\"] = resComplexQuery.CS_cleanDesc* 0.15 + resComplexQuery.CS_cleanName * 0.50 + resComplexQuery.CS_cleanAdress* 0.35\n"
     ]
    }
   ],
   "source": [
    "#Try it out!!!\n",
    "ex = filterFinalQuery(data)"
   ]
  },
  {
   "cell_type": "code",
   "execution_count": 177,
   "metadata": {},
   "outputs": [
    {
     "data": {
      "text/html": [
       "<div>\n",
       "<style scoped>\n",
       "    .dataframe tbody tr th:only-of-type {\n",
       "        vertical-align: middle;\n",
       "    }\n",
       "\n",
       "    .dataframe tbody tr th {\n",
       "        vertical-align: top;\n",
       "    }\n",
       "\n",
       "    .dataframe thead th {\n",
       "        text-align: right;\n",
       "    }\n",
       "</style>\n",
       "<table border=\"1\" class=\"dataframe\">\n",
       "  <thead>\n",
       "    <tr style=\"text-align: right;\">\n",
       "      <th></th>\n",
       "      <th>Unnamed: 0</th>\n",
       "      <th>placeName</th>\n",
       "      <th>placeTags</th>\n",
       "      <th>numPeopleVisited</th>\n",
       "      <th>numPeopleWant</th>\n",
       "      <th>placeDesc</th>\n",
       "      <th>placeShortDesc</th>\n",
       "      <th>placeNearby</th>\n",
       "      <th>placeAdress</th>\n",
       "      <th>placeAlt</th>\n",
       "      <th>...</th>\n",
       "      <th>placeRelatedList</th>\n",
       "      <th>placeRelatedPlace</th>\n",
       "      <th>placeURL</th>\n",
       "      <th>cleanDesc</th>\n",
       "      <th>cleanName</th>\n",
       "      <th>cleanAdress</th>\n",
       "      <th>CS_cleanDesc</th>\n",
       "      <th>CS_cleanName</th>\n",
       "      <th>CS_cleanAdress</th>\n",
       "      <th>final_score</th>\n",
       "    </tr>\n",
       "  </thead>\n",
       "  <tbody>\n",
       "    <tr>\n",
       "      <th>197</th>\n",
       "      <td>197</td>\n",
       "      <td>American Museum of Western Art</td>\n",
       "      <td>brothels,americana,hotels,museums and collecti...</td>\n",
       "      <td>323</td>\n",
       "      <td>806</td>\n",
       "      <td>Housed in the old Navarre building across from...</td>\n",
       "      <td>The huge collection of paintings of the Americ...</td>\n",
       "      <td>Mile-High Steps at the Colorado State Capitol,...</td>\n",
       "      <td>1727 Tremont Place Denver, Colorado United States</td>\n",
       "      <td>39.7447</td>\n",
       "      <td>...</td>\n",
       "      <td>Denver Omelet Plaque,Big Blue Bear,Mile-High S...</td>\n",
       "      <td>Null Stern Hotel Museum,French Shore Interpret...</td>\n",
       "      <td>https://www.atlasobscura.com/places/american-m...</td>\n",
       "      <td>hous old navarr build across brown palac hotel...</td>\n",
       "      <td>american museum western art</td>\n",
       "      <td>tremont place denver colorado unit state</td>\n",
       "      <td>0.145389</td>\n",
       "      <td>0.525209</td>\n",
       "      <td>0.377556</td>\n",
       "      <td>0.416558</td>\n",
       "    </tr>\n",
       "  </tbody>\n",
       "</table>\n",
       "<p>1 rows × 23 columns</p>\n",
       "</div>"
      ],
      "text/plain": [
       "     Unnamed: 0                       placeName  \\\n",
       "197         197  American Museum of Western Art   \n",
       "\n",
       "                                             placeTags  numPeopleVisited  \\\n",
       "197  brothels,americana,hotels,museums and collecti...               323   \n",
       "\n",
       "     numPeopleWant                                          placeDesc  \\\n",
       "197            806  Housed in the old Navarre building across from...   \n",
       "\n",
       "                                        placeShortDesc  \\\n",
       "197  The huge collection of paintings of the Americ...   \n",
       "\n",
       "                                           placeNearby  \\\n",
       "197  Mile-High Steps at the Colorado State Capitol,...   \n",
       "\n",
       "                                           placeAdress  placeAlt  ...  \\\n",
       "197  1727 Tremont Place Denver, Colorado United States   39.7447  ...   \n",
       "\n",
       "                                      placeRelatedList  \\\n",
       "197  Denver Omelet Plaque,Big Blue Bear,Mile-High S...   \n",
       "\n",
       "                                     placeRelatedPlace  \\\n",
       "197  Null Stern Hotel Museum,French Shore Interpret...   \n",
       "\n",
       "                                              placeURL  \\\n",
       "197  https://www.atlasobscura.com/places/american-m...   \n",
       "\n",
       "                                             cleanDesc  \\\n",
       "197  hous old navarr build across brown palac hotel...   \n",
       "\n",
       "                       cleanName                                cleanAdress  \\\n",
       "197  american museum western art   tremont place denver colorado unit state   \n",
       "\n",
       "    CS_cleanDesc CS_cleanName CS_cleanAdress  final_score  \n",
       "197     0.145389     0.525209       0.377556     0.416558  \n",
       "\n",
       "[1 rows x 23 columns]"
      ]
     },
     "execution_count": 177,
     "metadata": {},
     "output_type": "execute_result"
    }
   ],
   "source": [
    "ex.head()"
   ]
  },
  {
   "cell_type": "markdown",
   "metadata": {},
   "source": [
    "# 7. Theoretical question"
   ]
  },
  {
   "cell_type": "markdown",
   "metadata": {},
   "source": [
    "#### 1. Try solving the problem mentioned above using three different sorting algorithms (do not use any MapReduce algorithm). (Note: Built-in Python functions (like .mean, .sort, etc.) are not allowed to be used. You must implement the algorithms from scratch)."
   ]
  },
  {
   "cell_type": "code",
   "execution_count": 3,
   "metadata": {},
   "outputs": [],
   "source": [
    "#let's import the only library we'll need that is time and we'll use it to evaluate the time taken by the algorithm\n",
    "import time"
   ]
  },
  {
   "cell_type": "markdown",
   "metadata": {},
   "source": [
    "### Se va bene poi inseriamo queste 4 funzioni più quelle di ordinamento in un file da importare"
   ]
  },
  {
   "cell_type": "markdown",
   "metadata": {},
   "source": [
    "In the next blocks there are some useful functions that we'll use for answering question 7.1:\n",
    "- **my_mean** : it is a function that given a row of the file ApplicantsInfo.txt returns the average of the m scores in that row;\n",
    "- **sort_by_name** : it is a function that, given two words (name2, name1), if name2 in alphabetical order is before name1 it returns 1, otherwise 0;\n",
    "- **read_file** : it is a function that reads the file ApplicantsInfo.txt and return a list with all the informations we need;\n",
    "- **print_file** : it is a function that contains the code to write a .text file with the sorted list."
   ]
  },
  {
   "cell_type": "code",
   "execution_count": 4,
   "metadata": {},
   "outputs": [],
   "source": [
    "def my_mean(l,m): \n",
    "    mean=0\n",
    "    for i in range(2,len(l)):\n",
    "        mean += int(l[i])\n",
    "    mean = mean/m\n",
    "    return mean"
   ]
  },
  {
   "cell_type": "code",
   "execution_count": 5,
   "metadata": {},
   "outputs": [],
   "source": [
    "def sort_by_name(name2,name1):\n",
    "\n",
    "    for i in range(min(len(name1),len(name2))):\n",
    "        # for loop stops as soon as the first word finishes the characters\n",
    "        if name2[i]<name1[i]:\n",
    "            return 1\n",
    "        elif name2[i]>name1[i]:\n",
    "            return 0\n",
    "\n",
    "    # at this point if the for loop ended without returning any value this mean that the shortest word is equal to the first part of \n",
    "    # the other word and so we'll return 0 or 1 depending on the lengths of the words \n",
    "    if len(name1)<len(name2):\n",
    "        return 0\n",
    "    else:\n",
    "        return 1"
   ]
  },
  {
   "cell_type": "code",
   "execution_count": 14,
   "metadata": {},
   "outputs": [],
   "source": [
    "def read_file():\n",
    "    f = open(\"C://Users//auror//Desktop//data_science//ADM//HM//3//ApplicantsInfo.txt\",\"r\")\n",
    "    dati=[]\n",
    "\n",
    "    # first we read the first row and we store in n the number of students and in m the number of scores for each student\n",
    "    n, m = map(int,f.readline().split()) \n",
    "\n",
    "    #starting from the second row, with the while loop we read 1 row at time and the while loop ends when there isn't anymore rows to be read \n",
    "    j = 1\n",
    "    while True:\n",
    "        # dati_temp will be a list s.t. in the first two positions there are 'name' and 'surname' of a student and starting from position 3 till\n",
    "        # the last we have all of his/her scores (m in total)\n",
    "        dati_temp = f.readline().split()\n",
    "        if not dati_temp:\n",
    "            break\n",
    "        # then we call the function my_mean in order to compute the mean of the scores of a given student  and then we'll append to the list 'dati'\n",
    "        # a list done like this [name,surname,mean of the scores]\n",
    "        mean = my_mean(dati_temp,m)\n",
    "        dati.append([dati_temp[0],dati_temp[1],round(mean,2)])\n",
    "    f.close()\n",
    "    return dati, n, m"
   ]
  },
  {
   "cell_type": "code",
   "execution_count": 20,
   "metadata": {},
   "outputs": [],
   "source": [
    "def print_file(dati):\n",
    "    f= open(\"RankingList_quicksort.txt\",\"w\")\n",
    "    # for each 3-elements list i in dati we print in a row i[0] (name), i[1] (surname) and i[2] (avarage)\n",
    "    for i in dati:\n",
    "        f.write(i[0]+\" \"+i[1]+\" \"+str(i[2]))\n",
    "        f.write(\"\\n\")\n",
    "    f.close()\n",
    "    return"
   ]
  },
  {
   "cell_type": "markdown",
   "metadata": {},
   "source": [
    "The next 3 blocks contains the code to compute each of the sorting algorithm.  "
   ]
  },
  {
   "cell_type": "markdown",
   "metadata": {},
   "source": [
    "#### Insertion sort"
   ]
  },
  {
   "cell_type": "code",
   "execution_count": 19,
   "metadata": {},
   "outputs": [
    {
     "name": "stdout",
     "output_type": "stream",
     "text": [
      "The time taken for computing insertion_sort is:  6.0 minutes and 29.09 seconds\n"
     ]
    }
   ],
   "source": [
    "#run this cell to compute insertion sort algorithm\n",
    "d,n,m = read_file()\n",
    "start_time = time.time()\n",
    "insertion_sort(d,n)\n",
    "end_time = time.time()\n",
    "minuti = (end_time-start_time)//60\n",
    "secondi = (end_time-start_time)%60\n",
    "print_file(d)\n",
    "print('The time taken for computing insertion_sort is: ',minuti,'minutes and',round(secondi,2),'seconds')"
   ]
  },
  {
   "cell_type": "markdown",
   "metadata": {},
   "source": [
    "#### Merge sort"
   ]
  },
  {
   "cell_type": "code",
   "execution_count": 15,
   "metadata": {},
   "outputs": [
    {
     "name": "stdout",
     "output_type": "stream",
     "text": [
      "The time taken for computing merge sort is:  0.0 minutes and 1.06 seconds\n"
     ]
    }
   ],
   "source": [
    "##run this cell tu compute merge sort algorithm\n",
    "d,n,m = read_file()\n",
    "start_time = time.time()\n",
    "merge_sort(d,1,n)\n",
    "end_time = time.time()\n",
    "minuti = (end_time-start_time)//60\n",
    "secondi = (end_time-start_time)%60\n",
    "print_file(d)\n",
    "print('The time taken for computing merge sort is: ',minuti,'minutes and',round(secondi,2),'seconds')"
   ]
  },
  {
   "cell_type": "markdown",
   "metadata": {},
   "source": [
    "#### Quick sort"
   ]
  },
  {
   "cell_type": "code",
   "execution_count": 23,
   "metadata": {},
   "outputs": [
    {
     "name": "stdout",
     "output_type": "stream",
     "text": [
      "The time taken for computing quick sort is:  0.0 minutes and 47.6 seconds\n"
     ]
    }
   ],
   "source": [
    "##run this cell tu compute quick sort algorithm\n",
    "d,n,m = read_file()\n",
    "start_time = time.time()\n",
    "quicksort(d,0,n-1)\n",
    "end_time = time.time()\n",
    "minuti = (end_time-start_time)//60\n",
    "secondi = (end_time-start_time)%60\n",
    "print_file(d)\n",
    "print('The time taken for computing quick sort is: ',minuti,'minutes and',round(secondi,2),'seconds')"
   ]
  },
  {
   "cell_type": "markdown",
   "metadata": {},
   "source": [
    "The next block contains the function insertion_sort"
   ]
  },
  {
   "cell_type": "code",
   "execution_count": 18,
   "metadata": {},
   "outputs": [],
   "source": [
    "#insertion sort\n",
    "def insertion_sort(dati,n):\n",
    "    # the for loop starts from the second element of the list dati since we suppose that the first element is already in the right position\n",
    "    for i in range(1,int(n)):\n",
    "        # starting from the element i-1 we go backwords in the list as soon as we found an element j such that dati[j][2]<dati[i][2] or \n",
    "        # dati[j][2]=dati[i][2] but in alphabetical order the name and surname of the element j have to be before the element i \n",
    "        while ((dati[i][2]>=dati[i-1][2]) & (i>0)):\n",
    "            # everytime if dati[i][2]>dati[i-1][2] we exchange the two lists (dati[i] and dati[i-1])\n",
    "            if dati[i][2]>dati[i-1][2]:\n",
    "                temp=dati[i-1]\n",
    "                dati[i-1]=dati[i]\n",
    "                dati[i]=temp\n",
    "                # after exchanging element i and element i-1 we point to the element before i and skip the rest of the while since we know that \n",
    "                # the avarages were not equal\n",
    "                i -= 1\n",
    "                continue\n",
    "            # if dati[i][2]=dati[i-1][2] then we check the alphabetical order of the two lists\n",
    "            elif dati[i][2]==dati[i-1][2]:\n",
    "                # if the names of element i and element i-1 are equal we call the function sort_by_name with their surnames\n",
    "                if dati[i][0]==dati[i-1][0]:\n",
    "                    y_n = sort_by_name(dati[i][1],dati[i-1][1])\n",
    "                #instead if the names are not equal we call the function sort_by_name with the names of element i and i-1\n",
    "                elif dati[i][0]!=dati[i-1][0]:\n",
    "                    y_n = sort_by_name(dati[i][0],dati[i-1][0])\n",
    "                # if y_n=1 this mean that name and surname of dati[i] in alphabetical order have to be before dati[i-1] and so we exchange the \n",
    "                # two lists \n",
    "                if y_n:\n",
    "                    temp=dati[i-1]\n",
    "                    dati[i-1]=dati[i]\n",
    "                    dati[i]=temp\n",
    "                    i -= 1\n",
    "                # otherwise, if element i and i-1 were already in alphabetical order this mean that the element i was already in the right\n",
    "                # position and so we break the while \n",
    "                else:\n",
    "                    break\n",
    "    return"
   ]
  },
  {
   "cell_type": "markdown",
   "metadata": {},
   "source": [
    "The next two blocks contains the merge_sort function and the merge function used in the first one."
   ]
  },
  {
   "cell_type": "code",
   "execution_count": 10,
   "metadata": {},
   "outputs": [],
   "source": [
    "def merge_sort(dati,start,end):\n",
    "    # the recursion stops when start=end\n",
    "    if start<end:\n",
    "        # in this case we call recoursively the function merge_sort itself in the two sublists with indixes [start:medium] and\n",
    "        # [medium+1:end]\n",
    "        medium = (start+end)//2\n",
    "        merge_sort(dati,start,medium)\n",
    "        merge_sort(dati,medium+1,end)\n",
    "        # then we call the function merge that, given the fact that the two sublists [start:medium] and [medium+1:end] are \n",
    "        # sorted, will sort the whole list [start:end] comparing the elements of the two sublists \n",
    "        merge(dati,start,medium,end)\n",
    "    return"
   ]
  },
  {
   "cell_type": "code",
   "execution_count": 11,
   "metadata": {},
   "outputs": [],
   "source": [
    "def merge(dati,start,medium,end):\n",
    "    # we need to create a local list in which we can store the sorted elements of the two sublists\n",
    "    B = []\n",
    "    # since when we call the function merge_sort for the first time we give to it start=1 and end=n, we now need to fix indexes\n",
    "    # since, as we know, in python the start index of a list is 0 and the last index is len(list)-1 (=n-1) \n",
    "    i = start-1\n",
    "    j = medium\n",
    "    \n",
    "    # i will be the index that point to elements of the left sublist and j the one that point to elements of the right sublist\n",
    "    while ((i<medium) and (j<end)):\n",
    "        # now we compare the average of the elements i and j and we'll append to our local list B the one that is greater\n",
    "        # or, if they're equal, we'll append the one that has a name/surname that should be before the other in alphabetical order\n",
    "        # Depending on which elements we've added we can after point to the next element of the first or the second sublist\n",
    "        if dati[i][2]<dati[j][2]:\n",
    "            B.append(dati[j])\n",
    "            j+=1\n",
    "        elif dati[i][2]>dati[j][2]:\n",
    "            B.append(dati[i])\n",
    "            i+=1\n",
    "        elif dati[i][2]==dati[j][2]:\n",
    "            if dati[i][0]==dati[j][0]:\n",
    "                y_n = sort_by_name(dati[i][1],dati[j][1])\n",
    "            elif dati[i][0]!=dati[j][0]:\n",
    "                y_n = sort_by_name(dati[i][0],dati[j][0])\n",
    "            if y_n==1:\n",
    "                B.append(dati[i])\n",
    "                i+=1\n",
    "            elif y_n==0:\n",
    "                B.append(dati[j])\n",
    "                j+=1\n",
    "    # after the previous while we'll have a sublist such that all its elements have been copied in the list B and the other one\n",
    "    # such that we have still some elements of it that have to be copied\n",
    "    \n",
    "    while i<medium:\n",
    "        B.append(dati[i])\n",
    "        i+=1\n",
    "    while j<end:\n",
    "        B.append(dati[j])\n",
    "        j+=1\n",
    "    \n",
    "    # at this point in the list B we have all the elements [start:end] of the original list sorted and so we can substitute\n",
    "    # dati[start:end] with B\n",
    "    if B !=[]:\n",
    "        for k in range(0,end-start+1):\n",
    "            dati[start-1+k]=B[k]\n",
    "    return"
   ]
  },
  {
   "cell_type": "markdown",
   "metadata": {},
   "source": [
    "The next two blocks contains the quicksort function and the partition function used in the first one."
   ]
  },
  {
   "cell_type": "code",
   "execution_count": 21,
   "metadata": {},
   "outputs": [],
   "source": [
    "def quicksort(dati,start,end):\n",
    "    # the recursion stops when start=end\n",
    "    if start < end:\n",
    "        # we call the function partition that returns the pivot and move all the minor elements to the left of the pivot and\n",
    "        # the major elements to the right.\n",
    "        pivot = partition(dati,start,end)\n",
    "        # in this case we call recoursively the function quicksort itself in the two sublists with indixes [start:piovt] and\n",
    "        # [pivot+1:end]\n",
    "        quicksort(dati,start,pivot)\n",
    "        quicksort(dati,pivot+1,end)\n",
    "    return"
   ]
  },
  {
   "cell_type": "code",
   "execution_count": 22,
   "metadata": {},
   "outputs": [],
   "source": [
    "def partition(dati,start,end):\n",
    "    # p will be the average of mark for the first student since start is the first element of the list conteining the name,\n",
    "    # surname and mark for every student. i is the inizial position, j is the last position.\n",
    "    p = dati[start][2]\n",
    "    i = start\n",
    "    j = end\n",
    "    while True:\n",
    "        # we iterate all the students with their marks untile the while cicle is true.\n",
    "        while dati[j][2] < p :\n",
    "            # we enter in this while cicle if the student's mark is less than the p mark.\n",
    "            # if this happen j became the position j -1 (so we move by one position to the left)\n",
    "            j -=1 \n",
    "        while dati[i][2] > p :\n",
    "            # we enter in this while cicle if the student's mark is more than the p mark.\n",
    "            # if this happen i became the position i + 1 (so we move by one position to the right)\n",
    "            i +=1\n",
    "        # arrived to this point the students in position i and j will be in the wrong position because the one in position j\n",
    "        # need to be to the left because has the mark bigger than the pivot and viceversa.\n",
    "        if i<j:\n",
    "            if dati[i][2]!=dati[j][2]:\n",
    "                # if i is smaller than j and the student's mark at position i is different from the student's mark at position\n",
    "                # j we exchange the position of this two students in dati.\n",
    "                app = dati[i]\n",
    "                dati[i] = dati[j]\n",
    "                dati[j] = app\n",
    "            elif dati[i][2]==dati[j][2]:\n",
    "                # elif, if the two marks are the same we look to the name and surname of the students.\n",
    "                if dati[i][0]==dati[j][0]:\n",
    "                    # if they have the same name we sort looking to the surname.\n",
    "                    y_n = sort_by_name(dati[i][1],dati[j][1])\n",
    "                elif dati[i][0]!=dati[j][0]:\n",
    "                    # if their name is different we sort for the name.\n",
    "                    y_n = sort_by_name(dati[i][0],dati[j][0])\n",
    "                if y_n==1:\n",
    "                    # if the first person with is name and surname in alphabetic order comes before the second we don't change\n",
    "                    # thei order in dati and j became j-1 (so we move by one position to the left).\n",
    "                    j -= 1\n",
    "                elif y_n==0:\n",
    "                    # else if the second person with is name and surname in alphabetic order comes before the first we exchange\n",
    "                    # them.\n",
    "                    app = dati[i]\n",
    "                    dati[i] = dati[j]\n",
    "                    dati[j] = app\n",
    "        else:\n",
    "            # if i >= j we break the while cicle and we return j because this partion is completed.\n",
    "            break\n",
    "    return j"
   ]
  },
  {
   "cell_type": "markdown",
   "metadata": {},
   "source": [
    "**solo una prova per vedere se gli output dei vari algoritmi coincidono**"
   ]
  },
  {
   "cell_type": "code",
   "execution_count": 24,
   "metadata": {},
   "outputs": [
    {
     "name": "stdout",
     "output_type": "stream",
     "text": [
      "la vita è bella 50000\n"
     ]
    }
   ],
   "source": [
    "f1 = open(\"RankingList_merge.txt\",\"r\")\n",
    "f2 = open(\"RankingList_insertion.txt\",\"r\")\n",
    "f3 = open(\"RankingList_quicksort.txt\",\"r\")\n",
    "\n",
    "for i in range(1,n+1):\n",
    "    l1 = f1.readline()\n",
    "    l2 = f2.readline()\n",
    "    l3 = f3.readline()\n",
    "    if l1 != l2 or l2 != l3 or l1 != l3:\n",
    "        print('la vita fa schifo')\n",
    "        break\n",
    "    \n",
    "    \n",
    "print('la vita è bella',i)\n",
    "f1.close()\n",
    "f2.close()\n",
    "f3.close()"
   ]
  },
  {
   "cell_type": "markdown",
   "metadata": {},
   "source": [
    "#### 2. What is the time complexity of each algorithm you have used?"
   ]
  },
  {
   "cell_type": "markdown",
   "metadata": {},
   "source": [
    "Let's start saying that there exists a theorem which asserts that every sorting algorithm, that works comparing the elements that should be sorted, has at least a computational cost of $n\\dot log(n)$, where $n$ is the size of the list.   \n",
    "For this question we've decided to use insertion that is probably one of the simplest sorting algorithm but isn't known for being the most optimal one. In fact since for every element of the list we should at most compare it with all the other previous element in the list, we can even have, in the worst case, a computational cost of $n^2$.   \n",
    "Then we've used merge sort algorithm that it's known to have a time complexity of $nlog(n)$ even in the worst case.  \n",
    "The last one is the quicksort that on average works with a computational cost of $nlog(n)$ but there are some cases in which it could have a cost of $n^2$."
   ]
  },
  {
   "cell_type": "code",
   "execution_count": 25,
   "metadata": {},
   "outputs": [
    {
     "data": {
      "image/png": "[encoded data removed]",
      "text/plain": [
       "<Figure size 576x432 with 1 Axes>"
      ]
     },
     "metadata": {
      "needs_background": "light"
     },
     "output_type": "display_data"
    }
   ],
   "source": [
    "import matplotlib.pyplot as plt\n",
    "import numpy as np\n",
    "import math\n",
    "\n",
    "X = np.arange(1,100)\n",
    "y = np.log(X)*X\n",
    "z = X*X\n",
    "plt.figure(figsize=(8, 6))\n",
    "plt.plot(X, y, color='m', label='n*log(n)', linewidth=4.0)\n",
    "plt.plot(X, z, color='c', label='n*n',linewidth=4.0)\n",
    "plt.xlabel(\"number of students\")\n",
    "plt.ylabel(\"time complexity\")\n",
    "plt.legend()\n",
    "plt.show()"
   ]
  },
  {
   "cell_type": "markdown",
   "metadata": {},
   "source": [
    "In the previous plot there are the functions $nlog(n)$ and $n^2$ where n is the number of students.    \n",
    "We've decided to show this plot in order to let you visualize the great gap that we have between the two functions when $n$ is large. In particular we can notice that the more n grows the more the gap increases.    \n",
    "We can assert that if we have to sort a lot of elements is always better to use an algorithm that has a computational time of $nlog(n)$."
   ]
  },
  {
   "cell_type": "markdown",
   "metadata": {},
   "source": [
    "#### 3. Evaluate the time taken for each of your implementations to answer the query stored in the ApplicantsInfo.txt file and visualize them."
   ]
  },
  {
   "cell_type": "markdown",
   "metadata": {},
   "source": [
    "As we've seen before the times taken by the different algorithm are:\n",
    "- **insertion sort**: 7.0 minutes and 40.54 seconds\n",
    "- **merge sort**: 0.0 minutes and 0.96 seconds\n",
    "- **quick sort**: 0.0 minutes and 44.82 seconds\n",
    "\n",
    "Now we are going to study how the computational cost for these 3 sorting algorithms varias as the number of operations, and thus the number of data to be analyzed: obviously the algorithm will require more time if the data are more, but the increase will be different for the tree considered functions.\n",
    "\n",
    "we repeat insertion sort, mergesort, and quicksort repeatedly on sublists of our original list of 50000 data, and each time we save our execution time. for the first try we use 5 sublists.\n",
    "\n",
    "I will then eventually have a list of n (in the first case 5) times where in position 1 i have the time considered for 50000/n data, in second position (50000/n)x2 data, until i have in last position all 50000 data."
   ]
  },
  {
   "cell_type": "code",
   "execution_count": 26,
   "metadata": {},
   "outputs": [],
   "source": [
    "d,n,m = read_file()"
   ]
  },
  {
   "cell_type": "code",
   "execution_count": 34,
   "metadata": {},
   "outputs": [
    {
     "name": "stderr",
     "output_type": "stream",
     "text": [
      " 16%|█▌        | 8/50 [00:26<02:21,  3.36s/it]\n"
     ]
    },
    {
     "ename": "KeyboardInterrupt",
     "evalue": "",
     "output_type": "error",
     "traceback": [
      "\u001b[1;31m---------------------------------------------------------------------------\u001b[0m",
      "\u001b[1;31mKeyboardInterrupt\u001b[0m                         Traceback (most recent call last)",
      "\u001b[1;32mc:\\Users\\auror\\Desktop\\data_science\\ADM\\HM\\3\\ADM-HW3\\hw3.ipynb Cella 171\u001b[0m in \u001b[0;36m<cell line: 2>\u001b[1;34m()\u001b[0m\n\u001b[0;32m      <a href='vscode-notebook-cell:/c%3A/Users/auror/Desktop/data_science/ADM/HM/3/ADM-HW3/hw3.ipynb#Y344sZmlsZQ%3D%3D?line=2'>3</a>\u001b[0m dati_time \u001b[39m=\u001b[39m d[\u001b[39m0\u001b[39m:t]\n\u001b[0;32m      <a href='vscode-notebook-cell:/c%3A/Users/auror/Desktop/data_science/ADM/HM/3/ADM-HW3/hw3.ipynb#Y344sZmlsZQ%3D%3D?line=3'>4</a>\u001b[0m start_time \u001b[39m=\u001b[39m time\u001b[39m.\u001b[39mtime()\n\u001b[1;32m----> <a href='vscode-notebook-cell:/c%3A/Users/auror/Desktop/data_science/ADM/HM/3/ADM-HW3/hw3.ipynb#Y344sZmlsZQ%3D%3D?line=4'>5</a>\u001b[0m insertion_sort(dati_time,t)\n\u001b[0;32m      <a href='vscode-notebook-cell:/c%3A/Users/auror/Desktop/data_science/ADM/HM/3/ADM-HW3/hw3.ipynb#Y344sZmlsZQ%3D%3D?line=5'>6</a>\u001b[0m end_time \u001b[39m=\u001b[39m time\u001b[39m.\u001b[39mtime()\n\u001b[0;32m      <a href='vscode-notebook-cell:/c%3A/Users/auror/Desktop/data_science/ADM/HM/3/ADM-HW3/hw3.ipynb#Y344sZmlsZQ%3D%3D?line=6'>7</a>\u001b[0m times_insertion\u001b[39m.\u001b[39mappend(end_time\u001b[39m-\u001b[39mstart_time)\n",
      "\u001b[1;32mc:\\Users\\auror\\Desktop\\data_science\\ADM\\HM\\3\\ADM-HW3\\hw3.ipynb Cella 171\u001b[0m in \u001b[0;36minsertion_sort\u001b[1;34m(dati, n)\u001b[0m\n\u001b[0;32m      <a href='vscode-notebook-cell:/c%3A/Users/auror/Desktop/data_science/ADM/HM/3/ADM-HW3/hw3.ipynb#Y344sZmlsZQ%3D%3D?line=8'>9</a>\u001b[0m \u001b[39mif\u001b[39;00m dati[i][\u001b[39m2\u001b[39m]\u001b[39m>\u001b[39mdati[i\u001b[39m-\u001b[39m\u001b[39m1\u001b[39m][\u001b[39m2\u001b[39m]:\n\u001b[0;32m     <a href='vscode-notebook-cell:/c%3A/Users/auror/Desktop/data_science/ADM/HM/3/ADM-HW3/hw3.ipynb#Y344sZmlsZQ%3D%3D?line=9'>10</a>\u001b[0m     temp\u001b[39m=\u001b[39mdati[i\u001b[39m-\u001b[39m\u001b[39m1\u001b[39m]\n\u001b[1;32m---> <a href='vscode-notebook-cell:/c%3A/Users/auror/Desktop/data_science/ADM/HM/3/ADM-HW3/hw3.ipynb#Y344sZmlsZQ%3D%3D?line=10'>11</a>\u001b[0m     dati[i\u001b[39m-\u001b[39m\u001b[39m1\u001b[39m]\u001b[39m=\u001b[39mdati[i]\n\u001b[0;32m     <a href='vscode-notebook-cell:/c%3A/Users/auror/Desktop/data_science/ADM/HM/3/ADM-HW3/hw3.ipynb#Y344sZmlsZQ%3D%3D?line=11'>12</a>\u001b[0m     dati[i]\u001b[39m=\u001b[39mtemp\n\u001b[0;32m     <a href='vscode-notebook-cell:/c%3A/Users/auror/Desktop/data_science/ADM/HM/3/ADM-HW3/hw3.ipynb#Y344sZmlsZQ%3D%3D?line=12'>13</a>\u001b[0m     \u001b[39m# after exchanging element i and element i-1 we point to the element before i and skip the rest of the while since we know that \u001b[39;00m\n\u001b[0;32m     <a href='vscode-notebook-cell:/c%3A/Users/auror/Desktop/data_science/ADM/HM/3/ADM-HW3/hw3.ipynb#Y344sZmlsZQ%3D%3D?line=13'>14</a>\u001b[0m     \u001b[39m# the avarages were not equal\u001b[39;00m\n",
      "\u001b[1;31mKeyboardInterrupt\u001b[0m: "
     ]
    }
   ],
   "source": [
    "times_insertion = []\n",
    "for t in tqdm(range(1000,len(d)+1,1000)):\n",
    "    dati_time = d[0:t]\n",
    "    start_time = time.time()\n",
    "    insertion_sort(dati_time,t)\n",
    "    end_time = time.time()\n",
    "    times_insertion.append(end_time-start_time)"
   ]
  },
  {
   "cell_type": "code",
   "execution_count": 32,
   "metadata": {},
   "outputs": [
    {
     "name": "stdout",
     "output_type": "stream",
     "text": [
      "[20.524598836898804, 61.89326357841492, 117.12659430503845, 216.60043334960938, 381.2650661468506]\n"
     ]
    }
   ],
   "source": [
    "print(times_insertion)"
   ]
  },
  {
   "cell_type": "code",
   "execution_count": 27,
   "metadata": {},
   "outputs": [],
   "source": [
    "times_merge = []\n",
    "for t in range(1000,len(d)+1,1000):\n",
    "    dati_time = d[0:t]\n",
    "    start_time = time.time()\n",
    "    merge_sort(dati_time,1,t)\n",
    "    end_time = time.time()\n",
    "    times_merge.append(end_time-start_time)"
   ]
  },
  {
   "cell_type": "code",
   "execution_count": 28,
   "metadata": {},
   "outputs": [
    {
     "name": "stdout",
     "output_type": "stream",
     "text": [
      "[0.016216516494750977, 0.016015291213989258, 0.04646468162536621, 0.04790234565734863, 0.06406569480895996, 0.06399059295654297, 0.09598612785339355, 0.1040198802947998, 0.12793993949890137, 0.13605666160583496, 0.15991449356079102, 0.18408632278442383, 0.2799992561340332, 0.2319931983947754, 0.23200058937072754, 0.45059919357299805, 0.49712204933166504, 0.5385229587554932, 0.6523942947387695, 0.6629135608673096, 0.7520298957824707, 0.8980677127838135, 0.8420748710632324, 0.5869197845458984, 0.5617423057556152, 0.5972549915313721, 1.0289478302001953, 0.9575560092926025, 1.0510375499725342, 0.9393703937530518, 0.9589235782623291, 1.1938095092773438, 0.9446508884429932, 0.620079517364502, 0.5587747097015381, 0.9517004489898682, 0.6480648517608643, 1.0590178966522217, 1.365992784500122, 1.1729567050933838, 1.363377332687378, 0.8871357440948486, 0.7420783042907715, 0.7503929138183594, 0.7495701313018799, 0.7759747505187988, 0.7918670177459717, 0.8069150447845459, 0.8264570236206055, 0.8579552173614502]\n"
     ]
    }
   ],
   "source": [
    "print(times_merge)"
   ]
  },
  {
   "cell_type": "code",
   "execution_count": 29,
   "metadata": {},
   "outputs": [],
   "source": [
    "times_quick = []\n",
    "for t in range(1000,len(d)+1,1000):\n",
    "    dati_time = d[0:t]\n",
    "    start_time = time.time()\n",
    "    quicksort(dati_time,0,t-1)\n",
    "    end_time = time.time()\n",
    "    times_quick.append(end_time-start_time)"
   ]
  },
  {
   "cell_type": "code",
   "execution_count": 30,
   "metadata": {},
   "outputs": [
    {
     "name": "stdout",
     "output_type": "stream",
     "text": [
      "[0.06214284896850586, 0.12215685844421387, 0.2370157241821289, 0.4898667335510254, 0.8531427383422852, 0.6656582355499268, 0.9008142948150635, 1.1670353412628174, 1.4149880409240723, 3.2594380378723145, 5.018204689025879, 4.963103771209717, 2.8089561462402344, 3.2572381496429443, 3.739773750305176, 4.316369533538818, 4.82522177696228, 5.529625654220581, 6.859709739685059, 10.576805114746094, 16.965047597885132, 19.595900535583496, 18.72207760810852, 13.62497353553772, 11.323594808578491, 11.4913911819458, 12.497809886932373, 13.371950149536133, 14.17105746269226, 15.72263479232788, 17.278788089752197, 17.95663094520569, 22.763742923736572, 20.390027284622192, 22.896791458129883, 25.20660662651062, 23.380861282348633, 24.7302405834198, 32.03748154640198, 35.36314105987549, 28.630952835083008, 30.74528193473816, 33.97361922264099, 44.8653724193573, 56.59299659729004, 67.09026026725769, 56.16077518463135, 54.53713893890381, 64.49218273162842, 45.3176805973053]\n"
     ]
    }
   ],
   "source": [
    "print(times_quick)"
   ]
  },
  {
   "cell_type": "code",
   "execution_count": null,
   "metadata": {},
   "outputs": [],
   "source": [
    "import matplotlib.pyplot as plt\n",
    "import numpy as np\n",
    "import math\n",
    "\n",
    "X = np.arange(10000,50000+1,10000)\n",
    "ins = np.array(times_insertion)\n",
    "mer = np.array(times_merge)\n",
    "qui = np.array(times_quick)\n",
    "plt.figure(figsize=(8, 6))\n",
    "plt.plot(X, ins, color='m',label='insertion',linewidth=4.0)\n",
    "plt.plot(X, mer, color='g',label='merge',linewidth=4.0)\n",
    "plt.plot(X, qui, color='c',label='quick',linewidth=4.0)\n",
    "plt.legend()\n",
    "plt.show()"
   ]
  },
  {
   "cell_type": "markdown",
   "metadata": {},
   "source": [
    "in the graph there are the 3 sorting algorithm (insertion, merge and quick) and their time trend with the increase of number of students to be analyzed."
   ]
  },
  {
   "cell_type": "markdown",
   "metadata": {},
   "source": [
    "#### 4. What is the most optimal algorithm, in your opinion, and why?"
   ]
  },
  {
   "cell_type": "markdown",
   "metadata": {},
   "source": [
    "If we have to take a decision considering only the execution time of the algorithm we may say that the merge sort is the best one since it's the faster one.  \n",
    "But even quick sort when we are not in particular case is a good one because it has a plus over merge sort.   \n",
    "In fact even if merge sort is very fast we can notice that in the function merge we can't reorder the list without creating a new list in which store temporarily the new sorted elements and so we use more memory. Instead in the quick sort we can sort all the elements in loco.   \n",
    "For this reason if we are in the cases in which quick sort takes a time complexity of $nlog(n)$ it's the best one to use."
   ]
  },
  {
   "cell_type": "markdown",
   "metadata": {},
   "source": [
    "#### 5. Implement a sorting algorithm using MapReduce and compare it against the three algorithms previously implemented using the ApplicantsInfo.txt file."
   ]
  },
  {
   "cell_type": "code",
   "execution_count": null,
   "metadata": {},
   "outputs": [],
   "source": []
  }
 ],
 "metadata": {
  "kernelspec": {
   "display_name": "Python 3.9.12 ('base')",
   "language": "python",
   "name": "python3"
  },
  "language_info": {
   "codemirror_mode": {
    "name": "ipython",
    "version": 3
   },
   "file_extension": ".py",
   "mimetype": "text/x-python",
   "name": "python",
   "nbconvert_exporter": "python",
   "pygments_lexer": "ipython3",
   "version": "3.9.12"
  },
  "vscode": {
   "interpreter": {
    "hash": "0095c6ec66f02ae1bc8a134f6078f14ee669be44a5c4ac33d7f267434e255fcc"
   }
  }
 },
 "nbformat": 4,
 "nbformat_minor": 2
}
