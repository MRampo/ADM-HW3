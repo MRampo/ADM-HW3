{
 "cells": [
  {
   "cell_type": "markdown",
   "id": "5493d470",
   "metadata": {},
   "source": [
    "# 7. Theoretical question"
   ]
  },
  {
   "cell_type": "markdown",
   "id": "5493d470",
   "metadata": {},
   "source": [
    "#### 1. Try solving the problem mentioned above using three different sorting algorithms (do not use any MapReduce algorithm). (Note: Built-in Python functions (like .mean, .sort, etc.) are not allowed to be used. You must implement the algorithms from scratch)."
   ]
  },
  {
   "cell_type": "code",
   "execution_count": 2,
   "id": "09614a50",
   "metadata": {},
   "outputs": [],
   "source": [
    "#let's import the only library we'll need that is time and we'll use it to evaluate the time taken by the algorithm\n",
    "import time"
   ]
  },
  {
   "cell_type": "markdown",
   "id": "12b9575b",
   "metadata": {},
   "source": [
    "In the next blocks there are some useful functions that we'll use for answering question 7.1:\n",
    "- **my_mean** : it is a function that given a row of the file ApplicantsInfo.txt returns the average of the m scores in that row\n",
    "- **sort_by_name** : it is a function that, given two words (name1, name2), if name2 in alphabetical order is before name1 it returns 1, otherwise 0"
   ]
  },
  {
   "cell_type": "code",
   "execution_count": 1,
   "id": "325f5226",
   "metadata": {},
   "outputs": [],
   "source": [
    "def my_mean(l,m): \n",
    "    mean=0\n",
    "    for i in range(2,m):\n",
    "        mean += int(l[i])\n",
    "    mean = mean/m\n",
    "    return mean"
   ]
  },
  {
   "cell_type": "code",
   "execution_count": 3,
   "id": "b9dfbf9e",
   "metadata": {},
   "outputs": [],
   "source": [
    "def sort_by_name(name2,name1):\n",
    "\n",
    "    for i in range(min(len(name1),len(name2))):\n",
    "        # for loop stops as soon as the first word finishes the characters\n",
    "        if name2[i]<name1[i]:\n",
    "            return 1\n",
    "        elif name2[i]>name1[i]:\n",
    "            return 0\n",
    "\n",
    "    # at this point if the for loop eneded without returning any value this mean that the shortest word is equal to the first part of \n",
    "    # the other word and so we'll return 0 or 1 depending on the lengths of the words \n",
    "    if len(name1)<len(name2):\n",
    "        return 0\n",
    "    else:\n",
    "        return 1"
   ]
  },
  {
   "cell_type": "markdown",
   "id": "f2fa59cb",
   "metadata": {},
   "source": [
    "The next block contains the code to read the file ApplicantsInfo.txt.   \n",
    "In the first row there are n (number of students), m (number of scores for each student).    \n",
    "For each of the following n rows there are firts name, second name and all the marks of each student."
   ]
  },
  {
   "cell_type": "code",
   "execution_count": 13,
   "id": "054c9126",
   "metadata": {},
   "outputs": [],
   "source": [
    "f = open(\"C://Users//auror//Desktop//data_science//ADM//HM//3//ApplicantsInfo.txt\",\"r\")\n",
    "dati=[]\n",
    "\n",
    "# first we read the first row and we store in n the number of students and in m the number of scores for each student\n",
    "n, m = map(int,f.readline().split()) \n",
    "\n",
    "#starting from the second row, with the while loop we read 1 row at time and the while loop ends when there isn't anymore rows to be read \n",
    "while True:\n",
    "    # dati_temp will be a list s.t. in the first two positions there are 'name' and 'surname' of a student and starting from position 3 till\n",
    "    # the last we have all of his/her scores (m in total)\n",
    "    dati_temp = f.readline().split()\n",
    "    if not dati_temp:\n",
    "        break\n",
    "    # then we call the function my_mean in order to compute the mean of the scores of a given student  and then we'll append to the list 'dati'\n",
    "    # a list done like this [name,surname,mean of the scores]\n",
    "    mean = my_mean(dati_temp,m)\n",
    "    dati.append([dati_temp[0],dati_temp[1],round(mean,2)])\n",
    "f.close()"
   ]
  },
  {
   "cell_type": "markdown",
   "id": "1a199e35",
   "metadata": {},
   "source": [
    "The next 3 blocks contains the code to compute each of the sorting algorithm.   \n",
    "**NOTE**: if you execute one of the three following cell and then you wanna compute another sorting algorithm you should before rerun the block in which we store the data in the list dati."
   ]
  },
  {
   "cell_type": "code",
   "execution_count": 15,
   "id": "73de7ac7",
   "metadata": {},
   "outputs": [
    {
     "name": "stdout",
     "output_type": "stream",
     "text": [
      "The time taken for computing insertion_sort is:  6.0 minutes and 35.15 seconds\n"
     ]
    }
   ],
   "source": [
    "#run this cell tu compute selection sort algorithm\n",
    "start_time = time.time()\n",
    "insertion_sort(dati,n)\n",
    "end_time = time.time()\n",
    "minuti = (end_time-start_time)//60\n",
    "secondi = (end_time-start_time)%60\n",
    "print('The time taken for computing insertion_sort is: ',minuti,'minutes and',round(secondi,2),'seconds')"
   ]
  },
  {
   "cell_type": "code",
   "execution_count": 27,
   "id": "401a1896",
   "metadata": {},
   "outputs": [
    {
     "name": "stdout",
     "output_type": "stream",
     "text": [
      "The time taken for computing insertion_sort is:  0.0 minutes and 0.89 seconds\n"
     ]
    }
   ],
   "source": [
    "##run this cell tu compute merge sort algorithm\n",
    "start_time = time.time()\n",
    "merge_sort(1,n)\n",
    "end_time = time.time()\n",
    "minuti = (end_time-start_time)//60\n",
    "secondi = (end_time-start_time)%60\n",
    "print('The time taken for computing insertion_sort is: ',minuti,'minutes and',round(secondi,2),'seconds')"
   ]
  },
  {
   "cell_type": "markdown",
   "id": "31adece4",
   "metadata": {},
   "source": [
    "The next block contains the code to write a .text file with the final output"
   ]
  },
  {
   "cell_type": "code",
   "execution_count": 16,
   "id": "6132658e",
   "metadata": {},
   "outputs": [],
   "source": [
    "f= open(\"RankingList_insertion_sort.txt\",\"w\")\n",
    "for i in dati:\n",
    "    f.write(i[0]+\" \"+i[1]+\" \"+str(i[2]))\n",
    "    f.write(\"\\n\")\n",
    "f.close()"
   ]
  },
  {
   "cell_type": "markdown",
   "id": "1729313e",
   "metadata": {},
   "source": [
    "The next block contains the function insertion_sort"
   ]
  },
  {
   "cell_type": "code",
   "execution_count": 14,
   "id": "031384c8",
   "metadata": {},
   "outputs": [],
   "source": [
    "#selection sort\n",
    "def insertion_sort(dati,n):\n",
    "    # the for loop starts from the second element of the list dati since we suppose that the first element is already in the right position\n",
    "    for i in range(1,int(n)):\n",
    "        # starting from the element i-1 we go backwords in the list as soon as we found an element j such that dati[j][2]<dati[i][2] or \n",
    "        # dati[j][2]=dati[i][2] but in alphabetical order the name and surname of the element j have to be before the element i \n",
    "        while ((dati[i][2]>=dati[i-1][2]) & (i>0)):\n",
    "            # everytime if dati[i][2]>dati[i-1][2] we exchange the two lists (dati[i] and dati[i-1])\n",
    "            if dati[i][2]>dati[i-1][2]:\n",
    "                temp=dati[i-1]\n",
    "                dati[i-1]=dati[i]\n",
    "                dati[i]=temp\n",
    "                # after exchanging element i and element i-1 we point to the element before i and skip the rest of the while since we know that \n",
    "                # the avarages were not equal\n",
    "                i -= 1\n",
    "                continue\n",
    "            # if dati[i][2]=dati[i-1][2] then we check the alphabetical order of the two lists\n",
    "            elif dati[i][2]==dati[i-1][2]:\n",
    "                # if the names of element i and element i-1 are equal we call the function sort_by_name with their surnames\n",
    "                if dati[i][0]==dati[i-1][0]:\n",
    "                    y_n = sort_by_name(dati[i][1],dati[i-1][1])\n",
    "                #instead if the names are not equal we call the function sort_by_name with the names of element i and i-1\n",
    "                elif dati[i][0]!=dati[i-1][0]:\n",
    "                    y_n = sort_by_name(dati[i][0],dati[i-1][0])\n",
    "                # if y_n=1 this mean that name and surname of dati[i] in alphabetical order have to be before dati[i-1] and so we exchange the \n",
    "                # two lists \n",
    "                if y_n:\n",
    "                    temp=dati[i-1]\n",
    "                    dati[i-1]=dati[i]\n",
    "                    dati[i]=temp\n",
    "                    i -= 1\n",
    "                # otherwise, if element i and i-1 were already in alphabetical order this mean that the element i was already in the right\n",
    "                # position and so we break the while \n",
    "                else:\n",
    "                    break\n",
    "            \n",
    "            #i -= 1\n",
    "    return"
   ]
  },
  {
   "cell_type": "markdown",
   "id": "24c7ed93",
   "metadata": {},
   "source": [
    "The next two blocks contains the merge_sort function and the merge function used in the first one."
   ]
  },
  {
   "cell_type": "code",
   "execution_count": 12,
   "id": "f11d9f44",
   "metadata": {},
   "outputs": [],
   "source": [
    "def merge_sort(start,end):\n",
    "    if start<end:\n",
    "        medium = (start+end)//2\n",
    "        merge_sort(start,medium)\n",
    "        merge_sort(medium+1,end)\n",
    "        merge(start,medium,end)\n",
    "    return"
   ]
  },
  {
   "cell_type": "code",
   "execution_count": 13,
   "id": "11f72e6f",
   "metadata": {},
   "outputs": [],
   "source": [
    "def merge(start,medium,end):\n",
    "    B = []\n",
    "    i = start-1\n",
    "    j = medium\n",
    "    k = 0\n",
    "    \n",
    "    while ((i<medium) and (j<end)):\n",
    "        if dati[i][2]<dati[j][2]:\n",
    "            B.append(dati[j])\n",
    "            j+=1\n",
    "        elif dati[i][2]>dati[j][2]:\n",
    "            B.append(dati[i])\n",
    "            i+=1\n",
    "        elif dati[i][2]==dati[j][2]:\n",
    "            if dati[i][0]==dati[j][0]:\n",
    "                y_n = sort_by_name(dati[i][1],dati[j][1])\n",
    "            elif dati[i][0]!=dati[j][0]:\n",
    "                y_n = sort_by_name(dati[i][0],dati[j][0])\n",
    "            if y_n==1:\n",
    "                B.append(dati[i])\n",
    "                i+=1\n",
    "            elif y_n==0:\n",
    "                B.append(dati[j])\n",
    "                j+=1\n",
    "        k+=1\n",
    "    \n",
    "    while i<medium:\n",
    "        B.append(dati[i])\n",
    "        i+=1\n",
    "        k+=1\n",
    "    while j<end:\n",
    "        B.append(dati[j])\n",
    "        j+=1\n",
    "        k+=1\n",
    "    \n",
    "    if B !=[]:\n",
    "        for l in range(0,end-start+1):\n",
    "            dati[start-1+l]=B[l]\n",
    "    return "
   ]
  },
  {
   "cell_type": "markdown",
   "id": "b6805e79",
   "metadata": {},
   "source": [
    "**solo una prova per vedere se gli output dei vari algoritmi coincisono**"
   ]
  },
  {
   "cell_type": "code",
   "execution_count": 17,
   "id": "4eba318a",
   "metadata": {},
   "outputs": [
    {
     "name": "stdout",
     "output_type": "stream",
     "text": [
      "la vita è bella 50000\n"
     ]
    }
   ],
   "source": [
    "f1 = open(\"RankingList_merge_sort.txt\",\"r\")\n",
    "f2 = open(\"RankingList_insertion_sort.txt\",\"r\")\n",
    "\n",
    "for i in range(1,n+1):\n",
    "    if f1.readline() != f2.readline():\n",
    "        print('la vita fa schifo')\n",
    "        break\n",
    "    \n",
    "    \n",
    "print('la vita è bella',i)\n",
    "f1.close()\n",
    "f2.close()"
   ]
  },
  {
   "cell_type": "markdown",
   "id": "3dec453e",
   "metadata": {},
   "source": [
    "#### 2. What is the time complexity of each algorithm you have used?"
   ]
  },
  {
   "cell_type": "markdown",
   "id": "7b6d1b62",
   "metadata": {},
   "source": []
  },
  {
   "cell_type": "markdown",
   "id": "68525d8f",
   "metadata": {},
   "source": [
    "#### 3. Evaluate the time taken for each of your implementations to answer the query stored in the ApplicantsInfo.txt file and visualize them."
   ]
  },
  {
   "cell_type": "markdown",
   "id": "e26780f1",
   "metadata": {},
   "source": [
    "As we've seen before the times taken by the different algorithm are:\n",
    "- **insertion sort**: 6.0 minutes and 35.15 seconds\n",
    "- **merge_sort**: 0.0 minutes and 0.89 seconds"
   ]
  },
  {
   "cell_type": "markdown",
   "id": "2dfbf560",
   "metadata": {},
   "source": [
    "#### 4. What is the most optimal algorithm, in your opinion, and why?"
   ]
  },
  {
   "cell_type": "markdown",
   "id": "adb8ccbf",
   "metadata": {},
   "source": []
  },
  {
   "cell_type": "markdown",
   "id": "cb59ac04",
   "metadata": {},
   "source": [
    "#### 5. Implement a sorting algorithm using MapReduce and compare it against the three algorithms previously implemented using the ApplicantsInfo.txt file."
   ]
  },
  {
   "cell_type": "code",
   "execution_count": null,
   "id": "e7ec71e6",
   "metadata": {},
   "outputs": [],
   "source": []
  }
 ],
 "metadata": {
  "kernelspec": {
   "display_name": "Python 3.9.12 ('base')",
   "language": "python",
   "name": "python3"
  },
  "language_info": {
   "codemirror_mode": {
    "name": "ipython",
    "version": 3
   },
   "file_extension": ".py",
   "mimetype": "text/x-python",
   "name": "python",
   "nbconvert_exporter": "python",
   "pygments_lexer": "ipython3",
   "version": "3.9.12"
  },
  "vscode": {
   "interpreter": {
    "hash": "0095c6ec66f02ae1bc8a134f6078f14ee669be44a5c4ac33d7f267434e255fcc"
   }
  }
 },
 "nbformat": 4,
 "nbformat_minor": 5
}
