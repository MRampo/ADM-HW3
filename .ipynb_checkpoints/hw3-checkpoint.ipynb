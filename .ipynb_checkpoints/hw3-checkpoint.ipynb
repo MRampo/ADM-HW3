{
 "cells": [
  {
   "cell_type": "code",
   "execution_count": 1,
   "metadata": {},
   "outputs": [
    {
     "name": "stderr",
     "output_type": "stream",
     "text": [
      "[nltk_data] Downloading package stopwords to\n",
      "[nltk_data]     C:\\Users\\auror\\AppData\\Roaming\\nltk_data...\n",
      "[nltk_data]   Package stopwords is already up-to-date!\n"
     ]
    }
   ],
   "source": [
    "from bs4 import BeautifulSoup as bs\n",
    "import requests\n",
    "from tqdm import tqdm \n",
    "import json\n",
    "import os\n",
    "import datetime\n",
    "import re\n",
    "import glob\n",
    "import csv\n",
    "import time\n",
    "import pandas as pd\n",
    "from nltk.stem import *\n",
    "from collections import Counter\n",
    "from functools import reduce\n",
    "import numpy as np\n",
    "import nltk\n",
    "from nltk.corpus import stopwords\n",
    "nltk.download('stopwords')\n",
    "from nltk.tokenize import RegexpTokenizer\n",
    "from nltk.stem import PorterStemmer\n",
    "from nltk import tokenize\n",
    "#import datatable as dt   \n",
    "import csv\n",
    "\n",
    "\n",
    "#To read and store dictionary\n",
    "import pickle"
   ]
  },
  {
   "cell_type": "code",
   "execution_count": 99,
   "metadata": {},
   "outputs": [],
   "source": [
    "#TODO\n",
    "#EDA\n",
    "#do Lemmatization in the Data Cleaning \n",
    "#Create all the missing tsv\n",
    "#Clean and comment the code\n",
    "#CHECK EFFICIENCY 1.2 and 1.3\n",
    "#Parse list before saving into\n",
    "# finire di aggiungere labels al punto 4 (placeAdress,city)"
   ]
  },
  {
   "cell_type": "markdown",
   "metadata": {},
   "source": [
    "### 1. Data collection\n",
    "## 1.1. Get the list of places"
   ]
  },
  {
   "cell_type": "code",
   "execution_count": null,
   "metadata": {},
   "outputs": [],
   "source": [
    "total_link = []\n",
    "s = requests.Session()\n",
    "for n in tqdm(range(1,401)):\n",
    "    url = f'https://www.atlasobscura.com/places?page={n}&sort=likes_count'\n",
    "    result = s.get(url)\n",
    "    soup = bs(result.text)\n",
    "    puf = soup.find_all(\"a\", {'class': 'content-card content-card-place'})\n",
    "    for x in puf:\n",
    "        total_link.append(x['href'])\n"
   ]
  },
  {
   "cell_type": "code",
   "execution_count": null,
   "metadata": {},
   "outputs": [],
   "source": [
    "f = open('total_link.txt',\"r\")\n",
    "total_link = f.read().split(\"\\n\")"
   ]
  },
  {
   "cell_type": "markdown",
   "metadata": {},
   "source": [
    "## 1.2. Crawl places"
   ]
  },
  {
   "cell_type": "code",
   "execution_count": null,
   "metadata": {},
   "outputs": [],
   "source": [
    "def downloadPage(start,end, array):\n",
    "    count_link = ((start-1)*18)+1\n",
    "    count_page = start\n",
    "    \n",
    "    parent_dir = f'./all_Pages'\n",
    "    s = requests.Session()\n",
    "    header = {'User-Agent': 'Mozilla/5.0 (Macintosh; Intel Mac OS X 10_10_1) AppleWebKit/537.36 (KHTML, like Gecko) Chrome/39.0.2171.95 Safari/537.36'}\n",
    "    for x in tqdm(range(start, end)):\n",
    "        if count_link%10 == 0:\n",
    "            s = requests.Session()\n",
    "        if count_link%18 == 1:\n",
    "            path = os.path.join(parent_dir, f\"folder_{count_page}\")\n",
    "            os.mkdir(path)\n",
    "        for y in range(18):\n",
    "            url = f'https://www.atlasobscura.com{array[count_link-1]}'\n",
    "            name_file = f'location_{count_link}'\n",
    "            name_folder = f'folder_{count_page}'\n",
    "            with open(f'./all_Pages/{name_folder}/{name_file}.html', 'w', encoding='utf8') as fp:\n",
    "                req = s.get(url, headers = header)\n",
    "                fp.write(req.text)\n",
    "                if req.status_code != 200:\n",
    "                     time.sleep(120)\n",
    "                     req = s.get(url, headers = header)\n",
    "                fp.write(s.get(url).text)\n",
    "            if count_link%18 == 0:\n",
    "                count_page += 1\n",
    "            count_link += 1\n",
    "           \n",
    "        "
   ]
  },
  {
   "cell_type": "markdown",
   "metadata": {},
   "source": [
    "## 1.3 Parse downloaded pages"
   ]
  },
  {
   "cell_type": "code",
   "execution_count": null,
   "metadata": {},
   "outputs": [],
   "source": [
    "\n",
    "def save_TSV():\n",
    "    os.mkdir(\"TSV Files\")\n",
    "    for x in os.listdir(\"all_Pages\"):\n",
    "        for y in os.listdir(f'all_Pages/{x}'):\n",
    "            with open(f'./all_Pages/{x}/{y}', encoding='utf8') as f:\n",
    "                p = f.read()\n",
    "                soup =  bs(p)\n",
    "                pageAttribute = []\n",
    "                placeName = findPlaceName(soup)\n",
    "                placeTags = findPlaceTags(soup)\n",
    "                numPeopleVisited = findNumPeopleVisited(soup)\n",
    "                numPeopleWant = findNumPeopleWant(soup)\n",
    "                placeDesc = findDescription(soup)\n",
    "                placeShortDesc = findShortDescription(soup)\n",
    "                placeNearby = findNearbyPlaces(soup)\n",
    "                placeAddress = findAddress(soup)\n",
    "                placeAlt, placeLong = findCordinates(soup)\n",
    "                placeEditors = findPostEditors(soup)\n",
    "                placePubDate = findPublishingDate(soup)\n",
    "                placeRelatedList = findPlaceNear(soup)\n",
    "                placeRelatedPlaces = findRelatedPlaces(soup)\n",
    "                placeURL = findPageURL(soup)\n",
    "                with open(f'./TSV Files/{y[:-5]}.tvs', 'wt', encoding='utf8') as fp:\n",
    "                    csv.writer(fp, delimiter='\\t').writerow([placeName, placeTags, numPeopleVisited, numPeopleWant, placeDesc, placeShortDesc, placeNearby, placeAddress, placeAlt, placeLong, placeEditors, placePubDate, placeRelatedList, placeRelatedPlaces, placeURL])\n",
    "            "
   ]
  },
  {
   "cell_type": "code",
   "execution_count": null,
   "metadata": {},
   "outputs": [],
   "source": [
    "\n",
    "def download_TSV():\n",
    "    os.mkdir(\"TSV Files\")\n",
    "    a = 0\n",
    "    for path in tqdm(glob.glob(r\"all_Pages/*/*\")):\n",
    "        with open(path, encoding='utf8') as f:\n",
    "                    a += 1\n",
    "                    p = f.read()\n",
    "                    soup =  bs(p)\n",
    "                    pageAttribute = []\n",
    "                    placeName = findPlaceName(soup)\n",
    "                    placeTags = findPlaceTags(soup)\n",
    "                    placeTags = \",\".join(placeTags)\n",
    "                    numPeopleVisited = findNumPeopleVisited(soup)\n",
    "                    numPeopleWant = findNumPeopleWant(soup)\n",
    "                    placeDesc = findDescription(soup)\n",
    "                    placeDesc = \" \".join(placeDesc)\n",
    "                    placeShortDesc = findShortDescription(soup)\n",
    "                    placeNearby = findNearbyPlaces(soup)\n",
    "                    placeNearby = \",\".join(placeNearby)\n",
    "                    placeAddress = findAddress(soup)\n",
    "                    placeAlt, placeLong = findCordinates(soup)\n",
    "                    placeEditors = findPostEditors(soup)\n",
    "                    placeEditors = \",\".join(placeEditors)\n",
    "                    placePubDate = findPublishingDate(soup)\n",
    "                    placeRelatedList = findPlaceNear(soup)\n",
    "                    placeRelatedList = \",\".join(placeRelatedList)\n",
    "                    placeRelatedPlaces = findRelatedPlaces(soup)\n",
    "                    placeRelatedPlaces = \",\".join(placeRelatedPlaces)\n",
    "                    placeURL = findPageURL(soup)\n",
    "                    with open(f'./TSV Files/{a}.tvs', 'wt', encoding='utf8') as fp:\n",
    "                        csv.writer(fp, delimiter='\\t').writerow([placeName, placeTags, numPeopleVisited, numPeopleWant, placeDesc, placeShortDesc, placeNearby, placeAddress, placeAlt, placeLong, placeEditors, placePubDate, placeRelatedList, placeRelatedPlaces, placeURL])\n",
    "        \n",
    "        "
   ]
  },
  {
   "cell_type": "code",
   "execution_count": null,
   "metadata": {},
   "outputs": [],
   "source": [
    "download_TSV()"
   ]
  },
  {
   "cell_type": "code",
   "execution_count": null,
   "metadata": {},
   "outputs": [],
   "source": [
    "def findPlaceName(soup):\n",
    "    placeName = soup.find(\"h1\", {\"class\": \"DDPage__header-title\"})\n",
    "    if placeName != None:\n",
    "        placeName = placeName.text\n",
    "    #placeName = re.sub('[A-Za-z0-9_.,! \"]*' ,'',placeName)\n",
    "    return placeName\n",
    "\n",
    "def findPlaceTags(soup):\n",
    "    tags = []\n",
    "    placeTags = soup.find_all(\"a\", {\"class\": \"itemTags__link js-item-tags-link\"})\n",
    "    for tag in placeTags:\n",
    "        t = tag.text.replace(\"\\n\", \"\")\n",
    "        #t = re.sub('[A-Za-z0-9 _.,!\"]*','',t)\n",
    "        tags.append(t)\n",
    "    return tags\n",
    "\n",
    "def findNumPeopleVisited(soup):\n",
    "    peopleVisited = soup.find_all(\"div\", {\"class\": \"title-md item-action-count\"})\n",
    "    if len(peopleVisited) > 0:\n",
    "        peopleVisited = int(peopleVisited[0].text)\n",
    "    return peopleVisited\n",
    "\n",
    "def findNumPeopleWant(soup):\n",
    "    peopleVisited = soup.find_all(\"div\", {\"class\": \"title-md item-action-count\"})\n",
    "    if len(peopleVisited) > 0:\n",
    "        peopleVisited = int(peopleVisited[1].text)\n",
    "    return peopleVisited\n",
    "\n",
    "def findDescription(soup):\n",
    "    all_description = []\n",
    "    descriptions = soup.find_all(\"div\", {\"class\": \"DDP__body-copy\"})\n",
    "    for description in descriptions:\n",
    "        d = description.text.replace(\"\\n\",\"\")\n",
    "        all_description.append(d)\n",
    "    return all_description\n",
    "\n",
    "def findShortDescription(soup):\n",
    "    shortDescription = soup.find(\"h3\", {\"class\": \"DDPage__header-dek\"})\n",
    "    if shortDescription != None:\n",
    "        shortDescription = shortDescription.text.replace(\"\\n\", \"\")\n",
    "    return shortDescription\n",
    "\n",
    "def findNearbyPlaces(soup):\n",
    "    nearPlaces = []\n",
    "    nearbyPlaces = soup.find_all(\"div\", {\"class\": \"DDPageSiderailRecirc__item-title\"})\n",
    "    if nearbyPlaces != None:\n",
    "        for place in nearbyPlaces:\n",
    "            p = place.text.replace(\"\\n\",\"\")\n",
    "            nearPlaces.append(p)\n",
    "        #Convert the list to set, and then back again to list to remove repetition\n",
    "    return set(nearPlaces)\n",
    "\n",
    "def findAddress(soup):\n",
    "    strings = []\n",
    "    adress_strings = soup.find(\"address\", {\"class\": \"DDPageSiderail__address\"})\n",
    "    if adress_strings != None:\n",
    "        adress_strings = adress_strings.find(\"div\")\n",
    "        for info in adress_strings:\n",
    "            s = info.text.replace(\"\\n\", \"\")\n",
    "            if s != \"\":\n",
    "                strings.append(s)\n",
    "        if len(strings) > 3:\n",
    "            return \" \".join(strings[:3])\n",
    "    else:\n",
    "        return \" \"\n",
    "\n",
    "def findCordinates(soup):\n",
    "\n",
    "    cordinates = soup.find(\"div\", {\"class\":\"DDPageSiderail__coordinates js-copy-coordinates\"})\n",
    "    if cordinates != None:\n",
    "        return cordinates.text.replace(\"\\n\", \"\").replace(\" \",\"\").split(\",\")\n",
    "    return \" \", \" \"\n",
    "\n",
    "def findPostEditors(soup):\n",
    "    all_editors =[]\n",
    "    editors = soup.find_all(\"a\", {\"class\":\"DDPContributorsList__contributor\"})         \n",
    "    for person in editors:\n",
    "        s = person.text.replace(\"\\n\", \"\")\n",
    "        all_editors.append(s)\n",
    "    return all_editors\n",
    "\n",
    "def findPublishingDate(soup):\n",
    "    #Pick the right info\n",
    "    dateString = soup.find(\"div\", {\"class\":\"DDPContributor__name\"}) \n",
    "    #Let's clean the string\n",
    "    if dateString != None:\n",
    "        s = dateString.text.replace(\"\\n\", \"\")\n",
    "        #Let's modify it for the right format of datetime\n",
    "        split = s.split()\n",
    "        #Let's convert the string Month into the corrispondent number by using \"strptime()\" \n",
    "        split[0] = str(datetime.datetime.strptime(split[0], '%B').month)\n",
    "        #My format\n",
    "        format = \"%m %d, %Y\"\n",
    "        #Convert from String to datetime\n",
    "        date = datetime.datetime.strptime(\" \".join(split), format)\n",
    "        return date\n",
    "    else:\n",
    "        return \"\"\n",
    "\n",
    "def findPlaceNear(soup):\n",
    "    lists =[]\n",
    "    relatedLists = soup.find(\"div\", {\"data-gtm-template\":\"DDP Footer Recirc Nearby\"})\n",
    "    if relatedLists != None:\n",
    "        relatedLists = relatedLists.find_all(\"h3\", {\"class\":\"Card__heading --content-card-v2-title js-title-content\"})\n",
    "        for list in relatedLists:\n",
    "            s = list.text.replace(\"\\n\", \"\")\n",
    "            #s = re.sub('[A-Za-z0-9 _.,!\"]*','',s)\n",
    "            lists.append(s)\n",
    "    return lists\n",
    "\n",
    "def findRelatedPlaces(soup):\n",
    "    lists =[]\n",
    "    relatedLists = soup.find(\"div\", {\"data-gtm-template\":\"DDP Footer Recirc Related\"})\n",
    "    if relatedLists != None:\n",
    "        relatedLists = relatedLists.find_all(\"h3\", {\"class\":\"Card__heading --content-card-v2-title js-title-content\"})\n",
    "        for list in relatedLists:\n",
    "            s = list.text.replace(\"\\n\", \"\")\n",
    "            #s = re.sub('[A-Za-z0-9 _.,!\"]*','',s)\n",
    "            lists.append(s)\n",
    "    return lists\n",
    "\n",
    "def findPageURL(soup):\n",
    "    numVisitedPeople = soup.find(\"link\", {\"rel\":\"canonical\"})\n",
    "    return numVisitedPeople['href']\n",
    "\n"
   ]
  },
  {
   "cell_type": "markdown",
   "metadata": {},
   "source": [
    "## Load all the tsv file into one pandas dataframe"
   ]
  },
  {
   "cell_type": "markdown",
   "metadata": {},
   "source": [
    "We decided to save all the .tsv file as one joined .csv where every file rappresents one row of the .csv file, so that we can work and access the data without having to read 7200 tsv file each time. The data are stored in the \"tsv_dataframe\"\n",
    "\n",
    "This mean that the function load_tsv() has only been executed once. The other iteration we just read the .csv file"
   ]
  },
  {
   "cell_type": "code",
   "execution_count": null,
   "metadata": {},
   "outputs": [],
   "source": [
    "\n",
    "def load_tsv():\n",
    "    tsv = []\n",
    "    dtypes = {}\n",
    "    for x in tqdm(os.listdir(\"TSV Files\")):\n",
    "        df = pd.read_csv(f'TSV Files/{x}',\n",
    "            sep=\"\\t\",\n",
    "            header=None,\n",
    "            names=[\"placeName\", \"placeTags\", \"numPeopleVisited\", \"numPeopleWant\", \"placeDesc\", \"placeShortDesc\", \"placeNearby\",\"placeAdress\", \"placeAlt\", \"placeLong\", \"placeEditors\",\"placePubDate\", \"placeRelatedList\", \"placeRelatedPlace\", \"placeURL\"])\n",
    "        tsv.append(df)\n",
    "\n",
    "    return pd.concat(tsv)"
   ]
  },
  {
   "cell_type": "code",
   "execution_count": 2,
   "metadata": {},
   "outputs": [],
   "source": [
    "# data = load_tsv()\n",
    "data = pd.read_csv(\"tsv_dataframe.csv\",index_col=0)\n",
    "\n",
    "#Reset Index\n",
    "data.reset_index(inplace = True, drop=True)"
   ]
  },
  {
   "cell_type": "code",
   "execution_count": null,
   "metadata": {},
   "outputs": [],
   "source": [
    "data.info()"
   ]
  },
  {
   "cell_type": "code",
   "execution_count": 28,
   "metadata": {},
   "outputs": [
    {
     "data": {
      "text/html": [
       "<div>\n",
       "<style scoped>\n",
       "    .dataframe tbody tr th:only-of-type {\n",
       "        vertical-align: middle;\n",
       "    }\n",
       "\n",
       "    .dataframe tbody tr th {\n",
       "        vertical-align: top;\n",
       "    }\n",
       "\n",
       "    .dataframe thead th {\n",
       "        text-align: right;\n",
       "    }\n",
       "</style>\n",
       "<table border=\"1\" class=\"dataframe\">\n",
       "  <thead>\n",
       "    <tr style=\"text-align: right;\">\n",
       "      <th></th>\n",
       "      <th>placeName</th>\n",
       "      <th>placeTags</th>\n",
       "      <th>numPeopleVisited</th>\n",
       "      <th>numPeopleWant</th>\n",
       "      <th>placeDesc</th>\n",
       "      <th>placeShortDesc</th>\n",
       "      <th>placeNearby</th>\n",
       "      <th>placeAdress</th>\n",
       "      <th>placeAlt</th>\n",
       "      <th>placeLong</th>\n",
       "      <th>placeEditors</th>\n",
       "      <th>placePubDate</th>\n",
       "      <th>placeRelatedList</th>\n",
       "      <th>placeRelatedPlace</th>\n",
       "      <th>placeURL</th>\n",
       "    </tr>\n",
       "  </thead>\n",
       "  <tbody>\n",
       "    <tr>\n",
       "      <th>0</th>\n",
       "      <td>City Hall Station</td>\n",
       "      <td>subways,subterranean,infrastructure,subterrane...</td>\n",
       "      <td>1834</td>\n",
       "      <td>8603</td>\n",
       "      <td>The first New York City subway was built and o...</td>\n",
       "      <td>A beautiful and abandoned New York subway stat...</td>\n",
       "      <td>The Sugar House Prison Window,Tunnel Number 3,...</td>\n",
       "      <td>31 Centre St New York, New York, 10007 United ...</td>\n",
       "      <td>40.7134</td>\n",
       "      <td>-74.0046</td>\n",
       "      <td>Rebekah Otto,Annetta Black,Allan,charding407,w...</td>\n",
       "      <td>2010-05-08 00:00:00</td>\n",
       "      <td>African Burial Ground National Monument,Tunnel...</td>\n",
       "      <td>Crystal Palace Subway,Moscow Metro Stations,Ro...</td>\n",
       "      <td>https://www.atlasobscura.com/places/city-hall-...</td>\n",
       "    </tr>\n",
       "    <tr>\n",
       "      <th>1</th>\n",
       "      <td>The Winchester Mystery House</td>\n",
       "      <td>follies and grottoes,outsider architecture,ecc...</td>\n",
       "      <td>3723</td>\n",
       "      <td>5209</td>\n",
       "      <td>In 1886 an eccentric woman named Sarah Winches...</td>\n",
       "      <td>A peculiar mansion built by the troubled heir ...</td>\n",
       "      <td>Rosicrucian Park,Rosicrucian Egyptian Museum,S...</td>\n",
       "      <td>525 South Winchester Boulevard San Jose, Calif...</td>\n",
       "      <td>37.3189</td>\n",
       "      <td>-121.9506</td>\n",
       "      <td>mbison,Avoiding Regret,PrestonW,Collin,Destina...</td>\n",
       "      <td>2008-11-21 00:00:00</td>\n",
       "      <td>Santana Row Chess Plaza,Rosicrucian Park,Rosic...</td>\n",
       "      <td>Casa de Piedra (Stone House),Portmeirion Villa...</td>\n",
       "      <td>https://www.atlasobscura.com/places/winchester...</td>\n",
       "    </tr>\n",
       "    <tr>\n",
       "      <th>2</th>\n",
       "      <td>Center for Puppetry Arts</td>\n",
       "      <td>sesame street,puppets,museums</td>\n",
       "      <td>705</td>\n",
       "      <td>1027</td>\n",
       "      <td>If you know your Gonzo from your Gelflings, yo...</td>\n",
       "      <td>The largest puppetry museum in the USA houses ...</td>\n",
       "      <td>Breman Museum,The Consulate,Atlanta Monetary M...</td>\n",
       "      <td>1404 Spring St Atlanta, Georgia United States</td>\n",
       "      <td>33.7927</td>\n",
       "      <td>-84.3896</td>\n",
       "      <td>kendallmbailey,Martin,andydoesit,We All Pod Do...</td>\n",
       "      <td>2018-11-12 00:00:00</td>\n",
       "      <td>Breman Museum,Atlanta Monetary Museum,The Cons...</td>\n",
       "      <td>Portland Puppet Museum,Museu da Marioneta (Mus...</td>\n",
       "      <td>https://www.atlasobscura.com/places/center-for...</td>\n",
       "    </tr>\n",
       "    <tr>\n",
       "      <th>3</th>\n",
       "      <td>Amityville Horror House</td>\n",
       "      <td>hoaxes and pseudoscience,haunted,film location...</td>\n",
       "      <td>367</td>\n",
       "      <td>831</td>\n",
       "      <td>On a cold November night in 1974, Amityville, ...</td>\n",
       "      <td>The site of a tragic massacre that spawned a m...</td>\n",
       "      <td>The Long Island Puppet Theater,Pilgrim Psychia...</td>\n",
       "      <td>112 Ocean Avenue Amityville, New York, 11701 U...</td>\n",
       "      <td>40.6665</td>\n",
       "      <td>-73.4143</td>\n",
       "      <td>EricGrundhauser,MandrewPatinkin,lendog666,Mart...</td>\n",
       "      <td>2013-10-17 00:00:00</td>\n",
       "      <td>The Long Island Puppet Theater,Fire Island Lig...</td>\n",
       "      <td>Conanicut Island Lighthouse,Lovell Health Hous...</td>\n",
       "      <td>https://www.atlasobscura.com/places/amityville...</td>\n",
       "    </tr>\n",
       "    <tr>\n",
       "      <th>4</th>\n",
       "      <td>Yuma Territorial Prison</td>\n",
       "      <td>prisons,crime and punishment</td>\n",
       "      <td>422</td>\n",
       "      <td>833</td>\n",
       "      <td>On July 1, 1876, the first seven inmates enter...</td>\n",
       "      <td>Walk through the actual strap iron cells and s...</td>\n",
       "      <td>Valley of the Names,Felicity, California: Cent...</td>\n",
       "      <td>1 Prison Hill Rd Yuma, Arizona, 85364 United S...</td>\n",
       "      <td>32.7266</td>\n",
       "      <td>-114.6144</td>\n",
       "      <td>desertfairy,mbison,CorpseLady84,Avoiding Regre...</td>\n",
       "      <td>2010-04-01 00:00:00</td>\n",
       "      <td>Felicity, California: Center of the World,Vall...</td>\n",
       "      <td>Buckley's Cave,Palazzo d'Avalos,Oxford Castle ...</td>\n",
       "      <td>https://www.atlasobscura.com/places/yuma-terri...</td>\n",
       "    </tr>\n",
       "  </tbody>\n",
       "</table>\n",
       "</div>"
      ],
      "text/plain": [
       "                      placeName  \\\n",
       "0             City Hall Station   \n",
       "1  The Winchester Mystery House   \n",
       "2      Center for Puppetry Arts   \n",
       "3       Amityville Horror House   \n",
       "4       Yuma Territorial Prison   \n",
       "\n",
       "                                           placeTags  numPeopleVisited  \\\n",
       "0  subways,subterranean,infrastructure,subterrane...              1834   \n",
       "1  follies and grottoes,outsider architecture,ecc...              3723   \n",
       "2                      sesame street,puppets,museums               705   \n",
       "3  hoaxes and pseudoscience,haunted,film location...               367   \n",
       "4                       prisons,crime and punishment               422   \n",
       "\n",
       "   numPeopleWant                                          placeDesc  \\\n",
       "0           8603  The first New York City subway was built and o...   \n",
       "1           5209  In 1886 an eccentric woman named Sarah Winches...   \n",
       "2           1027  If you know your Gonzo from your Gelflings, yo...   \n",
       "3            831  On a cold November night in 1974, Amityville, ...   \n",
       "4            833  On July 1, 1876, the first seven inmates enter...   \n",
       "\n",
       "                                      placeShortDesc  \\\n",
       "0  A beautiful and abandoned New York subway stat...   \n",
       "1  A peculiar mansion built by the troubled heir ...   \n",
       "2  The largest puppetry museum in the USA houses ...   \n",
       "3  The site of a tragic massacre that spawned a m...   \n",
       "4  Walk through the actual strap iron cells and s...   \n",
       "\n",
       "                                         placeNearby  \\\n",
       "0  The Sugar House Prison Window,Tunnel Number 3,...   \n",
       "1  Rosicrucian Park,Rosicrucian Egyptian Museum,S...   \n",
       "2  Breman Museum,The Consulate,Atlanta Monetary M...   \n",
       "3  The Long Island Puppet Theater,Pilgrim Psychia...   \n",
       "4  Valley of the Names,Felicity, California: Cent...   \n",
       "\n",
       "                                         placeAdress  placeAlt  placeLong  \\\n",
       "0  31 Centre St New York, New York, 10007 United ...   40.7134   -74.0046   \n",
       "1  525 South Winchester Boulevard San Jose, Calif...   37.3189  -121.9506   \n",
       "2      1404 Spring St Atlanta, Georgia United States   33.7927   -84.3896   \n",
       "3  112 Ocean Avenue Amityville, New York, 11701 U...   40.6665   -73.4143   \n",
       "4  1 Prison Hill Rd Yuma, Arizona, 85364 United S...   32.7266  -114.6144   \n",
       "\n",
       "                                        placeEditors         placePubDate  \\\n",
       "0  Rebekah Otto,Annetta Black,Allan,charding407,w...  2010-05-08 00:00:00   \n",
       "1  mbison,Avoiding Regret,PrestonW,Collin,Destina...  2008-11-21 00:00:00   \n",
       "2  kendallmbailey,Martin,andydoesit,We All Pod Do...  2018-11-12 00:00:00   \n",
       "3  EricGrundhauser,MandrewPatinkin,lendog666,Mart...  2013-10-17 00:00:00   \n",
       "4  desertfairy,mbison,CorpseLady84,Avoiding Regre...  2010-04-01 00:00:00   \n",
       "\n",
       "                                    placeRelatedList  \\\n",
       "0  African Burial Ground National Monument,Tunnel...   \n",
       "1  Santana Row Chess Plaza,Rosicrucian Park,Rosic...   \n",
       "2  Breman Museum,Atlanta Monetary Museum,The Cons...   \n",
       "3  The Long Island Puppet Theater,Fire Island Lig...   \n",
       "4  Felicity, California: Center of the World,Vall...   \n",
       "\n",
       "                                   placeRelatedPlace  \\\n",
       "0  Crystal Palace Subway,Moscow Metro Stations,Ro...   \n",
       "1  Casa de Piedra (Stone House),Portmeirion Villa...   \n",
       "2  Portland Puppet Museum,Museu da Marioneta (Mus...   \n",
       "3  Conanicut Island Lighthouse,Lovell Health Hous...   \n",
       "4  Buckley's Cave,Palazzo d'Avalos,Oxford Castle ...   \n",
       "\n",
       "                                            placeURL  \n",
       "0  https://www.atlasobscura.com/places/city-hall-...  \n",
       "1  https://www.atlasobscura.com/places/winchester...  \n",
       "2  https://www.atlasobscura.com/places/center-for...  \n",
       "3  https://www.atlasobscura.com/places/amityville...  \n",
       "4  https://www.atlasobscura.com/places/yuma-terri...  "
      ]
     },
     "execution_count": 28,
     "metadata": {},
     "output_type": "execute_result"
    }
   ],
   "source": [
    "data.head()"
   ]
  },
  {
   "cell_type": "code",
   "execution_count": 3,
   "metadata": {},
   "outputs": [
    {
     "name": "stdout",
     "output_type": "stream",
     "text": [
      "<class 'pandas.core.frame.DataFrame'>\n",
      "RangeIndex: 7200 entries, 0 to 7199\n",
      "Data columns (total 15 columns):\n",
      " #   Column             Non-Null Count  Dtype  \n",
      "---  ------             --------------  -----  \n",
      " 0   placeName          7200 non-null   object \n",
      " 1   placeTags          7200 non-null   object \n",
      " 2   numPeopleVisited   7200 non-null   int64  \n",
      " 3   numPeopleWant      7200 non-null   int64  \n",
      " 4   placeDesc          7200 non-null   object \n",
      " 5   placeShortDesc     7200 non-null   object \n",
      " 6   placeNearby        7200 non-null   object \n",
      " 7   placeAdress        7200 non-null   object \n",
      " 8   placeAlt           7200 non-null   float64\n",
      " 9   placeLong          7200 non-null   float64\n",
      " 10  placeEditors       7200 non-null   object \n",
      " 11  placePubDate       7200 non-null   object \n",
      " 12  placeRelatedList   7200 non-null   object \n",
      " 13  placeRelatedPlace  7200 non-null   object \n",
      " 14  placeURL           7200 non-null   object \n",
      "dtypes: float64(2), int64(2), object(11)\n",
      "memory usage: 843.9+ KB\n"
     ]
    }
   ],
   "source": [
    "data = data.fillna(\"\")\n",
    "data.info()"
   ]
  },
  {
   "cell_type": "markdown",
   "metadata": {},
   "source": [
    "## Data Cleaning\n",
    "\n",
    "- remove punctuation \n",
    "- remove stopwords \n",
    "- stemming "
   ]
  },
  {
   "cell_type": "code",
   "execution_count": 4,
   "metadata": {},
   "outputs": [],
   "source": [
    "\n",
    "\n",
    "def remove_punctuations(string):\n",
    "    # first we remove the punctuations\n",
    "    # in order to do it we need to tekenize the string with the function tokenize and then applying the function RegexpTokenizer\n",
    "    return RegexpTokenizer(r'\\w+').tokenize(string)\n",
    "\n",
    "\n",
    "def stemming(string):\n",
    "    # now we move forward with the stemming\n",
    "    porter = PorterStemmer()\n",
    "    string_stem=[porter.stem(word) for word in string]\n",
    "    # we can now return the cleaned string \n",
    "    return string_stem\n",
    "\n",
    "def remove_stopwords(string):\n",
    "    # after this we can now remove all the stopwords in each word in string_t\n",
    "    return  [word for word in string if not word.lower() in set(stopwords.words(\"english\"))]\n",
    "    # now we move forward with the stemming\n",
    "\n",
    "def remove_numbers(string):\n",
    "    for num in range(len(string)):\n",
    "        if any(chr.isdigit() for chr in string[num]):\n",
    "            string[num] = ''.join((x for x in string[num] if not x.isdigit()))\n",
    "    return string\n",
    "\n",
    "\n",
    "\n",
    "def cleaning(string):\n",
    "    #I apply all the function for cleaning the string\n",
    "    string = string.lower()\n",
    "    string = remove_punctuations(string)\n",
    "    string = remove_stopwords(string)\n",
    "    string = remove_numbers(string)\n",
    "    string = stemming(string)\n",
    "\n",
    "    #return a list containing all the words of the original string after the cleaning\n",
    "    return string"
   ]
  },
  {
   "cell_type": "code",
   "execution_count": 5,
   "metadata": {},
   "outputs": [],
   "source": [
    "#Let's create a new column with the clean Description\n",
    "data['cleanDesc'] = data.placeDesc.apply(lambda row: \" \".join(cleaning(row)))"
   ]
  },
  {
   "cell_type": "markdown",
   "metadata": {},
   "source": [
    "## 2.1 "
   ]
  },
  {
   "cell_type": "code",
   "execution_count": 10,
   "metadata": {},
   "outputs": [],
   "source": [
    "#The first dictionary where every key is a word and it's value is the corrispondant number to that word\n",
    "\n",
    "def createFirstDic(data):\n",
    "    dic = {}\n",
    "    value = 1\n",
    "    for description in tqdm(data[\"cleanDesc\"]):\n",
    "        for word in description.split():\n",
    "            if word in dic.keys():\n",
    "                continue\n",
    "            else:\n",
    "                dic[word] = value\n",
    "                value += 1\n",
    "    return dic"
   ]
  },
  {
   "cell_type": "code",
   "execution_count": 11,
   "metadata": {},
   "outputs": [
    {
     "name": "stderr",
     "output_type": "stream",
     "text": [
      "100%|███████████████████████████████████████████████████████████████████████████| 7200/7200 [00:00<00:00, 13112.97it/s]\n"
     ]
    }
   ],
   "source": [
    "dic1 = createFirstDic(data)"
   ]
  },
  {
   "cell_type": "code",
   "execution_count": 12,
   "metadata": {},
   "outputs": [
    {
     "data": {
      "text/plain": [
       "38609"
      ]
     },
     "execution_count": 12,
     "metadata": {},
     "output_type": "execute_result"
    }
   ],
   "source": [
    "len(dic1)"
   ]
  },
  {
   "cell_type": "markdown",
   "metadata": {},
   "source": [
    "## 2.1.1 Creating your index"
   ]
  },
  {
   "cell_type": "code",
   "execution_count": 13,
   "metadata": {},
   "outputs": [],
   "source": [
    "def createSecondDic(data, dic1):\n",
    "    dic2 = {}\n",
    "    a = 0\n",
    "    for description in tqdm(data[\"cleanDesc\"]):\n",
    "        #Cleaning the data\n",
    "        for word in description.split():\n",
    "            if dic1[word] in dic2.keys():\n",
    "                dic2[dic1[word]].add(data.placeName[a])\n",
    "            else:\n",
    "                dic2[dic1[word]] = set([data.placeName[a]])\n",
    "        a += 1\n",
    "    return dic2\n",
    "\n",
    "    "
   ]
  },
  {
   "cell_type": "code",
   "execution_count": 14,
   "metadata": {},
   "outputs": [
    {
     "name": "stderr",
     "output_type": "stream",
     "text": [
      "100%|█████████████████████████████████████████████████████████████████████████████| 7200/7200 [00:08<00:00, 825.31it/s]\n"
     ]
    }
   ],
   "source": [
    "dic2 = createSecondDic(data,dic1)"
   ]
  },
  {
   "cell_type": "code",
   "execution_count": 15,
   "metadata": {},
   "outputs": [],
   "source": [
    "def save_dic(dic, name):\n",
    "    with open(f'{name}.pkl', 'wb') as f:\n",
    "        pickle.dump(dic, f)"
   ]
  },
  {
   "cell_type": "code",
   "execution_count": 6,
   "metadata": {},
   "outputs": [],
   "source": [
    "def read_dic(name):\n",
    "    with open(f'{name}.pkl', 'rb') as f:\n",
    "        loaded_dict = pickle.load(f)\n",
    "        return loaded_dict"
   ]
  },
  {
   "cell_type": "code",
   "execution_count": 7,
   "metadata": {},
   "outputs": [
    {
     "ename": "NameError",
     "evalue": "name 'save_dic' is not defined",
     "output_type": "error",
     "traceback": [
      "\u001b[1;31m---------------------------------------------------------------------------\u001b[0m",
      "\u001b[1;31mNameError\u001b[0m                                 Traceback (most recent call last)",
      "Input \u001b[1;32mIn [7]\u001b[0m, in \u001b[0;36m<cell line: 1>\u001b[1;34m()\u001b[0m\n\u001b[1;32m----> 1\u001b[0m \u001b[43msave_dic\u001b[49m(dic1,\u001b[38;5;124m\"\u001b[39m\u001b[38;5;124mdic1\u001b[39m\u001b[38;5;124m\"\u001b[39m)\n\u001b[0;32m      2\u001b[0m save_dic(dic2,\u001b[38;5;124m\"\u001b[39m\u001b[38;5;124mdic2\u001b[39m\u001b[38;5;124m\"\u001b[39m)\n",
      "\u001b[1;31mNameError\u001b[0m: name 'save_dic' is not defined"
     ]
    }
   ],
   "source": [
    "save_dic(dic1,\"dic1\")\n",
    "save_dic(dic2,\"dic2\")"
   ]
  },
  {
   "cell_type": "code",
   "execution_count": 8,
   "metadata": {},
   "outputs": [],
   "source": [
    "dic1 = read_dic(\"dic1\")\n",
    "dic2 = read_dic(\"dic2\")"
   ]
  },
  {
   "cell_type": "markdown",
   "metadata": {},
   "source": [
    "## 2.1 Execute the query"
   ]
  },
  {
   "cell_type": "code",
   "execution_count": 9,
   "metadata": {},
   "outputs": [],
   "source": [
    "def query(list):\n",
    "    s = dic2[dic1[list[0]]]\n",
    "    for x in range(1, len(list)):\n",
    "        s.intersection(dic2[dic1[list[x]]])\n",
    "    return s"
   ]
  },
  {
   "cell_type": "code",
   "execution_count": null,
   "metadata": {},
   "outputs": [],
   "source": [
    "s = query([\"class\", \"including\"])\n",
    "\n",
    "res_query = data[data['placeName'].isin(list(s))]"
   ]
  },
  {
   "cell_type": "code",
   "execution_count": null,
   "metadata": {},
   "outputs": [],
   "source": [
    "res_query.head()"
   ]
  },
  {
   "cell_type": "markdown",
   "metadata": {},
   "source": [
    "## 2.2 Conjunctive query & Ranking score"
   ]
  },
  {
   "cell_type": "code",
   "execution_count": 9,
   "metadata": {},
   "outputs": [],
   "source": [
    "def stem_text(txt):\n",
    "    return [word for word in txt.split(' ')]"
   ]
  },
  {
   "cell_type": "code",
   "execution_count": 10,
   "metadata": {},
   "outputs": [],
   "source": [
    "from sklearn.feature_extraction.text import CountVectorizer, TfidfVectorizer"
   ]
  },
  {
   "cell_type": "code",
   "execution_count": 11,
   "metadata": {},
   "outputs": [],
   "source": [
    "data['list_words'] = data.placeDesc.apply(lambda row: stem_text(row))"
   ]
  },
  {
   "cell_type": "code",
   "execution_count": 11,
   "metadata": {},
   "outputs": [
    {
     "name": "stdout",
     "output_type": "stream",
     "text": [
      "(7200, 38574)\n"
     ]
    },
    {
     "name": "stderr",
     "output_type": "stream",
     "text": [
      "C:\\Users\\auror\\anaconda3\\lib\\site-packages\\sklearn\\utils\\deprecation.py:87: FutureWarning: Function get_feature_names is deprecated; get_feature_names is deprecated in 1.0 and will be removed in 1.2. Please use get_feature_names_out instead.\n",
      "  warnings.warn(msg, category=FutureWarning)\n"
     ]
    },
    {
     "data": {
      "text/html": [
       "<div>\n",
       "<style scoped>\n",
       "    .dataframe tbody tr th:only-of-type {\n",
       "        vertical-align: middle;\n",
       "    }\n",
       "\n",
       "    .dataframe tbody tr th {\n",
       "        vertical-align: top;\n",
       "    }\n",
       "\n",
       "    .dataframe thead th {\n",
       "        text-align: right;\n",
       "    }\n",
       "</style>\n",
       "<table border=\"1\" class=\"dataframe\">\n",
       "  <thead>\n",
       "    <tr style=\"text-align: right;\">\n",
       "      <th></th>\n",
       "      <th>aa</th>\n",
       "      <th>aaa</th>\n",
       "      <th>aaaaawwwwww</th>\n",
       "      <th>aaf</th>\n",
       "      <th>aak</th>\n",
       "      <th>aalborg</th>\n",
       "      <th>aan</th>\n",
       "      <th>aarhu</th>\n",
       "      <th>aaron</th>\n",
       "      <th>aarti</th>\n",
       "      <th>...</th>\n",
       "      <th>дское</th>\n",
       "      <th>за</th>\n",
       "      <th>ма</th>\n",
       "      <th>родину</th>\n",
       "      <th>сло</th>\n",
       "      <th>万里长城</th>\n",
       "      <th>奥武島</th>\n",
       "      <th>猫神社</th>\n",
       "      <th>畳石</th>\n",
       "      <th>高徳院</th>\n",
       "    </tr>\n",
       "  </thead>\n",
       "  <tbody>\n",
       "    <tr>\n",
       "      <th>0</th>\n",
       "      <td>0.0</td>\n",
       "      <td>0.0</td>\n",
       "      <td>0.0</td>\n",
       "      <td>0.0</td>\n",
       "      <td>0.0</td>\n",
       "      <td>0.0</td>\n",
       "      <td>0.0</td>\n",
       "      <td>0.0</td>\n",
       "      <td>0.0</td>\n",
       "      <td>0.0</td>\n",
       "      <td>...</td>\n",
       "      <td>0.0</td>\n",
       "      <td>0.0</td>\n",
       "      <td>0.0</td>\n",
       "      <td>0.0</td>\n",
       "      <td>0.0</td>\n",
       "      <td>0.0</td>\n",
       "      <td>0.0</td>\n",
       "      <td>0.0</td>\n",
       "      <td>0.0</td>\n",
       "      <td>0.0</td>\n",
       "    </tr>\n",
       "    <tr>\n",
       "      <th>1</th>\n",
       "      <td>0.0</td>\n",
       "      <td>0.0</td>\n",
       "      <td>0.0</td>\n",
       "      <td>0.0</td>\n",
       "      <td>0.0</td>\n",
       "      <td>0.0</td>\n",
       "      <td>0.0</td>\n",
       "      <td>0.0</td>\n",
       "      <td>0.0</td>\n",
       "      <td>0.0</td>\n",
       "      <td>...</td>\n",
       "      <td>0.0</td>\n",
       "      <td>0.0</td>\n",
       "      <td>0.0</td>\n",
       "      <td>0.0</td>\n",
       "      <td>0.0</td>\n",
       "      <td>0.0</td>\n",
       "      <td>0.0</td>\n",
       "      <td>0.0</td>\n",
       "      <td>0.0</td>\n",
       "      <td>0.0</td>\n",
       "    </tr>\n",
       "    <tr>\n",
       "      <th>2</th>\n",
       "      <td>0.0</td>\n",
       "      <td>0.0</td>\n",
       "      <td>0.0</td>\n",
       "      <td>0.0</td>\n",
       "      <td>0.0</td>\n",
       "      <td>0.0</td>\n",
       "      <td>0.0</td>\n",
       "      <td>0.0</td>\n",
       "      <td>0.0</td>\n",
       "      <td>0.0</td>\n",
       "      <td>...</td>\n",
       "      <td>0.0</td>\n",
       "      <td>0.0</td>\n",
       "      <td>0.0</td>\n",
       "      <td>0.0</td>\n",
       "      <td>0.0</td>\n",
       "      <td>0.0</td>\n",
       "      <td>0.0</td>\n",
       "      <td>0.0</td>\n",
       "      <td>0.0</td>\n",
       "      <td>0.0</td>\n",
       "    </tr>\n",
       "    <tr>\n",
       "      <th>3</th>\n",
       "      <td>0.0</td>\n",
       "      <td>0.0</td>\n",
       "      <td>0.0</td>\n",
       "      <td>0.0</td>\n",
       "      <td>0.0</td>\n",
       "      <td>0.0</td>\n",
       "      <td>0.0</td>\n",
       "      <td>0.0</td>\n",
       "      <td>0.0</td>\n",
       "      <td>0.0</td>\n",
       "      <td>...</td>\n",
       "      <td>0.0</td>\n",
       "      <td>0.0</td>\n",
       "      <td>0.0</td>\n",
       "      <td>0.0</td>\n",
       "      <td>0.0</td>\n",
       "      <td>0.0</td>\n",
       "      <td>0.0</td>\n",
       "      <td>0.0</td>\n",
       "      <td>0.0</td>\n",
       "      <td>0.0</td>\n",
       "    </tr>\n",
       "    <tr>\n",
       "      <th>4</th>\n",
       "      <td>0.0</td>\n",
       "      <td>0.0</td>\n",
       "      <td>0.0</td>\n",
       "      <td>0.0</td>\n",
       "      <td>0.0</td>\n",
       "      <td>0.0</td>\n",
       "      <td>0.0</td>\n",
       "      <td>0.0</td>\n",
       "      <td>0.0</td>\n",
       "      <td>0.0</td>\n",
       "      <td>...</td>\n",
       "      <td>0.0</td>\n",
       "      <td>0.0</td>\n",
       "      <td>0.0</td>\n",
       "      <td>0.0</td>\n",
       "      <td>0.0</td>\n",
       "      <td>0.0</td>\n",
       "      <td>0.0</td>\n",
       "      <td>0.0</td>\n",
       "      <td>0.0</td>\n",
       "      <td>0.0</td>\n",
       "    </tr>\n",
       "    <tr>\n",
       "      <th>...</th>\n",
       "      <td>...</td>\n",
       "      <td>...</td>\n",
       "      <td>...</td>\n",
       "      <td>...</td>\n",
       "      <td>...</td>\n",
       "      <td>...</td>\n",
       "      <td>...</td>\n",
       "      <td>...</td>\n",
       "      <td>...</td>\n",
       "      <td>...</td>\n",
       "      <td>...</td>\n",
       "      <td>...</td>\n",
       "      <td>...</td>\n",
       "      <td>...</td>\n",
       "      <td>...</td>\n",
       "      <td>...</td>\n",
       "      <td>...</td>\n",
       "      <td>...</td>\n",
       "      <td>...</td>\n",
       "      <td>...</td>\n",
       "      <td>...</td>\n",
       "    </tr>\n",
       "    <tr>\n",
       "      <th>7195</th>\n",
       "      <td>0.0</td>\n",
       "      <td>0.0</td>\n",
       "      <td>0.0</td>\n",
       "      <td>0.0</td>\n",
       "      <td>0.0</td>\n",
       "      <td>0.0</td>\n",
       "      <td>0.0</td>\n",
       "      <td>0.0</td>\n",
       "      <td>0.0</td>\n",
       "      <td>0.0</td>\n",
       "      <td>...</td>\n",
       "      <td>0.0</td>\n",
       "      <td>0.0</td>\n",
       "      <td>0.0</td>\n",
       "      <td>0.0</td>\n",
       "      <td>0.0</td>\n",
       "      <td>0.0</td>\n",
       "      <td>0.0</td>\n",
       "      <td>0.0</td>\n",
       "      <td>0.0</td>\n",
       "      <td>0.0</td>\n",
       "    </tr>\n",
       "    <tr>\n",
       "      <th>7196</th>\n",
       "      <td>0.0</td>\n",
       "      <td>0.0</td>\n",
       "      <td>0.0</td>\n",
       "      <td>0.0</td>\n",
       "      <td>0.0</td>\n",
       "      <td>0.0</td>\n",
       "      <td>0.0</td>\n",
       "      <td>0.0</td>\n",
       "      <td>0.0</td>\n",
       "      <td>0.0</td>\n",
       "      <td>...</td>\n",
       "      <td>0.0</td>\n",
       "      <td>0.0</td>\n",
       "      <td>0.0</td>\n",
       "      <td>0.0</td>\n",
       "      <td>0.0</td>\n",
       "      <td>0.0</td>\n",
       "      <td>0.0</td>\n",
       "      <td>0.0</td>\n",
       "      <td>0.0</td>\n",
       "      <td>0.0</td>\n",
       "    </tr>\n",
       "    <tr>\n",
       "      <th>7197</th>\n",
       "      <td>0.0</td>\n",
       "      <td>0.0</td>\n",
       "      <td>0.0</td>\n",
       "      <td>0.0</td>\n",
       "      <td>0.0</td>\n",
       "      <td>0.0</td>\n",
       "      <td>0.0</td>\n",
       "      <td>0.0</td>\n",
       "      <td>0.0</td>\n",
       "      <td>0.0</td>\n",
       "      <td>...</td>\n",
       "      <td>0.0</td>\n",
       "      <td>0.0</td>\n",
       "      <td>0.0</td>\n",
       "      <td>0.0</td>\n",
       "      <td>0.0</td>\n",
       "      <td>0.0</td>\n",
       "      <td>0.0</td>\n",
       "      <td>0.0</td>\n",
       "      <td>0.0</td>\n",
       "      <td>0.0</td>\n",
       "    </tr>\n",
       "    <tr>\n",
       "      <th>7198</th>\n",
       "      <td>0.0</td>\n",
       "      <td>0.0</td>\n",
       "      <td>0.0</td>\n",
       "      <td>0.0</td>\n",
       "      <td>0.0</td>\n",
       "      <td>0.0</td>\n",
       "      <td>0.0</td>\n",
       "      <td>0.0</td>\n",
       "      <td>0.0</td>\n",
       "      <td>0.0</td>\n",
       "      <td>...</td>\n",
       "      <td>0.0</td>\n",
       "      <td>0.0</td>\n",
       "      <td>0.0</td>\n",
       "      <td>0.0</td>\n",
       "      <td>0.0</td>\n",
       "      <td>0.0</td>\n",
       "      <td>0.0</td>\n",
       "      <td>0.0</td>\n",
       "      <td>0.0</td>\n",
       "      <td>0.0</td>\n",
       "    </tr>\n",
       "    <tr>\n",
       "      <th>7199</th>\n",
       "      <td>0.0</td>\n",
       "      <td>0.0</td>\n",
       "      <td>0.0</td>\n",
       "      <td>0.0</td>\n",
       "      <td>0.0</td>\n",
       "      <td>0.0</td>\n",
       "      <td>0.0</td>\n",
       "      <td>0.0</td>\n",
       "      <td>0.0</td>\n",
       "      <td>0.0</td>\n",
       "      <td>...</td>\n",
       "      <td>0.0</td>\n",
       "      <td>0.0</td>\n",
       "      <td>0.0</td>\n",
       "      <td>0.0</td>\n",
       "      <td>0.0</td>\n",
       "      <td>0.0</td>\n",
       "      <td>0.0</td>\n",
       "      <td>0.0</td>\n",
       "      <td>0.0</td>\n",
       "      <td>0.0</td>\n",
       "    </tr>\n",
       "  </tbody>\n",
       "</table>\n",
       "<p>7200 rows × 38574 columns</p>\n",
       "</div>"
      ],
      "text/plain": [
       "       aa  aaa  aaaaawwwwww  aaf  aak  aalborg  aan  aarhu  aaron  aarti  ...  \\\n",
       "0     0.0  0.0          0.0  0.0  0.0      0.0  0.0    0.0    0.0    0.0  ...   \n",
       "1     0.0  0.0          0.0  0.0  0.0      0.0  0.0    0.0    0.0    0.0  ...   \n",
       "2     0.0  0.0          0.0  0.0  0.0      0.0  0.0    0.0    0.0    0.0  ...   \n",
       "3     0.0  0.0          0.0  0.0  0.0      0.0  0.0    0.0    0.0    0.0  ...   \n",
       "4     0.0  0.0          0.0  0.0  0.0      0.0  0.0    0.0    0.0    0.0  ...   \n",
       "...   ...  ...          ...  ...  ...      ...  ...    ...    ...    ...  ...   \n",
       "7195  0.0  0.0          0.0  0.0  0.0      0.0  0.0    0.0    0.0    0.0  ...   \n",
       "7196  0.0  0.0          0.0  0.0  0.0      0.0  0.0    0.0    0.0    0.0  ...   \n",
       "7197  0.0  0.0          0.0  0.0  0.0      0.0  0.0    0.0    0.0    0.0  ...   \n",
       "7198  0.0  0.0          0.0  0.0  0.0      0.0  0.0    0.0    0.0    0.0  ...   \n",
       "7199  0.0  0.0          0.0  0.0  0.0      0.0  0.0    0.0    0.0    0.0  ...   \n",
       "\n",
       "      дское   за   ма  родину  сло  万里长城  奥武島  猫神社   畳石  高徳院  \n",
       "0       0.0  0.0  0.0     0.0  0.0   0.0  0.0  0.0  0.0  0.0  \n",
       "1       0.0  0.0  0.0     0.0  0.0   0.0  0.0  0.0  0.0  0.0  \n",
       "2       0.0  0.0  0.0     0.0  0.0   0.0  0.0  0.0  0.0  0.0  \n",
       "3       0.0  0.0  0.0     0.0  0.0   0.0  0.0  0.0  0.0  0.0  \n",
       "4       0.0  0.0  0.0     0.0  0.0   0.0  0.0  0.0  0.0  0.0  \n",
       "...     ...  ...  ...     ...  ...   ...  ...  ...  ...  ...  \n",
       "7195    0.0  0.0  0.0     0.0  0.0   0.0  0.0  0.0  0.0  0.0  \n",
       "7196    0.0  0.0  0.0     0.0  0.0   0.0  0.0  0.0  0.0  0.0  \n",
       "7197    0.0  0.0  0.0     0.0  0.0   0.0  0.0  0.0  0.0  0.0  \n",
       "7198    0.0  0.0  0.0     0.0  0.0   0.0  0.0  0.0  0.0  0.0  \n",
       "7199    0.0  0.0  0.0     0.0  0.0   0.0  0.0  0.0  0.0  0.0  \n",
       "\n",
       "[7200 rows x 38574 columns]"
      ]
     },
     "execution_count": 11,
     "metadata": {},
     "output_type": "execute_result"
    }
   ],
   "source": [
    "vectorizer = TfidfVectorizer(use_idf=True)\n",
    "x =vectorizer.fit_transform(data.cleanDesc).todense()\n",
    "df = pd.DataFrame(x, columns = vectorizer.get_feature_names())\n",
    "print(df.shape)\n",
    "df"
   ]
  },
  {
   "cell_type": "code",
   "execution_count": 12,
   "metadata": {
    "scrolled": true
   },
   "outputs": [
    {
     "name": "stdout",
     "output_type": "stream",
     "text": [
      "(7200, 38574)\n"
     ]
    },
    {
     "name": "stderr",
     "output_type": "stream",
     "text": [
      "C:\\Users\\auror\\anaconda3\\lib\\site-packages\\sklearn\\utils\\deprecation.py:87: FutureWarning: Function get_feature_names is deprecated; get_feature_names is deprecated in 1.0 and will be removed in 1.2. Please use get_feature_names_out instead.\n",
      "  warnings.warn(msg, category=FutureWarning)\n"
     ]
    },
    {
     "data": {
      "text/html": [
       "<div>\n",
       "<style scoped>\n",
       "    .dataframe tbody tr th:only-of-type {\n",
       "        vertical-align: middle;\n",
       "    }\n",
       "\n",
       "    .dataframe tbody tr th {\n",
       "        vertical-align: top;\n",
       "    }\n",
       "\n",
       "    .dataframe thead th {\n",
       "        text-align: right;\n",
       "    }\n",
       "</style>\n",
       "<table border=\"1\" class=\"dataframe\">\n",
       "  <thead>\n",
       "    <tr style=\"text-align: right;\">\n",
       "      <th></th>\n",
       "      <th>aa</th>\n",
       "      <th>aaa</th>\n",
       "      <th>aaaaawwwwww</th>\n",
       "      <th>aaf</th>\n",
       "      <th>aak</th>\n",
       "      <th>aalborg</th>\n",
       "      <th>aan</th>\n",
       "      <th>aarhu</th>\n",
       "      <th>aaron</th>\n",
       "      <th>aarti</th>\n",
       "      <th>...</th>\n",
       "      <th>дское</th>\n",
       "      <th>за</th>\n",
       "      <th>ма</th>\n",
       "      <th>родину</th>\n",
       "      <th>сло</th>\n",
       "      <th>万里长城</th>\n",
       "      <th>奥武島</th>\n",
       "      <th>猫神社</th>\n",
       "      <th>畳石</th>\n",
       "      <th>高徳院</th>\n",
       "    </tr>\n",
       "  </thead>\n",
       "  <tbody>\n",
       "    <tr>\n",
       "      <th>0</th>\n",
       "      <td>0.0</td>\n",
       "      <td>0.0</td>\n",
       "      <td>0.0</td>\n",
       "      <td>0.0</td>\n",
       "      <td>0.0</td>\n",
       "      <td>0.0</td>\n",
       "      <td>0.0</td>\n",
       "      <td>0.0</td>\n",
       "      <td>0.0</td>\n",
       "      <td>0.0</td>\n",
       "      <td>...</td>\n",
       "      <td>0.0</td>\n",
       "      <td>0.0</td>\n",
       "      <td>0.0</td>\n",
       "      <td>0.0</td>\n",
       "      <td>0.0</td>\n",
       "      <td>0.0</td>\n",
       "      <td>0.0</td>\n",
       "      <td>0.0</td>\n",
       "      <td>0.0</td>\n",
       "      <td>0.0</td>\n",
       "    </tr>\n",
       "    <tr>\n",
       "      <th>1</th>\n",
       "      <td>0.0</td>\n",
       "      <td>0.0</td>\n",
       "      <td>0.0</td>\n",
       "      <td>0.0</td>\n",
       "      <td>0.0</td>\n",
       "      <td>0.0</td>\n",
       "      <td>0.0</td>\n",
       "      <td>0.0</td>\n",
       "      <td>0.0</td>\n",
       "      <td>0.0</td>\n",
       "      <td>...</td>\n",
       "      <td>0.0</td>\n",
       "      <td>0.0</td>\n",
       "      <td>0.0</td>\n",
       "      <td>0.0</td>\n",
       "      <td>0.0</td>\n",
       "      <td>0.0</td>\n",
       "      <td>0.0</td>\n",
       "      <td>0.0</td>\n",
       "      <td>0.0</td>\n",
       "      <td>0.0</td>\n",
       "    </tr>\n",
       "    <tr>\n",
       "      <th>2</th>\n",
       "      <td>0.0</td>\n",
       "      <td>0.0</td>\n",
       "      <td>0.0</td>\n",
       "      <td>0.0</td>\n",
       "      <td>0.0</td>\n",
       "      <td>0.0</td>\n",
       "      <td>0.0</td>\n",
       "      <td>0.0</td>\n",
       "      <td>0.0</td>\n",
       "      <td>0.0</td>\n",
       "      <td>...</td>\n",
       "      <td>0.0</td>\n",
       "      <td>0.0</td>\n",
       "      <td>0.0</td>\n",
       "      <td>0.0</td>\n",
       "      <td>0.0</td>\n",
       "      <td>0.0</td>\n",
       "      <td>0.0</td>\n",
       "      <td>0.0</td>\n",
       "      <td>0.0</td>\n",
       "      <td>0.0</td>\n",
       "    </tr>\n",
       "    <tr>\n",
       "      <th>3</th>\n",
       "      <td>0.0</td>\n",
       "      <td>0.0</td>\n",
       "      <td>0.0</td>\n",
       "      <td>0.0</td>\n",
       "      <td>0.0</td>\n",
       "      <td>0.0</td>\n",
       "      <td>0.0</td>\n",
       "      <td>0.0</td>\n",
       "      <td>0.0</td>\n",
       "      <td>0.0</td>\n",
       "      <td>...</td>\n",
       "      <td>0.0</td>\n",
       "      <td>0.0</td>\n",
       "      <td>0.0</td>\n",
       "      <td>0.0</td>\n",
       "      <td>0.0</td>\n",
       "      <td>0.0</td>\n",
       "      <td>0.0</td>\n",
       "      <td>0.0</td>\n",
       "      <td>0.0</td>\n",
       "      <td>0.0</td>\n",
       "    </tr>\n",
       "    <tr>\n",
       "      <th>4</th>\n",
       "      <td>0.0</td>\n",
       "      <td>0.0</td>\n",
       "      <td>0.0</td>\n",
       "      <td>0.0</td>\n",
       "      <td>0.0</td>\n",
       "      <td>0.0</td>\n",
       "      <td>0.0</td>\n",
       "      <td>0.0</td>\n",
       "      <td>0.0</td>\n",
       "      <td>0.0</td>\n",
       "      <td>...</td>\n",
       "      <td>0.0</td>\n",
       "      <td>0.0</td>\n",
       "      <td>0.0</td>\n",
       "      <td>0.0</td>\n",
       "      <td>0.0</td>\n",
       "      <td>0.0</td>\n",
       "      <td>0.0</td>\n",
       "      <td>0.0</td>\n",
       "      <td>0.0</td>\n",
       "      <td>0.0</td>\n",
       "    </tr>\n",
       "    <tr>\n",
       "      <th>...</th>\n",
       "      <td>...</td>\n",
       "      <td>...</td>\n",
       "      <td>...</td>\n",
       "      <td>...</td>\n",
       "      <td>...</td>\n",
       "      <td>...</td>\n",
       "      <td>...</td>\n",
       "      <td>...</td>\n",
       "      <td>...</td>\n",
       "      <td>...</td>\n",
       "      <td>...</td>\n",
       "      <td>...</td>\n",
       "      <td>...</td>\n",
       "      <td>...</td>\n",
       "      <td>...</td>\n",
       "      <td>...</td>\n",
       "      <td>...</td>\n",
       "      <td>...</td>\n",
       "      <td>...</td>\n",
       "      <td>...</td>\n",
       "      <td>...</td>\n",
       "    </tr>\n",
       "    <tr>\n",
       "      <th>7195</th>\n",
       "      <td>0.0</td>\n",
       "      <td>0.0</td>\n",
       "      <td>0.0</td>\n",
       "      <td>0.0</td>\n",
       "      <td>0.0</td>\n",
       "      <td>0.0</td>\n",
       "      <td>0.0</td>\n",
       "      <td>0.0</td>\n",
       "      <td>0.0</td>\n",
       "      <td>0.0</td>\n",
       "      <td>...</td>\n",
       "      <td>0.0</td>\n",
       "      <td>0.0</td>\n",
       "      <td>0.0</td>\n",
       "      <td>0.0</td>\n",
       "      <td>0.0</td>\n",
       "      <td>0.0</td>\n",
       "      <td>0.0</td>\n",
       "      <td>0.0</td>\n",
       "      <td>0.0</td>\n",
       "      <td>0.0</td>\n",
       "    </tr>\n",
       "    <tr>\n",
       "      <th>7196</th>\n",
       "      <td>0.0</td>\n",
       "      <td>0.0</td>\n",
       "      <td>0.0</td>\n",
       "      <td>0.0</td>\n",
       "      <td>0.0</td>\n",
       "      <td>0.0</td>\n",
       "      <td>0.0</td>\n",
       "      <td>0.0</td>\n",
       "      <td>0.0</td>\n",
       "      <td>0.0</td>\n",
       "      <td>...</td>\n",
       "      <td>0.0</td>\n",
       "      <td>0.0</td>\n",
       "      <td>0.0</td>\n",
       "      <td>0.0</td>\n",
       "      <td>0.0</td>\n",
       "      <td>0.0</td>\n",
       "      <td>0.0</td>\n",
       "      <td>0.0</td>\n",
       "      <td>0.0</td>\n",
       "      <td>0.0</td>\n",
       "    </tr>\n",
       "    <tr>\n",
       "      <th>7197</th>\n",
       "      <td>0.0</td>\n",
       "      <td>0.0</td>\n",
       "      <td>0.0</td>\n",
       "      <td>0.0</td>\n",
       "      <td>0.0</td>\n",
       "      <td>0.0</td>\n",
       "      <td>0.0</td>\n",
       "      <td>0.0</td>\n",
       "      <td>0.0</td>\n",
       "      <td>0.0</td>\n",
       "      <td>...</td>\n",
       "      <td>0.0</td>\n",
       "      <td>0.0</td>\n",
       "      <td>0.0</td>\n",
       "      <td>0.0</td>\n",
       "      <td>0.0</td>\n",
       "      <td>0.0</td>\n",
       "      <td>0.0</td>\n",
       "      <td>0.0</td>\n",
       "      <td>0.0</td>\n",
       "      <td>0.0</td>\n",
       "    </tr>\n",
       "    <tr>\n",
       "      <th>7198</th>\n",
       "      <td>0.0</td>\n",
       "      <td>0.0</td>\n",
       "      <td>0.0</td>\n",
       "      <td>0.0</td>\n",
       "      <td>0.0</td>\n",
       "      <td>0.0</td>\n",
       "      <td>0.0</td>\n",
       "      <td>0.0</td>\n",
       "      <td>0.0</td>\n",
       "      <td>0.0</td>\n",
       "      <td>...</td>\n",
       "      <td>0.0</td>\n",
       "      <td>0.0</td>\n",
       "      <td>0.0</td>\n",
       "      <td>0.0</td>\n",
       "      <td>0.0</td>\n",
       "      <td>0.0</td>\n",
       "      <td>0.0</td>\n",
       "      <td>0.0</td>\n",
       "      <td>0.0</td>\n",
       "      <td>0.0</td>\n",
       "    </tr>\n",
       "    <tr>\n",
       "      <th>7199</th>\n",
       "      <td>0.0</td>\n",
       "      <td>0.0</td>\n",
       "      <td>0.0</td>\n",
       "      <td>0.0</td>\n",
       "      <td>0.0</td>\n",
       "      <td>0.0</td>\n",
       "      <td>0.0</td>\n",
       "      <td>0.0</td>\n",
       "      <td>0.0</td>\n",
       "      <td>0.0</td>\n",
       "      <td>...</td>\n",
       "      <td>0.0</td>\n",
       "      <td>0.0</td>\n",
       "      <td>0.0</td>\n",
       "      <td>0.0</td>\n",
       "      <td>0.0</td>\n",
       "      <td>0.0</td>\n",
       "      <td>0.0</td>\n",
       "      <td>0.0</td>\n",
       "      <td>0.0</td>\n",
       "      <td>0.0</td>\n",
       "    </tr>\n",
       "  </tbody>\n",
       "</table>\n",
       "<p>7200 rows × 38574 columns</p>\n",
       "</div>"
      ],
      "text/plain": [
       "       aa  aaa  aaaaawwwwww  aaf  aak  aalborg  aan  aarhu  aaron  aarti  ...  \\\n",
       "0     0.0  0.0          0.0  0.0  0.0      0.0  0.0    0.0    0.0    0.0  ...   \n",
       "1     0.0  0.0          0.0  0.0  0.0      0.0  0.0    0.0    0.0    0.0  ...   \n",
       "2     0.0  0.0          0.0  0.0  0.0      0.0  0.0    0.0    0.0    0.0  ...   \n",
       "3     0.0  0.0          0.0  0.0  0.0      0.0  0.0    0.0    0.0    0.0  ...   \n",
       "4     0.0  0.0          0.0  0.0  0.0      0.0  0.0    0.0    0.0    0.0  ...   \n",
       "...   ...  ...          ...  ...  ...      ...  ...    ...    ...    ...  ...   \n",
       "7195  0.0  0.0          0.0  0.0  0.0      0.0  0.0    0.0    0.0    0.0  ...   \n",
       "7196  0.0  0.0          0.0  0.0  0.0      0.0  0.0    0.0    0.0    0.0  ...   \n",
       "7197  0.0  0.0          0.0  0.0  0.0      0.0  0.0    0.0    0.0    0.0  ...   \n",
       "7198  0.0  0.0          0.0  0.0  0.0      0.0  0.0    0.0    0.0    0.0  ...   \n",
       "7199  0.0  0.0          0.0  0.0  0.0      0.0  0.0    0.0    0.0    0.0  ...   \n",
       "\n",
       "      дское   за   ма  родину  сло  万里长城  奥武島  猫神社   畳石  高徳院  \n",
       "0       0.0  0.0  0.0     0.0  0.0   0.0  0.0  0.0  0.0  0.0  \n",
       "1       0.0  0.0  0.0     0.0  0.0   0.0  0.0  0.0  0.0  0.0  \n",
       "2       0.0  0.0  0.0     0.0  0.0   0.0  0.0  0.0  0.0  0.0  \n",
       "3       0.0  0.0  0.0     0.0  0.0   0.0  0.0  0.0  0.0  0.0  \n",
       "4       0.0  0.0  0.0     0.0  0.0   0.0  0.0  0.0  0.0  0.0  \n",
       "...     ...  ...  ...     ...  ...   ...  ...  ...  ...  ...  \n",
       "7195    0.0  0.0  0.0     0.0  0.0   0.0  0.0  0.0  0.0  0.0  \n",
       "7196    0.0  0.0  0.0     0.0  0.0   0.0  0.0  0.0  0.0  0.0  \n",
       "7197    0.0  0.0  0.0     0.0  0.0   0.0  0.0  0.0  0.0  0.0  \n",
       "7198    0.0  0.0  0.0     0.0  0.0   0.0  0.0  0.0  0.0  0.0  \n",
       "7199    0.0  0.0  0.0     0.0  0.0   0.0  0.0  0.0  0.0  0.0  \n",
       "\n",
       "[7200 rows x 38574 columns]"
      ]
     },
     "execution_count": 12,
     "metadata": {},
     "output_type": "execute_result"
    }
   ],
   "source": [
    "vectorizer = TfidfVectorizer(use_idf=True, analyzer='word', sublinear_tf=True)\n",
    "x =vectorizer.fit_transform(data.cleanDesc).todense()\n",
    "df = pd.DataFrame(x, columns = vectorizer.get_feature_names())\n",
    "print(df.shape)\n",
    "df"
   ]
  },
  {
   "cell_type": "code",
   "execution_count": null,
   "metadata": {},
   "outputs": [],
   "source": []
  },
  {
   "cell_type": "code",
   "execution_count": 26,
   "metadata": {},
   "outputs": [],
   "source": [
    "def createInvertedIndex(data, dic1, df):\n",
    "    dic3 = {}\n",
    "    a = 0\n",
    "    for description in tqdm(data[\"cleanDesc\"]):\n",
    "        for word in description.split():\n",
    "            if word in df.columns.values.tolist():\n",
    "                if dic1[word] in dic3.keys():\n",
    "                    dic3[dic1[word]].add((data[\"placeName\"][a], df[word][a]))\n",
    "                else:\n",
    "                    dic3[dic1[word]] = set((data[\"placeName\"][a], df[word][a]))\n",
    "        a += 1\n",
    "    return dic3"
   ]
  },
  {
   "cell_type": "code",
   "execution_count": 27,
   "metadata": {},
   "outputs": [
    {
     "name": "stderr",
     "output_type": "stream",
     "text": [
      " 11%|████████▌                                                                      | 782/7200 [03:46<31:01,  3.45it/s]\n"
     ]
    },
    {
     "ename": "KeyboardInterrupt",
     "evalue": "",
     "output_type": "error",
     "traceback": [
      "\u001b[1;31m---------------------------------------------------------------------------\u001b[0m",
      "\u001b[1;31mKeyboardInterrupt\u001b[0m                         Traceback (most recent call last)",
      "Input \u001b[1;32mIn [27]\u001b[0m, in \u001b[0;36m<cell line: 1>\u001b[1;34m()\u001b[0m\n\u001b[1;32m----> 1\u001b[0m dic3 \u001b[38;5;241m=\u001b[39m \u001b[43mcreateInvertedIndex\u001b[49m\u001b[43m(\u001b[49m\u001b[43mdata\u001b[49m\u001b[43m,\u001b[49m\u001b[43m \u001b[49m\u001b[43mdic1\u001b[49m\u001b[43m,\u001b[49m\u001b[43m \u001b[49m\u001b[43mdf\u001b[49m\u001b[43m)\u001b[49m\n",
      "Input \u001b[1;32mIn [26]\u001b[0m, in \u001b[0;36mcreateInvertedIndex\u001b[1;34m(data, dic1, df)\u001b[0m\n\u001b[0;32m      5\u001b[0m \u001b[38;5;28;01mfor\u001b[39;00m word \u001b[38;5;129;01min\u001b[39;00m description\u001b[38;5;241m.\u001b[39msplit():\n\u001b[0;32m      6\u001b[0m     \u001b[38;5;28;01mif\u001b[39;00m word \u001b[38;5;129;01min\u001b[39;00m df\u001b[38;5;241m.\u001b[39mcolumns\u001b[38;5;241m.\u001b[39mvalues\u001b[38;5;241m.\u001b[39mtolist():\n\u001b[1;32m----> 7\u001b[0m         \u001b[38;5;28;01mif\u001b[39;00m \u001b[43mdic1\u001b[49m\u001b[43m[\u001b[49m\u001b[43mword\u001b[49m\u001b[43m]\u001b[49m \u001b[38;5;129;01min\u001b[39;00m dic3\u001b[38;5;241m.\u001b[39mkeys():\n\u001b[0;32m      8\u001b[0m             dic3[dic1[word]]\u001b[38;5;241m.\u001b[39madd((data[\u001b[38;5;124m\"\u001b[39m\u001b[38;5;124mplaceName\u001b[39m\u001b[38;5;124m\"\u001b[39m][a], df[word][a]))\n\u001b[0;32m      9\u001b[0m         \u001b[38;5;28;01melse\u001b[39;00m:\n",
      "\u001b[1;31mKeyboardInterrupt\u001b[0m: "
     ]
    }
   ],
   "source": [
    "dic3 = createInvertedIndex(data, dic1, df)"
   ]
  },
  {
   "cell_type": "code",
   "execution_count": null,
   "metadata": {},
   "outputs": [],
   "source": [
    "save_dic(dic3, \"dic3\")"
   ]
  },
  {
   "cell_type": "code",
   "execution_count": 13,
   "metadata": {},
   "outputs": [
    {
     "name": "stdout",
     "output_type": "stream",
     "text": [
      "40380\n"
     ]
    }
   ],
   "source": [
    "dic3 = read_dic(\"dic3\")\n",
    "print(len(dic3))"
   ]
  },
  {
   "cell_type": "code",
   "execution_count": 13,
   "metadata": {},
   "outputs": [
    {
     "name": "stdout",
     "output_type": "stream",
     "text": [
      "insert the query that you want to find in the places' descriptions:american museum\n"
     ]
    }
   ],
   "source": [
    "q = input(\"insert the query that you want to find in the places' descriptions:\").split()"
   ]
  },
  {
   "cell_type": "code",
   "execution_count": 15,
   "metadata": {},
   "outputs": [
    {
     "name": "stdout",
     "output_type": "stream",
     "text": [
      "['american', 'museum'] <class 'list'>\n"
     ]
    }
   ],
   "source": [
    "print(q,type(q))"
   ]
  },
  {
   "cell_type": "code",
   "execution_count": 14,
   "metadata": {},
   "outputs": [],
   "source": [
    "s = query(q)"
   ]
  },
  {
   "cell_type": "code",
   "execution_count": 15,
   "metadata": {},
   "outputs": [],
   "source": [
    "res_query = data[data['placeName'].isin(list(s))]"
   ]
  },
  {
   "cell_type": "code",
   "execution_count": 16,
   "metadata": {},
   "outputs": [
    {
     "data": {
      "text/html": [
       "<div>\n",
       "<style scoped>\n",
       "    .dataframe tbody tr th:only-of-type {\n",
       "        vertical-align: middle;\n",
       "    }\n",
       "\n",
       "    .dataframe tbody tr th {\n",
       "        vertical-align: top;\n",
       "    }\n",
       "\n",
       "    .dataframe thead th {\n",
       "        text-align: right;\n",
       "    }\n",
       "</style>\n",
       "<table border=\"1\" class=\"dataframe\">\n",
       "  <thead>\n",
       "    <tr style=\"text-align: right;\">\n",
       "      <th></th>\n",
       "      <th>placeName</th>\n",
       "      <th>placeTags</th>\n",
       "      <th>numPeopleVisited</th>\n",
       "      <th>numPeopleWant</th>\n",
       "      <th>placeDesc</th>\n",
       "      <th>placeShortDesc</th>\n",
       "      <th>placeNearby</th>\n",
       "      <th>placeAdress</th>\n",
       "      <th>placeAlt</th>\n",
       "      <th>placeLong</th>\n",
       "      <th>placeEditors</th>\n",
       "      <th>placePubDate</th>\n",
       "      <th>placeRelatedList</th>\n",
       "      <th>placeRelatedPlace</th>\n",
       "      <th>placeURL</th>\n",
       "      <th>cleanDesc</th>\n",
       "    </tr>\n",
       "  </thead>\n",
       "  <tbody>\n",
       "    <tr>\n",
       "      <th>3</th>\n",
       "      <td>Amityville Horror House</td>\n",
       "      <td>hoaxes and pseudoscience,haunted,film location...</td>\n",
       "      <td>367</td>\n",
       "      <td>831</td>\n",
       "      <td>On a cold November night in 1974, Amityville, ...</td>\n",
       "      <td>The site of a tragic massacre that spawned a m...</td>\n",
       "      <td>The Long Island Puppet Theater,Pilgrim Psychia...</td>\n",
       "      <td>112 Ocean Avenue Amityville, New York, 11701 U...</td>\n",
       "      <td>40.6665</td>\n",
       "      <td>-73.4143</td>\n",
       "      <td>EricGrundhauser,MandrewPatinkin,lendog666,Mart...</td>\n",
       "      <td>2013-10-17 00:00:00</td>\n",
       "      <td>The Long Island Puppet Theater,Fire Island Lig...</td>\n",
       "      <td>Conanicut Island Lighthouse,Lovell Health Hous...</td>\n",
       "      <td>https://www.atlasobscura.com/places/amityville...</td>\n",
       "      <td>cold novemb night  amityvil new york resid ron...</td>\n",
       "    </tr>\n",
       "    <tr>\n",
       "      <th>6</th>\n",
       "      <td>American Prohibition Museum</td>\n",
       "      <td>speakeasies,prohibition,law,food museums,alcoh...</td>\n",
       "      <td>368</td>\n",
       "      <td>832</td>\n",
       "      <td>When the 18th Amendment to the U.S. Constituti...</td>\n",
       "      <td>Performers, intricate sets, and a real speakea...</td>\n",
       "      <td>The Paris Market,Riverside Plant Hotel,The Mar...</td>\n",
       "      <td>209 W. St. Julian Street Savannah, Georgia Uni...</td>\n",
       "      <td>32.0806</td>\n",
       "      <td>-81.0946</td>\n",
       "      <td>Edward Denny,Collector of Experiences,theparan...</td>\n",
       "      <td>2018-11-26 00:00:00</td>\n",
       "      <td>The Paris Market,Riverside Plant Hotel,The Mar...</td>\n",
       "      <td>Booze History Museum,Linos tou Charilaou (Omod...</td>\n",
       "      <td>https://www.atlasobscura.com/places/american-p...</td>\n",
       "      <td>th amend u constitut outlaw alcohol deleteri d...</td>\n",
       "    </tr>\n",
       "    <tr>\n",
       "      <th>13</th>\n",
       "      <td>Wild Blueberry Land</td>\n",
       "      <td>blueberries,maine,miniature golf,theme parks,f...</td>\n",
       "      <td>225</td>\n",
       "      <td>1027</td>\n",
       "      <td>There is no shortage of bizarre American highw...</td>\n",
       "      <td>This colorful theme park dedicated the officia...</td>\n",
       "      <td>Maine Central Model Railroad,Maine Coast Sardi...</td>\n",
       "      <td>1067 US HWY 1 Columbia Falls, Maine United States</td>\n",
       "      <td>44.6487</td>\n",
       "      <td>-67.7069</td>\n",
       "      <td>Lauren J Young,basimonica11,hana</td>\n",
       "      <td>2016-08-16 00:00:00</td>\n",
       "      <td>Maine Central Model Railroad,Nellie Chapin Day...</td>\n",
       "      <td>Sadpol Strawberry,Monticello's Vegetable Garde...</td>\n",
       "      <td>https://www.atlasobscura.com/places/wild-blueb...</td>\n",
       "      <td>shortag bizarr american highway pitstop one sh...</td>\n",
       "    </tr>\n",
       "    <tr>\n",
       "      <th>39</th>\n",
       "      <td>The Avrocar</td>\n",
       "      <td>retro-tech,inventions</td>\n",
       "      <td>387</td>\n",
       "      <td>830</td>\n",
       "      <td>The year was 1952 and the Cold War was in full...</td>\n",
       "      <td>A real flying saucer, contracted by the U.S. A...</td>\n",
       "      <td>National Museum of the U.S. Air Force,SAM 2600...</td>\n",
       "      <td>1100 Spaatz Street Wright-Patterson AFB Dayton...</td>\n",
       "      <td>39.7822</td>\n",
       "      <td>-84.1077</td>\n",
       "      <td>canuck,Kiri the Unicorn,shaunk82,Ahuntley,mord...</td>\n",
       "      <td>2010-07-01 00:00:00</td>\n",
       "      <td>SAM 26000,National Museum of the U.S. Air Forc...</td>\n",
       "      <td>Le Téléscaphe,Edison's Last Breath,Swing at th...</td>\n",
       "      <td>https://www.atlasobscura.com/places/avrocar</td>\n",
       "      <td>year  cold war full chill hous un american act...</td>\n",
       "    </tr>\n",
       "    <tr>\n",
       "      <th>59</th>\n",
       "      <td>Laurel Dinosaur Park</td>\n",
       "      <td>dinosaur parks,bones,dinosaurs,fossils,parks,a...</td>\n",
       "      <td>126</td>\n",
       "      <td>825</td>\n",
       "      <td>During the 18th and 19th centuries, clay forma...</td>\n",
       "      <td>This dig site outside D.C. is known for its ex...</td>\n",
       "      <td>Smokey Bear Archive,On the Brink,Pinball Parlo...</td>\n",
       "      <td>13100 Mid Atlantic Blvd Laurel, Maryland Unite...</td>\n",
       "      <td>39.0708</td>\n",
       "      <td>-76.8686</td>\n",
       "      <td>WhiskeyBristles,annakovach,ickaimp,kristingail</td>\n",
       "      <td>2017-06-05 00:00:00</td>\n",
       "      <td>Smokey Bear Archive,Pinball Parlor at MOM's Or...</td>\n",
       "      <td>Capitalsaurus Court,Enciso Ichnites,Castilla-L...</td>\n",
       "      <td>https://www.atlasobscura.com/places/laurel-din...</td>\n",
       "      <td>th th centuri clay format princ georg counti m...</td>\n",
       "    </tr>\n",
       "  </tbody>\n",
       "</table>\n",
       "</div>"
      ],
      "text/plain": [
       "                      placeName  \\\n",
       "3       Amityville Horror House   \n",
       "6   American Prohibition Museum   \n",
       "13          Wild Blueberry Land   \n",
       "39                 The Avrocar    \n",
       "59         Laurel Dinosaur Park   \n",
       "\n",
       "                                            placeTags  numPeopleVisited  \\\n",
       "3   hoaxes and pseudoscience,haunted,film location...               367   \n",
       "6   speakeasies,prohibition,law,food museums,alcoh...               368   \n",
       "13  blueberries,maine,miniature golf,theme parks,f...               225   \n",
       "39                              retro-tech,inventions               387   \n",
       "59  dinosaur parks,bones,dinosaurs,fossils,parks,a...               126   \n",
       "\n",
       "    numPeopleWant                                          placeDesc  \\\n",
       "3             831  On a cold November night in 1974, Amityville, ...   \n",
       "6             832  When the 18th Amendment to the U.S. Constituti...   \n",
       "13           1027  There is no shortage of bizarre American highw...   \n",
       "39            830  The year was 1952 and the Cold War was in full...   \n",
       "59            825  During the 18th and 19th centuries, clay forma...   \n",
       "\n",
       "                                       placeShortDesc  \\\n",
       "3   The site of a tragic massacre that spawned a m...   \n",
       "6   Performers, intricate sets, and a real speakea...   \n",
       "13  This colorful theme park dedicated the officia...   \n",
       "39  A real flying saucer, contracted by the U.S. A...   \n",
       "59  This dig site outside D.C. is known for its ex...   \n",
       "\n",
       "                                          placeNearby  \\\n",
       "3   The Long Island Puppet Theater,Pilgrim Psychia...   \n",
       "6   The Paris Market,Riverside Plant Hotel,The Mar...   \n",
       "13  Maine Central Model Railroad,Maine Coast Sardi...   \n",
       "39  National Museum of the U.S. Air Force,SAM 2600...   \n",
       "59  Smokey Bear Archive,On the Brink,Pinball Parlo...   \n",
       "\n",
       "                                          placeAdress  placeAlt  placeLong  \\\n",
       "3   112 Ocean Avenue Amityville, New York, 11701 U...   40.6665   -73.4143   \n",
       "6   209 W. St. Julian Street Savannah, Georgia Uni...   32.0806   -81.0946   \n",
       "13  1067 US HWY 1 Columbia Falls, Maine United States   44.6487   -67.7069   \n",
       "39  1100 Spaatz Street Wright-Patterson AFB Dayton...   39.7822   -84.1077   \n",
       "59  13100 Mid Atlantic Blvd Laurel, Maryland Unite...   39.0708   -76.8686   \n",
       "\n",
       "                                         placeEditors         placePubDate  \\\n",
       "3   EricGrundhauser,MandrewPatinkin,lendog666,Mart...  2013-10-17 00:00:00   \n",
       "6   Edward Denny,Collector of Experiences,theparan...  2018-11-26 00:00:00   \n",
       "13                   Lauren J Young,basimonica11,hana  2016-08-16 00:00:00   \n",
       "39  canuck,Kiri the Unicorn,shaunk82,Ahuntley,mord...  2010-07-01 00:00:00   \n",
       "59     WhiskeyBristles,annakovach,ickaimp,kristingail  2017-06-05 00:00:00   \n",
       "\n",
       "                                     placeRelatedList  \\\n",
       "3   The Long Island Puppet Theater,Fire Island Lig...   \n",
       "6   The Paris Market,Riverside Plant Hotel,The Mar...   \n",
       "13  Maine Central Model Railroad,Nellie Chapin Day...   \n",
       "39  SAM 26000,National Museum of the U.S. Air Forc...   \n",
       "59  Smokey Bear Archive,Pinball Parlor at MOM's Or...   \n",
       "\n",
       "                                    placeRelatedPlace  \\\n",
       "3   Conanicut Island Lighthouse,Lovell Health Hous...   \n",
       "6   Booze History Museum,Linos tou Charilaou (Omod...   \n",
       "13  Sadpol Strawberry,Monticello's Vegetable Garde...   \n",
       "39  Le Téléscaphe,Edison's Last Breath,Swing at th...   \n",
       "59  Capitalsaurus Court,Enciso Ichnites,Castilla-L...   \n",
       "\n",
       "                                             placeURL  \\\n",
       "3   https://www.atlasobscura.com/places/amityville...   \n",
       "6   https://www.atlasobscura.com/places/american-p...   \n",
       "13  https://www.atlasobscura.com/places/wild-blueb...   \n",
       "39        https://www.atlasobscura.com/places/avrocar   \n",
       "59  https://www.atlasobscura.com/places/laurel-din...   \n",
       "\n",
       "                                            cleanDesc  \n",
       "3   cold novemb night  amityvil new york resid ron...  \n",
       "6   th amend u constitut outlaw alcohol deleteri d...  \n",
       "13  shortag bizarr american highway pitstop one sh...  \n",
       "39  year  cold war full chill hous un american act...  \n",
       "59  th th centuri clay format princ georg counti m...  "
      ]
     },
     "execution_count": 16,
     "metadata": {},
     "output_type": "execute_result"
    }
   ],
   "source": [
    "res_query.head()"
   ]
  },
  {
   "cell_type": "code",
   "execution_count": null,
   "metadata": {},
   "outputs": [],
   "source": [
    "def cosine_score_old(res_query,df,q):\n",
    "    scores=[]\n",
    "    for place in res_query.index:\n",
    "        cosine = 0\n",
    "        for word in q:\n",
    "            cosine += df[7200][word]*df[place][word]\n",
    "        cosine = cosine/(np.linalg.norm(np.array(df.iloc[7200]))*np.linalg.norm(np.array(df.iloc[place])))\n",
    "        scores.append(cosine)\n",
    "    return scores\n",
    "            \n",
    "    "
   ]
  },
  {
   "cell_type": "code",
   "execution_count": 24,
   "metadata": {},
   "outputs": [],
   "source": [
    "def cosine_score(res_query,df,q,query_tfidf):\n",
    "    scores=[]\n",
    "    vet_q = np.array(query_tfidf[i] for i in query_tfidf.keys() )\n",
    "    for place in res_query.index:\n",
    "        cosine = 0\n",
    "        for word in q:\n",
    "            print(place,word)\n",
    "            print(df[place])\n",
    "            print(df[word][place])\n",
    "            cosine += df[place][word]*query_tfidf[word]\n",
    "        cosine = cosine/(np.linalg.norm(vet_q)*np.linalg.norm(np.array(df.iloc[place])))\n",
    "        scores.append(cosine)\n",
    "    return scores"
   ]
  },
  {
   "cell_type": "code",
   "execution_count": 17,
   "metadata": {},
   "outputs": [],
   "source": [
    "import math\n",
    "def tfidf(q):\n",
    "    query_tfidf = {}\n",
    "    complete_q = ' '.join(q)\n",
    "    for word in q:\n",
    "        if word in query_tfidf.keys():\n",
    "            continue\n",
    "        else:\n",
    "            print(len(dic2[dic1[word]]), math.log(7200/len(dic2[dic1[word]])))\n",
    "            query_tfidf[word]= (math.log(7200/len(dic2[dic1[word]])))*(complete_q.count(word)/len(q))\n",
    "    return query_tfidf"
   ]
  },
  {
   "cell_type": "code",
   "execution_count": 18,
   "metadata": {},
   "outputs": [
    {
     "name": "stdout",
     "output_type": "stream",
     "text": [
      "891 2.0894918775333373\n",
      "1500 1.5686159179138452\n",
      "{'american': 1.5447459387666687, 'museum': 1.2843079589569226}\n"
     ]
    }
   ],
   "source": [
    "query_tfidf = tfidf(q)\n",
    "print(query_tfidf)"
   ]
  },
  {
   "cell_type": "code",
   "execution_count": 25,
   "metadata": {},
   "outputs": [
    {
     "name": "stdout",
     "output_type": "stream",
     "text": [
      "3 american\n"
     ]
    },
    {
     "ename": "KeyError",
     "evalue": "3",
     "output_type": "error",
     "traceback": [
      "\u001b[1;31m---------------------------------------------------------------------------\u001b[0m",
      "\u001b[1;31mKeyError\u001b[0m                                  Traceback (most recent call last)",
      "File \u001b[1;32m~\\anaconda3\\lib\\site-packages\\pandas\\core\\indexes\\base.py:3621\u001b[0m, in \u001b[0;36mIndex.get_loc\u001b[1;34m(self, key, method, tolerance)\u001b[0m\n\u001b[0;32m   3620\u001b[0m \u001b[38;5;28;01mtry\u001b[39;00m:\n\u001b[1;32m-> 3621\u001b[0m     \u001b[38;5;28;01mreturn\u001b[39;00m \u001b[38;5;28;43mself\u001b[39;49m\u001b[38;5;241;43m.\u001b[39;49m\u001b[43m_engine\u001b[49m\u001b[38;5;241;43m.\u001b[39;49m\u001b[43mget_loc\u001b[49m\u001b[43m(\u001b[49m\u001b[43mcasted_key\u001b[49m\u001b[43m)\u001b[49m\n\u001b[0;32m   3622\u001b[0m \u001b[38;5;28;01mexcept\u001b[39;00m \u001b[38;5;167;01mKeyError\u001b[39;00m \u001b[38;5;28;01mas\u001b[39;00m err:\n",
      "File \u001b[1;32m~\\anaconda3\\lib\\site-packages\\pandas\\_libs\\index.pyx:136\u001b[0m, in \u001b[0;36mpandas._libs.index.IndexEngine.get_loc\u001b[1;34m()\u001b[0m\n",
      "File \u001b[1;32m~\\anaconda3\\lib\\site-packages\\pandas\\_libs\\index.pyx:163\u001b[0m, in \u001b[0;36mpandas._libs.index.IndexEngine.get_loc\u001b[1;34m()\u001b[0m\n",
      "File \u001b[1;32mpandas\\_libs\\hashtable_class_helper.pxi:5198\u001b[0m, in \u001b[0;36mpandas._libs.hashtable.PyObjectHashTable.get_item\u001b[1;34m()\u001b[0m\n",
      "File \u001b[1;32mpandas\\_libs\\hashtable_class_helper.pxi:5206\u001b[0m, in \u001b[0;36mpandas._libs.hashtable.PyObjectHashTable.get_item\u001b[1;34m()\u001b[0m\n",
      "\u001b[1;31mKeyError\u001b[0m: 3",
      "\nThe above exception was the direct cause of the following exception:\n",
      "\u001b[1;31mKeyError\u001b[0m                                  Traceback (most recent call last)",
      "Input \u001b[1;32mIn [25]\u001b[0m, in \u001b[0;36m<cell line: 1>\u001b[1;34m()\u001b[0m\n\u001b[1;32m----> 1\u001b[0m scores \u001b[38;5;241m=\u001b[39m \u001b[43mcosine_score\u001b[49m\u001b[43m(\u001b[49m\u001b[43mres_query\u001b[49m\u001b[43m,\u001b[49m\u001b[43mdf\u001b[49m\u001b[43m,\u001b[49m\u001b[43mq\u001b[49m\u001b[43m,\u001b[49m\u001b[43mquery_tfidf\u001b[49m\u001b[43m)\u001b[49m\n\u001b[0;32m      2\u001b[0m res_query\u001b[38;5;241m.\u001b[39minsert(res_query\u001b[38;5;241m.\u001b[39mshape[\u001b[38;5;241m1\u001b[39m], \u001b[38;5;124m\"\u001b[39m\u001b[38;5;124mcosine similarity\u001b[39m\u001b[38;5;124m\"\u001b[39m,scores )\n",
      "Input \u001b[1;32mIn [24]\u001b[0m, in \u001b[0;36mcosine_score\u001b[1;34m(res_query, df, q, query_tfidf)\u001b[0m\n\u001b[0;32m      6\u001b[0m \u001b[38;5;28;01mfor\u001b[39;00m word \u001b[38;5;129;01min\u001b[39;00m q:\n\u001b[0;32m      7\u001b[0m     \u001b[38;5;28mprint\u001b[39m(place,word)\n\u001b[1;32m----> 8\u001b[0m     \u001b[38;5;28mprint\u001b[39m(\u001b[43mdf\u001b[49m\u001b[43m[\u001b[49m\u001b[43mplace\u001b[49m\u001b[43m]\u001b[49m)\n\u001b[0;32m      9\u001b[0m     \u001b[38;5;28mprint\u001b[39m(df[word][place])\n\u001b[0;32m     10\u001b[0m     cosine \u001b[38;5;241m+\u001b[39m\u001b[38;5;241m=\u001b[39m df[place][word]\u001b[38;5;241m*\u001b[39mquery_tfidf[word]\n",
      "File \u001b[1;32m~\\anaconda3\\lib\\site-packages\\pandas\\core\\frame.py:3505\u001b[0m, in \u001b[0;36mDataFrame.__getitem__\u001b[1;34m(self, key)\u001b[0m\n\u001b[0;32m   3503\u001b[0m \u001b[38;5;28;01mif\u001b[39;00m \u001b[38;5;28mself\u001b[39m\u001b[38;5;241m.\u001b[39mcolumns\u001b[38;5;241m.\u001b[39mnlevels \u001b[38;5;241m>\u001b[39m \u001b[38;5;241m1\u001b[39m:\n\u001b[0;32m   3504\u001b[0m     \u001b[38;5;28;01mreturn\u001b[39;00m \u001b[38;5;28mself\u001b[39m\u001b[38;5;241m.\u001b[39m_getitem_multilevel(key)\n\u001b[1;32m-> 3505\u001b[0m indexer \u001b[38;5;241m=\u001b[39m \u001b[38;5;28;43mself\u001b[39;49m\u001b[38;5;241;43m.\u001b[39;49m\u001b[43mcolumns\u001b[49m\u001b[38;5;241;43m.\u001b[39;49m\u001b[43mget_loc\u001b[49m\u001b[43m(\u001b[49m\u001b[43mkey\u001b[49m\u001b[43m)\u001b[49m\n\u001b[0;32m   3506\u001b[0m \u001b[38;5;28;01mif\u001b[39;00m is_integer(indexer):\n\u001b[0;32m   3507\u001b[0m     indexer \u001b[38;5;241m=\u001b[39m [indexer]\n",
      "File \u001b[1;32m~\\anaconda3\\lib\\site-packages\\pandas\\core\\indexes\\base.py:3623\u001b[0m, in \u001b[0;36mIndex.get_loc\u001b[1;34m(self, key, method, tolerance)\u001b[0m\n\u001b[0;32m   3621\u001b[0m     \u001b[38;5;28;01mreturn\u001b[39;00m \u001b[38;5;28mself\u001b[39m\u001b[38;5;241m.\u001b[39m_engine\u001b[38;5;241m.\u001b[39mget_loc(casted_key)\n\u001b[0;32m   3622\u001b[0m \u001b[38;5;28;01mexcept\u001b[39;00m \u001b[38;5;167;01mKeyError\u001b[39;00m \u001b[38;5;28;01mas\u001b[39;00m err:\n\u001b[1;32m-> 3623\u001b[0m     \u001b[38;5;28;01mraise\u001b[39;00m \u001b[38;5;167;01mKeyError\u001b[39;00m(key) \u001b[38;5;28;01mfrom\u001b[39;00m \u001b[38;5;21;01merr\u001b[39;00m\n\u001b[0;32m   3624\u001b[0m \u001b[38;5;28;01mexcept\u001b[39;00m \u001b[38;5;167;01mTypeError\u001b[39;00m:\n\u001b[0;32m   3625\u001b[0m     \u001b[38;5;66;03m# If we have a listlike key, _check_indexing_error will raise\u001b[39;00m\n\u001b[0;32m   3626\u001b[0m     \u001b[38;5;66;03m#  InvalidIndexError. Otherwise we fall through and re-raise\u001b[39;00m\n\u001b[0;32m   3627\u001b[0m     \u001b[38;5;66;03m#  the TypeError.\u001b[39;00m\n\u001b[0;32m   3628\u001b[0m     \u001b[38;5;28mself\u001b[39m\u001b[38;5;241m.\u001b[39m_check_indexing_error(key)\n",
      "\u001b[1;31mKeyError\u001b[0m: 3"
     ]
    }
   ],
   "source": [
    "scores = cosine_score(res_query,df,q,query_tfidf)\n",
    "res_query.insert(res_query.shape[1], \"cosine similarity\",scores )"
   ]
  },
  {
   "cell_type": "code",
   "execution_count": 44,
   "metadata": {},
   "outputs": [
    {
     "data": {
      "text/html": [
       "<div>\n",
       "<style scoped>\n",
       "    .dataframe tbody tr th:only-of-type {\n",
       "        vertical-align: middle;\n",
       "    }\n",
       "\n",
       "    .dataframe tbody tr th {\n",
       "        vertical-align: top;\n",
       "    }\n",
       "\n",
       "    .dataframe thead th {\n",
       "        text-align: right;\n",
       "    }\n",
       "</style>\n",
       "<table border=\"1\" class=\"dataframe\">\n",
       "  <thead>\n",
       "    <tr style=\"text-align: right;\">\n",
       "      <th></th>\n",
       "      <th>col1</th>\n",
       "      <th>col2</th>\n",
       "    </tr>\n",
       "  </thead>\n",
       "  <tbody>\n",
       "    <tr>\n",
       "      <th>0</th>\n",
       "      <td>1</td>\n",
       "      <td>3</td>\n",
       "    </tr>\n",
       "    <tr>\n",
       "      <th>1</th>\n",
       "      <td>2</td>\n",
       "      <td>4</td>\n",
       "    </tr>\n",
       "  </tbody>\n",
       "</table>\n",
       "</div>"
      ],
      "text/plain": [
       "   col1  col2\n",
       "0     1     3\n",
       "1     2     4"
      ]
     },
     "execution_count": 44,
     "metadata": {},
     "output_type": "execute_result"
    }
   ],
   "source": [
    "res_query = res_query.sort_values(by=['cosine similarity'],ascending=False)"
   ]
  },
  {
   "cell_type": "code",
   "execution_count": null,
   "metadata": {},
   "outputs": [],
   "source": [
    "print(res_query.head(10))"
   ]
  },
  {
   "cell_type": "markdown",
   "metadata": {},
   "source": [
    "## 3. Define a new score!"
   ]
  },
  {
   "cell_type": "code",
   "execution_count": 8,
   "metadata": {},
   "outputs": [
    {
     "name": "stdout",
     "output_type": "stream",
     "text": [
      "Insert the words that you want to be found in the description's places: church mountain\n"
     ]
    }
   ],
   "source": [
    "query_user = list(input(\"Insert the words that you want to be found in the description's places: \").split())"
   ]
  },
  {
   "cell_type": "code",
   "execution_count": 9,
   "metadata": {},
   "outputs": [],
   "source": [
    "#first of all we execute the search engine as in 2.1 with the query given by the user\n",
    "dic1 = read_dic(\"dic1\")\n",
    "dic2 = read_dic(\"dic2\")\n",
    "s = query(query_user)\n",
    "res_query = data[data['placeName'].isin(list(s))]\n",
    "res_query.reset_index(inplace = True, drop=True) "
   ]
  },
  {
   "cell_type": "code",
   "execution_count": 10,
   "metadata": {},
   "outputs": [
    {
     "name": "stdout",
     "output_type": "stream",
     "text": [
      "What is the top rank visualization that you want to have? \n",
      "Insert \"1\" if you prefer that is by number of tourists. \n",
      "Insert \"2\" if you prefer that is by number of people that want to visit the site.\n",
      "2\n"
     ]
    }
   ],
   "source": [
    "n = int(input('What is the top rank visualization that you want to have? \\nInsert \"1\" if you prefer that is by number of tourists. \\nInsert \"2\" if you prefer that is by number of people that want to visit the site.\\n'))"
   ]
  },
  {
   "cell_type": "code",
   "execution_count": 11,
   "metadata": {},
   "outputs": [
    {
     "name": "stdout",
     "output_type": "stream",
     "text": [
      "Insert k the number of places that you want to visualize:10\n",
      "Insert \"1\" if you want to see the k most popular places or insert \"2\" if you want to see the less famous places:1\n"
     ]
    }
   ],
   "source": [
    "k = int(input('Insert k the number of places that you want to visualize:')) \n",
    "m = int(input('Insert \"1\" if you want to see the k most popular places or insert \"2\" if you want to see the less famous places:'))"
   ]
  },
  {
   "cell_type": "code",
   "execution_count": 12,
   "metadata": {},
   "outputs": [],
   "source": [
    "def new_score(res_query,n,k,m):\n",
    "    scores = []\n",
    "    if n == 1:\n",
    "        by = res_query['numPeopleVisited']\n",
    "    else:\n",
    "        by = res_query['numPeopleWant']\n",
    "    max_value = by.max()\n",
    "    for i in range(res_query.shape[0]):\n",
    "        scores.append(round(by[i]/max_value,4))\n",
    "    res_query.insert(res_query.shape[1], \"scores\", scores)\n",
    "    if m == 1:\n",
    "        res_query = res_query.sort_values(by=['scores'],ascending=False)\n",
    "    else:\n",
    "        res_query = res_query.sort_values(by=['scores'],ascending=True)\n",
    "        \n",
    "    return res_query.head(k)"
   ]
  },
  {
   "cell_type": "code",
   "execution_count": 13,
   "metadata": {},
   "outputs": [
    {
     "data": {
      "text/html": [
       "<div>\n",
       "<style scoped>\n",
       "    .dataframe tbody tr th:only-of-type {\n",
       "        vertical-align: middle;\n",
       "    }\n",
       "\n",
       "    .dataframe tbody tr th {\n",
       "        vertical-align: top;\n",
       "    }\n",
       "\n",
       "    .dataframe thead th {\n",
       "        text-align: right;\n",
       "    }\n",
       "</style>\n",
       "<table border=\"1\" class=\"dataframe\">\n",
       "  <thead>\n",
       "    <tr style=\"text-align: right;\">\n",
       "      <th></th>\n",
       "      <th>placeName</th>\n",
       "      <th>placeTags</th>\n",
       "      <th>numPeopleVisited</th>\n",
       "      <th>numPeopleWant</th>\n",
       "      <th>placeDesc</th>\n",
       "      <th>placeShortDesc</th>\n",
       "      <th>placeNearby</th>\n",
       "      <th>placeAdress</th>\n",
       "      <th>placeAlt</th>\n",
       "      <th>placeLong</th>\n",
       "      <th>placeEditors</th>\n",
       "      <th>placePubDate</th>\n",
       "      <th>placeRelatedList</th>\n",
       "      <th>placeRelatedPlace</th>\n",
       "      <th>placeURL</th>\n",
       "      <th>scores</th>\n",
       "    </tr>\n",
       "  </thead>\n",
       "  <tbody>\n",
       "    <tr>\n",
       "      <th>93</th>\n",
       "      <td>Dream House</td>\n",
       "      <td>optical oddities,eccentric homes,music,outside...</td>\n",
       "      <td>765</td>\n",
       "      <td>6007</td>\n",
       "      <td>When walking down Church Street in Tribeca, ke...</td>\n",
       "      <td>La Monte Young and Marian Zazeela's \"Dream Hou...</td>\n",
       "      <td>Aretha Franklin Subway Tributes,Farm.One,The '...</td>\n",
       "      <td>275 Church St New York, New York, 10013 United...</td>\n",
       "      <td>40.7185</td>\n",
       "      <td>-74.0048</td>\n",
       "      <td>seanmattison,mbison,Gray,Sofy,erosika,Blindcol...</td>\n",
       "      <td>2009-09-22 00:00:00</td>\n",
       "      <td>Aretha Franklin Subway Tributes,Farm.One,The '...</td>\n",
       "      <td>Callejon de Hamel,Casa Neverlandia,Casa de Azu...</td>\n",
       "      <td>https://www.atlasobscura.com/places/dream-house</td>\n",
       "      <td>1.0000</td>\n",
       "    </tr>\n",
       "    <tr>\n",
       "      <th>541</th>\n",
       "      <td>The Ruins of St. Dunstan-in-the-East</td>\n",
       "      <td>gardens,world war ii,churches,plants,military,...</td>\n",
       "      <td>1884</td>\n",
       "      <td>5754</td>\n",
       "      <td>The church of St.Dunstan-in-the-East has survi...</td>\n",
       "      <td>One of the few remaining casualties of the Lon...</td>\n",
       "      <td>Billingsgate Roman House and Baths,Pudding Lan...</td>\n",
       "      <td>St. Dunstan-in-the-East St. Dunstan's Hill Lon...</td>\n",
       "      <td>51.5097</td>\n",
       "      <td>-0.0827</td>\n",
       "      <td>Luke J Spencer,Goksu,Kas,adamjerodandrews,Mons...</td>\n",
       "      <td>2015-03-12 00:00:00</td>\n",
       "      <td>Billingsgate Roman House and Baths,Philpot Lan...</td>\n",
       "      <td>Kaiser Wilhelm Memorial Church,Ruins of Holyro...</td>\n",
       "      <td>https://www.atlasobscura.com/places/the-ruins-...</td>\n",
       "      <td>0.9579</td>\n",
       "    </tr>\n",
       "    <tr>\n",
       "      <th>92</th>\n",
       "      <td>Roosevelt Island Smallpox Hospital Ruins</td>\n",
       "      <td>smallpox,quarantine,abandoned hospitals,abando...</td>\n",
       "      <td>1709</td>\n",
       "      <td>5153</td>\n",
       "      <td>Few diseases have had a greater impact on the ...</td>\n",
       "      <td>A crumbling hospital from the 1850s on Rooseve...</td>\n",
       "      <td>United Nations Delegates Lounge,Roosevelt Isla...</td>\n",
       "      <td>Roosevelt Island New York, New York, 10044 Uni...</td>\n",
       "      <td>40.7515</td>\n",
       "      <td>-73.9596</td>\n",
       "      <td>Rebekah Otto,Sharon Blackstone,spavalice,mbiso...</td>\n",
       "      <td>2010-01-13 00:00:00</td>\n",
       "      <td>Roosevelt Island Cat Sanctuary,Strecker Memori...</td>\n",
       "      <td>Ruins of Lazaretto de Isla de Cabras,Glenn Dal...</td>\n",
       "      <td>https://www.atlasobscura.com/places/roosevelt-...</td>\n",
       "      <td>0.8578</td>\n",
       "    </tr>\n",
       "    <tr>\n",
       "      <th>262</th>\n",
       "      <td>The Hardy Tree</td>\n",
       "      <td>ao loves halloween 2022,gravestones,trees,chur...</td>\n",
       "      <td>859</td>\n",
       "      <td>4042</td>\n",
       "      <td>Inside an ancient London churchyard, an ash tr...</td>\n",
       "      <td>This churchyard arbor is surrounded by hundred...</td>\n",
       "      <td>Platform 9 3/4,Word on the Water,British Libra...</td>\n",
       "      <td>Pancras Road London, England, NW1 1UL United K...</td>\n",
       "      <td>51.5349</td>\n",
       "      <td>-0.1309</td>\n",
       "      <td>sarahvjanet,Pengwn,SEANETTA,giloscope,Stevren,...</td>\n",
       "      <td>2015-07-03 00:00:00</td>\n",
       "      <td>Word on the Water,Platform 9 3/4,British Libra...</td>\n",
       "      <td>Convento de la Santa Cruz (Convent of Santa Cr...</td>\n",
       "      <td>https://www.atlasobscura.com/places/the-hardy-...</td>\n",
       "      <td>0.6729</td>\n",
       "    </tr>\n",
       "    <tr>\n",
       "      <th>481</th>\n",
       "      <td>Santa Maria della Concezione Crypts</td>\n",
       "      <td>capuchins,marquis de sade,mark twain,ossuaries...</td>\n",
       "      <td>2070</td>\n",
       "      <td>3529</td>\n",
       "      <td>In 1775, the Marquis de Sade wrote of it, “I h...</td>\n",
       "      <td>The crypts of Capuchin friars decorated with t...</td>\n",
       "      <td>Saint Victoria's Incorruptible Body,Keats-Shel...</td>\n",
       "      <td>Via Vittorio Veneto, 27 Rome, 00187 Italy</td>\n",
       "      <td>41.9047</td>\n",
       "      <td>12.4882</td>\n",
       "      <td>Dylan,mshkrvn,Annetta Black,The Dubious Hausfr...</td>\n",
       "      <td>2009-08-09 00:00:00</td>\n",
       "      <td>Keats-Shelley Memorial House,Zuccari Palace,Sa...</td>\n",
       "      <td>The Czech's Capuchin Crypt,Santa Maria dell'Or...</td>\n",
       "      <td>https://www.atlasobscura.com/places/santa-mari...</td>\n",
       "      <td>0.5875</td>\n",
       "    </tr>\n",
       "    <tr>\n",
       "      <th>501</th>\n",
       "      <td>International Church of Cannabis</td>\n",
       "      <td>cannabis,marijuana,drugs,religion,churches,sac...</td>\n",
       "      <td>607</td>\n",
       "      <td>3206</td>\n",
       "      <td>A Lutheran church has stood at 400 S Logan Str...</td>\n",
       "      <td>A technicolor place of worship for Elevationis...</td>\n",
       "      <td>Fifty-Two 80's,Cheesman Park,History Colorado ...</td>\n",
       "      <td>400 S Logan St Denver, Colorado United States</td>\n",
       "      <td>39.7091</td>\n",
       "      <td>-104.9823</td>\n",
       "      <td>lewblank,Simon Jones,HighPriest,AngieSmangie,c...</td>\n",
       "      <td>2017-07-20 00:00:00</td>\n",
       "      <td>Cheesman Park,Fifty-Two 80's,History Colorado ...</td>\n",
       "      <td>Blackfriars Friary,Santuario de Atotonilco,Her...</td>\n",
       "      <td>https://www.atlasobscura.com/places/internatio...</td>\n",
       "      <td>0.5337</td>\n",
       "    </tr>\n",
       "    <tr>\n",
       "      <th>523</th>\n",
       "      <td>House of Nicolas Flamel</td>\n",
       "      <td>alchemy,occult,magic,restaurants,houses,homes</td>\n",
       "      <td>646</td>\n",
       "      <td>3042</td>\n",
       "      <td>Strange symbols adorn the architecture at 51 r...</td>\n",
       "      <td>The oldest stone house in Paris was built by i...</td>\n",
       "      <td>Dans le Noir?,The Relic Crypt of St. Helena at...</td>\n",
       "      <td>51 rue de Montmorency Paris, 75003 France</td>\n",
       "      <td>48.8635</td>\n",
       "      <td>2.3531</td>\n",
       "      <td>Allison,kez7585,Peccable,Traveling Maven,Scott...</td>\n",
       "      <td>2014-01-26 00:00:00</td>\n",
       "      <td>The Relic Crypt of St. Helena at Église Saint-...</td>\n",
       "      <td>Boleskine House,Porta Alchemica,Faustův Dům (F...</td>\n",
       "      <td>https://www.atlasobscura.com/places/house-of-n...</td>\n",
       "      <td>0.5064</td>\n",
       "    </tr>\n",
       "    <tr>\n",
       "      <th>108</th>\n",
       "      <td>Kensal Green Cemetery and Catacombs</td>\n",
       "      <td>memento mori,catacombs and crypts,cemeteries</td>\n",
       "      <td>516</td>\n",
       "      <td>2828</td>\n",
       "      <td>Kensal Green is the one of the oldest public b...</td>\n",
       "      <td>Winding paths and ramshackle mausoleums in the...</td>\n",
       "      <td>'Potteries and Piggeries' Bottle Kiln,Trellick...</td>\n",
       "      <td>Harrow Road London, England, W10 4RA United Ki...</td>\n",
       "      <td>51.5277</td>\n",
       "      <td>-0.2176</td>\n",
       "      <td>Annetta Black,Moriarty,Alberto,fokgc@signefied...</td>\n",
       "      <td>2009-10-26 00:00:00</td>\n",
       "      <td>Trellick Tower,Museum of Brands,'Potteries and...</td>\n",
       "      <td>Chauchilla Cemetery,Putim Ossuary,Most Holy Tr...</td>\n",
       "      <td>https://www.atlasobscura.com/places/kensal-gre...</td>\n",
       "      <td>0.4708</td>\n",
       "    </tr>\n",
       "    <tr>\n",
       "      <th>277</th>\n",
       "      <td>Strahov Monastery</td>\n",
       "      <td>wonder cabinets,repositories of knowledge,sacr...</td>\n",
       "      <td>929</td>\n",
       "      <td>2647</td>\n",
       "      <td>Tucked away on the top of a hill in Prague is ...</td>\n",
       "      <td>Two stunning 17th-century libraries and a cabi...</td>\n",
       "      <td>Museum of Miniatures,Statue of St. Wilgefortis...</td>\n",
       "      <td>1 Strahovské nádvoří Prague, 118 00 Czechia</td>\n",
       "      <td>50.0861</td>\n",
       "      <td>14.3893</td>\n",
       "      <td>michelle,Jaszmina Szendrey,wurzeltod,Sebastian...</td>\n",
       "      <td>2009-09-10 00:00:00</td>\n",
       "      <td>Museum of Miniatures,Statue of St. Wilgefortis...</td>\n",
       "      <td>Namgyal Monastery,The Adventurers' Club of Los...</td>\n",
       "      <td>https://www.atlasobscura.com/places/strahov-mo...</td>\n",
       "      <td>0.4407</td>\n",
       "    </tr>\n",
       "    <tr>\n",
       "      <th>478</th>\n",
       "      <td>Cathedral of Our Lady of the Angels</td>\n",
       "      <td>relics,catacombs and crypts,churches,sacred sp...</td>\n",
       "      <td>966</td>\n",
       "      <td>2569</td>\n",
       "      <td>The Cathedral of Our Lady of the Angels is a 5...</td>\n",
       "      <td>Crypt mausoleum in cathedral's basement contai...</td>\n",
       "      <td>Bradbury Building,'América Tropical',Triforium</td>\n",
       "      <td>555 West Temple Street Los Angeles, California...</td>\n",
       "      <td>34.0577</td>\n",
       "      <td>-118.2449</td>\n",
       "      <td>anhie,Jaszmina Szendrey,Avoiding Regret,jDream...</td>\n",
       "      <td>2009-10-25 00:00:00</td>\n",
       "      <td>Triforium,'América Tropical',Bradbury Building...</td>\n",
       "      <td>San Thome Basilica,Santa Maria dell'Orazione e...</td>\n",
       "      <td>https://www.atlasobscura.com/places/cathedral-...</td>\n",
       "      <td>0.4277</td>\n",
       "    </tr>\n",
       "  </tbody>\n",
       "</table>\n",
       "</div>"
      ],
      "text/plain": [
       "                                    placeName  \\\n",
       "93                                Dream House   \n",
       "541      The Ruins of St. Dunstan-in-the-East   \n",
       "92   Roosevelt Island Smallpox Hospital Ruins   \n",
       "262                            The Hardy Tree   \n",
       "481       Santa Maria della Concezione Crypts   \n",
       "501          International Church of Cannabis   \n",
       "523                   House of Nicolas Flamel   \n",
       "108       Kensal Green Cemetery and Catacombs   \n",
       "277                        Strahov Monastery    \n",
       "478       Cathedral of Our Lady of the Angels   \n",
       "\n",
       "                                             placeTags  numPeopleVisited  \\\n",
       "93   optical oddities,eccentric homes,music,outside...               765   \n",
       "541  gardens,world war ii,churches,plants,military,...              1884   \n",
       "92   smallpox,quarantine,abandoned hospitals,abando...              1709   \n",
       "262  ao loves halloween 2022,gravestones,trees,chur...               859   \n",
       "481  capuchins,marquis de sade,mark twain,ossuaries...              2070   \n",
       "501  cannabis,marijuana,drugs,religion,churches,sac...               607   \n",
       "523      alchemy,occult,magic,restaurants,houses,homes               646   \n",
       "108       memento mori,catacombs and crypts,cemeteries               516   \n",
       "277  wonder cabinets,repositories of knowledge,sacr...               929   \n",
       "478  relics,catacombs and crypts,churches,sacred sp...               966   \n",
       "\n",
       "     numPeopleWant                                          placeDesc  \\\n",
       "93            6007  When walking down Church Street in Tribeca, ke...   \n",
       "541           5754  The church of St.Dunstan-in-the-East has survi...   \n",
       "92            5153  Few diseases have had a greater impact on the ...   \n",
       "262           4042  Inside an ancient London churchyard, an ash tr...   \n",
       "481           3529  In 1775, the Marquis de Sade wrote of it, “I h...   \n",
       "501           3206  A Lutheran church has stood at 400 S Logan Str...   \n",
       "523           3042  Strange symbols adorn the architecture at 51 r...   \n",
       "108           2828  Kensal Green is the one of the oldest public b...   \n",
       "277           2647  Tucked away on the top of a hill in Prague is ...   \n",
       "478           2569  The Cathedral of Our Lady of the Angels is a 5...   \n",
       "\n",
       "                                        placeShortDesc  \\\n",
       "93   La Monte Young and Marian Zazeela's \"Dream Hou...   \n",
       "541  One of the few remaining casualties of the Lon...   \n",
       "92   A crumbling hospital from the 1850s on Rooseve...   \n",
       "262  This churchyard arbor is surrounded by hundred...   \n",
       "481  The crypts of Capuchin friars decorated with t...   \n",
       "501  A technicolor place of worship for Elevationis...   \n",
       "523  The oldest stone house in Paris was built by i...   \n",
       "108  Winding paths and ramshackle mausoleums in the...   \n",
       "277  Two stunning 17th-century libraries and a cabi...   \n",
       "478  Crypt mausoleum in cathedral's basement contai...   \n",
       "\n",
       "                                           placeNearby  \\\n",
       "93   Aretha Franklin Subway Tributes,Farm.One,The '...   \n",
       "541  Billingsgate Roman House and Baths,Pudding Lan...   \n",
       "92   United Nations Delegates Lounge,Roosevelt Isla...   \n",
       "262  Platform 9 3/4,Word on the Water,British Libra...   \n",
       "481  Saint Victoria's Incorruptible Body,Keats-Shel...   \n",
       "501  Fifty-Two 80's,Cheesman Park,History Colorado ...   \n",
       "523  Dans le Noir?,The Relic Crypt of St. Helena at...   \n",
       "108  'Potteries and Piggeries' Bottle Kiln,Trellick...   \n",
       "277  Museum of Miniatures,Statue of St. Wilgefortis...   \n",
       "478     Bradbury Building,'América Tropical',Triforium   \n",
       "\n",
       "                                           placeAdress  placeAlt  placeLong  \\\n",
       "93   275 Church St New York, New York, 10013 United...   40.7185   -74.0048   \n",
       "541  St. Dunstan-in-the-East St. Dunstan's Hill Lon...   51.5097    -0.0827   \n",
       "92   Roosevelt Island New York, New York, 10044 Uni...   40.7515   -73.9596   \n",
       "262  Pancras Road London, England, NW1 1UL United K...   51.5349    -0.1309   \n",
       "481          Via Vittorio Veneto, 27 Rome, 00187 Italy   41.9047    12.4882   \n",
       "501      400 S Logan St Denver, Colorado United States   39.7091  -104.9823   \n",
       "523          51 rue de Montmorency Paris, 75003 France   48.8635     2.3531   \n",
       "108  Harrow Road London, England, W10 4RA United Ki...   51.5277    -0.2176   \n",
       "277        1 Strahovské nádvoří Prague, 118 00 Czechia   50.0861    14.3893   \n",
       "478  555 West Temple Street Los Angeles, California...   34.0577  -118.2449   \n",
       "\n",
       "                                          placeEditors         placePubDate  \\\n",
       "93   seanmattison,mbison,Gray,Sofy,erosika,Blindcol...  2009-09-22 00:00:00   \n",
       "541  Luke J Spencer,Goksu,Kas,adamjerodandrews,Mons...  2015-03-12 00:00:00   \n",
       "92   Rebekah Otto,Sharon Blackstone,spavalice,mbiso...  2010-01-13 00:00:00   \n",
       "262  sarahvjanet,Pengwn,SEANETTA,giloscope,Stevren,...  2015-07-03 00:00:00   \n",
       "481  Dylan,mshkrvn,Annetta Black,The Dubious Hausfr...  2009-08-09 00:00:00   \n",
       "501  lewblank,Simon Jones,HighPriest,AngieSmangie,c...  2017-07-20 00:00:00   \n",
       "523  Allison,kez7585,Peccable,Traveling Maven,Scott...  2014-01-26 00:00:00   \n",
       "108  Annetta Black,Moriarty,Alberto,fokgc@signefied...  2009-10-26 00:00:00   \n",
       "277  michelle,Jaszmina Szendrey,wurzeltod,Sebastian...  2009-09-10 00:00:00   \n",
       "478  anhie,Jaszmina Szendrey,Avoiding Regret,jDream...  2009-10-25 00:00:00   \n",
       "\n",
       "                                      placeRelatedList  \\\n",
       "93   Aretha Franklin Subway Tributes,Farm.One,The '...   \n",
       "541  Billingsgate Roman House and Baths,Philpot Lan...   \n",
       "92   Roosevelt Island Cat Sanctuary,Strecker Memori...   \n",
       "262  Word on the Water,Platform 9 3/4,British Libra...   \n",
       "481  Keats-Shelley Memorial House,Zuccari Palace,Sa...   \n",
       "501  Cheesman Park,Fifty-Two 80's,History Colorado ...   \n",
       "523  The Relic Crypt of St. Helena at Église Saint-...   \n",
       "108  Trellick Tower,Museum of Brands,'Potteries and...   \n",
       "277  Museum of Miniatures,Statue of St. Wilgefortis...   \n",
       "478  Triforium,'América Tropical',Bradbury Building...   \n",
       "\n",
       "                                     placeRelatedPlace  \\\n",
       "93   Callejon de Hamel,Casa Neverlandia,Casa de Azu...   \n",
       "541  Kaiser Wilhelm Memorial Church,Ruins of Holyro...   \n",
       "92   Ruins of Lazaretto de Isla de Cabras,Glenn Dal...   \n",
       "262  Convento de la Santa Cruz (Convent of Santa Cr...   \n",
       "481  The Czech's Capuchin Crypt,Santa Maria dell'Or...   \n",
       "501  Blackfriars Friary,Santuario de Atotonilco,Her...   \n",
       "523  Boleskine House,Porta Alchemica,Faustův Dům (F...   \n",
       "108  Chauchilla Cemetery,Putim Ossuary,Most Holy Tr...   \n",
       "277  Namgyal Monastery,The Adventurers' Club of Los...   \n",
       "478  San Thome Basilica,Santa Maria dell'Orazione e...   \n",
       "\n",
       "                                              placeURL  scores  \n",
       "93     https://www.atlasobscura.com/places/dream-house  1.0000  \n",
       "541  https://www.atlasobscura.com/places/the-ruins-...  0.9579  \n",
       "92   https://www.atlasobscura.com/places/roosevelt-...  0.8578  \n",
       "262  https://www.atlasobscura.com/places/the-hardy-...  0.6729  \n",
       "481  https://www.atlasobscura.com/places/santa-mari...  0.5875  \n",
       "501  https://www.atlasobscura.com/places/internatio...  0.5337  \n",
       "523  https://www.atlasobscura.com/places/house-of-n...  0.5064  \n",
       "108  https://www.atlasobscura.com/places/kensal-gre...  0.4708  \n",
       "277  https://www.atlasobscura.com/places/strahov-mo...  0.4407  \n",
       "478  https://www.atlasobscura.com/places/cathedral-...  0.4277  "
      ]
     },
     "execution_count": 13,
     "metadata": {},
     "output_type": "execute_result"
    }
   ],
   "source": [
    "resquery = new_score(res_query,n,k,m)\n",
    "resquery"
   ]
  },
  {
   "cell_type": "code",
   "execution_count": 15,
   "metadata": {},
   "outputs": [],
   "source": [
    "from geopy.geocoders import Nominatim\n",
    "geolocator = Nominatim(user_agent=\"geoapiExercises\")"
   ]
  },
  {
   "cell_type": "code",
   "execution_count": 16,
   "metadata": {},
   "outputs": [
    {
     "data": {
      "text/html": [
       "<div>\n",
       "<style scoped>\n",
       "    .dataframe tbody tr th:only-of-type {\n",
       "        vertical-align: middle;\n",
       "    }\n",
       "\n",
       "    .dataframe tbody tr th {\n",
       "        vertical-align: top;\n",
       "    }\n",
       "\n",
       "    .dataframe thead th {\n",
       "        text-align: right;\n",
       "    }\n",
       "</style>\n",
       "<table border=\"1\" class=\"dataframe\">\n",
       "  <thead>\n",
       "    <tr style=\"text-align: right;\">\n",
       "      <th></th>\n",
       "      <th>placeName</th>\n",
       "      <th>placeTags</th>\n",
       "      <th>numPeopleVisited</th>\n",
       "      <th>numPeopleWant</th>\n",
       "      <th>placeDesc</th>\n",
       "      <th>placeShortDesc</th>\n",
       "      <th>placeNearby</th>\n",
       "      <th>placeAdress</th>\n",
       "      <th>placeAlt</th>\n",
       "      <th>placeLong</th>\n",
       "      <th>placeEditors</th>\n",
       "      <th>placePubDate</th>\n",
       "      <th>placeRelatedList</th>\n",
       "      <th>placeRelatedPlace</th>\n",
       "      <th>placeURL</th>\n",
       "      <th>scores</th>\n",
       "      <th>city/state</th>\n",
       "      <th>country</th>\n",
       "    </tr>\n",
       "  </thead>\n",
       "  <tbody>\n",
       "    <tr>\n",
       "      <th>0</th>\n",
       "      <td>Dream House</td>\n",
       "      <td>optical oddities,eccentric homes,music,outside...</td>\n",
       "      <td>765</td>\n",
       "      <td>6007</td>\n",
       "      <td>When walking down Church Street in Tribeca, ke...</td>\n",
       "      <td>La Monte Young and Marian Zazeela's \"Dream Hou...</td>\n",
       "      <td>Aretha Franklin Subway Tributes,Farm.One,The '...</td>\n",
       "      <td>275 Church St New York, New York, 10013 United...</td>\n",
       "      <td>40.7185</td>\n",
       "      <td>-74.0048</td>\n",
       "      <td>seanmattison,mbison,Gray,Sofy,erosika,Blindcol...</td>\n",
       "      <td>2009-09-22 00:00:00</td>\n",
       "      <td>Aretha Franklin Subway Tributes,Farm.One,The '...</td>\n",
       "      <td>Callejon de Hamel,Casa Neverlandia,Casa de Azu...</td>\n",
       "      <td>https://www.atlasobscura.com/places/dream-house</td>\n",
       "      <td>1.0000</td>\n",
       "      <td>New York</td>\n",
       "      <td>United States</td>\n",
       "    </tr>\n",
       "    <tr>\n",
       "      <th>1</th>\n",
       "      <td>The Ruins of St. Dunstan-in-the-East</td>\n",
       "      <td>gardens,world war ii,churches,plants,military,...</td>\n",
       "      <td>1884</td>\n",
       "      <td>5754</td>\n",
       "      <td>The church of St.Dunstan-in-the-East has survi...</td>\n",
       "      <td>One of the few remaining casualties of the Lon...</td>\n",
       "      <td>Billingsgate Roman House and Baths,Pudding Lan...</td>\n",
       "      <td>St. Dunstan-in-the-East St. Dunstan's Hill Lon...</td>\n",
       "      <td>51.5097</td>\n",
       "      <td>-0.0827</td>\n",
       "      <td>Luke J Spencer,Goksu,Kas,adamjerodandrews,Mons...</td>\n",
       "      <td>2015-03-12 00:00:00</td>\n",
       "      <td>Billingsgate Roman House and Baths,Philpot Lan...</td>\n",
       "      <td>Kaiser Wilhelm Memorial Church,Ruins of Holyro...</td>\n",
       "      <td>https://www.atlasobscura.com/places/the-ruins-...</td>\n",
       "      <td>0.9579</td>\n",
       "      <td>England</td>\n",
       "      <td>United Kingdom</td>\n",
       "    </tr>\n",
       "    <tr>\n",
       "      <th>2</th>\n",
       "      <td>Roosevelt Island Smallpox Hospital Ruins</td>\n",
       "      <td>smallpox,quarantine,abandoned hospitals,abando...</td>\n",
       "      <td>1709</td>\n",
       "      <td>5153</td>\n",
       "      <td>Few diseases have had a greater impact on the ...</td>\n",
       "      <td>A crumbling hospital from the 1850s on Rooseve...</td>\n",
       "      <td>United Nations Delegates Lounge,Roosevelt Isla...</td>\n",
       "      <td>Roosevelt Island New York, New York, 10044 Uni...</td>\n",
       "      <td>40.7515</td>\n",
       "      <td>-73.9596</td>\n",
       "      <td>Rebekah Otto,Sharon Blackstone,spavalice,mbiso...</td>\n",
       "      <td>2010-01-13 00:00:00</td>\n",
       "      <td>Roosevelt Island Cat Sanctuary,Strecker Memori...</td>\n",
       "      <td>Ruins of Lazaretto de Isla de Cabras,Glenn Dal...</td>\n",
       "      <td>https://www.atlasobscura.com/places/roosevelt-...</td>\n",
       "      <td>0.8578</td>\n",
       "      <td>New York</td>\n",
       "      <td>United States</td>\n",
       "    </tr>\n",
       "    <tr>\n",
       "      <th>3</th>\n",
       "      <td>The Hardy Tree</td>\n",
       "      <td>ao loves halloween 2022,gravestones,trees,chur...</td>\n",
       "      <td>859</td>\n",
       "      <td>4042</td>\n",
       "      <td>Inside an ancient London churchyard, an ash tr...</td>\n",
       "      <td>This churchyard arbor is surrounded by hundred...</td>\n",
       "      <td>Platform 9 3/4,Word on the Water,British Libra...</td>\n",
       "      <td>Pancras Road London, England, NW1 1UL United K...</td>\n",
       "      <td>51.5349</td>\n",
       "      <td>-0.1309</td>\n",
       "      <td>sarahvjanet,Pengwn,SEANETTA,giloscope,Stevren,...</td>\n",
       "      <td>2015-07-03 00:00:00</td>\n",
       "      <td>Word on the Water,Platform 9 3/4,British Libra...</td>\n",
       "      <td>Convento de la Santa Cruz (Convent of Santa Cr...</td>\n",
       "      <td>https://www.atlasobscura.com/places/the-hardy-...</td>\n",
       "      <td>0.6729</td>\n",
       "      <td>England</td>\n",
       "      <td>United Kingdom</td>\n",
       "    </tr>\n",
       "    <tr>\n",
       "      <th>4</th>\n",
       "      <td>Santa Maria della Concezione Crypts</td>\n",
       "      <td>capuchins,marquis de sade,mark twain,ossuaries...</td>\n",
       "      <td>2070</td>\n",
       "      <td>3529</td>\n",
       "      <td>In 1775, the Marquis de Sade wrote of it, “I h...</td>\n",
       "      <td>The crypts of Capuchin friars decorated with t...</td>\n",
       "      <td>Saint Victoria's Incorruptible Body,Keats-Shel...</td>\n",
       "      <td>Via Vittorio Veneto, 27 Rome, 00187 Italy</td>\n",
       "      <td>41.9047</td>\n",
       "      <td>12.4882</td>\n",
       "      <td>Dylan,mshkrvn,Annetta Black,The Dubious Hausfr...</td>\n",
       "      <td>2009-08-09 00:00:00</td>\n",
       "      <td>Keats-Shelley Memorial House,Zuccari Palace,Sa...</td>\n",
       "      <td>The Czech's Capuchin Crypt,Santa Maria dell'Or...</td>\n",
       "      <td>https://www.atlasobscura.com/places/santa-mari...</td>\n",
       "      <td>0.5875</td>\n",
       "      <td>Lazio</td>\n",
       "      <td>Italia</td>\n",
       "    </tr>\n",
       "    <tr>\n",
       "      <th>5</th>\n",
       "      <td>International Church of Cannabis</td>\n",
       "      <td>cannabis,marijuana,drugs,religion,churches,sac...</td>\n",
       "      <td>607</td>\n",
       "      <td>3206</td>\n",
       "      <td>A Lutheran church has stood at 400 S Logan Str...</td>\n",
       "      <td>A technicolor place of worship for Elevationis...</td>\n",
       "      <td>Fifty-Two 80's,Cheesman Park,History Colorado ...</td>\n",
       "      <td>400 S Logan St Denver, Colorado United States</td>\n",
       "      <td>39.7091</td>\n",
       "      <td>-104.9823</td>\n",
       "      <td>lewblank,Simon Jones,HighPriest,AngieSmangie,c...</td>\n",
       "      <td>2017-07-20 00:00:00</td>\n",
       "      <td>Cheesman Park,Fifty-Two 80's,History Colorado ...</td>\n",
       "      <td>Blackfriars Friary,Santuario de Atotonilco,Her...</td>\n",
       "      <td>https://www.atlasobscura.com/places/internatio...</td>\n",
       "      <td>0.5337</td>\n",
       "      <td>Colorado</td>\n",
       "      <td>United States</td>\n",
       "    </tr>\n",
       "    <tr>\n",
       "      <th>6</th>\n",
       "      <td>House of Nicolas Flamel</td>\n",
       "      <td>alchemy,occult,magic,restaurants,houses,homes</td>\n",
       "      <td>646</td>\n",
       "      <td>3042</td>\n",
       "      <td>Strange symbols adorn the architecture at 51 r...</td>\n",
       "      <td>The oldest stone house in Paris was built by i...</td>\n",
       "      <td>Dans le Noir?,The Relic Crypt of St. Helena at...</td>\n",
       "      <td>51 rue de Montmorency Paris, 75003 France</td>\n",
       "      <td>48.8635</td>\n",
       "      <td>2.3531</td>\n",
       "      <td>Allison,kez7585,Peccable,Traveling Maven,Scott...</td>\n",
       "      <td>2014-01-26 00:00:00</td>\n",
       "      <td>The Relic Crypt of St. Helena at Église Saint-...</td>\n",
       "      <td>Boleskine House,Porta Alchemica,Faustův Dům (F...</td>\n",
       "      <td>https://www.atlasobscura.com/places/house-of-n...</td>\n",
       "      <td>0.5064</td>\n",
       "      <td>Île-de-France</td>\n",
       "      <td>France</td>\n",
       "    </tr>\n",
       "    <tr>\n",
       "      <th>7</th>\n",
       "      <td>Kensal Green Cemetery and Catacombs</td>\n",
       "      <td>memento mori,catacombs and crypts,cemeteries</td>\n",
       "      <td>516</td>\n",
       "      <td>2828</td>\n",
       "      <td>Kensal Green is the one of the oldest public b...</td>\n",
       "      <td>Winding paths and ramshackle mausoleums in the...</td>\n",
       "      <td>'Potteries and Piggeries' Bottle Kiln,Trellick...</td>\n",
       "      <td>Harrow Road London, England, W10 4RA United Ki...</td>\n",
       "      <td>51.5277</td>\n",
       "      <td>-0.2176</td>\n",
       "      <td>Annetta Black,Moriarty,Alberto,fokgc@signefied...</td>\n",
       "      <td>2009-10-26 00:00:00</td>\n",
       "      <td>Trellick Tower,Museum of Brands,'Potteries and...</td>\n",
       "      <td>Chauchilla Cemetery,Putim Ossuary,Most Holy Tr...</td>\n",
       "      <td>https://www.atlasobscura.com/places/kensal-gre...</td>\n",
       "      <td>0.4708</td>\n",
       "      <td>England</td>\n",
       "      <td>United Kingdom</td>\n",
       "    </tr>\n",
       "    <tr>\n",
       "      <th>8</th>\n",
       "      <td>Strahov Monastery</td>\n",
       "      <td>wonder cabinets,repositories of knowledge,sacr...</td>\n",
       "      <td>929</td>\n",
       "      <td>2647</td>\n",
       "      <td>Tucked away on the top of a hill in Prague is ...</td>\n",
       "      <td>Two stunning 17th-century libraries and a cabi...</td>\n",
       "      <td>Museum of Miniatures,Statue of St. Wilgefortis...</td>\n",
       "      <td>1 Strahovské nádvoří Prague, 118 00 Czechia</td>\n",
       "      <td>50.0861</td>\n",
       "      <td>14.3893</td>\n",
       "      <td>michelle,Jaszmina Szendrey,wurzeltod,Sebastian...</td>\n",
       "      <td>2009-09-10 00:00:00</td>\n",
       "      <td>Museum of Miniatures,Statue of St. Wilgefortis...</td>\n",
       "      <td>Namgyal Monastery,The Adventurers' Club of Los...</td>\n",
       "      <td>https://www.atlasobscura.com/places/strahov-mo...</td>\n",
       "      <td>0.4407</td>\n",
       "      <td>Praha</td>\n",
       "      <td>Česko</td>\n",
       "    </tr>\n",
       "    <tr>\n",
       "      <th>9</th>\n",
       "      <td>Cathedral of Our Lady of the Angels</td>\n",
       "      <td>relics,catacombs and crypts,churches,sacred sp...</td>\n",
       "      <td>966</td>\n",
       "      <td>2569</td>\n",
       "      <td>The Cathedral of Our Lady of the Angels is a 5...</td>\n",
       "      <td>Crypt mausoleum in cathedral's basement contai...</td>\n",
       "      <td>Bradbury Building,'América Tropical',Triforium</td>\n",
       "      <td>555 West Temple Street Los Angeles, California...</td>\n",
       "      <td>34.0577</td>\n",
       "      <td>-118.2449</td>\n",
       "      <td>anhie,Jaszmina Szendrey,Avoiding Regret,jDream...</td>\n",
       "      <td>2009-10-25 00:00:00</td>\n",
       "      <td>Triforium,'América Tropical',Bradbury Building...</td>\n",
       "      <td>San Thome Basilica,Santa Maria dell'Orazione e...</td>\n",
       "      <td>https://www.atlasobscura.com/places/cathedral-...</td>\n",
       "      <td>0.4277</td>\n",
       "      <td>California</td>\n",
       "      <td>United States</td>\n",
       "    </tr>\n",
       "  </tbody>\n",
       "</table>\n",
       "</div>"
      ],
      "text/plain": [
       "                                  placeName  \\\n",
       "0                               Dream House   \n",
       "1      The Ruins of St. Dunstan-in-the-East   \n",
       "2  Roosevelt Island Smallpox Hospital Ruins   \n",
       "3                            The Hardy Tree   \n",
       "4       Santa Maria della Concezione Crypts   \n",
       "5          International Church of Cannabis   \n",
       "6                   House of Nicolas Flamel   \n",
       "7       Kensal Green Cemetery and Catacombs   \n",
       "8                        Strahov Monastery    \n",
       "9       Cathedral of Our Lady of the Angels   \n",
       "\n",
       "                                           placeTags  numPeopleVisited  \\\n",
       "0  optical oddities,eccentric homes,music,outside...               765   \n",
       "1  gardens,world war ii,churches,plants,military,...              1884   \n",
       "2  smallpox,quarantine,abandoned hospitals,abando...              1709   \n",
       "3  ao loves halloween 2022,gravestones,trees,chur...               859   \n",
       "4  capuchins,marquis de sade,mark twain,ossuaries...              2070   \n",
       "5  cannabis,marijuana,drugs,religion,churches,sac...               607   \n",
       "6      alchemy,occult,magic,restaurants,houses,homes               646   \n",
       "7       memento mori,catacombs and crypts,cemeteries               516   \n",
       "8  wonder cabinets,repositories of knowledge,sacr...               929   \n",
       "9  relics,catacombs and crypts,churches,sacred sp...               966   \n",
       "\n",
       "   numPeopleWant                                          placeDesc  \\\n",
       "0           6007  When walking down Church Street in Tribeca, ke...   \n",
       "1           5754  The church of St.Dunstan-in-the-East has survi...   \n",
       "2           5153  Few diseases have had a greater impact on the ...   \n",
       "3           4042  Inside an ancient London churchyard, an ash tr...   \n",
       "4           3529  In 1775, the Marquis de Sade wrote of it, “I h...   \n",
       "5           3206  A Lutheran church has stood at 400 S Logan Str...   \n",
       "6           3042  Strange symbols adorn the architecture at 51 r...   \n",
       "7           2828  Kensal Green is the one of the oldest public b...   \n",
       "8           2647  Tucked away on the top of a hill in Prague is ...   \n",
       "9           2569  The Cathedral of Our Lady of the Angels is a 5...   \n",
       "\n",
       "                                      placeShortDesc  \\\n",
       "0  La Monte Young and Marian Zazeela's \"Dream Hou...   \n",
       "1  One of the few remaining casualties of the Lon...   \n",
       "2  A crumbling hospital from the 1850s on Rooseve...   \n",
       "3  This churchyard arbor is surrounded by hundred...   \n",
       "4  The crypts of Capuchin friars decorated with t...   \n",
       "5  A technicolor place of worship for Elevationis...   \n",
       "6  The oldest stone house in Paris was built by i...   \n",
       "7  Winding paths and ramshackle mausoleums in the...   \n",
       "8  Two stunning 17th-century libraries and a cabi...   \n",
       "9  Crypt mausoleum in cathedral's basement contai...   \n",
       "\n",
       "                                         placeNearby  \\\n",
       "0  Aretha Franklin Subway Tributes,Farm.One,The '...   \n",
       "1  Billingsgate Roman House and Baths,Pudding Lan...   \n",
       "2  United Nations Delegates Lounge,Roosevelt Isla...   \n",
       "3  Platform 9 3/4,Word on the Water,British Libra...   \n",
       "4  Saint Victoria's Incorruptible Body,Keats-Shel...   \n",
       "5  Fifty-Two 80's,Cheesman Park,History Colorado ...   \n",
       "6  Dans le Noir?,The Relic Crypt of St. Helena at...   \n",
       "7  'Potteries and Piggeries' Bottle Kiln,Trellick...   \n",
       "8  Museum of Miniatures,Statue of St. Wilgefortis...   \n",
       "9     Bradbury Building,'América Tropical',Triforium   \n",
       "\n",
       "                                         placeAdress  placeAlt  placeLong  \\\n",
       "0  275 Church St New York, New York, 10013 United...   40.7185   -74.0048   \n",
       "1  St. Dunstan-in-the-East St. Dunstan's Hill Lon...   51.5097    -0.0827   \n",
       "2  Roosevelt Island New York, New York, 10044 Uni...   40.7515   -73.9596   \n",
       "3  Pancras Road London, England, NW1 1UL United K...   51.5349    -0.1309   \n",
       "4          Via Vittorio Veneto, 27 Rome, 00187 Italy   41.9047    12.4882   \n",
       "5      400 S Logan St Denver, Colorado United States   39.7091  -104.9823   \n",
       "6          51 rue de Montmorency Paris, 75003 France   48.8635     2.3531   \n",
       "7  Harrow Road London, England, W10 4RA United Ki...   51.5277    -0.2176   \n",
       "8        1 Strahovské nádvoří Prague, 118 00 Czechia   50.0861    14.3893   \n",
       "9  555 West Temple Street Los Angeles, California...   34.0577  -118.2449   \n",
       "\n",
       "                                        placeEditors         placePubDate  \\\n",
       "0  seanmattison,mbison,Gray,Sofy,erosika,Blindcol...  2009-09-22 00:00:00   \n",
       "1  Luke J Spencer,Goksu,Kas,adamjerodandrews,Mons...  2015-03-12 00:00:00   \n",
       "2  Rebekah Otto,Sharon Blackstone,spavalice,mbiso...  2010-01-13 00:00:00   \n",
       "3  sarahvjanet,Pengwn,SEANETTA,giloscope,Stevren,...  2015-07-03 00:00:00   \n",
       "4  Dylan,mshkrvn,Annetta Black,The Dubious Hausfr...  2009-08-09 00:00:00   \n",
       "5  lewblank,Simon Jones,HighPriest,AngieSmangie,c...  2017-07-20 00:00:00   \n",
       "6  Allison,kez7585,Peccable,Traveling Maven,Scott...  2014-01-26 00:00:00   \n",
       "7  Annetta Black,Moriarty,Alberto,fokgc@signefied...  2009-10-26 00:00:00   \n",
       "8  michelle,Jaszmina Szendrey,wurzeltod,Sebastian...  2009-09-10 00:00:00   \n",
       "9  anhie,Jaszmina Szendrey,Avoiding Regret,jDream...  2009-10-25 00:00:00   \n",
       "\n",
       "                                    placeRelatedList  \\\n",
       "0  Aretha Franklin Subway Tributes,Farm.One,The '...   \n",
       "1  Billingsgate Roman House and Baths,Philpot Lan...   \n",
       "2  Roosevelt Island Cat Sanctuary,Strecker Memori...   \n",
       "3  Word on the Water,Platform 9 3/4,British Libra...   \n",
       "4  Keats-Shelley Memorial House,Zuccari Palace,Sa...   \n",
       "5  Cheesman Park,Fifty-Two 80's,History Colorado ...   \n",
       "6  The Relic Crypt of St. Helena at Église Saint-...   \n",
       "7  Trellick Tower,Museum of Brands,'Potteries and...   \n",
       "8  Museum of Miniatures,Statue of St. Wilgefortis...   \n",
       "9  Triforium,'América Tropical',Bradbury Building...   \n",
       "\n",
       "                                   placeRelatedPlace  \\\n",
       "0  Callejon de Hamel,Casa Neverlandia,Casa de Azu...   \n",
       "1  Kaiser Wilhelm Memorial Church,Ruins of Holyro...   \n",
       "2  Ruins of Lazaretto de Isla de Cabras,Glenn Dal...   \n",
       "3  Convento de la Santa Cruz (Convent of Santa Cr...   \n",
       "4  The Czech's Capuchin Crypt,Santa Maria dell'Or...   \n",
       "5  Blackfriars Friary,Santuario de Atotonilco,Her...   \n",
       "6  Boleskine House,Porta Alchemica,Faustův Dům (F...   \n",
       "7  Chauchilla Cemetery,Putim Ossuary,Most Holy Tr...   \n",
       "8  Namgyal Monastery,The Adventurers' Club of Los...   \n",
       "9  San Thome Basilica,Santa Maria dell'Orazione e...   \n",
       "\n",
       "                                            placeURL  scores     city/state  \\\n",
       "0    https://www.atlasobscura.com/places/dream-house  1.0000       New York   \n",
       "1  https://www.atlasobscura.com/places/the-ruins-...  0.9579        England   \n",
       "2  https://www.atlasobscura.com/places/roosevelt-...  0.8578       New York   \n",
       "3  https://www.atlasobscura.com/places/the-hardy-...  0.6729        England   \n",
       "4  https://www.atlasobscura.com/places/santa-mari...  0.5875          Lazio   \n",
       "5  https://www.atlasobscura.com/places/internatio...  0.5337       Colorado   \n",
       "6  https://www.atlasobscura.com/places/house-of-n...  0.5064  Île-de-France   \n",
       "7  https://www.atlasobscura.com/places/kensal-gre...  0.4708        England   \n",
       "8  https://www.atlasobscura.com/places/strahov-mo...  0.4407          Praha   \n",
       "9  https://www.atlasobscura.com/places/cathedral-...  0.4277     California   \n",
       "\n",
       "          country  \n",
       "0   United States  \n",
       "1  United Kingdom  \n",
       "2   United States  \n",
       "3  United Kingdom  \n",
       "4          Italia  \n",
       "5   United States  \n",
       "6          France  \n",
       "7  United Kingdom  \n",
       "8           Česko  \n",
       "9   United States  "
      ]
     },
     "execution_count": 16,
     "metadata": {},
     "output_type": "execute_result"
    }
   ],
   "source": [
    "resquery.reset_index(inplace = True, drop=True)\n",
    "city=[]\n",
    "country=[]\n",
    "for i in range(resquery.shape[0]):\n",
    "    lat = resquery.placeAlt[i]\n",
    "    lon = resquery.placeLong[i]\n",
    "    location = geolocator.reverse(str(lat)+\",\"+str(lon))\n",
    "    address = location.raw['address']\n",
    "    city.append(address.get('state', ''))\n",
    "    country.append(address.get('country', ''))\n",
    "    \n",
    "    \n",
    "#print(city,country)\n",
    "resquery.insert(resquery.shape[1], \"city/state\", city)\n",
    "resquery.insert(resquery.shape[1], \"country\", country)\n",
    "resquery\n"
   ]
  },
  {
   "cell_type": "code",
   "execution_count": 17,
   "metadata": {},
   "outputs": [
    {
     "name": "stdout",
     "output_type": "stream",
     "text": [
      "(10, 18)\n"
     ]
    }
   ],
   "source": [
    "print(resquery.shape)"
   ]
  },
  {
   "cell_type": "code",
   "execution_count": 23,
   "metadata": {},
   "outputs": [
    {
     "data": {
      "application/vnd.plotly.v1+json": {
       "config": {
        "plotlyServerURL": "https://plot.ly"
       },
       "data": [
        {
         "customdata": [
          [
           "275 Church St New York, New York, 10013 United States",
           "New York"
          ],
          [
           "Roosevelt Island New York, New York, 10044 United States",
           "New York"
          ],
          [
           "400 S Logan St Denver, Colorado United States",
           "Colorado"
          ],
          [
           "555 West Temple Street Los Angeles, California, 90012 United States",
           "California"
          ]
         ],
         "geo": "geo",
         "hovertemplate": "<b>%{hovertext}</b><br><br>country=United States<br>number of people who visited this place=%{marker.size}<br>latitude=%{lat}<br>longitude=%{lon}<br>adress=%{customdata[0]}<br>city/state=%{customdata[1]}<extra></extra>",
         "hovertext": [
          "Dream House",
          "Roosevelt Island Smallpox Hospital Ruins",
          "International Church of Cannabis",
          "Cathedral of Our Lady of the Angels"
         ],
         "lat": [
          40.7185,
          40.7515,
          39.7091,
          34.0577
         ],
         "legendgroup": "United States",
         "lon": [
          -74.0048,
          -73.9596,
          -104.9823,
          -118.2449
         ],
         "marker": {
          "color": "#636efa",
          "size": [
           765,
           1709,
           607,
           966
          ],
          "sizemode": "area",
          "sizeref": 5.175,
          "symbol": "circle"
         },
         "mode": "markers",
         "name": "United States",
         "showlegend": true,
         "type": "scattergeo"
        },
        {
         "customdata": [
          [
           "St. Dunstan-in-the-East St. Dunstan's Hill London, England, EC3R 8PP",
           "England"
          ],
          [
           "Pancras Road London, England, NW1 1UL United Kingdom",
           "England"
          ],
          [
           "Harrow Road London, England, W10 4RA United Kingdom",
           "England"
          ]
         ],
         "geo": "geo",
         "hovertemplate": "<b>%{hovertext}</b><br><br>country=United Kingdom<br>number of people who visited this place=%{marker.size}<br>latitude=%{lat}<br>longitude=%{lon}<br>adress=%{customdata[0]}<br>city/state=%{customdata[1]}<extra></extra>",
         "hovertext": [
          "The Ruins of St. Dunstan-in-the-East",
          "The Hardy Tree",
          "Kensal Green Cemetery and Catacombs"
         ],
         "lat": [
          51.5097,
          51.5349,
          51.5277
         ],
         "legendgroup": "United Kingdom",
         "lon": [
          -0.0827,
          -0.1309,
          -0.2176
         ],
         "marker": {
          "color": "#EF553B",
          "size": [
           1884,
           859,
           516
          ],
          "sizemode": "area",
          "sizeref": 5.175,
          "symbol": "circle"
         },
         "mode": "markers",
         "name": "United Kingdom",
         "showlegend": true,
         "type": "scattergeo"
        },
        {
         "customdata": [
          [
           "Via Vittorio Veneto, 27 Rome, 00187 Italy",
           "Lazio"
          ]
         ],
         "geo": "geo",
         "hovertemplate": "<b>%{hovertext}</b><br><br>country=Italia<br>number of people who visited this place=%{marker.size}<br>latitude=%{lat}<br>longitude=%{lon}<br>adress=%{customdata[0]}<br>city/state=%{customdata[1]}<extra></extra>",
         "hovertext": [
          "Santa Maria della Concezione Crypts"
         ],
         "lat": [
          41.9047
         ],
         "legendgroup": "Italia",
         "lon": [
          12.4882
         ],
         "marker": {
          "color": "#00cc96",
          "size": [
           2070
          ],
          "sizemode": "area",
          "sizeref": 5.175,
          "symbol": "circle"
         },
         "mode": "markers",
         "name": "Italia",
         "showlegend": true,
         "type": "scattergeo"
        },
        {
         "customdata": [
          [
           " 51 rue de Montmorency Paris, 75003 France",
           "Île-de-France"
          ]
         ],
         "geo": "geo",
         "hovertemplate": "<b>%{hovertext}</b><br><br>country=France<br>number of people who visited this place=%{marker.size}<br>latitude=%{lat}<br>longitude=%{lon}<br>adress=%{customdata[0]}<br>city/state=%{customdata[1]}<extra></extra>",
         "hovertext": [
          "House of Nicolas Flamel"
         ],
         "lat": [
          48.8635
         ],
         "legendgroup": "France",
         "lon": [
          2.3531
         ],
         "marker": {
          "color": "#ab63fa",
          "size": [
           646
          ],
          "sizemode": "area",
          "sizeref": 5.175,
          "symbol": "circle"
         },
         "mode": "markers",
         "name": "France",
         "showlegend": true,
         "type": "scattergeo"
        },
        {
         "customdata": [
          [
           "1 Strahovské nádvoří Prague, 118 00 Czechia",
           "Praha"
          ]
         ],
         "geo": "geo",
         "hovertemplate": "<b>%{hovertext}</b><br><br>country=Česko<br>number of people who visited this place=%{marker.size}<br>latitude=%{lat}<br>longitude=%{lon}<br>adress=%{customdata[0]}<br>city/state=%{customdata[1]}<extra></extra>",
         "hovertext": [
          "Strahov Monastery "
         ],
         "lat": [
          50.0861
         ],
         "legendgroup": "Česko",
         "lon": [
          14.3893
         ],
         "marker": {
          "color": "#FFA15A",
          "size": [
           929
          ],
          "sizemode": "area",
          "sizeref": 5.175,
          "symbol": "circle"
         },
         "mode": "markers",
         "name": "Česko",
         "showlegend": true,
         "type": "scattergeo"
        }
       ],
       "layout": {
        "geo": {
         "center": {},
         "domain": {
          "x": [
           0,
           1
          ],
          "y": [
           0,
           1
          ]
         },
         "projection": {
          "type": "natural earth"
         }
        },
        "legend": {
         "itemsizing": "constant",
         "title": {
          "text": "country"
         },
         "tracegroupgap": 0
        },
        "margin": {
         "t": 60
        },
        "template": {
         "data": {
          "bar": [
           {
            "error_x": {
             "color": "#2a3f5f"
            },
            "error_y": {
             "color": "#2a3f5f"
            },
            "marker": {
             "line": {
              "color": "#E5ECF6",
              "width": 0.5
             },
             "pattern": {
              "fillmode": "overlay",
              "size": 10,
              "solidity": 0.2
             }
            },
            "type": "bar"
           }
          ],
          "barpolar": [
           {
            "marker": {
             "line": {
              "color": "#E5ECF6",
              "width": 0.5
             },
             "pattern": {
              "fillmode": "overlay",
              "size": 10,
              "solidity": 0.2
             }
            },
            "type": "barpolar"
           }
          ],
          "carpet": [
           {
            "aaxis": {
             "endlinecolor": "#2a3f5f",
             "gridcolor": "white",
             "linecolor": "white",
             "minorgridcolor": "white",
             "startlinecolor": "#2a3f5f"
            },
            "baxis": {
             "endlinecolor": "#2a3f5f",
             "gridcolor": "white",
             "linecolor": "white",
             "minorgridcolor": "white",
             "startlinecolor": "#2a3f5f"
            },
            "type": "carpet"
           }
          ],
          "choropleth": [
           {
            "colorbar": {
             "outlinewidth": 0,
             "ticks": ""
            },
            "type": "choropleth"
           }
          ],
          "contour": [
           {
            "colorbar": {
             "outlinewidth": 0,
             "ticks": ""
            },
            "colorscale": [
             [
              0,
              "#0d0887"
             ],
             [
              0.1111111111111111,
              "#46039f"
             ],
             [
              0.2222222222222222,
              "#7201a8"
             ],
             [
              0.3333333333333333,
              "#9c179e"
             ],
             [
              0.4444444444444444,
              "#bd3786"
             ],
             [
              0.5555555555555556,
              "#d8576b"
             ],
             [
              0.6666666666666666,
              "#ed7953"
             ],
             [
              0.7777777777777778,
              "#fb9f3a"
             ],
             [
              0.8888888888888888,
              "#fdca26"
             ],
             [
              1,
              "#f0f921"
             ]
            ],
            "type": "contour"
           }
          ],
          "contourcarpet": [
           {
            "colorbar": {
             "outlinewidth": 0,
             "ticks": ""
            },
            "type": "contourcarpet"
           }
          ],
          "heatmap": [
           {
            "colorbar": {
             "outlinewidth": 0,
             "ticks": ""
            },
            "colorscale": [
             [
              0,
              "#0d0887"
             ],
             [
              0.1111111111111111,
              "#46039f"
             ],
             [
              0.2222222222222222,
              "#7201a8"
             ],
             [
              0.3333333333333333,
              "#9c179e"
             ],
             [
              0.4444444444444444,
              "#bd3786"
             ],
             [
              0.5555555555555556,
              "#d8576b"
             ],
             [
              0.6666666666666666,
              "#ed7953"
             ],
             [
              0.7777777777777778,
              "#fb9f3a"
             ],
             [
              0.8888888888888888,
              "#fdca26"
             ],
             [
              1,
              "#f0f921"
             ]
            ],
            "type": "heatmap"
           }
          ],
          "heatmapgl": [
           {
            "colorbar": {
             "outlinewidth": 0,
             "ticks": ""
            },
            "colorscale": [
             [
              0,
              "#0d0887"
             ],
             [
              0.1111111111111111,
              "#46039f"
             ],
             [
              0.2222222222222222,
              "#7201a8"
             ],
             [
              0.3333333333333333,
              "#9c179e"
             ],
             [
              0.4444444444444444,
              "#bd3786"
             ],
             [
              0.5555555555555556,
              "#d8576b"
             ],
             [
              0.6666666666666666,
              "#ed7953"
             ],
             [
              0.7777777777777778,
              "#fb9f3a"
             ],
             [
              0.8888888888888888,
              "#fdca26"
             ],
             [
              1,
              "#f0f921"
             ]
            ],
            "type": "heatmapgl"
           }
          ],
          "histogram": [
           {
            "marker": {
             "pattern": {
              "fillmode": "overlay",
              "size": 10,
              "solidity": 0.2
             }
            },
            "type": "histogram"
           }
          ],
          "histogram2d": [
           {
            "colorbar": {
             "outlinewidth": 0,
             "ticks": ""
            },
            "colorscale": [
             [
              0,
              "#0d0887"
             ],
             [
              0.1111111111111111,
              "#46039f"
             ],
             [
              0.2222222222222222,
              "#7201a8"
             ],
             [
              0.3333333333333333,
              "#9c179e"
             ],
             [
              0.4444444444444444,
              "#bd3786"
             ],
             [
              0.5555555555555556,
              "#d8576b"
             ],
             [
              0.6666666666666666,
              "#ed7953"
             ],
             [
              0.7777777777777778,
              "#fb9f3a"
             ],
             [
              0.8888888888888888,
              "#fdca26"
             ],
             [
              1,
              "#f0f921"
             ]
            ],
            "type": "histogram2d"
           }
          ],
          "histogram2dcontour": [
           {
            "colorbar": {
             "outlinewidth": 0,
             "ticks": ""
            },
            "colorscale": [
             [
              0,
              "#0d0887"
             ],
             [
              0.1111111111111111,
              "#46039f"
             ],
             [
              0.2222222222222222,
              "#7201a8"
             ],
             [
              0.3333333333333333,
              "#9c179e"
             ],
             [
              0.4444444444444444,
              "#bd3786"
             ],
             [
              0.5555555555555556,
              "#d8576b"
             ],
             [
              0.6666666666666666,
              "#ed7953"
             ],
             [
              0.7777777777777778,
              "#fb9f3a"
             ],
             [
              0.8888888888888888,
              "#fdca26"
             ],
             [
              1,
              "#f0f921"
             ]
            ],
            "type": "histogram2dcontour"
           }
          ],
          "mesh3d": [
           {
            "colorbar": {
             "outlinewidth": 0,
             "ticks": ""
            },
            "type": "mesh3d"
           }
          ],
          "parcoords": [
           {
            "line": {
             "colorbar": {
              "outlinewidth": 0,
              "ticks": ""
             }
            },
            "type": "parcoords"
           }
          ],
          "pie": [
           {
            "automargin": true,
            "type": "pie"
           }
          ],
          "scatter": [
           {
            "marker": {
             "colorbar": {
              "outlinewidth": 0,
              "ticks": ""
             }
            },
            "type": "scatter"
           }
          ],
          "scatter3d": [
           {
            "line": {
             "colorbar": {
              "outlinewidth": 0,
              "ticks": ""
             }
            },
            "marker": {
             "colorbar": {
              "outlinewidth": 0,
              "ticks": ""
             }
            },
            "type": "scatter3d"
           }
          ],
          "scattercarpet": [
           {
            "marker": {
             "colorbar": {
              "outlinewidth": 0,
              "ticks": ""
             }
            },
            "type": "scattercarpet"
           }
          ],
          "scattergeo": [
           {
            "marker": {
             "colorbar": {
              "outlinewidth": 0,
              "ticks": ""
             }
            },
            "type": "scattergeo"
           }
          ],
          "scattergl": [
           {
            "marker": {
             "colorbar": {
              "outlinewidth": 0,
              "ticks": ""
             }
            },
            "type": "scattergl"
           }
          ],
          "scattermapbox": [
           {
            "marker": {
             "colorbar": {
              "outlinewidth": 0,
              "ticks": ""
             }
            },
            "type": "scattermapbox"
           }
          ],
          "scatterpolar": [
           {
            "marker": {
             "colorbar": {
              "outlinewidth": 0,
              "ticks": ""
             }
            },
            "type": "scatterpolar"
           }
          ],
          "scatterpolargl": [
           {
            "marker": {
             "colorbar": {
              "outlinewidth": 0,
              "ticks": ""
             }
            },
            "type": "scatterpolargl"
           }
          ],
          "scatterternary": [
           {
            "marker": {
             "colorbar": {
              "outlinewidth": 0,
              "ticks": ""
             }
            },
            "type": "scatterternary"
           }
          ],
          "surface": [
           {
            "colorbar": {
             "outlinewidth": 0,
             "ticks": ""
            },
            "colorscale": [
             [
              0,
              "#0d0887"
             ],
             [
              0.1111111111111111,
              "#46039f"
             ],
             [
              0.2222222222222222,
              "#7201a8"
             ],
             [
              0.3333333333333333,
              "#9c179e"
             ],
             [
              0.4444444444444444,
              "#bd3786"
             ],
             [
              0.5555555555555556,
              "#d8576b"
             ],
             [
              0.6666666666666666,
              "#ed7953"
             ],
             [
              0.7777777777777778,
              "#fb9f3a"
             ],
             [
              0.8888888888888888,
              "#fdca26"
             ],
             [
              1,
              "#f0f921"
             ]
            ],
            "type": "surface"
           }
          ],
          "table": [
           {
            "cells": {
             "fill": {
              "color": "#EBF0F8"
             },
             "line": {
              "color": "white"
             }
            },
            "header": {
             "fill": {
              "color": "#C8D4E3"
             },
             "line": {
              "color": "white"
             }
            },
            "type": "table"
           }
          ]
         },
         "layout": {
          "annotationdefaults": {
           "arrowcolor": "#2a3f5f",
           "arrowhead": 0,
           "arrowwidth": 1
          },
          "autotypenumbers": "strict",
          "coloraxis": {
           "colorbar": {
            "outlinewidth": 0,
            "ticks": ""
           }
          },
          "colorscale": {
           "diverging": [
            [
             0,
             "#8e0152"
            ],
            [
             0.1,
             "#c51b7d"
            ],
            [
             0.2,
             "#de77ae"
            ],
            [
             0.3,
             "#f1b6da"
            ],
            [
             0.4,
             "#fde0ef"
            ],
            [
             0.5,
             "#f7f7f7"
            ],
            [
             0.6,
             "#e6f5d0"
            ],
            [
             0.7,
             "#b8e186"
            ],
            [
             0.8,
             "#7fbc41"
            ],
            [
             0.9,
             "#4d9221"
            ],
            [
             1,
             "#276419"
            ]
           ],
           "sequential": [
            [
             0,
             "#0d0887"
            ],
            [
             0.1111111111111111,
             "#46039f"
            ],
            [
             0.2222222222222222,
             "#7201a8"
            ],
            [
             0.3333333333333333,
             "#9c179e"
            ],
            [
             0.4444444444444444,
             "#bd3786"
            ],
            [
             0.5555555555555556,
             "#d8576b"
            ],
            [
             0.6666666666666666,
             "#ed7953"
            ],
            [
             0.7777777777777778,
             "#fb9f3a"
            ],
            [
             0.8888888888888888,
             "#fdca26"
            ],
            [
             1,
             "#f0f921"
            ]
           ],
           "sequentialminus": [
            [
             0,
             "#0d0887"
            ],
            [
             0.1111111111111111,
             "#46039f"
            ],
            [
             0.2222222222222222,
             "#7201a8"
            ],
            [
             0.3333333333333333,
             "#9c179e"
            ],
            [
             0.4444444444444444,
             "#bd3786"
            ],
            [
             0.5555555555555556,
             "#d8576b"
            ],
            [
             0.6666666666666666,
             "#ed7953"
            ],
            [
             0.7777777777777778,
             "#fb9f3a"
            ],
            [
             0.8888888888888888,
             "#fdca26"
            ],
            [
             1,
             "#f0f921"
            ]
           ]
          },
          "colorway": [
           "#636efa",
           "#EF553B",
           "#00cc96",
           "#ab63fa",
           "#FFA15A",
           "#19d3f3",
           "#FF6692",
           "#B6E880",
           "#FF97FF",
           "#FECB52"
          ],
          "font": {
           "color": "#2a3f5f"
          },
          "geo": {
           "bgcolor": "white",
           "lakecolor": "white",
           "landcolor": "#E5ECF6",
           "showlakes": true,
           "showland": true,
           "subunitcolor": "white"
          },
          "hoverlabel": {
           "align": "left"
          },
          "hovermode": "closest",
          "mapbox": {
           "style": "light"
          },
          "paper_bgcolor": "white",
          "plot_bgcolor": "#E5ECF6",
          "polar": {
           "angularaxis": {
            "gridcolor": "white",
            "linecolor": "white",
            "ticks": ""
           },
           "bgcolor": "#E5ECF6",
           "radialaxis": {
            "gridcolor": "white",
            "linecolor": "white",
            "ticks": ""
           }
          },
          "scene": {
           "xaxis": {
            "backgroundcolor": "#E5ECF6",
            "gridcolor": "white",
            "gridwidth": 2,
            "linecolor": "white",
            "showbackground": true,
            "ticks": "",
            "zerolinecolor": "white"
           },
           "yaxis": {
            "backgroundcolor": "#E5ECF6",
            "gridcolor": "white",
            "gridwidth": 2,
            "linecolor": "white",
            "showbackground": true,
            "ticks": "",
            "zerolinecolor": "white"
           },
           "zaxis": {
            "backgroundcolor": "#E5ECF6",
            "gridcolor": "white",
            "gridwidth": 2,
            "linecolor": "white",
            "showbackground": true,
            "ticks": "",
            "zerolinecolor": "white"
           }
          },
          "shapedefaults": {
           "line": {
            "color": "#2a3f5f"
           }
          },
          "ternary": {
           "aaxis": {
            "gridcolor": "white",
            "linecolor": "white",
            "ticks": ""
           },
           "baxis": {
            "gridcolor": "white",
            "linecolor": "white",
            "ticks": ""
           },
           "bgcolor": "#E5ECF6",
           "caxis": {
            "gridcolor": "white",
            "linecolor": "white",
            "ticks": ""
           }
          },
          "title": {
           "x": 0.05
          },
          "xaxis": {
           "automargin": true,
           "gridcolor": "white",
           "linecolor": "white",
           "ticks": "",
           "title": {
            "standoff": 15
           },
           "zerolinecolor": "white",
           "zerolinewidth": 2
          },
          "yaxis": {
           "automargin": true,
           "gridcolor": "white",
           "linecolor": "white",
           "ticks": "",
           "title": {
            "standoff": 15
           },
           "zerolinecolor": "white",
           "zerolinewidth": 2
          }
         }
        }
       }
      },
      "text/html": [
       "<div>                            <div id=\"d00986d9-3c84-4377-9af8-831236776a25\" class=\"plotly-graph-div\" style=\"height:525px; width:100%;\"></div>            <script type=\"text/javascript\">                require([\"plotly\"], function(Plotly) {                    window.PLOTLYENV=window.PLOTLYENV || {};                                    if (document.getElementById(\"d00986d9-3c84-4377-9af8-831236776a25\")) {                    Plotly.newPlot(                        \"d00986d9-3c84-4377-9af8-831236776a25\",                        [{\"customdata\":[[\"275 Church St New York, New York, 10013 United States\",\"New York\"],[\"Roosevelt Island New York, New York, 10044 United States\",\"New York\"],[\"400 S Logan St Denver, Colorado United States\",\"Colorado\"],[\"555 West Temple Street Los Angeles, California, 90012 United States\",\"California\"]],\"geo\":\"geo\",\"hovertemplate\":\"<b>%{hovertext}</b><br><br>country=United States<br>number of people who visited this place=%{marker.size}<br>latitude=%{lat}<br>longitude=%{lon}<br>adress=%{customdata[0]}<br>city/state=%{customdata[1]}<extra></extra>\",\"hovertext\":[\"Dream House\",\"Roosevelt Island Smallpox Hospital Ruins\",\"International Church of Cannabis\",\"Cathedral of Our Lady of the Angels\"],\"lat\":[40.7185,40.7515,39.7091,34.0577],\"legendgroup\":\"United States\",\"lon\":[-74.0048,-73.9596,-104.9823,-118.2449],\"marker\":{\"color\":\"#636efa\",\"size\":[765,1709,607,966],\"sizemode\":\"area\",\"sizeref\":5.175,\"symbol\":\"circle\"},\"mode\":\"markers\",\"name\":\"United States\",\"showlegend\":true,\"type\":\"scattergeo\"},{\"customdata\":[[\"St. Dunstan-in-the-East St. Dunstan's Hill London, England, EC3R 8PP\",\"England\"],[\"Pancras Road London, England, NW1 1UL United Kingdom\",\"England\"],[\"Harrow Road London, England, W10 4RA United Kingdom\",\"England\"]],\"geo\":\"geo\",\"hovertemplate\":\"<b>%{hovertext}</b><br><br>country=United Kingdom<br>number of people who visited this place=%{marker.size}<br>latitude=%{lat}<br>longitude=%{lon}<br>adress=%{customdata[0]}<br>city/state=%{customdata[1]}<extra></extra>\",\"hovertext\":[\"The Ruins of St. Dunstan-in-the-East\",\"The Hardy Tree\",\"Kensal Green Cemetery and Catacombs\"],\"lat\":[51.5097,51.5349,51.5277],\"legendgroup\":\"United Kingdom\",\"lon\":[-0.0827,-0.1309,-0.2176],\"marker\":{\"color\":\"#EF553B\",\"size\":[1884,859,516],\"sizemode\":\"area\",\"sizeref\":5.175,\"symbol\":\"circle\"},\"mode\":\"markers\",\"name\":\"United Kingdom\",\"showlegend\":true,\"type\":\"scattergeo\"},{\"customdata\":[[\"Via Vittorio Veneto, 27 Rome, 00187 Italy\",\"Lazio\"]],\"geo\":\"geo\",\"hovertemplate\":\"<b>%{hovertext}</b><br><br>country=Italia<br>number of people who visited this place=%{marker.size}<br>latitude=%{lat}<br>longitude=%{lon}<br>adress=%{customdata[0]}<br>city/state=%{customdata[1]}<extra></extra>\",\"hovertext\":[\"Santa Maria della Concezione Crypts\"],\"lat\":[41.9047],\"legendgroup\":\"Italia\",\"lon\":[12.4882],\"marker\":{\"color\":\"#00cc96\",\"size\":[2070],\"sizemode\":\"area\",\"sizeref\":5.175,\"symbol\":\"circle\"},\"mode\":\"markers\",\"name\":\"Italia\",\"showlegend\":true,\"type\":\"scattergeo\"},{\"customdata\":[[\" 51 rue de Montmorency Paris, 75003 France\",\"\\u00cele-de-France\"]],\"geo\":\"geo\",\"hovertemplate\":\"<b>%{hovertext}</b><br><br>country=France<br>number of people who visited this place=%{marker.size}<br>latitude=%{lat}<br>longitude=%{lon}<br>adress=%{customdata[0]}<br>city/state=%{customdata[1]}<extra></extra>\",\"hovertext\":[\"House of Nicolas Flamel\"],\"lat\":[48.8635],\"legendgroup\":\"France\",\"lon\":[2.3531],\"marker\":{\"color\":\"#ab63fa\",\"size\":[646],\"sizemode\":\"area\",\"sizeref\":5.175,\"symbol\":\"circle\"},\"mode\":\"markers\",\"name\":\"France\",\"showlegend\":true,\"type\":\"scattergeo\"},{\"customdata\":[[\"1 Strahovsk\\u00e9 n\\u00e1dvo\\u0159\\u00ed Prague, 118 00 Czechia\",\"Praha\"]],\"geo\":\"geo\",\"hovertemplate\":\"<b>%{hovertext}</b><br><br>country=\\u010cesko<br>number of people who visited this place=%{marker.size}<br>latitude=%{lat}<br>longitude=%{lon}<br>adress=%{customdata[0]}<br>city/state=%{customdata[1]}<extra></extra>\",\"hovertext\":[\"Strahov Monastery \"],\"lat\":[50.0861],\"legendgroup\":\"\\u010cesko\",\"lon\":[14.3893],\"marker\":{\"color\":\"#FFA15A\",\"size\":[929],\"sizemode\":\"area\",\"sizeref\":5.175,\"symbol\":\"circle\"},\"mode\":\"markers\",\"name\":\"\\u010cesko\",\"showlegend\":true,\"type\":\"scattergeo\"}],                        {\"template\":{\"data\":{\"bar\":[{\"error_x\":{\"color\":\"#2a3f5f\"},\"error_y\":{\"color\":\"#2a3f5f\"},\"marker\":{\"line\":{\"color\":\"#E5ECF6\",\"width\":0.5},\"pattern\":{\"fillmode\":\"overlay\",\"size\":10,\"solidity\":0.2}},\"type\":\"bar\"}],\"barpolar\":[{\"marker\":{\"line\":{\"color\":\"#E5ECF6\",\"width\":0.5},\"pattern\":{\"fillmode\":\"overlay\",\"size\":10,\"solidity\":0.2}},\"type\":\"barpolar\"}],\"carpet\":[{\"aaxis\":{\"endlinecolor\":\"#2a3f5f\",\"gridcolor\":\"white\",\"linecolor\":\"white\",\"minorgridcolor\":\"white\",\"startlinecolor\":\"#2a3f5f\"},\"baxis\":{\"endlinecolor\":\"#2a3f5f\",\"gridcolor\":\"white\",\"linecolor\":\"white\",\"minorgridcolor\":\"white\",\"startlinecolor\":\"#2a3f5f\"},\"type\":\"carpet\"}],\"choropleth\":[{\"colorbar\":{\"outlinewidth\":0,\"ticks\":\"\"},\"type\":\"choropleth\"}],\"contour\":[{\"colorbar\":{\"outlinewidth\":0,\"ticks\":\"\"},\"colorscale\":[[0.0,\"#0d0887\"],[0.1111111111111111,\"#46039f\"],[0.2222222222222222,\"#7201a8\"],[0.3333333333333333,\"#9c179e\"],[0.4444444444444444,\"#bd3786\"],[0.5555555555555556,\"#d8576b\"],[0.6666666666666666,\"#ed7953\"],[0.7777777777777778,\"#fb9f3a\"],[0.8888888888888888,\"#fdca26\"],[1.0,\"#f0f921\"]],\"type\":\"contour\"}],\"contourcarpet\":[{\"colorbar\":{\"outlinewidth\":0,\"ticks\":\"\"},\"type\":\"contourcarpet\"}],\"heatmap\":[{\"colorbar\":{\"outlinewidth\":0,\"ticks\":\"\"},\"colorscale\":[[0.0,\"#0d0887\"],[0.1111111111111111,\"#46039f\"],[0.2222222222222222,\"#7201a8\"],[0.3333333333333333,\"#9c179e\"],[0.4444444444444444,\"#bd3786\"],[0.5555555555555556,\"#d8576b\"],[0.6666666666666666,\"#ed7953\"],[0.7777777777777778,\"#fb9f3a\"],[0.8888888888888888,\"#fdca26\"],[1.0,\"#f0f921\"]],\"type\":\"heatmap\"}],\"heatmapgl\":[{\"colorbar\":{\"outlinewidth\":0,\"ticks\":\"\"},\"colorscale\":[[0.0,\"#0d0887\"],[0.1111111111111111,\"#46039f\"],[0.2222222222222222,\"#7201a8\"],[0.3333333333333333,\"#9c179e\"],[0.4444444444444444,\"#bd3786\"],[0.5555555555555556,\"#d8576b\"],[0.6666666666666666,\"#ed7953\"],[0.7777777777777778,\"#fb9f3a\"],[0.8888888888888888,\"#fdca26\"],[1.0,\"#f0f921\"]],\"type\":\"heatmapgl\"}],\"histogram\":[{\"marker\":{\"pattern\":{\"fillmode\":\"overlay\",\"size\":10,\"solidity\":0.2}},\"type\":\"histogram\"}],\"histogram2d\":[{\"colorbar\":{\"outlinewidth\":0,\"ticks\":\"\"},\"colorscale\":[[0.0,\"#0d0887\"],[0.1111111111111111,\"#46039f\"],[0.2222222222222222,\"#7201a8\"],[0.3333333333333333,\"#9c179e\"],[0.4444444444444444,\"#bd3786\"],[0.5555555555555556,\"#d8576b\"],[0.6666666666666666,\"#ed7953\"],[0.7777777777777778,\"#fb9f3a\"],[0.8888888888888888,\"#fdca26\"],[1.0,\"#f0f921\"]],\"type\":\"histogram2d\"}],\"histogram2dcontour\":[{\"colorbar\":{\"outlinewidth\":0,\"ticks\":\"\"},\"colorscale\":[[0.0,\"#0d0887\"],[0.1111111111111111,\"#46039f\"],[0.2222222222222222,\"#7201a8\"],[0.3333333333333333,\"#9c179e\"],[0.4444444444444444,\"#bd3786\"],[0.5555555555555556,\"#d8576b\"],[0.6666666666666666,\"#ed7953\"],[0.7777777777777778,\"#fb9f3a\"],[0.8888888888888888,\"#fdca26\"],[1.0,\"#f0f921\"]],\"type\":\"histogram2dcontour\"}],\"mesh3d\":[{\"colorbar\":{\"outlinewidth\":0,\"ticks\":\"\"},\"type\":\"mesh3d\"}],\"parcoords\":[{\"line\":{\"colorbar\":{\"outlinewidth\":0,\"ticks\":\"\"}},\"type\":\"parcoords\"}],\"pie\":[{\"automargin\":true,\"type\":\"pie\"}],\"scatter\":[{\"marker\":{\"colorbar\":{\"outlinewidth\":0,\"ticks\":\"\"}},\"type\":\"scatter\"}],\"scatter3d\":[{\"line\":{\"colorbar\":{\"outlinewidth\":0,\"ticks\":\"\"}},\"marker\":{\"colorbar\":{\"outlinewidth\":0,\"ticks\":\"\"}},\"type\":\"scatter3d\"}],\"scattercarpet\":[{\"marker\":{\"colorbar\":{\"outlinewidth\":0,\"ticks\":\"\"}},\"type\":\"scattercarpet\"}],\"scattergeo\":[{\"marker\":{\"colorbar\":{\"outlinewidth\":0,\"ticks\":\"\"}},\"type\":\"scattergeo\"}],\"scattergl\":[{\"marker\":{\"colorbar\":{\"outlinewidth\":0,\"ticks\":\"\"}},\"type\":\"scattergl\"}],\"scattermapbox\":[{\"marker\":{\"colorbar\":{\"outlinewidth\":0,\"ticks\":\"\"}},\"type\":\"scattermapbox\"}],\"scatterpolar\":[{\"marker\":{\"colorbar\":{\"outlinewidth\":0,\"ticks\":\"\"}},\"type\":\"scatterpolar\"}],\"scatterpolargl\":[{\"marker\":{\"colorbar\":{\"outlinewidth\":0,\"ticks\":\"\"}},\"type\":\"scatterpolargl\"}],\"scatterternary\":[{\"marker\":{\"colorbar\":{\"outlinewidth\":0,\"ticks\":\"\"}},\"type\":\"scatterternary\"}],\"surface\":[{\"colorbar\":{\"outlinewidth\":0,\"ticks\":\"\"},\"colorscale\":[[0.0,\"#0d0887\"],[0.1111111111111111,\"#46039f\"],[0.2222222222222222,\"#7201a8\"],[0.3333333333333333,\"#9c179e\"],[0.4444444444444444,\"#bd3786\"],[0.5555555555555556,\"#d8576b\"],[0.6666666666666666,\"#ed7953\"],[0.7777777777777778,\"#fb9f3a\"],[0.8888888888888888,\"#fdca26\"],[1.0,\"#f0f921\"]],\"type\":\"surface\"}],\"table\":[{\"cells\":{\"fill\":{\"color\":\"#EBF0F8\"},\"line\":{\"color\":\"white\"}},\"header\":{\"fill\":{\"color\":\"#C8D4E3\"},\"line\":{\"color\":\"white\"}},\"type\":\"table\"}]},\"layout\":{\"annotationdefaults\":{\"arrowcolor\":\"#2a3f5f\",\"arrowhead\":0,\"arrowwidth\":1},\"autotypenumbers\":\"strict\",\"coloraxis\":{\"colorbar\":{\"outlinewidth\":0,\"ticks\":\"\"}},\"colorscale\":{\"diverging\":[[0,\"#8e0152\"],[0.1,\"#c51b7d\"],[0.2,\"#de77ae\"],[0.3,\"#f1b6da\"],[0.4,\"#fde0ef\"],[0.5,\"#f7f7f7\"],[0.6,\"#e6f5d0\"],[0.7,\"#b8e186\"],[0.8,\"#7fbc41\"],[0.9,\"#4d9221\"],[1,\"#276419\"]],\"sequential\":[[0.0,\"#0d0887\"],[0.1111111111111111,\"#46039f\"],[0.2222222222222222,\"#7201a8\"],[0.3333333333333333,\"#9c179e\"],[0.4444444444444444,\"#bd3786\"],[0.5555555555555556,\"#d8576b\"],[0.6666666666666666,\"#ed7953\"],[0.7777777777777778,\"#fb9f3a\"],[0.8888888888888888,\"#fdca26\"],[1.0,\"#f0f921\"]],\"sequentialminus\":[[0.0,\"#0d0887\"],[0.1111111111111111,\"#46039f\"],[0.2222222222222222,\"#7201a8\"],[0.3333333333333333,\"#9c179e\"],[0.4444444444444444,\"#bd3786\"],[0.5555555555555556,\"#d8576b\"],[0.6666666666666666,\"#ed7953\"],[0.7777777777777778,\"#fb9f3a\"],[0.8888888888888888,\"#fdca26\"],[1.0,\"#f0f921\"]]},\"colorway\":[\"#636efa\",\"#EF553B\",\"#00cc96\",\"#ab63fa\",\"#FFA15A\",\"#19d3f3\",\"#FF6692\",\"#B6E880\",\"#FF97FF\",\"#FECB52\"],\"font\":{\"color\":\"#2a3f5f\"},\"geo\":{\"bgcolor\":\"white\",\"lakecolor\":\"white\",\"landcolor\":\"#E5ECF6\",\"showlakes\":true,\"showland\":true,\"subunitcolor\":\"white\"},\"hoverlabel\":{\"align\":\"left\"},\"hovermode\":\"closest\",\"mapbox\":{\"style\":\"light\"},\"paper_bgcolor\":\"white\",\"plot_bgcolor\":\"#E5ECF6\",\"polar\":{\"angularaxis\":{\"gridcolor\":\"white\",\"linecolor\":\"white\",\"ticks\":\"\"},\"bgcolor\":\"#E5ECF6\",\"radialaxis\":{\"gridcolor\":\"white\",\"linecolor\":\"white\",\"ticks\":\"\"}},\"scene\":{\"xaxis\":{\"backgroundcolor\":\"#E5ECF6\",\"gridcolor\":\"white\",\"gridwidth\":2,\"linecolor\":\"white\",\"showbackground\":true,\"ticks\":\"\",\"zerolinecolor\":\"white\"},\"yaxis\":{\"backgroundcolor\":\"#E5ECF6\",\"gridcolor\":\"white\",\"gridwidth\":2,\"linecolor\":\"white\",\"showbackground\":true,\"ticks\":\"\",\"zerolinecolor\":\"white\"},\"zaxis\":{\"backgroundcolor\":\"#E5ECF6\",\"gridcolor\":\"white\",\"gridwidth\":2,\"linecolor\":\"white\",\"showbackground\":true,\"ticks\":\"\",\"zerolinecolor\":\"white\"}},\"shapedefaults\":{\"line\":{\"color\":\"#2a3f5f\"}},\"ternary\":{\"aaxis\":{\"gridcolor\":\"white\",\"linecolor\":\"white\",\"ticks\":\"\"},\"baxis\":{\"gridcolor\":\"white\",\"linecolor\":\"white\",\"ticks\":\"\"},\"bgcolor\":\"#E5ECF6\",\"caxis\":{\"gridcolor\":\"white\",\"linecolor\":\"white\",\"ticks\":\"\"}},\"title\":{\"x\":0.05},\"xaxis\":{\"automargin\":true,\"gridcolor\":\"white\",\"linecolor\":\"white\",\"ticks\":\"\",\"title\":{\"standoff\":15},\"zerolinecolor\":\"white\",\"zerolinewidth\":2},\"yaxis\":{\"automargin\":true,\"gridcolor\":\"white\",\"linecolor\":\"white\",\"ticks\":\"\",\"title\":{\"standoff\":15},\"zerolinecolor\":\"white\",\"zerolinewidth\":2}}},\"geo\":{\"domain\":{\"x\":[0.0,1.0],\"y\":[0.0,1.0]},\"projection\":{\"type\":\"natural earth\"},\"center\":{}},\"legend\":{\"title\":{\"text\":\"country\"},\"tracegroupgap\":0,\"itemsizing\":\"constant\"},\"margin\":{\"t\":60}},                        {\"responsive\": true}                    ).then(function(){\n",
       "                            \n",
       "var gd = document.getElementById('d00986d9-3c84-4377-9af8-831236776a25');\n",
       "var x = new MutationObserver(function (mutations, observer) {{\n",
       "        var display = window.getComputedStyle(gd).display;\n",
       "        if (!display || display === 'none') {{\n",
       "            console.log([gd, 'removed!']);\n",
       "            Plotly.purge(gd);\n",
       "            observer.disconnect();\n",
       "        }}\n",
       "}});\n",
       "\n",
       "// Listen for the removal of the full notebook cells\n",
       "var notebookContainer = gd.closest('#notebook-container');\n",
       "if (notebookContainer) {{\n",
       "    x.observe(notebookContainer, {childList: true});\n",
       "}}\n",
       "\n",
       "// Listen for the clearing of the current output cell\n",
       "var outputEl = gd.closest('.output');\n",
       "if (outputEl) {{\n",
       "    x.observe(outputEl, {childList: true});\n",
       "}}\n",
       "\n",
       "                        })                };                });            </script>        </div>"
      ]
     },
     "metadata": {},
     "output_type": "display_data"
    }
   ],
   "source": [
    "import plotly.express as px\n",
    "import plotly.graph_objs as go\n",
    "\n",
    "fig = px.scatter_geo(resquery,lat=\"placeAlt\", lon=\"placeLong\",\n",
    "                     size=\"numPeopleVisited\", color=\"country\",\n",
    "                     projection=\"natural earth\",\n",
    "                     labels={'placeAlt':'latitude','placeLong':'longitude','placeAdress':'adress','numPeopleVisited':'number of people who visited this place'},\n",
    "                     hover_data=[\"placeAdress\",\"city/state\"],hover_name=\"placeName\")\n",
    "fig.show()"
   ]
  },
  {
   "cell_type": "markdown",
   "metadata": {},
   "source": [
    "#### command line"
   ]
  },
  {
   "cell_type": "code",
   "execution_count": null,
   "metadata": {},
   "outputs": [],
   "source": [
    "#Command Line question\n",
    "forCommandLine = data[data[\"placeAdress\"].str.contains(\"Italy\")]\n",
    "print(\"Total number of places in Italy:\", len(forCommandLine))\n",
    "print(\"The average of visitors in Italy:\", int((forCommandLine[\"numPeopleVisited\"].sum())))\n",
    "print(\"Who wants to visit England (in total):\", forCommandLine[\"numPeopleWant\"].sum())\n",
    "print()\n",
    "\n",
    "forCommandLine2 = data[data[\"placeAdress\"].str.contains(\"Spain\")]\n",
    "print(\"Total number of places in Spain:\", len(forCommandLine2))\n",
    "print(\"The average of visitors in Spain:\", int((forCommandLine2[\"numPeopleVisited\"].sum())/len(forCommandLine)))\n",
    "print(\"Who wants to visit England (in total):\", forCommandLine2[\"numPeopleWant\"].sum())\n",
    "print()\n",
    "\n",
    "\n",
    "forCommandLine3 = data[data[\"placeAdress\"].str.contains(\"France\")]\n",
    "print(\"Total number of places in France:\", len(forCommandLine3))\n",
    "print(\"The average of visitors in France:\", int((forCommandLine3[\"numPeopleVisited\"].sum())/len(forCommandLine)))\n",
    "print(\"Who wants to visit France (in total):\", forCommandLine3[\"numPeopleWant\"].sum())\n",
    "print()\n",
    "\n",
    "\n",
    "forCommandLine4 = data[data[\"placeAdress\"].str.contains(\"England\")]\n",
    "print(\"Total number of places in England:\", len(forCommandLine4))\n",
    "print(\"The average of visitors in England:\", int((forCommandLine4[\"numPeopleVisited\"].sum())/len(forCommandLine4)))\n",
    "print(\"Who wants to visit England (in total):\", forCommandLine4[\"numPeopleWant\"].sum())\n",
    "print()\n",
    "\n",
    "\n",
    "\n",
    "forCommandLine5 = data[data[\"placeAdress\"].str.contains(\"United States\")]\n",
    "print(\"Total number of places in the United States:\", len(forCommandLine5))\n",
    "print(\"The average of visitors in United States:\", int((forCommandLine5[\"numPeopleVisited\"].sum())/len(forCommandLine5)))\n",
    "print(\"Who wants to visit United States (in total):\", forCommandLine5[\"numPeopleWant\"].sum())\n",
    "print()"
   ]
  }
 ],
 "metadata": {
  "kernelspec": {
   "display_name": "Python 3 (ipykernel)",
   "language": "python",
   "name": "python3"
  },
  "language_info": {
   "codemirror_mode": {
    "name": "ipython",
    "version": 3
   },
   "file_extension": ".py",
   "mimetype": "text/x-python",
   "name": "python",
   "nbconvert_exporter": "python",
   "pygments_lexer": "ipython3",
   "version": "3.9.12"
  },
  "vscode": {
   "interpreter": {
    "hash": "0095c6ec66f02ae1bc8a134f6078f14ee669be44a5c4ac33d7f267434e255fcc"
   }
  }
 },
 "nbformat": 4,
 "nbformat_minor": 2
}
