{
 "cells": [
  {
   "cell_type": "markdown",
   "id": "5493d470",
   "metadata": {},
   "source": [
    "# 7. Theoretical question"
   ]
  },
  {
   "cell_type": "markdown",
   "id": "cf16a750",
   "metadata": {},
   "source": [
    "#### 1. Try solving the problem mentioned above using three different sorting algorithms (do not use any MapReduce algorithm). (Note: Built-in Python functions (like .mean, .sort, etc.) are not allowed to be used. You must implement the algorithms from scratch)."
   ]
  },
  {
   "cell_type": "code",
   "execution_count": 1,
   "id": "09614a50",
   "metadata": {},
   "outputs": [],
   "source": [
    "#let's import the only library we'll need that is time and we'll use it to evaluate the time taken by the algorithm\n",
    "import time"
   ]
  },
  {
   "cell_type": "markdown",
   "id": "3adcd4a6",
   "metadata": {},
   "source": [
    "### Se va bene poi inseriamo queste 4 funzioni più quelle di ordinamento in un file da importare"
   ]
  },
  {
   "cell_type": "markdown",
   "id": "12b9575b",
   "metadata": {},
   "source": [
    "In the next blocks there are some useful functions that we'll use for answering question 7.1:\n",
    "- **my_mean** : it is a function that given a row of the file ApplicantsInfo.txt returns the average of the m scores in that row;\n",
    "- **sort_by_name** : it is a function that, given two words (name2, name1), if name2 in alphabetical order is before name1 it returns 1, otherwise 0;\n",
    "- **read_file** : it is a function that reads the file ApplicantsInfo.txt and return a list with all the informations we need;\n",
    "- **print_file** : it is a function that contains the code to write a .text file with the sorted list."
   ]
  },
  {
   "cell_type": "code",
   "execution_count": 2,
   "id": "325f5226",
   "metadata": {},
   "outputs": [],
   "source": [
    "def my_mean(l,m): \n",
    "    mean=0\n",
    "    for i in range(2,len(l)):\n",
    "        mean += int(l[i])\n",
    "    mean = mean/m\n",
    "    return mean"
   ]
  },
  {
   "cell_type": "code",
   "execution_count": 3,
   "id": "b9dfbf9e",
   "metadata": {},
   "outputs": [],
   "source": [
    "def sort_by_name(name2,name1):\n",
    "\n",
    "    for i in range(min(len(name1),len(name2))):\n",
    "        # for loop stops as soon as the first word finishes the characters\n",
    "        if name2[i]<name1[i]:\n",
    "            return 1\n",
    "        elif name2[i]>name1[i]:\n",
    "            return 0\n",
    "\n",
    "    # at this point if the for loop ended without returning any value this mean that the shortest word is equal to the first part of \n",
    "    # the other word and so we'll return 0 or 1 depending on the lengths of the words \n",
    "    if len(name1)<len(name2):\n",
    "        return 0\n",
    "    else:\n",
    "        return 1"
   ]
  },
  {
   "cell_type": "code",
   "execution_count": 4,
   "id": "054c9126",
   "metadata": {},
   "outputs": [],
   "source": [
    "def read_file():\n",
    "    f = open(\"C://Users//auror//Desktop//data_science//ADM//HM//3//ApplicantsInfo.txt\",\"r\")\n",
    "    dati=[]\n",
    "\n",
    "    # first we read the first row and we store in n the number of students and in m the number of scores for each student\n",
    "    n, m = map(int,f.readline().split()) \n",
    "\n",
    "    #starting from the second row, with the while loop we read 1 row at time and the while loop ends when there isn't anymore rows to be read \n",
    "    j = 1\n",
    "    while True:\n",
    "        # dati_temp will be a list s.t. in the first two positions there are 'name' and 'surname' of a student and starting from position 3 till\n",
    "        # the last we have all of his/her scores (m in total)\n",
    "        dati_temp = f.readline().split()\n",
    "        if not dati_temp:\n",
    "            break\n",
    "        # then we call the function my_mean in order to compute the mean of the scores of a given student  and then we'll append to the list 'dati'\n",
    "        # a list done like this [name,surname,mean of the scores]\n",
    "        mean = my_mean(dati_temp,m)\n",
    "        dati.append([dati_temp[0],dati_temp[1],round(mean,2)])\n",
    "    f.close()\n",
    "    return dati, n, m"
   ]
  },
  {
   "cell_type": "code",
   "execution_count": 38,
   "id": "38d92dc9",
   "metadata": {},
   "outputs": [],
   "source": [
    "def print_file(dati):\n",
    "    f= open(\"RankingList_quicksort.txt\",\"w\")\n",
    "    # for each 3-elements list i in dati we print in a row i[0] (name), i[1] (surname) and i[2] (avarage)\n",
    "    for i in dati:\n",
    "        f.write(i[0]+\" \"+i[1]+\" \"+str(i[2]))\n",
    "        f.write(\"\\n\")\n",
    "    f.close()\n",
    "    return"
   ]
  },
  {
   "cell_type": "markdown",
   "id": "1a199e35",
   "metadata": {},
   "source": [
    "The next 3 blocks contains the code to compute each of the sorting algorithm.  "
   ]
  },
  {
   "cell_type": "markdown",
   "id": "e93e9b29",
   "metadata": {},
   "source": [
    "#### Insertion sort"
   ]
  },
  {
   "cell_type": "code",
   "execution_count": 35,
   "id": "73de7ac7",
   "metadata": {},
   "outputs": [
    {
     "name": "stdout",
     "output_type": "stream",
     "text": [
      "The time taken for computing insertion_sort is:  4.0 minutes and 42.48 seconds\n"
     ]
    }
   ],
   "source": [
    "#run this cell to compute insertion sort algorithm\n",
    "d,n,m = read_file()\n",
    "start_time = time.time()\n",
    "insertion_sort(d,n)\n",
    "end_time = time.time()\n",
    "minuti = (end_time-start_time)//60\n",
    "secondi = (end_time-start_time)%60\n",
    "print_file(d)\n",
    "print('The time taken for computing insertion_sort is: ',minuti,'minutes and',round(secondi,2),'seconds')"
   ]
  },
  {
   "cell_type": "markdown",
   "id": "9dd6a2e2",
   "metadata": {},
   "source": [
    "#### Merge sort"
   ]
  },
  {
   "cell_type": "code",
   "execution_count": 37,
   "id": "401a1896",
   "metadata": {},
   "outputs": [
    {
     "name": "stdout",
     "output_type": "stream",
     "text": [
      "The time taken for computing merge sort is:  0.0 minutes and 0.76 seconds\n"
     ]
    }
   ],
   "source": [
    "##run this cell tu compute merge sort algorithm\n",
    "d,n,m = read_file()\n",
    "start_time = time.time()\n",
    "merge_sort(d,1,n)\n",
    "end_time = time.time()\n",
    "minuti = (end_time-start_time)//60\n",
    "secondi = (end_time-start_time)%60\n",
    "print_file(d)\n",
    "print('The time taken for computing merge sort is: ',minuti,'minutes and',round(secondi,2),'seconds')"
   ]
  },
  {
   "cell_type": "markdown",
   "id": "86c36800",
   "metadata": {},
   "source": [
    "#### Quick sort"
   ]
  },
  {
   "cell_type": "code",
   "execution_count": 42,
   "id": "2e0337a2",
   "metadata": {},
   "outputs": [
    {
     "name": "stdout",
     "output_type": "stream",
     "text": [
      "The time taken for computing quick sort is:  0.0 minutes and 33.7 seconds\n"
     ]
    }
   ],
   "source": [
    "##run this cell tu compute quick sort algorithm\n",
    "d,n,m = read_file()\n",
    "start_time = time.time()\n",
    "quicksort(d,0,n-1)\n",
    "end_time = time.time()\n",
    "minuti = (end_time-start_time)//60\n",
    "secondi = (end_time-start_time)%60\n",
    "print_file(d)\n",
    "print('The time taken for computing quick sort is: ',minuti,'minutes and',round(secondi,2),'seconds')"
   ]
  },
  {
   "cell_type": "markdown",
   "id": "1729313e",
   "metadata": {},
   "source": [
    "The next block contains the function insertion_sort"
   ]
  },
  {
   "cell_type": "code",
   "execution_count": 33,
   "id": "031384c8",
   "metadata": {},
   "outputs": [],
   "source": [
    "#insertion sort\n",
    "def insertion_sort(dati,n):\n",
    "    # the for loop starts from the second element of the list dati since we suppose that the first element is already in the right position\n",
    "    for i in range(1,int(n)):\n",
    "        # starting from the element i-1 we go backwords in the list as soon as we found an element j such that dati[j][2]<dati[i][2] or \n",
    "        # dati[j][2]=dati[i][2] but in alphabetical order the name and surname of the element j have to be before the element i \n",
    "        while ((dati[i][2]>=dati[i-1][2]) & (i>0)):\n",
    "            # everytime if dati[i][2]>dati[i-1][2] we exchange the two lists (dati[i] and dati[i-1])\n",
    "            if dati[i][2]>dati[i-1][2]:\n",
    "                temp=dati[i-1]\n",
    "                dati[i-1]=dati[i]\n",
    "                dati[i]=temp\n",
    "                # after exchanging element i and element i-1 we point to the element before i and skip the rest of the while since we know that \n",
    "                # the avarages were not equal\n",
    "                i -= 1\n",
    "                continue\n",
    "            # if dati[i][2]=dati[i-1][2] then we check the alphabetical order of the two lists\n",
    "            elif dati[i][2]==dati[i-1][2]:\n",
    "                # if the names of element i and element i-1 are equal we call the function sort_by_name with their surnames\n",
    "                if dati[i][0]==dati[i-1][0]:\n",
    "                    y_n = sort_by_name(dati[i][1],dati[i-1][1])\n",
    "                #instead if the names are not equal we call the function sort_by_name with the names of element i and i-1\n",
    "                elif dati[i][0]!=dati[i-1][0]:\n",
    "                    y_n = sort_by_name(dati[i][0],dati[i-1][0])\n",
    "                # if y_n=1 this mean that name and surname of dati[i] in alphabetical order have to be before dati[i-1] and so we exchange the \n",
    "                # two lists \n",
    "                if y_n:\n",
    "                    temp=dati[i-1]\n",
    "                    dati[i-1]=dati[i]\n",
    "                    dati[i]=temp\n",
    "                    i -= 1\n",
    "                # otherwise, if element i and i-1 were already in alphabetical order this mean that the element i was already in the right\n",
    "                # position and so we break the while \n",
    "                else:\n",
    "                    break\n",
    "    return"
   ]
  },
  {
   "cell_type": "markdown",
   "id": "24c7ed93",
   "metadata": {},
   "source": [
    "The next two blocks contains the merge_sort function and the merge function used in the first one."
   ]
  },
  {
   "cell_type": "code",
   "execution_count": 8,
   "id": "f11d9f44",
   "metadata": {},
   "outputs": [],
   "source": [
    "def merge_sort(dati,start,end):\n",
    "    # the recursion stops when start=end\n",
    "    if start<end:\n",
    "        # in this case we call recoursively the function merge_sort itself in the two sublists with indixes [start:medium] and\n",
    "        # [medium+1:end]\n",
    "        medium = (start+end)//2\n",
    "        merge_sort(dati,start,medium)\n",
    "        merge_sort(dati,medium+1,end)\n",
    "        # then we call the function merge that, given the fact that the two sublists [start:medium] and [medium+1:end] are \n",
    "        # sorted, will sort the whole list [start:end] comparing the elements of the two sublists \n",
    "        merge(dati,start,medium,end)\n",
    "    return"
   ]
  },
  {
   "cell_type": "code",
   "execution_count": 13,
   "id": "11f72e6f",
   "metadata": {},
   "outputs": [],
   "source": [
    "def merge(dati,start,medium,end):\n",
    "    # we need to create a local list in which we can store the sorted elements of the two sublists\n",
    "    B = []\n",
    "    # since when we call the function merge_sort for the first time we give to it start=1 and end=n, we now need to fix indexes\n",
    "    # since, as we know, in python the start index of a list is 0 and the last index is len(list)-1 (=n-1) \n",
    "    i = start-1\n",
    "    j = medium\n",
    "    \n",
    "    # i will be the index that point to elements of the left sublist and j the one that point to elements of the right sublist\n",
    "    while ((i<medium) and (j<end)):\n",
    "        # now we compare the average of the elements i and j and we'll append to our local list B the one that is greater\n",
    "        # or, if they're equal, we'll append the one that has a name/surname that should be before the other in alphabetical order\n",
    "        # Depending on which elements we've added we can after point to the next element of the first or the second sublist\n",
    "        if dati[i][2]<dati[j][2]:\n",
    "            B.append(dati[j])\n",
    "            j+=1\n",
    "        elif dati[i][2]>dati[j][2]:\n",
    "            B.append(dati[i])\n",
    "            i+=1\n",
    "        elif dati[i][2]==dati[j][2]:\n",
    "            if dati[i][0]==dati[j][0]:\n",
    "                y_n = sort_by_name(dati[i][1],dati[j][1])\n",
    "            elif dati[i][0]!=dati[j][0]:\n",
    "                y_n = sort_by_name(dati[i][0],dati[j][0])\n",
    "            if y_n==1:\n",
    "                B.append(dati[i])\n",
    "                i+=1\n",
    "            elif y_n==0:\n",
    "                B.append(dati[j])\n",
    "                j+=1\n",
    "    # after the previous while we'll have a sublist such that all its elements have been copied in the list B and the other one\n",
    "    # such that we have still some elements of it that have to be copied\n",
    "    \n",
    "    while i<medium:\n",
    "        B.append(dati[i])\n",
    "        i+=1\n",
    "    while j<end:\n",
    "        B.append(dati[j])\n",
    "        j+=1\n",
    "    \n",
    "    # at this point in the list B we have all the elements [start:end] of the original list sorted and so we can substitute\n",
    "    # dati[start:end] with B\n",
    "    if B !=[]:\n",
    "        for k in range(0,end-start+1):\n",
    "            dati[start-1+k]=B[k]\n",
    "    return "
   ]
  },
  {
   "cell_type": "markdown",
   "id": "a01cc8cb",
   "metadata": {},
   "source": [
    "The next two blocks contains the quicksort function and the partition function used in the first one."
   ]
  },
  {
   "cell_type": "code",
   "execution_count": 40,
   "id": "45d90c91",
   "metadata": {},
   "outputs": [],
   "source": [
    "def quicksort(dati,start,end):\n",
    "    # the recursion stops when start=end\n",
    "    if start < end:\n",
    "        # we call the function partition that returns the pivot and move all the minor elements to the left of the pivot and\n",
    "        # the major elements to the right.\n",
    "        pivot = partition(dati,start,end)\n",
    "        # in this case we call recoursively the function quicksort itself in the two sublists with indixes [start:piovt] and\n",
    "        # [pivot+1:end]\n",
    "        quicksort(dati,start,pivot)\n",
    "        quicksort(dati,pivot+1,end)\n",
    "    return"
   ]
  },
  {
   "cell_type": "code",
   "execution_count": 41,
   "id": "94d170ca",
   "metadata": {},
   "outputs": [],
   "source": [
    "def partition(dati,start,end):\n",
    "    # p will be the average of mark for the first student since start is the first element of the list conteining the name,\n",
    "    # surname and mark for every student. i is the inizial position, j is the last position.\n",
    "    p = dati[start][2]\n",
    "    i = start\n",
    "    j = end\n",
    "    while True:\n",
    "        # we iterate all the students with their marks untile the while cicle is true.\n",
    "        while dati[j][2] < p :\n",
    "            # we enter in this while cicle if the student's mark is less than the p mark.\n",
    "            # if this happen j became the position j -1 (so we move by one position to the left)\n",
    "            j -=1 \n",
    "        while dati[i][2] > p :\n",
    "            # we enter in this while cicle if the student's mark is more than the p mark.\n",
    "            # if this happen i became the position i + 1 (so we move by one position to the right)\n",
    "            i +=1\n",
    "        # arrived to this point the students in position i and j will be in the wrong position because the one in position j\n",
    "        # need to be to the left because has the mark bigger than the pivot and viceversa.\n",
    "        if i<j:\n",
    "            if dati[i][2]!=dati[j][2]:\n",
    "                # if i is smaller than j and the student's mark at position i is different from the student's mark at position\n",
    "                # j we exchange the position of this two students in dati.\n",
    "                app = dati[i]\n",
    "                dati[i] = dati[j]\n",
    "                dati[j] = app\n",
    "            elif dati[i][2]==dati[j][2]:\n",
    "                # elif, if the two marks are the same we look to the name and surname of the students.\n",
    "                if dati[i][0]==dati[j][0]:\n",
    "                    # if they have the same name we sort looking to the surname.\n",
    "                    y_n = sort_by_name(dati[i][1],dati[j][1])\n",
    "                elif dati[i][0]!=dati[j][0]:\n",
    "                    # if their name is different we sort for the name.\n",
    "                    y_n = sort_by_name(dati[i][0],dati[j][0])\n",
    "                if y_n==1:\n",
    "                    # if the first person with is name and surname in alphabetic order comes before the second we don't change\n",
    "                    # thei order in dati and j became j-1 (so we move by one position to the left).\n",
    "                    j -= 1\n",
    "                elif y_n==0:\n",
    "                    # else if the second person with is name and surname in alphabetic order comes before the first we exchange\n",
    "                    # them.\n",
    "                    app = dati[i]\n",
    "                    dati[i] = dati[j]\n",
    "                    dati[j] = app\n",
    "        else:\n",
    "            # if i >= j we break the while cicle and we return j because this partion is completed.\n",
    "            break\n",
    "    return j\n",
    "\n"
   ]
  },
  {
   "cell_type": "markdown",
   "id": "b6805e79",
   "metadata": {},
   "source": [
    "**solo una prova per vedere se gli output dei vari algoritmi coincidono**"
   ]
  },
  {
   "cell_type": "code",
   "execution_count": 43,
   "id": "4eba318a",
   "metadata": {},
   "outputs": [
    {
     "name": "stdout",
     "output_type": "stream",
     "text": [
      "la vita è bella 50000\n"
     ]
    }
   ],
   "source": [
    "f1 = open(\"RankingList_merge.txt\",\"r\")\n",
    "f2 = open(\"RankingList_insertion.txt\",\"r\")\n",
    "f3 = open(\"RankingList_quicksort.txt\")\n",
    "\n",
    "for i in range(1,n+1):\n",
    "    l1 = f1.readline()\n",
    "    l2 = f2.readline()\n",
    "    l3 = f3.readline()\n",
    "    if l1 != l2 or l2 != l3 or l1 != l3:\n",
    "        print('la vita fa schifo')\n",
    "        break\n",
    "    \n",
    "    \n",
    "print('la vita è bella',i)\n",
    "f1.close()\n",
    "f2.close()\n",
    "f3.close()"
   ]
  },
  {
   "cell_type": "markdown",
   "id": "3dec453e",
   "metadata": {},
   "source": [
    "#### 2. What is the time complexity of each algorithm you have used?"
   ]
  },
  {
   "cell_type": "markdown",
   "id": "7b6d1b62",
   "metadata": {},
   "source": [
    "Let's start saying that there exists a theorem which asserts that every sorting algorithm, that works comparing the elements that should be sorted, has at least a computational cost of $n\\dot log(n)$, where $n$ is the size of the list.   \n",
    "For this question we've decided to use insertion that is probably one of the simplest sorting algorithm but isn't known for being the most optimal one. In fact since for every element of the list we should at most compare it with all the other previous element in the list, we can even have, in the worst case, a computational cost of $n^2$.   \n",
    "Then we've used merge sort algorithm that it's known to have a time complexity of $nlog(n)$ even in the worst case.  \n",
    "The last one is the quicksort that on average works with a computational cost of $nlog(n)$ but there are some cases in which it could have a cost of $n^2$."
   ]
  },
  {
   "cell_type": "code",
   "execution_count": 17,
   "id": "7ed975ab",
   "metadata": {},
   "outputs": [
    {
     "data": {
      "image/png": "[encoded data removed]",
      "text/plain": [
       "<Figure size 576x432 with 1 Axes>"
      ]
     },
     "metadata": {
      "needs_background": "light"
     },
     "output_type": "display_data"
    }
   ],
   "source": [
    "import matplotlib.pyplot as plt\n",
    "import numpy as np\n",
    "import math\n",
    "\n",
    "X = np.arange(1,100)\n",
    "y = np.log(X)*X\n",
    "z = X*X\n",
    "plt.figure(figsize=(8, 6))\n",
    "plt.plot(X, y, color='m', label='n*log(n)', linewidth=4.0)\n",
    "plt.plot(X, z, color='c', label='n*n',linewidth=4.0)\n",
    "plt.xlabel(\"number of students\")\n",
    "plt.ylabel(\"time complexity\")\n",
    "plt.legend()\n",
    "plt.show()"
   ]
  },
  {
   "cell_type": "markdown",
   "id": "473f6111",
   "metadata": {},
   "source": [
    "In the previous plot there are the functions $nlog(n)$ and $n^2$ where n is the number of students.    \n",
    "We've decided to show this plot in order to let you visualize the great gap that we have between the two functions when $n$ is large. In particular we can notice that the more n grows the more the gap increases.    \n",
    "We can assert that if we have to sort a lot of elements is always better to use an algorithm that has a computational time of $nlog(n)$."
   ]
  },
  {
   "cell_type": "markdown",
   "id": "f8f92c22",
   "metadata": {},
   "source": [
    "#### 3. Evaluate the time taken for each of your implementations to answer the query stored in the ApplicantsInfo.txt file and visualize them."
   ]
  },
  {
   "cell_type": "markdown",
   "id": "0934926f",
   "metadata": {},
   "source": [
    "As we've seen before the times taken by the different algorithm are:\n",
    "- **insertion sort**: 7.0 minutes and 40.54 seconds\n",
    "- **merge sort**: 0.0 minutes and 0.96 seconds\n",
    "- **quick sort**: 0.0 minutes and 44.82 seconds\n",
    "\n",
    "Now we are going to study how the computational cost for these 3 sorting algorithms varias as the number of operations, and thus the number of data to be analyzed: obviously the algorithm will require more time if the data are more, but the increase will be different for the tree considered functions.\n",
    "\n",
    "we repeat insertion sort, mergesort, and quicksort repeatedly on sublists of our original list of 50000 data, and each time we save our execution time. for the first try we use 5 sublists.\n",
    "\n",
    "I will then eventually have a list of n (in the first case 5) times where in position 1 i have the time considered for 50000/n data, in second position (50000/n)x2 data, until i have in last position all 50000 data.\n"
   ]
  },
  {
   "cell_type": "code",
   "execution_count": 45,
   "id": "110dc472",
   "metadata": {},
   "outputs": [],
   "source": [
    "d,n,m = read_file()"
   ]
  },
  {
   "cell_type": "code",
   "execution_count": 71,
   "id": "e03d7724",
   "metadata": {},
   "outputs": [],
   "source": [
    "times_insertion = []\n",
    "for t in range(10000,len(d)+1,10000):\n",
    "    dati_time = d[0:t]\n",
    "    start_time = time.time()\n",
    "    insertion_sort(dati_time,t)\n",
    "    end_time = time.time()\n",
    "    times_insertion.append(end_time-start_time)"
   ]
  },
  {
   "cell_type": "code",
   "execution_count": 72,
   "id": "bc8bb6a1",
   "metadata": {},
   "outputs": [
    {
     "name": "stdout",
     "output_type": "stream",
     "text": [
      "[9.605501174926758, 35.42976093292236, 83.02033495903015, 155.9876081943512, 267.435879945755]\n"
     ]
    }
   ],
   "source": [
    "print(times_insertion)"
   ]
  },
  {
   "cell_type": "code",
   "execution_count": 64,
   "id": "e3d5b31f",
   "metadata": {},
   "outputs": [],
   "source": [
    "times_merge = []\n",
    "for t in range(10000,len(d)+1,10000):\n",
    "    dati_time = d[0:t]\n",
    "    start_time = time.time()\n",
    "    merge_sort(dati_time,1,t)\n",
    "    end_time = time.time()\n",
    "    times_merge.append(end_time-start_time)"
   ]
  },
  {
   "cell_type": "code",
   "execution_count": 65,
   "id": "4fded034",
   "metadata": {},
   "outputs": [
    {
     "name": "stdout",
     "output_type": "stream",
     "text": [
      "[0.10887837409973145, 0.23442697525024414, 0.3593471050262451, 0.5308852195739746, 0.6831674575805664]\n"
     ]
    }
   ],
   "source": [
    "print(times_merge)"
   ]
  },
  {
   "cell_type": "code",
   "execution_count": 67,
   "id": "c54c4e3b",
   "metadata": {},
   "outputs": [],
   "source": [
    "times_quick = []\n",
    "for t in range(10000,len(d)+1,10000):\n",
    "    dati_time = d[0:t]\n",
    "    start_time = time.time()\n",
    "    quicksort(dati_time,0,t-1)\n",
    "    end_time = time.time()\n",
    "    times_quick.append(end_time-start_time)"
   ]
  },
  {
   "cell_type": "code",
   "execution_count": 68,
   "id": "8d39d229",
   "metadata": {},
   "outputs": [
    {
     "name": "stdout",
     "output_type": "stream",
     "text": [
      "[1.3605129718780518, 5.343466758728027, 12.016652584075928, 22.834336519241333, 33.944464683532715]\n"
     ]
    }
   ],
   "source": [
    "print(times_quick)"
   ]
  },
  {
   "cell_type": "code",
   "execution_count": 73,
   "id": "f8fe8f79",
   "metadata": {},
   "outputs": [
    {
     "data": {
      "image/png": "[encoded data removed]",
      "text/plain": [
       "<Figure size 576x432 with 1 Axes>"
      ]
     },
     "metadata": {
      "needs_background": "light"
     },
     "output_type": "display_data"
    }
   ],
   "source": [
    "import matplotlib.pyplot as plt\n",
    "import numpy as np\n",
    "import math\n",
    "\n",
    "X = np.arange(10000,50000+1,10000)\n",
    "ins = np.array(times_insertion)\n",
    "mer = np.array(times_merge)\n",
    "qui = np.array(times_quick)\n",
    "plt.figure(figsize=(8, 6))\n",
    "plt.plot(X, ins, color='m',label='insertion',linewidth=4.0)\n",
    "plt.plot(X, mer, color='g',label='merge',linewidth=4.0)\n",
    "plt.plot(X, qui, color='c',label='quick',linewidth=4.0)\n",
    "plt.legend()\n",
    "plt.show()"
   ]
  },
  {
   "cell_type": "markdown",
   "id": "ddb06277",
   "metadata": {},
   "source": [
    "in the graph there are the 3 sorting algorithm (insertion, merge and quick) and their time trend with the increase of number of students to be analyzed."
   ]
  },
  {
   "cell_type": "markdown",
   "id": "2dfbf560",
   "metadata": {},
   "source": [
    "#### 4. What is the most optimal algorithm, in your opinion, and why?"
   ]
  },
  {
   "cell_type": "markdown",
   "id": "adb8ccbf",
   "metadata": {},
   "source": [
    "If we have to take a decision considering only the execution time of the algorithm we may say that the merge sort is the best one since it's the faster one.  \n",
    "But even quick sort when we are not in particular case is a good one because it has a plus over merge sort.   \n",
    "In fact even if merge sort is very fast we can notice that in the function merge we can't reorder the list without creating a new list in which store temporarily the new sorted elements and so we use more memory. Instead in the quick sort we can sort all the elements in loco.   \n",
    "For this reason if we are in the cases in which quick sort takes a time complexity of $nlog(n)$ it's the best one to use."
   ]
  },
  {
   "cell_type": "markdown",
   "id": "cb59ac04",
   "metadata": {},
   "source": [
    "#### 5. Implement a sorting algorithm using MapReduce and compare it against the three algorithms previously implemented using the ApplicantsInfo.txt file."
   ]
  },
  {
   "cell_type": "code",
   "execution_count": null,
   "id": "e7ec71e6",
   "metadata": {},
   "outputs": [],
   "source": []
  }
 ],
 "metadata": {
  "kernelspec": {
   "display_name": "Python 3 (ipykernel)",
   "language": "python",
   "name": "python3"
  },
  "language_info": {
   "codemirror_mode": {
    "name": "ipython",
    "version": 3
   },
   "file_extension": ".py",
   "mimetype": "text/x-python",
   "name": "python",
   "nbconvert_exporter": "python",
   "pygments_lexer": "ipython3",
   "version": "3.9.12"
  },
  "vscode": {
   "interpreter": {
    "hash": "0095c6ec66f02ae1bc8a134f6078f14ee669be44a5c4ac33d7f267434e255fcc"
   }
  }
 },
 "nbformat": 4,
 "nbformat_minor": 5
}
